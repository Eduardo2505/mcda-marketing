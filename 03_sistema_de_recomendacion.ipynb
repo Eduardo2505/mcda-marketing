{
  "nbformat": 4,
  "nbformat_minor": 0,
  "metadata": {
    "kernelspec": {
      "display_name": "Python 3",
      "language": "python",
      "name": "python3"
    },
    "language_info": {
      "codemirror_mode": {
        "name": "ipython",
        "version": 3
      },
      "file_extension": ".py",
      "mimetype": "text/x-python",
      "name": "python",
      "nbconvert_exporter": "python",
      "pygments_lexer": "ipython3",
      "version": "3.7.6"
    },
    "colab": {
      "name": "03_sistema_de_recomendacion.ipynb",
      "provenance": [],
      "collapsed_sections": [],
      "toc_visible": true,
      "include_colab_link": true
    },
    "widgets": {
      "application/vnd.jupyter.widget-state+json": {
        "ad1e9f36f66b4609bb24925c84f05fb3": {
          "model_module": "@jupyter-widgets/controls",
          "model_name": "HBoxModel",
          "state": {
            "_view_name": "HBoxView",
            "_dom_classes": [],
            "_model_name": "HBoxModel",
            "_view_module": "@jupyter-widgets/controls",
            "_model_module_version": "1.5.0",
            "_view_count": null,
            "_view_module_version": "1.5.0",
            "box_style": "",
            "layout": "IPY_MODEL_b9c04d030d7544b0bd0a6d636e40e7ef",
            "_model_module": "@jupyter-widgets/controls",
            "children": [
              "IPY_MODEL_121974d708e24baba7915f60be3f1cac",
              "IPY_MODEL_da27a5788f674982a74b0803bbd441ab"
            ]
          }
        },
        "b9c04d030d7544b0bd0a6d636e40e7ef": {
          "model_module": "@jupyter-widgets/base",
          "model_name": "LayoutModel",
          "state": {
            "_view_name": "LayoutView",
            "grid_template_rows": null,
            "right": null,
            "justify_content": null,
            "_view_module": "@jupyter-widgets/base",
            "overflow": null,
            "_model_module_version": "1.2.0",
            "_view_count": null,
            "flex_flow": null,
            "width": null,
            "min_width": null,
            "border": null,
            "align_items": null,
            "bottom": null,
            "_model_module": "@jupyter-widgets/base",
            "top": null,
            "grid_column": null,
            "overflow_y": null,
            "overflow_x": null,
            "grid_auto_flow": null,
            "grid_area": null,
            "grid_template_columns": null,
            "flex": null,
            "_model_name": "LayoutModel",
            "justify_items": null,
            "grid_row": null,
            "max_height": null,
            "align_content": null,
            "visibility": null,
            "align_self": null,
            "height": null,
            "min_height": null,
            "padding": null,
            "grid_auto_rows": null,
            "grid_gap": null,
            "max_width": null,
            "order": null,
            "_view_module_version": "1.2.0",
            "grid_template_areas": null,
            "object_position": null,
            "object_fit": null,
            "grid_auto_columns": null,
            "margin": null,
            "display": null,
            "left": null
          }
        },
        "121974d708e24baba7915f60be3f1cac": {
          "model_module": "@jupyter-widgets/controls",
          "model_name": "FloatProgressModel",
          "state": {
            "_view_name": "ProgressView",
            "style": "IPY_MODEL_61dd4746b8c1480fb656b41f268bd6f2",
            "_dom_classes": [],
            "description": "100%",
            "_model_name": "FloatProgressModel",
            "bar_style": "success",
            "max": 15,
            "_view_module": "@jupyter-widgets/controls",
            "_model_module_version": "1.5.0",
            "value": 15,
            "_view_count": null,
            "_view_module_version": "1.5.0",
            "orientation": "horizontal",
            "min": 0,
            "description_tooltip": null,
            "_model_module": "@jupyter-widgets/controls",
            "layout": "IPY_MODEL_f1d3cece21da4a4fb4332ab761e36cc5"
          }
        },
        "da27a5788f674982a74b0803bbd441ab": {
          "model_module": "@jupyter-widgets/controls",
          "model_name": "HTMLModel",
          "state": {
            "_view_name": "HTMLView",
            "style": "IPY_MODEL_3e7654275c3849c29c641071999b0fc8",
            "_dom_classes": [],
            "description": "",
            "_model_name": "HTMLModel",
            "placeholder": "​",
            "_view_module": "@jupyter-widgets/controls",
            "_model_module_version": "1.5.0",
            "value": " 15/15 [27:55&lt;00:00, 111.72s/it]",
            "_view_count": null,
            "_view_module_version": "1.5.0",
            "description_tooltip": null,
            "_model_module": "@jupyter-widgets/controls",
            "layout": "IPY_MODEL_8956abe1b59e4bc3986ec758768797be"
          }
        },
        "61dd4746b8c1480fb656b41f268bd6f2": {
          "model_module": "@jupyter-widgets/controls",
          "model_name": "ProgressStyleModel",
          "state": {
            "_view_name": "StyleView",
            "_model_name": "ProgressStyleModel",
            "description_width": "initial",
            "_view_module": "@jupyter-widgets/base",
            "_model_module_version": "1.5.0",
            "_view_count": null,
            "_view_module_version": "1.2.0",
            "bar_color": null,
            "_model_module": "@jupyter-widgets/controls"
          }
        },
        "f1d3cece21da4a4fb4332ab761e36cc5": {
          "model_module": "@jupyter-widgets/base",
          "model_name": "LayoutModel",
          "state": {
            "_view_name": "LayoutView",
            "grid_template_rows": null,
            "right": null,
            "justify_content": null,
            "_view_module": "@jupyter-widgets/base",
            "overflow": null,
            "_model_module_version": "1.2.0",
            "_view_count": null,
            "flex_flow": null,
            "width": null,
            "min_width": null,
            "border": null,
            "align_items": null,
            "bottom": null,
            "_model_module": "@jupyter-widgets/base",
            "top": null,
            "grid_column": null,
            "overflow_y": null,
            "overflow_x": null,
            "grid_auto_flow": null,
            "grid_area": null,
            "grid_template_columns": null,
            "flex": null,
            "_model_name": "LayoutModel",
            "justify_items": null,
            "grid_row": null,
            "max_height": null,
            "align_content": null,
            "visibility": null,
            "align_self": null,
            "height": null,
            "min_height": null,
            "padding": null,
            "grid_auto_rows": null,
            "grid_gap": null,
            "max_width": null,
            "order": null,
            "_view_module_version": "1.2.0",
            "grid_template_areas": null,
            "object_position": null,
            "object_fit": null,
            "grid_auto_columns": null,
            "margin": null,
            "display": null,
            "left": null
          }
        },
        "3e7654275c3849c29c641071999b0fc8": {
          "model_module": "@jupyter-widgets/controls",
          "model_name": "DescriptionStyleModel",
          "state": {
            "_view_name": "StyleView",
            "_model_name": "DescriptionStyleModel",
            "description_width": "",
            "_view_module": "@jupyter-widgets/base",
            "_model_module_version": "1.5.0",
            "_view_count": null,
            "_view_module_version": "1.2.0",
            "_model_module": "@jupyter-widgets/controls"
          }
        },
        "8956abe1b59e4bc3986ec758768797be": {
          "model_module": "@jupyter-widgets/base",
          "model_name": "LayoutModel",
          "state": {
            "_view_name": "LayoutView",
            "grid_template_rows": null,
            "right": null,
            "justify_content": null,
            "_view_module": "@jupyter-widgets/base",
            "overflow": null,
            "_model_module_version": "1.2.0",
            "_view_count": null,
            "flex_flow": null,
            "width": null,
            "min_width": null,
            "border": null,
            "align_items": null,
            "bottom": null,
            "_model_module": "@jupyter-widgets/base",
            "top": null,
            "grid_column": null,
            "overflow_y": null,
            "overflow_x": null,
            "grid_auto_flow": null,
            "grid_area": null,
            "grid_template_columns": null,
            "flex": null,
            "_model_name": "LayoutModel",
            "justify_items": null,
            "grid_row": null,
            "max_height": null,
            "align_content": null,
            "visibility": null,
            "align_self": null,
            "height": null,
            "min_height": null,
            "padding": null,
            "grid_auto_rows": null,
            "grid_gap": null,
            "max_width": null,
            "order": null,
            "_view_module_version": "1.2.0",
            "grid_template_areas": null,
            "object_position": null,
            "object_fit": null,
            "grid_auto_columns": null,
            "margin": null,
            "display": null,
            "left": null
          }
        }
      }
    }
  },
  "cells": [
    {
      "cell_type": "markdown",
      "metadata": {
        "id": "view-in-github",
        "colab_type": "text"
      },
      "source": [
        "<a href=\"https://colab.research.google.com/github/IEXE-Tec/mcda-marketing/blob/main/03_sistema_de_recomendacion.ipynb\" target=\"_parent\"><img src=\"https://colab.research.google.com/assets/colab-badge.svg\" alt=\"Open In Colab\"/></a>"
      ]
    },
    {
      "cell_type": "markdown",
      "metadata": {
        "id": "k1uej9zlGQAQ"
      },
      "source": [
        "Este colab esta basado en las notas y codigo de Jill Cates:   \n",
        "+ Video: https://www.youtube.com/watch?v=v_mONWiFv0k&t=1281s  \n",
        "+ Github: https://github.com/topspinj/recommender-tutorial "
      ]
    },
    {
      "cell_type": "markdown",
      "metadata": {
        "id": "TsS0IG501KOM"
      },
      "source": [
        "# Recomendador Item-Item o Producto-Producto\n"
      ]
    },
    {
      "cell_type": "markdown",
      "metadata": {
        "id": "iC8BBrYE2b8N"
      },
      "source": [
        "Si has usado Netflix, Amazon Prime o algun servicio de streaming de peliculas online seguro has notado la seccion \"Por que viste la Pelicula X ... \". Esta seccion nos da recomendaciones de peliculas que podrian gustarnos basandose en peliculas que ya hemos visto.  \n",
        "\n",
        "En esta primera parte del laboratorio desarrollaremos un sistema de recomendacion item-item usando [filtrado colaborativo](https://es.wikipedia.org/wiki/Filtrado_colaborativo)."
      ]
    },
    {
      "cell_type": "markdown",
      "metadata": {
        "id": "RaL2NcBPxC1P"
      },
      "source": [
        "![image.png](data:image/png;base64,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)"
      ]
    },
    {
      "cell_type": "code",
      "metadata": {
        "colab": {
          "base_uri": "https://localhost:8080/"
        },
        "id": "MPcuqmHTdMBP",
        "outputId": "b99b86c8-b097-4b0d-c1ac-efe713fc2cb4"
      },
      "source": [
        "! pip install fuzzywuzzy"
      ],
      "execution_count": 171,
      "outputs": [
        {
          "output_type": "stream",
          "text": [
            "Collecting fuzzywuzzy\n",
            "  Downloading https://files.pythonhosted.org/packages/43/ff/74f23998ad2f93b945c0309f825be92e04e0348e062026998b5eefef4c33/fuzzywuzzy-0.18.0-py2.py3-none-any.whl\n",
            "Installing collected packages: fuzzywuzzy\n",
            "Successfully installed fuzzywuzzy-0.18.0\n"
          ],
          "name": "stdout"
        }
      ]
    },
    {
      "cell_type": "code",
      "metadata": {
        "colab": {
          "base_uri": "https://localhost:8080/"
        },
        "id": "_rnttwxOdVNg",
        "outputId": "4fee247e-5a38-48b4-ac99-d3b5f929fe80"
      },
      "source": [
        "! pip install python-Levenshtein"
      ],
      "execution_count": 173,
      "outputs": [
        {
          "output_type": "stream",
          "text": [
            "Collecting python-Levenshtein\n",
            "\u001b[?25l  Downloading https://files.pythonhosted.org/packages/2a/dc/97f2b63ef0fa1fd78dcb7195aca577804f6b2b51e712516cc0e902a9a201/python-Levenshtein-0.12.2.tar.gz (50kB)\n",
            "\r\u001b[K     |██████▌                         | 10kB 13.0MB/s eta 0:00:01\r\u001b[K     |█████████████                   | 20kB 13.2MB/s eta 0:00:01\r\u001b[K     |███████████████████▌            | 30kB 10.5MB/s eta 0:00:01\r\u001b[K     |██████████████████████████      | 40kB 7.6MB/s eta 0:00:01\r\u001b[K     |████████████████████████████████| 51kB 2.7MB/s \n",
            "\u001b[?25hRequirement already satisfied: setuptools in /usr/local/lib/python3.7/dist-packages (from python-Levenshtein) (54.2.0)\n",
            "Building wheels for collected packages: python-Levenshtein\n",
            "  Building wheel for python-Levenshtein (setup.py) ... \u001b[?25l\u001b[?25hdone\n",
            "  Created wheel for python-Levenshtein: filename=python_Levenshtein-0.12.2-cp37-cp37m-linux_x86_64.whl size=149807 sha256=21e41e08d3059db059273ee7abaf6bcdbd1632d9e8a67d20f64c1aad2f738030\n",
            "  Stored in directory: /root/.cache/pip/wheels/b3/26/73/4b48503bac73f01cf18e52cd250947049a7f339e940c5df8fc\n",
            "Successfully built python-Levenshtein\n",
            "Installing collected packages: python-Levenshtein\n",
            "Successfully installed python-Levenshtein-0.12.2\n"
          ],
          "name": "stdout"
        }
      ]
    },
    {
      "cell_type": "code",
      "metadata": {
        "colab": {
          "base_uri": "https://localhost:8080/"
        },
        "id": "CkYjy_Zzrpgp",
        "outputId": "ab6c196d-056f-4b21-aece-812fd6403266"
      },
      "source": [
        "! pip install implicit"
      ],
      "execution_count": 215,
      "outputs": [
        {
          "output_type": "stream",
          "text": [
            "Collecting implicit\n",
            "\u001b[?25l  Downloading https://files.pythonhosted.org/packages/bc/07/c0121884722d16e2c5beeb815f6b84b41cbf22e738e4075f1475be2791bc/implicit-0.4.4.tar.gz (1.1MB)\n",
            "\u001b[K     |████████████████████████████████| 1.1MB 5.1MB/s \n",
            "\u001b[?25hRequirement already satisfied: numpy in /usr/local/lib/python3.7/dist-packages (from implicit) (1.19.5)\n",
            "Requirement already satisfied: scipy>=0.16 in /usr/local/lib/python3.7/dist-packages (from implicit) (1.4.1)\n",
            "Requirement already satisfied: tqdm>=4.27 in /usr/local/lib/python3.7/dist-packages (from implicit) (4.41.1)\n",
            "Building wheels for collected packages: implicit\n",
            "  Building wheel for implicit (setup.py) ... \u001b[?25l\u001b[?25hdone\n",
            "  Created wheel for implicit: filename=implicit-0.4.4-cp37-cp37m-linux_x86_64.whl size=3406314 sha256=a003713da610dfb614fc52b5c294354ef5eeac2071ed69291eae7d6c12998b46\n",
            "  Stored in directory: /root/.cache/pip/wheels/bf/d4/ec/fd4f622fcbefb7521f149905295b2c26adecb23af38aa28217\n",
            "Successfully built implicit\n",
            "Installing collected packages: implicit\n",
            "Successfully installed implicit-0.4.4\n"
          ],
          "name": "stdout"
        }
      ]
    },
    {
      "cell_type": "code",
      "metadata": {
        "id": "j9m5EF8b1KOW"
      },
      "source": [
        "import numpy as np\n",
        "import pandas as pd\n",
        "import sklearn\n",
        "import matplotlib.pyplot as plt\n",
        "import seaborn as sns\n",
        "\n",
        "import warnings\n",
        "import implicit\n",
        "warnings.simplefilter(action='ignore', category=FutureWarning)\n",
        "\n",
        "sns.set_style('darkgrid')\n",
        "sns.set(rc={'figure.figsize':(16,6)})"
      ],
      "execution_count": 217,
      "outputs": []
    },
    {
      "cell_type": "markdown",
      "metadata": {
        "id": "s5XTuGPf1KOY"
      },
      "source": [
        "## ETL\n",
        "\n"
      ]
    },
    {
      "cell_type": "markdown",
      "metadata": {
        "id": "wNDSqHHO4DI5"
      },
      "source": [
        "Descarguemos el data set [MovieLens](https://www.wikiwand.com/en/MovieLens). Lo podemos descargar desde un link directo, Amazon o desde github. Son dos bases: **ratings.csv** & **movies.csv**.  \n",
        "+ **github**:\n",
        "+ **amazon**:\n",
        "  - https://s3-us-west-2.amazonaws.com/recommender-tutorial/movies.csv\n",
        "  - https://s3-us-west-2.amazonaws.com/recommender-tutorial/ratings.csv\n",
        "+ **directo**: [here](http://files.grouplens.org/datasets/movielens/ml-latest-small.zip)"
      ]
    },
    {
      "cell_type": "code",
      "metadata": {
        "id": "0fumQpPb1KOa",
        "colab": {
          "base_uri": "https://localhost:8080/",
          "height": 206
        },
        "outputId": "9ce3d0b7-fff9-4704-a402-e1ffa8cd2d94"
      },
      "source": [
        "ratings = pd.read_csv(\"https://raw.githubusercontent.com/IEXE-Tec/mcda-marketing/main/ratings.csv\")\n",
        "ratings.head()"
      ],
      "execution_count": 84,
      "outputs": [
        {
          "output_type": "execute_result",
          "data": {
            "text/html": [
              "<div>\n",
              "<style scoped>\n",
              "    .dataframe tbody tr th:only-of-type {\n",
              "        vertical-align: middle;\n",
              "    }\n",
              "\n",
              "    .dataframe tbody tr th {\n",
              "        vertical-align: top;\n",
              "    }\n",
              "\n",
              "    .dataframe thead th {\n",
              "        text-align: right;\n",
              "    }\n",
              "</style>\n",
              "<table border=\"1\" class=\"dataframe\">\n",
              "  <thead>\n",
              "    <tr style=\"text-align: right;\">\n",
              "      <th></th>\n",
              "      <th>userId</th>\n",
              "      <th>movieId</th>\n",
              "      <th>rating</th>\n",
              "      <th>timestamp</th>\n",
              "    </tr>\n",
              "  </thead>\n",
              "  <tbody>\n",
              "    <tr>\n",
              "      <th>0</th>\n",
              "      <td>1</td>\n",
              "      <td>1</td>\n",
              "      <td>4.0</td>\n",
              "      <td>964982703</td>\n",
              "    </tr>\n",
              "    <tr>\n",
              "      <th>1</th>\n",
              "      <td>1</td>\n",
              "      <td>3</td>\n",
              "      <td>4.0</td>\n",
              "      <td>964981247</td>\n",
              "    </tr>\n",
              "    <tr>\n",
              "      <th>2</th>\n",
              "      <td>1</td>\n",
              "      <td>6</td>\n",
              "      <td>4.0</td>\n",
              "      <td>964982224</td>\n",
              "    </tr>\n",
              "    <tr>\n",
              "      <th>3</th>\n",
              "      <td>1</td>\n",
              "      <td>47</td>\n",
              "      <td>5.0</td>\n",
              "      <td>964983815</td>\n",
              "    </tr>\n",
              "    <tr>\n",
              "      <th>4</th>\n",
              "      <td>1</td>\n",
              "      <td>50</td>\n",
              "      <td>5.0</td>\n",
              "      <td>964982931</td>\n",
              "    </tr>\n",
              "  </tbody>\n",
              "</table>\n",
              "</div>"
            ],
            "text/plain": [
              "   userId  movieId  rating  timestamp\n",
              "0       1        1     4.0  964982703\n",
              "1       1        3     4.0  964981247\n",
              "2       1        6     4.0  964982224\n",
              "3       1       47     5.0  964983815\n",
              "4       1       50     5.0  964982931"
            ]
          },
          "metadata": {
            "tags": []
          },
          "execution_count": 84
        }
      ]
    },
    {
      "cell_type": "code",
      "metadata": {
        "colab": {
          "base_uri": "https://localhost:8080/"
        },
        "id": "4Zw8OROE6Umv",
        "outputId": "136c1da1-d565-47a7-d134-c98cc45e9da3"
      },
      "source": [
        "ratings.info()"
      ],
      "execution_count": 85,
      "outputs": [
        {
          "output_type": "stream",
          "text": [
            "<class 'pandas.core.frame.DataFrame'>\n",
            "RangeIndex: 100836 entries, 0 to 100835\n",
            "Data columns (total 4 columns):\n",
            " #   Column     Non-Null Count   Dtype  \n",
            "---  ------     --------------   -----  \n",
            " 0   userId     100836 non-null  int64  \n",
            " 1   movieId    100836 non-null  int64  \n",
            " 2   rating     100836 non-null  float64\n",
            " 3   timestamp  100836 non-null  int64  \n",
            "dtypes: float64(1), int64(3)\n",
            "memory usage: 3.1 MB\n"
          ],
          "name": "stdout"
        }
      ]
    },
    {
      "cell_type": "code",
      "metadata": {
        "id": "Vy6kSS6t1KOc",
        "colab": {
          "base_uri": "https://localhost:8080/",
          "height": 206
        },
        "outputId": "947d5afc-7647-4379-96fd-86486a26bb6f"
      },
      "source": [
        "movies = pd.read_csv(\"https://raw.githubusercontent.com/IEXE-Tec/mcda-marketing/main/movies.csv\")\n",
        "movies.head()"
      ],
      "execution_count": 86,
      "outputs": [
        {
          "output_type": "execute_result",
          "data": {
            "text/html": [
              "<div>\n",
              "<style scoped>\n",
              "    .dataframe tbody tr th:only-of-type {\n",
              "        vertical-align: middle;\n",
              "    }\n",
              "\n",
              "    .dataframe tbody tr th {\n",
              "        vertical-align: top;\n",
              "    }\n",
              "\n",
              "    .dataframe thead th {\n",
              "        text-align: right;\n",
              "    }\n",
              "</style>\n",
              "<table border=\"1\" class=\"dataframe\">\n",
              "  <thead>\n",
              "    <tr style=\"text-align: right;\">\n",
              "      <th></th>\n",
              "      <th>movieId</th>\n",
              "      <th>title</th>\n",
              "      <th>genres</th>\n",
              "    </tr>\n",
              "  </thead>\n",
              "  <tbody>\n",
              "    <tr>\n",
              "      <th>0</th>\n",
              "      <td>1</td>\n",
              "      <td>Toy Story (1995)</td>\n",
              "      <td>Adventure|Animation|Children|Comedy|Fantasy</td>\n",
              "    </tr>\n",
              "    <tr>\n",
              "      <th>1</th>\n",
              "      <td>2</td>\n",
              "      <td>Jumanji (1995)</td>\n",
              "      <td>Adventure|Children|Fantasy</td>\n",
              "    </tr>\n",
              "    <tr>\n",
              "      <th>2</th>\n",
              "      <td>3</td>\n",
              "      <td>Grumpier Old Men (1995)</td>\n",
              "      <td>Comedy|Romance</td>\n",
              "    </tr>\n",
              "    <tr>\n",
              "      <th>3</th>\n",
              "      <td>4</td>\n",
              "      <td>Waiting to Exhale (1995)</td>\n",
              "      <td>Comedy|Drama|Romance</td>\n",
              "    </tr>\n",
              "    <tr>\n",
              "      <th>4</th>\n",
              "      <td>5</td>\n",
              "      <td>Father of the Bride Part II (1995)</td>\n",
              "      <td>Comedy</td>\n",
              "    </tr>\n",
              "  </tbody>\n",
              "</table>\n",
              "</div>"
            ],
            "text/plain": [
              "   movieId  ...                                       genres\n",
              "0        1  ...  Adventure|Animation|Children|Comedy|Fantasy\n",
              "1        2  ...                   Adventure|Children|Fantasy\n",
              "2        3  ...                               Comedy|Romance\n",
              "3        4  ...                         Comedy|Drama|Romance\n",
              "4        5  ...                                       Comedy\n",
              "\n",
              "[5 rows x 3 columns]"
            ]
          },
          "metadata": {
            "tags": []
          },
          "execution_count": 86
        }
      ]
    },
    {
      "cell_type": "code",
      "metadata": {
        "colab": {
          "base_uri": "https://localhost:8080/"
        },
        "id": "_WOsfnmV6WXX",
        "outputId": "b8382efc-e845-46d6-caec-7cb476eaa838"
      },
      "source": [
        "movies.info()"
      ],
      "execution_count": 87,
      "outputs": [
        {
          "output_type": "stream",
          "text": [
            "<class 'pandas.core.frame.DataFrame'>\n",
            "RangeIndex: 9742 entries, 0 to 9741\n",
            "Data columns (total 3 columns):\n",
            " #   Column   Non-Null Count  Dtype \n",
            "---  ------   --------------  ----- \n",
            " 0   movieId  9742 non-null   int64 \n",
            " 1   title    9742 non-null   object\n",
            " 2   genres   9742 non-null   object\n",
            "dtypes: int64(1), object(2)\n",
            "memory usage: 228.5+ KB\n"
          ],
          "name": "stdout"
        }
      ]
    },
    {
      "cell_type": "markdown",
      "metadata": {
        "id": "Rjykv18nJZGB"
      },
      "source": [
        "## EDA"
      ]
    },
    {
      "cell_type": "markdown",
      "metadata": {
        "id": "XkYW1PGgMBw4"
      },
      "source": [
        "### Variables"
      ]
    },
    {
      "cell_type": "markdown",
      "metadata": {
        "id": "pBr8Hj4J6dlp"
      },
      "source": [
        "Para esta primera parte del proyecto utilizaremos los `Ratings` de los usuarios. Exploremos las particularidades de cada variable."
      ]
    },
    {
      "cell_type": "code",
      "metadata": {
        "id": "el0O-2RY1KOe",
        "colab": {
          "base_uri": "https://localhost:8080/"
        },
        "outputId": "6d071e8e-2ad1-4dda-d7a3-ded53c22c142"
      },
      "source": [
        "n_ratings = len(ratings)\n",
        "n_movies = ratings['movieId'].nunique()\n",
        "n_users = ratings['userId'].nunique()\n",
        "\n",
        "print(f\"Numero de ratings: {n_ratings}\")\n",
        "print(f\"Numero de movieId's unicos: {n_movies}\")\n",
        "print(f\"Numero de usuarios unicos: {n_users}\")\n",
        "print(f\"Numero promedio de ratings generados por usuario: {round(n_ratings/n_users, 2)}\")\n",
        "print(f\"Numero promedio de ratings por pelicula: {round(n_ratings/n_movies, 2)}\")"
      ],
      "execution_count": 88,
      "outputs": [
        {
          "output_type": "stream",
          "text": [
            "Numero de ratings: 100836\n",
            "Numero de movieId's unicos: 9724\n",
            "Numero de usuarios unicos: 610\n",
            "Numero promedio de ratings generados por usuario: 165.3\n",
            "Numero promedio de ratings por pelicula: 10.37\n"
          ],
          "name": "stdout"
        }
      ]
    },
    {
      "cell_type": "markdown",
      "metadata": {
        "id": "L36Xe2to1KOg"
      },
      "source": [
        "Ahora analisemos el comportamiento por usuario"
      ]
    },
    {
      "cell_type": "code",
      "metadata": {
        "id": "OsdXo30D1KOg",
        "colab": {
          "base_uri": "https://localhost:8080/",
          "height": 206
        },
        "outputId": "e86b55cb-0db3-43e7-950f-4956bad54572"
      },
      "source": [
        "user_freq = ratings[['userId', 'movieId']].groupby('userId').count().reset_index()\n",
        "user_freq.columns = ['userId', 'n_ratings']\n",
        "user_freq.head()"
      ],
      "execution_count": 89,
      "outputs": [
        {
          "output_type": "execute_result",
          "data": {
            "text/html": [
              "<div>\n",
              "<style scoped>\n",
              "    .dataframe tbody tr th:only-of-type {\n",
              "        vertical-align: middle;\n",
              "    }\n",
              "\n",
              "    .dataframe tbody tr th {\n",
              "        vertical-align: top;\n",
              "    }\n",
              "\n",
              "    .dataframe thead th {\n",
              "        text-align: right;\n",
              "    }\n",
              "</style>\n",
              "<table border=\"1\" class=\"dataframe\">\n",
              "  <thead>\n",
              "    <tr style=\"text-align: right;\">\n",
              "      <th></th>\n",
              "      <th>userId</th>\n",
              "      <th>n_ratings</th>\n",
              "    </tr>\n",
              "  </thead>\n",
              "  <tbody>\n",
              "    <tr>\n",
              "      <th>0</th>\n",
              "      <td>1</td>\n",
              "      <td>232</td>\n",
              "    </tr>\n",
              "    <tr>\n",
              "      <th>1</th>\n",
              "      <td>2</td>\n",
              "      <td>29</td>\n",
              "    </tr>\n",
              "    <tr>\n",
              "      <th>2</th>\n",
              "      <td>3</td>\n",
              "      <td>39</td>\n",
              "    </tr>\n",
              "    <tr>\n",
              "      <th>3</th>\n",
              "      <td>4</td>\n",
              "      <td>216</td>\n",
              "    </tr>\n",
              "    <tr>\n",
              "      <th>4</th>\n",
              "      <td>5</td>\n",
              "      <td>44</td>\n",
              "    </tr>\n",
              "  </tbody>\n",
              "</table>\n",
              "</div>"
            ],
            "text/plain": [
              "   userId  n_ratings\n",
              "0       1        232\n",
              "1       2         29\n",
              "2       3         39\n",
              "3       4        216\n",
              "4       5         44"
            ]
          },
          "metadata": {
            "tags": []
          },
          "execution_count": 89
        }
      ]
    },
    {
      "cell_type": "code",
      "metadata": {
        "colab": {
          "base_uri": "https://localhost:8080/",
          "height": 300
        },
        "id": "CTbFVMUP7IXr",
        "outputId": "6f3c261a-6dfc-484a-ba63-6c5b7d56aefe"
      },
      "source": [
        "user_freq.describe()"
      ],
      "execution_count": 90,
      "outputs": [
        {
          "output_type": "execute_result",
          "data": {
            "text/html": [
              "<div>\n",
              "<style scoped>\n",
              "    .dataframe tbody tr th:only-of-type {\n",
              "        vertical-align: middle;\n",
              "    }\n",
              "\n",
              "    .dataframe tbody tr th {\n",
              "        vertical-align: top;\n",
              "    }\n",
              "\n",
              "    .dataframe thead th {\n",
              "        text-align: right;\n",
              "    }\n",
              "</style>\n",
              "<table border=\"1\" class=\"dataframe\">\n",
              "  <thead>\n",
              "    <tr style=\"text-align: right;\">\n",
              "      <th></th>\n",
              "      <th>userId</th>\n",
              "      <th>n_ratings</th>\n",
              "    </tr>\n",
              "  </thead>\n",
              "  <tbody>\n",
              "    <tr>\n",
              "      <th>count</th>\n",
              "      <td>610.000000</td>\n",
              "      <td>610.000000</td>\n",
              "    </tr>\n",
              "    <tr>\n",
              "      <th>mean</th>\n",
              "      <td>305.500000</td>\n",
              "      <td>165.304918</td>\n",
              "    </tr>\n",
              "    <tr>\n",
              "      <th>std</th>\n",
              "      <td>176.236111</td>\n",
              "      <td>269.480584</td>\n",
              "    </tr>\n",
              "    <tr>\n",
              "      <th>min</th>\n",
              "      <td>1.000000</td>\n",
              "      <td>20.000000</td>\n",
              "    </tr>\n",
              "    <tr>\n",
              "      <th>25%</th>\n",
              "      <td>153.250000</td>\n",
              "      <td>35.000000</td>\n",
              "    </tr>\n",
              "    <tr>\n",
              "      <th>50%</th>\n",
              "      <td>305.500000</td>\n",
              "      <td>70.500000</td>\n",
              "    </tr>\n",
              "    <tr>\n",
              "      <th>75%</th>\n",
              "      <td>457.750000</td>\n",
              "      <td>168.000000</td>\n",
              "    </tr>\n",
              "    <tr>\n",
              "      <th>max</th>\n",
              "      <td>610.000000</td>\n",
              "      <td>2698.000000</td>\n",
              "    </tr>\n",
              "  </tbody>\n",
              "</table>\n",
              "</div>"
            ],
            "text/plain": [
              "           userId    n_ratings\n",
              "count  610.000000   610.000000\n",
              "mean   305.500000   165.304918\n",
              "std    176.236111   269.480584\n",
              "min      1.000000    20.000000\n",
              "25%    153.250000    35.000000\n",
              "50%    305.500000    70.500000\n",
              "75%    457.750000   168.000000\n",
              "max    610.000000  2698.000000"
            ]
          },
          "metadata": {
            "tags": []
          },
          "execution_count": 90
        }
      ]
    },
    {
      "cell_type": "markdown",
      "metadata": {
        "id": "mm2gCHQz7bJ_"
      },
      "source": [
        "+ En **promedio** cada usuario ha calificado 165 peliculas, esto es una buena noticia.  \n",
        "+ Tenemos una **mediana** de 75, muy por abajo de la media, lo que quiere decir que nuestra distribucion tiene colas largas.\n",
        "+ El usuario que ha calificado menos peliculas es 20, lo cual no esta nada mal.  "
      ]
    },
    {
      "cell_type": "code",
      "metadata": {
        "colab": {
          "base_uri": "https://localhost:8080/"
        },
        "id": "HK9OM_7f8S7s",
        "outputId": "9c17796b-8847-4b8a-c016-eb212127b8d9"
      },
      "source": [
        "ratings['rating'].describe()"
      ],
      "execution_count": 91,
      "outputs": [
        {
          "output_type": "execute_result",
          "data": {
            "text/plain": [
              "count    100836.000000\n",
              "mean          3.501557\n",
              "std           1.042529\n",
              "min           0.500000\n",
              "25%           3.000000\n",
              "50%           3.500000\n",
              "75%           4.000000\n",
              "max           5.000000\n",
              "Name: rating, dtype: float64"
            ]
          },
          "metadata": {
            "tags": []
          },
          "execution_count": 91
        }
      ]
    },
    {
      "cell_type": "markdown",
      "metadata": {
        "id": "C32JAYo98Y4H"
      },
      "source": [
        "Podemos obserbar que nuestros usuarios son lo que Jill llama optimistas. Veamos el percentil 25, de este podemos deducir que por lo menos el 75% de las calificaciones son mayores o iguales a 3."
      ]
    },
    {
      "cell_type": "markdown",
      "metadata": {
        "id": "HK-ZV70L7x04"
      },
      "source": [
        "Ahora analicemos las distribuciones"
      ]
    },
    {
      "cell_type": "code",
      "metadata": {
        "id": "xgK8axXu1KOl",
        "colab": {
          "base_uri": "https://localhost:8080/",
          "height": 355
        },
        "outputId": "32409463-fb6a-46d9-a1f5-cd7a4eb1b22f"
      },
      "source": [
        "sns.set_style(\"whitegrid\")\n",
        "plt.figure(figsize=(14,5))\n",
        "plt.subplot(1,2,1)\n",
        "ax = sns.countplot(x=\"rating\", data=ratings, palette=\"viridis\")\n",
        "plt.title(\"Distribucion de ratings de peliculas\")\n",
        "\n",
        "plt.subplot(1,2,2)\n",
        "ax = sns.kdeplot(user_freq['n_ratings'], shade=True, legend=False)\n",
        "plt.axvline(user_freq['n_ratings'].mean(), color=\"k\", linestyle=\"--\")\n",
        "plt.xlabel(\"# ratings por usuario\")\n",
        "plt.ylabel(\"densidad\")\n",
        "plt.title(\"Numero de peliculas calificadas (rated) por usuario\")\n",
        "plt.show()"
      ],
      "execution_count": 92,
      "outputs": [
        {
          "output_type": "display_data",
          "data": {
            "image/png": "[encoded data removed]",
            "text/plain": [
              "<Figure size 1008x360 with 2 Axes>"
            ]
          },
          "metadata": {
            "tags": []
          }
        }
      ]
    },
    {
      "cell_type": "markdown",
      "metadata": {
        "id": "j1FTuAsI1KOl"
      },
      "source": [
        "Podemos observar que nuestras calificacione so ratings estan sesgados hacia la izquierdam parece que las personas son bastante optimistas."
      ]
    },
    {
      "cell_type": "markdown",
      "metadata": {
        "id": "5E1-N6xq1KOn"
      },
      "source": [
        "### Que peliculas tiene los ratings mas extremos?"
      ]
    },
    {
      "cell_type": "code",
      "metadata": {
        "id": "nndpR5jE1KOn",
        "colab": {
          "base_uri": "https://localhost:8080/",
          "height": 81
        },
        "outputId": "80ab099d-29dc-4692-b8c4-474cfec5af86"
      },
      "source": [
        "mean_rating = ratings.groupby('movieId')[['rating']].mean()\n",
        "\n",
        "lowest_rated = mean_rating['rating'].idxmin()\n",
        "movies.loc[movies['movieId'] == lowest_rated]"
      ],
      "execution_count": 93,
      "outputs": [
        {
          "output_type": "execute_result",
          "data": {
            "text/html": [
              "<div>\n",
              "<style scoped>\n",
              "    .dataframe tbody tr th:only-of-type {\n",
              "        vertical-align: middle;\n",
              "    }\n",
              "\n",
              "    .dataframe tbody tr th {\n",
              "        vertical-align: top;\n",
              "    }\n",
              "\n",
              "    .dataframe thead th {\n",
              "        text-align: right;\n",
              "    }\n",
              "</style>\n",
              "<table border=\"1\" class=\"dataframe\">\n",
              "  <thead>\n",
              "    <tr style=\"text-align: right;\">\n",
              "      <th></th>\n",
              "      <th>movieId</th>\n",
              "      <th>title</th>\n",
              "      <th>genres</th>\n",
              "    </tr>\n",
              "  </thead>\n",
              "  <tbody>\n",
              "    <tr>\n",
              "      <th>2689</th>\n",
              "      <td>3604</td>\n",
              "      <td>Gypsy (1962)</td>\n",
              "      <td>Musical</td>\n",
              "    </tr>\n",
              "  </tbody>\n",
              "</table>\n",
              "</div>"
            ],
            "text/plain": [
              "      movieId         title   genres\n",
              "2689     3604  Gypsy (1962)  Musical"
            ]
          },
          "metadata": {
            "tags": []
          },
          "execution_count": 93
        }
      ]
    },
    {
      "cell_type": "code",
      "metadata": {
        "id": "HNfoqZqZ1KOn",
        "colab": {
          "base_uri": "https://localhost:8080/",
          "height": 81
        },
        "outputId": "a642f2d7-eec1-4676-d96b-e9886154073f"
      },
      "source": [
        "highest_rated = mean_rating['rating'].idxmax()\n",
        "movies.loc[movies['movieId'] == highest_rated]"
      ],
      "execution_count": 94,
      "outputs": [
        {
          "output_type": "execute_result",
          "data": {
            "text/html": [
              "<div>\n",
              "<style scoped>\n",
              "    .dataframe tbody tr th:only-of-type {\n",
              "        vertical-align: middle;\n",
              "    }\n",
              "\n",
              "    .dataframe tbody tr th {\n",
              "        vertical-align: top;\n",
              "    }\n",
              "\n",
              "    .dataframe thead th {\n",
              "        text-align: right;\n",
              "    }\n",
              "</style>\n",
              "<table border=\"1\" class=\"dataframe\">\n",
              "  <thead>\n",
              "    <tr style=\"text-align: right;\">\n",
              "      <th></th>\n",
              "      <th>movieId</th>\n",
              "      <th>title</th>\n",
              "      <th>genres</th>\n",
              "    </tr>\n",
              "  </thead>\n",
              "  <tbody>\n",
              "    <tr>\n",
              "      <th>48</th>\n",
              "      <td>53</td>\n",
              "      <td>Lamerica (1994)</td>\n",
              "      <td>Adventure|Drama</td>\n",
              "    </tr>\n",
              "  </tbody>\n",
              "</table>\n",
              "</div>"
            ],
            "text/plain": [
              "    movieId            title           genres\n",
              "48       53  Lamerica (1994)  Adventure|Drama"
            ]
          },
          "metadata": {
            "tags": []
          },
          "execution_count": 94
        }
      ]
    },
    {
      "cell_type": "markdown",
      "metadata": {
        "id": "0DeSHLv81KOo"
      },
      "source": [
        "Lamerica es la pelicula con mejores calificaciones, pero cuantas calificaciones tiene?"
      ]
    },
    {
      "cell_type": "code",
      "metadata": {
        "id": "_4cla8Bj1KOo",
        "colab": {
          "base_uri": "https://localhost:8080/",
          "height": 112
        },
        "outputId": "2efb79bd-cbb0-4b32-d8b4-70952987d4cb"
      },
      "source": [
        "ratings[ratings['movieId']==highest_rated]"
      ],
      "execution_count": 95,
      "outputs": [
        {
          "output_type": "execute_result",
          "data": {
            "text/html": [
              "<div>\n",
              "<style scoped>\n",
              "    .dataframe tbody tr th:only-of-type {\n",
              "        vertical-align: middle;\n",
              "    }\n",
              "\n",
              "    .dataframe tbody tr th {\n",
              "        vertical-align: top;\n",
              "    }\n",
              "\n",
              "    .dataframe thead th {\n",
              "        text-align: right;\n",
              "    }\n",
              "</style>\n",
              "<table border=\"1\" class=\"dataframe\">\n",
              "  <thead>\n",
              "    <tr style=\"text-align: right;\">\n",
              "      <th></th>\n",
              "      <th>userId</th>\n",
              "      <th>movieId</th>\n",
              "      <th>rating</th>\n",
              "      <th>timestamp</th>\n",
              "    </tr>\n",
              "  </thead>\n",
              "  <tbody>\n",
              "    <tr>\n",
              "      <th>13368</th>\n",
              "      <td>85</td>\n",
              "      <td>53</td>\n",
              "      <td>5.0</td>\n",
              "      <td>889468268</td>\n",
              "    </tr>\n",
              "    <tr>\n",
              "      <th>96115</th>\n",
              "      <td>603</td>\n",
              "      <td>53</td>\n",
              "      <td>5.0</td>\n",
              "      <td>963180003</td>\n",
              "    </tr>\n",
              "  </tbody>\n",
              "</table>\n",
              "</div>"
            ],
            "text/plain": [
              "       userId  movieId  rating  timestamp\n",
              "13368      85       53     5.0  889468268\n",
              "96115     603       53     5.0  963180003"
            ]
          },
          "metadata": {
            "tags": []
          },
          "execution_count": 95
        }
      ]
    },
    {
      "cell_type": "markdown",
      "metadata": {
        "id": "X9njsXC41KOp"
      },
      "source": [
        "Podemos obserbar que Lamerica solo tiene dos calificaciones, lo que nos plantea el problema de tener muestras pequeñas. Recordemos que muestras pequeñas tiended a tener resultados extremos ya sea altos o bajos.\n",
        "\n"
      ]
    },
    {
      "cell_type": "markdown",
      "metadata": {
        "id": "VHA8gDsrMHSg"
      },
      "source": [
        "### Distribucion de Ratings"
      ]
    },
    {
      "cell_type": "code",
      "metadata": {
        "colab": {
          "base_uri": "https://localhost:8080/",
          "height": 206
        },
        "id": "YPSzghwW9aOP",
        "outputId": "88eeb13f-4cb0-43e6-f724-f68eb5398407"
      },
      "source": [
        "ratings_per_movie = ratings.groupby('movieId', as_index=False).agg({'rating':['count', 'mean', 'std']})\n",
        "ratings_per_movie.columns = ['movieId', 'n_ratings', 'mean_ratings', 'std_ratings']\n",
        "ratings_per_movie.head()"
      ],
      "execution_count": 96,
      "outputs": [
        {
          "output_type": "execute_result",
          "data": {
            "text/html": [
              "<div>\n",
              "<style scoped>\n",
              "    .dataframe tbody tr th:only-of-type {\n",
              "        vertical-align: middle;\n",
              "    }\n",
              "\n",
              "    .dataframe tbody tr th {\n",
              "        vertical-align: top;\n",
              "    }\n",
              "\n",
              "    .dataframe thead th {\n",
              "        text-align: right;\n",
              "    }\n",
              "</style>\n",
              "<table border=\"1\" class=\"dataframe\">\n",
              "  <thead>\n",
              "    <tr style=\"text-align: right;\">\n",
              "      <th></th>\n",
              "      <th>movieId</th>\n",
              "      <th>n_ratings</th>\n",
              "      <th>mean_ratings</th>\n",
              "      <th>std_ratings</th>\n",
              "    </tr>\n",
              "  </thead>\n",
              "  <tbody>\n",
              "    <tr>\n",
              "      <th>0</th>\n",
              "      <td>1</td>\n",
              "      <td>215</td>\n",
              "      <td>3.920930</td>\n",
              "      <td>0.834859</td>\n",
              "    </tr>\n",
              "    <tr>\n",
              "      <th>1</th>\n",
              "      <td>2</td>\n",
              "      <td>110</td>\n",
              "      <td>3.431818</td>\n",
              "      <td>0.881713</td>\n",
              "    </tr>\n",
              "    <tr>\n",
              "      <th>2</th>\n",
              "      <td>3</td>\n",
              "      <td>52</td>\n",
              "      <td>3.259615</td>\n",
              "      <td>1.054823</td>\n",
              "    </tr>\n",
              "    <tr>\n",
              "      <th>3</th>\n",
              "      <td>4</td>\n",
              "      <td>7</td>\n",
              "      <td>2.357143</td>\n",
              "      <td>0.852168</td>\n",
              "    </tr>\n",
              "    <tr>\n",
              "      <th>4</th>\n",
              "      <td>5</td>\n",
              "      <td>49</td>\n",
              "      <td>3.071429</td>\n",
              "      <td>0.907148</td>\n",
              "    </tr>\n",
              "  </tbody>\n",
              "</table>\n",
              "</div>"
            ],
            "text/plain": [
              "   movieId  n_ratings  mean_ratings  std_ratings\n",
              "0        1        215      3.920930     0.834859\n",
              "1        2        110      3.431818     0.881713\n",
              "2        3         52      3.259615     1.054823\n",
              "3        4          7      2.357143     0.852168\n",
              "4        5         49      3.071429     0.907148"
            ]
          },
          "metadata": {
            "tags": []
          },
          "execution_count": 96
        }
      ]
    },
    {
      "cell_type": "code",
      "metadata": {
        "colab": {
          "base_uri": "https://localhost:8080/",
          "height": 412
        },
        "id": "5UT6d9Zp-S57",
        "outputId": "c3df32a8-c2ef-43be-f17c-da06b92f42bf"
      },
      "source": [
        "sns.scatterplot(data=ratings_per_movie, x='n_ratings', y='mean_ratings')"
      ],
      "execution_count": 97,
      "outputs": [
        {
          "output_type": "execute_result",
          "data": {
            "text/plain": [
              "<matplotlib.axes._subplots.AxesSubplot at 0x7ff6644dfb90>"
            ]
          },
          "metadata": {
            "tags": []
          },
          "execution_count": 97
        },
        {
          "output_type": "display_data",
          "data": {
            "image/png": "[encoded data removed]",
            "text/plain": [
              "<Figure size 1152x432 with 1 Axes>"
            ]
          },
          "metadata": {
            "tags": []
          }
        }
      ]
    },
    {
      "cell_type": "code",
      "metadata": {
        "colab": {
          "base_uri": "https://localhost:8080/",
          "height": 412
        },
        "id": "HfvynFEe_R34",
        "outputId": "9b2b227f-2062-4587-bc92-b330660ab3cb"
      },
      "source": [
        "sns.scatterplot(data=ratings_per_movie, x='n_ratings', y='std_ratings')"
      ],
      "execution_count": 98,
      "outputs": [
        {
          "output_type": "execute_result",
          "data": {
            "text/plain": [
              "<matplotlib.axes._subplots.AxesSubplot at 0x7ff664467150>"
            ]
          },
          "metadata": {
            "tags": []
          },
          "execution_count": 98
        },
        {
          "output_type": "display_data",
          "data": {
            "image/png": "[encoded data removed]",
            "text/plain": [
              "<Figure size 1152x432 with 1 Axes>"
            ]
          },
          "metadata": {
            "tags": []
          }
        }
      ]
    },
    {
      "cell_type": "markdown",
      "metadata": {
        "id": "vIVwKpuxAmWW"
      },
      "source": [
        "Podemos observar como a menor numero de calificaciones mayor variacion, estre mas calificaciones tenemos menor varianza promedio. Esto corresponde con la hipotesis de que hay mas varianza con pocas calificaciones.  \n",
        "Podemos ver a las pelicuals con pocas calificaciones como **outliers**. realmente no queremos que sesguen nuestro analisis, por lo que hay que tomar medidas."
      ]
    },
    {
      "cell_type": "markdown",
      "metadata": {
        "id": "lWCD6APH9NMv"
      },
      "source": [
        "Para controlar por este fenomeno y hacer a nuestro modelo mas robusto podemos utilizar el **Promedio Bayesiano** [Bayesian average](https://en.wikipedia.org/wiki/Bayesian_average)."
      ]
    },
    {
      "cell_type": "markdown",
      "metadata": {
        "id": "aZvWLvwL1KOp"
      },
      "source": [
        "### Bayesian Average\n",
        "\n",
        "\n"
      ]
    },
    {
      "cell_type": "markdown",
      "metadata": {
        "id": "R5zjWxtOHgty"
      },
      "source": [
        "La media Bayesiana se define como:\n",
        "\n",
        "$r_{i} = \\frac{C \\times m + \\ \\Sigma{ \\ \\text{reviews}}}{C+N}$  \n",
        "\n",
        "+ $C:=$ representa cuanto valoramos nuestro valor inicial o confianza. Cuanto valoramos nuestras creencias (belief)?\n",
        "+ $m:=$ representa nuestro prior. Cual creemos que es el valor real?\n",
        "+ $N:=$ es el total de reviews para la pelicula $i$.  \n",
        "\n",
        "\n",
        "Para nuestro modelos sugerimos que $m$ sea la media de nuestra muestra (`ratings['rating'].mean()`). Por la eleccion de nuestra prior, $C$ representa \"el numero de observaciones de nuestro dataset\". Entonces $C$ puede ser el numero promedio de ratings por pelicula, osea, cuantos calificaciones ne promedio tiene una pelicula.  \n",
        "\n",
        "Podemos entender el promedio bayesiano como un promedio ponderado, donde el factor de ponderacion esta dado por el promedio de reviews en todas la peliculas $C$, mientras que la otra ponderacion esta dada por los reviews de la pelicula que estemos analizando $N$.  \n",
        "$r_{i} = \\frac{C \\times m }{C+N} + \\frac{\\Sigma{ \\ \\text{reviews}}}{C+N}$  \n",
        "  \n",
        "$r_{i} = \\frac{C}{C+N}\\times m + \\frac{N}{C+N}\\times \\mu_{reviews}$\n"
      ]
    },
    {
      "cell_type": "code",
      "metadata": {
        "id": "3ekOr7ur1KOp"
      },
      "source": [
        "movie_stats = ratings.groupby('movieId')[['rating']].agg(['count', 'mean'])\n",
        "movie_stats.columns = movie_stats.columns.droplevel()"
      ],
      "execution_count": 99,
      "outputs": []
    },
    {
      "cell_type": "code",
      "metadata": {
        "id": "uRVcJ8no1KOq"
      },
      "source": [
        "C = movie_stats['count'].mean()\n",
        "m = movie_stats['mean'].mean()\n",
        "\n",
        "def bayesian_avg(ratings):\n",
        "    bayesian_avg = (C*m+ratings.sum())/(C+ratings.count())\n",
        "    return bayesian_avg\n",
        "\n",
        "bayesian_avg_ratings = ratings.groupby('movieId')['rating'].agg(bayesian_avg).reset_index()\n",
        "bayesian_avg_ratings.columns = ['movieId', 'bayesian_avg']\n",
        "movie_stats = movie_stats.merge(bayesian_avg_ratings, on='movieId')"
      ],
      "execution_count": 100,
      "outputs": []
    },
    {
      "cell_type": "code",
      "metadata": {
        "id": "GZEYosR-1KOr",
        "colab": {
          "base_uri": "https://localhost:8080/",
          "height": 206
        },
        "outputId": "35f52ae6-7eb8-4cc6-ef42-01cd3354be22"
      },
      "source": [
        "movie_stats = movie_stats.merge(movies[['movieId', 'title']])\n",
        "# Diferencia entre media real y media bayesiana\n",
        "movie_stats['diff'] = movie_stats['mean'] - movie_stats['bayesian_avg'] \n",
        "movie_stats.sort_values('bayesian_avg', ascending=False).head()"
      ],
      "execution_count": 101,
      "outputs": [
        {
          "output_type": "execute_result",
          "data": {
            "text/html": [
              "<div>\n",
              "<style scoped>\n",
              "    .dataframe tbody tr th:only-of-type {\n",
              "        vertical-align: middle;\n",
              "    }\n",
              "\n",
              "    .dataframe tbody tr th {\n",
              "        vertical-align: top;\n",
              "    }\n",
              "\n",
              "    .dataframe thead th {\n",
              "        text-align: right;\n",
              "    }\n",
              "</style>\n",
              "<table border=\"1\" class=\"dataframe\">\n",
              "  <thead>\n",
              "    <tr style=\"text-align: right;\">\n",
              "      <th></th>\n",
              "      <th>movieId</th>\n",
              "      <th>count</th>\n",
              "      <th>mean</th>\n",
              "      <th>bayesian_avg</th>\n",
              "      <th>title</th>\n",
              "      <th>diff</th>\n",
              "    </tr>\n",
              "  </thead>\n",
              "  <tbody>\n",
              "    <tr>\n",
              "      <th>277</th>\n",
              "      <td>318</td>\n",
              "      <td>317</td>\n",
              "      <td>4.429022</td>\n",
              "      <td>4.392070</td>\n",
              "      <td>Shawshank Redemption, The (1994)</td>\n",
              "      <td>0.036953</td>\n",
              "    </tr>\n",
              "    <tr>\n",
              "      <th>659</th>\n",
              "      <td>858</td>\n",
              "      <td>192</td>\n",
              "      <td>4.289062</td>\n",
              "      <td>4.236457</td>\n",
              "      <td>Godfather, The (1972)</td>\n",
              "      <td>0.052606</td>\n",
              "    </tr>\n",
              "    <tr>\n",
              "      <th>2224</th>\n",
              "      <td>2959</td>\n",
              "      <td>218</td>\n",
              "      <td>4.272936</td>\n",
              "      <td>4.227052</td>\n",
              "      <td>Fight Club (1999)</td>\n",
              "      <td>0.045884</td>\n",
              "    </tr>\n",
              "    <tr>\n",
              "      <th>224</th>\n",
              "      <td>260</td>\n",
              "      <td>251</td>\n",
              "      <td>4.231076</td>\n",
              "      <td>4.192646</td>\n",
              "      <td>Star Wars: Episode IV - A New Hope (1977)</td>\n",
              "      <td>0.038430</td>\n",
              "    </tr>\n",
              "    <tr>\n",
              "      <th>46</th>\n",
              "      <td>50</td>\n",
              "      <td>204</td>\n",
              "      <td>4.237745</td>\n",
              "      <td>4.190567</td>\n",
              "      <td>Usual Suspects, The (1995)</td>\n",
              "      <td>0.047178</td>\n",
              "    </tr>\n",
              "  </tbody>\n",
              "</table>\n",
              "</div>"
            ],
            "text/plain": [
              "      movieId  count  ...                                      title      diff\n",
              "277       318    317  ...           Shawshank Redemption, The (1994)  0.036953\n",
              "659       858    192  ...                      Godfather, The (1972)  0.052606\n",
              "2224     2959    218  ...                          Fight Club (1999)  0.045884\n",
              "224       260    251  ...  Star Wars: Episode IV - A New Hope (1977)  0.038430\n",
              "46         50    204  ...                 Usual Suspects, The (1995)  0.047178\n",
              "\n",
              "[5 rows x 6 columns]"
            ]
          },
          "metadata": {
            "tags": []
          },
          "execution_count": 101
        }
      ]
    },
    {
      "cell_type": "code",
      "metadata": {
        "colab": {
          "base_uri": "https://localhost:8080/",
          "height": 415
        },
        "id": "uL2vhwF0J264",
        "outputId": "914c8595-e1a6-4d4e-f991-05be4977fb15"
      },
      "source": [
        "sns.scatterplot(data=movie_stats, x='mean', y='bayesian_avg')"
      ],
      "execution_count": 102,
      "outputs": [
        {
          "output_type": "execute_result",
          "data": {
            "text/plain": [
              "<matplotlib.axes._subplots.AxesSubplot at 0x7ff6643cf2d0>"
            ]
          },
          "metadata": {
            "tags": []
          },
          "execution_count": 102
        },
        {
          "output_type": "display_data",
          "data": {
            "image/png": "[encoded data removed]",
            "text/plain": [
              "<Figure size 1152x432 with 1 Axes>"
            ]
          },
          "metadata": {
            "tags": []
          }
        }
      ]
    },
    {
      "cell_type": "markdown",
      "metadata": {
        "id": "2TG2QKPPKsgY"
      },
      "source": [
        "Podemos observar que la relacion entre ambas es casi lineal, pero se ve distorsionada en peliculas con rating muy alto o bajo. Esto se debe a que los ratings extremos, ya sean altos o bajos estan relacionados a un numero bajo de observaciones."
      ]
    },
    {
      "cell_type": "code",
      "metadata": {
        "colab": {
          "base_uri": "https://localhost:8080/",
          "height": 412
        },
        "id": "vMCrLAa4KMMr",
        "outputId": "d5017a9a-85ca-41e6-962a-ff55924c2cd4"
      },
      "source": [
        "sns.scatterplot(data=movie_stats, x='count', y='diff')"
      ],
      "execution_count": 103,
      "outputs": [
        {
          "output_type": "execute_result",
          "data": {
            "text/plain": [
              "<matplotlib.axes._subplots.AxesSubplot at 0x7ff664350390>"
            ]
          },
          "metadata": {
            "tags": []
          },
          "execution_count": 103
        },
        {
          "output_type": "display_data",
          "data": {
            "image/png": "[encoded data removed]",
            "text/plain": [
              "<Figure size 1152x432 with 1 Axes>"
            ]
          },
          "metadata": {
            "tags": []
          }
        }
      ]
    },
    {
      "cell_type": "markdown",
      "metadata": {
        "id": "QGKH4pIxKHtF"
      },
      "source": [
        "Podemos observar como la diferencia enntre la media de ratings, y la media bayesiana tiende a cero entre mas revies tenga, mientras que la diferencia es mas grande para las pelicuals que tienen pocos ratings."
      ]
    },
    {
      "cell_type": "markdown",
      "metadata": {
        "id": "29Dil96c1KOt"
      },
      "source": [
        "Usando la media bayesiana, podemos ver que `Shawshank Redemption`, `The Godfather`, y `Fight Club` son las peliculas con mejores ratings. "
      ]
    },
    {
      "cell_type": "code",
      "metadata": {
        "colab": {
          "base_uri": "https://localhost:8080/",
          "height": 206
        },
        "id": "kgY4EngkLHV-",
        "outputId": "5bc3af1d-1d84-4bbb-ecd8-e127f0809be7"
      },
      "source": [
        "movie_stats.sort_values('bayesian_avg', ascending=False).head()"
      ],
      "execution_count": 104,
      "outputs": [
        {
          "output_type": "execute_result",
          "data": {
            "text/html": [
              "<div>\n",
              "<style scoped>\n",
              "    .dataframe tbody tr th:only-of-type {\n",
              "        vertical-align: middle;\n",
              "    }\n",
              "\n",
              "    .dataframe tbody tr th {\n",
              "        vertical-align: top;\n",
              "    }\n",
              "\n",
              "    .dataframe thead th {\n",
              "        text-align: right;\n",
              "    }\n",
              "</style>\n",
              "<table border=\"1\" class=\"dataframe\">\n",
              "  <thead>\n",
              "    <tr style=\"text-align: right;\">\n",
              "      <th></th>\n",
              "      <th>movieId</th>\n",
              "      <th>count</th>\n",
              "      <th>mean</th>\n",
              "      <th>bayesian_avg</th>\n",
              "      <th>title</th>\n",
              "      <th>diff</th>\n",
              "    </tr>\n",
              "  </thead>\n",
              "  <tbody>\n",
              "    <tr>\n",
              "      <th>277</th>\n",
              "      <td>318</td>\n",
              "      <td>317</td>\n",
              "      <td>4.429022</td>\n",
              "      <td>4.392070</td>\n",
              "      <td>Shawshank Redemption, The (1994)</td>\n",
              "      <td>0.036953</td>\n",
              "    </tr>\n",
              "    <tr>\n",
              "      <th>659</th>\n",
              "      <td>858</td>\n",
              "      <td>192</td>\n",
              "      <td>4.289062</td>\n",
              "      <td>4.236457</td>\n",
              "      <td>Godfather, The (1972)</td>\n",
              "      <td>0.052606</td>\n",
              "    </tr>\n",
              "    <tr>\n",
              "      <th>2224</th>\n",
              "      <td>2959</td>\n",
              "      <td>218</td>\n",
              "      <td>4.272936</td>\n",
              "      <td>4.227052</td>\n",
              "      <td>Fight Club (1999)</td>\n",
              "      <td>0.045884</td>\n",
              "    </tr>\n",
              "    <tr>\n",
              "      <th>224</th>\n",
              "      <td>260</td>\n",
              "      <td>251</td>\n",
              "      <td>4.231076</td>\n",
              "      <td>4.192646</td>\n",
              "      <td>Star Wars: Episode IV - A New Hope (1977)</td>\n",
              "      <td>0.038430</td>\n",
              "    </tr>\n",
              "    <tr>\n",
              "      <th>46</th>\n",
              "      <td>50</td>\n",
              "      <td>204</td>\n",
              "      <td>4.237745</td>\n",
              "      <td>4.190567</td>\n",
              "      <td>Usual Suspects, The (1995)</td>\n",
              "      <td>0.047178</td>\n",
              "    </tr>\n",
              "  </tbody>\n",
              "</table>\n",
              "</div>"
            ],
            "text/plain": [
              "      movieId  count  ...                                      title      diff\n",
              "277       318    317  ...           Shawshank Redemption, The (1994)  0.036953\n",
              "659       858    192  ...                      Godfather, The (1972)  0.052606\n",
              "2224     2959    218  ...                          Fight Club (1999)  0.045884\n",
              "224       260    251  ...  Star Wars: Episode IV - A New Hope (1977)  0.038430\n",
              "46         50    204  ...                 Usual Suspects, The (1995)  0.047178\n",
              "\n",
              "[5 rows x 6 columns]"
            ]
          },
          "metadata": {
            "tags": []
          },
          "execution_count": 104
        }
      ]
    },
    {
      "cell_type": "code",
      "metadata": {
        "id": "uY3A-j3x1KOt",
        "colab": {
          "base_uri": "https://localhost:8080/",
          "height": 206
        },
        "outputId": "f1cc4df5-9499-4ff0-dee2-fe81e7e529b4"
      },
      "source": [
        "movie_stats.sort_values('bayesian_avg', ascending=True).head()"
      ],
      "execution_count": 105,
      "outputs": [
        {
          "output_type": "execute_result",
          "data": {
            "text/html": [
              "<div>\n",
              "<style scoped>\n",
              "    .dataframe tbody tr th:only-of-type {\n",
              "        vertical-align: middle;\n",
              "    }\n",
              "\n",
              "    .dataframe tbody tr th {\n",
              "        vertical-align: top;\n",
              "    }\n",
              "\n",
              "    .dataframe thead th {\n",
              "        text-align: right;\n",
              "    }\n",
              "</style>\n",
              "<table border=\"1\" class=\"dataframe\">\n",
              "  <thead>\n",
              "    <tr style=\"text-align: right;\">\n",
              "      <th></th>\n",
              "      <th>movieId</th>\n",
              "      <th>count</th>\n",
              "      <th>mean</th>\n",
              "      <th>bayesian_avg</th>\n",
              "      <th>title</th>\n",
              "      <th>diff</th>\n",
              "    </tr>\n",
              "  </thead>\n",
              "  <tbody>\n",
              "    <tr>\n",
              "      <th>1172</th>\n",
              "      <td>1556</td>\n",
              "      <td>19</td>\n",
              "      <td>1.605263</td>\n",
              "      <td>2.190377</td>\n",
              "      <td>Speed 2: Cruise Control (1997)</td>\n",
              "      <td>-0.585114</td>\n",
              "    </tr>\n",
              "    <tr>\n",
              "      <th>2679</th>\n",
              "      <td>3593</td>\n",
              "      <td>19</td>\n",
              "      <td>1.657895</td>\n",
              "      <td>2.224426</td>\n",
              "      <td>Battlefield Earth (2000)</td>\n",
              "      <td>-0.566531</td>\n",
              "    </tr>\n",
              "    <tr>\n",
              "      <th>1372</th>\n",
              "      <td>1882</td>\n",
              "      <td>33</td>\n",
              "      <td>1.954545</td>\n",
              "      <td>2.267268</td>\n",
              "      <td>Godzilla (1998)</td>\n",
              "      <td>-0.312722</td>\n",
              "    </tr>\n",
              "    <tr>\n",
              "      <th>1144</th>\n",
              "      <td>1499</td>\n",
              "      <td>27</td>\n",
              "      <td>1.925926</td>\n",
              "      <td>2.296800</td>\n",
              "      <td>Anaconda (1997)</td>\n",
              "      <td>-0.370874</td>\n",
              "    </tr>\n",
              "    <tr>\n",
              "      <th>1988</th>\n",
              "      <td>2643</td>\n",
              "      <td>16</td>\n",
              "      <td>1.687500</td>\n",
              "      <td>2.306841</td>\n",
              "      <td>Superman IV: The Quest for Peace (1987)</td>\n",
              "      <td>-0.619341</td>\n",
              "    </tr>\n",
              "  </tbody>\n",
              "</table>\n",
              "</div>"
            ],
            "text/plain": [
              "      movieId  count  ...                                    title      diff\n",
              "1172     1556     19  ...           Speed 2: Cruise Control (1997) -0.585114\n",
              "2679     3593     19  ...                 Battlefield Earth (2000) -0.566531\n",
              "1372     1882     33  ...                          Godzilla (1998) -0.312722\n",
              "1144     1499     27  ...                          Anaconda (1997) -0.370874\n",
              "1988     2643     16  ...  Superman IV: The Quest for Peace (1987) -0.619341\n",
              "\n",
              "[5 rows x 6 columns]"
            ]
          },
          "metadata": {
            "tags": []
          },
          "execution_count": 105
        }
      ]
    },
    {
      "cell_type": "markdown",
      "metadata": {
        "id": "Mbbs3AZX1KOu"
      },
      "source": [
        "Las peores peliculas son `Speed 2: Cruise Control`, `Battlefield Earth`, y `Godzilla`."
      ]
    },
    {
      "cell_type": "markdown",
      "metadata": {
        "id": "tK4Rz6nXTlVw"
      },
      "source": [
        "Al momento de modelar podrias utilizar nuestra Media Bayesiana, nuestro rating tal como esta o una version normalizada. Idealemente deberiamos poder hacer un A/B testing para determinar cual es la mejor metrica."
      ]
    },
    {
      "cell_type": "markdown",
      "metadata": {
        "id": "FxpwHHLT1KOu"
      },
      "source": [
        "## Modelaje\n"
      ]
    },
    {
      "cell_type": "markdown",
      "metadata": {
        "id": "nAqfhdqcLos-"
      },
      "source": [
        "\n",
        "Ahora aplicaremos la tecnica de filtro colaborativo [collaborative filtering](https://en.wikipedia.org/wiki/Collaborative_filtering) para generar recomendaciones a los usuarios. El supuesto de por que este filtro funciona se llama **\"homophily\"**. La idea es que a los ususarios les gustan cosas similares.  \n",
        "  \n",
        "El filtro colaborativo es una tecnica no supervisada que trata de hacer recomendaciones o predicciones sobre los intereses de las personas modelando los gustos de la poblacion en general. Por ejemplo, si casi todas las personas que les gusto `GATTACA` les gusto `John Wick`, es decir las calificaron con valores altos, nuestro modelo recomendera `John Wick` a las personas que les gusto `GATTACA` y viceversa.  \n",
        "\n",
        "Recuerda que este filtro es **item-item** por lo que estamos buscando similitudes en las peliculas, no ente usuarios!\n",
        "\n"
      ]
    },
    {
      "cell_type": "markdown",
      "metadata": {
        "id": "YPnddortNog6"
      },
      "source": [
        "### Crear user-item-matrix"
      ]
    },
    {
      "cell_type": "markdown",
      "metadata": {
        "id": "rhVQH7FoMx0p"
      },
      "source": [
        "El primer paso es crear `user-item matrix` - o \"utility\" matrix. En esta matriz, las filas representan usuarios, y las columnas `items`. La belleza es que esta enteramente basada en los ratings, realmente no tenemos mas informacion sobre el genero, tipo, duracion, etc.. de las peliculas. Solo tenemos calificaciones.\n",
        "\n",
        "\n",
        "<img src=\"https://github.com/topspinj/recommender-tutorial/blob/master/images/user-movie-matrix.png?raw=1\" width=\"500px\" align=\"left\">"
      ]
    },
    {
      "cell_type": "markdown",
      "metadata": {
        "id": "AwRX5CL-1KOu"
      },
      "source": [
        "La funcion `create_X()` regresa una matriz de scipy rala (sparse) con 4 diccionarios.\n",
        "- **user_mapper:**: id de usuario -> indice de usuario \n",
        "- **movie_mapper:** id de pelicula -> indice de pelicula \n",
        "- **user_inv_mapper:** indice de usuario -> id de usuario\n",
        "- **movie_inv_mapper:** id de pelicula -> indice de pelicula  \n",
        "  \n",
        "NEcesitamos estos diccionarios porque nos indicaran que fila y columa de la `utility-matrix` corresponde al usuario y a la pelicula. Esta estructura de datos es utilizada con el fin de ahorra memoria, pues si tenemos 30 mil peliculas y 1 millon de usuarios es facil llenarla. Y sin sentido, pues la mayoria de las entradas estan vacias.   \n",
        " \n",
        "**Ojo:**En el caso especifico de la implementacion el primer indice corresponde a la pelicula, y el segundo al usuario. Esto con el fin de hacer mas facil la abstraccion del calculo de la distancia.\n",
        "\n",
        " **X** (user-item) matrix es de tipo [scipy.sparse.csr_matrix](https://docs.scipy.org/doc/scipy/reference/generated/scipy.sparse.csr_matrix.html)."
      ]
    },
    {
      "cell_type": "code",
      "metadata": {
        "id": "doLWSOug1KOu"
      },
      "source": [
        "from scipy.sparse import csr_matrix\n",
        "\n",
        "def create_X(df):\n",
        "    \"\"\"\n",
        "    Generates a sparse matrix from ratings dataframe.\n",
        "    \n",
        "    Args:\n",
        "        df: pandas dataframe\n",
        "    \n",
        "    Returns:\n",
        "        X: sparse matrix\n",
        "        user_mapper: dict that maps user id's to user indices\n",
        "        user_inv_mapper: dict that maps user indices to user id's\n",
        "        movie_mapper: dict that maps movie id's to movie indices\n",
        "        movie_inv_mapper: dict that maps movie indices to movie id's\n",
        "    \"\"\"\n",
        "    N = df['userId'].nunique()\n",
        "    M = df['movieId'].nunique()\n",
        "\n",
        "    user_mapper = dict(zip(np.unique(df[\"userId\"]), list(range(N))))\n",
        "    movie_mapper = dict(zip(np.unique(df[\"movieId\"]), list(range(M))))\n",
        "    \n",
        "    user_inv_mapper = dict(zip(list(range(N)), np.unique(df[\"userId\"])))\n",
        "    movie_inv_mapper = dict(zip(list(range(M)), np.unique(df[\"movieId\"])))\n",
        "    \n",
        "    user_index = [user_mapper[i] for i in df['userId']]\n",
        "    movie_index = [movie_mapper[i] for i in df['movieId']]\n",
        "\n",
        "    X = csr_matrix((df[\"rating\"], (movie_index, user_index)), shape=(M, N))\n",
        "    \n",
        "    return X, user_mapper, movie_mapper, user_inv_mapper, movie_inv_mapper"
      ],
      "execution_count": 106,
      "outputs": []
    },
    {
      "cell_type": "code",
      "metadata": {
        "id": "itaKk2sY1KOu"
      },
      "source": [
        "X, user_mapper, movie_mapper, user_inv_mapper, movie_inv_mapper = create_X(ratings)"
      ],
      "execution_count": 107,
      "outputs": []
    },
    {
      "cell_type": "markdown",
      "metadata": {
        "id": "1lNoIPG01KOu"
      },
      "source": [
        "Midamos el sparsity o que tan rala es nuestra matriz X.\n",
        "\n",
        "Calculemos el cociente por el numero de elementos que no estan vacios entre el numero de elementos totales. \n",
        "\n",
        "$$S=\\frac{\\text{# elementos no vacios}}{\\text{# de elementos totales}}$$"
      ]
    },
    {
      "cell_type": "code",
      "metadata": {
        "colab": {
          "base_uri": "https://localhost:8080/"
        },
        "id": "xgxqzh1zTr1x",
        "outputId": "49f9cf34-cf41-499d-f2fe-e73d37d6fa06"
      },
      "source": [
        "X.shape"
      ],
      "execution_count": 108,
      "outputs": [
        {
          "output_type": "execute_result",
          "data": {
            "text/plain": [
              "(9724, 610)"
            ]
          },
          "metadata": {
            "tags": []
          },
          "execution_count": 108
        }
      ]
    },
    {
      "cell_type": "markdown",
      "metadata": {
        "id": "NlslaHqAP7CY"
      },
      "source": [
        "Dada la estructura de `csr_matrix` los elementos vacios son llenados como ceros, aunque realmente no son ceros sino que estan vacios. Pero dado que vamos a obtener distancias nos conviene ponerlos como ceros."
      ]
    },
    {
      "cell_type": "code",
      "metadata": {
        "id": "fWq3FYmP1KOv",
        "colab": {
          "base_uri": "https://localhost:8080/"
        },
        "outputId": "27bd6a71-7d8b-471b-f330-c1cf922afb4f"
      },
      "source": [
        "sparsity = X.count_nonzero()/(X.shape[0]*X.shape[1])\n",
        "\n",
        "print(f\"Matrix sparsity: {round(sparsity*100,2)}%\")"
      ],
      "execution_count": 109,
      "outputs": [
        {
          "output_type": "stream",
          "text": [
            "Matrix sparsity: 1.7%\n"
          ],
          "name": "stdout"
        }
      ]
    },
    {
      "cell_type": "markdown",
      "metadata": {
        "id": "SZujEttN1KOv"
      },
      "source": [
        "Solo el 1.7% de las celdas estan llenas. Pero, no te desanimes! Una buena regla de dedo para implementar estos modelos es tener un indice mayor a .5%.\n",
        "\n"
      ]
    },
    {
      "cell_type": "markdown",
      "metadata": {
        "id": "RrxdcoL11KOv"
      },
      "source": [
        "### Escritura a Disco de X  \n",
        "\n",
        "Si desearamos salver nuestra matriz rala X para ejercicios posteriores podriamos hacerlo con el siguiente comando (recuerda que al estar en Colab esto se guardara en nuestra maquina virtual y no directamente al drive).  \n",
        "\n",
        "Documentacion: [scipy.sparse.save_npz](https://docs.scipy.org/doc/scipy-1.1.0/reference/generated/scipy.sparse.load_npz.html) "
      ]
    },
    {
      "cell_type": "code",
      "metadata": {
        "id": "eDy0Bs161KOw"
      },
      "source": [
        "# from scipy.sparse import save_npz\n",
        "\n",
        "# save_npz('data/user_item_matrix.npz', X)"
      ],
      "execution_count": 110,
      "outputs": []
    },
    {
      "cell_type": "markdown",
      "metadata": {
        "id": "p8JwctGfU1I-"
      },
      "source": [
        "### Normalizaciones de X"
      ]
    },
    {
      "cell_type": "markdown",
      "metadata": {
        "id": "7nC5GEKvotv4"
      },
      "source": [
        "Obtengamos la calificacion media por pelicula. Recuerda que al convertir X en una matriz rala los missings (no calificaciones) se convirtieron en ceros, por lo qu eno podemos aplicar el metodo `.mean()`. Necesitamos sumar, y dividir entre el numero de calificaciones reales."
      ]
    },
    {
      "cell_type": "code",
      "metadata": {
        "colab": {
          "base_uri": "https://localhost:8080/"
        },
        "id": "3_GFHSHAkG5Z",
        "outputId": "e48b182d-f0d5-4a1b-e184-bff5c97a5f63"
      },
      "source": [
        "n_ratings_per_movie = X.getnnz(axis=1)\n",
        "sum_ratings_per_movie = X.sum(axis=1)\n",
        "n_ratings_per_movie = np.reshape(n_ratings_per_movie, (n_ratings_per_movie.shape[0],1))\n",
        "print(n_ratings_per_movie.shape)\n",
        "print(sum_ratings_per_movie.shape)\n",
        "mean_rating_per_movie = sum_ratings_per_movie/n_ratings_per_movie\n",
        "# Copiemos a columnas\n",
        "X_mean_movie = np.tile(mean_rating_per_movie, (1, X.shape[1]))\n",
        "print(X_mean_movie.shape)"
      ],
      "execution_count": 111,
      "outputs": [
        {
          "output_type": "stream",
          "text": [
            "(9724, 1)\n",
            "(9724, 1)\n",
            "(9724, 610)\n"
          ],
          "name": "stdout"
        }
      ]
    },
    {
      "cell_type": "code",
      "metadata": {
        "colab": {
          "base_uri": "https://localhost:8080/"
        },
        "id": "G8SWVcuJpu-l",
        "outputId": "c95281b3-df31-42c6-d356-ee3571c60132"
      },
      "source": [
        "print(X_mean_movie[:,0])\n",
        "print('--------------------')\n",
        "print(X_mean_movie[:,569])"
      ],
      "execution_count": 112,
      "outputs": [
        {
          "output_type": "stream",
          "text": [
            "[[3.92093023]\n",
            " [3.43181818]\n",
            " [3.25961538]\n",
            " ...\n",
            " [3.5       ]\n",
            " [3.5       ]\n",
            " [4.        ]]\n",
            "--------------------\n",
            "[[3.92093023]\n",
            " [3.43181818]\n",
            " [3.25961538]\n",
            " ...\n",
            " [3.5       ]\n",
            " [3.5       ]\n",
            " [4.        ]]\n"
          ],
          "name": "stdout"
        }
      ]
    },
    {
      "cell_type": "markdown",
      "metadata": {
        "id": "PIrQtsjppbeC"
      },
      "source": [
        "`X_mean_movie` es una matriz con shape (9724, 610). Los renglones representan el rating medio de las peliculas. Cada columna tiene los mismos valores, que son la media de rating por pelicula."
      ]
    },
    {
      "cell_type": "code",
      "metadata": {
        "colab": {
          "base_uri": "https://localhost:8080/"
        },
        "id": "64gvGBKsp8jC",
        "outputId": "30c7ea7f-c228-43e3-d8f8-6642b2b42964"
      },
      "source": [
        "X_norm = X - csr_matrix(X_mean_movie)\n",
        "X_norm.shape"
      ],
      "execution_count": 113,
      "outputs": [
        {
          "output_type": "execute_result",
          "data": {
            "text/plain": [
              "(9724, 610)"
            ]
          },
          "metadata": {
            "tags": []
          },
          "execution_count": 113
        }
      ]
    },
    {
      "cell_type": "markdown",
      "metadata": {
        "id": "anI-Jx5BrBiz"
      },
      "source": [
        "Los renglones de `X_norm` contienen las calificaciones de cada usuario para cada pelicula, menos la media de la calificacion de la pelicula. Esta normalizacion es diferente a la bayesiana."
      ]
    },
    {
      "cell_type": "markdown",
      "metadata": {
        "id": "z5w3P6Q41KOw"
      },
      "source": [
        "\n",
        "\n",
        "## Recomendacion con K-vecinos mas cercanos\n",
        "\n"
      ]
    },
    {
      "cell_type": "markdown",
      "metadata": {
        "id": "zhoYaPIOQ_-h"
      },
      "source": [
        "<img src=\"https://github.com/topspinj/recommender-tutorial/blob/master/images/knn.png?raw=1\" width=\"20%\" align=\"right\"/> \n",
        "\n",
        "La idea de utilizar la matriz de utilidad y vecinos mas cercanos es encontrar que peliculas se encuentran a menor distancia. Y seleccionar las $k$ mas cercanas como recomendacion. Existen diferentes tipos de distancias:\n",
        "\n",
        "1. Cosine similarity\n",
        "2. Euclidean distance\n",
        "3. Manhattan distance\n",
        "4. Pearson correlation \n",
        "\n"
      ]
    },
    {
      "cell_type": "markdown",
      "metadata": {
        "id": "TXX3oQelSQBY"
      },
      "source": [
        "`find_similar_movies()`  toma el `movieId` y el `user-item` de la matriz X, y regresa las lista de $k$ peliculas mas cercanas.\n",
        "\n",
        "Tenemos que crear otro diccionario que vaya de `movieId` a `title` para interpretar nuestros resultados."
      ]
    },
    {
      "cell_type": "code",
      "metadata": {
        "id": "d-YaGuwWVDCU"
      },
      "source": [
        "# Diccionario id pelicula -> titulo de pelicula\n",
        "movie_titles = dict(zip(movies['movieId'], movies['title']))\n"
      ],
      "execution_count": 114,
      "outputs": []
    },
    {
      "cell_type": "markdown",
      "metadata": {
        "id": "PuznZGr7mAYJ"
      },
      "source": [
        "La documentacion al metodo se encuentra en:  \n",
        "https://scikit-learn.org/stable/modules/generated/sklearn.neighbors.NearestNeighbors.html "
      ]
    },
    {
      "cell_type": "code",
      "metadata": {
        "id": "Yvd-Tn1G1KOx"
      },
      "source": [
        "from sklearn.neighbors import NearestNeighbors\n",
        "\n",
        "def find_similar_movies(movie_id, X, k, metric='cosine', show_distance=False):\n",
        "    \"\"\"\n",
        "    Finds k-nearest neighbours for a given movie id.\n",
        "    \n",
        "    Args:\n",
        "        movie_id: id of the movie of interest\n",
        "        X: user-item utility matrix\n",
        "        k: number of similar movies to retrieve\n",
        "        metric: distance metric for kNN calculations\n",
        "    \n",
        "    Returns:\n",
        "        list of k similar movie ID's\n",
        "    \"\"\"\n",
        "    neighbour_ids = []\n",
        "    \n",
        "    movie_ind = movie_mapper[movie_id]\n",
        "    movie_vec = X[movie_ind]\n",
        "    k+=1\n",
        "    kNN = NearestNeighbors(n_neighbors=k, algorithm=\"auto\", metric=metric, n_jobs=-1)\n",
        "    kNN.fit(X)\n",
        "    if isinstance(movie_vec, (np.ndarray)):\n",
        "        movie_vec = movie_vec.reshape(1,-1)\n",
        "    # Solo calculamos la distancia usando a los ratings de personas que vieron la pelicula   \n",
        "    # Si los usuarios no vieron la pelicula entonces los ignoramos\n",
        "    \n",
        "    neighbour = kNN.kneighbors(movie_vec, return_distance=show_distance)\n",
        "    for i in range(0,k):\n",
        "        n = neighbour.item(i)\n",
        "        neighbour_ids.append(movie_inv_mapper[n])\n",
        "    neighbour_ids.pop(0)\n",
        "    return neighbour_ids"
      ],
      "execution_count": 115,
      "outputs": []
    },
    {
      "cell_type": "markdown",
      "metadata": {
        "id": "6XUoqmubtP_R"
      },
      "source": [
        "### X"
      ]
    },
    {
      "cell_type": "code",
      "metadata": {
        "id": "KaUbik9f1KOx",
        "colab": {
          "base_uri": "https://localhost:8080/"
        },
        "outputId": "26aeda98-5cde-403f-9274-3f29255c15fa"
      },
      "source": [
        "movie_id = 1\n",
        "\n",
        "similar_ids = find_similar_movies(movie_id, X, k=10)\n",
        "movie_title = movie_titles[movie_id]\n",
        "\n",
        "print(f\"Because you watched {movie_title}\")\n",
        "for i in similar_ids:\n",
        "    print(movie_titles[i])"
      ],
      "execution_count": 116,
      "outputs": [
        {
          "output_type": "stream",
          "text": [
            "Because you watched Toy Story (1995)\n",
            "Toy Story 2 (1999)\n",
            "Jurassic Park (1993)\n",
            "Independence Day (a.k.a. ID4) (1996)\n",
            "Star Wars: Episode IV - A New Hope (1977)\n",
            "Forrest Gump (1994)\n",
            "Lion King, The (1994)\n",
            "Star Wars: Episode VI - Return of the Jedi (1983)\n",
            "Mission: Impossible (1996)\n",
            "Groundhog Day (1993)\n",
            "Back to the Future (1985)\n"
          ],
          "name": "stdout"
        }
      ]
    },
    {
      "cell_type": "code",
      "metadata": {
        "id": "2yVWBTm31KOx",
        "colab": {
          "base_uri": "https://localhost:8080/"
        },
        "outputId": "8a32edc7-cde2-4497-de39-992d8d6863ad"
      },
      "source": [
        "movie_id = 1\n",
        "similar_ids = find_similar_movies(movie_id, X, k=10, metric=\"euclidean\")\n",
        "\n",
        "movie_title = movie_titles[movie_id]\n",
        "print(f\"Because you watched {movie_title}:\")\n",
        "for i in similar_ids:\n",
        "    print(movie_titles[i])"
      ],
      "execution_count": 117,
      "outputs": [
        {
          "output_type": "stream",
          "text": [
            "Because you watched Toy Story (1995):\n",
            "Toy Story 2 (1999)\n",
            "Mission: Impossible (1996)\n",
            "Independence Day (a.k.a. ID4) (1996)\n",
            "Bug's Life, A (1998)\n",
            "Nutty Professor, The (1996)\n",
            "Willy Wonka & the Chocolate Factory (1971)\n",
            "Babe (1995)\n",
            "Groundhog Day (1993)\n",
            "Mask, The (1994)\n",
            "Honey, I Shrunk the Kids (1989)\n"
          ],
          "name": "stdout"
        }
      ]
    },
    {
      "cell_type": "markdown",
      "metadata": {
        "id": "UKnr4NY4o983"
      },
      "source": [
        "Nota que en este caso no utilizamos ninguna normalizacion, y usamos el rating crudo."
      ]
    },
    {
      "cell_type": "markdown",
      "metadata": {
        "id": "gDbRvMJatRx-"
      },
      "source": [
        "### X_norm"
      ]
    },
    {
      "cell_type": "code",
      "metadata": {
        "colab": {
          "base_uri": "https://localhost:8080/"
        },
        "id": "kv3JGDLjtECS",
        "outputId": "0f3b7bd6-1344-46a7-b283-8df8e915357d"
      },
      "source": [
        "movie_id = 1\n",
        "similar_ids = find_similar_movies(movie_id, X_norm, k=10)\n",
        "\n",
        "movie_title = movie_titles[movie_id]\n",
        "print(f\"Because you watched {movie_title}:\")\n",
        "\n",
        "for i in similar_ids:\n",
        "    print(movie_titles[i])"
      ],
      "execution_count": 118,
      "outputs": [
        {
          "output_type": "stream",
          "text": [
            "Because you watched Toy Story (1995):\n",
            "Toy Story 2 (1999)\n",
            "Toy Story 3 (2010)\n",
            "Honey, I Shrunk the Kids (1989)\n",
            "Nutty Professor, The (1996)\n",
            "Bug's Life, A (1998)\n",
            "Bambi (1942)\n",
            "Pinocchio (1940)\n",
            "Jungle Book, The (1967)\n",
            "Space Jam (1996)\n",
            "James and the Giant Peach (1996)\n"
          ],
          "name": "stdout"
        }
      ]
    },
    {
      "cell_type": "markdown",
      "metadata": {
        "id": "c-A_1_zhxf0d"
      },
      "source": [
        "### Evaluacion"
      ]
    },
    {
      "cell_type": "markdown",
      "metadata": {
        "id": "uWsSNe9JxhOo"
      },
      "source": [
        "La evaluacion de un sistema de filtro colaborativo item-item offline no es realemnte robusta pues utiliza los mismos datos con lo que se construyo por lo que las metricas de evaluacion son muy dificiles de implmentar.  \n",
        "Podriamos evaluarlo con un A/B testing, por ejemplo.  \n",
        "\n",
        "Aqui un paper que habla sobre el tema: https://arxiv.org/pdf/1506.04135.pdf "
      ]
    },
    {
      "cell_type": "markdown",
      "metadata": {
        "id": "7GZncNc2zVd-"
      },
      "source": [
        "Una forma de evaluar que tan buena es la recomendacion de una pelicula m1 en especifico seria ver si el resto de las peliculas recomendadas tambien recomiendan m1. Aunque este sigue siendo un criterio de evaluacion muy debil."
      ]
    },
    {
      "cell_type": "markdown",
      "metadata": {
        "id": "SVeaAMFv3RxC"
      },
      "source": [
        "Tambien podriamos eliminar algunas peliculas vistas por los usuarios, estimar nuestro modelo y ver si nuestro recomendador recomendo las peliculas eliminadas con ratings altos y no recomendo las peliculas con ratings bajos. Sin embargo, al igual que el criterio anterior no es muy robusto, sobre todo cuando hay miles de peliculas."
      ]
    },
    {
      "cell_type": "markdown",
      "metadata": {
        "id": "ROMfsw-z3q3L"
      },
      "source": [
        "Tambien podriamos hacer algo parecido a lo anterior, pero en vez de eso ver en que lugar del recomendador (osea que Top k) nuestro modelo recomienda las peliculas con ratings altos o bajos. Si las peliculas con ratings altos requieren una k pequeña para salir, y las peliculas con ratings bajos requieren una k grande nuestro recomednador seria bueno. Sin embargo el costo computacional de esta evaluacion seria muy alto para recomendadores con muchas opciones."
      ]
    },
    {
      "cell_type": "markdown",
      "metadata": {
        "id": "hqWW9QCF4DP3"
      },
      "source": [
        "Por ahora para los recomednadores item-item utilizaremos mas la intuicion para evaluarlos, y en la realidad podriamos usar un A/B testing. Los recomendadores **user-item** son mas faciles de evaluar como lo veremos mas adelante."
      ]
    },
    {
      "cell_type": "markdown",
      "metadata": {
        "id": "bhOTgrM-0rDT"
      },
      "source": [
        "# Cold-Start"
      ]
    },
    {
      "cell_type": "markdown",
      "metadata": {
        "id": "aQLoGT0g6bv7"
      },
      "source": [
        "El cold-start es una tecnica que podemos usar cuando tenemos pocos reviews o poca informacion sobre algunas peliculas. La idea es utilizar la informacion de las peliculas, no solo el rating, como lo es el genero.  \n",
        "El supuesto es que peliculas con **generos** similares son similares, es mucho mas debil que utilizar los ratings, pero mas robusto en caso de tener poca informacion."
      ]
    },
    {
      "cell_type": "markdown",
      "metadata": {
        "id": "Z2N4yV6LUfvQ"
      },
      "source": [
        "## ETL & EDA"
      ]
    },
    {
      "cell_type": "code",
      "metadata": {
        "colab": {
          "base_uri": "https://localhost:8080/"
        },
        "id": "2CWaOqLX0teM",
        "outputId": "33a84507-dc7a-4eef-d391-9c0d478a8e06"
      },
      "source": [
        "n_movies = movies['movieId'].nunique()\n",
        "print(f\"There are {n_movies} unique movies in our movies dataset.\")"
      ],
      "execution_count": 119,
      "outputs": [
        {
          "output_type": "stream",
          "text": [
            "There are 9742 unique movies in our movies dataset.\n"
          ],
          "name": "stdout"
        }
      ]
    },
    {
      "cell_type": "markdown",
      "metadata": {
        "id": "WszmDXGn6sq8"
      },
      "source": [
        "Construyamos un pandas que represente los generos de las peliculas en forma de dummies o one-hot encoding.  \n",
        "La idea es crear una matriz de similaridad entre generos, en vez de observar el rating encontraremos similaridad entre los generos de las peliculas, de manera que cuando tengamos pocos ratings o informacion nuestro recomendador mostrara peliculas con generos similares."
      ]
    },
    {
      "cell_type": "markdown",
      "metadata": {
        "id": "SrtOTdDBac10"
      },
      "source": [
        "### Limpieza y analisis de columna genres"
      ]
    },
    {
      "cell_type": "code",
      "metadata": {
        "colab": {
          "base_uri": "https://localhost:8080/",
          "height": 206
        },
        "id": "6mg4q3ftUHk2",
        "outputId": "29a54565-60fe-4f96-877b-5962c32f0804"
      },
      "source": [
        "movies['genres_clean'] = movies['genres'].apply(lambda x: x.split(\"|\"))\n",
        "movies.head()"
      ],
      "execution_count": 120,
      "outputs": [
        {
          "output_type": "execute_result",
          "data": {
            "text/html": [
              "<div>\n",
              "<style scoped>\n",
              "    .dataframe tbody tr th:only-of-type {\n",
              "        vertical-align: middle;\n",
              "    }\n",
              "\n",
              "    .dataframe tbody tr th {\n",
              "        vertical-align: top;\n",
              "    }\n",
              "\n",
              "    .dataframe thead th {\n",
              "        text-align: right;\n",
              "    }\n",
              "</style>\n",
              "<table border=\"1\" class=\"dataframe\">\n",
              "  <thead>\n",
              "    <tr style=\"text-align: right;\">\n",
              "      <th></th>\n",
              "      <th>movieId</th>\n",
              "      <th>title</th>\n",
              "      <th>genres</th>\n",
              "      <th>genres_clean</th>\n",
              "    </tr>\n",
              "  </thead>\n",
              "  <tbody>\n",
              "    <tr>\n",
              "      <th>0</th>\n",
              "      <td>1</td>\n",
              "      <td>Toy Story (1995)</td>\n",
              "      <td>Adventure|Animation|Children|Comedy|Fantasy</td>\n",
              "      <td>[Adventure, Animation, Children, Comedy, Fantasy]</td>\n",
              "    </tr>\n",
              "    <tr>\n",
              "      <th>1</th>\n",
              "      <td>2</td>\n",
              "      <td>Jumanji (1995)</td>\n",
              "      <td>Adventure|Children|Fantasy</td>\n",
              "      <td>[Adventure, Children, Fantasy]</td>\n",
              "    </tr>\n",
              "    <tr>\n",
              "      <th>2</th>\n",
              "      <td>3</td>\n",
              "      <td>Grumpier Old Men (1995)</td>\n",
              "      <td>Comedy|Romance</td>\n",
              "      <td>[Comedy, Romance]</td>\n",
              "    </tr>\n",
              "    <tr>\n",
              "      <th>3</th>\n",
              "      <td>4</td>\n",
              "      <td>Waiting to Exhale (1995)</td>\n",
              "      <td>Comedy|Drama|Romance</td>\n",
              "      <td>[Comedy, Drama, Romance]</td>\n",
              "    </tr>\n",
              "    <tr>\n",
              "      <th>4</th>\n",
              "      <td>5</td>\n",
              "      <td>Father of the Bride Part II (1995)</td>\n",
              "      <td>Comedy</td>\n",
              "      <td>[Comedy]</td>\n",
              "    </tr>\n",
              "  </tbody>\n",
              "</table>\n",
              "</div>"
            ],
            "text/plain": [
              "   movieId  ...                                       genres_clean\n",
              "0        1  ...  [Adventure, Animation, Children, Comedy, Fantasy]\n",
              "1        2  ...                     [Adventure, Children, Fantasy]\n",
              "2        3  ...                                  [Comedy, Romance]\n",
              "3        4  ...                           [Comedy, Drama, Romance]\n",
              "4        5  ...                                           [Comedy]\n",
              "\n",
              "[5 rows x 4 columns]"
            ]
          },
          "metadata": {
            "tags": []
          },
          "execution_count": 120
        }
      ]
    },
    {
      "cell_type": "code",
      "metadata": {
        "colab": {
          "base_uri": "https://localhost:8080/"
        },
        "id": "DxO8V1EpUHxD",
        "outputId": "29ee4e48-6ad4-4fe3-b0ae-a34e89ea3510"
      },
      "source": [
        "from collections import Counter\n",
        "\n",
        "genres_counts = Counter(g for genres in movies['genres_clean'] for g in genres)\n",
        "print(f'El numero de generos totales es {len(genres_counts.keys())}')\n",
        "print(f\"El numero de etiquetas por genero es {len(genres_counts)} \")\n",
        "genres_counts"
      ],
      "execution_count": 125,
      "outputs": [
        {
          "output_type": "stream",
          "text": [
            "El numero de generos totales es 20\n",
            "El numero de etiquetas por genero es 20 \n"
          ],
          "name": "stdout"
        },
        {
          "output_type": "execute_result",
          "data": {
            "text/plain": [
              "Counter({'(no genres listed)': 34,\n",
              "         'Action': 1828,\n",
              "         'Adventure': 1263,\n",
              "         'Animation': 611,\n",
              "         'Children': 664,\n",
              "         'Comedy': 3756,\n",
              "         'Crime': 1199,\n",
              "         'Documentary': 440,\n",
              "         'Drama': 4361,\n",
              "         'Fantasy': 779,\n",
              "         'Film-Noir': 87,\n",
              "         'Horror': 978,\n",
              "         'IMAX': 158,\n",
              "         'Musical': 334,\n",
              "         'Mystery': 573,\n",
              "         'Romance': 1596,\n",
              "         'Sci-Fi': 980,\n",
              "         'Thriller': 1894,\n",
              "         'War': 382,\n",
              "         'Western': 167})"
            ]
          },
          "metadata": {
            "tags": []
          },
          "execution_count": 125
        }
      ]
    },
    {
      "cell_type": "markdown",
      "metadata": {
        "id": "lfouLeB6VIIV"
      },
      "source": [
        "Veamos la distribucion de los generos"
      ]
    },
    {
      "cell_type": "code",
      "metadata": {
        "colab": {
          "base_uri": "https://localhost:8080/",
          "height": 427
        },
        "id": "Ut87wmY6U_pO",
        "outputId": "b5b4b9e3-42d5-47f5-c7e9-cc92e957dd02"
      },
      "source": [
        "genres_counts_df = pd.DataFrame([genres_counts]).T.reset_index()\n",
        "genres_counts_df.columns = ['genres_clean', 'count']\n",
        "genres_counts_df = genres_counts_df.sort_values(by='count', ascending=False)\n",
        "\n",
        "plt.figure(figsize=(10,5))\n",
        "sns.barplot(x='genres_clean', y='count', data=genres_counts_df, palette='viridis')\n",
        "plt.xticks(rotation=90)\n",
        "plt.show()"
      ],
      "execution_count": 127,
      "outputs": [
        {
          "output_type": "display_data",
          "data": {
            "image/png": "[encoded data removed]",
            "text/plain": [
              "<Figure size 720x360 with 1 Axes>"
            ]
          },
          "metadata": {
            "tags": []
          }
        }
      ]
    },
    {
      "cell_type": "markdown",
      "metadata": {
        "id": "60jkNI-6U_w3"
      },
      "source": [
        "Ahora convirtamos el año en que salio la pelicula en una variable.  \n",
        "Nota como el titulo de las peliculas contiene el año en que salieron:\n"
      ]
    },
    {
      "cell_type": "code",
      "metadata": {
        "colab": {
          "base_uri": "https://localhost:8080/",
          "height": 206
        },
        "id": "5ivoHCtdVac_",
        "outputId": "1a1137b3-9741-4a2d-aaad-8519d4a75413"
      },
      "source": [
        "movies.head()"
      ],
      "execution_count": 128,
      "outputs": [
        {
          "output_type": "execute_result",
          "data": {
            "text/html": [
              "<div>\n",
              "<style scoped>\n",
              "    .dataframe tbody tr th:only-of-type {\n",
              "        vertical-align: middle;\n",
              "    }\n",
              "\n",
              "    .dataframe tbody tr th {\n",
              "        vertical-align: top;\n",
              "    }\n",
              "\n",
              "    .dataframe thead th {\n",
              "        text-align: right;\n",
              "    }\n",
              "</style>\n",
              "<table border=\"1\" class=\"dataframe\">\n",
              "  <thead>\n",
              "    <tr style=\"text-align: right;\">\n",
              "      <th></th>\n",
              "      <th>movieId</th>\n",
              "      <th>title</th>\n",
              "      <th>genres</th>\n",
              "      <th>genres_clean</th>\n",
              "    </tr>\n",
              "  </thead>\n",
              "  <tbody>\n",
              "    <tr>\n",
              "      <th>0</th>\n",
              "      <td>1</td>\n",
              "      <td>Toy Story (1995)</td>\n",
              "      <td>Adventure|Animation|Children|Comedy|Fantasy</td>\n",
              "      <td>[Adventure, Animation, Children, Comedy, Fantasy]</td>\n",
              "    </tr>\n",
              "    <tr>\n",
              "      <th>1</th>\n",
              "      <td>2</td>\n",
              "      <td>Jumanji (1995)</td>\n",
              "      <td>Adventure|Children|Fantasy</td>\n",
              "      <td>[Adventure, Children, Fantasy]</td>\n",
              "    </tr>\n",
              "    <tr>\n",
              "      <th>2</th>\n",
              "      <td>3</td>\n",
              "      <td>Grumpier Old Men (1995)</td>\n",
              "      <td>Comedy|Romance</td>\n",
              "      <td>[Comedy, Romance]</td>\n",
              "    </tr>\n",
              "    <tr>\n",
              "      <th>3</th>\n",
              "      <td>4</td>\n",
              "      <td>Waiting to Exhale (1995)</td>\n",
              "      <td>Comedy|Drama|Romance</td>\n",
              "      <td>[Comedy, Drama, Romance]</td>\n",
              "    </tr>\n",
              "    <tr>\n",
              "      <th>4</th>\n",
              "      <td>5</td>\n",
              "      <td>Father of the Bride Part II (1995)</td>\n",
              "      <td>Comedy</td>\n",
              "      <td>[Comedy]</td>\n",
              "    </tr>\n",
              "  </tbody>\n",
              "</table>\n",
              "</div>"
            ],
            "text/plain": [
              "   movieId  ...                                       genres_clean\n",
              "0        1  ...  [Adventure, Animation, Children, Comedy, Fantasy]\n",
              "1        2  ...                     [Adventure, Children, Fantasy]\n",
              "2        3  ...                                  [Comedy, Romance]\n",
              "3        4  ...                           [Comedy, Drama, Romance]\n",
              "4        5  ...                                           [Comedy]\n",
              "\n",
              "[5 rows x 4 columns]"
            ]
          },
          "metadata": {
            "tags": []
          },
          "execution_count": 128
        }
      ]
    },
    {
      "cell_type": "markdown",
      "metadata": {
        "id": "ErPW_E7maj6q"
      },
      "source": [
        "### Analisis y creacion de la varaible year"
      ]
    },
    {
      "cell_type": "code",
      "metadata": {
        "id": "4u0-bHvgVQ81"
      },
      "source": [
        "import re \n",
        "\n",
        "def extract_year_from_title(title):\n",
        "    t = title.split(' ')\n",
        "    year = None\n",
        "    if re.search(r'\\(\\d+\\)', t[-1]):\n",
        "        year = t[-1].strip('()')\n",
        "        year = int(year)\n",
        "    return year"
      ],
      "execution_count": 129,
      "outputs": []
    },
    {
      "cell_type": "code",
      "metadata": {
        "colab": {
          "base_uri": "https://localhost:8080/",
          "height": 206
        },
        "id": "TPjz8yDiVRJz",
        "outputId": "7f86dece-8768-433b-c872-656ee0ae63ed"
      },
      "source": [
        "movies['year'] = movies['title'].apply(extract_year_from_title)\n",
        "movies.head()"
      ],
      "execution_count": 130,
      "outputs": [
        {
          "output_type": "execute_result",
          "data": {
            "text/html": [
              "<div>\n",
              "<style scoped>\n",
              "    .dataframe tbody tr th:only-of-type {\n",
              "        vertical-align: middle;\n",
              "    }\n",
              "\n",
              "    .dataframe tbody tr th {\n",
              "        vertical-align: top;\n",
              "    }\n",
              "\n",
              "    .dataframe thead th {\n",
              "        text-align: right;\n",
              "    }\n",
              "</style>\n",
              "<table border=\"1\" class=\"dataframe\">\n",
              "  <thead>\n",
              "    <tr style=\"text-align: right;\">\n",
              "      <th></th>\n",
              "      <th>movieId</th>\n",
              "      <th>title</th>\n",
              "      <th>genres</th>\n",
              "      <th>genres_clean</th>\n",
              "      <th>year</th>\n",
              "    </tr>\n",
              "  </thead>\n",
              "  <tbody>\n",
              "    <tr>\n",
              "      <th>0</th>\n",
              "      <td>1</td>\n",
              "      <td>Toy Story (1995)</td>\n",
              "      <td>Adventure|Animation|Children|Comedy|Fantasy</td>\n",
              "      <td>[Adventure, Animation, Children, Comedy, Fantasy]</td>\n",
              "      <td>1995.0</td>\n",
              "    </tr>\n",
              "    <tr>\n",
              "      <th>1</th>\n",
              "      <td>2</td>\n",
              "      <td>Jumanji (1995)</td>\n",
              "      <td>Adventure|Children|Fantasy</td>\n",
              "      <td>[Adventure, Children, Fantasy]</td>\n",
              "      <td>1995.0</td>\n",
              "    </tr>\n",
              "    <tr>\n",
              "      <th>2</th>\n",
              "      <td>3</td>\n",
              "      <td>Grumpier Old Men (1995)</td>\n",
              "      <td>Comedy|Romance</td>\n",
              "      <td>[Comedy, Romance]</td>\n",
              "      <td>1995.0</td>\n",
              "    </tr>\n",
              "    <tr>\n",
              "      <th>3</th>\n",
              "      <td>4</td>\n",
              "      <td>Waiting to Exhale (1995)</td>\n",
              "      <td>Comedy|Drama|Romance</td>\n",
              "      <td>[Comedy, Drama, Romance]</td>\n",
              "      <td>1995.0</td>\n",
              "    </tr>\n",
              "    <tr>\n",
              "      <th>4</th>\n",
              "      <td>5</td>\n",
              "      <td>Father of the Bride Part II (1995)</td>\n",
              "      <td>Comedy</td>\n",
              "      <td>[Comedy]</td>\n",
              "      <td>1995.0</td>\n",
              "    </tr>\n",
              "  </tbody>\n",
              "</table>\n",
              "</div>"
            ],
            "text/plain": [
              "   movieId  ...    year\n",
              "0        1  ...  1995.0\n",
              "1        2  ...  1995.0\n",
              "2        3  ...  1995.0\n",
              "3        4  ...  1995.0\n",
              "4        5  ...  1995.0\n",
              "\n",
              "[5 rows x 5 columns]"
            ]
          },
          "metadata": {
            "tags": []
          },
          "execution_count": 130
        }
      ]
    },
    {
      "cell_type": "code",
      "metadata": {
        "colab": {
          "base_uri": "https://localhost:8080/"
        },
        "id": "lLFJ1cl3VRRR",
        "outputId": "00a97d5e-8b0f-47e3-86b2-6832c59ffd63"
      },
      "source": [
        "print(f\"El numero de años es: {movies['year'].nunique()}\")"
      ],
      "execution_count": 138,
      "outputs": [
        {
          "output_type": "stream",
          "text": [
            "El numero de años es: 106\n"
          ],
          "name": "stdout"
        }
      ]
    },
    {
      "cell_type": "markdown",
      "metadata": {
        "id": "9I7sENX8YbAB"
      },
      "source": [
        "Veamos los nulos"
      ]
    },
    {
      "cell_type": "code",
      "metadata": {
        "colab": {
          "base_uri": "https://localhost:8080/"
        },
        "id": "xfzDIfcSYgkW",
        "outputId": "09a30eb2-5d70-46a8-a9b5-4872a0141b40"
      },
      "source": [
        "print(f\"Peliculas despues de remover nulos {movies[~movies['year'].isnull()].shape}\")"
      ],
      "execution_count": 146,
      "outputs": [
        {
          "output_type": "stream",
          "text": [
            "Peliculas despues de remover nulos (9718, 5)\n"
          ],
          "name": "stdout"
        }
      ]
    },
    {
      "cell_type": "markdown",
      "metadata": {
        "id": "aGgvRkW5Yw7U"
      },
      "source": [
        "Podemos removerlas sin alterar mucho nuestros datos"
      ]
    },
    {
      "cell_type": "code",
      "metadata": {
        "id": "ws41mbU7Y0E3"
      },
      "source": [
        "movies = movies[~movies['year'].isnull()]"
      ],
      "execution_count": 147,
      "outputs": []
    },
    {
      "cell_type": "code",
      "metadata": {
        "id": "9g-RqCZrYc44"
      },
      "source": [
        "movies = movies[~movies['year'].isnull()]\n",
        "print(f\"Number of movies after removing null years: {movies['movieId'].nunique()}\")"
      ],
      "execution_count": null,
      "outputs": []
    },
    {
      "cell_type": "markdown",
      "metadata": {
        "id": "_DgA3yQnY8Nx"
      },
      "source": [
        "Veamos la distribucion "
      ]
    },
    {
      "cell_type": "code",
      "metadata": {
        "colab": {
          "base_uri": "https://localhost:8080/",
          "height": 586
        },
        "id": "TuvKh4KrZQGE",
        "outputId": "b5803295-49e3-4035-ec35-129eaa9e5734"
      },
      "source": [
        "g = sns.countplot(movies['year'])\n",
        "plt.xticks(rotation=90)"
      ],
      "execution_count": 160,
      "outputs": [
        {
          "output_type": "execute_result",
          "data": {
            "text/plain": [
              "(array([  0,   1,   2,   3,   4,   5,   6,   7,   8,   9,  10,  11,  12,\n",
              "         13,  14,  15,  16,  17,  18,  19,  20,  21,  22,  23,  24,  25,\n",
              "         26,  27,  28,  29,  30,  31,  32,  33,  34,  35,  36,  37,  38,\n",
              "         39,  40,  41,  42,  43,  44,  45,  46,  47,  48,  49,  50,  51,\n",
              "         52,  53,  54,  55,  56,  57,  58,  59,  60,  61,  62,  63,  64,\n",
              "         65,  66,  67,  68,  69,  70,  71,  72,  73,  74,  75,  76,  77,\n",
              "         78,  79,  80,  81,  82,  83,  84,  85,  86,  87,  88,  89,  90,\n",
              "         91,  92,  93,  94,  95,  96,  97,  98,  99, 100, 101, 102, 103,\n",
              "        104, 105]), <a list of 106 Text major ticklabel objects>)"
            ]
          },
          "metadata": {
            "tags": []
          },
          "execution_count": 160
        },
        {
          "output_type": "display_data",
          "data": {
            "image/png": "[encoded data removed]",
            "text/plain": [
              "<Figure size 1152x432 with 1 Axes>"
            ]
          },
          "metadata": {
            "tags": []
          }
        }
      ]
    },
    {
      "cell_type": "markdown",
      "metadata": {
        "id": "kx3LYAApatpC"
      },
      "source": [
        "### Creacion de la variable Decada"
      ]
    },
    {
      "cell_type": "markdown",
      "metadata": {
        "id": "AyZfpDipVRf7"
      },
      "source": [
        "Podriamos utilizar directamente el año como varaible, pero proponemos usar las decadas."
      ]
    },
    {
      "cell_type": "code",
      "metadata": {
        "id": "kp_iOYCFVRoG"
      },
      "source": [
        "def round_down(year):\n",
        "    return year - (year%10)\n",
        "\n",
        "movies['decade'] = movies['year'].apply(round_down)"
      ],
      "execution_count": 161,
      "outputs": []
    },
    {
      "cell_type": "code",
      "metadata": {
        "colab": {
          "base_uri": "https://localhost:8080/",
          "height": 458
        },
        "id": "QEY6JX2oZJCL",
        "outputId": "2314d520-7650-4b60-90df-b1915b7a2e3a"
      },
      "source": [
        "plt.figure(figsize=(10,6))\n",
        "sns.countplot(movies['decade'], palette='Blues')\n",
        "plt.xticks(rotation=90)"
      ],
      "execution_count": 162,
      "outputs": [
        {
          "output_type": "execute_result",
          "data": {
            "text/plain": [
              "(array([ 0,  1,  2,  3,  4,  5,  6,  7,  8,  9, 10, 11]),\n",
              " <a list of 12 Text major ticklabel objects>)"
            ]
          },
          "metadata": {
            "tags": []
          },
          "execution_count": 162
        },
        {
          "output_type": "display_data",
          "data": {
            "image/png": "[encoded data removed]",
            "text/plain": [
              "<Figure size 720x432 with 1 Axes>"
            ]
          },
          "metadata": {
            "tags": []
          }
        }
      ]
    },
    {
      "cell_type": "markdown",
      "metadata": {
        "id": "pYQUcm7qZJI_"
      },
      "source": [
        "## FE"
      ]
    },
    {
      "cell_type": "markdown",
      "metadata": {
        "id": "5Qh-WXlybGJp"
      },
      "source": [
        "Convirtamos nuestra variable de genero a dummies"
      ]
    },
    {
      "cell_type": "code",
      "metadata": {
        "colab": {
          "base_uri": "https://localhost:8080/",
          "height": 261
        },
        "id": "gpJ_Ri5oZJP6",
        "outputId": "21777151-5757-48a7-9df3-833890824ca3"
      },
      "source": [
        "genres = list(genres_counts.keys())\n",
        "\n",
        "for g in genres:\n",
        "    movies[g] = movies['genres'].transform(lambda x: int(g in x))\n",
        "movies[genres].head()"
      ],
      "execution_count": 164,
      "outputs": [
        {
          "output_type": "execute_result",
          "data": {
            "text/html": [
              "<div>\n",
              "<style scoped>\n",
              "    .dataframe tbody tr th:only-of-type {\n",
              "        vertical-align: middle;\n",
              "    }\n",
              "\n",
              "    .dataframe tbody tr th {\n",
              "        vertical-align: top;\n",
              "    }\n",
              "\n",
              "    .dataframe thead th {\n",
              "        text-align: right;\n",
              "    }\n",
              "</style>\n",
              "<table border=\"1\" class=\"dataframe\">\n",
              "  <thead>\n",
              "    <tr style=\"text-align: right;\">\n",
              "      <th></th>\n",
              "      <th>Adventure</th>\n",
              "      <th>Animation</th>\n",
              "      <th>Children</th>\n",
              "      <th>Comedy</th>\n",
              "      <th>Fantasy</th>\n",
              "      <th>Romance</th>\n",
              "      <th>Drama</th>\n",
              "      <th>Action</th>\n",
              "      <th>Crime</th>\n",
              "      <th>Thriller</th>\n",
              "      <th>Horror</th>\n",
              "      <th>Mystery</th>\n",
              "      <th>Sci-Fi</th>\n",
              "      <th>War</th>\n",
              "      <th>Musical</th>\n",
              "      <th>Documentary</th>\n",
              "      <th>IMAX</th>\n",
              "      <th>Western</th>\n",
              "      <th>Film-Noir</th>\n",
              "      <th>(no genres listed)</th>\n",
              "    </tr>\n",
              "  </thead>\n",
              "  <tbody>\n",
              "    <tr>\n",
              "      <th>0</th>\n",
              "      <td>1</td>\n",
              "      <td>1</td>\n",
              "      <td>1</td>\n",
              "      <td>1</td>\n",
              "      <td>1</td>\n",
              "      <td>0</td>\n",
              "      <td>0</td>\n",
              "      <td>0</td>\n",
              "      <td>0</td>\n",
              "      <td>0</td>\n",
              "      <td>0</td>\n",
              "      <td>0</td>\n",
              "      <td>0</td>\n",
              "      <td>0</td>\n",
              "      <td>0</td>\n",
              "      <td>0</td>\n",
              "      <td>0</td>\n",
              "      <td>0</td>\n",
              "      <td>0</td>\n",
              "      <td>0</td>\n",
              "    </tr>\n",
              "    <tr>\n",
              "      <th>1</th>\n",
              "      <td>1</td>\n",
              "      <td>0</td>\n",
              "      <td>1</td>\n",
              "      <td>0</td>\n",
              "      <td>1</td>\n",
              "      <td>0</td>\n",
              "      <td>0</td>\n",
              "      <td>0</td>\n",
              "      <td>0</td>\n",
              "      <td>0</td>\n",
              "      <td>0</td>\n",
              "      <td>0</td>\n",
              "      <td>0</td>\n",
              "      <td>0</td>\n",
              "      <td>0</td>\n",
              "      <td>0</td>\n",
              "      <td>0</td>\n",
              "      <td>0</td>\n",
              "      <td>0</td>\n",
              "      <td>0</td>\n",
              "    </tr>\n",
              "    <tr>\n",
              "      <th>2</th>\n",
              "      <td>0</td>\n",
              "      <td>0</td>\n",
              "      <td>0</td>\n",
              "      <td>1</td>\n",
              "      <td>0</td>\n",
              "      <td>1</td>\n",
              "      <td>0</td>\n",
              "      <td>0</td>\n",
              "      <td>0</td>\n",
              "      <td>0</td>\n",
              "      <td>0</td>\n",
              "      <td>0</td>\n",
              "      <td>0</td>\n",
              "      <td>0</td>\n",
              "      <td>0</td>\n",
              "      <td>0</td>\n",
              "      <td>0</td>\n",
              "      <td>0</td>\n",
              "      <td>0</td>\n",
              "      <td>0</td>\n",
              "    </tr>\n",
              "    <tr>\n",
              "      <th>3</th>\n",
              "      <td>0</td>\n",
              "      <td>0</td>\n",
              "      <td>0</td>\n",
              "      <td>1</td>\n",
              "      <td>0</td>\n",
              "      <td>1</td>\n",
              "      <td>1</td>\n",
              "      <td>0</td>\n",
              "      <td>0</td>\n",
              "      <td>0</td>\n",
              "      <td>0</td>\n",
              "      <td>0</td>\n",
              "      <td>0</td>\n",
              "      <td>0</td>\n",
              "      <td>0</td>\n",
              "      <td>0</td>\n",
              "      <td>0</td>\n",
              "      <td>0</td>\n",
              "      <td>0</td>\n",
              "      <td>0</td>\n",
              "    </tr>\n",
              "    <tr>\n",
              "      <th>4</th>\n",
              "      <td>0</td>\n",
              "      <td>0</td>\n",
              "      <td>0</td>\n",
              "      <td>1</td>\n",
              "      <td>0</td>\n",
              "      <td>0</td>\n",
              "      <td>0</td>\n",
              "      <td>0</td>\n",
              "      <td>0</td>\n",
              "      <td>0</td>\n",
              "      <td>0</td>\n",
              "      <td>0</td>\n",
              "      <td>0</td>\n",
              "      <td>0</td>\n",
              "      <td>0</td>\n",
              "      <td>0</td>\n",
              "      <td>0</td>\n",
              "      <td>0</td>\n",
              "      <td>0</td>\n",
              "      <td>0</td>\n",
              "    </tr>\n",
              "  </tbody>\n",
              "</table>\n",
              "</div>"
            ],
            "text/plain": [
              "   Adventure  Animation  Children  ...  Western  Film-Noir  (no genres listed)\n",
              "0          1          1         1  ...        0          0                   0\n",
              "1          1          0         1  ...        0          0                   0\n",
              "2          0          0         0  ...        0          0                   0\n",
              "3          0          0         0  ...        0          0                   0\n",
              "4          0          0         0  ...        0          0                   0\n",
              "\n",
              "[5 rows x 20 columns]"
            ]
          },
          "metadata": {
            "tags": []
          },
          "execution_count": 164
        }
      ]
    },
    {
      "cell_type": "markdown",
      "metadata": {
        "id": "jxWYxuzebLsI"
      },
      "source": [
        "Hagamos lo mismo con nuestra variable de decadas"
      ]
    },
    {
      "cell_type": "code",
      "metadata": {
        "colab": {
          "base_uri": "https://localhost:8080/",
          "height": 206
        },
        "id": "M3dWNcxTbLzE",
        "outputId": "9ebdfb87-373e-4257-e4e3-6d9e035ce1b8"
      },
      "source": [
        "movie_decades = pd.get_dummies(movies['decade'])\n",
        "movie_decades.head()"
      ],
      "execution_count": 165,
      "outputs": [
        {
          "output_type": "execute_result",
          "data": {
            "text/html": [
              "<div>\n",
              "<style scoped>\n",
              "    .dataframe tbody tr th:only-of-type {\n",
              "        vertical-align: middle;\n",
              "    }\n",
              "\n",
              "    .dataframe tbody tr th {\n",
              "        vertical-align: top;\n",
              "    }\n",
              "\n",
              "    .dataframe thead th {\n",
              "        text-align: right;\n",
              "    }\n",
              "</style>\n",
              "<table border=\"1\" class=\"dataframe\">\n",
              "  <thead>\n",
              "    <tr style=\"text-align: right;\">\n",
              "      <th></th>\n",
              "      <th>1900.0</th>\n",
              "      <th>1910.0</th>\n",
              "      <th>1920.0</th>\n",
              "      <th>1930.0</th>\n",
              "      <th>1940.0</th>\n",
              "      <th>1950.0</th>\n",
              "      <th>1960.0</th>\n",
              "      <th>1970.0</th>\n",
              "      <th>1980.0</th>\n",
              "      <th>1990.0</th>\n",
              "      <th>2000.0</th>\n",
              "      <th>2010.0</th>\n",
              "    </tr>\n",
              "  </thead>\n",
              "  <tbody>\n",
              "    <tr>\n",
              "      <th>0</th>\n",
              "      <td>0</td>\n",
              "      <td>0</td>\n",
              "      <td>0</td>\n",
              "      <td>0</td>\n",
              "      <td>0</td>\n",
              "      <td>0</td>\n",
              "      <td>0</td>\n",
              "      <td>0</td>\n",
              "      <td>0</td>\n",
              "      <td>1</td>\n",
              "      <td>0</td>\n",
              "      <td>0</td>\n",
              "    </tr>\n",
              "    <tr>\n",
              "      <th>1</th>\n",
              "      <td>0</td>\n",
              "      <td>0</td>\n",
              "      <td>0</td>\n",
              "      <td>0</td>\n",
              "      <td>0</td>\n",
              "      <td>0</td>\n",
              "      <td>0</td>\n",
              "      <td>0</td>\n",
              "      <td>0</td>\n",
              "      <td>1</td>\n",
              "      <td>0</td>\n",
              "      <td>0</td>\n",
              "    </tr>\n",
              "    <tr>\n",
              "      <th>2</th>\n",
              "      <td>0</td>\n",
              "      <td>0</td>\n",
              "      <td>0</td>\n",
              "      <td>0</td>\n",
              "      <td>0</td>\n",
              "      <td>0</td>\n",
              "      <td>0</td>\n",
              "      <td>0</td>\n",
              "      <td>0</td>\n",
              "      <td>1</td>\n",
              "      <td>0</td>\n",
              "      <td>0</td>\n",
              "    </tr>\n",
              "    <tr>\n",
              "      <th>3</th>\n",
              "      <td>0</td>\n",
              "      <td>0</td>\n",
              "      <td>0</td>\n",
              "      <td>0</td>\n",
              "      <td>0</td>\n",
              "      <td>0</td>\n",
              "      <td>0</td>\n",
              "      <td>0</td>\n",
              "      <td>0</td>\n",
              "      <td>1</td>\n",
              "      <td>0</td>\n",
              "      <td>0</td>\n",
              "    </tr>\n",
              "    <tr>\n",
              "      <th>4</th>\n",
              "      <td>0</td>\n",
              "      <td>0</td>\n",
              "      <td>0</td>\n",
              "      <td>0</td>\n",
              "      <td>0</td>\n",
              "      <td>0</td>\n",
              "      <td>0</td>\n",
              "      <td>0</td>\n",
              "      <td>0</td>\n",
              "      <td>1</td>\n",
              "      <td>0</td>\n",
              "      <td>0</td>\n",
              "    </tr>\n",
              "  </tbody>\n",
              "</table>\n",
              "</div>"
            ],
            "text/plain": [
              "   1900.0  1910.0  1920.0  1930.0  ...  1980.0  1990.0  2000.0  2010.0\n",
              "0       0       0       0       0  ...       0       1       0       0\n",
              "1       0       0       0       0  ...       0       1       0       0\n",
              "2       0       0       0       0  ...       0       1       0       0\n",
              "3       0       0       0       0  ...       0       1       0       0\n",
              "4       0       0       0       0  ...       0       1       0       0\n",
              "\n",
              "[5 rows x 12 columns]"
            ]
          },
          "metadata": {
            "tags": []
          },
          "execution_count": 165
        }
      ]
    },
    {
      "cell_type": "markdown",
      "metadata": {
        "id": "QOrxbvPXbVqh"
      },
      "source": [
        "Ahora creemos un nuevo data set con nuestra ingenieria de variables"
      ]
    },
    {
      "cell_type": "code",
      "metadata": {
        "colab": {
          "base_uri": "https://localhost:8080/",
          "height": 261
        },
        "id": "wbcEAs8ebL5f",
        "outputId": "efb0e582-70c1-4668-e225-a33a0da044fb"
      },
      "source": [
        "movie_features = pd.concat([movies[genres], movie_decades], axis=1)\n",
        "movie_features.head()"
      ],
      "execution_count": 166,
      "outputs": [
        {
          "output_type": "execute_result",
          "data": {
            "text/html": [
              "<div>\n",
              "<style scoped>\n",
              "    .dataframe tbody tr th:only-of-type {\n",
              "        vertical-align: middle;\n",
              "    }\n",
              "\n",
              "    .dataframe tbody tr th {\n",
              "        vertical-align: top;\n",
              "    }\n",
              "\n",
              "    .dataframe thead th {\n",
              "        text-align: right;\n",
              "    }\n",
              "</style>\n",
              "<table border=\"1\" class=\"dataframe\">\n",
              "  <thead>\n",
              "    <tr style=\"text-align: right;\">\n",
              "      <th></th>\n",
              "      <th>Adventure</th>\n",
              "      <th>Animation</th>\n",
              "      <th>Children</th>\n",
              "      <th>Comedy</th>\n",
              "      <th>Fantasy</th>\n",
              "      <th>Romance</th>\n",
              "      <th>Drama</th>\n",
              "      <th>Action</th>\n",
              "      <th>Crime</th>\n",
              "      <th>Thriller</th>\n",
              "      <th>Horror</th>\n",
              "      <th>Mystery</th>\n",
              "      <th>Sci-Fi</th>\n",
              "      <th>War</th>\n",
              "      <th>Musical</th>\n",
              "      <th>Documentary</th>\n",
              "      <th>IMAX</th>\n",
              "      <th>Western</th>\n",
              "      <th>Film-Noir</th>\n",
              "      <th>(no genres listed)</th>\n",
              "      <th>1900.0</th>\n",
              "      <th>1910.0</th>\n",
              "      <th>1920.0</th>\n",
              "      <th>1930.0</th>\n",
              "      <th>1940.0</th>\n",
              "      <th>1950.0</th>\n",
              "      <th>1960.0</th>\n",
              "      <th>1970.0</th>\n",
              "      <th>1980.0</th>\n",
              "      <th>1990.0</th>\n",
              "      <th>2000.0</th>\n",
              "      <th>2010.0</th>\n",
              "    </tr>\n",
              "  </thead>\n",
              "  <tbody>\n",
              "    <tr>\n",
              "      <th>0</th>\n",
              "      <td>1</td>\n",
              "      <td>1</td>\n",
              "      <td>1</td>\n",
              "      <td>1</td>\n",
              "      <td>1</td>\n",
              "      <td>0</td>\n",
              "      <td>0</td>\n",
              "      <td>0</td>\n",
              "      <td>0</td>\n",
              "      <td>0</td>\n",
              "      <td>0</td>\n",
              "      <td>0</td>\n",
              "      <td>0</td>\n",
              "      <td>0</td>\n",
              "      <td>0</td>\n",
              "      <td>0</td>\n",
              "      <td>0</td>\n",
              "      <td>0</td>\n",
              "      <td>0</td>\n",
              "      <td>0</td>\n",
              "      <td>0</td>\n",
              "      <td>0</td>\n",
              "      <td>0</td>\n",
              "      <td>0</td>\n",
              "      <td>0</td>\n",
              "      <td>0</td>\n",
              "      <td>0</td>\n",
              "      <td>0</td>\n",
              "      <td>0</td>\n",
              "      <td>1</td>\n",
              "      <td>0</td>\n",
              "      <td>0</td>\n",
              "    </tr>\n",
              "    <tr>\n",
              "      <th>1</th>\n",
              "      <td>1</td>\n",
              "      <td>0</td>\n",
              "      <td>1</td>\n",
              "      <td>0</td>\n",
              "      <td>1</td>\n",
              "      <td>0</td>\n",
              "      <td>0</td>\n",
              "      <td>0</td>\n",
              "      <td>0</td>\n",
              "      <td>0</td>\n",
              "      <td>0</td>\n",
              "      <td>0</td>\n",
              "      <td>0</td>\n",
              "      <td>0</td>\n",
              "      <td>0</td>\n",
              "      <td>0</td>\n",
              "      <td>0</td>\n",
              "      <td>0</td>\n",
              "      <td>0</td>\n",
              "      <td>0</td>\n",
              "      <td>0</td>\n",
              "      <td>0</td>\n",
              "      <td>0</td>\n",
              "      <td>0</td>\n",
              "      <td>0</td>\n",
              "      <td>0</td>\n",
              "      <td>0</td>\n",
              "      <td>0</td>\n",
              "      <td>0</td>\n",
              "      <td>1</td>\n",
              "      <td>0</td>\n",
              "      <td>0</td>\n",
              "    </tr>\n",
              "    <tr>\n",
              "      <th>2</th>\n",
              "      <td>0</td>\n",
              "      <td>0</td>\n",
              "      <td>0</td>\n",
              "      <td>1</td>\n",
              "      <td>0</td>\n",
              "      <td>1</td>\n",
              "      <td>0</td>\n",
              "      <td>0</td>\n",
              "      <td>0</td>\n",
              "      <td>0</td>\n",
              "      <td>0</td>\n",
              "      <td>0</td>\n",
              "      <td>0</td>\n",
              "      <td>0</td>\n",
              "      <td>0</td>\n",
              "      <td>0</td>\n",
              "      <td>0</td>\n",
              "      <td>0</td>\n",
              "      <td>0</td>\n",
              "      <td>0</td>\n",
              "      <td>0</td>\n",
              "      <td>0</td>\n",
              "      <td>0</td>\n",
              "      <td>0</td>\n",
              "      <td>0</td>\n",
              "      <td>0</td>\n",
              "      <td>0</td>\n",
              "      <td>0</td>\n",
              "      <td>0</td>\n",
              "      <td>1</td>\n",
              "      <td>0</td>\n",
              "      <td>0</td>\n",
              "    </tr>\n",
              "    <tr>\n",
              "      <th>3</th>\n",
              "      <td>0</td>\n",
              "      <td>0</td>\n",
              "      <td>0</td>\n",
              "      <td>1</td>\n",
              "      <td>0</td>\n",
              "      <td>1</td>\n",
              "      <td>1</td>\n",
              "      <td>0</td>\n",
              "      <td>0</td>\n",
              "      <td>0</td>\n",
              "      <td>0</td>\n",
              "      <td>0</td>\n",
              "      <td>0</td>\n",
              "      <td>0</td>\n",
              "      <td>0</td>\n",
              "      <td>0</td>\n",
              "      <td>0</td>\n",
              "      <td>0</td>\n",
              "      <td>0</td>\n",
              "      <td>0</td>\n",
              "      <td>0</td>\n",
              "      <td>0</td>\n",
              "      <td>0</td>\n",
              "      <td>0</td>\n",
              "      <td>0</td>\n",
              "      <td>0</td>\n",
              "      <td>0</td>\n",
              "      <td>0</td>\n",
              "      <td>0</td>\n",
              "      <td>1</td>\n",
              "      <td>0</td>\n",
              "      <td>0</td>\n",
              "    </tr>\n",
              "    <tr>\n",
              "      <th>4</th>\n",
              "      <td>0</td>\n",
              "      <td>0</td>\n",
              "      <td>0</td>\n",
              "      <td>1</td>\n",
              "      <td>0</td>\n",
              "      <td>0</td>\n",
              "      <td>0</td>\n",
              "      <td>0</td>\n",
              "      <td>0</td>\n",
              "      <td>0</td>\n",
              "      <td>0</td>\n",
              "      <td>0</td>\n",
              "      <td>0</td>\n",
              "      <td>0</td>\n",
              "      <td>0</td>\n",
              "      <td>0</td>\n",
              "      <td>0</td>\n",
              "      <td>0</td>\n",
              "      <td>0</td>\n",
              "      <td>0</td>\n",
              "      <td>0</td>\n",
              "      <td>0</td>\n",
              "      <td>0</td>\n",
              "      <td>0</td>\n",
              "      <td>0</td>\n",
              "      <td>0</td>\n",
              "      <td>0</td>\n",
              "      <td>0</td>\n",
              "      <td>0</td>\n",
              "      <td>1</td>\n",
              "      <td>0</td>\n",
              "      <td>0</td>\n",
              "    </tr>\n",
              "  </tbody>\n",
              "</table>\n",
              "</div>"
            ],
            "text/plain": [
              "   Adventure  Animation  Children  Comedy  ...  1980.0  1990.0  2000.0  2010.0\n",
              "0          1          1         1       1  ...       0       1       0       0\n",
              "1          1          0         1       0  ...       0       1       0       0\n",
              "2          0          0         0       1  ...       0       1       0       0\n",
              "3          0          0         0       1  ...       0       1       0       0\n",
              "4          0          0         0       1  ...       0       1       0       0\n",
              "\n",
              "[5 rows x 32 columns]"
            ]
          },
          "metadata": {
            "tags": []
          },
          "execution_count": 166
        }
      ]
    },
    {
      "cell_type": "markdown",
      "metadata": {
        "id": "qKZ3xR5EiiDT"
      },
      "source": [
        "Veamos la distribucion de los generos por pelicula. Por ejemplo, cuantos generos tiene cada pelicula?"
      ]
    },
    {
      "cell_type": "code",
      "metadata": {
        "colab": {
          "base_uri": "https://localhost:8080/"
        },
        "id": "dKIit_gOiXOF",
        "outputId": "f241cd51-7d62-40ef-c768-5d2d585569c4"
      },
      "source": [
        "movie_features[genres].sum(axis=1).describe()"
      ],
      "execution_count": 212,
      "outputs": [
        {
          "output_type": "execute_result",
          "data": {
            "text/plain": [
              "count    9718.000000\n",
              "mean        2.267442\n",
              "std         1.123253\n",
              "min         1.000000\n",
              "25%         1.000000\n",
              "50%         2.000000\n",
              "75%         3.000000\n",
              "max        10.000000\n",
              "dtype: float64"
            ]
          },
          "metadata": {
            "tags": []
          },
          "execution_count": 212
        }
      ]
    },
    {
      "cell_type": "markdown",
      "metadata": {
        "id": "3cSvDkGHitNd"
      },
      "source": [
        "Observamos que a lo mas una pelicula tiene 10 generos, y la mayoria tiene menos de tres.  \n",
        "**Que pasaria si el numero de generos por pelicula fuera muy alto?**  \n",
        "Bueno, pues en este caso nuestra variable de decada seria muy poco valiosa, pues su efecto se perderia en la inmensidad de generos. Lo contario pasa con peliculas que tienen pocos generos. Si quisieramos aumentar o ponderar mas la variable de **decada** bastaria con multiplicar esas columnas por un cierto valor."
      ]
    },
    {
      "cell_type": "markdown",
      "metadata": {
        "id": "dGPaONM6bUDB"
      },
      "source": [
        "## Modelo para Cold Start"
      ]
    },
    {
      "cell_type": "markdown",
      "metadata": {
        "id": "1sx3HuqcbSs6"
      },
      "source": [
        "Utilizaremos la distancia `cosine` al igual que en nuestro modelo anterior [cosine distance](https://es.wikipedia.org/wiki/Similitud_coseno)."
      ]
    },
    {
      "cell_type": "markdown",
      "metadata": {
        "id": "_EHOJ7bMbS1K"
      },
      "source": [
        "Esta distancia compara el angulo entre dos vectores del espacio, entre mas grande es el angulo mayor es la distancia. Normalizada por el tamaño o dimensio de los vectores.  \n",
        "Demanera que un angulo equivalente entre ambos de 180 grados la distancia seria 1, mientras que si su angulo es igual a 0 la distancia seria 0."
      ]
    },
    {
      "cell_type": "code",
      "metadata": {
        "colab": {
          "base_uri": "https://localhost:8080/"
        },
        "id": "rQ3WCA4j5-sz",
        "outputId": "37e0301b-844b-4295-8c77-e59995c95b68"
      },
      "source": [
        "from sklearn.metrics.pairwise import cosine_similarity\n",
        "\n",
        "cosine_sim = cosine_similarity(movie_features, movie_features)\n",
        "print(f\"Dimension de nuestra matriz de similaridad: {cosine_sim.shape}\")"
      ],
      "execution_count": 168,
      "outputs": [
        {
          "output_type": "stream",
          "text": [
            "DImension de nuestra matriz de similaridad: (9718, 9718)\n"
          ],
          "name": "stdout"
        }
      ]
    },
    {
      "cell_type": "markdown",
      "metadata": {
        "id": "Hhnx5MpacyCT"
      },
      "source": [
        "Ahora que ya tenemos nuestra matriz de similaridad entre peliculas, creemos nuestro recomendador con ayuda de la paqueteria **fuzzywuzzy** [paqueteria fuzzywuzzy](https://github.com/seatgeek/fuzzywuzzy)."
      ]
    },
    {
      "cell_type": "markdown",
      "metadata": {
        "id": "FcjO3nzidfuG"
      },
      "source": [
        "La paqueteria de fuzzywuzzy nos permite encontrar strings similares, de esta manera no necesitamos conocer el nombre exacto de la pelicula solo un aproximado."
      ]
    },
    {
      "cell_type": "code",
      "metadata": {
        "id": "ZcecgXOacyJz"
      },
      "source": [
        "from fuzzywuzzy import process\n",
        "def movie_finder(title):\n",
        "    all_titles = movies['title'].tolist()\n",
        "    closest_match = process.extractOne(title,all_titles)\n",
        "    return closest_match[0]"
      ],
      "execution_count": 195,
      "outputs": []
    },
    {
      "cell_type": "markdown",
      "metadata": {
        "id": "hSSAOPH2eT39"
      },
      "source": [
        "Nota que la funcion de arriba sigue malas practicas, pues no estamos pasando como argumentos movies, la estamos usando como una varaible que existe fuera de nuestro scope de funcion. Hay que tener mucho cuidado de estos errores cuando estemos en produccion. Por ahora, tomemos licencia para ser un poco mas laxos, pues estamos en **piloto**."
      ]
    },
    {
      "cell_type": "code",
      "metadata": {
        "id": "0u9tJUIphzbi"
      },
      "source": [
        "# Diccionario con los nombres de las peliculas\n",
        "movie_idx = dict(zip(movies['title'], list(movies.index)))"
      ],
      "execution_count": 204,
      "outputs": []
    },
    {
      "cell_type": "code",
      "metadata": {
        "colab": {
          "base_uri": "https://localhost:8080/"
        },
        "id": "0cpN-nNWcyZl",
        "outputId": "248bdc73-bc70-45f8-b70f-017d3a7b0ec2"
      },
      "source": [
        "# Titulo de la pelicula\n",
        "title = movie_finder('toy histry')\n",
        "# Indice\n",
        "idx = movie_idx[title]\n",
        "\n",
        "# Recommendador\n",
        "n_recommendations=10\n",
        "# Scores de similaridad par ala pelicula que elegimos\n",
        "sim_scores = list(enumerate(cosine_sim[idx]))\n",
        "# Ordenamos de mayor a menor similaridad\n",
        "sim_scores = sorted(sim_scores, key=lambda x: x[1], reverse=True)\n",
        "sim_scores = sim_scores[1:(n_recommendations+1)]\n",
        "similar_movies = [i[0] for i in sim_scores]\n",
        "print(f\"Because you watched {title}:\")\n",
        "movies['title'].iloc[similar_movies]"
      ],
      "execution_count": 205,
      "outputs": [
        {
          "output_type": "stream",
          "text": [
            "Because you watched Toy Story (1995):\n"
          ],
          "name": "stdout"
        },
        {
          "output_type": "execute_result",
          "data": {
            "text/plain": [
              "1706                                          Antz (1998)\n",
              "2355                                   Toy Story 2 (1999)\n",
              "559                                      Space Jam (1996)\n",
              "1357                                Borrowers, The (1997)\n",
              "1757                                 Bug's Life, A (1998)\n",
              "2539                We're Back! A Dinosaur's Story (1993)\n",
              "5624    Kirikou and the Sorceress (Kirikou et la sorci...\n",
              "5975    Asterix & Obelix vs. Caesar (Astérix et Obélix...\n",
              "6115                            Casper Meets Wendy (1998)\n",
              "7759    Asterix in America (a.k.a Asterix Conquers Ame...\n",
              "Name: title, dtype: object"
            ]
          },
          "metadata": {
            "tags": []
          },
          "execution_count": 205
        }
      ]
    },
    {
      "cell_type": "markdown",
      "metadata": {
        "id": "-bJyRw8qfL0t"
      },
      "source": [
        "Pasemos lo anterior a funcion"
      ]
    },
    {
      "cell_type": "code",
      "metadata": {
        "id": "_PubZShGiMy5"
      },
      "source": [
        "def get_content_based_recommendations(title_string, n_recommendations=10):\n",
        "    title = movie_finder(title_string)\n",
        "    idx = movie_idx[title]\n",
        "    sim_scores = list(enumerate(cosine_sim[idx]))\n",
        "    sim_scores = sorted(sim_scores, key=lambda x: x[1], reverse=True)\n",
        "    sim_scores = sim_scores[1:(n_recommendations+1)]\n",
        "    similar_movies = [i[0] for i in sim_scores]\n",
        "    print(f\"Recommendations for {title}:\")\n",
        "    print(movies['title'].iloc[similar_movies])"
      ],
      "execution_count": 206,
      "outputs": []
    },
    {
      "cell_type": "code",
      "metadata": {
        "colab": {
          "base_uri": "https://localhost:8080/"
        },
        "id": "GoVuKkj2iO82",
        "outputId": "07310eda-0b94-40be-c46c-87d3a860fdd8"
      },
      "source": [
        "get_content_based_recommendations('aladin', 5)"
      ],
      "execution_count": 207,
      "outputs": [
        {
          "output_type": "stream",
          "text": [
            "Recommendations for Aladdin (1992):\n",
            "1177                                      Hercules (1997)\n",
            "95                          Muppet Treasure Island (1996)\n",
            "673     Land Before Time III: The Time of the Great Gi...\n",
            "1757                                 Bug's Life, A (1998)\n",
            "3727                Ferngully: The Last Rainforest (1992)\n",
            "Name: title, dtype: object\n"
          ],
          "name": "stdout"
        }
      ]
    },
    {
      "cell_type": "markdown",
      "metadata": {
        "id": "yHDrt-uwKKUU"
      },
      "source": [
        "# Modelaje con factorizacion de matrices"
      ]
    },
    {
      "cell_type": "markdown",
      "metadata": {
        "id": "9Qiqpy8kNodX"
      },
      "source": [
        "Ahora aprenderemos a construir nuestro recomendador usando descomposicion de amtrices. Esto es muy util cuando estamos manejando datos muy grandes, imagina tener 350 millones de usuarios, 3 millones de artistas, y 70 millones de canciones...  \n",
        "Ante estas caracteristicas lo recomendable es reducir la dimensionalidad de nuestras matrices, una especie de PCA."
      ]
    },
    {
      "cell_type": "markdown",
      "metadata": {
        "id": "rEyLsnpGOJ6B"
      },
      "source": [
        "La descomposicion matricial nos puede ayudar a descubrir varaibles latentes que expliquen nuestros datos. Pueden ser interpretadas como gustos o preferencias de los usuarios, aunque llevar acabo una interpretacion puntual es un poco mas dificil. Pensemoslo mas como una abstraccion."
      ]
    },
    {
      "cell_type": "markdown",
      "metadata": {
        "id": "49Tpo2x_kC47"
      },
      "source": [
        "![image.png](data:image/png;base64,iVBORw0KGgoAAAANSUhEUgAAAO8AAAA8CAYAAACO2u04AAAFNklEQVR4nO2cS7KzIBCFGTjLihy6GaYuhd24GfaRaf+DXP15IwJKJ+erunUrD6GFPjzUHEEAAJaIpwMAAFwD4gWAKRAvAEyBeAFgCsQLAFMgXgCYAvECwBSIFwCmQLwAMAXiBYApEC8ATIF4AWAKxHsTWuunQ0gyenzAB+KNsUkSQpAQgmZVk9ia1FxbRk/OxLeRFDNdPYVNCpLbtWP5spEUsfOua88diDfCJgWJJhn3DeKtKF3NjdqRGynxEpFWNM+Kalp9QPEGTnqTJISk/S2t5mNWFN4I9knG43OrgTSpeSalZOTYvTrj+L1erWgW5vtOjObnR51OLMcBlTFqRbMwv/NX9iYDdaViD8UXqv//TKHV7J9fNEM3kka/HTPOZsZTMgPdnxvp8gpi3fvACH6TdYNmd/G+329a15WWZaF1Xen9fmeOyHSQ01n2a38WCSbbiRHPnnn9mD4C3+s1P3djCL92O7EoRjcRdtHur3dx6zOxR+Kz6jeXeUZ5mdnDn3U/x5r9Z597jptzI1leQax//eWNcZssOHef7uJd15VerxdN00Sv14vWdc0cUdhBFPnewadTwsJKRJFbNp+Nya1TK5q976bEHyrSTQa3zTJLtmRSh+p39mibJCG3zF42Vk565kxzc24UxRaL9fM/3J91e9/u4l2WhaZpIiEETdNEy7Jkjsh1sL30sVeH5hLH/vs0ntlZmSiC4t1nDntJbY/gLk5SBEdb8zsnYrRm1j0u97VbRjj2mHj9Y83yc8vldAzdxNs8N+LlnY01vdw+n48h+M281tt246RFRBRqLK9T/z4MLZutK89GTGOLNx37NfH6y1+f0KzSW7zm2/W5kSqvKNbo8rjuYiG/Pa+H0QDZRLg484Yav/OyuZl4c7FfEK9WM81KH//DPDHzurTOjRKxndkKDT7zluMuyfalS0QoViLHLjrYn18Sr1enOQrbSWVfqLl2waqpeJOxF4rXGnxSe7Yee96bcyNZXg7nXK26zO8MvOe9hrNf2OzZyr6Vk96niMBe7cqe1799FLkVEFhOHkvz07eK2u55c7Hb8aXFG2yXSLCxq83Xxfu/jLtyI1Ve+lZP5Cq/O3iMfLUZ/DJtniQaFq1IVpzc8Pd5wW/zzU9YaSWvD0zf+YQV+C5OblUCT4HZf980g+PZZgB+GogXAKZAvAAwBeIFgCkQLwBMgXgBYAoL8XL2Vxo99tHj68G3nPOA4jXvgT1gIQPvKoNW3lWZ3xd35eF88mJox4DiNbm/seFd1ah068mqJ8Vr8mCfNHiiymVA8e6j1AX/p1JvJ7dmeFd19K5K+znFaeF7dU8+5fyuap9ldhn097zpn6tFfYiKvJ0itcO7qpt3VdLPKUoL36sb8umM31Xlr4hcBnXSiDR2zoeo1tuJTiyb4V1V4V2V8nOK0eIH/Dfk06mY2u59B/WwCjd21ofokreTUzu8q5xj23lXXfuBQT/xts2nM35Xdc4ZLqxm3qwPUUFjw7vqIe+q4qVjZ/E2yierxqjfVdsLZrz2vLlOaz3zwruqg3dVaQLfvWw2qMqn0Hkym3nLyV9giPoQ9RAvvKvae1cF/ZxidBRvy3w65XfFbM9bjj/aJy/tm43RYc8L76o+3lXmwFXqBXVdvH3zKe2fRfyuNoNfpHCGqfSC4gK7+7zgNynxrqryguLCbzxhBb6DthdnwlVw8b36yWebAQAxIF4AmALxAsAUiBcApkC8ADAF4gWAKRAvAEyBeAFgCsQLAFMgXgCYAvECwBSIFwCmQLwAMOUfeURGuptLQ0kAAAAASUVORK5CYII=)"
      ]
    },
    {
      "cell_type": "markdown",
      "metadata": {
        "id": "Tl_xTXDrj_LG"
      },
      "source": [
        "![image.png](data:image/png;base64,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)"
      ]
    },
    {
      "cell_type": "markdown",
      "metadata": {
        "id": "LidPQTbjwmSB"
      },
      "source": [
        "![image.png](data:image/png;base64,iVBORw0KGgoAAAANSUhEUgAAAt8AAAFeCAYAAABdDnMkAAAgAElEQVR4nOydd1xUx/r/DxqVWFGxobFrkqtREivGXqLGa4u53ySaqEmMuSY3zUSTm8TY401sURHs2BCRooBIFaX33kFQUVCxoEFhl909n98f/GY8Z1lgsbC7+rxfr/OinDLPzJl55nOeM2dGAEEQBEEQBEEQ9YJgaAMIgiAIgiAI4nmBxDdBEARBEARB1BMkvgmCIAiCIAiiniDxTRAEQRAEQRD1BIlvgiAIgiAIgqgnSHwTBEEQBEEQRD1B4psgCIIgCIIg6gkS3wRBEARBEARRT5D4JgiCIAiCIIh6gsQ3QRAEQRAEQdQTJL4JgiAIgiAIop4g8U0QBEEQBEEQ9QSJb4IgCIIgCIKoJ0h8EwRBEARBEEQ9QeKbIAiCIAiCIOoJEt8EQRAEQRAEUU+Q+CYIgiAIgiCIeoLEN0EQBEEQBEHUEyS+CYIgCIIgCKKeIPFNEARBEARBEPUEiW+CIAiCIAiCqCdIfBMEQRAEQRBEPUHimyAIgiAIgiDqCRLfBEEQBEEQBFFPkPgmCIIgCIIgiHqCxDdBEARBEARB1BMkvgmCIAiCIAiiniDxTchQKBQAgNWrV6NHjx7o2bMnXn75ZXTv3h3z58/H/fv3IYoiioqKcPbsWVy/fh2iKEKj0UAURQCQ/axpe9xjpPsIgiAIgiBMARLfhIyKigqIoojt27dj4sSJaNGiBRo0aAAbGxv89NNPePDgAQDg6NGjaNiwIdzc3ACgigCuThDXVSxXdzwJboIgCIIgTBES34QMFsWuqKgAAIwdOxYtWrTAxYsXAQAajQZApfg2MzPj4lv7GlLUajU/r7pjpP9Xq9U692lfRzsKThAEQRAEYeyQ+CaqIIoilEolNBoNxowZg+bNm+PChQtc5Kanp+Obb76BIAhYvnw5Tp48CVdXV5w7d04mhi9evIgDBw7gl19+we+//44zZ86gpKQEALjAzsnJgYeHBwoLC3HhwgVs27YNy5Ytg4ODAwoLC/kQF0dHR/z000/YvHkzEhIS+PnaQ14IgiAIgiCMGRLfhAwmnpVKJQBgzJgxaNGiBfLy8vj+devWwdzcHIIgoGnTpmjZsiWaNWuGiRMnAqiMjnt4eKBDhw6wsLBA//790atXLzRo0ADTp0/H1atXuXhet24dBEHAtGnT0L9/fzRt2hSWlpYQBAGTJ0/G3r178frrr6Nx48awtLREgwYNYG5uDn9//ypjzAmCIAiCIIwdEt9EFURRrDLsJD8/H0ClsL579y62bt0KMzMz2Nvb4/Lly8jPz0dRUREAICUlBRYWFhg1ahQyMzMBVEa67e3t0bBhQyxfvpwL5o0bN6JBgwZo37491q5di/z8fFy9ehXvvfceBEGAmZkZ5syZg8jISNy+fRsODg5o2rQpJk2ahLKyMhp6QhAEQRCESUHim6hCTeJbrVZDFEUcOXIEgiDAxcVFJn5VKhV+/PFHtGrVChkZGQAqZ1ARRRHl5eWYNWsWrK2tcffuXQDA77//DkEQcOLECQDggtrPzw/NmzfHJ598wqPkbCaWoUOHom3btrh9+za3V3tMOUEQBEEQhDFC4puoQm2Rb1EUcfjwYZiZmcHFxQUajYaL8pKSEgwbNgwdO3bEtm3bsHnzZmzduhXbtm3Dtm3bMGjQIHTp0gWpqakAHg47cXNzg0ql4uI7Li4OlpaW+Pzzz3H//n1oNBoolUqo1WpMnToVrVq1wtWrV7m9FPkmCIIgCMIUIPFNVKE28Q0AR44c4eKbnQMAxcXF6NWrFxo1aoTevXujZ8+e6NWrF3r27Ik+ffqgV69eePfdd5GQkADgofh2d3cHAJSXlwMAkpOT0b59eyxevJj/j9k0c+ZMEt8EQRAEQZgkJL4JGdIPLnXNdsKGgLDIt5ubG498azQa3Lp1C3369EH//v1rTIddZ8OGDRAEASdPngQgF9/t2rXD559/zoebMPE9Y8YMEt8EQRAEQZgkJL6JKmg0Gh7hHjduHFq0aIErV67wfQDg5OQEMzMzODo6ys4tKyvDvHnz0LRpUwQHB/NzpOJYqVRykV2d+E5JSUH79u11im+KfBMEQRAEYaqQ+CZkMCF779493L17FyNHjkSLFi2QlJSEBw8e8Ih1ZGQkBEHA3LlzcefOHdy7d4/PduLn54cXXngBr7/+OuLj43H79m2Ul5fj5s2b8PLywt69e3Hjxg0AleLbzMxMp/ju0KFDFfEtiiJmzpwJCwsLEt8EQRAEQZgcJL4JGSy6vHv3bsyePRtNmzaFIAgYP3481qxZg7KyMgDAvXv3MHLkSAiCgLfffhtz5szBvHnzIIoi7t+/j99++w0WFhZo0aIF5syZg8WLF2PSpEkQBAFvvfUW7ty5AwBYtWoVnzUFAL9+YmIimjVrhoULF3JBzuYenzx5Ml544QUUFBQAqBpZJwiCIAiCMFZIfBMyWHR5z549mDFjBubNm4ePP/4YM2fOxMqVK7k4BipXulyyZAlGjx6NUaNGYeXKlbIotIeHBz7++GO8+eabGDx4MKZMmYLly5cjMjISKpUKAHD69GksWLAA8fHxAB4K7IKCAnz11Vc4ePAg/59KpYIoiti2bRu++OILmmqQIAiCIAiTg8Q3IUPfCHJ1YpcJYSauq7tudenUlH5Nw0so8k0QBEEQhClA4puQIV0sR6FQQKlUQqlUQqFQ8Kg4Q61W87m31Wo1H7LCrqNSqVBRUcE/4FSpVPx4dh12DSbmpUvGK5VKHu2W7quoqIBSqaTl5QmCIAiCMDlIfBMypIK2uk37ODbmWtcxbH9tx+i6bk3HakfBSYATBEEQBGEKkPgmCIIgCIIgiHqCxDdBEARBEARB1BMkvgmCIAiCIAiiniDxTRAEQRAEQRD1BIlvgiAIgiAIgqgnSHwTBEEQBEEQRD1B4psgCIIgCIIg6gkS3wRBEARBEARRT5D4JgiCIAiCIIh6gsQ3QRAEQRAEQdQTJL4J4ikiXfZeFEW9N+nxBEEQBGEsUF/2+JD4rgVp5VGpVFCpVPxvXft0VTa1Wo2KigpoNBrZNeszDyxNjUaDiooKnbZqH6NWq2XHGBqpnSqVChUVFTrFLftdmk9DNn5d9aSmjdUTgiCIJ4U+/ZUu3yr9yfoyQ/ULNfl47XwAptmX6RKwuu6XIdG3L1Or1UZhrzFC4lsPtCtOXSqSMVc6XSJPl73GkIfqbNAlqmsS2oboLB7nXGMoe4IgTBt9RVtN+6vrB43BR5lSX8bQ175nIRhDfVlVSHzXAqsw9+/fh52dHQ4dOsT/z/aVl5fD0dERu3btwp07dwBUNhi2PzIyEps3b8aFCxd49KA+K6I0zdzcXGzYsAGenp5QKBTQaDTcVrVaDY1Gg/T0dGzZsgUBAQGySL+hEUWR27t//3789ddfKC0tlb1RYNuDBw+wa9cu7N27l791MEQeWLqiKCI6OhqDBg3CqFGjMGLECNk2fPhwjBw5EoMGDcK+ffv4uc+C4yUIwvAw//f3339j165dcHFxQXl5Od/H+oBDhw7B1tYWd+/elZ0niiKioqKwdetWXLlyhfvj+s4D265du4b//e9/OH78OH9jKO3LRFFEXl4eNm7cCG9vb6OKwrI8KBQKHD16FH/99Rdu375dJeKt0WigVCqxZ88e2NnZQaFQGFzIiqKIyMhIDB06FCNGjICNjY2sL7OxseH/27JlCwDI3vwTlZD4rgVpY7a2tkbXrl1RUlLCG4YoiigoKEDnzp3RuXNneHh4AACUSiVEUYRSqcTixYvRo0cPpKSk8Nc19QmzHwBKSkrw3nvvoXXr1jh16hSAhw1DrVZDqVTiX//6F1588UWcP39e5gQMifT1myiKWLt2LZo0aYI//viD3wep0D1x4gRefPFFLFu2jL+eNITTkpZdZGQk+vfvj2HDhmHw4MEYPHgwBg0ahEGDBmHIkCGwsrKCIAj46aefZA9DBEEQjwPzQ2yYxvDhw9G1a1cUFRXJfOetW7dgZWWF5s2bIzw8HMDDyGtpaSnee+89dO/eHQUFBQYLJEnt+eyzz9CyZUvs378fQGW/y/qy8vJyLFmyBI0bN4arqyvvP4zBp7J7odFo8Ouvv6JRo0bYuXMnL09pn33gwAG8+OKLWLNmjcGGrmoTEREBa2tr3odJf77xxhto164dBEHA4sWL+UOGoW02Nkh814K0sX/++ecQBAEREREAHgrzsLAwCIIAQRDw1VdfQRRFlJWVAQByc3PRo0cPjBs3jldAQzgsqegPCQlB+/btMWjQIGRnZ0Oj0UChUAAANm/eDEEQsHr1alRUVMjyaUikY/g0Gg3u3LmDfv36oWXLlsjMzJQJ76tXr+Kll15C3759UVxcLBOx9Z0PqV0KhQLFxcUoLi7GzZs3UVxcjGvXruHmzZs4c+YMLCws8MYbbyA9PR0AZGP8CIIgHhWpDwKAuXPnQhAEREZGyvq4wMBA3petXr1a1l9duXIF7dq1g42Njew7JkP0ZczepKQkWFlZ4eWXX0ZaWhoPIAHA0aNH0aBBA3z55ZcoKyvj/YAx+FRWrmq1GsXFxbC2tkbLli2RlpYme8N75coVdOvWDX379sWNGzf4uYa2XVdfxn4PDAzEiy++iAEDBiA3NxcA+IME8RAS33rAGryHhwcEQcDatWtlT6dbt25FkyZNMHLkSNjY2ACoHIoiiiL8/f1hZmaG77//HgAM5rCASiHIBN2ff/4JQRDwyy+/8I8jIiMj0a5dO0yaNAm3b9/m5xi6sTO0He/p06chCAJmzpzJ7VQqlfj2228hCAJOnDgB4KGINUQ+9BkXWVxcjClTpqBly5bw9PQEYFibCYJ4NmFvAA8ePAhBELBr1y7ZMIeff/4ZnTt3xquvvooxY8YAABffkZGREAQBS5cuBfAwylyfSPsy9vuRI0cgCAI+/fRT3ienpqaia9euGDp0KK5du8bzYUywN7IA4OTkhIYNG2L+/PkoLS3leVu0aBEEQcDp06f5eYbuk2tK+86dOxg5ciTatGkDX19fADCq4T7GBInvWpAKoMLCQjRv3hxjx47l++/du4dZs2Zh3Lhx+PPPP9GmTRtcvXqVn7N9+3YIgoCjR49ycWiI117MHtYQysrK8O6776JJkybw9vYGAEyZMgWtWrXikX3pKzBDNxxp+uy1okajwQcffAAzMzO4uLjwtxCNGjXCu+++qzM6Y2gBzh4eWNTj3r17+OyzzyAIArZv384fkIzl9SJBEKaP9lCG3NxctGvXDtOnT8f9+/f5MWPGjMGMGTOwbNkyWFpa8nHIGo0G27dvR8OGDeHm5mbwoXzSvJSXl+Ozzz5Dw4YNcfToUQCVkf2mTZvizJkzACCz1Rh8qjS6rVQqoVKp8N5776Fhw4bw8PCAKIoICAhAkyZNMH/+fKOYtUvbfmkeNBoNSktLMW/ePJiZmcHe3t6gdcQUIPGtB0wIVVRUYNiwYbC0tOTjvgsKCtC9e3esXbsWYWFhMDMz4xHX+/fvY8GCBejcuTPS0tIAGCaiqS3+2PCTmJgYtG/fHhMmTMCXX34JQRCwbdu2KhFmY2o42rZdvHgRFhYWeOWVV3D9+nWMGDECbdu2RV5eHgDjiRJI77nUJjbM55tvvpF9NCQ9lyAI4knAxhqLooghQ4bA0tKSB4vu3LkDCwsL7Ny5Ez4+PmjQoAHOnz8PoLIvmzNnDjp06IDi4mIeQKhvtP0o85UZGRno1q0bBg8ejF9//RWCIODHH3806mCGdkAsIyMDnTp1wiuvvIKrV69i9OjRaN26NfLz8/nxxjBeXdqnsb5MpVJhw4YNfOgtCy4ZY7kbCyS+9UBacX788Uc0bNgQQUFBEEUR586dg7m5OeLj45Gbm4v27dvjm2++gSiKyM7ORt++fTFp0iTuKAz56ksqXJkD3rRpE5o2bQozMzN8+umn+PvvvwHIo97GiNQRsbcLgwcPRoMGDbB161YA8teMhs6HtsMCAHd3d7zwwguYPn26rNx1nUcQBPG4sEgrAB5wiYiIkPVlSUlJKCwsRMuWLfHrr79CFEUUFhaiS5cu/K0ve4NrKP+kHXUFgGPHjqFRo0Zo2LAh/vnPf/LZWox52APrY9nwk9WrV0MQBLzxxhsQBIF/SCoVuobOh1RHMFtOnjyJhg0bYsqUKXzILQnvmiHxrSesAgUFBUEQBKxYsQJAZeSyU6dOqKiowM2bNzF+/HgMHz4cAODv7w9BELB8+XIAhndYQNXGfvbsWfTo0QOCIGDTpk38GO3p+4wJaeQDAB48eIA333wTgiBg5MiRvJyNpfFLhTfrCGJjY9G6dWtYW1vzyIaxvVokCOLZgkUpRbFyRqgGDRpwv79mzRp06dIFpaWlqKiowJAhQzB+/HgAQFRUFI8mAw9n8zKGYXzsTW5iYiLvy7755hsAVT9aNya/qh3FZzO0jBgxAoIg4O2338a9e/dkxxrafl1vbxMSEtCqVSv069cPRUVFACiIpA8kvvVA2thv3LgBCwsLTJo0CSqVCrNmzcLIkSMBVDb0NWvWoEOHDigpKYG9vT0EQYCzszMf721ohwU8FK3l5eWYM2cO2rZtiy5duqBDhw4IDQ3lxxhynHRtaDujAwcOQBAErF+/HoDxRO51Ce/Lly/z4UuBgYEAqo5JNOayJwjCdGG+8dq1a2jXrh2mTZsGjUaDsWPH4p133uH9w7Jly9CuXTs+L/gLL7yAoKAgAKj36XKl6OrLysrK8MUXX6BZs2Z45ZVXYGFhwafSNaaVIXWhHRDbsmULBEHA3r17+X5jCSQxG5gdRUVF6NevH9q2bYvIyEgAD+sXO1b7HKISEt96IBVEarUaY8aMQZcuXZCZmYkuXbpg1apV/FhPT09YWFjA1dUVX3/9NV566SU+pq6+pxjUhXToy8aNG3kjDw0NRcuWLTF+/Hj+dbixC3ApTk5OEAQB//vf/4xmbBxDak9JSQk+/PBDmJmZcedKH6UQBFEfaAu9UaNGwdLSEtnZ2ejcuTO2b9/Oj/X394e5uTkCAwPx3nvvwcrKCnfv3pVN2WfoYScs/cOHD/PgS1paGlq3bo1hw4bh8uXLAAz7sFAT0v6V9QMsaHfgwAHZccbQP0j7stLSUsyaNQuNGjXCkSNHAMCoFuUzdkh864lUzG3cuBHm5ub4448/0LJlS5w9e5ZXtrS0NPTu3Rv/93//h9GjR/PXdob82lo6Ros1juDgYLRq1QozZ87ErVu3AADLly+HIAh8VSrAuAW41C5d4tsY7NV+tbhx40aYmZnx17e12WgMeSAI4tmA+RMmvpcuXQozMzNs2rQJL774IqKjo/lxBQUF6NChA77//nv06NGD92WGmrGL2SUd7w0AKSkpaNeuHd58800+RS6LHrMFy4xpGGJ1sAi9nZ0dH++tK4JsSKR92Zo1a2BmZob//ve/sn21nUtUQuJbD7SHA8TGxqJBgwbo3LkzOnXqhDt37nBRe/v2bXz44Ydo3LgxLCws8NNPPwEAX8rdkHlgEe+bN29i0qRJsLS0lL0qunPnDsaOHYuGDRsiJCQEwMMvyo294UjFNwCjiHxrvy709PSEIAgYNWoU0tPTkZWVhaysLOTk5PAtKysL165dq7JqJ0EQxJOCvYUNCgpC8+bN0aFDB3Tt2hW3bt3i/kahUGDcuHFo06YNWrdujTVr1gAw/OJfUp949+5dzJkzBy1atIC/vz+ASl97584dvPPOOxAEAe7u7txuY+gXdCEdu87E94EDB4xGdEttEEURLi4uEAQBw4cP5/1Ydna2rC/Lzs5GYWEhAPnMNEQlJL71RHvoQMeOHSEIgs7I9tatWyEIAjp16oSTJ09W2W8o29ksJz///DMEQYCtrS2ASqfExqP7+PigVatWGD58OAoKCgCYhgB3dHSsMubbGGB1RqFQ4JdffoGZmRlefPFFNG7cGI0bN0aTJk3QpEkTNG7cGM2bN4cgCPj444/5jATksAiCeNKwYMydO3fQrVs3CIKAGTNm8BUwgUrfs379egiCgBYtWiAkJEQWxDGU3cwnqlQqPtMVmwCBzZkNVC6B3qZNGwwYMABZWVkAYBRDP6uDvY2wtbWFIAjYt28f32csNjM7Pv74YzRo0ACNGjWq0pc1adIE5ubmEAQBs2fPBvBwcUHiISS+9UQqPpVKJZYsWYLu3btj3bp1/KmVNezg4GC0bdsWs2bN4gLWkA5LOs47Ojoar7zyCp9WUBpdZYLv119/RevWrfnCQIDxzDFaHZ6enujevTvs7e0BGIdolb4tUalUOHPmDJYsWYIffvgB33//vWxbunQpli9fjsWLF8PR0dGoFjgiCOLZQjoEcd68eWjfvj327NlTxW8GBwejQ4cOGD16NEpLSw3+Ibt0rHlOTg769++P2bNn4/79+7K+jPV3tra2aN26NbZu3SobsmKMsPtx9OhRdOnSBSdOnJAN8zA0Ui1w/PhxfPvtt1i6dGmVvoxtX331FZ8q0ZgfegwFiW890fWFtfZ+7U3XfkMgtUn6EKE9nlvbMUk/rGHHGCvaHwAZg63aZVvXc40pLwRBPDvoI0R19WGGHjctTVd7Vg3t6XG1v7cxdn+q3V8YWx9gTLY8C5D4rgPaDV+6gpP2cWy/sVVUXbZp/2RREantxpYPbVi+jCFCIEX7oY2VfU2bNA/GXu4EQZg2arWaj4fWJbir6y8MhdSO2mwz5hUuq4P1E8bWl0mpa19Gb3CrQuJbT7SFqK4nU2N9cq3JNn3tZ/83VoypvBnVle2TPocgCKIu6OoHdPmZmvoLQ1BdPyzdZ8x9cU0Yu82P8yaXqAqJb4IgCIIgCIKoJ0h8EwRBEARBEEQ9QeKbIAiCIAiCIOqJ50J81zbmmTbanvWN1X3i2UX7XtP27NV9aT4MXa600WaITVdbMEWeC/FNEARBEM8CTHSIoiibYtXYN+libaa8mWo+TNVuqf2iaNqCW8pzIb6fpRtGEHWF1X9qB882dH/lsE6b/f4s8KzkgyAeF1NvC8+F+Jau8BgeHo41a9Zg7dq1WLt2rex3Y9rWrFmj005jtbemPDCb161bZxL2S+1et26dzvthzNvq1auxZs0arF69Gv/73/+QlpbG2wHx7CL1c25ubjrbYH21H0O2m99//x0rVqxAbGws76Cflbovjf5lZWVh+/btsLW1xY4dO4x627ZtG+zt7bFz505s374d27dvN7hNddmk9trZ2cHOzs4k8sFs3L59O+zs7Hj5G9quum62traws7PDjRs3ZG3BlHkuxLcoPlw6fdmyZejatSs++eQTLFiwAPPnz8eCBQuMbps/fz4+/fRTjBw5EpMnT+Z2Gqu91eVh/vz5+Pjjj/HWW29h6NChWLx4MT766COD21ab3R999BEWLVqEgQMHYtq0afjss89Mpuznz5+PhQsXYt68eWjVqhWOHj0KAFyYEc8mUj83btw4DBkyBAsXLsTChQvrre5+9NFHWLx4MQYOHIjp06fj008/rdd289FHH+HLL79E48aNsWnTJlnZPAuw1+8AsH37djRp0gQLFizAzJkzMXv2bLzzzjtGt82cORNz585F3759YWNjg/feew+zZs0yWnt1bczWWbNmYejQoRg2bBjeffddzJo1y+C21Wb37NmzMWfOHAwZMgTDhg3D+++/b/R2S+1n9UcQBISGhsraginz3IjviooKAMD333+PFStWGNgi/UlJScG1a9cMbcZjU1hYiMjISEObUWd8fX1x+/ZtQ5vxyEyfPh0uLi4ATD9SQNSM1M9NnjwZp06dMpgtPj4+uHv3rsHS/+ijj7Bt27ZnctgJy8uOHTvw0UcfGdgi/QkKCkJ+fr6hzXhssrKykJOTY2gz6kxGRgZyc3MNbcYjM3z4cISFhfG/Tb1NP5fi+z//+Q+USiUqKir4T2PbFAoFlEol/Pz8kJCQAIVCYdT26tqUSiXf4uLicOrUKSgUCpSVlRncttrsLi8vh0KhwOHDh5GamgqFQsHvgbFvrMxLSkowceJEnDhxAgCJ72cdqZ+bNGkS9u3bV69+TqlUoqysDAqFAgcPHkRmZqbMB9RH+g8ePIBCocD06dOxdetWWdk8C0jF97Zt2zB79mzuryoqKqBSqYxqk/ojDw8PJCYmyu6Zoe2rSz5UKhWUSiViY2MRGxsr+7+xbtJyjo6ORlxcHL8nhrZNX/tZvztw4EAS36aGtvj++uuvq3xBa2ybWq2GKIo4f/48UlJS+N/Gam91Xycze5OTk+Ht7Q0AUKlUBretNrtZeTs5OSErK8ukyp7Zef/+fRLfzxGiKBffDg4OVerE0653KpUKAHDs2DHk5uZW8QNPO3027GbmzJnPhfh+5513IIqVw42M0T9pNBpUVFRAFEU4OzsjLi4OoljZvxmjvTXlQxRFqFQqREREICIigufD0LbVZjezPSwsDFFRUTwfhratrvWHxLcJIopy8f3NN9/I9hkjbHxuUFAQUlJSuHAyVnt1wRoQACQlJeH06dMAwDtoY4U5VaBSRGRlZQEwHfHKyvzBgweYNGkSie/nBKmfmzRpEg4ePCjbVx/ps7bt6OjIX3FL/cDTTp/lf9asWc+F+J4zZw4AcIFibEjrhLu7OxITEwHIPxw1BZitarUa0dHRiImJAWD8PlVaXyIjIxEbGwvAdL7/kdYfa2trEt+mhqmJb6n4CwkJQXp6usmL79TUVPj5+QEw/oYvLX9XV1cuIozd0TJIfD+fGJP4dnFxARvfS+L7yUHi2zA8K+I7Li4OgPH3wQwS3yaOKYtvFvlmfxujvdUhbfjaw06MGe3Id3Z2NgDjd7QMEt/PJ8Ykvh0dHXHhwgX+fxLfTwZTFt9ubm6Ij48HYLriW6VSISoqCtHR0QCM36dK60tERARFvo0IEt9GeAPZWCegssFkZWWZfOQ7MzMTQUFBAIy/4UvFt6enJ4/gGbujZZD4fj4xBvHN2s2pU6dw+fJl/n8S308GUwfm+DgAACAASURBVBbfnp6eSE5OBmC64lutViMuLk72EGHMSOtLdHQ0EhISABh/H8wg8f0UkVYOtVoNlUrFP2LQ3v84aZia+GaN4+zZs8/MmG8vLy8AphX5dnR0pDHfRL0g9XnMF0rbfW1t3xjEN2vbR48epTHfTwFTFt8uLi7PROQ7MjISUVFRAIzfp0rrS3h4OI/Yk/g2PAYX34ynWZCmKL5Zo46JiUFOTo7Ji+/s7GwEBwcDMP6GLxXf3t7euHjxIgDjd7QMEt+mh7Rda7dxfdu8MYhvabspKCjg/yfx/WQwZfHt7e2NlJQUAKYrvtVqNeLj43kE2dh9qrS+xMbG8jH3xt4HM0h8P0WY0BRFERcvXkRSUhLy8/O5E33eI9/+/v5ISkoyefGdkJDAF/0wpcj3oUOHkJGRAcD4HS2DxLdpIo2uFRQUICYmBleuXAHwUKzU1P6NQXyztu3g4MAXIiHx/eQwZfHNphoETFd8s6kG2YJxxu5TpfWFTTUIkPg2BgwqvpnwVqvVqKiowLvvvouXX34Zo0aNwvXr1/n+x22opii+n8XIN1sa1tgbvlR8+/j44NKlSwCM39EySHybHtIgRF5eHqZOnYrevXvjk08+wb1792R1sqZrGFp8MxvPnDlDke+ngCmLb29vb6SmpgIwbfGdkJAgm7XFmJHWl7i4OIp8GxEGj3yzcY1hYWFo1qwZmjZtCkEQcObMGQAU+fbx8UFCQoLJi++4uDi4uroCMK3I9/79+5GWlgbA+B0tg8S3acHaCbtv7u7uEAQBTZs2RatWreDt7c19mKlEvvfs2cO/lSDx/eQwZfF9/PhxPtuGKYvvsLAwREREADB+nyqtL6GhoTxiT+Lb8BhMfLNKwVYk++KLL/DCCy9gz549sLS0xPvvvw+FQgHg8RuqKYpvaeQ7NzfX5MV3Tk4ObzjG3vCl4tvX15ci38RTh92bv//+G3PnzkWfPn2wYcMGCILA/RUTWNX5AGMQ39LINxsyQ+L7yWHK4vtZiXyb8pjvpKQkAMbfBzNIfD8l2JCS0tJSvPzyy7C2tkZZWRnGjBmDpk2boqCggFeex2mspii+WeM4ffo0YmNjTV58x8TEwNnZGYBpRb53794t6zBMARLfpgWrb6IoIj09HS1atMDcuXNx69Yt9O7dG4MHD0ZxcXGtQ0/qU3yz60mj9tKO0s7ODpmZmbJjdF1Duq82G3Wlqf1/Et+Pd21pGjXdF+n/pP2zdn8trRPHjh0zeOS7LnnUdZ4hI991tVl6DvBkI9+PW476nkfi+ykgfY3q6uqKhg0bYtOmTQCAv/76C4IgwMHBoU4Vrba0ANMT37GxsY8V+dau4FKnp6tT1D5W11bT+dWlnZOTo/eYb22btbfabK/uPO1r1JS+dNjPRZrthHhKaLfJ/fv3QxAE7NmzBwDw008/oXHjxnB2doZGo4FSqayxo6qL+NZuT2x6Q+19uo7XaDRQqVSoqKiAUqlERUUFVCoVP9/Hx6fKmG9dQl2pVEKpVEKlUulsn9r/006Xncf2sTepJL7rdk3p78zP63su+25LVz8hFU9Pap5vXfVWughdbfWW1R1Wb6V5raltAZXiOy4u7pFWipTawWyu7QFHu94zm9m5demDY2Ji+FSPjyq+pWlJy5LZpJ1mTefpasO62j+J7yeMKD4ccjJ37lw0bNgQiYmJ0Gg0uHTpElq3bo2RI0eivLy8Sgf1KGmZqvj28vJ6IpFvVob1iXbDd3JyAqB/5Js5HOkmdVgsjerS1j5X37KTlr+dnZ1seixTgMS3acHu1927dzF16lR0794dRUVF0Gg08PPzgyAIWLx4MYCH38hU11nrI751ia26iojqYD7dzs6OzxKkq0PVVRdrs6G6/VKhR5Hvul+PwR5qAKC0tFT2QFTdeazMy8rKoFAoZJtSqeQ+HACcnJweK/KtLbqfZL2tTYBLxXddIt+6bNbu/2orh+rKSp+8S9N/kpFv7X64Opu06091fX919pD4fsIwcSOKIgoLC9GtWze89dZbKCkp4RV08uTJaNCgATIyMvgNfFTxYMrim8128ijLy0ufjDUaDRQKBfLy8lBcXAxAd6NmZXzt2jWkp6cjIyMDWVlZyMzMRGZmJq5cuVLjE66u9IHK2U5CQkIA1C6+a7uurmnXdDm5ms6rzW6a7YR42kjbpiiKiI+PxwsvvIAPP/yQ/7+oqAhvvvkmevbsiezsbFlnpOt6jxr5Bio7ZyZYdT2sStvVpUuXsHnzZsyZMwdjx47FJ598wqNqgO7ZTqT5LSsrw+bNm/HWW29h+vTpOHToUI3tmqVbWFiIVatWYfLkyZgwYQI2btyIO3fu8GMo8v141wSAkJAQjBw5UtZP6DqH7du5cye6dOmC1157Da+++ir69+8PKysr/Pnnn7I6efLkSdksIU/KXnd3dxw6dAiA7nKQ1p/U1FSsWrUK06dPx7hx4/DNN98gLy+vSr6qy69KpUJMTIzsIeJR7HZzc8PRo0f5d226bJYef+vWLaxatQrjx4/HO++8g5MnT+osi5rSjI6O5m30UYZ+attUVFSE5cuXY+zYsfjggw/g5+cHQPe9lZ6XkpKC//znP5g4cSLefvttODo68jd62ueS+H4KsMK2s7NDgwYNsGPHDty+fRvXr1/HnTt3sHXrVgiCgPXr1z+RqK+piu/Tp08jLi6uzmUgdY7sXHt7e3Ts2BG7d+8GgCqv3ICHkauVK1fCysoK3bp1Q69evdCrVy9069YNixYtQllZWZVrV2eD9MPR48ePA6i54bPGJooiwsLC8NFHH6Ffv37o2rUrBg8eDHt7+yoNVZpXxuXLl/HBBx+ge/fu6N27N5YuXYqbN2/KbK7J0bLyt7e3p8g38dRgdVij0WDjxo1o0KABDh48iJKSEhQWFuLevXtYuXIlzMzMsHPnToiiyOu/rg6uLpFvdnxiYiJ27NiBXr164bPPPgMAncNbmK0qlQpLly7FoEGDsH79emzcuBEDBw5Ejx49+Ap6tra2VSLfbLt16xbGjRuHSZMmYcuWLfjhhx/Qpk0bPsxQ+3U8a4uhoaEYOnQovvrqK/j7+8Pe3h7du3fHl19+yW1jYobEt/7XY35h7dq1mDx5MiwtLfHyyy9XG/mWnnPjxg1MnjwZI0eORHh4ONzc3ODp6Qk3Nzc+5p/VSek837WJxpryLooiHjx4gOjoaKxcuRJdunTBhg0b+P2vrt7evXsX77//PsaPH48//vgD69atQ/fu3WFjY1NlPn1daQOVEdqIiAi9V7iU2nz//n2kpaVh586daNu2LVauXClr/7rOZSMBBg0ahDlz5mDbtm1YvHgx2rVrBz8/v2rP1U4feDIrXLLrpaSkoF+/fvjwww+xY8cOfPDBB+jcuTMiIyNlbZhtLL2DBw9iwIABWLduHQIDA/Hbb7/B0tIStra2vDxJfD8l2M1gDXL69OkQBAHNmzdHmzZtYGFhgdatW6N58+YQBAEDBgzAgwcPaq1ktaVpSuIbeNg4oqOj6zzPt7TjYuedPHkSbdu2RaNGjfD7778D0N3Bss5ryZIl6NOnDzw8PJCUlISoqChERkYiKytLFvnWt+FnZWXxFS5re+pmNvz000948803sWHDBri6uuKLL76Aubk59u3bV8VpScX43bt3MX78eLzyyitwdnbGli1bYGVlhfnz5wOovaOSOgta4ZJ4GkgjuqIo4saNGxg+fDgEQUDLli25L2zbti33hfPmzeN1t7rOWh/xLT33woULmDRpEgYMGIDGjRvj0KFDsg5PCjtPoVDgwoULKCgoQFlZGdRqNZydnfmDA1A5vvfy5cs8bekQgaVLl+K1117DpUuXoFar8ffff2PMmDGYMGECALl/YOXDZoEZO3YsSkpK+BjTf//73xgwYACuXr0KADwwQOJbP6RjtD09PbF//360b98eixYtku3Xht3L+Ph49O7dG9u2bZP9X2rvk1peXnpOeHg4Ro0ahZ49e6JNmzYIDg6utd7+/fffyMnJwfXr11FWVoaKigps2LABDRo0kC0+U1Okv67Ly0vrfVRUFD744AP0798fgiDg6NGj1aYp7YP+9a9/YeLEibhx4wY0Gg1u3bqFnj17YsmSJfz86niS4ptdR6FQYMKECZg5cybu3r0LjUaD7OxsWFlZ4YcffgDw8IGL5V8UReTk5GDw4MH48ssv8eDBA6jVaiiVStjY2GDOnDmyc6Rpkvh+grAn6sTERHTs2BE2NjZYtWoVVq5ciRUrVuDXX3/F+vXrMWLECJiZmfGnqUd5WgZMT3xLO9czZ87UKfKtS3j7+vpixIgRWLZsGWxsbLBy5UoAuh02i3x/9dVXsLGxwfXr12tNpyZb2P6YmBguAmuLfEtfMRcXF3PnVF5ejuHDh2PKlCkoLS2VpSF1zP7+/mjSpAnOnz/Pj7G3t4elpSWSk5OrRNd02cCc0549e2i2E+KpIK2zwcHBMDMzw4QJE/DHH3/gl19+wW+//YbffvsNa9euhbW1NTp27Mg7/eqGhdRFfLMo+o0bN+Dk5IQ2bdogOzsbgO4xnbp8MGvLjo6OaN26NX8drmu2E1GsHGbYpk0bHDlyhF9DrVZjwYIFGDRoEM+DdsSsqKgIgwcPxj//+U9ZfubOnYtZs2bx8qDI96Ndj4mkmzdvon379vwtRHWRb1Y/XFxcYGVlhYCAAP7RLSB/o8P+5+bmxqfoe5S+XFpvy8vLcf36daxduxa9e/dGaWlptX69pnq7evVqdOrUCampqfz8msS3Wq1GVFQUYmJiZDbVZDNL+969e7h58yY2bdqE3r17IywsjItL7WivdCiaubk5zp49y/dXVFRg1KhRmDVrVrUPHNp5B4DIyMhH+lBU26aAgAA0a9aMfzwLADdv3oS1tTUWLlzI/QpLm9kXGRkJS0tL/Pbbb/yat2/fxqBBg/Dzzz/zNEh8PyWYgxRFEWvWrIEgCHB2duZf2ks/rPPy8oKZmRn+85//PHaapiS+gYeNg0Wb9RHfUkHMzk9LS8PQoUOxefNmXLp0Ca+99hpWr14NoGbx/fXXX2PgwIEIDAxEfn4+SkpK+LX1LTOpkM7MzMS5c+cA1C6+deWT3b8pU6ZgwoQJfNU/beGtVquxatUqdOrUSZYWe9Dbu3cvv151jlNafp6ensjPz+fXNgVIfBs/0nakUCiwfPlyNGnSBD4+Pvz7DDa7gVqt5jNAsRmhdNVffcW3tN0wNm3ahK5du3KxVFPbYD+ZUKmoqMCECRMwfvx4XLt2DQBw6tQpWeRbOnVnq1atcOXKFW5HeXk5pk2bhjFjxvC8sXRY21ar1di8eTMaNmyIhQsX4sKFC9i4cSPefPNNPv6WRdIAEt+Pcl0AiIiIQKNGjZCeng6gqs/Q9rcbN26EIAjo1KkTOnbsiHHjxiEgIADAwwdEViednJxkorWu9mqLaPbmY9SoUQDAP/CsKX9MzGk0GhQXF6NPnz747LPPZEMpddklTTM8PBzh4eE6y6e2dAHg22+/xZgxY3D16lVZ25DC/vfDDz+gZ8+euH37Ns/7gwcP8Oqrr/K3E/qK79DQUNnDe11h1/r888/Rv39/WV0oKChAnz59uLaSDg1lD0T37t3Dp59+iiZNmuC3335DQUEBFi9ejDlz5qCoqEiWb2maJL6fEOxmqNVqjB49Gu3bt8eFCxd0Hnv//n289NJLsLKywt27dx/paRkwTfEtjVrHx8fXKfLNKnBBQQGmTp2KTz75BCqVCqmpqRgwYABWr15d5emUwSJHP/zwA5o3b4727dvDysoKHTt2xNKlS3mEQZ97IT0mLi4Obm5uAPRr+NqdvCiKyM/Ph6WlJTZs2CArD+mmVCqxcOFC9O/fH8BDJ5CZmYnu3bvj119/leW9tjKkFS6JpwGL8IiiiKKiInTt2hWvv/56FVEs/WbCwsIC06ZNw99//11FBAH6i2/p/0SxckjH1KlTMXv2bADVixhdbVKlUmHRokXo3bs3F1YAsG/fPtkKl8yuGTNmYPTo0XwoIQDcu3cPPXr0wHfffSfrbLXzePz4cQwdOhQjRoxA8+bN0aVLF75qrvRBACDxXZfrAQ9F57p169CjRw9ZcEP7uqxuVFRUIDk5GefPn0d6ejr8/PwwYsQIdO3aFVFRUfxeSqcaZIu8PGpfLrX10qVLeP3117Fs2TIAlX2XPvUWAEpKSjBx4kTY2NjIPqivzi6p+I6Li5MNn6kN7YjuhAkTeIRYmq70eFZmQ4cOxb/+9S9ZX3358mVYWlryb0D0HXYSExPD3zw8auRbpVLJRDazPTk5Gc2bN+fD1lg7lLZhpVKJdevWYcCAARg+fDgaN26MwYMHy6Y/1C5/Et9PEFaQZ8+ehbm5OZYsWcIj4dJXVaxyfP755xAEgQu3RxEQpiy+w8PDkZmZqXfkWzru+fPPP8eMGTNkUXBra2usXbsWgDx6Jo2GsQaem5uLoqIi5Ofnw9bWFubm5ti6dStvJLVFL6QNKT09HYGBgQD0i3xr21RWVoYJEybgjTfe4E/JUqHCfpaXl+P999/HkCFDZPc9JycHffr0wffffw8AOj/MkabLyuzkyZP84dBUxCuJb+NH2nY8PT0hCAIXEdKOlrU1pVKJuXPnQhAE+Pr6Anj4Noihr/jWbutXrlxBjx498Mcff/Br1NQ2WD26efMm3nnnHfTr149PYSad2eLi//9WgnWgoijilVdewZIlS2RppKamolmzZvD29gbwUBhI/YetrS0GDBiApKQklJeXIzw8HMOGDUO/fv34UDL2pgAg8V2X60j93bRp0zBt2jRZ/dRVd7T9P/vp4uKCZs2a8Xnq2TzOQOUiO48S+dYOsLD6FxERASsrK7i7u+tVb1kec3JyMGzYMIwfP57PdCK9bm3iOywsTK/It7SMWdr5+fno06cP/vzzT/5/bcHJ9M/9+/fRpk0bbNy4UXZMUFAQGjdurNcDgPS8kJCQR55qUOorWrRogSNHjsiu7ejoiBYtWvAHGXZ9dl5FRQW++uorTJ48GcXFxSgrK4Obmxs6d+6M2bNn88g+fXD5FJE67tjYWNy8eZPvkzZk6XGJiYkoLCyUHVMXTFl8h4aGIiMjQy/xLX26vnTpEkaNGoWuXbti9OjRGD58OAYMGIDmzZujVatW+Prrr3Ht2jVZWVcHa0hvvvkmpk+fzl/R1XaudH96ejr8/f1l16sJqbNVKBR499130atXLz7+WjttVi4KhQIff/wxrK2tATwUMhkZGejevTtWrFjBr6mPwHBzcyPxTTxxpL7uxo0bSEhIkHVAbJ+0g7t27RpiYmJw8+bNajuq2sS3NNrGiI6ORtOmTWvsmLWFT3JyMoYPH45x48YhJyeHX5N1lK6urny4FhMTCoUCbdu25TNTMHbu3AlLS0uUlJTI0mZpZWVloV+/ftxvP3jwAEBlh29ubg5HR0cA4It9ACS+63pNNtTJysqKD21i+7SP1QW770eOHEH79u3h4eEBQC6+fX19ZW8RH7UvZxw5cgSWlpb8Y9ua5oFn+wICAtC3b1/MmzcPN27ckNlSWyCJ5TMxMZFPmaiviGX18sSJE+jevTs8PT359aob2nP58mWYm5vD3d1dtu+7775D3759ZQsb1WQ3sz0hIYGP036UyDdQGcBr1KgRD6QBlfd40aJFGDZsmCyvLH9A5ZS9nTt35lNCMg2xbNkytGvXjo9F1zUHOonvJ0hNoke7M9H33NrSM1Xx7e/vj6SkJL0j32wrLS1FYGAgnJyc4OTkhFOnTmHTpk3o1q0bZs2ahbi4ONy7dw/Aw1e2uiIdUltGjhyJWbNm1Ul8Sxs++xhLnzFq7LrFxcWYOnUq3njjDT51mfa1pTZrNBqsWbMGVlZWstfQsbGx6NChQ53HfB88eJCnayrilcS38aMtrHXt1/V7bcfpO+xE+retrS06duzIX9tLXxPn5OQgLy9P1i4dHBzQvXt3/PDDD1wIS8UJADg4OPCPN5koVygU6NChAx/2BlS+/u/fvz/3yRUVFbh8+TIyMjL4ELiIiAhYWFhg/fr1ACrfbgHAli1b0KNHD/5BvnSRGBLf+l+HDQNNTExE06ZNER4eLusT1Go1PDw88N133/EP8EtLS5GSksIfmDQaDa5evYrx48dj6tSpssXxpMJcOktIXSPf7HeW36+++ooHWaSrPj548ADp6emy6QMVCgXWr1+Prl27Yvv27VX6U2l7rC3yHRISwldr1nfYCSuDFStWwNramg/JYm+E1Go1cnJykJ+fz+vwlStXYG5uzhenAyqn0O3cuTM2b97M7dG37M6fP8/F66NGvjMzM9G4cWP4+PjwfampqejYsSP/iLq8vBxZWVnIy8vj5bN//35YWFjwt3bsDdWCBQswcuRIXL9+nZcDRb7rEX2frh/n+qYqviMiIvT+4LK2a6Wlpck+uCwrK4Moiti4cSPefvttpKenQxQrx4CeOnUKWVlZKCsrQ1lZGfz9/dG8eXPs2LFDNjxIn4cBAMjIyEBQUBCAmsW3NEpx+fJljBgxAsOHD8eFCxe4I5dGC8rLyxEQECBb4CMgIABNmjThi/poNBrs3r0b7dq1Q1JSks5Grm03s8HDw4O/mjQV8Uri+9lDn3Zfl8i3SqVCVlYW4uLiMGvWLPTr1w/p6ekyX5OZmYm2bdvinXfe4edu374dgiBg0aJFOHfuHHx9feHv7w9vb2/+ESVQ+cElewUt7UAnTJgAa2trxMfHIykpCZ988gn69u3LRd3du3f5okLMP+Xn52PgwIF8fG5paSl8fX3xj3/8g09tRmO+6ya+pX725MmT+PHHHzF79myYm5tj8eLFWLFiBe7cuQOg8turqVOnomvXrnxBo7y8PAwZMgT9+/fHt99+i++//x59+/bFkCFDZOOKpffe399fFsjQ115pdLe8vByZmZk4f/48Bg0ahClTpiAvL08m9Pz8/GBmZoYff/yRn//NN99AEAT88ssvCA4Ohp+fH/z9/eHr64vbt29XSUdXuQOV7SYlJUWvGbDYPoVCgezsbOTk5GDChAkYMWIEwsPDUVRUxB8wL168iE6dOmHu3Lm4f/8+74P69euHiRMnIj09HTExMZgxYwZsbGzw4MEDvcpQWl+SkpL4m4dHHfNdUlKCbt264f3330deXh6Cg4MxduxYTJkyhduTm5uLVq1aYdq0afzckJAQWFhYYOHChSgpKcHdu3exZ88e9OjRAw4ODtwmXUE1Et8mjCmLbx8fH70/uNSOELCNPV2np6dj6NChWL9+PURR5BHsf//737C0tOTj8e7fv4/Ro0fD3NwcNjY2GDFiBFq3bo0FCxbwD3H0bfjM7ri4OP5xVG3imw0VmTlzJl9ae8WKFVi+fDl++uknLFu2jA8FKS4uRvPmzTFjxgye5r179zBx4kS8+uqrcHBwwIYNG2BlZYWFCxcCqNs833v37qWpBgmToC7i+969exgzZgxee+01/OMf/8A//vEP9OvXD9999x0/LjIyEr1798Zff/3FI4qrVq1Cx44d8dprr6FPnz7o27cvXnnlFfTs2RPe3t78+nv27OFTDUqj6cnJyRg1ahS6deuGHj16YPbs2bIVBq9du4aRI0fyxX5YfmJiYjBmzBj06dMH1tbWGDJkCPbs2SN79S7NP4nv2q/D/IGrqyvWrl2L9evX88Vn/vrrLz40r7y8HHZ2djh8+DCAh28yoqOj8dtvv2HhwoX497//jWPHjvFZsaTf4kjfhkiXZa+L+GbH5ubmYuDAgRg4cCCvtwMGDMCWLVt4vo4fP46ePXvy78Ru3LiBTz/9FF26dEG/fv3Qp08fvPzyy3j55ZcxYMAA/s2AvuI7ODhYFtipDukY8/feew99+/bFa6+9Bmtra7z00kvYunUr7+tCQ0PRr18/Pvc3y3NQUBDeeOMNdO/eHT169MCCBQv4cBl9H8jZcefOneMR+0cR3+w6Xl5e6NevH3r06IGePXviyy+/5PN9A5V9/auvvorNmzfL2qSbmxu/bwMGDMC4ceN4BL26oT8kvk0cUxTf0on5s7OzHyvyzc65f/8+4uPjq3wUkZ2djfDwcD4MBagUtX5+fvjrr7+wa9cuxMbG6nw1p+/DAItWAPqtcAlUzsE6btw4vPXWW5g0aRLeeustTJ48GePHj+dfzbNVy9jCQSy9q1ev4pNPPsGrr76K1157DT///LNsloiabJeKby8vL5pqkDAJ9BHfDH2Hi2n/vzZY2/Xy8pJNNajtM65fv84jjlJ7pGlI37Cxv2/cuMGXPZcew34n8f300pP+XV39kQpYafAHAAIDAx8p8q2dvr626nOO9nk19QlA3SLfdRXHDG0hqlarce3aNd4/69OH6bp+cnIyn0LyUcd8s3QrKipQVFTE19uo7n6y9Fl6KpUKhYWF/K2K9rkU+X7GMDXxLW1cp0+fRmxs7GOJ70dJX1c6uj7w0vc6+i4v/ySQ2qnrAy5mW3VIncWuXbtoeXnCJKhL5Jv5GDbel23abUT6v+rOkZ7L2radnZ1seXnta0hFnLZP0RWB1HWerk6bxHfdryMtT+mma7/2NWo6h/1kdWL//v2yWULqaq80TX3qbW3nsE3fQBJQ2XcFBQXxQJK+Y76rs1madnULBFXXXuoq7gMDA/kq048SSNIuT13tUJoXfdpwbXqCxLeJY2riG3jYOGJiYuq8vLw22h2ULgep64lT26lW93RaU7rsuOzsbP6qTt9FAfR1mNoCQfr/ujpZ6blA5QqjFy9e5PaYAiS+n0/0Ed/Sv6vbdO2v7RzmL1jb9vb2RkFBgV7nSe2ri0269pP4fnLpaKdX3f+q6xvY70868v2k662uPFZng1qtRkpKil4Bmbqm/yTs1GUDOzYpKYlH7B818q2vbXXNS3X5ktYfEt8miNQpm4L4FkX5CosxMTH1Gvl+UkgbVVRUFI4dOwbg6Ue+a+oY9D2f5fDF2gAAIABJREFUlb+dnR1FvgmTQOrn9Flk52mkz9q2ra0tf8UtbYNPO30S38aFtE7s27ePi6e6Rr4NDbOVRb7P/f/Vmo3dp0rry+NGvg0BiW8Tx5TFd1xcHHJzc2ULT5gK0oafnZ3NG87TFt+Pi7T8fX19ZSugmQIkvp9PjEl8+/r6Vol810f6JL6NC+3It/QjXGO0tzqkke/U1FST+QhfWl+Sk5MfebYTQ0Hi28QxZfHt6elZ72O+nxTShh8dHc3nKzUl8W1nZ8cXJjB2R8sg8f18Ykzi29bWVjbmm8T3k8GUxffjjPk2NM9C5Pvs2bN86CeJb8ND4tsIb6AoPvxAKT4+XjaHqTHaWx3Shp+bm8unmTL2hi8V3wEBAXzWBmN3tAwS388nxiC+Wbvx9/fnKw+S+H5ymLL4ftQx38aAduTbVIYiake+H3W2E0NB4tvEMUXxzRqHt7c34uLiTF58x8TEcBFoSpHv3bt3m4yjZZD4fj4xBvHN2vauXbv4EAMS308OUxbfBw8efKR5vo0BaeT7/Pnzes3zbQxI68u5c+ceeYVLQ0Hi28QxRfEtjXyz1R3ZPlOBIt+GgcT384kxiG+KfD9dtMU3W31UqVTKZqUylk06A05AQACPvGrPomXsG7NV12wnhratNruZ39ce821o2/S1n7VpEt8miCianvhmnZiPjw8SEhJMXnzHxcXxFcdMKfK9f/9+WYdhCrAyJ/H9fCH1c4aOfO/duxdZWVn8//WV/vMovjUaDRQKhWy1T2PZ1Go1fzA4fPgwIiMjuSA3RntrygcTgsHBwQgNDeX5MLRttdnNbD9//jy3u6KiwuC21bX+DBw4kMS3qWGK4lujebhU67MS+TaVV15S8e3n50eRb8IkMAbxLZ0liCLfTx5pWf711194//33DWyR/oSGhvKZo0yZCxcuIDs729Bm1Jns7Gzk5eUZ2oxHZtCgQQgNDeV/m3qbfi7F99dff13lidbYNvZE7evri4SEBP63Lnulr8Wepk3a6dSWnvSpOz4+Hm5ubibx1K1Wq7mNDg4OSEtLk90TY96YABJFEaWlpZg4cSKJ7+cEbfF94MAB3kbrw89J283+/fuRlZVVxQ887fQVCgU0Gg1mzpz5zIvvHTt2wMbGBunp6YiJiUFsbCzi4+MRHx+PmJgYJCcnIyYmBikpKYiOjkZqaioiIyORnp6OyMhIpKSkICoqComJiYiKikJCQgLi4uIQExPD/5ecnIzIyEikpaUhIiIC6enpCA8PR2pqKiIiIpCWlobIyEikpqYiOjqaXyMxMRFxcXGIj49HdHQ0kpKS8Ouvv2Lfvn1ISEhAbGwsPz4qKgopKSn8+mFhYcjIyEBoaCiysrIQHByM7OxsBAcHIzMzEyEhIcjKyuLHRURE8LwkJycjOjoaiYmJiImJQVxcHP+b2REdHc3zxfKTmZnJr8fSCwkJ4T8zMjIQFhaGtLQ0bNu2DYcOHZLZn5CQwNOLi4tDbGwsz398fDwvD2YXs5fdk9TUVISHh3N7WHmnpKQgMjKS5ys+Pp7fo4SEBERHR/NrsXNSU1P5tVmZxMbGYs+ePdi3bx+SkpK4fczuxMRExMbG8vvH9rMyY/ea2RYWFobs7GyEhoYiJycHwcHByMrKQmhoqKwsIyIikJycrPPesHrK8sHqXFJSEr83YWFhSE9PR1RUFHr27Mlny2FtwZR57sT30qVL8cMPPxjYIv1JTk7mkVdT5tKlS4iMjDS0GXUmMDAQRUVFhjbjkRBFEZMnT4azszMAEt/POlI/N3HiRD61pyEICAjAzZs3DZb+u+++iy1btvC/Tb2jZkjF986dO9GnTx+cOXMGjo6OOHbsGI4fP47jx4/jyJEjOHnyJA4fPgwPDw8cPHgQnp6e2L9/P7y9vbF//354eHjAwcEBrq6uOHjwIJydneHo6IgjR47A1dUVDg4OcHd3x/79++Hl5YW9e/fCx8cHu3fvhqenJ/bu3QsvLy/s378fnp6eOHjwIFxcXODo6AgXFxccP34czs7OOHr0KNzd3fHll19izZo1cHFxgZOTEw4fPgxnZ2ccOHAAHh4e/Pr29vbw8fHBzp07ERgYiB07diAoKAg7duyAv78/bG1tERAQgF27dsHX1xd79uzheTl58iQOHjwIV1dXHD58GE5OTjh06BBOnDiBw4cPw83NDYcOHeL58vb2xu7du+Hn5wc7Ozv4+vry9GxtbXH27FnY2trCz88P9vb28PX1xfLly7kAd3FxgYODA06cOIEjR47g2LFjOHbsGI4cOQInJyd+P06cOAEnJyecOHEChw4dwqlTp+Dg4CArv927d+PMmTPYs2cPvL29sW/fPpw6dQoHDhyAu7s7Dh06BCcnJxw7doyX3cGDB/kxXl5e2LdvHzw9PeHg4MDvyalTp+Do6Ij169dj/fr1OHnyJL+Os7MzDh8+DBcXFxw5cgTOzs44duwYjh49ysvOzc0N+/btg5eXF3bv3g1vb2/Y29sjMDAQO3fuxLlz57Bz504EBATAzs4O/v7+sntz8uRJXpcOHToEV1dXHDlyhNdTZoOrqyvP6/79+3lZ+Pr64tChQ+jQoQP/boy1BVPmuRPfP/74I95//30UFhYiOzsbly9fRlZWFq5cuYLMzEwUFBTIfl6+fBnZ2dm4ePEicnJykJeXhwsXLiA3Nxf5+fnIzs7GpUuX+LWys7Nx5coVZGdno6CgADk5Obh8+TJyc3Nx8eJFXLhwAXl5ecjLy+PXkP5k18/JyUF+fj53LBkZGbh8+TIyMjJw9epVZGRkoKioCOnp6bh27ZrsZ1FRETIyMmR5kuYhPz+f/2Rps79Zfth5GRkZKCws5NdPS0vD9evXZT9ZulevXkV6ejovO1YuFy9ehLu7O2xtbZGXl4ecnBxeDtL02fHM3qtXryIzMxOFhYXIzMzk+b5y5QoyMjJQUFCArKwsXLx4kb9SY2XIrsn2Se8RSys3NxeXLl1CXl4eLl68iPz8fH4uO2fdunXw8/NDbm4uv+/atrPrSsuMlYW07NjfLC/SvErvja56UVs6RUVFSE1NxfXr15GamoobN24gNjYWI0aMoMj3c4LUz02ZMgWrV6/GjRs3eP3Q1UaZz9L2PxcuXNDpJ9j/WVthPo21K3bM+vXr+RLzWVlZvN1X5z+zsrJkvpfVbWlbkfpVqT9laV64cIH78jFjxjzzkW9TG3bi6enJZ8AxZVJSUpCYmGhoM+pMQkICXxzIFKFhJyaItFP6+eefMWbMGERHR8PT0xOhoaE4efIkIiIi4ObmhtDQUNnPkJAQeHh44OzZszh9+jR8fX3h6+uLM2fOIDAwEB4eHjh//jw8PDwQGhoKDw8PhIeHw8PDA2FhYfDy8kJISAjOnDmDc+fOwdfXF/7+/vD398eZM2cQEBDAf3p7e/O/z5w5g+DgYKxbtw67d+/mNrm6uiIqKgonTpxAbGwsjh8/jsTERBw/fhwJCQlwdnZGbGwsXF1dERERAXd3d4SGhuLUqVM4e/YsvLy8EBAQgNOnT/M0/f39+f89PT1x/vx5uLm5ISwsDK6uroiJiYGzszMSExNx7NgxJCUl4dixY/zv+Ph4HD9+nNsVFhYGNzc3nD9/nl/P3t4eGzZsQEhICHx8fODj4wM/Pz+e99OnT/Pjw8LC4OHhgaioKLi7uyMmJgZubm6IioqCi4sLIiIi4OrqirCwMLi7uyMoKAienp687Hx9fREQEAAvLy+cPXsWHh4eOHfuHDw8PBAcHMxtYvfE398fZ8+eRUBAAP/99OnTCA8Px48//oijR48iMDAQfn5+8Pb25vfw9OnTvA4EBwfzMjtx4gSioqLg7OzMyy4uLo7fM3d3d0RFReHUqVMIDQ2Fp6cngoKC+D04c+YMv76/vz+8vb2rpBMaGgoXFxdERUXh+PHjiI+P5/fE0dERaWlpOHToEAYMGEDi+zlB6uemTZuGhQsXIiUlBSdOnEB8fDycnZ15vWRtlLUH5gv8/Py4f5P6CfZT6r/8/f0RFBQEHx8fhISE8DZ8/vx5/Pe//4WtrS2ioqLg4eGBwMBAeHl5wd/fHz4+PjL/ee7cObi7uyMkJIS3IRcXF0T+P/auOzyqYn1vCE1CIHQILdTQIUqREhCpKgiCICoIInq9XuVexIJXvSBiR7oghFACQnpCEtJ7770X0iAhEZJNL5vd9/dHfjPMOdlNNg32kPM+z3lOcvZMOVO+eeebb74JCaH93t7eHsHBwVRm3759Gz4+PnBxcaH5cnV1haOjI2JiYjBr1iycOHGCUzZPA/gbLl977TU0NDSgpqaGbmJs6WLNkNR5v7kwLcUlk8lQV1cHmUwGe3t7xMTEQCaT0auldFp7b+3V2njr6uoQFhaG8PBwld/QkeXZljrilz+5QkNDERERAZlMhvr6+k4rq/bWCZse237EDZcCBN/m+x//+Aeqq6tRUVGByspKlJeXo6qqCmVlZaiqqlL6f2VlJSoqKjgXCcvGwb9XVFRw7sri4cdZUVEBqVSK2tpa3L59G2FhYZBKpTRP1dXVnHtNTU2T58ryQ+Lm35Xlgf12fjrsXSqV0t/ZMisrK6PlUl1dTYm0TCaDVCpVmg9yZ9NVdufXkbLvYZ+xdcTe2bqprKzkhC8rK0N9fT2uXLmC+Ph41NbWory8nFNO/PjYb+fXEVuG/G9RVRdseqrS4adH6qSurg5FRUVYvny5aHbSRcC3+T579ixtt/x2qEyu8f9X1of4coLfZ8vLyyGTyXDx4kXExMSgrq6OtmN+/+G3aVWymN9X+Hf2KikpgUKhwCuvvPLUa76F5mqQKCEA4boalMlkCA4ORkhICGd/jaZebDkHBQUhLCwMgDBdDYrkW4BQKLg23//5z3+ecI7UB9nAIHQkJSXBzc0NgLA6jbW1NTIzM590NtqEmpoa0dtJFwIr51auXAkzM7PHngfSxqysrJ6IZ4uGhkZvK6+99tpTb/MttEN27OzsqLkGIYRCAclrQ0MD3dwKaL5MZdtLaGgooqKiAGi+xzECtv2Ifr4FCHZQIt5OlM0MVd2fxEVmpp6enoiLi4NMJuM8bynP7f2WtsbP3tmyjYmJgYODA62Ljs5HR8+2SXlfv34dqampnLLv6DJrS/6au5N8it5OuhZI3wIaNd+XL19W2hc7q+8QLZVCocC1a9eQnp7OSb+z+7lcLkddXR0UCkWX8HYiNPLN13xrYn5VgeSV1XwDmi9T2fYSGBjI0XwLAWz7Ecm3AMEOSkLw8w086tS+vr6Ij4+n/2tqfpWB7fhxcXFwdnYGIKxDdszNzalPV00XtASkzEU/310LfPL9JA/ZuXnzJl0xYuVAZ6fflfx8C41829jYUM3342oTHQWS14aGBmrzDWi+TGXLOSQkhGrsRfL95CGSbw2tQNKpvb29ERcXJ3jyHRsbC0dHRwDCIt9E8w1ovqAlEMl314Qmke9r164hIyODPhfJd8dAiOSb1AlxBgAIV/Pd0NCAoKAgwWu+NX0MJhDJdweDXSrk78hlj53lC+22FraQybePj89To/m+ffs2AM3v+Cz5vnHjhqj5FtEpYPuHOrKQH0ZZfJpCvm/cuCFqvjsBQiTfpE3Y2toiOjqaPtfE/KoCS75DQ0MpidV0mSpqvjUXGqv5JoK0Ixq3kMm3p6fnU0G+Y2JiBKv5JhteNV3QEojk++mCMlmoTA5oEvkmNt/kuUi+OwZCJN+kTszNzSn5EzL5DgoKooe9aLpM5Wu+Q0NDAYjkWxPwRDXfDQ0N9KjbuLg4xMXFISEhAWlpaaisrOS8z97bkp5QybePjw8SEhIET77j4+Opzbemd3yFQkHLW7T5FtFZYPtHdXU1YmNjERUVhfj4eCoLMzIyUF1drTSMsvg0hXyLNt+dAyGSb9ImiJ9v8lwT86sKLPmOiIgQpLcTcjw9oPljMIFIvjsYZPd7bW0tNm/eDAMDAwwePBj9+/fHgAEDMHz4cMyfPx/79u3DgwcPOOHaAiGTb+LtROjkW7T5fnwQybcwQOQgAGRnZ2PJkiUwMDCAnp4e9PT0MGDAAOjr62P+/Pn46aef8PDhQ9o2NVXzTdIXNd+dAyGT75s3b3I2KmpiflWB5FUmkwlW8x0QEEA135o+BhOI5LuDwZ4WNXXqVOjo6ODgwYM4ffo0fv75Zxw4cADjx4+HRCLB3r17KRHqippvPz8/JCYmCp58JyQkwN3dHYDmz7pZzbeVlRXdOKbpgpZAJN/CANs/0tPT0atXLwwfPhznzp3Dr7/+il9//RX79u3DyJEj0bNnT/z2228AQN1gKovvSZNvMlBaWVmJmu9OgJDJt5OTE+Lj4+lzTcyvKrCa78jISKpB1nSZypZzeHg4YmNjAWj+GEwgku8OBvGjXF9fDyMjI0ydOhUPHz7k/B4TE4PBgwdjyJAhqKqqAtA1ybenpydiY2MFT75jYmJw69YtAJo/62Y132ZmZqLNt4hOAds/MjMzoaurixdeeIHzjkwmg7W1NbS1tfHKK6+goqKCMznkx6cp5Pvq1aui5rsTIGTyfePGjQ7TfLOmqGyZqBtna8Ozmu/AwEAEBQXR79BksN/m7+9PvbS0l3y3t/xbk45IvjsQcrmc7uyfM2cOJk+ejLy8PNTX16O+vp42jFGjRmHEiBHU5rErku+goCCkpqYKnnwnJSXB09MTgDDINylvOzs7qsHTdEFLIJJvYYDtHxkZGejbty+WLFmCuro6VFVVoaamBkDjfomePXti3bp1lGQpGzw1iXzb2dkhOzubPhfJd8egM8k3S6DY1RV+vGweiCJN2UU89ZA24erqisTERBqutfnltyNWiSeTyThjpKqVIfYiYfllpyos0Dh2xcTEUA1ye2UqW46sOVlzZcMnu+rWVXR0NF15aCv55pcTW4Ytlb+yPJE6VBVWJN8dDNLQ6uvrMXv2bEyePBlFRUX099raWvzyyy/Q0dHB6dOnBWt20p7ZIWmMrq6uiI6OFjz5joyMhI2NDYCWyTdbTqStkItfjsqEJgmn7FIVlp8+aXOXLl3iDBhCgEi+hQG+5ltHRwfGxsYAHvWR8vJy7N27F3p6erh58yYANHE/yMbXWvLN7z/qDqD8d0ifIembmprSvRLKZB+/b/NPsGwuHTYcvz+L5LttcZI7KVv+b+0Buw+A2By3V/NN2gwLtv3ywSerLb2n6rlMJoO/vz8CAgJoPloL/iRA3bJQ1lfV8YBEnvv6+lKNfXs13/x2QtBSvPzJU0sQyXcHg1RcbW0tnnvuOfTo0QMLFiyAsbExFi1ahOnTp+OZZ57Be++9xzE5aWuH7UjyTQYZdWaaJM9EE8Anf82BNMzQ0NCnQvOdkpICHx8fAOqTb2X1zRc4nQGWfDs4OCArK4umLQSI5FsYYPtHRkYGhgwZAl1dXSxfvhyLFy/G4sWLMWnSJPTp0wefffYZDdfeDZfKZFZrZasq0s72m9zcXM538om6sjw0l46yAZ+VB+R4e0Ak362Jj4CUo0wmw5UrV6gpqKoxTqFQIC8vDxcuXKDX+fPnceHCBZw5cwZubm6orKyk4T08PJCcnEzTam1747cjqVSKY8eOYdeuXTh+/DgKCwuVxs0n3gBQVlaGq1evYu/evfjHP/6BO3fuNNsPWPJNPLOxZdYWsP3g/v37sLKyUlnmqsJVVlbCzMwMJSUlSsOx5RUTE4OEhAQAHTNpIO1k9+7dOHjwIDUza6kM2Xq4d+8erl27xlld5tedSL47EHzyraWlhaVLl2L16tVYvnw5Fi5ciHHjxkFXVxfLli1DVlaWWpoYVWgv+eZrV9SFsgauLgEnYZ2dnREZGSl48h0eHk5JoLrkGwCKiorg5+cHCwsLuLm5oaKighO3Mq2aTCZDcnIyYmNjER8fT123JSYmUu85zQl/VridP3++XQLrSUAk38IA23bT09MxZMgQ9O/fH2vXrsWKFSvw4osv4vnnn8eoUaOgo6ODt99+G9nZ2U0UAGx8rdV8E+WAQqFASUkJbest9Q9yJ/morKxEUlIS/v77bwDAuXPn6F4JZQoJAMjPz4ednR1u375NiZMyGcsn5omJibCzs0NQUBDHJFGhUKCurg6ASL7bEmdNTQ2ysrKwd+9ejBs3DuXl5UonReyEx8vLC/Pnz8eKFSvwwgsvYNmyZVi1ahX69++PHTt2oK6ujsrNy5cvc7yEtDa/bJioqCjMmTMHa9euxT//+U8YGhpizZo1HI9A7LexE7fTp09j8uTJWLp0KXbv3o0NGzZw3Mk2NwmUyWTw8fGBn58ffb+1YMetyspKZGRkYN26dVi/fj2KioqUljm/D9XV1SEjIwMfffQRpk2bhsrKSpWrASSct7c3/P39AbTP7EShUKCwsJBytQ8//BALFy7E1KlTkZ6erlQ+sXknMiotLQ3Lli3DsGHD6EoCfzO5SL47GKzZyZw5czBhwgSkpqZCKpXiwYMHePjwIQoKCvDnn39CIpFg3bp1tALaOrtvK/nmDxrFxcW4du0aNZPhNxT2ksvlCAoKwqeffop9+/bB29u7yexa1QyRdKLw8HCkp6cLnnynpqZSgdUc+SZ1pVAocPnyZRgYGGD06NEwMjKCgYEBJk2aRDsqX0iRv6VSKZYsWYKRI0diwoQJGD9+PMaMGYPp06fDzMwMAJo9wIkV3i4uLsjOzubEr+kQybcwwPYPYvO9cOFCSKVSFBcX4+HDh3jw4AEKCwvx9ddfQyKR4MCBAwCUkxd1ybcyGVJYWIitW7finXfeAQDU1dWppb1SKBQoLS3Fjh07YGBgQDd0OTo6KtV8kzb4448/YsKECTA2NsasWbMwbdo0xMTEcOQjuUhfzMnJwdatWzF16lSsX78eBgYGePXVV6nWktifAiL5bk18pHx3794NIyMj9OrVCy+88AKtC2XkmyWPOTk5yM/PR3Z2NgoLC3H9+nUMGTIEp06dAgA6IfL09ORsXm9Nftl2UVhYiGXLlmHHjh0oKipCRUUFbty4gQEDBsDa2pqWh7Jv/PrrrzFlyhRcuXIFeXl5KCkpwcOHD2l7V0Z8SRzAI803O0ltLch3lJaWYs+ePZg2bRokEgm++OILWlbKyoaEq6urw/vvv485c+agR48eWLZsGWfc5OebPCMKKKDtmm+gsWy3bdsGY2Nj5ObmoqKiAhERERg8eDD+97//0Xf46bPyKTAwEK+99hp69eqFZcuWcZQK/DRF8t2BYDdczp49G1OmTKEaExYKhQLTp09H3759Vc4I1UFbyTefeFdXV2PlypXo168fHWSam2leuHABurq6ePHFF7F8+XL0798fP//8MwDVS8cEpBHeunULYWFh7bZ7fxJgyyIkJAR//fUXgJY136yN4Llz55CUlIS7d+8iLS0NkydPxiuvvILy8vImaZD7gwcPMHHiROzYsQPJyckICwtDZGQkYmJiOO1IHfJ95syZDllifJwQybcwwLZdYvO9dOlS+huLjIwMTJw4EUuWLMGDBw9UDlTqkG92Ip+Tk4NFixZRd4Y//PADJx5+/ORO+nBhYSF27twJiUQCIyMjSkpOnDhBB3q2vykUClhaWmL48OGwt7dHYWEh0tLSMH78eLz99tsAuPKBhJFKpXj77bexcOFCpKeno7i4GG5ubhg9ejS+/vprGk7UfLcOLJHOz89Hamoqxo4di2+//bZJemwe2DuLoqIivPDCC9i5cydqa2shl8tpnZiYmFDFSWvIN19hZWZmBj09PeTn59N3YmNjMXr0aBw9ehQKhQK1tbU0LCkbe3t7jBs3Djdu3FCaRksKMaCxjXl5eVETyraSb6BxUlJYWIiQkBAMGjQIly9fbpIXZflraGjA/fv3ERUVhfHjx+PLL78EoFyhxIbz8PCAr68vjaM1YOsgLCwMffr0oXEBQGlpKebMmYOdO3fSCQJ/wk9kip+fH+bPn48zZ85g48aNeOeddzimY/xwIvnuQPA135MnT8bdu3fpEii7cWfmzJl45plnaEdr6+y+teSb7YhkovDuu+9i9uzZ0NLSoo2A31BIo05ISMDEiRPx8ccfQyqVQiqV4ssvv8S4ceMQFhbG0RwpS5vEExUVhaysLMFrvjMyMuiSY0uab3LV1tY2+d5t27Zh7ty5dHmRnZCRdx8+fIjp06fjm2++aTF/qp6T8vfw8KAaPKGQV5F8CwP8/kG8ncjlctTU1FA52NDQgIyMDEydOhXz58/H3bt3ATTtR60l3wCo1urMmTPo378/VSrwPSgoI95paWl48cUXcejQIRgbG2P79u10j46bmxtHZpM+VV1djSlTpuCrr77i5H379u147rnnOGSJ7YdOTk4YPnw43bRN8Prrr2PNmjU0DCFdIvlWPz7gUZsoLCxE37594eLiopQE8sOROiJt9t1338WCBQtw//59AKD7nYDG05rZA8tak1/ybnl5OV566SWsWbMGQOPJsAqFAgEBARg2bBguXrwI4NHKDatkWbduHVasWIELFy7gww8/xM6dO2Fubk7jUOd7yanc7dmEz2qQgcZVolGjRlGTEFWrWuRO/k5PT8fgwYPh4OAAQLn/f/b9hIQEanPfHpvvzz77DBMnTqRcjUzcDA0N8fHHHwMAZyWB7ce2trZ47rnncOPGDRQVFWHWrFk4fPgwJ/8i+e5E8DXfhoaGtLOyCAkJgY6ODqZOnUqF6uPWfJP0vv32WxgZGcHb2xvdu3engxR/UCON8dq1axg6dCglnAAQERGBMWPG4PfffwfQ2EBVLXGxjTU0NFTw5Ds4OBjXrl0D0DL5Zu9Ao/ebkpISeHh4QF9fH+fOnVPqlYHcHzx4gGnTpmHPnj1ITU1FamoqddumjtBny//EiRP0SGShkFeRfAsDfPKtzNsJwY0bN6ClpYWdO3fSNtxWzbcyomFmZoahQ4eqtB0l4Ui+kpKSYGxsjG+//RZFRUWYOXMmvv/+e/rusWPHOEvzJM8g5B8yAAAgAElEQVReXl7o3bs357CV2tpabN26FQsXLqTfTsKQcKdOncLQoUORlpYGuVxOx4P3338fS5cupSthpJ+L5Ltt8VpaWqJv3764d+9ek/SU5YEdI0+ePInRo0dTrTDRxJI2c/78+XZrvjMzMzFy5EgcOXIEAKiCxsLCAkOHDoWvry+nH7DtdcaMGejXrx927dqFI0eOYOvWrejevTt++OEHpcSPnwcSn4eHB7y8vOh3tAWsdnjfvn0wMjKie9ua63/suGdpaQkdHR0UFxc3a6tO8u7u7k7rpj2a7xkzZuD9998H8Kgek5OT0b9/f5w7d45T/myeb968idmzZ+PGjRuQy+W4desWxo0bB2traxpGmeZeJN8dCFbz/eyzz2LQoEE4e/YsrKyscPXqVfz555/YvXs3Bg4c2GR5o62z+9aQb/5s7eLFizA0NERSUhKysrKgra2NkJAQToPkD2i//vorRo4cicLCQvq8sLAQ8+bNwyeffEIblar0Sdrx8fHIzs4WvNnJnTt36AEL6rojIgOKpaUlpk+fju7du+PQoUNNNlnxw5WWlmL27NkYMmQIRo0ahcGDB2Pq1Kl0uVFVubPxkDz6+vpSDZ5QyKtIvoUBtv1mZmZCT08PhoaGsLW1hZmZGczMzHDmzBm89dZb6N69OwwNDelkXtXmqtZsuCThq6ursWvXLixZsgRAUyLHl4eBgYFYuHAhvv/+e7oMP3bsWGpvCzRqOQsKCmh4Eva9997D9OnTIZVKOe3UyMgIb731Fid9Vr6amZmhd+/eVPMtl8tRWVmJl156Ca+++iqNXyTfbYuPlPNHH32EZ599lqPsUja+kbCk3G/fvg19fX1a5oRIseTJz8+Ps7FR3fyy7wYEBKBnz57w9PTkpP/dd99hwoQJ1FsIUYKR/nDr1i3o6+vj0qVLqK6uRnl5OWpra7FlyxZMmjQJd+7caTZf5FlDQwOSk5ORlJRE328tSHkTc5zly5fj7bffpp5hlJU5O9kh3/Xvf/8bs2bNAsDtM/y0yLOEhARqc99a8s3a2w8YMAAXL17kxG1ra4s+ffpw4if1o1AoYGdnhxkzZuCvv/5CWVkZ5HI5vv76a0ybNo3jtlFZG+uy5Ls5jUlbP55ovWtqavDss89CIpFAW1sb3bp1g5aWFrp3747+/ftjyZIl8PHxaXearSXfwKNO5e7ujrFjx9IJQHp6erOab4Jvv/0WBgYGnEFGKpXC2NgYu3fvpu+3RL6J5lvo5Ds4OJhudlTX7ITt8CEhIbh27RomTpyIb775psmyIvu+TCZDeno6CgsL8eDBA8TFxWHz5s0YNWoU4uLiOEJBVR5EzbeIzgarrUpPT8ewYcMgkUioHNTS0kKPHj3Qv39/bNiwAREREZxwygba1mi+SRx///03ZsyYgf379wPgEifyHukvPj4+WLBgAdVwAY2bJ2fMmEH3RgDA8ePHOZpv0ufnzZuHN998k0MW8vPzoaenBxMTEwCPBmGSLgDk5eVh5cqV0NXVxWuvvYZNmzZh3rx50NLSoiYsxIMWIJLv1sZJ6nvu3Ln44IMPOL+pCkPqJjU1ldr7kjpjbXjbo/nmkzFzc3P06dMHubm59HlxcTFWrVqFTZs2AeASUTJOXLt2Dfr6+nB1dQUAqsDZv38/xo0bR93kNad1BhrHLk9PT3h7e9PvaAvYvQxjx46lq+FsWs2VRVlZGZYsWUI3SKtDvtur+QaA5ORk9OzZE+7u7vS3uro6/Oc//8HMmTPp+Mvnij/99BMkEgkmT56McePGYfz48ejbty969+6NsWPHwtXVlbYptky7NPnuDJDBg9gyEr+ZcXFxiI2NRVJSEvLy8mihs4PU4yDfpBGUlpZi7NixOH78OEpLSyGVShEeHg5tbW24ubmhvLycszzKNpqDBw9i/Pjx9B2FotGV16JFi7Bnzx76XarSJ3ElJiYiNzdX8GYnOTk5iI6OBtA2ezMS5ocffsDgwYOV7gFormxCQ0MxaNAgOsCrMvkh8bBaPrIEKxTyKpJvYYDtH7W1tUhOTqZuMWNjYxEXF4ekpCTcu3eP4+1J2SBLfmuJfJM7S+CTkpKgp6cHW1tblRNT0h8OHz6MXr16YcWKFVi2bBlWrlyJESNGQE9PD/PmzaODo7+/PzUlJLK+rq4O+vr6OHjwIEf2OTk5QUdHh/r65ZcPee/vv//GlStX8Pnnn8PS0hLHjx/HhAkTaPuur6/v8A2XfMWPKq2ksos/SWru95biUFYe7SHfypRZDx8+RL9+/Wh5su/W1NSgtLSUMyYDjTbYb7zxBp577jnqxpV/SA8JExAQ0GbNN4nr+vXr0NHRQUFBAQ3v6uoKfX19WFlZAWgk1lKpFFVVVTRtJycn6Ovr04OqyCTt5Zdfxpo1a/D3339z6ldVeTU0NCAlJYXjr1xdsGXOrqyOGjUKzs7OND4SZ2VlJaRSKX2XTSsvLw+DBw/G9evXab5UpUnSTUpKojb3bdF8A418pGfPntTsBmgc2w0MDPDrr78CaGyL5eXl1BRMLpfj77//Rnp6OtLT05GTk4PQ0FBMmzYN77//Ph48eMB5lz+md1nyzS+I9hLhtqC96bSWfJMGkJOTg5EjR2LYsGEYPXo0Ro8ejeHDh0MikWDQoEHYvHkzp3GwYY8fP45Ro0bh3r17NI38/HzMmTMH+/fvp3lqjvwDXdfmm/83+f4TJ05AV1cX2dnZtD2SjR/8NFmEhoZiyJAhdEe5uq4GT5482WFHCT8uiOT76UVzk011yLey/62srKCrq9uEPJF+wBKuhIQE2NjYwNHREU5OTrCwsMCECROwZcsWeHl5UVMTvs13Q0MDampqMGDAADpIk7Q2btyI5cuX0/9JmsoIIkFpaSlefvllbN68mbMK1tGuBlmCHB0djR07duCDDz7Au+++i/feew979uxpcpHn77//Pj7//HNkZ2dz4pLL5aiqqsKBAwewe/fuJvG89957ePfdd7F79268//77uHTpEoCmG9LaQ77Z73rw4AFyc3NhYWGBZ555Bu7u7sjNzaXlWldXh08//RQGBgbIz8+ncqShoQGHDh2Cvr4+PTlR2SSRPDMxMaHkqbWab/JuWFgYevXqhaNHj6KiogL+/v5YvHgx3nzzTfq+r68vhgwZgoMHD9JnRUVFmDdvHl5++WVkZWWhtLQUR48exdChQznEV1WeyPP2eDthuVNBQQFKSkrw1VdfYezYsXBzc4NUKqV+0RUKBVavXo2pU6dCKpXSPJSWliIvLw83btxAr1694OPjg/z8fGr7rswUjeTd09OzXd5OFIrGVbLhw4fj448/RnFxMRITE7Ft2zbMnz8fVVVVUCgUyM7OpjKBtB928gI0mqWNGzcOpqamAJrX3HdZ8s02yKysLHzxxRdwcnIC0LK7vPZCVWW0JZ7War6BxtlxWloakpOTkZKSgtTUVDg7O0NbWxs3b97keMGorKxEZWUlbfzW1tYYOnQoXeYCAC8vL4wcORJ//vknANUEkO1EycnJyMvLEzz5zs3NpeYbzXV8dqnZ3Nwc/v7+KCsrQ1lZGXJzc/Hss89i6dKlVCCVlJRg7dq1dOlZoVAgPT0d5ubmKCkpQVVVFYqKivDhhx9izJgxyMjIoKSiOUFL8hAcHEwJhVDIq0i+nz7wNbCq3lFX8008j5SWlmLv3r2YMmUKqqqqUFFRQfvG3bt3sWnTJnz66acAuHslSP+IjIyEgYEBXVEi6QcHB1PNNxlA5XI5pk+fjm3btqG0tBTV1dWwsbHBgAEDKJmpqqrC/v37sWHDBmobSsxJysrKUF1djYyMDGzatAlz5syhGzdJ3jpT83337l0cP34cGzduhK6uLiQSidJLW1sbb7zxBi5fvkxJFRsXqScPDw+YmJhg+fLlTeIYMGAA3nrrLVy4cIGuGLJacqD95JuQGuKFa/jw4ejXrx/GjBmDZ599lrr/LS8vx8KFCzFv3jzOxMjDwwOjRo3CyZMnVeahvZpv8g55v7q6Gnv37kW/fv1gaGiIQYMG4Z133uFoiK9evYrevXvTSQvxwOPi4oLJkydj5MiRMDQ0xKRJk+g+BbZuOkvzzU54PvroIwwZMgTDhg3DoEGDoK+vj82bN9PDpsrKymBoaIjXXnuN7mNQKBT43//+h7Fjx2LEiBHo168f9PX1YWxsjKKioiar7+x3Ae3TfLPxnDhxAgMHDsTEiRMxdOhQvPjii1QZBjQquvr27UvPJCCrzOzk+OLFi5gzZ45SD2ii5vv/wX6go6MjJBIJfv/9d47mVtlFwmpCAbWWfDf3PDU1FRKJhOPFpLi4GEZGRtT9EZn9LViwAGvWrEFeXh6ysrKwefNmzJkzp0UCyJI/e3v7p0LzTWy2geY132wH/fDDD9GnTx9MmTIFS5Ysgb6+PmbOnEk10QqFAsXFxdDX18e2bdtoWmRTzvjx47FkyRJ6yA5ZomvNhktR8y1CKGgN+a6srMT27duxcuVKjB49GiNGjMDq1as57jlDQ0PRs2dP7Nu3D8CjQVSheOQG9Pz585g1axaCgoLoc6Cx37Cb0oisO3fuHAYNGoRVq1bhxRdfhIGBAS5cuEDTvH//PqZMmYJly5bRsDKZDH/++Sdmz56NFStWYNSoUXjzzTfpJjnSnztD882GZ+OIiIjA0qVLqY2+RCJB9+7dIZFI8Pbbb3POIWgp/ZKSEmrvL5FIsGLFiiYmOMry0V6zE3JVVFSgtLSUmlaWlpairKyMQ3xLS0vpiZfkqqqqglQqbTIp4H83kfempqZUQ94asxNSt+z7WVlZCAwMRE5OTpP4iImMMo8bVVVViIqKQmJiolIPWC3xAZlMBm9vb6pBbovZiVwuR3l5OUpKSmh5l5aWUuUdKTNiOsPmrby8nNYTCcuatiqb/JBnnp6e9KC7ttp8k++9d+8egoKCkJqaStMgv9XW1qK0tJQzaeBzw+rqapSVlTXZy9bc5K1Lkm/ykWFhYejWrRt+++03AGiRfGsKWku++ZMH9kpPT8egQYMQHh5O3ysuLsbs2bOxatUqTlpeXl4wMDDAiBEjoK+vDwMDA9ja2gJoftWAbciJiYldSvPNhqmrq0N8fDyuX7+OkydPwtnZmWox2Jl0eHg40tLSOEIgIyMDlpaWOHnyJGxtban2mi335spftPkWITSoQ74JamtrERwcjKCgIISEhCAoKAiBgYH0eGig0QY4KCiI+hVnZRD5Oy8vD3FxcZQksP2Gf2Q8iTcqKgqnT5/GxYsXOeQJaCROoaGhnP7c0NCAoKAg/PLLL7h58yYlpnxSxn5/R2u+WdlC0khMTMTcuXMpAdfW1oZEIsHLL79MzQ358ob9m3xzQkIC1aSvWbMGZWVlALiTCmXl2NHHy6sax5sb21WRbvZ/Qp58fX1b7eebL6vZlVHyXJmdMD//JCy/DTeXd2X5aK+3k+a4hbKybO6ZOpyL/a0j/Hzz4wSU22m3xAPV5YpdnnyTBlZWVobly5dj9erVan+4JhRQa8l3c6ivr0dxcTFd3gQaG/LDhw85y4ukzIhdmq+vL/29pZk2O4jZ29sjLCxM8OQ7JCSEo3lWB8oEG7sbujmBo+wZG19LgkE84VKE0KAO+W6v/GguPGvKcOrUKUpQ2L6nbNBXZXpH7soIHd8tGfm7M4+XZ9Mi3+np6Um11oR8a2tr4/r16/Q9ZZsqybP6+nq8/vrrkEgkWLx4MUpLS5tsxOTnoSPId3Pkujnyrep9tnz46ZCyunz5Mudk6NbWiTokVFl+2bDqfGtzactkMvj4+LRL891cHlS9o064ltqLl5cXPcinrZrv1uZdnW9h41eWbpcm3+Qjq6urceHCBTzzzDMwNTXFnTt3kJKSQnexZmRkIDU1lWo8lNkgPQmwQrm95JsVnPxnfFLI/36ymYi801yDI+FiY2ORnZ0tePKdlZWllp9vZR2U3ajE76xsfagbrqUyVCi4u9H5mj9NB/k+kXx3LbByTp0Nl2z/4PcT9h1lfU7VwEr6jbe3N8fPNz8Mn2Aq688siMZTVRj+93eG2Qn/TkjBn3/+iR49elDTEy0tLSxatIi6r+OPA+z/v/32GyQSCSZMmICcnByO7FdGTNjv7shDdjoLbDn5+/tzyqQ1+VXV9jo7LD8Oovkm/qw1Xaay35yUlERt7tui+X4S6NLkm21cbm5u6NWrF7S0tCCRSNC3b1/o6OhAR0cHffv2Rb9+/SCRSPCvf/0LQPPu3B4nOpp88wmcqlkd+VsVcWwuDdI5HBwcEB4eLng/32FhYdTNk7qab35c/Dg7qyzY8j979qyo+RYhCLSGfHdW+qRvnzlzhqP5bm3/be59VXF0JvlWljcyIaisrMQHH3xAtd7E9nv//v00P+ykgcgWFxcX6OjooF+/ftQWV9n4wk9bqOTbzMwMoaGhANqm+X6SIHmtr6+Hn58f52AYTQbbXnx9fSl5bcsY/CTQpck3KwyioqKwceNGbN26FVu3bsWWLVuwZcsW+v8bb7yBl19+mePNQxMKqCPJd1vTJ3d1Bx7Wm0BmZqbgNd8ZGRmC6fhs+RO3W4BwyKtIvrsmNIl8u7q6cnzxP670Hwf5JvGR75XL5UhMTGxyYFyPHj3w119/UXnC2ivHxsZCX18fPXv2pPWkbAVPVbqA8Mi3nZ1dE88tQgGr+Q4PD6eruJouU9n2EhoaSg/q0vQxmKBLk29A+B/5pMl3W0CEtJOTEyIiIgRPvsPCwmBubg5A8zs+S77Pnz9P3ZlpupaDQCTfXROaRL7PnTtHN3c9jeRbWZrm5ubQ0dGh5ifdunWDkZERNVEgZVNUVIT58+dT7Tgh8OrIeCGT77/++gthYWEAhEu+ZTIZAgICOP7KNRlse/Hz86PeZoQ0lnVZ8q3MfAJodI+Uk5NDnfFXV1fjwYMHKCkp4bj40QQIjXyTsgYaZ6upqamCJ9+pqal0k4qQyLejoyPu/L9LM00XtARCIN/KTBE662LTfJqhSeTbwcGBrhg9reSbfBer0f7yyy+p5puYn+zZsweVlZUAAKlUii1btkAikeDVV1+l7uVUbbBUlSYgPPLt6OhIFRlCJd8NDQ2IiopCVFQUAM2SqcrAtpeIiAi1PI5pEro0+Qa4FVhVVQULCwu8+eabmDt3Lnbu3Amg0UXU9evX8dFHH3Hc2WhCAQmNfAOPOoezszOioqIET74jIiLo8b9CIt8mJiZITEwEoPmClkAI5JuPzibeXQGaRL7Pnz9P3co9reSbjVcmk0EmkyErKwvGxsbU/SAh4CYmJqiursYXX3wBiUSCWbNmoaCgoNUbwoVIvkmdXL9+XfA23w0NDfD396c235osU4GmNt/8k0g1HV2afLOVV1NTgy+//BISiQSGhoYYMWIEZs6cSd81NzeHRCLBDz/8AIVCobEbLvfu3Ut/U+YGShMu1l9uSkoKnchoan6VXexKSVJSEjw8PABwj0nWxIvVZNna2iIjIwPAo8mkpl+kzKuqqrBy5UqNJN8kr487zacZCgWXfF++fJn+9jjkButq0MbGBtnZ2TTtx5V+R59wqW65KxSPTtd0dHTEwIEDOfbfU6ZMwRdffAFdXV3o6+sjMjJSab2omxbQSL43bdoEgHsAkiZdpE0oFApYW1sjKiqKPtfE/Db3HQpFIxEMDQ1FWFgYFAqFxo8JbDmHhIQgIiKCfseTzpu6+ScTy9mzZ3ct8s0O2EFBQdROrbS0FCdPnsSECRMANBZEYWEh5s2bh9deew2A6uPTHzcUiqbkmzRKshFG0y5iB+jq6oro6Gj6P5tfVigou3fU1VI6qtIjrhXlcjkiIyNhY2NDB8gnXb7NXQ0NDbTtXrp0CYmJiZw66Yiy6+iLjZ8MCBUVFRpLvkm+gcYDmM6ePQtTU1NcvHixwy5TU1M8fPiQk+bTDFbOrVq1CpcuXWrS3jqr/fH7jampKVJSUprIgc7ut7W1tZDL5diwYcNj1XwDXD/nBw8epO4HiXcwiUSCoUOHwsrKitNfyaVOPtl3CfmWyWSora3VyLGsoaEBdXV1kMlksLS0RGRkJD2iXhPz29x3yOWNRDA4OBghISH0O5503lrKN7mCgoIQGhrK6aeafpH209DQ0PXINzsDOX78OIYPH47q6moAwLFjxzB+/Hj6Xm1tLXbs2IGFCxdSAqAJtkXsoLRv3z589tlnTzhH6iMsLEzlUcNCQnp6Ory9vZ90NloNOzs7arsqRKxZswYWFhYANIt8EpkCALdu3aLkpKOvhIQETppPM1g5t3LlSura80nA3t6envfwJPD666/j2LFj9P/OrnsyTspkMtTX1+PevXtYsWIFJd/du3eHtrY2NmzYgJqamiY+y1ubDtB4kNH27ds765M6HA4ODtQUSciIj4+ntutCQmxsLDWhFCIWLFjQNcm3TCbD119/jcmTJwNo1GqfOHEC48ePh1zeOOOvrKzE5s2bsWDBArqsoWnk+8svv8Trr7+O3NxcJCYmIjMzE3Fxcbhz5w5iY2ORlZVF73FxccjMzERCQgLS09ORlJSElJQUpKSkUIf1CQkJyMjIQHx8PLKyshAfH487d+7Q/0kaycnJyMjIoA76U1NTkZSUpPROjq9NT0/HxYsXYWdnh5iYGGRmZiImJgY5OTmIjo5GXl4eoqKikJ+fj+joaHonR7lnZ2fTb4iPj0d6ejoSExNpWmlpaZy0yfeQMiFlQdK7e/cuvUdFRdF7fn4+oqKikJOTg5iYGFp2GRkZtOzs7e1x8eJFpKWlITExkZYDm35GRgYSExNpOZL85+Tk0HyQ72LrKD09HQkJCUhLS+OUb2JiIv0m8g6pz4yMDFrG5KCotLQ0pKSkcMrh6NGjcHd3R3JyMq0XVW2AtCOSx+joaE5dxcTEIDc3F3FxccjOzkZ8fDynfZH8KmsX/LohbSE7O5tTB/n5+YiIiEBBQQGCgoLw/PPPa6TmWyTfHQ9Wzq1duxbffvst7t27x5EVubm5tK9GR0fTvkRkGNv+2PbOtvvU1FTaV0g/YttxSkoKfvzxR9jZ2dG+S/oHkQmkryYnJ3P6KpGbRP6QPpWQkIA7d+5Q+UD6bnJyMs1LcnIylb+LFy/GiRMnOGXzuOvAz88PEyZMoPbfWlpaGDFiBLy9vZuYBKibP/bd33//HWPGjMH169dx8uRJnDlzBn/88YdGXWfOnMHp06dx5coV7Nq1C59//jlMTExw5swZjcxvc9/xxx9/4PTp0/j000/x6aef4ty5czh9+vQTz1tL+T5z5gzOnTtHFY+XLl3S+Hyz+T916hRMTU3Rp08f6g+f9AUhQ21vJ3K5HGfPnoWuri49uezEiRMYN24cfTctLQ0jR47EG2+8AQB0SeZJgxWI//3vf7F8+XJERETg9u3bCAoKwq1btxASEgI7OzsEBwfDzs4OgYGBsLOzQ0BAAJycnODj4wMXFxe4u7vD3d0dLi4u8PLygpOTE/z8/ODg4ICgoCA4ODggJCQEjo6OCA4Oxu3btxEQEAA3Nzf4+fnBzc0NHh4e8PT0hKurK+fu4uICT09PuLm5wc3NDf7+/vj5559x4cIFmidbW1uEh4dT+zlLS0vExsbCysoKsbGxsLa2RkREBGxsbBAaGkrDOTg4wMfHB7dv36ZpeXl50TSdnZ3p9/j7++PWrVsICgqCra0tIiIiYG1tjdjYWFhaWiIuLo7eLSwsEB0dDUtLS4SFhcHGxgZBQUGwt7eHv78/je/ixYs4duwYfH194e7uDldXV3h4eNBvd3Z2hp+fH60TBwcHmv/w8HDY2trS+ENCQmBra0vT8fHxgZOTE7y8vODq6gp3d3d4enri9u3b8PHxgaOjI3x9feHo6Ejr09/fHy4uLvD19YWHhwd8fX3h5eUFd3d3WtdBQUE4dOgQzM3N4eXlRcvN3d0dHh4ecHFxgbe3NxwdHeHn5wc7OzuEhITAxsYGYWFhtC5IXdnY2CAqKgr29vYIDw+Hg4MDAgMD4eTkBF9fX9y+fbtJnbB15eTkhICAANjb2yMwMJDWsaWlJaKjo2FhYYHY2FiYm5sjKSkJ169fx+zZszWSfBPSAQDR0dF4/fXX8c4772D79u0dcu3YsQPvvPMOPZ2UpPk0g5Vzr7zyCvbs2YOEhARYWloiJiYGFhYWiIyMpH3V2toaoaGhsLe3h5+fHxwdHeHt7U3bnZubG+1PpL8S2UX6ip+fH1xdXREYGAhnZ2cEBATA29sbBw4cwMmTJxEVFUXl6K1bt+Dn50f7KpFzHh4etK+SPmFvb09lc3BwMJycnBASEoLbt28jMDAQLi4u8PHxgZubG80LyW9YWBhmzJiBkydPcsrmcdUBMUdQKBRYu3YtnQh269YNEokEixYtQlFREX2ftEt18kgIOwB4eHhg9erV2LRpEzZs2IANGzZg48aNGneRvK1fvx7r16+n/2tqflV9A7mvX78er776qiC+gZ/v9evXc54L4dqwYQM2bdqEl156iZ7QSfqCkKGWzTcRComJidDT08P27duRm5uLU6dOUZvvpKQkvPXWW9DS0oKZmRkAzdmBzTc72b9//xPOkfoICAjgNDihIjk5Gc7Ozk86G62Gubk5srKynnQ22ozVq1drrNnJ45YNmiCLOhN8s5MbN248sbxYWFhwJj6PG0/K7EQub9zTolAocOzYMejo6NBNl8T/t0QiwRdffNFkE706+XwS/UaECE0B2/aF3g/U0nwT4dDQ0IBTp06hR48emDVrFubOnYuePXti9+7dGD9+PCQSCT788ENIpVKOTduTBn/D5SeffNJkI4WmXWRDip+fH+Lj4+kqAn/jpap7Z2x8ULapj70rC0Ou+Ph4uLi4CGKzB7shyNLSEmlpaW3aXNPZdcKvG5IOyWd5ebnGbrhkQczaOuPSBPnzuKBswyW/H3amzCB9u6GhAebm5sjIyOCk/zj6Ldl4+Lg2XLJxs+Xv5OSEIUOGoH/hDCkAACAASURBVF+/fvjxxx9haGhINeDdu3dHz5494ejoCIDrDaa16ZJwT1pmipd4debFn6Q+DVDbzzdbAFeuXMGqVaswfvx4jBkzBv3798e8efNw+PBhqu1gXfA8aSjzdsJqKlrj+uZxXaT8vL29ER8fL2hXgwqFArGxsXBycgIgLFeDN27coJuENN2tFJt/hUKByspKjSXfJK/k784U2myaTzMUiqauBvltorPbHfH2cf36deqik62Lzk6fuPt73N5OFIpH/ojj4uIwY8YMaGlp4ccffwQA/Pnnn+jTpw/H+8n06dORk5OjtI6aS+9x9BvxEi9NvJ4mea4W+Qa4tmlAo8/v2NhYeHt7Izo6GhUVFfQ3IoQ0pXDYQUkoh+yQsvb390dSUhL9X1PzqwzsQJGQkAA3NzcAmu/gX6F4tFHYysoK6enpADSLvDYHUuZCOWRHLm904SVqvtsHPvl+kofsWFhY4M7/nwzbEqHsyPQf9yE7JG7y3bm5uVi1ahUkEgnee+89lJWVoa6uDjU1NdiyZQu0tLSgpaVFzVB27drFWSXW1D4qQoSIjkWrDtlRKBSorq7m+M4FgNraWgQHByM5OZm+S4SJJgx+QiTfhPx5eXkhLi5O8OQ7NjYWDg4OAIRFvq9du0Y130IZGIVAvp+EbBBS32kLNIl8m5mZUc3300i+WY07MaspKyvDP//5T0gkEhgbGyM/Px/AowNwkpKSYGBgQM1PtLW1OXukWO23CBEinm6oteGSCISSkhK89dZb+Pzzz6ldaVxcHFasWAFdXV2MHz8ev/76K6qrq2k4TYAQybeo+X5yEDXfnQ+WZKSnp+N///sffvjhBxw5cqTDrh9//BHFxcWcNJ9maBL5trS07BKab2LnLpPJ8Ntvv6F3796YOnUqIiIi6O8KxaPTLy9duoTevXtz3GGOHDmSyniRgIsQ0TXQKs23j48PJBIJvv/+ewBAZWUlPvnkE7p89sorr+CZZ56hg7263k5YzTr/Yn9vK4RIvgn5c3d3R0xMjODJd3R0NOzs7AAIi3xfvnwZycnJAB7ViaZDCOSbXWK/ffs2JBIJevbsiW7dunXIpa2tjV69eiEpKYmTpqajPbJQk8j3pUuX6KT1aSPfbJ2Q9GxsbDB06FAMGDCAepnh720hJ/Vt3bqV2n2T+yuvvEI3iwqhnYoQIaJ9UNvPt0KhwB9//IGBAweiqKgICoUCd+7cwfDhw2FsbIza2lrcu3cPzz33HF5//XUALZNv/qBCPErU19dTbQLffKUtgklo5Jslf4GBgfSYZvKbUMDWW1JSEjw9PQEIi3zb2dnRE0Y1ibw2B6GQb7aMO+uQnbi4OE6amghlBLslWaiM0GoS+ba1tUV2djbn+x5H+p1Nvtk6It8aFhZGD9M5ePAgqqurqbcktq5IHWZkZGDcuHG0jRIC/ttvvwHQLJNNESJEdA5adbz8jz/+iDFjxqC2thb19fUIDg6GRCKhx7XL5XL861//wty5c+msX9WAzwoWsnSnCsRmrq0QGvkGHmlZXVxcEBUVRf/X1PwqA1v/kZGRsLa2BiAs8n3x4kV6JK8mkdfmIATyzZqlJScn47PPPsNXX32FL7/8ssOur776inPEuSZ9vyoQ0q0KzclCTSLfFy5cQEpKCn3+NJBvZcQ7MzMTixcvhkQiwZYtW+h+KL63L3In+TMxMUGPHj04E8X+/fsjPDwcAASpbBEhQoT6aJXm++zZsxg8eDAqKysBAKampujevTv++usvyOVy1NbWYs+ePVi4cCGdvTe3VM///d69e3B2dsalS5dgYWGBgIAAPHjwQGl+WgOhkW+2XEJDQ5GWliZIYcwOPikpKfDx8QGg+eYbbPk7OTlRDZ4QyBsgDPLNtg25/JFf+46+2G/WxL7DakbZfpGVlQV7e3tcvXoVVlZWCAsLQ1lZWZNw/Lg0hXw7ODggJydHZV47K/3OIt984t3Q0ICioiK89dZbkEgkmDt3LjVx4k+e+KZEdXV1qK2txerVq5us1CxatAhlZWWc06FFLbgIEU8fWnXCZVRUFHr06IGPPvoI5ubmmDx5MkaPHo28vDwoFArcvXsXs2fPxqZNmwCAHqbCB3+wKSgowOeff45JkyZBR0cH/fv3h56eHvr27YsZM2bg3//+NxXkbSEQQibfzs7OiIqKEjz5Dg8Ph5WVFQBhab4vXLiAhIQEAJpFXpuDEMi3iEf1xK4C5ObmYvfu3Rg7dix0dHQwYMAA6OrqQk9PD0ZGRjh06BDy8/OVKjY0iXyfP3/+qdB8802BamtrIZPJUF1djU8//RTdu3eHjo4OTp06BblcjpqamibmQSQ8S74VCgU8PDygq6vbxPxk7969ABpXOcihRWwcIkSIED7UPuESaBQGBw4c4AiKb7/9lgqEM2fOQCKR4KeffqJCRtWATzRT+fn52LBhAyQSCVavXg1TU1Pcvn0btra2+O2332BkZASJRAJLS0uVto7qfIPQyDcpt4iICGRmZgqWfJN8p6enIzAwEICwNN9ubm7tmvg9CQiBfKsiJp1xsWlqGtg8ZmRkYPbs2ZBIJNi0aRNu3rwJBwcHWFlZ4ciRIxg3bhy0tbXpxmX+nhpNIN+k37i6uiIvL6/JN3Z2+h1JvlW1HblcjoMHD0JHRwcSiQRDhgyBu7s75z1105swYUKTzcK9evXC0aNHVeZFhAgRwofargbJbL68vBzW1tb4+eefYW9vj9LSUigUCtTW1sLa2hpHjhyhG9SU7dwmgphoSD766CNIJBJ8+eWXTfyHA8Ddu3dx+vRp6qauq2m+nZycEBkZKXjyHR4eDgsLCwDC0nyfP39e1HyL6BSQ/qFQNLpxXbduHSQSCX755ReUl5c3eT8nJwc///yzSpedmkC+SZ7OnTtHvQQJlXyz4RoaGpCVlQVTU1OsX78ePXv25JiLGBsb4+rVq4iPj4dUKqVh+Vd5eTni4uLg7OyM/fv3N4mHXD179sTGjRtx/vx5JCYmatSJ0SJEiGg/WiTfrP0kK+zZgVwmk6G2thaVlZVqLZGRzZhRUVEYOnQonn32Wdy/f5/Gq8xHeFVVVZfUfMfExCA7O1uw5JvkNzMzE2FhYQCEpfn28fGhh2UIhbyK5FvzwRJvAPDz84NEIsHatWupT2hW9hLU19ejsrJSpWb/SZNv9nCwe/fu0edCJN+sHH7w4AEOHDiA559/HtOmTcPUqVMxe/ZszJo1CzNmzMD06dOxbNkyrFixAjY2NrQsSHhSLuHh4di6dSteeOEFGBkZYcaMGZg5cyZmzZpFr5kzZ2LatGkwNDTE/Pnz8d5776GioqLJHgYRIkQIFy2S77q6OnrV19fTv2UyGd04wl+Sa26pl5ijAMAvv/wCiUSCo0ePUkHHt5dTtmGqK5BvIqwdHR0RERHxRMi3MrOA1uSBDRMeHg5zc3MAwtJ8nzt3DvHx8QDUI6/tKbP2ljc/HpF8azZIPclkMhw+fBgSiQSnTp0CACpXWyMLNYF8k779xx9/dIrmm99H+M86mnyTcPX19cjNzUVGRgby8vKaXLm5ucjMzERiYiJ1EqBK852eno7U1FRkZ2crjSsvLw/5+fnIy8tDRkYGsrKyRM23CBFPGVok3xs2bMD06dMxc+ZMOksn14wZMzBr1iwsXrwYO3bsgIuLCwCuuQlfWBCvKAqFgh7Q4+zsTN/lX+xzZfGpAyGSbzLQxsXFIScnp9Xkmy0zuVyu0hOEqkGcDSuTyTh+a5W911Ie7ty5wzn1TZPBkm8/Pz/cvXsXQPPklV8uZKVImb9fZRNSth5IWH4/ak3dAyL51mSwbaGyshJvv/02dHV14evryyGxqsKRv/m/tZZ8s3EROcFPp6X32ZVRYofu5+eHgoKCZuMiv/H7R0vfzMokVobJ5fLHfsKlOmjP2CVChIinEy2S71WrVmHs2LEYN24cDAwM6J38PWbMGLpjW1dXF1999ZVK0xGAq/nevXs3JBIJfHx8qFBVNqCQe1fUfDs4OCA8PPyxab7Z+JXVh6p6VRUXCR8WFsY5+U2TwZb/2bNn6UEt6nx3cxuMmyMzJKyy9t9ad3ki+dZ8sHUtlUqxbt06DB48GLGxsQCglJCqUkwQqEu+W2pjHYEzZ8400XzzL3WOUVc2qeWDnTCQsaWjNd9snlu6mhuz1I1DWZyi5luEiKcHLZLv4uJiFBQUoLCwkHMVFBTQKz8/H56enliwYAG6d++Oa9eu0YFAmaAnAvLjjz+GRCKBi4sLRxgrE1hdVfMdGxuL7DbYfLNllpiYiDNnzsDU1BQXL16EqakpTp8+DR8fH6WH97Dp5+bm4qeffsKePXtw8uRJlJaWcuJvSfNN4rlz5w49QEJImm91bb7ZcigoKMDVq1exf/9+fPTRR7h27RqqqqpUnlzHltO9e/dw9OhR7Nq1C8eOHaOHxIia76cLLEmrqKjAtm3b0K9fP/j7+1PNtzLC3NGab3YynZKSQtuKqs3y5N3Kyko4Ozvj7NmzMDExgYmJCS5evIizZ8+ioKAAgYGBKm2+2XhKSkpgYmLCMbPhgy9rgoKC8J///Acff/wxPD09aVkKQfMtasFFiBABqEG+W4Pg4GD06dMHO3bsAKD8eHnW7OTIkSOQSCQ4efKkSjKnroakOQiRfLdX880OqqdPn0aPHj0wZ84czJw5E3PmzMHIkSNx4MAB1NbW0vfZtBUKBeLj4zF9+nRMmjQJmzdvhoGBAZYsWYLi4mL6bkuElPweGhr6VGu+SRuVyWRYuXIlhg8fjhUrVmD16tXQ09PD2rVrUVFR0WTlgC3vhIQEPP/88zAwMMC2bdswduxYLFq0CCkpKZz31Mk/IJJvTQYr7+rr6/HNN99AS0sLf/zxB+RyOVVQ8Albc7KwtZpvEl9VVRWCgoKwYMECKruJL2o+SN+NiIiAkZERRo8eDWNjY8ybNw8LFizA/PnzkZOTg8uXL1MvQcq03jU1NUhPT8ebb74JIyMjagbHb6PsN9fW1uLQoUMYPnw43nnnHaxbtw4DBgzAhQsXAIDuSQI0i3yLECFCBB9qHy/f3EWISllZGVatWoUlS5Y0K0zJAOHn50e9nRQWFjZZZmPDt8fsQsjkOzo6mm64Ib+pGwd597vvvoOBgQHu3LmDgoIC3L17F3fv3kVJSQmnrEk4MoC9/vrrmDt3LpKTk1FZWYmkpCQMHDgQR48e5bzfHBkgv2VmZiI0NBSAsMi3p6cn9VfcEvkGGr/NxsYG6enpkEqlKC8vh6OjI/r06QMTExNOWyRpkbD//ve/MXXqVMTFxaGqqgqxsbEYN24c/vvf/9J3RfL99IDtQ+7u7pBIJFi3bh2ARweUkTrnmyGQcCzUJd9sO8jMzKQTvp49e+LcuXNN2igbByHlJiYmGD9+PBwdHfHw4UPcu3cPRUVFuH//PhoaGuDl5UX3SvC/oba2FuvXr8fUqVOhpaWF7du3A2iqbWfDAcClS5cwYcIEuLu7o6qqCuXl5XjppZewZs0aqtAhygSRfIsQIUKT0W7yDTzS+lVXV2Pr1q2YM2cOKioqACg3MSDLg3K5HJs3b4ZEIsHhw4eVkjKFQgEzMzO4urrSsK2FkMm3g4NDm7yd8Mn3tGnT1DKbIANkRUUFRo8ejZ9++onz3muvvYbFixejpqamRTLI/h4aGoqbN28CEBb5Pnv2rFreTvgEg0VBQQHGjBmDL774AgDo5AZ4RDju37+P+fPnY8+ePQBA2+ubb76J5cuXo6ioqMU8sHkBRPKtyeDL0KKiIixatAja2to4ceIEADSZcNfX1+OPP/6gG9Tb6uebP9EuLi6GlZUV9PT06CqPKrMTkua+ffuwePFiaobGhzKbbzJOkKPZk5OT0bdvX5iZmXHyxYKEuXv3LpYsWYJ33nmHlgUAfPLJJ5g7dy7tHzU1NQBE8i1ChAjNRoeYnRChmZOTg2nTpmHVqlVU2Co7Ahl4NLCkpaXhueeeg5aWFtatW4eLFy8iJCQEQUFBOHfuHJYuXYpu3bpRk4WuoPkGHpVPZGRkm064ZDVGP//8M/r374+TJ0/ijz/+gLe3Nz3Eg0+gSbqZmZkYPHgwrl+/DuDRQH/gwAEYGBjQA5Fa0nyTPKSnpyM4OJgTl6aCJd/u7u7Izc0F0DJ5VTYhBYCAgAD079+fulpktYqkLCIjIzF+/HgcOXIEAOjk9auvvoKhoSESExM5+WopH4BIvjUZ/HaiUCgQGhqK4cOHo0ePHtiyZQtu3ryJ4OBg+Pv749ixYzAyMoKOjg6tT3YSR+JsjdkJ2x7OnDkDfX19jickPkhe6+vrsXHjRkyZMgWmpqawsLBAdnY2gEek3c3Nje6V4E802Am5rq6uSpeEbHt3dHTEiBEj4ODgAOCRK8adO3di6dKltL+I5FuECBFCQIfZfMtkMvzwww+QSCQ4dOgQgEdLp3zwzVWys7Oxfft29OnTB1paWtDW1kb37t3RrVs36Ovr45NPPqEbz7qK5pt8p6urK2JiYtpk803K+dKlSxg+fDiMjY0xe/Zs9O7dG2vXrkVWVhatB/IuIYMxMTEYMGAArK2t6XOFotFOf8SIERw3YqrqhB1Mo6Ki6LHYQiDf5JsuX76MpKQkAOpvuGSJ98OHD/HCCy9g/vz5qKur47h4JO1SoWh0zTZy5EgcO3YMCoUCFRUVUCgU+OGHHzBmzBjqplGdshPJtzDA1wgDQEJCAtatW4devXpBS0sLPXr0QLdu3aCtrY2xY8fi+++/p36klSk2WrPhkt08uWnTJqxevRrAI3tvPmkmbS8tLQ1btmzBnDlzsHLlSowaNQoDBw6EtbU1jfvSpUtIS0vjfCf/u48dO4bRo0fTVTS+Vw+2XI4cOYLRo0ejuLiY/l5XV4c1a9Zgy5Yt9JlodiJChAghoEXybWZmhuPHj+PkyZM4ceIEvbPXt99+C2NjY0gkErzwwgsoLCzkEDk+VJmu5OXlwcnJCRcuXMDVq1cRHByMkpISGq6tGy+FRr6BRwOrv78/kpKS2qT5Jveamhp6+mhDQwNcXFwwcOBAfPrpp5R8sxsGgUb/4gMHDoStrS2HfH/33XcYOXIkxwuHOuQ7ISGBmg4JgXyT8reyskJ6ejqAlr208AlDaWkpduzYAQMDA7r5jO9CjrTLgIAAjBkzBidOnOCQ78OHD2PcuHGIjo7m1ENL+QBE8q3JUEZGWZKbkZEBOzs7nD9/Hn/99RciIiI4q1Wq4lRX881e9+/fx6RJk3Dw4EEAjzbKK9NYE9JbXV1NfdHfv38fzz33HBYsWED3R5ibmyMzM1NpeqQdrlu3Dhs3bgTAle389yoqKrBlyxYsWbIEAChZT0tLw5QpU/DNN98AeHQgHCCSbxEiRGg2WiTfZFNMc5e2tjb69u2LN954AykpKQBU+zVuLZQtV7YlDqGRbzLweHp6Ii4url023/w4gcbDk1atWtXk5DTyf15eHoYNG0btMVlbz0mTJkEqlTYZnJvLQ0xMDF0yFoKrQVJW165do21aHZtv8r0PHjzA1q1bMWXKFA7xJu8SkDjj4+NhaGhIV43IMvq+ffswc+ZMtScAbPwi+dZ88Elxe+NqiXyzyg6C6Oho9O3bF97e3gBUtzFlBJ6Q3V27dmHWrFnIyMgAAFy5coW2WbY/kXBVVVUYM2YMfv/9d5XfTgh5QUEBli5dim3btgFo1NSTNAwMDODh4QGgcdKgia4GRYgQIYKPFsm3i4sLzM3NYWFh0eQyNzeHjY0NfH19kZubq9RzhirwtRyqro6AkMm3l5dXm8g3u7mJbxtaVVUFY2NjbN26lcZZVVWF0tJS1NbWUg355MmTceDAAU6axsbGWLduHY1THUIKNPord3R0BCAszfdff/2lFvlm6+fu3btYv349Zs+ejTt37ih9v7a2FiUlJdRGtaysDMuXL8eWLVtoPADw0ksvYcOGDSgrK2uiWW8u/4BIvoUGdWQi+56y8OqanbD/X7lyBQMHDkR1dTUAcOQ48djDxs/vv3V1dZg3bx7efPNNVFVVAWhcMWXJN1+ep6WloU+fPggKCuLkRy6Xo7KyEqWlpTSdu3fvYtGiRXjrrbdo+IaGBmzbtg2rVq1CdXV1E1knkm8RIkRoMjrUz3dHaKnZuDoqTiGTb1dXV0RHR7eafBPymJubi8OHD+PGjRtITk5Geno6vvrqKwwaNIgehgQAhw4dQp8+feDr60vTOXDgAEaMGAEbGxvk5ubi8uXLeOaZZ2Bra0vfUVfzHRkZScMpc2OmSWDJ96VLl9S2+VYoFCgtLYWRkRFGjBgBR0dHhISEIDAwEAEBAYiOjua4atPT08OtW7doGR09ehTDhg3DpUuX8Pfff8PExAQDBgzAuXPnAKDJKkVzeQFE8t3V0BrNt0wmQ3Z2NhITE7Ft2zYYGhoiKysLOTk5tO2np6dj0qRJHNLr6+uLgwcPIjw8HBkZGUhKSsKuXbswceJEBAQE0PhNTU2RmppK0ySEPi8vD5mZmfjxxx/Rq1cvhISEcFyplpeX45VXXsHMmTOp6VVVVRV2796NiRMnIjk5GQUFBfjuu+8wefJkODk5QaF4ZI4lar5FiBAhBHSIn+/WamgeN4RMvttqdkIGu/v372PHjh145plnMHLkSAwbNgxDhw6ltsWEDB4+fBiDBg2Cn58fHcykUim2bNmCfv36wcDAAHp6eti3bx9ng1RzeeJrvonZiRA03601OyG4d+8eDAwMMHDgQOjo6KBPnz7Q1dVF7969YWRkRPcwmJiYYOjQoXQ1QKFQoKSkBB988AF0dXVhYGCAfv364ZNPPkFJSQnNk+hqUIQqtIZ8l5WVwdjYGJMmTcKwYcMwbNgwTJw4Ef/85z9pmMDAQAwYMIDagisUCri6ukJfXx8DBgzA5MmTMWzYMCxatAiBgYEAHk2sr127xtF8k4njzp07MXHiROjr62Pw4MGYMGEC1V4DQGFhIaZNm4YNGzYAeOTRJSwsDFOmTMGYMWMwYcIETJw4kbZrQryJC1tAJN8iRIjQbHSo5ltTIWTyHRAQgOTk5HbbfN+/fx8hISGIjIykS8OsCUNVVRVKSkpoObFELzU1FZ6ensjJyeHE3ZIJBJuHxMREapspBPJNNHHW1tZ045g63k4aGhoglUpRWlqKsrIylJeXo7y8HFKplJ5wCTSanZSWltLJD1uWmZmZ8PT05JisKFsJaikvIvnuWmiN2UlDQwNKSkoglUohlUpRUlKC0tJSVFVV0XeJaRTxIMJqzZOSkvB/7J13fBTV+v+H3qQk1ECIEJqItFBECWJBAZEiXy6CBRG492JBBQuC3qsXQb3iVUBEkCIECAkQSBAS0gPpvRcSQid0QgLpyb5/f+Q3h9nNhiQoYZec9+s1r012ynlm9syZzzznOc8JCQkRAyyhvH6p9/bevXtF/dU6ZXJycsjOziY7O1uUqXq41WNr7dDW97y8PEJDQwkPDxfhWtqxRdLzLZFIzAUpvk20UVaFkre3N3FxcXed7UR9IGr3084iqn1wGYpprQhV/y8pKalgS3U83zExMbi5uQHmJb4dHBxq5PnWeqiNLcaut+FvpcVQXFTXfpDiu65RE8+3+ndl9dNwvYrh3A3qvWKYLelOAy6rc18YtjGGdqjjUtRt1EWKb4lEYg5I8W2ijbL6oAkJCSEtLa3G4lu7rdZTbUx0a7cx9n9lD8nqlK/anZqaKrIpmJP4dnNzEx686mYaqW5IVmW/w52ud3WvO0jxXdeoiee7qvppuI3h/5W1Jeq97erqWqGn7M/cF+rfd2qHpPiWSCTmghTfJtooq0LJ09PzribZMXyY1WTfv+p4hp5vc5pkRxXaW7duFTPw3Svxeq9+Kym+6xY1Ed/3qnz13r7TJDt/tgzDY2o/pfiWSCTmgBTfJtooq+IvLCzsrj3f9xvtAzI1NVVkUjEn8X3w4EFOnjwJmI94leK7bmJK4vuPP/7g9OnT4vvaKl+Kb4lEYg5I8W2CjbI2XONup5c3BbTnERUVhYuLC2Be4nvz5s3VSjVoSkjxXTcxJfFtmGpQim+JRCK5jRTfJtooq+IvNDSUtLQ0o7MjmjqGnm9/f3/AvMT3H3/8QWZmJmA+4lWK77qJKYlvNze3CjHftVG+FN8SicQckOLbBBtlrfjz8PAgOjrabD3fqr3m7PlOSkoCzEe8SvFdNzEl8b1x40bp+ZZIJJJKkOLbBBtlrfgLDg4265hv1e6UlBR8fX0B8xLfbm5u0vMtMQtMSXzv379fjJWQ4lsikUj0qZPi+/333xfrtOmyTGlRxZ+np6eYXl4Vs/fbtuou2pRg0dHRYnp5Ne+4qS7aXMaG08vfb9uqaz9I8V3X0On0xffvv/8u1tVG3dXmqdfGfBumJbyX5aszYkrxLZFITJk6Kb4XLFggBJa6qP9X9Xk3+xj7rGqb4uJiysrKOHr0KMnJyWJyG/Xzz5ZfG5/a65SYmIi3tzelpaUUFRX9ZdexsnLv9jcxvP779u0jPT2d0tJSSkpK/tI6cK8+1TqSm5vLmDFjpPiuIxiK7y1bttS4navutpXVO/Xe3rt3L5mZmeJ7w2Pei7pfUlJCYWEhZWVlTJo0SYpviURistQ58b1w4UI+/fTT+2xR9QkODhYzxZkzaWlpeHh43G8zaoyTkxMn/3/3uTkyfvx4nJ2dASm+H3S07dxzzz0nXrruB05OTly4cOG+lT99+nR+/PFH8b8U3xKJxJSoc+J7yZIlvPjiiyQnJxMYGEhsbCwBAQEkJCTg7+9PfHw8fn5+xMXF4e/vT2xsLEePHiUyMpKgoCDCwsIIDQ0lODiYyMhIjhw5QnR0NAEBAcTFxXHkyBESEhI4evQo8fHxooyQkBCio6MJDQ0lPDyc8PBwQkJCiIiIIDg4mPDwcPEZEhJCcHAwUVFRbNiwAScnJ/z8/IiNjcXX15ekpCR8fHxITU3F29ubY8eO4e3tTCYL/AAAIABJREFUTXp6Ot7e3iK+OjExEX9/f2FXVFQUgYGBokztZ1BQEBERERw9epSYmBhxLXx9fUlJSRHH9/LyIiMjg8OHD5Oeno6npydpaWl4e3uTlJSEr6+vuHbR0dEcPXqUqKgo9uzZw5YtW4iIiCAkJITQ0FDCwsL0yo+JiSEwMFDYm5SUhL+/P8nJyfj5+ZGcnCzOSy0nICCAqKgojh49qnfsiIgIAgMDiYyMFDao5xYYGEhMTAzBwcFER0cTFhZGZGQkERERhIeHi986JiaG1atX4+7uLn634OBgwsLChO3q8aOjo/H39ychIQEfHx/xG6WkpODj40NaWpq4lv7+/iQmJnLkyBHi4uKEfUFBQXr1QP0MCgoS5cTExIi6pl4LLy8v0tLS8PT0JD09ncOHD5OZmYmbmxtDhgyRnu86gradGz9+PO+//z4ZGRmirdDWS7Wdi4mJEe1bcHAwoaGhhIaGEhISIuqetn1Q763w8HDCwsKIjo4mJCSE2NhYgoKCiI6OJiIighUrVrBjxw4SEhI4cuSIuB/Dw8PF8SMjIwkMDBTtZ2xsLH5+fiQkJIi67efnR1JSEgEBASQmJnL06FFiY2NF+6jao9p99OhR4uLiGDZsGKtWrdK7NhKJRGIq1DnxvXTpUkaNGkVoaCj79u3D39+fPXv2EBgYiLOzM0eOHMHJyQl/f3+cnZ3x9/fHxcUFT09PXF1dcXd35+DBgxw4cIDDhw+zd+9efHx82LNnj96xXFxcOHLkCPv378fPz48DBw7g7e3NH3/8gbu7O+7u7hw4cAAPDw8OHDiAu7s7bm5u4vsDBw7g4+PD8uXL+eWXX4Qtu3btIjg4mJ07dxIeHs6OHTuIjIxk+/btREdHs2PHDsLCwnB0dCQoKEjst3fvXry8vNi3bx8eHh64ublx+PBhXF1d8fDwYP/+/Rw+fBgXFxd8fHzEtdi1axehoaHs2LGD6Ohotm/fTkxMDNu2bSM6Oppt27aJ8oODg3F0dCQgIABnZ2d8fHzYt28fXl5ebNiwgR9//BEfHx/++OMPDhw4oHcdXV1d8fX1Zd++fQQEBLB3715hf2hoKLt27SIkJISdO3cSFBTErl27CAgIYPfu3Xh7e+ud18GDB8U5eXp64uLigre3Ny4uLqIMX19fXF1d8fHx4dChQ3h5eXH48GHc3d3x8vLCzc2NgIAAvvzyS3bu3ImHh4f4jQ4ePMihQ4dwdXUVx1ev2dGjR9m5c6f4jdRrFxERwc6dOwkLC8PZ2Zng4GD27t1LQEAALi4ueHl5id9CrQfqp6urK4cPHxZ27969G39/fxwdHQkODmb79u1ERETo/Sbx8fFs3LiRxx57TIrvOoK2nZswYQKzZs0iJiaGHTt2iLZCrZdqO+fr64uLiwuHDx/mwIEDHDp0SNyX7u7uol1Q6+bBgwfFfXLo0CG8vb05cOAA/v7+uLm54ePjg6+vLx9++CE//vgjQUFBov3cv38/7u7u4v5X67SPj4+o005OTgQGBor2a9euXQQFBbFnzx6CgoJEm+3m5iba08OHD/PHH39w6NAh9u/fT1BQEI899pgU3xKJxGSpc+J74cKFfPzxx/fZouoTHh4usm2YMxkZGfj5+d1vM2qMm5ubmKnPHBk7dqwMO6kjaNu5MWPG4OTkdN9scXNz4+LFi/et/GnTpsmwE4lEYrLUOfGtHXBpbLCdKSzqgL/S0lIRyqAOADQ24FKn0+l93iubDMvRfla2j2pPfHw8Hh4eeoMZTXXRXn9nZ2eOHTumdy7V2b8265ZhXZADLusmVQ24NKwv9/K+cXJyIiMjg7Ky2wMua+M+KCwspLS0lMmTJ8sBlxKJxGSpk+L7/fff10tPdb9TwxlbVCEVEBBAUlKSnsi937bVJPWX+rcqvlVxeL9tq8pu9Xo7OzuTnp5uVtdetfPWrVtSfNchdLqKqQaN3Yv3st6pqQZ37drF8ePHxfe1Vb6aalCKb4lEYsrUSfFtTpPsBAYGkpycLISTKdpbGepDERADA8G8JtnZu3cvGRkZgPmIV/WayzzfdQtD8X0/J9nZs2cPJ06cEN/XVvlykh2JRGIO3BfxrTaE1fFmaLf/M+WZm/hWhZKfnx+JiYlmL77j4+M5dOgQYF7i29HRkWPHjgHmI16l+DYPatIOVqctNCXxvXPnTvHSKsW3RCKR6HPfPN9qg1xcXExhYSFFRUV6ixq3qm0077YBNTfxDQjxp06yY+7iOykpySw93y4uLtLzLblnaEW1YRtYVFREcXFxhbawsjbAlMS39HxLJBJJ5dx3z3dVqIPz/mx55iS+tZ5vX19f4uPjzV58x8bG8scffwDmJb537NhBamoqYD7iVYpv86Am7aAqbLXtgOF+piS+t2/fLj3fEolEUgn3TXyXlZVRXFzMjz/+yNtvv83ChQtZuHAhS5Ys4YcffsDNzY3Lly8DVBigdzflmZP4httC6ciRI2bt+VbtTkxMxNPTEzAv8b1nzx4hItTvTB0pvs0D7SDEy5cv8+WXX7Jw4UI+/PBDFi5cyNKlS/npp5/w8vIiJycHQE+AG2JK4tvZ2VmkSJXiWyKRSPS5L+JbmxZq0KBBKIqCpaUl7du3x8LCgubNm9OoUSMGDhwocrWq2SfuBnMW397e3sTFxZmt+NZ6vg8cOACYh/hWr/f27dtJS0sDzEe8SvFtHmjrWXp6Om3btqVevXp07NgRS0tLLCwsaNy4MU2bNmXYsGE4OjoCiLR9hqLWlMS3g4MD6enp4nspviUSieQ290V8l5aWUlJSQnFxMYMGDaJr164ivCIqKgpvb2++/vprunTpQoMGDVi4cCGgPzCpJpiz+Pb//1ORm7v4TkhIwN3dHTAP8a16uZ2cnOSAS8k9QdueZWRk0LJlS+zs7EhISCAyMpKoqCg8PDz47LPPsLCw4KGHHmLt2rViX8Pf827Et6F4ryqsxXAxzCFumGrQ8FjafbU5yA3XGytXa6O2XO0xpfiWSCTmwH31fJeUlDBo0CAeffRRcnNzK2yXlpaGvb099evXZ9u2bWLfmmLO4lvGfNc+WhGyc+dO6fmW3BO098fx48dp0aIFTz/9dIXtysrKiIiIYMiQIbRu3VrvJfZuPN/GxK0qnivbxhBV/GopLi4W5RuL+dYe0zB8RhXShhjabXjO6rNE/VvN8y3Ft0QiMWXuq/hWPd+9e/fm3LlzerMfqsTGxtKkSRMGDx5MUVFRhQwo1cHcxXdCQsJdi29jHqe7Oc7doC0vLi6uVsX3nznv+ym+/4rfS4pv80D7+2ZkZPDQQw9hb29PWVkZBQUFFbKcODs7oygKc+bMobi4WNRTbR2pqedbHXtTVlZGYWEhWVlZFWwztFetR6WlpaSkpBAeHs6pU6fE8aB8oLKxAZfaXqXCwkJiYmJISEigsLCwynLV73NycggKCiIkJISbN2+KcqXnWyKRmAsm4fnu06ePaPS13YhqIz1ixAiaNWvGsWPHjHa3VoU5i++7zfNdna5aw+0q28/YcqduYmPHio+PFx67uxm4aGhTTezXnrd2mzvZrW6rTi8P1RevxmyoSkQbEyjV6ZKv7FggxbepY+j5fuihhxg1ahSAcDQAQmifOXMGOzs7evXqJTLwaF9k79bzDXDr1i3ee+895s2bV6F8ra3qvbt27Vq6devGoEGDGDBgAJ07d+b999/n4sWLQPlLq2HYifa+2rp1KwMHDmTo0KH07duXUaNG6c2IaXgv6HQ6cnNzWbZsGSNGjGDevHm88MIL9OvXDxcXF6C8XZGeb4lEYg6YrPhW/waYOXMmDRo0wM/PD7g776+5iu8/O+DSsDtZ5c8MYK0uWnERExODm5sbUHPPd3XFp2F3dGXnXZ3y1O22bdtGSkqKOGZ17NT+XxOxXJndNQ0JkOLbPKhKfGsFr06nIy8vj2nTptG8eXOOHj0q2rWaer61bcnZs2cZO3YsvXr1omnTpixdurTCcbX7qSJ4/fr1rF27lqSkJNLS0vjggw+oX78++/fvB2DLli3ipVX7Eq/T6fDy8sLKyorffvuNY8eOERISgpWVFf/85z+Bii8Uqh0//PADffv2xc/Pj/Pnz5OZmclzzz3HU089xdWrV9HpdBQUFABSfEskEtPGJMW3itrwvv766zRo0AAfH59qCxot5iy+73aSHe11KiwsJC4uDkdHRzZt2kRwcHCFbl5DTy3A+fPnCQ0NJTg4mNDQUEJDQwkJCSEuLk6I0+p6vrWT7NTE821o17Vr1wgLCyMvL89o+Ybnk5aWxpYtW9i1a5foGlfFTHU833czyY66f0lJiehaN1a/DfdR7cnPz8fHx4f169fj6+tLfn6+0XO9U/kgxbepU13xrf5uBQUFeuIb9OdBqKn4BsjOzubQoUN8/fXXtGrVioCAAKDiC7L2viopKRF1UsXT05PmzZuLsTnGUg2qnumhQ4cyf/58vf1nzJjB0KFDKwh/1dasrCyeeOIJpk+fLs4bYOHChQwfPpyrV6+KawRSfEskEtPGJMW39qFTVlbGc889R5MmTUhKSgLqlufb09PzrjzfWi/V+++/T5MmTRg0aBB2dna0adOGadOmce7cOT0vr7qfeq02bNiAtbU1VlZWdO/enW7duvHwww8zZswY8fCtzMOs2qqui4mJEV6x6nq+tQ/gkpISCgoKGD9+PG3atOH06dMVytd2WZeWlrJhwwbatWuHnZ0dffr0wdbWlt27dwsBcSe71WuydevWGnu+tb+Rn58fvXv3Zt++fYDxFw+td/P06dNMnjyZ9u3bM3LkSDp06FDht5Ke7weD6ohvuP2yeOHCBUaPHo2NjQ1xcXGiHtfU860V0ur3jo6OtG/fnuzs7Aqhadr9DeueKnY///xzbGxsCAsLA2DTpk0VPN86nY7g4GAaN25MVFSUWFdYWMjMmTMZPnw4gF6su3q/3Lhxg6lTp2JtbS32TUxMZMiQISxfvlzvZRek+JZIJKaNSYjv3r17c/78eeD2g0YVVVlZWbRt25a+fftSUFCgJ+iqizmL75CQEI4dO3ZX4hvg2rVr7Ny5k0OHDpGVlcXly5f5/fffadWqFatWrQKo8ABX4yZXrVpFx44dOXToECdOnCApKYmkpCQyMjL0PN/V8eampKRU6lWrbF/1U/3tZs2ahY2NDYqiGJ26Wtu1nZaWRocOHVi4cCFXrlzh1KlTzJw5k/79+5OTk1Ol3er5HTx4UJRVVb3Trk9PT6dv3760bt2aJk2aiBzNxs5dFVEAX3zxBZ07d8bd3Z2rV6/i6elJu3btWLlyZYXzreraSfFt2hgT3/b29kB5b5Van1Uh7uvrS6NGjZg5c6a4J7Qvc9UV3ypqfSgsLGT+/PkMGTIEuB1jbriPofdcbSe8vb3p0KEDK1asEPa4ubmJnibt/fTee+/Rq1cvsrOz9Xp6Hn/8caZOnapXvlqOum9wcDBdunShVatWjB8/nnHjxvH9999XuFYgxbdEIjFtTCrbieq90A40mjVrFoqisG7dOrFvXfJ8e3h4EB0dfddhJ8ZSgmVkZNCnTx+++OILcW2MdV3//PPPdO/eXTxE71TWnWwAiIqKYu/evUDV4tuY8P7oo48YM2YMv/76K23btjU6gYf2761bt9KmTRsuXLggjuvl5YWlpaWww1hcq3oc9Zpt3rxZ9LhUFS6jFbc3b94kPDycHTt20LZtW5ycnESZxvbT6XRkZ2djb2/PrFmz9I738ssv8/TTT3Pp0iW97StDim/zQFtfjWU70d67ly5dYuLEiSiKwp49e4CKIvluPd/Xrl1j8ODBLFiwQBzXsK4Y7q/ewwcPHsTGxoaPPvpIb5Dmpk2b9LIEqduPGDGCadOm6YXVZGVlYWlpydq1a/XuPe0LcmpqKi+//DKffPIJ3t7e/O1vf6N+/fosWLCAwsJCsa3MdiKRSMwBk/B89+nTR4iksrIy8vLy8Pb25vnnn0dRFCZOnCga2Op4/gwxZ/EdERFBRkbGXQ+41HqQcnJyOHv2LO+++y7Dhw8nISEBqNzz/fPPP2NtbY2zszNxcXGcPHmywm9QlQhU1x87dozAwEBRXnXsVn+zdevW0bt3b2JiYjh69CgtW7asVHyrx1+6dCk9evQAbnfhJyQk0KNHD/7973+L7u7KylYFgIeHR4U0aney2dCm1NRUOnbsiLOzc6XnrpaVmppK3759+eqrr4DyDBQAS5cupVevXiQlJenZVpUdUnybNoae7xYtWoiwE7Xu5+bmsnfvXkaMGIGiKHz88cd6k9qox1E/q+v51vYSpaam0rZtWxwdHfVCWYzd69pyN2/eTPv27fnqq69EvVbLd3d358yZM2I/1dlibW3N0qVL9QS2j48PzZo1Ey+5ql3al9K//e1vvPDCCxQXF4vwkn//+980a9ZMpDAtLi6Wnm+JRGIW3NcZLouKihg8eDCKojB48GCGDRtGv3796NSpEw0aNMDCwoJFixaRk5MDVB53WBXmLL4PHjxIZGTkXXm+1eOoQvM///kPDRs2pF+/fiLtn2HMttZ7tG7dOmxsbOjSpQvdunXD0tKSyZMnCw+s1s7KbFDtiIiIuKMANdxP3eaPP/6gb9++4gHr5eVFy5Yt9XIIG6YQLCws5B//+Af9+vUDbovvtLQ0Hn30UT788EMA8UJnrHxVHGzYsEG8pFRXvGo908nJyXTs2FEIYGPnroqdiIgIunXrxg8//IBOp+PWrVvodDq++eYbbGxsiIyM1Nv+TtcPpPg2dbT3Xnp6Ou3ataN58+Y88cQT2NnZ0bdvX9q1a0eDBg1o374933//vYixNtYe1ER8a/93dXWlRYsWnD9/vtKXO+19lp2dzdtvv03Pnj3Zu3evUfH/66+/inSIqrMlPz8fCwsLVq5cqdc+vfnmmwwbNqxC2VoHRKdOnVixYgVw+6V0165dtGvXDldXV6D8Ppeeb4lEYg7cV893UVERc+fOZdCgQYwcORJ7e3vGjBnD66+/zrp16zhz5oxogLUDMWuKOYpv9SEUGRlJZmamnqeoOhiK79LSUs6ePUtMTAyffvopPXr04MCBA0Loar1N6t9Xr14lKyuLGzducPnyZQ4ePIiFhQXz588XIvJOv4l2XXp6OsHBwUDV4luN+8/MzKRfv35s2LBB2OXh4UHLli1FHLzWXm0M6z/+8Q/69+8PIMYKqOJ74cKFYjtjglQrAry8vPQGd1bnmmu9dklJSXTo0EG8eBimhtPWzfDwcLp168aPP/6oJ75XrFhRQXxX9dIDUnybOtr748yZM0yePJmRI0eKtvCFF15g9uzZbNu2jYsXL4rtDdvCmni+te2CGiO9ePFiHnnkEfHirR7/0qVLvPPOOyxbtkyUl5CQwBNPPMGoUaPE/AOqM0UbXuLl5cXZs2dFWSUlJZSWltKrVy/mzZsnQlQCAgJo3bq1SEOan5/Pt99+y7x587hx4wYA0dHRWFpasmDBAtEzV1payuzZs3nyySe5dOmSaMek+JZIJObAfRHfKncSbYZ/VzfUobLjmZP41oq/AwcOEBERcddhJ1rUY968eZORI0fy6quv6n1fnX1nz57No48+KoRhdcV3WFgYO3fuBKoW3+p6Dw8PbG1t6d69O4MHD2bgwIF0796dBg0a0KNHD73ubsP9lyxZQs+ePYHbHu6EhARsbW31wk6q8nz/8ssvxMfHAzXzfBsT39p6qEUtKyUlhb59+7J8+XJAP+ykZ8+eJCYmCtuk59v8uRtnwp3aweqIb7UO5OXl8eGHHzJjxgy6deuGlZUVr7/+Ov/973/FtpGRkdSvX18v//Ynn3yCoigMGDCAkSNHMnz4cJ588kkGDhzIoUOHRHlr1qwhOTlZlK3W8WXLltGqVStee+01ZsyYQdeuXUWYlSr4e/fuzfDhw8WLRkFBAYsXL6Zly5a8//77rFu3jhdeeIHhw4cTEhIibNOevxTfEonElLmv4rs63K232/AY5iS+4bYgi4qKIjMz867DTrQeYZW8vDxGjhzJ3/72N7FNcXGxnifY2H5Qno/Xzs5OL9XgnWxQ12dkZOg9KO+EKlyvXLlCQEAAHh4eHD58GD8/P7799luaN2/Oli1bSEtL0wurUeM9oXzApYWFhZhxD8rTNlpaWuoNWKvMbvX6e3t7i9jVu4n5TktLo2PHjmKQp1Y4l5aWUlhYKOxQB1y+9dZbYj2UD7gcPXq03oDL6tghxfeDhTGnhOH66nq+CwsLcXFxYc+ePezdu5c9e/awe/duQkNDxT5ZWVns3r2b1NRU4XGOjIxkx44duLi4sHv3bvbs2SMWNR0mlHu+z507B1SctdjDw4PPP/+c5cuXi94cdb9bt27h6uoq2gr1HigqKsLX15clS5bw+eefc+DAAa5du1bh+FJ8SyQSc8Akxfdf4e02PJ45iW+t+Nu/fz9hYWE1DjtRt8/MzOSXX34hNTWVK1eukJOTw4YNG2jdujU//fSTON7q1avp16+fePgWFxezbds2QkJCuHr1KlevXsXX1xcLCwuWLVum98Crjuc7NDSU7du3AzWf4RJuC8fDhw/TrFkzEfMNkJOTg729vd7EHSkpKbRr147PP/+c3NxcsrKyeOutt3j00UdFmrPKsoZor/+aNWuIi4vTs6EqG6H8+mVnZxMUFESbNm347bffuHHjhkhzCLB792769esn4tkBFi9ejI2NDX5+fty8eZMjR47QqVMnvvnmG2FbVS+kUnzXTaojvmur/FWrVunNy6ANHzS2X1XHrW4vqRTfEonEHDBJ8f1XY87iOzo6+q5ivtWH3LFjxxgxYgQWFhYMGjSIfv360aZNGz755BNu3rwpumu//PJLWrRogb+/vyhn2rRpNG3alEceeQQ7Ozvatm3L66+/Tm5urt4DtTri+/jx42ICjpqkGlQX1U4fHx+srKw4fvy4WHf9+nU6d+7M5MmTxX4lJSWsX7+etm3bisFr3bp1E5PsqPWhKvHt4+NTbc+39nqkpaUxYMAABg8eTJs2bejZsyf29vZ6gmjTpk20aNGCXbt2if1OnTrFpEmTaN++Pfb29nTo0IGpU6cKr2J1xj5I8V03qYnnW3tvGS7afQwdIHdatDHf3t7eIubb2HEMX96NlWHMXm1Il7F9pPiWSCTmgBTfJtgoG/N8323YCZR35YaFhbF161YcHBz00vSp5Zw/f56YmBhyc3PFury8PCIjI9m2bRvbtm0THmDtg7AqEaiuDwkJ+VOeb/U4OTk5xMfH601vXVxcTEJCQoXprKE8fd/69etxcHAQAyerM7281vMdGxsLVD/cA8qFb1RUFDExMWKJjY0VA+cALl++THR0NNevXxd2QfmgM09PT1atWoW3t3eF6eWr4ylUbZDiu+5gCp5v9d429Hz/1b2ZlZUvxbdEIjEHpPg2wUZZK/5iYmL+VMy3doY4LdWZrMiYWNNm2qjqIVqZ57s6Azz/LFrPvIr2WtzJdu319/Pz08vacK8xZrea11ldr/2s7BggxXddw5TEt6+vr4j5rs4L419VvhTfEonEHJDi2wQbZa34c3NzIzw8/E9lO1EFnTpjXmXdulpBrvVuayf1qInXSltOTbKdVHYsY3ZWZntl510d27XXf+3atdXOdmLMJsOlpnZXtr46dkjxXbcwJfG9Zs0ao57ve12+FN8SicQckOLbBBvlv9Lz/Vd1897N8bTbZmRkiMGcteH5NrTD0J6qPMeqjb6+vtWO+f6rudvfUIrvuokpiG9tliDDmO/aKF+Kb4lEYg5I8W2CjbL2IXa3M1yaAtqHbnh4OE5OTsDdeb5rE+31v5sZLu83UnzXTUxBfKv39rp160hJSRHfS/EtkUgkt5Hi2wQbZa34U7OdmLv41ub5rm3Pd00x9OBVd4ZLU0GK77qJKYhv7cyw0vMtkUgkxpHi2wQbZe1DzN3dnejoaLMX35GRkWJyG3PyfG/cuFHErpqLeJXiu25iCuJbvbc3bNhAWlqa+F6Kb4lEIrmNFN8m2CirA+4AIiIiyMjIMHvxfezYMQIDAwHz8nx7eHhw8uRJwHzEqxTfdRNTEt/u7u5irIQU3xKJRKJPnRTf77//vl42D/VvU1ngdi5qDw8PYmJixP+maG9lizbDR3R0NC4uLgBiwhxTXbQpCTdv3qzn+b7ftlXXfp1Ox61btxgzZowU33UEnU5ffP/+++8V6sS9rneq+N60aRNpaWkV2oF7XX5RUREAkydPluJbIpGYLHVSfC9YsICSkhKxqKnoTGkpLi6mpKSEoKAgUlNTKS4uprS01GTtNbZor3FycjJ+fn6UlJRQWFh4322ryu6ioiJKSkpwc3MjIyODkpIS8RuY+qJe85ycHCm+6xCG4nvz5s212s6p93ZJSQmurq6cOHGi1ssvKCigpKSESZMmSfEtkUhMljopvpcsWXKfLao+oaGhnDhx4n6b8ac5fvw4Pj4+99uMGrNnzx6ysrLutxl3zYQJE6T4riNo27kXXnhB9DTdD5ydnbl8+fJ9K//VV19l1apV4n8pviUSiSlRZ8S32h25cOFCRo0ahaOjIzt27MDBwYEdO3aY3OLg4MCuXbtYtmwZ//vf/4SdpmpvZefg4OCAo6MjK1eu5F//+hfOzs5s27btvttWHbudnJxYvHgxq1evxsnJyWyuvYODAzt37mTLli3Y2tri6OiITlcexy5FyIOLtp176qmneOutt9i5c2etthvbtm3D2dmZTz/9lDVr1oj7Zvv27bVS73///XdcXFzo3r07K1eurBCaIpFIJKZAnRDf2lhEBwcHnnvuOSZPnszEiRNNfnnppZd46aWX7rsdf3aZMGECEyZMYNKkSffdlpraba7Xf8KECYwfPx5fX19xH0geXLTt3L/+9S/Gjh17X+rdpEmTmDBhQoXvaqv8adOm8fjjj+Pq6qp3bSQSicRUqBPiW+v1yMnJ4eLFi1y+fFkucnmgl0uXLnFQrwtrAAAgAElEQVTlyhVycnKk968OoP19r1+/zqVLl+57Hbxfy8WLF8nLy5Oeb4lEYpLUCfENMuZPUrdR67+8DyR1Ca3olnVfIpGYCnVCfGsbYDWNnJr+Si5yedAXKT7qBrKdM17v1WsjkUgkpkKdEN8SSV1EK7qlAJfUJWTdl0gkpowU3xKJRCKRSCQSSS0hxbdEIpFIJBKJRFJLSPEtkUgkEolEIpHUElJ8SyQSiUQikUgktYQU3xKJRCKRSCQSSS0hxbdEIpFIJBKJRFJLSPEtkUgkEolEIpHUElJ8SyQSiUQikUgktYQU3xKJRCKRSCQSSS0hxbdEIpFIJBKJRFJLSPEtkUgkEolEIpHUElJ8SyQSiUQikUgktYQU3xKJRCKRSCQSSS0hxbdEIpFIJBKJRFJLSPEtkUgkEolEIpHUElJ8SyQSiUQikUgktYQU3xKJRCKRSCQSSS0hxbdEIpFI9NDpdOh0Or2/q/O/9juJ5H5TWR01rK+G22j/l0juBVJ8SyQSiUQiqZNIgS25H0jxLZFIJBI9DD2ApaWllJWV6a3Tri8rK6OsrEx6viUmhWEdLS0t1VvUOl3ZvrIeS+4VUnxLJBKJRA9VqADExsYya9Ys9u3bB0BxcbHe+uzsbJYtW8by5cu5fv06gFh3p+7+qkIC1HXGtjH8Tvu/RKKiiuuioiLWrFnDjBkz+Oc//8n8+fOZOXMmR44cAcrrzsmTJ0lISKCwsNDoC6W6XU3qaU3qvPZ7yYOPFN8SiUQi0UMVHwD79u1DURQ+++wzAAoKCtDpdJSUlABw/vx5+vfvz8CBAzl9+jRABdFieGzt35UJjjvtLwWKpDqodbiwsJCPPvqIzp0706hRI9q2bUuvXr1wdXUVL4pTpkyhRYsWnD9/HrjzuAct1ann2u+MHcdY/LnkwUaKb4lEIpHooRXfrq6uKIrC0qVLAYRnUBUtWVlZDBo0CDs7O86ePQvc9nxrj2esDMPvK9uvOmJEinKJIWp9UF8UExMT6dKlCzNmzODWrVtA+cskwOTJk2natCkXL16scIzq1tPKbKgsvMXwe1mH6w5SfEskEolED61g2L9/f43Ft06no7CwkNjYWBwdHVm9ejUODg6EhoaSnZ2t5xkvKyvj2LFjbN26lRUrVrB582bCwsIoLCwU9pSVlZGamkpwcDCFhYXk5uYSGxuLt7c3J0+eFNvcKYZXUndRQ6ViY2OxsrJi+vTp3Lhxg7KyMoqLi0lOTmbYsGE0atQIR0dHfH19OXToEJmZmXoCPikpiY0bN7JixQq2bdtGbGwsxcXFeuXExsYSFhZGbm4ukZGR/PTTT3z33XcEBASIeyc9PZ2tW7fy3Xff4ezsTFZWlhDed+o1kjw4SPEtkUgkEj3u1vN95swZsc3SpUtp0aIFlpaWWFtbY2lpSf369Zk+fbrwNpaWlrJx40batGmDpaUltra2tG3blqZNm7JkyRIhbEpKSvj73/+OhYUFv/32G+PHj6dx48Z6dpWUlEjxLdHD0PMdHx9P586dmT59Ojk5OWKbsWPHUq9ePRRFoVWrVlhaWvLQQw/x888/A+Wi+r///S/Nmzenffv29OjRAwsLC1q0aMH3338v7oVr167x4osv0qlTJ+bMmUO7du1o1aoVjRo1QlEUvvrqK3799Vc6d+5M06ZNsbCwQFEURo8ezalTp4Q9sh4/+EjxLZFIJBI9jInvJUuWAMbF98CBA7Gzs+PEiRMA7Ny5k4YNG/Luu+9y/vx58vLyOH36NN999x1z584VXf4eHh4oisIrr7wihPuVK1d47733hBdSp9ORn5/P4sWLURSFjh07Mnr0aL777ju+/PJL3N3dgTvHmUvqNqr4TkhIoHPnzrzyyivcvHkTKBfWV65cYdSoUTRq1Ah/f38yMjJISkri6tWrAGzfvh1FUXjnnXe4dOkSAGfPnmXmzJk0b94cb29vAC5dusTrr79O/fr1GThwIJs3b+bChQscPnwYOzs7FEWhbdu2fPTRR8THx3PmzBnmzp2Loihs3LhRZguqQ0jxLZFIJBI9tOK6Ks/3+fPnhfjOzMwE4OOPP0ZRFDw8PCocu7i4WAzYHDVqFD179hQeblV0XLlyha5duzJx4kQA8vPzWbRoEY0aNWLdunX39uQlDxzGxHdubi5wewDxxIkTadKkCVlZWXr75ufn07t3bx5//PEKxz1x4gQtW7Zkzpw5QLn4njhxIl26dCEjI0PsD/DNN99Qv359Nm3apGdTbGwslpaWvPfee+LekuL7wUeKb4lEIpHoYSzmW/V8G2Y7UcNOBg8eLDzfW7dupX79+vTr14+NGzcSFhbGyZMnhRCBcoHdqlUr+vfvz88//8yPP/7IqlWrWLt2LcuXL6djx44MGDAAnU5HUVERb7/9NtbW1pw8eZLi4mIKCgooKSkRdkjRIqmMO3m+VcH70ksv0bhxY86ePStSaep0OjIyMmjUqBGjR49m9erVop6uW7eOr776igYNGvDUU08BcPnyZV588UX69u3L2bNnKSkpIS8vj9LSUlavXo2iKGzdulXU37KyMi5dukT37t2ZMWOGsEnW4wcfKb5rgermANVu81eVawo5ce+U39TYd1XlUr2Xdt7JRomkrqDN4+3m5iZSDaoDKbXrz507x4ABAxg6dKgYcJmXl8eHH36ItbU19erVo2HDhvTs2ZPPP/9ceATT09Np3rw5TZs2xdraGmtra7p27UqXLl2wsbGhb9++zJgxQwyKe+edd7CysiIlJUV43uV9KakOVYlvgIkTJ9K4cWPOnTsH3G7zo6KiUBSFli1b6tVTa2trHn74Yfr16yc831euXGHChAn06dNHHEcd3/DLL78I8Q3lucd1Oh3Xrl2je/fuTJ8+XYrvOoQU37WI6k2qbLmbPJ+G+1QW92gqo6i11+BO+VG129TkWmjFsjb7QU2PU9OyJZIHCdWzrdPp8PLyQlEUPvzwQwDhsSsuLqa0tJTU1FQefvhhxo4dK2JkVVJSUti8eTMLFixg1KhRKIrCU089xc2bNzl79ixNmjRh7NixAKI8KBf/hYWFIhyltLSUd955h86dO3Ps2DGxvWqrRGIMtW6ooU5xcXEi20lOTo54mQR46aWXaNKkCefOndPzfCckJKAoCvPnzweM11O1LmZnZzNhwgQeeeQRkS/cUHxv27YNKBffZWVlXL9+XYrvOogU37VATcXjX+VtrUo83g/Pd2XrDM+9sm3vJaZwrSQSU0H1bMfHx9OyZUuef/55ISS0uLq60qBBAz744AMhQrThJVrGjx+PoihkZmZSWFhI165dsbGxEbmVDdsAVTQZE9+GuZYlkspQ62VKSgqdO3dmxowZQnSrYVRTpkyhUaNGFWK+L1++TMuWLRk4cCB5eXlGj68e6/r165WK73Xr1lUQ3zqdjuzsbGxtbaX4rmNI8V0LqN7X/Px8goKCcHR0ZPfu3Tg5ObF37168vb1FrKS6vaEAr06ISm5uLmfOnBENgdZ7nJqayubNm4mPjwfKH1xar7BhGcaOXxOhbHj+alnXr1/H09MTR0dHUlJS9M5X3a6kpISgoCC2b99OZGQkRUVFRq9LZfap55eVlSVGplfHXtXGrKwsketVbThl6idJXULb+5Obm8vf//53kSrtzJkz3Lp1i9zcXBISEhg9ejTNmjXj4MGDYt+NGzeydetWzpw5Q0lJCcXFxVy8eJFRo0ZhYWEhBM6yZctQFIW33nqL1NRUbt26RXFxMVlZWbi6urJ582Z0Oh3FxcW8++67dO3aVYpvSbXRer4LCwsJCQmhS5cuTJs2jaysLEpKSsTz8sMPP0RRFBwdHSkoKODGjRtkZ2cD8M4774jQq8zMTPLz8ykqKuLs2bPs3buX7du3A3D16lUmTpzIo48+WkF8//rrrzRo0AAHBwfgdqx5dnY2vXr1kjHfdQwpvmsBbUqu5557DkVRRKxj06ZNadiwIcOHD8fJyUm8DWvDHkpLS8XAInXRClb108XFhXHjxhEXF0dpaSlFRUWi7J9++glFUfj888+B8hu/tLRUdK1py9EKc6gYzqG1R91WG39p2HCoXdgAERER2NraoiiKmGVMPYbq5QoPD6d79+4oisLMmTO5du2aOI5alvZaqGVrXzauXLnCa6+9xgcffCCuhdpdqD2O9txVD4inpyeKovDss89y5coV8fA3jDHVdj3K+FPJg4Z6n0C59/vxxx9HURT69+/PG2+8wbRp02jVqhX16tXjiy++IDc3V7Q3avq0wYMHM3/+fBYuXMhTTz3FQw89xPLly8X9cuPGDV555RUURaFbt268+uqrzJ07lyeeeIJ69erx8ssvA+UC5s0336Rp06bipV1tUySSylDrb0FBAd9++y3Dhg1DURQsLS157rnn8PHxEc+No0eP0qlTJ5o1a8aMGTMYO3asePm7dOmS6LV55JFHeP3115k9ezZ2dnY0bNiQefPmAeXZTkaPHo2VlZUY/6D2AqnP4N9++w24Lb6vX7+OhYUF48ePFxlY5LPkwUeK71pAfUhcunSJ5557DhsbG37++WccHBxYv349X3zxBR06dKBly5YcPny4QrxyZRiK5LVr16IoCmFhYXrb6XQ6EhMT+eGHH4iKitKz6U4YxmVrB1nVBFXcQvnglb59+4rBKy4uLkB5F5wa3/n222/TokULmjVrxquvvsr169dF+XcqQ3vNcnJy6NixI8OHD6/ROUJ5/tYtW7bg7u5utPvc8Jrcab1EYq5oX1QBzpw5w5IlS7C3t6dv374MHTqUqVOnsmHDBpG3W32Bjo2N5YsvvmDcuHEMGDCAAQMGMG7cODZs2FBhPEV+fj6rV69m0qRJDB48WGy7dOlSIiIixMv75s2bmT9/vvCaS8+3pCrUultUVMSXX37J2LFjee2115gxYwbPP/+8SIWp1iUHBwemTJmCnZ0d9vb2/PHHH6KeXr9+nW+//ZYXX3yRQYMGMWjQICZMmMCyZctEj/LNmzdZuXIlH330kXAaqT233t7e/O1vf+Po0aPA7Umh8vLyeO+991i1apXsaa1DSPFdC6g39uXLl3nyyScZOXJkBVG3efNmGjduzLx580RcmeoNPnHiBIGBgbi5ueHm5kZISIh42KkPsgsXLrB06VKaNWuGg4MDKSkpxMXFcfbsWXQ6Hbdu3RKTXQDijTs2NlZ0u4WFhbFv3z58fHwqHF8rKFNTU9m3bx/79+8nMTGR7OxsEhMTK+0y04rvyMhIHn74Yezt7Rk0aBCTJk0iLy9PeKXVwVtqrtSXX35ZdP2pnrL4+Hi8vb3Zt28fnp6epKWl6ZVVXFxMcHAwDz/8MMOGDRPXIjU1lZs3b1JWVkZmZqbIugDlGRvS0tLE+gsXLnD9+nVhe1JSEvHx8XrXQxtKExsbWyFWUCIxZ7Q9WdqX9ZKSEq5cuVKhDTMMY1MpKCioMFW89h7Sbp+Xl1fhuJWFjMmXXElVVKeOaHs/VVTBrGL4onfr1q0K29yNbXcaCyV5sJHiuxZQb9xLly4xcuRIhgwZwsmTJyksLCQ3N5e8vDwiIyPp0KEDU6dO1ROboaGhDBs2jFatWtGmTRvatm1Lu3btePXVVwkNDQXKG4pvv/0WCwsL6tevT7du3XjsscewtbVl0aJFAOzbt49+/frh5OQkju3i4kL//v1ZsWIFn332GZ06daJevXo0b96c2bNni1RJqse7oKCAjRs30qtXLxo1aoSlpSV9+/ZlwoQJPP7448Iew7d2bcMWHR0tJhRYuXIljRo10puI46OPPuLhhx/GwcGBRx55hIkTJ3Ljxg299VZWVmIK4LZt29KnTx9WrFghXhiysrIYMmQIjRo1olmzZvTv3x9bW1vs7e0JDg4mPz+fuXPn8uqrrxIeHs4nn3zC0KFD6datG/v27SMrK4vRo0ezdOlS8vPzKS4uZtmyZTzyyCNs3rxZCIaSkhLy8/N56623sLe3JyEhoUax8BKJqaOty6WlpcKzraLGcxsKb3VbQ9FuuD/cdjIYbquGiqnHNVa+RFId1Pa6uLhYbzEMr9TWQ8Oe3rKyMr1QTrhdp9Xv1HK0GVG04YnG7hVtubJu1x2k+K4FDD3fw4cPF6P71XXOzs7Uq1ePJUuW6D1g/P39mT59Op988gm//PIL69evZ9GiRSiKwpAhQ8jNzaWkpIRDhw4xZswYGjZsyJtvvsmXX37Jp59+yq5du9DpdGzatAlFUVizZg1QfsOrqY8eeughnnnmGZYsWcKqVauYOHEiiqLwr3/9S8RBA2KSgKeffpqffvqJzZs3s2TJEh5++GEUReHw4cN656SiFd8xMTFYWFjw3nvvcerUKTp06MArr7wiBkh2796dRYsWkZycTJcuXZg0aZJ4GQH44IMPmDVrFt9++y2//fYb//vf/3jhhRdQFIWff/4ZKE/3tHTpUlq3bo21tTX/+c9/WLx4Md988w2ZmZlcu3aN559/nubNmzNw4ED69OnD1KlTGTduHJ6enhw/fpxWrVoxc+ZM0VMQFxdHz549ad26NUFBQeKaLF++HEVRWL58uV4jK5GYO8YGXmvHSxj2ihn7NByLYeyY1d1Wu2jLkUgq40516E51zDAdbnXqtLHjVGbDnWzS7iN5cJHiuxYw9HwPGjSIEydOUFBQwIULF/D29uaRRx6hbdu2BAcHA7e7ZlVvriH//ve/qVevnl5899atW2nSpAmJiYkVtt+xYwcNGjRg/fr14rvNmzdTv359Zs+ezYULF8T3ly9fpnfv3tjZ2YlQijNnzmBlZcWgQYNEBhGVH374gSZNmuDr6yts16IV37GxsbRr144333wTKBfTTZo0ITU1lV9//ZV27doRFRXF6dOn6dChA5MnTxbiu6ysjJycHKPXo3PnzgwbNkxPAPfo0YNnnnmmwraXLl1i6tSptGjRgkWLFulNA6zT6UhKSsLa2po5c+aIQTEAR44coU2bNgwdOpSrV6+K/Mf//Oc/9c5VNpwSiUQikUgqQ4rvWkAVnhcuXBAeV3t7e5566ikxAHPYsGHs3r1bZDvRxhTn5eXh6enJ//73Pz755BPmz5+Pvb09jRo14sCBA6Lb6scff6Rx48b4+flRVFREfn6+iLV0cHBAURTWrVsn7FK94bt27RLlqGL/2WefpWvXrmRmZgoveb169Vi7di1we4BkcXEx3333HQ0aNMDb2xu4s/iOiYmhffv2vPHGG5SVlRESEiImPRg6dCizZ8+mqKiI5ORkrKysmDRpkgg7UbsD09PTcXBw4KuvvmLBggXMmzePVq1a8eijj4peg3PnztGtWzeefPJJioqKyMvLEzPzXb16leeee47+/fuLAS7aaarVWdDefPNNsV69jmqu1tdeew0bGxueeeYZrl69atR7IZFIJBKJRGKIFN+1gCo8L168yJgxY2jdujUTJ07krbfeEmn3vvzyS6Bi1o7ExERmzpxJy5Yt6dKlCwMGDOCJJ56gb9++NGjQgP379wPlgnfNmjU0btyYI0eO6MWeAWzfvh1FUfj111+FXRs3bkRRFNavXy/iKdVZt1588UU6deokcup+/PHHKIqCl5eXXnebTqfju+++o2HDhvj4+AhbtBjzfM+ePRsoF/ELFixAURQ6deok4r/j4uLo3Lmznucb4LfffmPAgAG0atWKnj17MmTIEEaNGsVDDz1Enz59hEi+ePEi3bt3Z+TIkQB6cXlXrlzh2WefZciQIVy/fl2kXFRffBITE7GysmL27NnC862dcW/evHkoikLbtm1JT08X51zZgDOJxNQwFkpypzz6WodAbXaPV2WjRAJV1xNj9VnWZcn9RIrvWsAw5nvIkCEiAX9iYiJ2dnZYWVnh4uKiJ5pLSkqYMmWKmNrZx8eHY8eOcenSJTZu3Ej9+vVxdXUFysXf6tWradKkCUeOHAGoUnyrnm8176jqyQZ48cUXsbKyEuLyP//5D4qi4OHhoZfbu7i4mG+++YaGDRtWy/MdGxtL+/bteeutt8R6f39/2rRpwxtvvCGm/E1ISMDKyorJkyeLlE3+/v60bNmSvn37snHjRiIjIzl9+jSXL1+mf//+9O7dW4xAv3TpEt26dWPkyJF6U2EDwvM9ePBgIezV3OHqb9K5c+cK4rugoIDi4mLeeOMNkSs2JCTEaGMqkZgThuLa2Hrty2VN6rl2e7WNqSz2WyL5MxjGbRurW4bx2jWty+qn9nkp67GkpkjxXQtoY76ffPJJhg0bRlZWlniYBQcH06FDB2xsbIiMjBT7nD17ljZt2jBx4sQKebkPHTpEvXr1hPhWQ0NUz3dlYSfGxPfGjRuB2yO3oXwaaK343r59Ow0aNOD7778X5amsWbOGBg0aVNvz3b59e+H5Li0tJS8vj8OHD5OcnCz2UQXw5MmTuXLlCgALFy7UG9ipZfjw4fTq1UtPfPfo0QN7e3t0Ol2FsJNnn30WOzs7EdKizqypLXv27Nki7ET9/N///oeiKCxdupQOHTrQr18/zp8/X2WDL5GYElqxoL6cGpvgy3Aw2a1bt4xmcriXdqo25ufnk5eXJ3uYJBUwFMUFBQVGRba2PhUUFNyXuqw+8/Lz82VdrsNI8V0LaD3f9vb2DB8+XAg2VdQ5OTnRrFkzBgwYwMmTJ4HyyV7at2/PuHHj9G7OmzdvMmfOHBo2bCjEN4CjoyP16tVj06ZNFWzYsWMH9evXNzrg0pj4njBhAl26dOH48eNAeRhH586d6datG8HBwRQVFXHt2jX279/PY489RuPGjavt+e7YsSNz5swBEOWpqP+rgx6nTJkixPeiRYuoX78+Xl5eevuEhITQsWNHHnnkESEgrl69yqBBg8R3Wq5cucLzzz/PkCFDKhXf1tbWvPXWW3oDLr29vWnSpAmvv/46paWlODo6oigK06dP15stU2Y7kZg62np68+ZN3nnnHcaPH88nn3wCoDdrrE5Xnl//hx9+YOzYsSxdupSrV6/qbVfVopa1f/9+fv/9d5FFqTr76XQ6zp49y8svv8wbb7whxlgYlq2el/pZ2TrJg4f6fDl16hQLFixg3LhxYnySYc9kTk4OixcvZuzYsXz99dd6A/rvVBfVY0G5M2bnzp3s2bOn0hAWw0UV+mlpaUycOJF//OMfYgblyjKnGB5L8uAgxfc9RnvTXbp0iREjRmBnZyfEt7YbVvWqPvnkk5w+fZqysjJeeuklFEVh1qxZfP/993z22Wc8/vjjWFpaoigK+/btE2UlJCTQrFkzbG1t+fbbb1myZAm//PILOp2OLVu2oCiK+F+n0/Hbb7+hKAobNmwAEN4vgLFjx9K+fXsyMzPF8bds2UL9+vWxsLBgxIgRPProo3Tt2pVevXrRpEkTfHx8jIpP9RrA7VSDs2bNAm7P8qVOE68+UBMTE+nQoQMvvfQS165dQ6fTERgYSNOmTenZsyeff/453333HW+88Qa2trbUq1ePHj16CE9/cXExX3zxBYqi8Prrr/Ptt9/y73//m4SEBHJychg1ahQDBgwgOztb2Kz+DgkJCXTo0IE33nhDpBqMiYnBxsaGQYMGiWmDdTqd8MYvXbpUnK/0fkvMAbWOZmdni3ShzZo1w9fXV4SsqfdjQEAArVu3RlEUhg8fzpkzZwDENkVFRWIQtvq32u6p93dRUZEYYH758mWKioooLCwUbYM2D7ga0lZYWEhpaSnnzp3jpZdeYsaMGeJlXC1Hm2NZ611Ux69IHnzUOhQXFyfGUXXv3p3w8PAKPTvbt2+nUaNGKIrCmDFj9NL+qvXUsC4bvoxevHiRxx57jBEjRogB/dr6Zqwu5+fnU1payrFjxxg3bhxz5sypUJcre3aqtkseHKT4rgXUh8P169eZPn06U6ZMEen6VMGpdkWpk8h8/fXX5OXlcezYMSZOnEjDhg1p1qwZ1tbW/P3vf2flypX07t1beJtVIb9p0yZsbW2xtLQUk9kA7N27lx49euDo6Cjs2rNnD927d8fZ2RnQjxGfN28eI0eOFDNkqg2Iq6sr8+fP5+mnn+a1117DycmJL774gsaNG4s0iYZ5vrWTFaSkpDBixAg+++wzUaZWrKrbpaenM2rUKN5++21yc3PFui1btmBtbU39+vVp06YNdnZ2rF27lnHjxjF27Fi9SQzOnj3Lm2++SZs2bWjdujUDBw4kKCiI/Px8Xn31VSZPnixSF2pjvo8dO4a9vT2ffvopBQUFFBUVsXDhQnr27Im/v784JzWEZcKECTz22GOEh4eL30IiMWW0QvXGjRsMHDiQtm3b0r17dyZNmgQgHviFhYUsWrQICwsLevfuzZNPPklWVpbeS3VlqOND1O2efvpp2rdvb9Qe7T6GqBNaFRQUCCFkWI56HGMCRnoOH2zU3z8pKYmBAwfStWtXOnTowEcffQTcfkksLi7mhRdeoE+fPrRr144JEyZw+fJlvWPcqQxtmEjv3r0ZMmRIhe2qqstqWIwqxg3rpdbjbWx/WZcfDKT4vscYdjtlZmZy/PhxvZSC2pvs+vXrJCYmkpKSIry4Fy5cIDAwEE9PT6KioigsLKSoqEh4cdVyVJKTkwkMDCQkJIRz586h0+nEcbVp8a5du0Z8fLwY0Ki9qU+dOkVaWprwhGuPX1JSwoULF8Q00HPnzqVVq1Yijr2yhx+Ud9elpqaK2TMr66rLz8/n2LFjnD59WnjQ1O2Sk5Px8vLC39+fEydOAHDixAnS09OFkFdtyM7OJiIigoCAABISEsjPzxe/Q0ZGht6xtWWnpaVx9uxZIRxSUlJISUkx2pV+7tw54uLiuHjxouzilpgNWvHdp08fBgwYwHfffUfTpk0JDw8X90ZERAQ9e/Zk7ty5vPTSSwwcOFDMC6DT6QgJCeHjjz/mlVdeYezYsUycOJEPPvgAf39/cT+WlpaycuVKrKysaN68Oe+99x6LFi1i4cKFREREUFZWhpOTE1999RV5eXmcPn2anw/ThHIAABP+SURBVH76iSVLluDu7k5paSm//fYbv/76q7Br3759zJkzh8DAQOD2rJpQPjj7nXfewc/PT5yn9II/uKjPz+TkZLp168Yrr7zC3//+d6ytrUlOThbPpYMHD2JpacmyZcsYOHAgTz/9tPA+63Q6Dh8+zKJFi/i///s/nn/+eSZPnszixYv1HCs5OTksWbIECwsLOnbsyMcff8yCBQtYsmQJUVFR6HQ6Nm/ezMqVKyktLSUtLY3vv/+ejz/+mPDwcAoLC/nxxx/ZtWuX0AGrV6/m3Xff5dSpU3p6AcpDRj/44ANSU1Plc+UBQorve8ydxJixOEVDqnobN3a8qr6v6ZuzasPRo0cJDg4Wgr+kpISdO3fSpEkTnnnmGSFU7/YhV9W1qs75GQr5mpRrrOw7/W5gPL5deiYk5oBWfPfo0YMnnniCM2fO0KxZMxEWVlxczJIlS7C1tSUkJIRnn32WQYMG6b1oqjPuqqk9hw0bRrNmzejUqRNubm5CgI8fP5769etTr149bG1t6dmzJz179mT//v2UlJQwd+5cWrRowdKlS7GysqJevXooisKcOXMoLi5m6NCh2NnZcfPmTQD8/PzEoOe0tDTR+5eZmcngwYPp2bMnCQkJAEadApIHB23PqpWVFfPnz+fIkSM0bNiQr776Smz3f//3fzz++ONERUUxYMAARo8eLcYvAEyZMoWGDRtia2vLqFGjGDhwoKjbAQEB6HQ6Ll++zIgRI2jYsCFNmjShd+/ePPzwwwwcOFDMuzFlyhRsbGxYtGgR7du3p2HDhiiKwsqVK7l58ybdu3dn6tSp4lm6fv16GjZsyKRJk8jNzRX3TGBgIJaWlowfP96ok0xivkjxXQtoBeGdpq2F2yEa2m3UfdR1Wm+5seOo2xl2kxl2cRk7hmGZ6hu4TqfjX//6Fy1btsTa2pr+/ftja2tL48aNefzxx4mPj9eLiTM8f2PXwHBdVdfK8HvtemN5to1dC63X2lgu2MpsvFPuWO3vIpGYC1rx3bNnT+zs7NDpdLz77ru0atWKjIwMMjIysLGx4cMPP6SwsJDhw4czZMgQLly4IOp/dHQ0Hh4epKWlcf78ec6fP09gYCAdO3bE3t5eeBZPnjzJ0KFDadu2LTExMaSlpZGamkpOTg5FRUX885//RFEUbGxsWLx4MR4eHri7u5OSksL169cZMWIEQ4YMIS8vT4QRbNiwAUVRmDFjhhAnb7zxBk2bNuXAgQMARtsRyYOFKr5TU1OxtrZm5syZFBUVMXnyZLp27cr58+eJiYmhTZs2rFmzhhs3bmBra1vB833kyBH8/f1JT0/n4sWLnDt3jgMHDtCoUSOmTJkClDudoqOj6d69u3jxS0pKIi0tjZycHG7evMmbb76Joig8+uijLFu2DG9vb/bv38/Jkye5ePEiPXv2ZNq0ady6dQudrjzxwttvv42iKKxYsYKSkhKuXbvG4MGDsbGxIS0tTdgo6/KDgRTf95jKPLGGYq+qfYx5VKvar6rjVDdEQhWhycnJ/PDDD7zzzjvMmjWLxYsXs2XLFk6fPi22+zONQlXXqrLFcN87nXNl6wzLMvZ/VedWk20lkvuNVnz36tWLAQMGABAaGkqzZs1YsGABv/76K61bt+b48ePcuHGDESNGMHToUBF2YizmOzc3l9zcXJ599lksLCzIyMgQZT3zzDN06tSpQpajoqIi5s6dS/Pmzdm3b18FL/XFixeFV11N0aYOqnzvvfdQFIW1a9eycuVKFEVh1apVei/H8n58sNF6vm1sbJg6dSoAu3btEhPJffDBB/Tp04dTp06RnZ2Nra3t/2vv3mKjqOI4jq9luZhaLGBW09JyaysCsYK1Jkq9YNSoLwJSQokmYIREifrSN4MaZR+MiTFoMNmEexQSK6xREo0GjTFmNcYQEoyaaGChXFqo9EYp7f582M7pzOzM7LbQtbTfT0JSdmZ3z8wc6G/O/OeMHn74YRO+va4yd3V1qbm5WRUVFSovLzf9vbu7W/Pnz1dNTU3Ge9rb27VmzRqVlpaae4Tsksmkbr/9dtXX16urq8v007a2NtXV1WnKlCk6dOiQnnvuOU2ZMkXfffedJIL3WEP4Rlbuf+zW3d32/6wInsD1xT3yfeeddyqVSqm9vV0bNmxQYWGh5syZo4aGBknp0GA9JMwqO7Hm396xY4ceffRRVVRUKBKJaMaMGZo8ebKmTZum33//XVL65Lyurk6RSETnz593XDHq7e3VunXrNG3aNHM/iH22FfszEqwZiKwAf/78eT322GO6+eabdeONN2rTpk3mXhWeIjg+2Ee+y8vL9cwzzyiVStdnP/HEE5oxY4aKioq0ZcsWpVIpnTx5UvPmzdOyZctM2Ul/f78uXryo9957Tw8++KBmz56tSCSi4uJiFRQUaObMmWaKzJaWFlVWVmrx4sXq7+93zO7T2dmpFStWaOHChWYaw97eXrP85MmTJnx3dnaa5VL6htGysjLdeuutCofDZhrgoQ6YYfQjfOOq8Z8CcP1xj3xXV1eb13/44QeFQiHNnDlTP/30k6T0jcX333+/Y+S7s7NTL730ksLhsGpra/XGG2/oo48+0qFDh1RXV6epU6ea8C1JDzzwgCKRiC5cuOBow+XLl7V+/XrHSLl96tGzZ886Rr6t4G+F7N27dyscDmvKlCmOJ/zy/9L4YA/fZWVlWrVqlVm2a9cuhUIhLVq0yDzI7cSJE6qoqHCMfLe1tZmpfR966CFt2bJF27dv18GDB1VZWanS0lIzCcL58+dVVVWlxYsXK5VKmRNFKT1v/ooVK7RgwQJTnmXNJGaF76qqKq1atcqMfNv78iuvvGLqzK2TVK+ySlzfCN/Iyq9khbNx4PrlV3ZijX6//PLL2rRpkxk9Pn36tJYuXaqamhozOn3gwAFNmDBBDQ0NOnv2rGPKzjVr1qioqMjUq0pyjHzbL6P39vZq/fr1Ki4u1l9//SXJeZOkO3xL6dHCvr4+nTp1So8//rimTp2qyZMnq6GhQa2trRn3yGDsco9819fXm2Wtra1au3at3n33XcdDm6yRb2ue7z179igUCunVV19VS0uLo/SptrZWJSUlJiC3trY6Rr6tvmgf+b7jjjvMSap1IinJd+S7v79fv/32m+bMmaOSkhKFw2G9/fbbGfc30ZfHBsI3AIxDfiPfVhDo7u5We3u7Wc+qu66pqTEP2fnggw8UCoXMU3X7+vrM6GB9fb0KCwvNyHcqlTIhuaWlxTGybS87sZ6q6xW+a2pqzCPm+/v71dPTo40bNyocDuvQoUOKRqMKhUJ66623zMxLjBiOfe7wbY1820ejrUfOS+kAXFFRoWXLlpmAbD2UzarTtveXJUuWqKSkxDzxuK2tTUuWLNGiRYt05coV9fT0mIfqdHR0aOXKlVqwYIHjAT7u8G2NfFvLW1padN9992nmzJk6evSonn76aU2aNElNTU2mPczYM3YQvgFgHLKH76qqKt11112SlPE0PSs0nDlzRnV1dbrnnnvMU14/++wzTZo0ScuXL9eJEyfU39+vs2fP6rXXXlNRUZGKi4v1xx9/mM96/vnndcMNN2jv3r3q7+9Xe3u7Ojo6zA2X06dP9w3fS5cuVW1trXk4iSRt27ZNoVBImzdvlpR+jsCTTz6piRMnKh6Pm+0keI9t9vA9a9YsrV69WpKz9Mj6uySdOnVKlZWVeuSRR0xA3rlzpyZOnKgXXnjBPA/j+PHjevHFFxUOh1VeXm5Gvru7u7V27VoVFhbqyy+/lJQuRens7NSlS5e0cuVKLVy40Dd8z58/X6tXrzaznUjpfxuhUMjM0nP8+HGVlZXplltu0Z9//imJvjyWEL4BYByyfom3tbVp9uzZWrBggST5PgDs9OnTuvfee1VdXa3m5mZJUk9PjwkNkUhE8+fPN0+TLS0tVVFRkY4dO2a+78iRI4pEIpowYYLmzZunkpIS7dmzR1euXNGzzz6rwsJCU3ZiDyxnzpxRbW2tqqur1dHRoVQqpXg8roKCAq1YscJcvpekI0eOaM6cOSouLtbPP/8s6epnYsLoZoXqY8eO6bbbbjOzndifoGzVXkvpADxr1izV1dXp3LlzSqVS6urq0rJlyxQKhVRSUqKqqipNmzZN1dXVmj59uiKRiBn5TqVSOnz4sMLhsG666SbNnTtXlZWV+vjjj5VKpfTUU0+psrLSMSuQ9d3JZFJz587V8uXL9e+//0qSuWLz5ptvOvrqgQMHVFBQoLvvvtvcGEo/HhsI3wAwDlmjypcvX9b+/fv16aefSsp8jLb1c1dXl+LxuJqamkzdtSRdvHhRu3fvVkNDg9auXautW7equblZ3377rXbu3GlurrRKTI4ePapoNKqNGzfq9ddfN0+m/f7777Vr1y4TSOwj393d3fr888/NA3n6+vp0+PBhffjhh+Ypt/aw/uOPP+r999/Xr7/+mvHUW4w91rG9cOGCPvnkE33zzTfmdftxt37u7OzUvn379MUXX+jSpUtmeWtrq7Zu3ar6+nqtW7dO27dv17lz53Tw4EHt3bvXlGRJ6f72yy+/aPPmzdqwYYPeeecd/fPPP0qlUvrqq6+0f/9+U1Zib0dHR4f27dunr7/+Wr29verp6VFTU5N27Njh6PtWyI/H49q2bZv+/vtvgvcYQvgGgHEoaD579zL7617LJDlmdPD7XPvr7pDvdQO333e75zz2axtTDY4v2fqo13ru91hParbPRe+3rrV+tr4c1Eb3iWFQX/bbHlx/CN8AgGEbShgYqeCQS9gC/ASdoPn1nf+rL2NsIHwDAAAAeUL4BgAAAPKE8A0AAADkCeEbAAAAyBPCNwAAAJAnhG8AAAAgTwjfAAAAQJ4QvgEAAIA8IXwDAAAAeUL4BgAAAPKE8A0AAADkCeEbAAAAyBPCNwAAAJAnhG8AAAAgTwjfAAAAQJ4QvgEAAIA8IXwDIyqpeLRRjY1RxZNei+OKNjaqMRqX1+LhSsQa1RhLDPVdijU2qtHjT9Sz8XmWjCvqtx+v0vD21zX87kaP70/EvF93ve9aNHt422/1bfefqztG/8uxsPb1NdwOAPBD+AZG1GBA8QqwyXg0/Ys+1/CdiKmxMaaRiSbp8H3tc89Ife7wJOPRa36yM2zJuKJ+x9MEQq/lgydK/99+Tfdtd79O9+kcg+uI9uch8GqHdWKc8w4eXf0cwOhF+AZGVDqgxGIxj8AXtMwH4fuqjarwnQg49omYGqMxxaIe+y5oWd54h+8hHe/RHL4lE8Bz28ejq58DGL0I38CIGgjYCY9fzNaopzuAWSNu7pIP96XxgQ9LX6aPO8pbBi/dWyPvtmDhO6KXLTy4ygzcodHVvvTnuEtZbO3wXN9qYjogx+2lFfayE88yAdtn+OxDc6XB9XpGqcMQ2hZUGpL5nYMjwn5tcbQhGlfC42QhEWtUNJ4Y6FvZvmvguLnamF43fTyCt99vFDs4fA++7tNvAvtzwmpk+pjH7es6Q7Jjmz32V8J+nPxKqAJOAtz7xvl51nv8+7n3+gDGM8I3MKKSJiB5/hJPLxgMC+6RtkTMGX48QoJX7a/vd/kGJik4fLsDnCtgudvpqM/O/Fx78Btcf3AdK1A52hlQ8+0Yzc6yD71Gvu37K9e2uYO+135LxFwnKV7HM3DkO66ke7vN35OO8B34XRnlLc5j4ugv7j7mbrORS9lJLv3Goz87wrf9/c7P8ztWjoDv2L8JxbwCcED4tvcX5z723raMf4e+6wMYrwjfwIiyBSRHAEooZh/FNcEx6Qpirl/o2cKK72u20UffX/4+N1wOhPZkxsBsUKBPKplMKpFIZm5DUGizhyp3KPUJ35kBLHgfBofv4bRtaOUX6VFrW/jMFr5d7xlsiz18Z/suVxtd/SjbsfTevlxuuAzqN5ntyFjuccwH9793u+yBN6Nv+MkpfGdui7MvZPbz4PUBjFeEb2BE2QOS7Wd76PIIYO5L5Vcfvj1GbDPkULPqWSqQ7X3u5d7r24NJzuHbd1TWfx8Gh+/htM0nnPqcLGSEzxzC9+DPPv0ph+9yj+Da2+ve/txmvHFtd1B9tE+JydWF7+zHyvzdp4TI2b7cyk7cJU3+4Tvb+gDGK8I3MKKcpQHWqKXv6OdASPENqsMN3/b6ct+RwKAQPRDKci5lsY/6jdDIt1/Yy7IPr8eRb3OlJGG/ejKUkW/bZyRtV118tj+3yojM7c4caQ7qNxrxkW8l4s4TEr/SpZxuuBwY6XcH+4CR7+D1AYxXhG9gRLnCjBkF8677zfjl7A6SHlPTZQ/fAfW9znf5h++M0OIKVZ41386Sh5iz0dnrqgPDt/umPvtqWfah35UGv0CYtW3+dfTebRlizbe9jR71z77t8rgqYD5jGNufdeQ7/WZnv8jWb7L158Dwna3m2xrFd9ev51jznVFvni1cu/t59jAOYHwifAMjKjN4es4s4b4py1yet2YxcY522gNUcPjOHHk0r2WEgODyEefl+5ji7jKWbDOEeJ10BK0fEL7dpQTOz8i2D22lFQNfOpzZTnIJ35n7zaNsJsfwnRlEM/tW4HfZtstrhDzX7bd9m/d2ux4OFNxvsvTnLOE74/OzznbiM3NLrg/Zcc8CMzALS+ZsOl6z8mSuD2B8InwDAK5TCSWynUgAwChD+AYAXIf857AnewMYzQjfAIDrlu/MQAAwShG+AQAAgDwhfAMAAAB5QvgGAAAA8oTwDQAAAOQJ4RsAAADIE8I3AAAAkCeEbwAAACBPCN8AAABAnhC+AQAAgDwhfAMAAAB5QvgGAAAA8oTwDQAAAOQJ4RsAAADIE8I3AAAAkCeEbwAAACBPCN8AAABAnvwHKO895gNBI1cAAAAASUVORK5CYII=)"
      ]
    },
    {
      "cell_type": "markdown",
      "metadata": {
        "id": "nPzk6oBjkTeL"
      },
      "source": [
        "## SVD"
      ]
    },
    {
      "cell_type": "markdown",
      "metadata": {
        "id": "Ylv7eSiskYJw"
      },
      "source": [
        "Podemos hacer una primera descomposicion basandonos en SVD, que es parecido a PCA. La idea es la misma que en nuestro primer modelo de item-item, pero en vez de utilizar la matriz `X` utilizaremos una de dimencion reducida a traves de la descomposicion SVD.  \n",
        "\n"
      ]
    },
    {
      "cell_type": "code",
      "metadata": {
        "colab": {
          "base_uri": "https://localhost:8080/"
        },
        "id": "GH3k9oTPPdJu",
        "outputId": "fa324656-3b83-47f1-f44c-ff00c93cafe9"
      },
      "source": [
        "from sklearn.decomposition import TruncatedSVD\n",
        "\n",
        "# Factoricemos nuestra matriz\n",
        "# Recuerda que el numero de componentes puede cambiar\n",
        "svd = TruncatedSVD(n_components=20, n_iter=10)\n",
        "Z = svd.fit_transform(X)\n",
        "\n",
        "# Ejemplo\n",
        "movie_id = 1\n",
        "similar_movies = find_similar_movies(movie_id, Z, metric='cosine', k=10)\n",
        "movie_title = movie_titles[movie_id]\n",
        "\n",
        "print(f\"Because you watched {movie_title}:\")\n",
        "for i in similar_movies:\n",
        "    print(movie_titles[i])\n",
        "\n"
      ],
      "execution_count": 74,
      "outputs": [
        {
          "output_type": "stream",
          "text": [
            "Because you watched Toy Story (1995):\n",
            "Home Alone (1990)\n",
            "Jurassic Park (1993)\n",
            "Aladdin (1992)\n",
            "Willy Wonka & the Chocolate Factory (1971)\n",
            "Back to the Future (1985)\n",
            "Forrest Gump (1994)\n",
            "Groundhog Day (1993)\n",
            "Star Wars: Episode IV - A New Hope (1977)\n",
            "Princess Bride, The (1987)\n",
            "Babe (1995)\n"
          ],
          "name": "stdout"
        }
      ]
    },
    {
      "cell_type": "markdown",
      "metadata": {
        "id": "WqDLVBeDlI1z"
      },
      "source": [
        "## ALS"
      ]
    },
    {
      "cell_type": "markdown",
      "metadata": {
        "id": "u18biu9_y4vj"
      },
      "source": [
        "Creemos unas funciones de ayuda de manera que estemos mas cerca de un codigo que podria llevarse a produccion:"
      ]
    },
    {
      "cell_type": "code",
      "metadata": {
        "id": "bdlz_5Ghy91L"
      },
      "source": [
        "def movie_finder(title):\n",
        "    all_titles = movies['title'].tolist()\n",
        "    closest_match = process.extractOne(title,all_titles)\n",
        "    return closest_match[0]\n",
        "\n",
        "movie_title_mapper = dict(zip(movies['title'], movies['movieId']))\n",
        "movie_title_inv_mapper = dict(zip(movies['movieId'], movies['title']))\n",
        "\n",
        "def get_movie_index(title):\n",
        "    fuzzy_title = movie_finder(title)\n",
        "    movie_id = movie_title_mapper[fuzzy_title]\n",
        "    movie_idx = movie_mapper[movie_id]\n",
        "    return movie_idx\n",
        "\n",
        "def get_movie_title(movie_idx): \n",
        "    movie_id = movie_inv_mapper[movie_idx]\n",
        "    title = movie_title_inv_mapper[movie_id]\n",
        "    return title"
      ],
      "execution_count": 225,
      "outputs": []
    },
    {
      "cell_type": "markdown",
      "metadata": {
        "id": "DEHZK7sqlRyv"
      },
      "source": [
        "El metodo de `ALS` es computacionalmente mas ligero que la descomposicion SVD, por lo que tiende a usarse mucho en produccion."
      ]
    },
    {
      "cell_type": "markdown",
      "metadata": {
        "id": "lzrKC6krldYZ"
      },
      "source": [
        "Utilizaremos el paquete implicit, con su metodo `AlternatingLeastSquares` [ALS](https://implicit.readthedocs.io/en/latest/als.html).  \n",
        "Esta descomposicion esta pensada para datos masivos por lo que tambien tiene su implementacion en pySpark."
      ]
    },
    {
      "cell_type": "markdown",
      "metadata": {
        "id": "PHvcBt6Vzp54"
      },
      "source": [
        "### Item-Item"
      ]
    },
    {
      "cell_type": "code",
      "metadata": {
        "colab": {
          "base_uri": "https://localhost:8080/"
        },
        "id": "RnwJSE48ri0b",
        "outputId": "c7795a59-ba00-4397-eb12-782699e38d4f"
      },
      "source": [
        "model = implicit.als.AlternatingLeastSquares(factors=50)"
      ],
      "execution_count": 218,
      "outputs": [
        {
          "output_type": "stream",
          "text": [
            "GPU training requires factor size to be a multiple of 32. Increasing factors from 50 to 64.\n",
            "WARNING:root:OpenBLAS detected. Its highly recommend to set the environment variable 'export OPENBLAS_NUM_THREADS=1' to disable its internal multithreading\n"
          ],
          "name": "stderr"
        }
      ]
    },
    {
      "cell_type": "markdown",
      "metadata": {
        "id": "AE9pDO4FsMpS"
      },
      "source": [
        "**Nota:** Puede que al ejecutar la celda anterior veas un mensaje como el de abajo"
      ]
    },
    {
      "cell_type": "markdown",
      "metadata": {
        "id": "l_hLqkL9sGRs"
      },
      "source": [
        "![image.png](data:image/png;base64,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)"
      ]
    },
    {
      "cell_type": "markdown",
      "metadata": {
        "id": "Kas21iOSsoB3"
      },
      "source": [
        "Este estilo de Warnings son de suma importancia. \n",
        "+ El primero te idicia que si estuvieras usando GPUs utilizaras multiplos de 32. Esto se debe a que la estructura de datos y hardware de NVIDIA viene en bloques de 32. Por defecto **implicit** utiliza GPU, por ello debemos pasar el parametro como falso.\n",
        "+ Te esta indicando que ejecutes el comando `export OPENBLAS_NUM_THREADS=1` para evitar problemas.  \n",
        "Lo que esta ocurriendo es que esta libreria usa la grandiosa, util y muy amada\n",
        " paqueteria de computo cientifico conocida como [OpenBlas](https://www.openblas.net/) como backend. Este backend tambien paraleliza pero entra en conflicto con la parelizacion de la paqueteria de python, de manera que provocaria problemas al saturar el numero de tareas paralelas que le pediria tu proceso a tu computadora, por ello es necesario poner la parelizacion de OpenBlas a 1 thread, y dejar que python lo maneje. De no hacerlo tu codigo podria tardar mucho mas en correr."
      ]
    },
    {
      "cell_type": "code",
      "metadata": {
        "id": "Kxa9dPCTwQ5v"
      },
      "source": [
        "!export OPENBLAS_NUM_THREADS=1"
      ],
      "execution_count": 219,
      "outputs": []
    },
    {
      "cell_type": "markdown",
      "metadata": {
        "id": "NWTLBfy6ypNZ"
      },
      "source": [
        "[implicit.als.AlternatingLeastSquares](https://implicit.readthedocs.io/en/latest/als.html)"
      ]
    },
    {
      "cell_type": "code",
      "metadata": {
        "id": "IS2YJ49fwSpj"
      },
      "source": [
        "model = implicit.als.AlternatingLeastSquares(factors=50, use_gpu=False)"
      ],
      "execution_count": 222,
      "outputs": []
    },
    {
      "cell_type": "code",
      "metadata": {
        "colab": {
          "base_uri": "https://localhost:8080/",
          "height": 67,
          "referenced_widgets": [
            "ad1e9f36f66b4609bb24925c84f05fb3",
            "b9c04d030d7544b0bd0a6d636e40e7ef",
            "121974d708e24baba7915f60be3f1cac",
            "da27a5788f674982a74b0803bbd441ab",
            "61dd4746b8c1480fb656b41f268bd6f2",
            "f1d3cece21da4a4fb4332ab761e36cc5",
            "3e7654275c3849c29c641071999b0fc8",
            "8956abe1b59e4bc3986ec758768797be"
          ]
        },
        "id": "3JR2wqHOyLNY",
        "outputId": "c68c345c-7274-40c7-e972-b932bd2546ed"
      },
      "source": [
        "model.fit(X)"
      ],
      "execution_count": 223,
      "outputs": [
        {
          "output_type": "display_data",
          "data": {
            "application/vnd.jupyter.widget-view+json": {
              "model_id": "ad1e9f36f66b4609bb24925c84f05fb3",
              "version_minor": 0,
              "version_major": 2
            },
            "text/plain": [
              "HBox(children=(FloatProgress(value=0.0, max=15.0), HTML(value='')))"
            ]
          },
          "metadata": {
            "tags": []
          }
        },
        {
          "output_type": "stream",
          "text": [
            "\n"
          ],
          "name": "stdout"
        }
      ]
    },
    {
      "cell_type": "code",
      "metadata": {
        "colab": {
          "base_uri": "https://localhost:8080/"
        },
        "id": "uKrAuCVQyyzV",
        "outputId": "9f11f9d2-f8ea-4635-fd74-e1b1efe55a54"
      },
      "source": [
        "movie_of_interest = 'forrest gump'\n",
        "movie_index = get_movie_index(movie_of_interest)\n",
        "related = model.similar_items(movie_index)\n",
        "related\n"
      ],
      "execution_count": 226,
      "outputs": [
        {
          "output_type": "execute_result",
          "data": {
            "text/plain": [
              "[(314, 1.0),\n",
              " (277, 0.87614214),\n",
              " (257, 0.8459766),\n",
              " (510, 0.8453917),\n",
              " (97, 0.7728699),\n",
              " (461, 0.73308045),\n",
              " (418, 0.7231843),\n",
              " (123, 0.68771404),\n",
              " (43, 0.66691864),\n",
              " (508, 0.641523)]"
            ]
          },
          "metadata": {
            "tags": []
          },
          "execution_count": 226
        }
      ]
    },
    {
      "cell_type": "markdown",
      "metadata": {
        "id": "DOxjFOnBzGKW"
      },
      "source": [
        "Este output es poco interpetable pues solo vemos los indices de las peliculas, por lo anterior podemos usar la funcion que definimos antes conocida como `get_movie_title`."
      ]
    },
    {
      "cell_type": "code",
      "metadata": {
        "colab": {
          "base_uri": "https://localhost:8080/"
        },
        "id": "lii1sZ_TzTtW",
        "outputId": "7632cf13-db0b-4f4e-e9b4-a00196829254"
      },
      "source": [
        "print(f\"Porque viste Forest Gump {movie_finder(movie_of_interest)}...\")\n",
        "for r in related:\n",
        "    recommended_title = get_movie_title(r[0])\n",
        "    if recommended_title != movie_finder(movie_of_interest):\n",
        "        print(recommended_title)"
      ],
      "execution_count": 227,
      "outputs": [
        {
          "output_type": "stream",
          "text": [
            "Because you watched Forrest Gump (1994)...\n",
            "Shawshank Redemption, The (1994)\n",
            "Pulp Fiction (1994)\n",
            "Silence of the Lambs, The (1991)\n",
            "Braveheart (1995)\n",
            "Schindler's List (1993)\n",
            "Jurassic Park (1993)\n",
            "Apollo 13 (1995)\n",
            "Seven (a.k.a. Se7en) (1995)\n",
            "Dances with Wolves (1990)\n"
          ],
          "name": "stdout"
        }
      ]
    },
    {
      "cell_type": "markdown",
      "metadata": {
        "id": "6p8Z8aIHz5l-"
      },
      "source": [
        "### User-item"
      ]
    },
    {
      "cell_type": "markdown",
      "metadata": {
        "id": "4nIUm4wF1s5i"
      },
      "source": [
        "![image.png](data:image/png;base64,iVBORw0KGgoAAAANSUhEUgAAAU4AAAGKCAYAAABjKqjLAAAgAElEQVR4nOydd5wV1fn/+frVqDFGExNj/Cbxl5jEGBVFBKQovasUBSnSpbsiinRpKh1EEDAoiDSpUqS3pUvvVUQFFEREFti9986cc+b9++PuLMPhzNy5u0sx+rxes3d2Zs6Z5zzneT7nc8rM5OFn+Vl+lp/lZ0lK8nj/cRwn1zalVNavu2+6h3su7HHTNd583X3vfcPkdaW2IDt5y6WXxXS9Kb13303jtYeUMmm76Tro9wsrOa2v3NIjrF65lf+PVcL42k9BHMe5MsDpdXI3cPWATuYeXt299/gZOLlg/78dOMOkzYle2S3nf4uE8bWrSbITj2HzvaKM0xTIevow9/Dm6+7/DJw/PeBUSiGlvGjfLXtO9cpuOf9bJIyvXW3irX+vb+TUP7IFnH5A5z3uVVC/3nsvd1/XwQ3oRAFjur9+70sFnInsEBb8TbqaypLoer97+13j2tl7Xv8/rL56vWYX+JKpryDGGeR7YQLD/b2cwBnWhkF6hMkj2fSm/Pzq6FLaIkhvvzxMfpsb/pEjxul3czcA9X24GNmTqRgdDLwthm5c732DQDg7m18DkZ28vDoGMU69LKbrEzFOKWXW5l4rhPAFCm8dBums3y+s+NVXEAjqjMHVQ0p5UZ4mvwgjOkvJLjP5bxNvXes9latRgnwgp/6RNHAGgaUJULxBatp0hU35Be37Xa/T8twASj89/OwTxAJN15vYXjKM048t/hgYZ3bqK5FPZCco9KD6mXH6D7H55X2pbBGkdzL55IZ/5EpX3dsye48HgWaQUkFBawp2IcQFwZco+HO6mfQAQt3br9HRAcTLDvUJNB1s/cZudIbpta+7r4NWsszXy/x0G7j7QogLdPKrL30L49De67z5eu/rtfHVLG5ZTHUXlvl6z7vl1+0RJr3f/bz+49fgJit+4Oz6mSmmwuar44TJHtnxj2wxTr8gD2I2YZHdBDB6UIcFydwCzzB6mCrKxAr9QDRId+853f5eEEukvyk/vXFLxPhMAKcDrSm/oHQ6KOv5mQIrUTlN+YQVv/slm0+y4mdD3ZbgD3xBeYSxh3vcVK+ma0265YbojYhXr2Qkp/bwyzNHXXUTY/AGQRDTCXMffQzL7576mJsJkIJAKtEWRg+vzqZGRbddEEgGgVIQiAWBVSI763WqO5RJV92uXgc12cRUTpN9dDA3Obb3/7BOb7JjMumvlOh6e49dqnsl8r2gLbv3TIQ5fvfwq9fc0MN73Cu5uhzJ1OXyVkQYcdN4A8oLwHqQ59ZYZjIsy6RHWLA0dYFMratpEsgvgPyA0GQ//X6mhiZZ4NQnCoIaAD9dXZuabBjWf/xs4j33Y5Nk9Q8DdH75mWLZFCN6vWWXubmi+79fvtm5R07sESQXAaeJlfmxNhPL0Y2eXTAzsZYgHfzuk+jaMPqZQCyIVfnp7ueQQSDtBTo/R/Dmp4N2ojLq+iUCziDGrfuQbpsw9eLX8OqObbJDogDITprLKYn0uxw6mxpx93/3nDcmvGmyq1My+Zru4We3ZCUZ/8gx4/SyLv1/P0BJtCUDKIkAQu9m+10XFsxMTDMIRE3lD7KNn05u/SS6j2kIw2Q3v2EWP8AKsnkQ4/QDWtP4eBjgNAFvmEkT77lk0lxOMeln8k24NMDp5/dB8ZAbevn5mJ6v3z386jVZScY/LgJO/dekrB4kfkCRDGh6Z7v87uU3CRUEfEGAoOedqIHwlterhw4cfuOfpmA3AYhfZZnsYcor6H4mUPOWIRFgmfQwrQU11ZWug9+wS5AeupPrjaKup5/tgvK+EqL7m9emlwvY/WJDr/cwYJab908mnbdec3L/RP6RK2OcfozFD8wSAVOYe2Qn36B0Yc6F1c3EyvzuE1a/oMr1yzOn9WdyGpPeJsaZXX10cNf1CEoDwSCTTGBcCdEbgyBfuFQ6m3zN3Q86d6numUx6vV6zq0cY//BlnKbEJuf1YzrJMs6ggHG3RF06U4Ca9DIFdKLgNuUTlk36gZMf+0u0uXbxs0eY+4VJFxbo9CAPyjc7enh9M6x+OQ0MUzwkA1rJpjX5ml+cuXbIbQmKdV1P0/6lun8y6a4YcLqJvBnoiXUn9tsSdX91QDIV3HsvfcY5bGAHAbK775dnGEANGuNLpJ8J/Nzyhq3coIYjTBn8gE3Xw1svXr9wF57r9ZQMAHvt4dVHd16vzbz1GBacdNsFXX85JQg09IbVe+5nuUqA0/01Jdb39eDXgSSIEepBFRQwJpD12/cLRH0SxKRPEPvxu8akQ6JZeJNtssM4/coddNxPf7/lT6b76nmaGKfpujA2TMQ4vXUK/u8+yGlgmOIhGdDKTlrvOd1mYcfAf4pyxYHTe7G3lfNm5u7rs6HeyR0dEMLMZuvX6/fyAwdv/n5DBrqOyYBV2POm8uuA5AUY3S5+NtTPBQFnGMYZZDc/PXQ7ec/rk1t+s8EmO/j5SRBwJiqrn6MnGxjuvUyxEAa0kk2rA63pWLLg/VORKw6cfuBoqjSvQ3gDTgclUwCY2ENQwLh5m9Lr4OQHHDqQ6WlNOgexIr3MJnvooKYDmK6TKQ+TbfXK9drcFHSm43466nrov4nA1Q84dTuYHNVka1N5TH6Q24GRnetzK+3PkpxcFcBpAhzwZ6O6kwcFgB+o+QWZtxB+QWgCGhPImVivifHoeXqBR2dpfjYwMSo/4AxjoyC7+NnQlM4PyE0g6lc/Qaw6bD371bnf/7rz+u3nZmBk5/rcSmvKI9H2U5YrDpymoNGd2c3ILziCulxBIOh3PlFg+21+XVE/3YImnExsyVtW074J1PxAPdnNzyZ+DM10PCi9Dor6r17H7uSQScdkgdOUT24Bx48NOH+WcHLFgVMfi9Ed008hb5qgAHfzMCno3df18AJWkFH89AjqPvqBeKKy+HWpwwCCt5FJtjHQbWe6r9fOfvnrwyphGw3dpkqprMXaYfPxDrt468vUqHnrNKfi53cm8PXTPyxYJ3OvRPnoepga6J+yXErg9KuzhIzTBJpBwR0UAInAyhRkeppEIOMHTKbg1CdcvMFpAhg9kP3K5dXRb+IqDPAmuoc+tuutL29DYypjkA5Bm6kOTWO7fnYIslOYxi7ILxNJIpvk9PrcSuuXlwk0vSTjpyom++QknzB1dhFwmiY7TM7qdWI3bZiA08fI/AJKn3wwHTMFvimdCawSsQkd+HXgNIG0H0iadDOxhyDGpusTNBHlraNE4JPsZkqXTF6mMnvL4Ffnpv/9nNpPvIFg0lu/NpENc+teifIJY/ufsphwKSf5hKmzi4DT5NjeTHXRUdobAKZjJkDTFU0EvibQ8gMTPzbkLY/3fxPwmIBTBylvI6ADoA6ebh5+DYHXrons7C2TX+Oml9GUxi8YTYCi5+E9ZrKnyU46EOp2CvKDIP3CiJ9uYa5J9r45SeuX3usjXmZkut60JavDT03C1Jnvk0M6UJgCwA8cwrBA06y0XwCb9PADtqBzfvnoBtNt4aeHCbyDgt+Un2m8KmhL1ODowWWqdD3wTFtQq5vIFxLprwN3EFgG2cBUtjABEbSfk+tzK61fXkH2/CmLyT45ySdo3xUj4zSxIz+gMFWk32y293odSMNsuqP4AZYfqJj01Q2eCJiDgN60mRiVqSHxAygT0OhlT3aSyQTCyaTTbWZqsILuGeQXQSCaCFD9nNwvQILS+V2TLGDnJK17bSIfNgV5UL0kq8NPTcLUmXFyyDQG6Q1aHfi86U3ga6o0rxOYxvaCmJ5fPmGZnskQJuN5bWHSw0/0xsZkC5ONvWm9eugNmDdv7683Hz/9TE6RHTHl41dHiRqCIOA0gUSYcv43ibesicZ3g0hFdseGf5aLxfjkkA6g7jnduXWHNzm+qSvqZV1+DNEbIDpr895Hn5TxCzITcAa1zt5yBenht3lt6DfeqzdAQTqY7KyXO1nmGHbz5uv1FffXNKYbxh6J/vebLPupMSkTGPrVy8/AeXnEyDj9ukTuNToL1dlUsgzQxEz90upOE5RPIsYZ5GSmwNT18NuC9PPLx++8rkdQuuzqm8zmiteOYd6OZLJHov+TaZz+mwHBa2tvLJoaCdO1+uaX9mcJL8YF8DrIBAWwaTIhyPETAax+XVgmZLqPCeB1x3L3/fJKFLyXYwurw6XQVWd/rnhtF4ZxXgp76EMfXr1+lp/lUopxHacOhkEgk4hJhmWciZhaGFbm/T+3gDNIpzDB7ZcmO3nmJF1OQEq3nWsz91cfczTpcykZp5cN/zcCp+6z3v/DXKtvfml/lvBiHOM0rSs0OaweWCZwDArE7KQNe/8w+YcFoSBmHBTw2QWESwF+iYAxO4Cn+0siG+XEDmEbHy84XI2SDAj+LFevBE4OuUHh7sPFY1imJTFBgWGaaNHZoXsspwHmx0Ddsnr3wwwNmIAouyB4JYA0O3qH6aqbPtaWW3YKKovX99yuuuunP8vPcikl8JFLvQuUCKD82J0JMNzNNPMXBhT14PGmD1ojajqeCKRzyjjD2OVyAWYYvYPKblqD6bW3vkLAtJ8dOyRqZH6MjNPV2Xv8Z/lxiO8jl15Hh+C1efpYYjLLSfwC06uT+xtm+Y2JLZvGOv0COAxL9rOBfj8dWLzHLifjTMS0E9VXGNuZgDKn9/OrAz+Q+TGAkO7P3v9/lh+PhH7kUg+GnDBOE1jox706ee/pzTdoNt/ELLMLPLnNOHMCIDnRP6zeYdP6XZtMvWSnDrzHvT6i71+NYooh7/Gf5cchvsBpYhR6AAghLugah+ny+gWMaYxUDxgT48xO1zunwOm1lbsfxL5MeocB9USA7QfUYcDPT+/sNDImPZKpF33fpIdfw3qlJMge7vlEafzq5XKWIVFZrkZgD6P3pRYjcOrdSu85d98bDC6AetP4gUkQMLj5+Y2jmcA8KHj9GF+YLSjPIHvo1+tvR/fqmx3GGQbYdD283Vud5Xjz81uPmcg+icAg6Jqw15tWelwJCROUQWDj9R+9Xn6WH49km3H6sZSgwArDaHTA9GMvJpAOAs6wwJQIiJIBTlOjEFSmIIAy2c2v7MnY3AvgYeonDFAnatDC2isonystQfZwzwel8bP15S5DorIEledKSRi9L7WEAk591tT7iF0yLbC3Sx+2QrzX+U0OhdUjGdFBMTvAaWJ+Qogshu4Hjl67u+n0SRETYzXZVXcyN603D70BCjNpoecRpgE1MUcdPExDP95yXGnx2jBM42ZKq/vOlQInkx/42d/PD66E+OntjatLLaG66n4sItktO4zGD1hyS6fs6OC1lbsfhkGZRG8AvGIay/XqZQJfU8vrzdtUNv1cdhmn3kj4jUmblovp9jKV1w+QLqfogJdo80sftH+5RPdfv3q9Uvr5iZ/e3v1LLaEYp1dZvwJkF/ySTasfyw4QenXOjv6mewedc4EjEolw/PhxTp8+zalTpzhx4gSWZeE4DrZtc+LECU6fPs2JEydIT083MlCdvenAFLb8XsBMS0tDCHHR8SD7mHzC6yt+9RXEPk0+4sdSE+kSxlfDpAvKT9cpEUNL1p5Xi5zXDxw03fX/fwTlMUmy/pEj4ExWKa+DmQI4UYF00L2UXQlvvn6MU7/Gr1Fwy3v48GFmzpzJa6+9xhtvvMGcOXM4e/YsjuNw+vRpli9fTvfu3Rk+fDhffPFF1j301QumrpUJgLwOoIur06FDh+jZsycHDx7MKksYxwkCAa9+QQ2dWzYTaJrA1TRkcbnF5Mt+DdvVDhzGOsTJAkgA5/zFXHjgykkYwnOpJVtd9WQ3UyBkh3EmCsSwm7esiSrAe58ge5gYoN4QxWIxhBCULFmSF154gYyMDCAehNFoFIAnnniCBQsWXLBSwVs/Lti4DNF73B3ncY/p9erdbNsGoE+fPvzlL39hzpw5F5U3yMZ+dWpil/rkk98kWZAd/ZarJQJ4rw10W4RJF5Sfn60S5ZvbuuSqOJl/nEx9sgDVh3GGjLerXZKtk1CM0xQcfueC1u9lZ1bZL62fnmHygvOMwd1PVD4dJPx+TYHtnne75dWrV2fAgAFZNpdSYts2UkpatmzJli1bsupEKcU333zDqVOnLqrIjIwMvv/++4sq1fvseEZGxkW2ckH5+PHjdOnShfz589OhQ4cs9utXpqB6CWrQdFA02S7MPf2ude0UJKa6DpPuUsjVpMtFogBHgcrUx7W14yCVg3IUStkIGSOmbGJIbKVQQuDIq7A8ISXZOsnWrLr3mB9j8ANKP5YSBvB0xhE20PQ8vGV19/3y0icpTNeFYeZKqSzgrFKlCn379r3oHEDz5s3ZtGkTjhPvvk+cOJFJkyYxcuTILFYIsGbNGoYPH86wYcMYOXIkp0+f5vTp04wZM4apU6eydu1a+vTpw4QJEwAu6O7HYjEAhgwZwuzZs5k2bRp58+Zl27ZtABfVa9i60R0vyBYmW4a1o199Bole17nFOP0YVljGmRu65KooB3BwlIMjJY6wUUoiHIWQoKSDo2wsFSXdiZHuSCylUJYAqeLA6iTfI7jSkmydhF4Ab2IV3utMXSmT8/sFRJgtO2lNgOstq26snNw/iHF5wbFq1aoMGDDgArBxu84tW7Zk06ZNQBzY2rdvz+nTp5k3bx716tUDYPny5VSsWJHJkyeTmppKtWrV6Nu3L0eOHKFcuXIULVqUpk2bkjdvXrp06QKAbdsXNYS9evVi+/btAJQrV45u3bpl6agPN4Sxq5+d/Bq9ZOwY5EtBDp7dwLiUcjXpcpE4xBmn4zJOgVQKizjjdIQCqZBKYDmCmKOQ0oGoA9K5oCsPpq6649nw/F5ZyRXg1FmFn3P7MbugbpcpbXa2ZPNJtLwlzP0SXRcECF5wrFq1Kv369cuqFLer7jgOzZs3Z+PGjQBUqVKFPn36sG/fPtLS0ti1axfRaJRGjRrRoEEDjh8/zrFjxxgxYgR33303AD/88APFihWja9eu7N+/nx07dqDU+UkYl/WuWbOGlJQU5syZw549e2jevDkPPPAA+/btA8wTXmEYZ7INTKK6NQGon28GOfqVACu9kTbpermBM0inizeF4yiEcuIAqRRKOGArpBBYShBzJNKWkBEHVeVIHKVwHDLTm8p9yYuZtOQIOE2sUqmLX/LhddhEA/3hKujSba4OXt3cMnj3k13Skx09dOD02i0ajaKUonHjxlljnB9//DFFihQhf/781K1blylTpnDy5EkqVarE888/z4cffsiYMWMYNGgQvXr1wrIs1qxZQ82aNUlNTc2qV2/ZXR1SUlKoXbt2Vne/a9eu3H///QwdOjRrgimIdZoATne8S72FHU/z010P6MslekNwuXRJBAaZJ+Ns09XPAVspYjgIqXBsiWNJbBEjQ6UT4RyWykBZMZQUSGWjpEAp/QEG7+oc74qDK4+i2fGPwK66F1z8AsMLOkFjkd5jucE0wwCViR0lAoJLtbmg5TgOderUoU2bNll29wZ9uXLlOHDgAADfffcdS5cuZeDAgdSuXZt7772XDRs28NRTT9G6dWsAjh49mjU77zgOa9eupU6dOqSmpmJZFrFYLEsHl21u3LiRunXrsmzZMr777js+++wzjhw5wrPPPkvlypU5ceJE4GTXpQTORP6j16/u3H6g4PVj72qFIMDNqXh1MgXildLFT6esTbk2dnCEgy0dLEchZQwlIkg7SkSd5YT4imNiP6fUl0Q5ja0ysEUMIS2ktJFSxPNw88oCTQG4r2e8OiaQkvWP0IxTB0rT5JCXdZrW8eU0kPyW+5jSBI2/ZmdyJ6ebO6sO0KtXL/Lly8ekSZM4deoUlmVx/PhxBg4cSJs2bbJmt/v3759VN4cPH6ZAgQLs2bOHXr168fDDD2d16S3LYv369QAcOHCAqlWrsmHDhqxz3jJCfBx1/PjxFznD5s2befDBB/nkk0+yjvnV4aUCTr96C6rnRMxTT+MHurkteo/mQgZ2+XTxA0s9frP+l574FfExTFvaCJWBFOeIWWkcTfuMT3aMZ8r2t1h4aAzbT6wk6pxGyChCxVDKZZ0KpSRKufUoMzfXZ678+G52/OOir1zqAeDHOL1G1wPJL6CyWyjvfcMGpomp6s4StKQmtzelzi8DOnjwIC1btuSRRx7hueeeIyUlheeee466dety5MiRrLJXrlyZ3r17M2PGDLp27crgwYMB2LdvH3Xq1KF48eJ06NCBdu3a8dFHH3H06FHatWtHsWLFSElJYdWqVUh5/t0CsViMCRMmUKBAAVJSUti8eTOWZSGEYM+ePQwdOpT8+fNTpUoVZs2alcWQrzTj1P1A90F38/MzPa1p/1KIKWa8YHq5dfFrcC4CU3UeQB0pkEJhKwtbncGyfyAm09j1zUb6ftyWlHEVaTPxCd5e1Jlz6gRCZCBVDCUlUorMNcdegmJngur5LvylLnsY23htZNrXxcg4dfDRMw/DPvy6eLkRSInydc+HmaS6FCDpp5MLngDffvstc+bM4Z133mHYsGGMHz+eEydOAOfHJBcvXsykSZOYMWMGkydPzgJegCNHjjB9+nQGDx7MpEmTSEtL49ixY4wbN465c+cyYcIENmzYgOOc/yZQNBpl/vz5zJo1iwkTJrBz584svQ4ePMj48eNZuHAh06dPZ8mSJVlde1NdXk7gNG2mYSE/J9eP++3ntujdP7/yuNdcLtDUGx29/qSS8TFOJVHSRgqJLS2EPIOwf8BS5ziccZDxW/vz6qyK1BnxAL3ntyLN+RphZyAdL3BKhHDizFMqpLTiXXhPr9G9b6a22u/lkWT9wwicboIg4DRtiQIqJwXS8w4KPr8ZfvecH6D65R0E3mGB3XvO+9SPLi47dAFSrx+XQYYVb/lM4mVrJtv7lSkI4C4HcHrLpXeBTeVwf/32syt6fqb/g2zoPZdTXS7W7byOWZtycJwQqxmUQjkCR1nYUmErGynO4tjpWJbFD85J1qfNpO+qmjR4/35GbezMDxzGFucQKoqQ8fWfUqrM7npm3tJCORZSCYT0r2O3AJdj8VJ2/CMhcHq7QIkCQwcoP+A03UOvQL9rwwJnEMCb8rkc7PP8OE+cBbrdZNu2M58ccl96fH4y6fwyIvsCO7np3HxcALQsKys/l2l6y+xNp49v6WmTbUzceko0Bp0scJqcO1nGeSVF92G4cCWH95pLpAHKXdjunPcv03DbBeOe0kaqCJaUWEoiRAQRiWFFFafs0xyQq3h7fUOavP8Aby9rw1nnKEKeQzpRbBFFSJEJnE58YXxmV106MaS0UdJlt65NPGOeV8Fse5BcNMapV6z3f/24HwCZmICX8eh5mRigK9kBTl03nXUmC5h6gPoxz8RAc95pHUdvLBRCxFtoLzCcB7iLP/bmgt35cirg/Hs/velNZXHz85t0CypT0CROThqhsJNDJpbk9ZfLJSb/dP/Xbe49HhQfuaeb+6tQKvPeSiJVvJGO2/i8L8UfkpAIlTk2aVsIFUOqGFY0HTtigQXYYEvFKQ4zZlNnXp5Slp6z6nNafoVSEYTMQCkL246iHAfbVtgxhbQdhBTY0s7yV8etR5kZH47AcVScbToOjpP5FKi2XWkxLkfy7vs5ginggmi316FNeZrS6NcmE5g6yOlgnwyAhglm3R56UEvp4Dhu10WiVNxB4unjgBoHT4VtCyxLXMAMYrEIlhXNAkIhBNFoNJNBui27IhazLujumxiF3ohkB/DCNhjJbkH56vlfDcCZDNFIFF+5JW5e3qVAUro9HoFyIkgVQwiFkE58YbuKM0LLjiJEfE2mbVuImMA+dwZiMew02L/xONuWHuLA+q9JT7dZ8/U82k2uTqcZT5Muj2LbZ7HFWTIiaQhpkZ4eJRaRiJgkGpHYwsGWgpgdizNOSyEsiaMESlkIEcNxZBwclULhIHFQmXCprgrY1IAzkXid0+TYl6IFzQ5wes8HDR149/26l0HMRtfNj7nFj7npXf1scF/h5cR/411kiW27ACqxbZm1HjMWi13UvYszBSvrzUtKXfiWecdxfN84fymALzfzSXSPqwE4TT5gOn4pADKxPlywnzVLrux4N9p24ptQWLaFbUeQKkIsegYreo709HSsDBv7B8HBDceZ+d4mhnT+hAEvzqJP80kM6jGRcfM+pOtHTUh5ryInY/uw7FPY4jSx2Fmi6RnYEQEWqBgoyyEWjRGNZWBZ0fhsvS3ieimBUlGUjKHcySnHQTlx5qwcPG9ouvKSbcYZhhH4taimPE1p9Gtzwjj1ll/X3zTOqgOBKVj90uvXuYzSZZyOc/EYYnxMMu5MLnBGIrGsySDbFhw9epRVq1Yxd+5cVq9ezZEjR7Je2iGETTQazQJYHTBNjDOoqx4GHH/qjFP3T10PP+AMio9LoZPbcEuRWf/CQQonc9wxhlQZCJmOZZ3DiqUjbYEdhbMnYfm0z+n34jyGvPQp/2m/lf6NVvJGnYU0rzaMBi1eoOPIlnT/4HnOcQLLjpF+NopIV4g0OLT1B9bM3c/6JV9yaOcpzp2SSEthx2xiMYkQFlLZ8YXzykIRf7TTcUARH9KK80znqhr9NAKnH/CZKsTk4Kbrk9lMaUxAGDbAwpQnEQBnFyQu7N67C4EljmNn/n8ezGzbxrKszEkjRUZGBMsSnDlzhhUrVvD666/z9NNPU6JECYoXL06FChWoXr067du355NPPuH48eMAWfnEYrGs19W5uiRqQEyg5HfuUmwmQA9bL25dXk7JLnAmm3dYoDX53vkhHydraZCUTiaIWjgygm2nYUfOIi1B+hnYvPZrRg9PpVfHWTSt/D61HxlF28qLGdxsB+8028fAelto/eQ4qjzdlG4jutKmX1OWrFzLV19kkP49fLk1ynt9VtPt+el0bzab7i1n0a/9XKaM2si+LT8QSwdhZw5BifiieVtaCMeJs03i5MKNk/OPbF4dTxol1VU3OYkpuLzX5lS8+YVlRt7ubHaHDLx5JRug3uEKL+OUmQPg7nKQC/fjn7mf0+cAACAASURBVNZwu9yxmEVGRgbr139Kp05dKFeuPIULF+Hhhx+maNGiPPbYYxQvXpwSJUpQtmwZqlZ9irZt2zBv3lzS0tKwLItoNJo1S643Pl4A8mPLibYwTDxZ4DTlo/tBduvlUogeE1e6q+71vQvH4zNXYyiBlDEcaeMICxHLwI6cw46cQ0ZsTh21mPDuelrU/oCaFf7D06Xfp1bRidTNP5WaeSfx/OPT6PnMRjo9tZwaxQbybL0XGTBuGI07tqFV60H06jib9wZupVvTRTQu9RGdnl1H97pbeL3RVt5stYEBr37KyD6b2Lzme6Lp8V6SkBaWiGLZFlI5CKWQjkARXyzvgr8DWb9XWnzfjmRySBNweh1cByyT84QJGD2NuevrH6j6YLyf44bRz69bG5aBXZjGZZ0yy0bu+fjYZrx1jUYzsG2LefM+oXr1qhQrVozixUtQpkxZSpUqRbly5ShbtiyVKlWiSpUqVKtWlRo1alCjxjPUrFmTYcOGcerUKaSUWRNI3kkl08SQX5kuVZc8UaP3Y5lV14HK+3/Q8TBiircgAPbzvbgOCiFtpMpAybOIWITYGRtiDiJNcu6YxDoJH4/eRataE6hTbiJ1K86mwRPzeb7MQhoWnUOd/B9RI/9YGhaeTt1CH1KxWFeea/Eir78/kHptO9G44QjaNp5F+4ZLeLHaQpqWWECnqjvoXe8wQ1oe560XD/NOx0MM6bidMW9t5MsDZ7Giimg0AyktbBlf2ymURGAhiaKknbVYHuJs9GoY5bxoHae3or2Lo01AqHf7TODqpjWxGu/mvac3jdcBvHqYgMk0cx7UEATpF5TeT3c3L68tzde7tj3/GQwhbGw7xpkzPyCExaxZH1OuXBkKFSpAiRLFqVixIuXKlaNEiRI89thjFCxYkEKFClGiRAkqVapEjRo1qFv3OZ55pgYVKlSgX79+nDx5EqXOf7LDr6uuHzeNe3pZvg68pi27ABsE1GHr9XKK1991/w86HkZ0/zQD8IWLdM7b4cKng+INs4Vtn0HaZ3BikowTDtuXn2DK8M2M6LmMAe0W8HLdKbxYew4pNZfSrOpyGj21lCal5tK0xGzqF53GM4+Mp8oDH1D23kGULNqWOq1eoG2/7tRo3JkmtcaSUmsBbWou5uUaa2hZegUpZdbTu+5R+jc+xlstjzL05SMMaXeAfq+uYOW8z3BiDrFYDKXiE6OWJZCOQjoxBBk4ysJR3gnRq7CrnsghTcAZ1BLq1wd1tcMyTtM1pgAzAXV2GHGY4Nfz0gHGz66uQ8cXvgui0QwikXSWL19K2bKlefTRgpQpU4oKFcpRsWJ5ypQpRZEixXjwwQf529/+xl133cXf//538ud/hFKlSvPkk1WoXbsONWo8Q8mSJenXrx9paWlZY506qF/ISIIfSzXVi98Ekwmgc3u7WhhndsTkK36be114xumNYwcl4+uDbUtg2TaWnY5jxzh7TPDxqF28VHMqLSvOoG6RD6mWbzi9W67l43fSeL31Flo9vYTm1ZbRrMIsmpWZTp2ik3mm8BSeePBDHrunL6WLtaN+q1ep2+plKlRoT41SY2hcbh7NKy7khQrLaVp8Kc8/toyuT+/n9bpf0P/5I/Rv8RX9W37GG63WMHXkDiInHRwhsaJRbEvEu+qOQKoI0omgpIi/INnJbBycq5Bx5hQ49Wv8Kt4UTGGAE/yfp9d10icX/IJYv1cQMPqVweTQfjbS9+PP81pYVhSlBMeOfU2TJo0oWuxRSpQsRuUnylOpcjnKlC1BwUL5+Mc//s4f/3gHt956K7fddhu33fZ77rjjj/zzH/+mQIFHKVGiJNWrV89iqPPnz8dxHNLT0y8ARxOD8SuzX3n18rn5XCrGmehar/0vl5hAMMzxMOJHEC7MxyH+ijZB/K1D7m98rbBUIt4NFlaccUZjOBmw5pMjtKkxmVerrqJj1W00LbqURkVm0bvpdib2+4EezTfQ8ulFtHpmJS2f+ISmZaZS9/Fp1Cg6jQp536fkvf2oUvZNWrYYRIO6falZahjVHv6IZ/PPpm6hmdQrMof6RedSM/906hdZSLOSK3mp8mZeb/glfZsepnv99UwasJPINw7inI2wbGzLRtgKoWykOockI/7GeeGW112L9F8EnGEDLAxwJgoiv8D1286D1IVAYTpn0isscAbp7L843kYIi1gsAsCIEcMoUvRRij1WmHLlS1GpcjkeL16Yh/Ldx//9+Q/ceuvN/OpXv+RXv/oVt9xyC7/97e3cfPMt3Pyr33LnH+/i3n/dT+HChSldujT58uWjfv36HD58GKWcCx7N9BvWSAScehrdrqYyJgueOQFZr59eraLHkV+5TPF2MXAqyJyBhjhYur9S2ihlI6WV2ThbOMrh5BfnGPraYtrXWkCvOvvoWmU/L5XaRMviK+haazM9Gm6ja8MtvFx7Ey2rr6dFpXk0LfMxDUvPplqhCVTON5LnSo/hlYaz6dRsNp3qLaDjU2tJKbORBoWXUevhmTz90CSqPzSOCve+S7UHx9PwsXnUK7yA5iXX0qHKTrrU3MKIDls5tiOGc1YhozYiKrDtzBeBOGeQzrn4cinh2uQ8q77SkmPgNC0s9+bn/vqNRer5JBrj1PUIGo8zrWXUndRbniAQDwpe7xCArpsOwBeUVan4Exoi/tjkzp07qFq1Co8/XpTChQtR7LFHKVjoYf5y153c9rtf88sbr4tvN1zHTTddz69//StuuukmfvOb3/LbW3/Hrbfcxh9+/0fuuusu/nXPPeR76CEezvcg7747AnAyhwXOP47ptZ+Jieq21MulN04mmyRaAZEbwKmPgV/t4m28vQ2Z3qh5rw8e41ScZ5zuJrLAUwgL24oSi0VBwJ51x+n78gIGpWyjf8MveKPmYTpV2kOLost5qdxq2j21gdblV5Py1BZaPrWJFhUX07T0XGoVmUqVAh/QuupshnfczbSBP9C/1S7erLuXHpU+55Uyu3mx9GaaP76cqv/+kMr/HkGlvCOp+/hkmpSfS7NyS2lRKpWWJVbQpsJampeaSp/WM9mx7EvkWYWdYWHHbISIxRmnk4EUAiXPx9XVUr1JA6ceMDoYBB0PGwgm0DLdwxT0Ohi46fVr/fQ06ZSIcXrvoeumB7j7BUA7ZiOFTSyWQdSOoXB4e+gwHn+8BI8VK85D9z/Iw/ny8qc/38HNv76Rm2+6gRv+Nw8P/P2vlHj0YW676RpuvCEPt976SyqWL8UD9/yDX11zA7fffBu/ufkW7vjd7/j3P+/m3n/8leZNG3Hsm6M4DsRsG6ky1/BlPhevHIWjLqx3o+7KPASil9vE+C8lcJrq42oWb+PqVyYvGTGV7fwkicL9FEV8U7grN9xHepVSCGFjxWyIwa5PjzOw0xLe6bCft5sfo3etY3SpeJBWBdfQulAqKUVWkPJoKk0LLqBhsXk0LbWQpqUWUz3fRzQpOZcBLfYyodt3bJsMQ1t9Sa9aB+hR7Qs6VzxA2+JbaVtqE8/lm02Fv79HlYc/pGH52TR9aj4pT6fycvXVtC67hIb5F/B8/oU8X+QjejWdyYH130FUEYucQ8r4AxxSOCgRL895n7s6xrFDA6fOKk3dTz8GaWJkJtEdSj/mN5FhAnO/VltPr+uZKD+XsZlenmHKX89LKhX/mJVQSGERsyJYyuaro4dp3foFChcszL//eS/3/O2v3PG733DnHb+lUIF8/OZXN/Lb666lXqUKjHqzB3nv/C0358lDhccf4p0B3Xn84bz85n+v5W+3/4GH/30Pv7/5Rv5y+23c89c/U6FsSRYvXghAxLbjnTsh4t/C9ugU1ED4gaFfQ+TXuFwK4PTzmR+zJC6Pc8Fv/M1C8V/3vQUXNurx9x840uHLfT8wss9KhrTfzpAXvqbLU3t4pdQmulfeTq8nttGjwmY6lVjHy8VX06LYAuo+/DG1883mmQem07jwfF4uv5JXK6yiT5199K17kL71jvBatS/oVGE/rzy+jbYlNtOySCrVHviImo9OoXnVRbSuuYT29dcyMGU/nZ5eR8N8c2lbdDMdKm2maamPGNVrBWlfC2Qshi0y4k8USYFSMaQTf9PSxWz7ykmuMc6gljMs83Dvo+vjF8wmtuFlSqaush9T0c8nYqc6OJqGDC5wXO/bjRyFsGyUtLGFhXIky1cs5aknKvHQv//NPX/5E3fd/hvuuPUG8v7jT7zR9WX+9X+/44/X5aFJueLMHdafTrUq8dDvr2VQx8b8p+8rlM73d/54fR7qPVmKJrWe5I83XccdN9/Iv//2R/L+6++MeX8UQipiQmG7jERJpIoHmfsUk86+s8sakwXPsKzer969fno1S7IxYEoX/5+sX8fxstLzjBO873CVWLaNbVlkpElmjttGz1aLeL3RZlJKL+WNmtsZUn83A2tvpd/TW+hZcQudy2zkpWKpNHtkIU0eWUKLIqtoVWw1zQsvp1Xh5TQvuISUx9bQo/rndK9+mFfL7ObVkjtp+/hGWhVbybMPTaF+iVm0qraElk8vomezTSwapRj24mc0fmQu3Srt5rWqe2j3VCo9m89n55pvQYBlp2OrcwiVjnSiKGUhM1+R6PyYGKe3Qk3MzA9M9SB08wgj+vVZoBPAbkzg5koQI/KCLHBR+YLGWsMs51FKxd9H6DknrPj6tGg0/qG1twb3p3D+B/n7nbfz6H1/p8nTlfnrrb/gkbtvZ+gbbejaogol//lr3mlTm/mD2jGjT0tGtX+a+SNeZvZ/2vFK/aLUr3wfc8f1JaVuZe75/Q288Fxlyj6al3v+8kd6dO3K8WPxRzIt20aq+BhY1pu4VeLHME1AeqkZZ5hG2a3fZH3sahRvGYLLc+Ex77Um/3N7SpadgeNIDu8/w9uvLadJ2TF0fXYZ76bsZXCDTxnacBODa29iYI3ddCm9npeLLKNT6Y10Kb+DrhX307H8Hl4tuZ2XimzgpSLrafbwCtoU25zFNlMKfUrz/Mto/ugiaj80hbqPTqXlE4t4odpiOtRZQ++mO2hXZTmtS8ynR7Wt9K1/kNfqbOLV5+aybuFhUA6WlYFQ55AqipIKJS58uOZqqF/fBfA6UMCFEwOJZk6DwFff92t53Wvc32QZpx7gfkMLpq51ECDqx93JliDg8N5fiPijZELE4stERJT6dWtS8tF8PPT/buepog+yef5kmlR+jBqP3ceaGQNYNr4b499oxIr3O7JubGeWv9uG1PfasPjdF1g5viPLJnRiwdhOLP/oDUb1fJ5uTSvz3hsv0br2k5QulI+qFSuwacNGHMchZlkoJ4aQMaRw38sosurbOwxhGha5FFt2gFc/7/WXq1VMvu89np38TCTA28C7PiqFxBYRIrFzyCgc2nqWd7qupH+rJXzc50tm9PySUS2383a9rQyquZtOpVbSpexK+jy9kzeq7aPbEwfoXG4vHUvt4aXCW3m1yDbaPLqZVvnX06rApzR7IJWm9y2kwb2zqPG3cVT/xwfUzT+ZFmXm07L8IlpXWMIrlVNpUeITXig5j0GN9jO05Rf0braZXq0Xs2nZ1ziKzLc0pce/lmk7SAuEvLrq2Jdx+gWLH7gkA5xeluA3seDVyZsuCED9HMgEgKYGwHSt/qiiF1x0wNS76hfncz4PxxFkRM/hOA4HP9tHvvvvoXWDGtQp/yjPFLuXrbNHM6bHC/ync2M+/egNVk3oyrL3OzD5jSbMGtSc1WM7sOqD9ix77xWmDmhK75blmD74RTZO70/quG6sntSH8X3b0P/l5ylfOB//uusvrFieCkBGLBJ/MkNFsYWNFAI7c8bdfSmIH/vMLfA0MSLXZn6Nn19anXlezWLyfe/xMKLHhDcvvzoTQiKFiL9Qw4kSy5DIM7B18REGt53H2g++Zf376YxquYcRjXYzuNYuXqu4ij61NzG44V761N1Pz2f28toTn9Gh5G46lzpA+yK7aFd4By8X2EzT+5bT6fFNdC21kdcrb6F9qVSef2QGNf/9Ic89NJX6BWbSqMAc6j00jUYFZtLpyfUMf+EYYzodp2/rdfznzU/57gsbZTvYMopQZ7FVBGlnMk5xdfUofF/yYWoZTRXmB2QmYPILIH0phtcwyQKn9/7uvU2fgTCxSBOQeyeCvJ+U8IKptwzesutsNP7hKoGQNkJGiVoZgMOs6VP5/c03ULPC48wb059WlQtxYP4Ytk59m10zR7Bp0ptsmvw6fZ4vzf/lycMLT+Ql9YPupI7pTuqYHjQvn4+/58lD/+Y12T5tMCtHt2fjR2+yd/4oZo7oyWP3/Y1brrmGGVOm4jgOUSuKUBZSxfC+CdxbB7q93DowNZK5BaQmEEjUKHt19vrL1Somf/YeTya9+6v3mNxzF/qxRCqBLS0sYROzLBzLYeeKzxnR5WMm9drJpI5HGP/SN3zQ/CsGVN9Mz6dWMrT1LsZ0/Jy3Wu2nV93ddKuxj25PfEan0ntpX2QH7Qtvo0PhrbR5aBU9S26kT6UN9K2ykUHPbqdvjS28Wno5De6fRkrhpbzy2Bo6lFpHm2LLeLn0p7xZ9zOGttnLkE6prJn/BfY5B2HHsOVZbHka4aSjVATngufVr4469n2tnPu/6byphfMLAi+bgPOV6eans4tkGKd+P1N+foBr2tcZqpd9uQDq/V5PovFN7z2zAlxIbGFhyQiRWDqO4zCof1/uvOUG/nbrTWyZM4aZg19h76yh7J/1DtsnDWDv1L7sm9mXDzrXpG6RPzL0pepsnNyP5aO7sXpML8Z2acwb9SrxSf+ubJnQl/Wj27N5XHd2zBjCgWWTGTe4J/fc+XsG9u4NkPkyhTgDjpcrPpngB5yXg3F6ASCoDoPyMPns1SY5BU5THrptgIt8UMr4Z3+FUthSEbMiONLh+L4TjO89n/fbr2Niu6O81/Qo79b7iv5VNtL9yWVM6/0d++bBh92P0rvJPnrW3UfXp/bTscwe2hXbQYfC22hfaCMvPZRK/8qbGfrsDt55bifDGu3mncZ7GFxrJx1LrKRj8dW8+cRO+lTdTb+au+lWbQsp5RbyZvOFrJixn/TvLexIhFjsLMKJxr/h7r7YWIoLMORqqOMcM85Ezh0UcEHpTXqEYZqJgkup+ESNVArlnP9sgNfBvN1zE/t0weYCx1TaWKDnsxcX5GELhLQQToyIdRaANq1b8rsbrmHu2LfZs2gcR1M/ZM+MQXw24y32Tx3AjkmvsWtqNw7M6cfnC4bw+SdvsXlsd7aO7ca2Md3ZPbEfX8weybaJA9k0tifbx73G9omvs3XKINZMGMLqGWOoWroYHdq2BZxM4DS/6Nh7LAg4g46F2fy65qbxZlND6T3n7fKa7uX1o2R8PBnxy0vP0+TPiWznl6+p7Pp9LuoxKJBSYVsxVMxCpTksH7+NXnWm0/2JVNo+uphXHl1Gp2JLeb3KKsZ2+pqJvc4wsPUB+jU/QM+6e+ladW98rLPkLjo+vo12hdbR9pFUBlXbzogGu3mvxQHGpBxgdKvPGNF4H28+sZHOj69kYNVdDH52NyOafMbARtsZnLKBTbO/RZ0BEUsnFjkdH3sX8SfchJQ4QuEIB/Fj6aqbRK90r8N7gwEIrEz9fz9D+IGgH0s1bVnplJtPJqhJmfUr5YXXekHFO6bp/QKk28XNSie1cVPHyQRmmfUrM7vqUlkIFcUSGTiOwzNVn+L//f4W5n84hI0zhrFjaj+OLxnF5zMGcXDqQPZN7cHOiZ3YMqYdm0e+wqeDX2BNr8as6dmQpZ1qsaR7XVa/ncKaUa/y6aiO7PigG7snvsH2yQPYNG04Hw7ozL//fAdtWrWIM02lMr9TdPGSKu/Yrdfmbn3kVlfd1MMwjXfrPmZqQL15uL+XQ3T/DQpoHchMtk2U1k3v/urDRaZNHyoTUmEJG9uKINNjOBGHo+vTePO5WaQUmcZrpdfQudgaXnlkEe0KL2Rgvf0Mb/klb7f+kt6NDtCrzn66VT9Ah7J7aPfYNl4usoEXH11N+xJrGPjsLkY2+4yxr3zBxK5HGN/hS0a12suAZzbRq/wqhj+3m3eb7GH0i/sZ2noDUwftIe2QwrFiWOmnsKJnMoeynKz3cmbNqv+YgdMLhn6VFaalDbP53VMPOj9QvYDJSOVZDuR4GGfmr7qQ8Xi71UII7MwPomWxTVtkjld6uuvedZAqDspO5ttpHBVfKylkfGZTSIuIdRZLRDh37iyVy5Xll3ny8FKdyqydPJitU/tyeMFwDn08iO2ju7F7Ug92juvKjjGd2TuqKys6N2R4+QcZXOyvDCn1D6a1KMfGd15i5Ttt2Ph+F9a/054F/Vqx7oM3eb9rM8o9dBfX5clDu7YvELPib0qKRi2kuHBc2Vt+rz2NrN2vgTKAnMk3TGPgfkGfKA8vcCYL4InS+IkfaIa5j+vXQcNdyejoHYf32+I9LQchJZaIIkUU+2wMTsPuuccY1GQRPZ9cwhsV19Or9EZ6llpH2wIL6VR6PcMaHWVQw0P0rneQ7jX2067CDloV/ZTmBVbR8pEVtCq0jE7lP2VA7Z2MaPUZH7z6BeO6fsmHnQ4x6oV99H1mPW8+uYrhjbYzJmUPEzvvZ3SnrYzuuYbPNn6HYyusjLNIYcU/5mY7SEciiSJVFCkthBQ/XuDUGcNFABXQpQpqFU2BYrqfX7fNlIdXL0c5meM7EstRxFBYjoONg+U4SDLTS4kSEumCZNTCsm1ito2IKaSlUJaDjCmk5WR+oc8mKgWWI7BlDEuJrJbSsR0cS+LY4jygCoWwYkTtc9gyxukfTvF8g4bk/dc/KP94ATq1rM2ktzqyZ85ItnzQg7ndG7C49/NsHd2J3eO7sH10B7YNb8/cV2ozvn5ZZqZU5dPBrdk8piNbJvRk4+gezOrZmjkDOjLvP71pULkoz1YsSqsG1Zj50Whi6d8D8YXvtshc/C79gUo/7le3XiAL2kwg6cc0w/iVDpzARendY7ro7C3sLLcJLL266EM8up56ObwNiKkevGm9tnZ7QK6+7idTvENN+qoQ5ThYIoodywBHcfrLGCPaLaDDE9MZUncHg57ZTt8nNjDgyXX0KJtKm4IL6FjqU3rXOECXqntoXGQZzxWax7MPT+fpBybwzL/HU+/BaaQ8voRuT65kaJMdvJeyn9FtDzL6pS8Y1ngP3SqtpnuFlbxdbzv/ab2XCR0PMrrLNsb1X8fRXWfiL1O2ovHPvVgSSzoIx44vfndiSOdHNMYZJH7MU3dU3bGCJlO8raNfK+7Ny72HaZLmogmOzJe6CqWwVXxw3JLxX9tx4psU2Jmzj7FoLP46qwwLFbFAxEFQRC1iEYsMKw6oUghExCIqBJawsEUMS0ks90NYlgPRzE8DODbCEShboSwb6Qgi0XMoK8KebZtIXTyP+XOmM+7D4Sye+QGHVs5g7fuvM79XMxb1bsmO8d3ZPaUL26d0Zvfk19kx9nW2jHyNnR/0ZPOHr7FufBfWf/Q6n47vy5J332THwimcOryHk98cRJz9lvQTBzm0NZX9m1I5+fUhopEIduajee7EgWs701vivfWi140f4/Rji6brgialvPfz1rP7v8n3/NiwH5ibGuWwDFD3Y737nGgi0S8WTDZ0JywjkQjdunWjV69ebNy4MQtA3Xevui+vdt+I5TbcQsq4r1vpOAq2LPmMN5pOZvDz63in4U5GNNjN0FpbGFRtHW9WXEmXUktIKTiPFgWXUD//IuoWWMhzRedQv8QM6peaSv2ik6mdfxLPPjCJRg9NoGeVlQxrsoeRzQ4xvMkhXi21iqb3z6bNo4t5reJahj2/h1Ft9jLkpRVMHb6es9/Yme/jTMe2LaQCSwpsFUOoWLxOFKgfc1cdgh3G5HhumkROrJ/z3k/fN+lgyuOiIJYSRymwBY5lxzchsYTAUpIMR5AhLISURNPOsn3eYj6bt4jvN27D+f47sNOJqnOkyTOcFmeJiihOzEJZEmEJUPFnhW0RH6NxpEIKSURZnFFR0p0IUtgoIbBllFj0DFhnOHt0P/vWLSH9+AEgApyBtIMcXT2TT8cOZPX7vdg2rQ9bpnRl5/Tu7JjQnX3je3No0kD2f9SHrZN6snHa66ya/DqrZwxi/9rpZJzYA+o0Iv0YJw9sYcP8yXzywRAWTRzF9tVLiaafBSf+DLOJ1eiAFMT6dLvrXX0dFP3ASK/bRKxVZ2um9CbWZgJlv7zDxoCJUZq6y94xc9M5Fxj9WKP7Eb7vvvuOa6+9ljx58vDAAw8wYMAAtm3bRjQaBSAajV4MwI7CFvExbiFssBxWfLyZ3q0mMO3NfYx/dQ//eX4boxruYWjNvfR7cguvl19Bu8fm0/SROTQosIAmxZfRpNQSGpSZT8PSn9Cg5GzqPDqVZx/6iJr3jKNZobn0enoHr1ffRbvSa2n0wDzaFFjNy0U+pWWBhXSrupL+TVbw1svzWTf3ICodhBVBWOdQysIWIv4+ThlDONG4f0qFupq76mGc1uswibpV+n6Y1jao5ffq6O775atfr1T8Q1UxJ/41PSkEyrJB2IjMz+lawo7P5EnFd4eP8m7bFN6t8QyT6jZidd/+fJO6Avu7YzhWBraIxWcmbUUsZmNLB2lLhHSwFfGvCYo4m01XNmlOhLNOBra0M8dyIkj7LKeO7GXHshmsnDqCJZPeYt+ajzn11WbsEwfg+y/5fuca9qVOZtfCkeyZP4hd03uxb+qbHJjUlwOT+rN9Qi+2THmT/cve5eCGyXy9fwmxH/Yg0w/zzf6NbF+1gNTp4/l4xACWjBvOgXVLSPvmCxw7mslC4mNfpsYvCPD8gDMRUCXjA8lufo2y6wf6r59/+uWjl11vINxfl+W5XWkv6Lm/7of0dGAU4jxABMnp06cZMmQIZcuW5brrriNPnjwULVqUnj17snbtWizLArhI1/iYvoO0BY4NG5fsYVjn6awZf5xFbx/jP602M6rpXobV+YyB1XbSu/Jq2hefT8pj1ozHWQAAIABJREFUc3mpfCqtKq2g5ROraFp5BY3LLaZBmfnUKz6b2kVmUOvh6Tyb92NaPr6aFx5bQ4uCS3mp2Do6ltjFK0W20aboKl4oPY0BrRawctpnnPnaQkUUwspAqgykin93yHYEQsUQTgylLOIvZP4Rd9XdVl0HzSDAg5wxTpMkytfU5ZNSYitJ1IkRdSxiShCTNpbMXARuS2Tm22NU1MY6k86xzevZMmkcn7zSgXcrVmfUEzVZ8lovzmzZgnXqJA6KWMxCSkCCsmyiMYuIkNgCrKiDshS2sMlQUSJODNsR8W9IyxgydprPt65gzcz3WPfxCGaN6snsMb1ZNWs0+9ct4rsDW0k/vJ/oN7v4Yd9SDq/5kI3jXmPDqI5sGd2T9WNeZ+WoLqwe253PUsdybM8ijuxbzmdbF7NjzTxS53zEvEmjWTt7Khvnz+DIttU4547jiHNERJRY5nhs/DvW/l1EU71460BvNHVA01lVoomMiyY1DI10UD56Gt0PvHp4H25wgcwFOO+aXb/Z69wKYlcHIQTnzp0jLS2NtLQ0vv32W44dO8bx48f5/PPPOXToELt372b9+vWMHTuW7t27U7JkSX71q1+RJ08e8uTJQ8GCBenVqxc7d+4kIyPDwGwVdiwKwuHbg2mMHTCf97utYFrvg4x9dS//abGXt+vtYcDT2+ldeT3tiy8i5fG5vFxpGS9VW0Gbp1fT+um1NKuymkaVllGvzDyefexjajwyjRr5PqZx0WV0emoXHStupmOZTXQsuYt2xXbRtsRaetRZzOa532L9ACpDEYtEsO10HBVFOhZCSaSjUI6NdGI4Moajzk8OJeoNXC7JFcbpBULgomALA5x6wCbDOPV8fQNNCmxHElOSDCnIcATpSpChBFGpiNrxRw+VrZC2AhlvKM4cOMCxmfNZ2aYTY8o+yaxmLdg+5n2cr78gdvhLzm3dy4EZc4l9/TUyFiUaORcHpKjEyRA4EQtlWwglsByF5QgsGcGOnSF6+ig/HN3J9tRprJo5mpVzPmTRtNEsmvYBy2aMZ8OimexYPpddS6eyacZQ1r3fg1XDOrN8+GssGNmdeSO7sHLMG6we25810//DokkjWTjxPRZO/oDls6eybtEn7Nu0hh++PogTPYUSZ7BVlHRpkaEEQkmUlIAZ8ML4gQ6Qpq6miVn5dUdd0NIBS++yer8d7+57x/jcLRqNZh1383ZJQDIB6NXBsiwikQjRaJSMjAzOnj1Leno6Z86c4auvvuKrr77iyy+/ZNeuXWzatIktW7awcuVKFi5cyLJly5g3bx5Tpkxh6tSpTJw4kbfffpsBAwbQu3dvXn75ZVq1akWLFi2oXbs2Tz75JFWqVLngI30PPPAAd9xxB7fffjt33303N954I9deey3/+7//S548ebjuuut47bXX+Pbbby9gtjgO8bcNRVCWhTjjsG7eAUZ2W8zorlsZ/eoehj6/lcENNjO41na6l91Cm0cXk/L4PDpUS6XLc+vo2GA9L9Vayws11vH8kyupX34hdUrOpnqByVR7aDKNiy+nd/0v6Vp1Cz2rbqNbhb10KbOP1o8tY/ALazh1EBxLYqXH4suiZBQhY/EuuuPgKEApHCVwlEX8LfbBE32XW4wv+QjaErXsft28sIwzKH9XxzDAqYOoVJnrMx2FJSS2ZSNtgS0VUSVJkzbnpOCciBEVFlZ6BuLMWTh3FpRA7j1ExvxUvuwzlGXVGzKlSFm2vPgiO7p3ZmXtukyu9CQHx3+Ec+wbEBFidgYiFsWJ2qizEYhG42ObShFzHCxlYYsMlEwHIoj0E5w5cZijB7azc30qaxbMYMUnH7F0+ocsGv8BKyeOZt6wXszp3Zb9U95l3YShpE55h42z32PtuLeY3K0tm6ZNYNW0j1g9+2PWL5nPtnUrOfzFfn744Tgx60x87aiKEZMWlnIQDlkgooOZ4zjGcTh38wKb273UmZwLcC6bczcX9LzA52V6pnReBujtzibLPFy/iEQinDp1itOnT/Pdd99x5MgRvvnmGw4ePMiePXvYtWsXO3fuZOnSpSxcuJD58+czceJERo0axfvvv8+gQYPo3r07PXv25JVXXqFp06Y0bdqUJk2aULFiRSpWrEj58uUpVKgQefPm5cEHH+Tuu+/mjjvu4A9/+AM333xzFkPMkycP11xzDddeey3XXnst1113Hddddx2/+MUv+OUvf8n111/PDTfcwM0338ytt97KLbfcwi233MI999xD3rx5ufPOO7n++uv5n//5H/LkycPtt99OnTp1mD59OmfPns2qY8uKg5ByrPhwkRXDsRx+OGKzavbnvN9rDW+lrOHtFpvp+9w6ejy1gfZFN9Mi3zJSii+mY/WVvPfal3zw5nE6NtpASo3VNH8ylaZPLKdB6YU8W3QGzxb8mOalVtCv8Vf0rreH/s/tp2eVvbxWeS8vll3Om60WcGxvBBWVWLEoUtrE31JvZz7BppDSXcbnZD41ZGX63VXKOP26RckAqYlhhgFO/TrTgDqEY5xe9urVPyYFUUdiC4UTU6izMUTURjqKsyLCOTsD247gRCOok6eQX3/N8RUrODJtJoubpzCtRi0W1KrNykrV+OSBgky6/wHGPnA/y/6Vn2UFSjOuXBVWDhhE5OQxYvY5MmIZOEKgolZ8SZJUWMohqpx4l0RaWCKKJePdFFCIWITT3x7l6P7t7N+0nG0r5rBj0QL2LJjLkuEDGPxcFfZPGcOWj8ez8pPx7FgylWUjBzG0UX32zZzFriXL2Ln+U44e+pzTp78nIiKkqyjpMkpU2dhKxh3TUvEnMuzzL/fwsj0dBL1AJoQgEolkAV80Gr1o3M7Nw83HK6YufyLxXqeU4vTp05w+fZqTJ0/y1VdfsW/fPvbt28eOHTtYuXIla9euZcWKFcyePZtPPvmE6dOnM3z4cAYMGMDgwYPp2rUrLVu2JCUlhQYNGlCpUiWqVq1KyZIlyZcvHw899BD3338/d911F3/605+48847+c1vfsNNN93ETTfdlDWuGLRdd911/PrXv+Z3v/sdt912G3/+85/55z//yd133819991HgQIFKFiwIEWLFqVixYpUqVKFGjVq0LhxY5o3b06rVq3o1KkTvXr1omfPnrz11lu8++67jBo1ihEjRjBx4kR69OhB4cKFueaaa7jmmmu477776NChA6tXr+bEiROkp6cTjUaJv+BYxNmmjCEsG2HFe1Z2hkPGd4oD604y/73PGdhiLa9WWkybx1fz6mO7eLnYFlo/nsqrVVYxsuPnvN/zKJ0areOlmitpXnkpTSstp2GJhdQpNJPaj8ymw9M7eDvlOwY3/4r+jQ7weq299HhmD60rzGdkj7Wc/UYhLYFlx19QLIQT90nXXzIXvCsBjpQoZeO+zd5RDnCVAadpvFHv0niZn2lyyL02WeAMOqbrod/HfWxS6Y89eruSUmLZAkspbEvG38JyLgMrcg4rcgYZTYOMM5zeto0zq9ezc8i7bO3bl6k1nmF0sceZULo048qXZny1SsyrX5djw4fy1Yh32Nu+C2vylmXev4rzQYnKLOzei8iRw0hHkG5bxER8HFGoONu1HbBEfFmIQmEpQUQJolISteIfq3KEREXSyPj+MD8c3cuJPbs4vmk926d+yJtVyrPqrf7snT+bJbMnsnXxTFaOHMbIRk34buVaTh38krQzacSEje0oogjOqRjpyiKmFEI4OJYDEQcnEl/kL5W8gPVlZGQQi8UyGcrFwJdIXJtHo1HOnDlDWloaJ0+e5OjRoxw+fJhDhw6xa9eurG3NmjUsW7aM1NRUZs2axfjx45k0aRKjR4/mrbfeYtCgQfTv358uXbrQoUMH2rVrR5MmTahXrx61atWiYsWKFClShKJFi/Lwww9z1113cdddd/GHP/whi61df/31/OIXv8hicjfeeCM33ngj119/PTfeeCM33XQTN954Y9bXQ2+99VZ+//vf87e//Y27776be++9l4IFC1KkSBGKFClC5cqVqV69OlWrVqVu3bo0b96cZs2a0axZMzp37kynTp3o2rUrAwYMYMiQIQwePJhRo0Yxbtw4xo4dy/Tp05k3bx7z5s1j0aJFLFu2jKVLl5Kamsq6detYv349GzZs4P+z997hdVTX+r9crikhAe43F1JIuAGSwE3gJoRQHQIJlxAIJSH0AKYn2I4xYLoTWmgGGxIwBmMbY4oBFzDGDWNccJF7L0KusmQVq50yM7t+fn/smdHoeI4kG6fc5/7meeaRdDQzZ2bP3u9+19prvWvZsmWsWrWK5cuXs27dOjZs2MDGjRspLy9n+PDhHHfccXTr1o1DDz2U3/72twwdOpRFixaxZcsW6uvrw5rlkdWl0EpgdIASBhWADBRC5DAiDz7sWGEY+MdP6XPORzxwwWru+8V67j93Hbd2n82tZ33C3ZeUct/vFnLHpbO4/ZLZ/OHcj7jx5x9xffcpXHX8e/Q4aQpP3bCdF2+v5/nbKhn4hzKeuHE19146m35XTODTCZWYLPheEOakG5QGFYppWxuuooeplq6musRaDdbiKgT/LzHV2wK2tGPTgHJ3GWchqy0GnNqkp36aRK64Y04aIzVWGhdLaRRKehjjgfYRZWv47K3RvHdzT8b9+kpeO/nn/O27x/DiiT/go99fR9Xbo6id+RE7Zk0ns2Y5ZGpR5euZ3vce3jzhbMr7PcbGkaPx15dhPQ8pNMIYAmPwrSZvJL5RKG3QUhFlEgkdoIwz4YU0qBDUrVRYlcOqDNbPoOoq2PbJRF646hImPvAAn02exMcT3mHVJ5OZO+RFhlx/I97qtVhPII3FVxKhJTJSxLEKbaP40pBx+wprLCpMvyzcrLUxm6ypqWHjxo1s2rSJ9evXM2/ePGbPns2sWbMYP348Y8aM4d1332Xw4ME8/fTTDBo0iAceeICePXvSp08frr/+es4//3zOP/98zj33XH784x9z/PHHc/zxx3PkkUfyzW9+k8MPP5wvf/nLfOELX+CAAw6gW7du7bK6kpISDjzwQA4++GAOOuggDjvsMI466iiOPPJIjj32WE499VROOOEEunfvzrnnnst5553HRRddxLXXXsvNN9/MLbfcwl133cUjjzxC//79eeaZZxgyZAiDBw9m8ODBvP7664waNYpRo0YxduxY3n//fd577z2mTp3KjBkzmDFjBnPnzqW0tJTS0lIWL17M4sWLWbp0KcuXL2fFihWsWLGC1atXs27dOtavX09ZWRmfffYZ5eXlbNq0ic2bN7Nlyxa2bt3Ktm3b2L59OxUVFWzfvp3KykoqKyvZsWMHNTU18c8tW7Zw9dVXU1JSwg9/+EMeeeQRJk+ezLp166ioqKC5uTl2g8ikipfynd9QWZQAIQKErCeQDVil+ay0gadvm8WDv1vIX67aQP8LV/CnX6+l7y+Wcf0ps7jh9JncfmEpd140jz7nzqD32R9xS/fJ9Djhfa79wQT6X7iMl2+v54W+lQy+aysDei7jz9d/TL/fjeGdwStoqtDIvMT3sy4zyFqMjlx0AdggLGlswyJtGotswYywtvq/FOMs5iuE9HzZFpBqbSKngWWSlRYeV4x5Fprc0XfGRaisY5IxwIYlA4wxcVE0E/k2tdMjVIGPUgIh8yDz+J+VUfbaWyzu159XTzyTV350GiNPP5NxV17BwiefYt1ro1DrN0BTIygJQR6lPEw+Q9mYCfzlhJ+y7OWXYcd2TFMTRgQEvkAJjZaO4flakbeSwLpyGZHZboxCaQ+rfTACowRWSIwwoS6hJjACqTMQ1FK78CNeveFaJt9zP5unTOXTSe+zcsZkZg15gReuu57smlVY3yPwJUoorBQY4WNVgNXKmWvGhLO8jnPylVIEQcC4ceN48MEHeeCBB/jzn//MrbfeSo8ePbjxxhu54IILOOOMMzjrrLM4+eSTY7D7xje+wX777ce+++5Lt27d6Nq1K507d479dJ06dYr/jszJbt26se+++9KlSxf23XdfvvKVr/D1r3+dww47jO9///sxoJ5xxhn84he/4JxzzuHCCy/k6quv5uqrr+a6666jd+/e9O3bl379+vHYY4/x5JNP8tRTTzFkyBBGjhzJiBEjeOedd5gyZQoTJ05k8uTJTJs2jY8++ohPPvmEOXPmMGfOHBYsWMCSJUtYunQpS5cuZeXKlaxZs4b169ezdu1a1q1bR1lZGRs2bGDDhg189tlnbNy4Mf6ZXAjaunUrlZWVbN++nR07dlBdXc2OHTuora2lrq6OnTt3xi6GxsZGmpqayGQy8cJSPp8nn8/jeR6e58VukKRbJHKX1NfX88Ybb3D77bfz1ltvsnTpEjZt2kxdXS25XC50lxSqeRmM9rHax2pnDivjIU0DnmjCSMuqOXUM6vcpT96ygBf6rGfADat56LKV3HvRem47ex3XnDSf3/14BtedMpXrT/mAXmdM5eaTPuD3J02i54lTufPnn/DE1SsYcucm/nrHagb2W8Dz/Wcz+Y017NzsEkr8fCNSNSJN3hEJjdNyMHmMyWKM3zLGQ5+stcYtbFngX7WueuEKd/J/xRZzkswwCXbFGGdbgFl4TiHjjApTWWtRxuJbizIKE9aRNiHj1CFY6kCg8xITGISXRTY3QOCxfcKHzLj5Nt488X8Y9t2TmHDuJSx76HFqpkyiZtFcyNRDIBBCO3GEfIDyPbT0MFu389qlN/DejX0xOysR+Egr8bUkEMqZQr5GC4PUGmG1yxwyCiOdSIixKrxfgVEBRoow3dMBrtAGX2uM9LC5WqoXz+K1W25kXJ/b2frRx8yYPJYVsyfz8ZC/8cIN11G7bDEI37kChMCKwPlrhQ9KOiES4/KV3WKZwg98lFK88847fPe73y3K6pImbMTovvOd73DsscfSvXt3Tj31VE4//XTOOecczjvvvBjorr/+em666SZuu+027rnnHu69914eeughBgwYwFNPPdXKbzd8+HDefvttxowZw5gxY2Kwmz59OnPmzGHhwoW7MLply5bFrG7t2rUxo4tY3aZNm2Jw27JlCxUVFWzbti1mdlVVVTGjq66ujvfa2lp27txJQ0MDDQ0NcXhQU1MTzc3NZDIZstlsDHjRCn606BWt7Cd9vkk/cqE0YZKEtLWeEJ2bzWaprq6mvLycrVsqqKyspinXTF7mXS66DlxarXHZcdoajFYYHWBt4EBTWbQVSNOE7zeC0mxemeOlh+cx+P7FzBgWMOL+bfzp8iXcf/F6+v3qM3r9dC03nTCf6384jZtP+JC7z5rJfWfN4r7/mc0DZ86mz6kT6PmTN3jr4bWs/aiZ5Z/UUbEmi98ESJC+hxTNSN2E0j5KOZ+mMgptA7T1MDYAG9ZMsgptJQZnqhs38P9hAFlsS2WcheAFrVMd015yW+Z5W2EtbZn0hXv03daGP41BaEtOW6QRGONhtO9WDHXIrIRAeRKVVZiMD7lm/A0bWPbci7z5s/MZdvSJvHHCz/nsiWdpnjUbUbENjAIsgc7ja5+s8MgL7a5TXU3j0iWM73sXj55wOrMHDQYvT973EEGADFcHtXKCHnFpitAHq7VjxtJIN8vaEMyURWnbkhaqHLAZpdFZH3JZapcv4N3b+jCmV28qpkzikyljWPLJeKY99wR/vfJKmlYuRXkZckGAVtLFwCkfo4SraKltuBusNphQxCSbzXLfvffFCx6dOnXiK1/5Crfccgv3338/999/P48++ihPPfUUAwYMYPjw4YwYMYJhw4YxevRoJk2axAcffMCkSZOYOnUqH330ER9//DEzZ85k9uzZfPrpp5SWlrJo0SIWLVoU++1Wr14dr2CvWbMmZnVJUzZyDyTN2crKyji2sbq6mpqamvjnzp07qa+vp6GhIWZ1EbOLQC766ft+vCdBLwK+YjGiyZCrwhr1hZN9YbxpYR57e7GqhVZXdIwQgkwmw86d9WSbPLxAkbcBeZ13VoxyIi6+NuS0IYisM5l3JSm063OBCFA6i9FNSD8gW20Y+/Iynr1vNqMHVPDiHZt4/Np19L9kHfecX0bfM1Zw10+X0OfHM7i7+yc885sVPP2bpTx+/kIeOXsBD5w5hV7dh/HCbR8gKiym2YCSLmFECbd6LiVKR+0bPVtoMVqDxY1tMFjCv230N7iSyP/crRVwFlvgif7eZVFGp6fj7epvbBuAC6+b5r9IO8bYcHEj0CGLk0gTEJgATyvyxpKXmiCTA+NDfRUzn3mGSTf3YcgPf8q4865g0Z8eo2Lih45dihxG+ijhIQIf3/h4ykdJTeBJ0KCrqnn793/kxQsvYepDj9Kwbj3G81GBcB0ijjWUxOrqSsXpng5AFcqIOPjcaB3KaIEyTnhE2bAjhbnzxssgylYy4767+eCGm2ie8iEbp42nZtZEVg8ZxCuXXkK2dC4604wIJFYrdOBA01oXr6nCDqqMRVrjsjSUpKGhgeHDhnP44Ye3Ypg/+clPeO6551i9ejXLli1j6dKlMchF+9q1aykrK4v9dZH5unXr1th8TbK7JNhFQBeBXWNjIw0NDTGjS7K6XC4Xx02mgVzE8CJwKgxeT7Ngkn21PRBLs6jSfPqFYyJ5XjGiUWwvvG4h83ShXRIjXP55YAWBzqNVHrRASUVWKrLWkJECFQiMCMKIDuMy3ZREaZfFJj0fm4Py0maGP7aQQbctZdDNZTzxuzL6/3ot9/1qDXedtZQ+3Wdx109n8PiFi3jhmvUMunI1T/52BY//cgkPnTWbO382hnt+M5RNC+swnibwmgikh1ROj1arAK0FSkXPmWzHJI6YeEEoXBWK0GCvguCebLvFONNAtSOMsxiDLPyOtE5dCKZxZw5L2yIV+AornNZgYAXCupxXz1NkcwIslE8ay/Tbe/PueRfR/5vfZvTV19M0aw6yqgq0QKCRJtTZVAFaegjpoZTAKI3NSWRTjinPvsBfTjmLlS8PI6jaBtLDz+XA2tQ84107vsVo7dRfjA59nWGAtwFpLMIaFC2uBmUFprmaxllT+PjGa5n6qwsRLw5hx+Bn2TnkWVb0u42/nfRj5j36EFRVIfMeRgYYLZ0ilHFZU8JaAmsJLKHrwK2m19XVMWfOHC666KJ4QSbKgz700EPp0aMHmzdvpq6ujurq6tiEjdhcBHZJkMtms6mMLi0uMwlOaQHvxUCtI8cUglZbESBJy6g9sznZRwsZYtRPk9dva8ykHVNISNKA1D27jFfKtfEwyseoAKskWlsyUlGXzxNoiRQ+Ku+jA4E1BqX8kGxIgiCHFgKb19gaGDNwHQ9ePoOB12zgmau28OhvNtD/3JX0PX0Od5z5Mc9ctZxXem5k8M1lPHdDOQOuXM8zF67m8XMWcd/PJ9PvopGsnlkFwuL7jQTKR0gbuqKyKJ13LqPQrZbEmFbWJRAuCbnP/k5AuLtbh4Az7YGKveBiL7oYcBYuGqV12EIwjY/TjmmaOJhd4lmBMALtCWxzAFWNbBwzgZEXXMiz3zuWF390EkuHvkTz5vUIrx6NRgmDFQYROL+PtBKhPWfKBppAKPAUubWbef6qG3nlmptQm8uxQRPCzxAoTSATDMW0gGGrwWxcHrwxEXCaUMBAh6vsFmEMAlf7XCuBFj5WeYiqcqb1682Q7x7FG9/6FqOPOIrhR36LYUd8g1eP+k+eP/ybvHv+BcjFS9G+hwp8AiXwjcY3GmmcP1iFjDNZSz2TyVBWVsbf/vY3DjvssNhc//rXvx4z0NNPP53S0lKAmOm5+MCWQRy9o6QqTyHrSjN50/6XxrLSALJYPyk2+RaywjTWmAaOuwNshd9bjKmmAXtHj9cmyoaTDgCN7xZRVBAuCir8QJIVAl9KjJdH19dCNof1BdbPY5SHUr5TTJIS6UvIw5IPy3mkx3j6nDmGO8+Ywb0/L+XuMxbQ5+RPuOuMWQy5uZzX7tjKa3dsYVjfzTz/h008e205z168hsfPLuXes6dy50WvsnFhnVtBV1mEDVzShdIYE+amJ/pMIca0bEnI/NeBzzZN9cIZdBfWV2RWTxsoyXMLZ+O2ADN5TPL86DOpDb42BEYitXCzpxSgNE0LlzGjVz/e+ekvefGHp/Jhzz5s+2AcZGsw+OR0Dk9KgpwEz6CyAuUphJH4JsD6GhW4GEuyeVa89R5PXHQ5K94fB14DMrsToyWBsQQ6MjmcH2aXQWhtCFQWJ1ogXHaECsHUEtaDcZqhKmISQR7TXEdm0SzGX3I+I//zq7x76JcZ3rUrw7p25uUuJQz7Qjde++qhjDz2v1ky4Gnw8wRBnqyfI2cMnjZoQxgfF8XJhdqgYSZPXV0dixYtokePHuy7776UlJTwH//xH9xwww185zvfoaSkhCOOOII777wzTuPzPC/VDE6ywDTgTAWCxM+0iXt32FraZN8W0EZb2n0kP09zLUU/00C68BmSx6adV4yEFN5Hy/1HfnMR9hfnElLSZcYFQYAMPAg8alYtZ9wjD7N47FhkUyPGy2ICV4JXKomQCiMsNRuaePlPE/nLNRN48oq5/OWiBTx83kL6n1VKv9Nmcd+ZsxnZawvv3L+D0fdvYeRdm3m510aeu24Df71sFU9eMId7zxvLozePpnmbws8LAp0jsD7SOoZsdQj0RSagZNv+q267rKoX65yFD9XRvdhM3NasnBxwxcQVnJmnEQayQpELAoT2yftZjBI0LVvK+Btu5MUfncCA7x3HrD89ir+lAmzgOkwuixEBUmtyWpIPO56VznwWVmO0dXGVSmM9n8kvDeXuiy9BNdYg8/UYnUdbp1gtlcXaXdlT/HzGLchoGzK9GDQdcEaOcWkUUgkXyxZ4GC+Lra6gfPhgRp7434z91qGMPXh/xn5xX0Z368z4L/wb4w7alze+fCAjv/WfjL3yKhqXLMFkmvADH99aN7GIsH5L9G6lwcqWts/n82zfvp033niDI444ImadZ511FqNGjeLcc8+NUwN/+MP3zRteAAAgAElEQVQf8sknnwC0UgDSWscstHBXBewibXJti32mHVcMjIuBaFt9sCP9uPB7045Jfn9yTHUUGNJANW0yaNlNXMlAKYOvLIEyeFJjZID1mgm2fMb0vzzK0Cuu4K83XcecieOwInDRJloitUQoBQKWTNvIwD7jebFXKS/9fiV/vWYRAy9fxuPnL+XBsxZx16kf88I1q3n3/u28038TI/utZWjPlfzthqU897v5PHHJRO44/3kWvrcRkwHf0wRG4pscwngoI1y/NzYkE+1buP+K2y7qSIU3Xfh7sa2jHaHwe6Lf0wZbC0C29hlqrUN/mUJo5YK9hUR4PjRnkMuWM7tvX5790Q9476Zrqfh4CrJ2JwiLlC5MyHgSJQSBleRsQNZ6SBtgrMRqjVKGwLjgXDyJ8Twaq6vYWVUBOh+X9w20wkgntBqZUCYCwuSgt8bFzkUlPKJ83JD9ae3Mc4kmkAFa+lglsNlm9NJFfHzjNYz/wX8x5fCvMP6LXRl/QDfe378rH+zfifH7deG9Qw5i/FFH8tZPfsrCgYNgxw50czNCagJfO+V6qZHW7UpbrGoBJKUUjY2NrFmzhuuuuy72cXbu3JkHH3yQ2bNnc88998Sm/Ne+9jUefvhhtm/fjlIqDsnRodnXluVRzErZ0z1pGRVjc+3137QtCXLFXAjJYwvvY08YZ+ExhZNIy30lxo4FbUPA1C6lVxqNDfKIrZsofeE5hl9+Ka9f+lvevuc2ypfNBeHC85TSBNrVWteeZda49bxw93Re6rOY4X1WMuQPi3m+xxKeu3wVT5y3jHu6T6fXKW8z+A+ljLhnMS/fPocXe33CoOun8sjl7/LgVa8w6ZW5mEaQeY2UBt8YfJtD2CYXbqRtqxpge+t9/SO3XRhnsb935yEKH7wtwExjnEnmmWScyZ/x4oLw0YGPDjRyazXLnn+FMRdczGs/OpGpv7+Z5pWlgI/wBTqnsHmQwpLXTiczbwOE8ZDW7coEjnmKMOvH97H5AC0EEkmARUifQAqCMDbSBi4jSWuDtjoEyNYhWFEmk/vpAtGtsiCNA7AQOIXRKCMx0kNnm6Guli0vvcS47qcx4/vHMP0/DmT6Qfszcf8uTNynCx8d0I0JXUv48KAvMPEbh/H2cT9gwhW/Izt/Htb30b5E+hrlOxHbvJFkkXjGOA1R0wJomUyG2tpaxo0bF5vnXbt25dBDD2Xs2LGUlpYyevRoLrroIkpKSth3330577zzmDhxYqwSlBThKBzsaSCa5m/sKDMsZJfJz9rqk2mDtNj/dvd+ksdG1ywEzo6OnfbAN2bz2vmvAw2BMXhaY41E1layaMRQXrnyckZdfhnjbr6RVe+MoLGiDJ3xHIEw2om/yDzatyyYspGhf57N9BermTKwimF9lzL4xmUMunw5T56/iEfOm8V1P3qeac9vZvWHdYwdOJ8hd73PiPumMXbQAtbM3I5sUgTNWbRweejCaDyTx6cBZbIuDz0E/2LMMq0dOtJ+/6htjxhnGmtIAl/hsYXXSbtu685faLLtCp7GGAdwgYfJNMGOWla+MIKRp/2S144/jUk33EDzwnmQyyCzHjqQyEDh+QZfWzwMgVWIpGCqdmESVipsoOPiVoGXxwQ+Od+jXuSR1uJrHeZ9G1Sg4/suZEPxwNHGSWaF9X2UtfHCkIkALAwRUjLABB7Wy9OwcgXvXXM1H5x0IjOPOYqpX9yX6V/clwndOjPpS/vx0Zf2YdK+nfjwS/sx5YjDef+443j5lFOY/dQT0NhAkPexyrqJRUs8G9BsBXnrgut14v1JKWlqamLTpk307NmTzp07x4o7F1xwAevXr2fdunVMnjyZhx56iK985SuUlJTw9a9/naeffpq6urqwEJwfl3IoLMNRyN4KWeOesNEkQO8txtlW/09uhSZ52n3sDnC6gxLxysam9ietdby4oo1FKKd1IMK4SJvPUD7lQ1696QZeveoq3rjpRkpf/Btb582gqaYCnQ8wyroQIe0jVR4MlC+t4s2Bc1j5fhMzXqzhpT5LGfL7VQy8bAkDfj2fB375Hvf8ZjgbZ+ewjRDUCHLbPXLlAaJBYT1Qnk+Qb8IYhQwcoZA2QNpmlPViUQ+3JtC6vf+3bJ9LyDiNCbY2J4pvaTOq6xgtPrHoekrtGpunjUZJic14mM+2sPy5F/jraT9l3K8uZP3AZ6lbtAjrB0hpyeVC1R6jEEYhjUQZ97eTtVLO16gURkmkVE6cQ6nQ8e4AVSgnUpzXFqlwOeVKh4Ia4WDXLWZ5kn1ETNOGP1Xol4p3axDK+ZyMFmjhYXIZPn51BAN+2p2Rxx/D+GO+wQeHHsB7X9yXsV/ajzcO+Dfe+UIXxn6hM6MP+jdGfO1AXvnON3nqe0fyzO9+Q8W65ShrCYTGBO7ZBALfCpSyLl+5wA3i+z5VVVVMnTqVo48+OjbXO3fuzJ/+9Cfq6urYuHEjCxcu5NVXX+W8886LxTIuuugiJk+eTC6Xi0OPku6W5EJSGtssBIj22F5bjHNvMJXCib6w37bHONt6hra+zxL5QkM/YDjBuTZLTCwheArtOT1LpTBagZ+lYsE8Xr+tL69cdgVv9LieqU89xoY506mr2ITfnMEI5x4SUTC68VBBDn+nx7Q35/PSA5MYdu9CXuq9kr9dt5KBly7mL+d/TL+zRzD2mfnkKjVGOmk6HWjI43LflULIHErnESLvSIFy1ReUCV0COsw9pzBus+0Infbar802beO97Un/+Fx11Qs76+7OrIWztdY61uBzYBkCqVYoKfB9z2U6SIURYR52ZS3LBwzhr6eeyRvnn0vFOyOxddvdrKfA04asFmS0h7QuZMOE5VG1FhipnMmsDVaBks5nmrdOTUYJD6MFyrjVZ21cKqQWFuM7k9vXkkAL4jTPkFm2evHahoIGBq0tyroqm9q0sE1tNUoFGB24RaF8lvWzZzLmzl689uuzeOmEI3jjqP9g9DcP5tXDvsTr3/0qb333K7zxrYN485iv8uYZxzLj5stY/Oj9rPvwHZrrK8lpgRdIJ26ipVPWNgobWJAQ+EEr37GULiB+06ZN9OrVi3322adVUPzYsWPJZDJUVlayatUqpk+fTr9+/fjGN75BSUkJ3/zmN3nyySepqqqKJ9dk7GYha4raqNAH2lZHLwacxfrdP4pxFkahJD+Pzm2PULiTwtjFkHFGYWvWJlweNkydlRKlA6TKo4WH9fNYL8e6aZMZ1rs3Q6++likPPczG6R+xfdN6GpsaXbVWaVypauP88Up5KJ3HBh47NzYybugcnvrj+wy4cRaPXz6DR347mfvPf5NRf5rDzvU+NgBfNSF1Bqk9RODKXngqIFA5hM4jlU8Q+FhDCPgSbYQDT+tElVsmidaELG0RsMPtl/IO98Zxye1zAWeaSbU7N9vK7IhNfY02Ai01VoXV7aREyzxC5/GNRAUSmjPo6m2sen4ww7ufy7DzLmHtqLegoQEtBQHgaU2gBVIHKOM7H6YWaCXD+Lco4F05XUqlwrpBUTB8ixCG1mGOsQ7TxKSbSXW4qumewyQk7goYiCmIJQwHQ8xS4/rrLgxJyQAV5DFBHl1Xidq4gsZpoyntdzXzbziPmdf8gq3P3sf6x3sx8w8XsOD2K9n+zhBM7VZ0pgH8DEp7+DogUCFoKQ1GY7UC7XyxRre0f5J9bt++nQkTJnDkkUdSUlISC++ecsopbNu2jXw+T2VlJeXl5ZSWlvLSSy9x5plnss8++9C1a1cuuugiZs2aRTabjeXpkhZDJHfWVkXNjjDOVLdIwbm7Oyh2ZzykgXhHPi92PSLzXLnQtXjx0Gg8o8kaiW+df9ool/3jSYUvFfgC3diIaqylYfNaZo55k7cHPc2qydOoXbsBr6GJwBNhKrDzb2odMU6n0xn4PtLX1FTU8+nkFYwdsoART0xj5MBpzP1wHY3bJdoHJSxSCyeKbAUqygbSIswMkpjIojMytKScPJy1iij9uL1Jcnfar2ibsmt0w+ftH39XxtkWTY5mjtZhJ9YBpw1CyTXrRAC0dAzR95GBROfzmK2bWT7wGQaf9jPe+NVlbH1tDLaiFiskgTHkrCawEqk9J5KhfbQJUEoiQ1Nfax2mn0VlUyMVJRPmcetQts7E6tRKKVRUd90UBirr2LQydteYv1btp3WYhmldiJAOPzPKgbqWSOkKwiECCLLkt61k/vN/5uO7evDeHy6h4t0hrH31SUb3+g3j77qWZe8Oh3wjKsgjg3xY510ijEIo6SYhbbEmFBuxkYsligdsKUsRlYDo1asXXbp04cADD+SQQw6hU6dO3HbbbXE2UH19PZWVlaxdu5ZJkyZx5513ctRRR1FSUsLhhx/OX/7yFzZv3txK3T1t0a/YZNwWC00uMBXri3s64NobA4XjYXd/T9sKmZfTFHDuIGUNwlo87SQIVQh+SrmVa+sLvK3bWTlxMtsXLCC/pZxtKxezZsFcKjesJ1dbh/EVMohyxRXWhq6o0EWktSIIJJ4XIJVB+havTtNcmSe3UzgLS4EUxgnfxPG64XtVAhNexxiFta4/u74W/jTa9T/dApzJZ2+r3XcX5NoC4M/bPzpUcyjtxtsCzvYeMm0WgJDOK4M1GmEFeSvw0AgMWlmsZyCv0VVVrH3tVUb86DTeOeNcNo4cDZV16PomlO/jWUPeutrMRvlYGYAOYnCIGKLzp4YNa0M/ZPRsOgLM6CW3FnbQieJRaQPemuKiD7scH/k7dTQbO6UnpYQTDpGGQAbs2L6eD4c8ypgH/sCovtfx2YdvsXLsUEbcdR3jn7iLpVPGYfPNGD+P8LMEysfXAt8oAu2A3hrTojhjVQjgrRdorHWlJbZv3878+fNjM/wnP/kJXbp04Ytf/CKjRo0CiMWKa2trWbduHQsXLuTll1/m5z//eZy+eeGFF7Js2bJYvq4wTjctiL4wXjKNWRZjnGmf7y3gTPbhwvdYzKRMA9vCLVL9MRbnlw5FOYjEWIxGY5Ey8sdrJxtnNXg5bHU1y0aN5vlrb+bt/g+x9dNPyW7fQlNlBU11NQjPdxVYVaSjoENGGFaRDAU4tDZIqfA8gZ9VqJzBehadN/g54YBXRApPMlQ3AqNxxCGsShn3Y6NaJup4d+6iyCor1l5pGLK7bLMtC+Xz9I+9yjgLO04xxpnGUN05bga1yqC1wDMegZFOOUhadGAgK2ieX8qHl1zJyGN+xKyed5Bb9xk256OCgEArskbimQAdqgM5SbUIMHXMDK3ZVbUpfhaTHmTdVvBzKwZUBFALr+FANmScUacKQVNriZQCX2lyRlFVu5GP332Zt5+8i7ceu5u6NaWUzZvIyEdvY+zABymd/D65nTVY4SODHFIHBEYijCtQJ6NgaStRhBUFI5C3rQFAKUUmk2HLli3cfffddOnShYMPPphzzjmHkpISjjvuOJYvXx4Hv3ueRyaTYdu2baxdu5YPP/yQPn368O1vf5tOnTpx9NFH8+yzz7Jjx4647lCyzlDUbmmKQ8Um9LR2TbZ3dJ2oP+6NLeqvbQF2R4jHrtdt8WtqnPi1Mi5BQiuF1OHkop2rRfkeQvpoI6Cukk1j3uH1G37P0Mt6MPIPt7F91qeQyyC8LIEIkEYRaIM0NjSbdQyeETOUMvkuDEpqV9BNhKBqAqT0nB/eONaqI9eVsuH4iiyJKBqm5frR7y2ft+/H3h3GnrYl33/hBP15+sfflXEmPy8GIMlG0MY5rLUwTtBX+lihMIFFCmfKZlYs44Prb+SNH/+Ej6+7mfy8Umw+QPoBgRA0y4CM8DBWYoyP0QFoFa5cR/fi2KY1u84+uzDHlGctNlDbGjzFB76NmW/U2ZRyPiMnuBygVAAyj6jaTPnkt3j/sTsZN+BeMptXsmbGOF5/4FbmvTSALTOmQkMjxsth/BxGCxdUb0zonjBYDNoopG2JBEgG5icZpxCCqqoqZs2aFWt1XnzxxXz/+9+npKSE66+/nkwmE4OdlJJMJkNNTQ0bNmxgwYIFDB06lHPOOYf999+fbt26xb7P6L0XmuxJc74thrDLRJXSBwsn772xpY2HYp/v7neaxHlORzNcuNEKrSI/YejKkb5bQc9lqPloEu/echOjrvgdr115PSuGvkZ+fTk2l0dJhbRuQTPQBhESB60KU1+TLpswhEhKXAVKH629UPTYRxm3uJN0sel4MbTl78i9BdHnrX3/yXcFrdOx9/ZE1xY+7cm7arN0RlsMshhwtsWsCldRCxvP6FAwWFp0IMELMJ504Q7SkN9azvt39uFvJ5zAx9fcQPOsudi8j/SceK9vDZ4xBFqiVA5rAowWWBN2nlC2zRjj/Hs2XWQkDSCTz96WKdlWe6QBQATiUWeLHOoq1C90xeOyiIqtNM74iM+GDOStm6/grXtvJbduCZ+89AzPXPw/zOx/B3OffIra0sXoTAaTz6KlHzKFKKMpZNs6ctpHcZy7AlEk0tHc3MzGjRvp3bs3JSUlHHPMMfTv359/+7d/4+CDD2bo0KFYa2MVpGjhp6mpic2bN7N69WqmTJnCzTffHMd9/ud//idDhgyhoaEh0Q5p7pDW/SX5WRqw7skA+LxbMaDc3fuwidhNY4zza5pIt0A74Q4lCFSAZwRK+1gvT9PS5Yzv+0dGXnwBr11xGR8/9AhVn8wmV7kdmfeQ0rm/hNIExhBEilwqsr5aj8/IgrCWsA/6WCvjOufKBG4hyYTszVqsgaTZ3Xo8pJOI5HG7nrP3XSt7e+tQlUvoOOOM6G+x3OQ0Bho3lHGhOr7BMSRPoHyBFQIadrLyb4N44tjv8MF1l9O8aD7WU8icQCuLUIZAh6FCWjp5LeNhTYDSkiAslBYJp1qjYz9kqt8xhYEW3vuu7LF4LGFx1lnIOGXIOEOnvQpQzbUsGDaMp848m0eP+R7XH3Iw955zBtXzPmFE31u56qsH8ef//h5//PZ/8UyPmylfuhS0RHlZpHDhRjZchXULRBIX8K9jJm4LnjlikJ7nUVNTw9y5c/nqV79K165dueOOO+jbty8lJSV873vfY+bMmRhjdqlymcvl2LFjBxs2bKC0tJQXXniBM844Iy6De+mllzJ79myCIACIz0vGgCbbPC2LrCNtH/XZvbH9vRinyzw0WIPTFJDKCV7jGKcNAjCSjMzQqHP4Ok/Tpk28e+9DjLjsMkZdcSmTH7iXDRPeo65sHdlME4HWSGGcLkEk7G10YhKNyFDBs9DymcWGoXIGg8ZiwLroFxsySRuJD6c8e3sTS7FxsbvtV7Rd2/mevcI4Cyls4UzeHnCmnZvGMNOYXHRdpQx5ZcgbjWc1wkhstpHa6TN4vfuZDDntBCY/ejcWCJo8Z2ZKx1RdtbzIP+kygUyoHCOMDaXVQpMkEUZUOBDTwLLw2ZPH7T3gbGGcrphcgBB5tMgzZejL3Nv9Z/Q+6jvccdKJvP7wn/EqtlL6ztsMvulanr/yMvqffT5P3tSTtYsXY43GCA+tnEqODRcanLCIwhoXGmKijCbbemKLQCqK69y6dSsPPvggJSUlfPe732X8+PGcdtpplJSU8Otf/5odO3bEvs7kpOv7fnz+qlWrmDx5Mr169eJrX/tanPM+aNAgamtrAVqxnuS7aY/h/7MYZ5ubTfxM7uAoZvKflsjRiVEWhHFpuNYlbBgZYHWAsoKMzqJUjiUffsjgm3ryytVX81afnqwf9w47Vi2lfmcVTSpP1iik1GENKyd2LLUrFKhjpS5awC/sByYKGcL1DY1FW+dKiEDShFk/Fh0uNupYNbMjQFn4/12a7l/pPaZsHTbVO8o422MEhSwtvm40YKV0+pZa06x8lPGoXzCPoaefzeun/oxP+98PdVvw/QzSl5jAmZ4mNB2UMSgbzazOL6S1CktRRB3GhOosbUuYpbLiFGDdm8DZEufmfJ1B4BMoD1G/kx3zF7BpykS2L/gUv64GkQvAy0N9JXrrBtheDfVNyEwTRjgnvpBODMWEavLW6cuFrLO1qV64J7O1qqqqmDdvHkcddRSdOnXij3/8I8OHD+ff//3fOfDAAxkwYAD5fH6XujrRns/nqaqqYsOGDSxZsoS//vWvdO/enW7dutGlSxeuuuoqFi1ahFIKIFWyrrB921uw29tsc3e2VkDRSo7XtmCodaa5tbiwNMKf2mAlznVldJjp5WP9PDrIgfSguYHmtWv54JlBDL3jdha8/iq1y5aQqdpGRmTIGEnOOqC0QmCkQGgRLra2hKE5C8zdkRvqFosGl57h+kcElBoc4bRO/MbYMCJEo2m90NtRoCzGCIsd/6+ytVusrXBVMzquGFAUmvm7mAOJyRWItSstYUynVKhA4nt5lMhDTQUf97uHl79/ElN79IStVQReHl9JAj+LNR7GuCyguMyucYLAyiq0caZvVHMnqbhubfpEUYyBQmttxkKg3TPgLASsKA1UomRAIHyCwEPJPEZksTaDkk1IGeB5Bl8EeEE9gdiJlgKZ91CBqzsjlBMzllrjKxnWrraOjYY1j4wxoaxdupsmYp65XI6ysjL69+9Pp06d+K//+i8mTJjAXXfdRZcuXTjyyCOZPn06QLxSXuizjHyfW7duZeXKlUyaNInevXvH4U5HHnkkzz//PA0NDXE/K6bwnuY+id7Pv8y2m4zTRIxTuxAfq9xiobASqcKie40Z6hYvh4pKvE3lrF/4KTMmjGfTsiU0bd2CyecQIiAwFi9iq0qitcA3nhP5jrUfHFgWpj1aDK6WuURZtxKOUaEUogXlXAqEk4KxoBIq7f8XtqKMMw0w2gLONPYZn2PDGStSBrLWhetEYBv9rY0LUG/Ou6DvXCNlI0Yw5Men8MbPzmXx88NRGUvW1zSqAKGasLY5lOEPEFoThFUvPeNEPFQYqxaZqpFfzxizS8hQmkmYBoTJ9vm8jNOJHWhailbJMCxEuOJWMsBkm5H5DIHOklMNeLrJ5QhnFUYpAt2MpxsQQR7lByjlI7XvKh6i8bUkr4RbpY3a2SpXdVO3DkeKnivpo458nTt37mTKlCkcddRRHHDAAdx///3Mnj2bX/ziF5SUlHD22WezefPmgkWG1gxeKUUul2P79u2Ul5ezZMkSnnvuOU4++eS4WNxNN93Ehg0b4v5WWDitcGL+l2Wc0YKPsS2F8iJmmTCN49/j/mNdZlA4yQcmQOg81s9TM38hQ667lVWvjSa78TPKt66lfPsmqmuqEc0ZrOfHNYgEEXlwxQF96yFMS12mqP+1sM5wkQcNKKwJ0PgYE0AYgoR2sotx/DM2NOdbSqn9X9iKhiMVM6+j49oCil1MWK3RJhywWhMYhSIU6rBO91KH8ZtSO9Uhk89TvWQBTxx7LC+c+hPWvjQMmiVBk0dgNIESTkhYZcP8a+kU1G1YJTIMw1FhzJhjVjYMAA87sG0N8mnsM+3/xdni52Ocyfg3FaeFSrTvo2WA1AF5mcNXeQLPQ3uawPMJZJ5AewgZDQoXdxfIgEALAu3ETVSU4hmFpBSoORVOlkkAjKphlpWVcdttt1FSUsIJJ5zAp59+yqhRo/jWt75F165deeCBB+K63tH5hZqq0TXr6+spLy+PV95vuummmH0ec8wxDBs2jPr6+vheksXYkkCaZKKwa+2q5KT/j9qS9xIHsmsNYf/TRCFgLkBcax3WonKgKY3BU4rAajyRw/qN7Fw4mxE3XsfwK65k0OVXUjZzJp7wachnyQe+O993LhipVBx+Z6x21ph1FRJaYmWTIXGFjNO4kL4wUSLyiRMLJ+vYz2kSK+f/V7aiAfBt+SgKzfj2wo7iHG5lkcbVBVJWIazBNxZPGYx0u28NeU9CY56Jt93By6edzuvXXAPV1cimjKsvpHUo1OG5FC9j4tlZh8BjjAlVsVsGbQxoKSuAac+QBJPknmyXz2uqt2QvReDp/o5UcLR2lQGlCgOOlQMjpXWYBaJQUR69jHySTuFJax0HKavQB6xVi9JO/KymuEpRco8Ku02bNo3DDjuMffbZhwcffJBNmzZx3333sc8++/CNb3yD999/HyBeHU/6Oo0xrcAzl8tRVVXFmjVrmDdvHkOGDIkXnTp37swVV1zB0qVLAVrFi0agHF2v0B+fBMt/hvmeZJzGhItyyukDWAjLQofph8YtBpqwHpTQLiso4/l4wsf6HrnVKxh3ey9eu+LXjLj8N8waOABRvgWdEQSBIlCBC5LHxtVTIwarIwIRjpOoX+1KilqPCbeCngDThB82ubBr/5XcI/+grSjjjP5O/i9tRm/PvI8BzLpZVGhXGldrhbKaQBmMsFgJWmqajY/K56iZPJN3zrmc4b+6mLr5nyK9BpTwXeeTBqkFyvhhbmzIonTrjlHMpMO2uB46YmanuR+S7fF5TPVdV9XNLvfd6rMobbTgmdLCdVpPBjZO63QspHVUgbG7PmPh9YMgIJ/PU15ezt13301JSQnHH388y5cvj6tklpSUcMYZZ7BhwwaAViBXjClGvs9t27axcuVKpk2bxhVXXMEhhxwSZymNGjWqFfv0fT+ONU26BdImvn8GG2o1KUdtmhS1MNaFHYXv0upQGUw5t5XvC5SQoBR+2UZmPT6AUZddyWuXXcLY23tTNesTxJYKyAiMsggdTqzxwmhEJor3p5aJpRAwWxYgbMIx29Lf063R/59x0jHGmQYwaf5BpV1tIM86k1GHJXdddoHFegabkygR4CkPtm1mzCXXMfT7/8Onjw+CIEtONLg0SqVCH44OmVLkb4lm1/SFrVagl8I4CwEj7e9ivrTdYZxpIBz7iwomn+QzRMyqGKil3UsxIG4r4iHtuZO/B0FATU0NkyZN4tvf/jbdunXj7rvvprKyknHjxsVZRb///e9paGholVZZjNVHzDGbzcaCIUuWLGHgwIGcccYZlJSU0KVLF3r06MHcuXPje00Kh0QgmlyMSvPRFyMGe3vbZayYhE8/AjVl3KKlUiEhsGhlUcKAshjPJ19RxaRMbyAAACAASURBVLy/vsSrv/kdo35zBeP79GXp2NFsW70cb+dObMbHhtUDVCxP2OKOMkX6XscYp21hnCnXSRsDxfCjGMj+bwXb3cpVL7a1BUBaO1+jsDjhDa0wUmKURiiNVhaTU+ishxECgoDNL73M0BN/xoifXQEVDQTNDWR1lqz1nEyccjm3ppV5uys7KwaE0b22NxEUA6K0c5KdMa1TtgWkaXtbHTztvOjzQkZXDBDbAspioJoMLVq/fj19+vShpKSEk08+mQULFlBWVsZjjz3GQQcdxMEHH8xrr72GMQbP83ZhxGnAHgW/79y5k82bN7Nq1SomTZpEjx49OPTQQykpKeH73/8+I0eOJJPJAMTmfjSxFPpViw3QtgZ22vF7MiZswlQ31oWPO12CUPxCa7QM0x+1s5hchUqFzHtY32fRO+8w/KZbGXnJNbx57S0sfvV1PluxjB0N1WT9LDYQYdkVFQapO7DU1sQhfoUTVXtjob0xXthWaf20I224p23dUVDe3a0j142O2WORj90BBqW1q4liwtU8EYqeCoVWTo3F9z3IevgLVzLmf37F8J/8giUvjELV5TFa4wdZAuvhGYEfBrJbHfoCIzO9gIUVA4joGZJsJK1TJcEo+pnGXNLObwsM00AqDeiKgVvasYXPXcgyC6+bbIM04E0+bxrAVVdXM2HCBA4//HD2339/nnjiCWpra5kzZw7XXHMNnTt35qSTTmLhwoUAcVZR2v0nvyfyYfq+T0VFBeXl5SxatIgBAwZw+umn06lTJ/bbbz9uv/32+NoR4EbnJ10CxSbEZH/+e2wtfSt6vnCitwprBGgZLpYapHYLmsoolPRDOUEPkWlgzfQpvN3/AV664RY+fXEoFYuXUVlVSTOKjJ/HKBH7MJVxqZLaGhdXmdIfkv0t2f+TvxfbCtsrDZQLj20PgP6e7+DvuX2u0hntAUV0nNKqJcVLSYwU+FqREwJlICcCvCCDqqrm01738e5JZzKjzx3QnCPISIw0ICVa5QmMwDdh4K4q8BkVmWGLAWchgHSE2RW7TrHz065XCFDtgWvhucXaOQ0kk5+nPWtHGWehCdzc3Ex5eXm8wn7yySezevVqqqurGTt2LCeddBIlJSVce+211NfXxz7SuE8UsM/C748YY319fRz3OWHCBHr27MmXv/xlSkpK+OEPf8jLL79MLpcDiHPl0+q6F5tw/l4D2l2rxR8YhX05DVSJUSLMRbeuCqQxaC3QKgcyh9dYg83Wkt9WxpIPxvLxyOGUzZtLzdZt5DwfTzqQJGLZoZluIQ71I+VdF5tA23vuYkDY3vhpr48lr7M7bZt2L3t6vd25bnTM51aAL8ZSkp9HOphOmNUFeOesJDCavO+Rl3m030zllI9469TzeO3kn1H9/vvIwMPLSbQEIzTGyyOlH4csWW1BWxc/ZtMZZNrLSz5LW88aPUPyZ/K5beI796T9kgO6PbDtKDC3BbjFOnzyfRUeVwg+SXO4vr6eCRMmcNRRR7H//vvz6KOP0tTURHl5OQMHDuSQQw7hgAMO4Lnnntul7lDSH1nYFsn/SynJ5/NUVFTEiktPP/00P/jBDygpKWG//fajb9++rFy5Mma0QRC0KtWRHLTJz4qx86gPdXQgFRu0JsrEsa5EijUWrMGGIh3CKjxr8Kyr1aOEByrLjhWlTH95MBtnTCNftpa6dSvZtnYFO7ZtIpNpdhqYYeC6Dq0vGTLO2FQnnCj3ILZydwAkDRMK27fwuOS1k591dCsc52nW1p5MiMWum9Y/9jrjTJvR3Uq3wkiNUQqpXTqYpyV+kMd4GaisYEqvOxj+391Z9MBjUFuHUD4i0EhlEYF2aknS1f/R4Qp6lPblXDptg0dbs2x7INQe49zdvT2mlwZ4bTHRtJm8rfuNfu8o40yCZvSec7kc5eXl9OvXj06dOvHjH/+Y0tJS6uvrWbp0Kb169aJr164cffTRzJgxA6AVoCVX2wsZYRKojXECIvX19Wzbto1169YxduxYbrrpJr7+9a/HIssvvvgiO3bsiL8n6RpIG2TtAefn3aybz8PvIKwb5ALLpfHxrSBvFIHWKN+HfIbGNUuZ9NhDDL3iSt7s9Udq581D76gmW19PPpdzSREYhNV4xlU6kDYUJw5NdG0NKgwlSsZYtgUmewpi0VZsMirsy4XfsSff1x5wfp5nSLtuu8C5O43bFiAUDlytHGAaqUOlIkHeSPLKR/p5yDRT8dY7vPrzXzKs+8/wPlmAzXgI6XyagVRoaVyNFS2dHqAWYVycM4eKfXcxUGnvWdsCs91hfx0BTmvbL1b2eb6zrXPTnrHYcdFiSwRm0ULO+++/z7e//W3222+/mHVWVFQwdepUfvrTn1JSUsKll15KTU0N0OKTTIYoRW2QvJ9C36dSiubmZrZv305ZWRlz585l0KBBnHjiiXGd91tuuYUlS5bE9+n7fod8nh3pDx0+LzrH2lbA6bLEXEVJqfN42sc3Cikk1gvwPytj1sAnGX7Vpbz6298w4e67qVu0BNuURQcKI5y1JowgZwKajSIbBsvHpVysjQPsW8KJdm/b4+dupw3b+p49vb/Pex97ci3YS6vqaTfSqvOrME4tzBySVhIYSWAEIpdBbdjI1B638urJp7Pg3nuwn23HZgSB9Gg0WSc75ht8bcgZQWDyriSGNqEcV9hJ7K7AlwSm6LO0BizWkMWY9Z689LT7a++6yfsoBMK22GHyRUfnJq+X1k5tAXbyfSaBKJfLsWHDBnr16kVJSQndu3dn5cqVsR7n0KFDOeKII9h///156qmnyGazrfylhbqbyT2pDB/N+kEQEAQB1dXVbNu2jdWrV/P2229z9dVXx3qfp5xyCsOHD6euri4+J5m2WWwwFLZ/WwwkbY8ZibUu+DxpqocAZ6x0OgI653LHpXS1gLbXsGT4CEZdezUjL72Q0T2vZeX4N2is2kw+CBBCh+AZuPOtq3YgA6cIJrWMA+C1dUI3u9s/o21Pn7ujILun4yfa2gK7tphv8tl297ptAmd7D1jYqdpqlFbgoJ3IgLTK1RO3Fmk1wihsPsvWka/z1un/w6gzf0HDR9OxTQEmMAjtkzM+UgqM70RYPSORxscqt4pq4k7aPuNsy5eYNmgK2U/0M40Z7m6nSVuoaI/xdeT6HT037T7a8nFGna/QJymEoLq6mokTJ8as88knn4xX3letWsW9997L/vvvz1e/+lUmTJgA0CoGM1nCIDlgC82kQgaazWbZsWMHmzdvZu7cuQwcOJDTTz+dkpISDj74YG699Vbmz58PELPPtOsV+lrT2m0X0y3xs1AgJblAE9WTcgtBCs8IhJEEUiCUq7hKUzOfvTuO0TfczKiLL+bd31/PnFdfYOvKUhobdpBXAVI7y83KUADGOivM+jZRtzxMbbYag9ljxrm7wLm7++d1iRTe3+f5vjRMK3bdoqZ6e1/YkRsuXBxyq+kCYTx8K138ZSg4rLSB+p3MveNOhp5wIrP63Y3eWgPC5dpGRdGcUEcEwmFnbxW3WTx8JgmYhWBY7L6LnVMMTDv6AgtfTtq9FM7EhYN4d76jvUmt8HvTzmvrfqOfkXJStMJ+2mmnsWbNGoIgoLKyktmzZ/PLX/6SkpISzj33XLZt24bWOg4hKlxEaGsSToJdFLZUX1/P5s2bWbFiBe+99x7XXHMNBx98cOz7fP3118lms1hr45X3JCgUst+0d7FLuyR+moJ7bBGzcYDpBIRdgTLfGgJjkNKihALp89n06Yz+Q29GXXwZb197DZ8MGsCaObPYuW0bKp/FhgXQjHYr50pbpzsrDUa4oPmkmn+UaukUl3YfmNp67r2xp/Xzf8T9pX1fGqa1R1Sgg7Jyyf9FvyfBpZCVJBtIK4MxCm0FUktXL124utAylyWzZjUfXnIlo87+BY2TJ0M2wEjlMoOUcbXOowJrWoexacbN5FHspmk9EArvJcmkCn1daQsGbf2/GNCktUdHQK+QySaPTbZ78rvS2G8xJ3lHwDb5TGmdJg0sk88opWTnzp1MmjSJo48+mv32249HHnmEIAhoaGhgx44djBo1imOOOYauXbty9913x3qbUXxnYcdMdvLCtiosMRwVlovU5j/99FMGDBjASSedROfOnTnkkEPo06cP8+fPj032IAh20QyNgDztXRcOOhPu2jp1IKJ2jvqQ1ahwj/LStVKoSPVIGKQIENkGVkycwMhbezPi2huY9ORjrJ05jdpNmxBNjVgZYI3TlNXhyrkruOYEj7WMvteEi0/RO7Nxhty/wpYGUMnP/1lbIaZ1FND3qgJ82gCMWafWGCkwfoCVBiElWMXKV0cw4uQzWdj/T1BVifKDXdhlslO0lUKWNmukMaW2GGga8ywcSMVM9Y4wvmhhJJmGGAFfsvpjNGGl3WPhnjyuvdmy8B6i1ecoZbEtsEx7/uhv3/cpKyuLS2qccsoprFq1CqUUdXV1lJWV8fDDD3PQQQdx4IEHMnbsWIBYMb7Yc6aBf2HfNMbEep+NjY1s27aNZcuW8fbbb3PVVVex//77x7GmI0eOxPd9gFjFKSpMl3ye5HtPnVBwwGmtcQAaMkxtwtAgrVomdOMEtkUgUYHCegE25wEWma2nbtVy5g9/lYkDBrLwo8lUbC3Da2yAwAfVUoM8Sql0Qt1RLLN1ohumZRKN2mRvgMnfc+8IQO3N+0v7vjTgbG8MwV4EzmK7NtoFqguLlQHGz2OEq9ZXs3QRb/7uaoYcfwprXxqKyWZaUseSoGV0KyAB4pXLwodOY3HJ3wuZRJoTeZdnKPBHRosWHWVvyXZM6wTJmS7tfRQDsuRAST5LMVCP2rCtDll4/2mgmewTEWh5nkdjYyNjxozhiCOOYN9992XAgAEopWhqaqKmpobS0lIuu+wySkpKOOmkk1i9ejXW2tj3WDhRteX+SN5bIWtM6n3OnDmTRx55hOOOO46SkhL+3//7f/Tu3ZvVq1cDzteajPtMmu7Je0j2vdbjIewTYbqjssbFZGodTvgR09QIrRC+B36e/LZNrJo2iZqVi9HbtrC1tJR1c+exeWM59ZlGlAgwkXhJCL46AmlMi35qxGBTIkuSY/YfuRXrp/+s+ym2pZGKjrbdbgFn8ve0RZI0E1EZZ65bDVYLrA4wKgApaJg8hRFn/Iw3fnkBTYuWY3yfIMrphV1SxqLvTt5v8t7aYknJQZkGBmlMs5ifsxB80wA72fhROYg1a9bwxBNP8Oc//5n+/fvz7LPPUldXB0BtbS2DBw/mwQcf5L777mPZsmXxcxYD47T3lXYPERhYa1m3bh2PP/44/fv35/7776d379707duXRx99NL6XwusXc8VEbR+x1mw2y4YNG1qxzg0bNqC1prGxkaqqKt577z2OPfZYSkpK6NmzJ01NTa1iLttinGlWRfKzJOB5nhfHfS5fvpy3336b6667ji996Uvxvb3yyitkMpmYMRcLk0rbCxmvTpjkSutQicqF4GkhEVIQKB8t8/g7NjNn2IsMvvl63vvLw2wvnUu2upLa6h00NWQQgSt1oqIYV23ja5owTjMSpLZSpy6MFo6Vf/SWvIfk4l/hvf2zgbQQ06L7aY+x7zHjbA+gWndyi++5etB5mUOKLGrn/0fee4dZUd79/4tgSzSxJEos2FuisXcFER+woIBUEQRBuhRFpCgqoGBUkCZIF0FAIsUAioBIsSBFqQtI73X7nil3e/3+uGdmZw/nLIsmeZ7v9ZvrmmvPnjIzd3vf708/zA8v9+CTO+5j24gRmF37kZ5AGGNjesOJchzmkQr44uwy+bfpnjudLjMV40zFYlPdJ5ntZWdns3nzZqpUqcJzzz3H5s2bIxG5sLCQbdu2Ua1aNSZNmkROTk50jxBYktuYnCQ4vFdy2Yr4+wUFBUyYMIGbbrqJPn36sGbNGiZPnkylSpWoW7cuR44cSctY0/VTXM2QlZXF7NmzueKKKzjllFMYMGBAZMTJyclh+/btDBo0iAsuuIDf/e53TJ48GaBYrLnWOq2+Md0GlzzpQ/ZZUFDA/v372bRpE4sXL+a9997jr3/9a2R5b9WqFbt37wYgkUhEfeZ53jFjHF8DyeMsjbbJuUMrugrya3rW31gLDyUSkHuQDdM+YXTzxgytXYspXTqzd8X3CC8fx/eQjsI4lmwIaYI6WYFTewDORZ4kMoh9P1Yc/d8EpJIkpf/tZ4sfv+U5Twg4499L/n6cnR27sDTC13hCUOAXot189i38mhmPP8n42+5h95yZmLwCtG/w/Vi971gtnNKcyQzkeKCZqq2pRPl4Orf4PUq6TyrgDEXlGjVq0K9fv6g/Q+ABaNasGWvWrIneTx6fOFDFj/AZk9+HIv9E3/cBWLVqFffeey/jxo2LfturVy/Kly/PL7/8Et073cRKBZphco6CggK2bNnCyy+/HInkGzduRGubNu7QoUNkZmbSqlWrqM5QmCou3ERSicqpxisVA01+vhC08/Ly2LVrV6T7bNSoUaT7rFixIlOnTo30y6Gv6PFclKLM6WgbvUNgEFI20EMrjXKtyK19F3KPsGPWdKa0aMbYurX4pEUTVo4dibNnO65fQKEWSGlZpJIGKUPfTx35ZypjpbGiEr0SY4qrEFK9/m8eqQA8+fX/heO3POd/hHEeO4k1hY4bFAwTkChgzfAPGXd3JRY/1xp391bwJdqVKC9YKGGNojSiUvz+8WdKBeapjDnpdpl0bDQZONOJjenuE2dRNWrU4B//+Eexz0OG06ZNG1auXBm1KzMzk4EDBzJu3Dj27dtXbDDnzJnDyJEjI7ALj9WrV7N3717Wrl3LwoULizFUYwyrVq2iUqVKjB07NvpNx44deeKJJ4qV6T3eJhPvn5D9Oo7DwYMHmTVrFtdffz1ly5alV69egE3CEebcnDdvHnfddRcZGRk0btw4clYPwbO0G2RpADQO6mG+z/nz5zNw4EBuvPFGMjIyOOecc2jdujX79u0DrOEo1H0mX6voPhKwOWGlESgEykiUtqfWEi0kRgpwC9i7dCGftWzNp7XrMuWp+sx76w32/bCEggP7cRwHRys8rQLjUljOVwWGJxOV4NUBWJugrnmoZ/13AVO6NZV8lnSvdAD+fwU0w+PXPue/jXEm/yb8zOpmJK5y8YRA5hagDhxm1Wt9eP/mO/jpvf6Y3CO2ro4vkSKYlBF4lk5EL837JYFvSeCfDJzJCYVTAXDy9eMssUaNGrzzzjtRP4aAAdC6dWtWrlwJwKxZsyIn7iFDhtCiRQsAtm7dytNPP03fvn0ZNmwYDz74IDNmzGDfvn3cfffd1KlTh1dffZUrrriCrl27YkyRHhIs46xcuTIdO3ZkxowZtGvXjjp16rBlyxbgWDE0FdOLg1fYNq11FBa5ceNG2rdvH+kTQ0NQIpEgOzub/fv3M3DgQM477zxOOeUUxo0bF/Xt8dQs6cAy3ZiGr0Ngz8rKYt++ffz0009MmzYtylwf1lFaunQpYEND44ajEICLvB6UrSuORBqBQCCMCPJtCowSGCFASI5sXM/UV7szvnZ9PqvXkPk9urF94Vcc3voLTk4BUmo8Yyg0Lo52Ebq4Zd6gsQXVdDE3IxOWjf3fPkzRacchDrz/P2WcqXaZdGATn8zha0+6+MZBeQqTKzn4r/l8fN9DjK3+BPuXLsS4BUhlxSPX9VFxf7QUzK20Zzo2WdJZEuNM/h9SO86WxDgBatasybvvvhv1Z7ioAdq0acOKFSsAaNCgAYMHDwagoKCAKVOmIISga9eutGnTJjI6jR//EQ8++CBSShYsWMAtt9zCSy+9xNdffx0l1wgXPRQBZ7du3ViyZAlTpkyhQYMGPPvss2zfvj16ppI2m/gZZ2Fxp/TPP/+ca665hrJlyzJgwACMMTiOg+d5HDlyhG3bttGpUyfKlStH+fLl+frrrwGOEdeTATMV24zP4WSGmOzcLoQgNzeXffv2sXXrVhYvXszbb7/NNddcQ0ZGBmeddRbt2rVj7969xfruGNUBVlzWQRleYSS+toUDlfJRwkO7HjguP30xm3ca1OXjxs/wxctd2Pj5NA5tzSQ/KxfhaJQAT2sc7eKTsA7zMmC7JkxmYwJ9JhFA6V8ZHZTuSLceUr0Xfj/NlcILEkNU+30TvrbfO1HQ+r9wpIwcSjZ+hJ+FR3JD01k5lVKBX5uHI/KRCR8OFnB4wjTG3XYPU1u2wju8H4SP1j6OlygWvlZULjX1Ik4FiqmYUWkAM96W5Osk6zhTAWOyWiDVs4bAVbNmTfr161eMcYZidPPmzSPG2aVLF26++WZq1qzJyJEjycnJ4ejRo9SsWZPq1avTp08f3n77bZo2bcptt92G67qsX7+eGjVqRAXTwsqQSimEb+//UyCqjxw5MhqvGTNmcMstt/D+++/j+36JbUnup+SUcaFDejxfZ+XKldm1axfGmEhk37t3L8uWLaNq1apkZGRQrVo19uzZAxTVKorPq3RjHZ+X4f2TDWZxo0+oMvF9PwLw5cuXM3v2bB599FEyMjIoV64cV199NXPnzi02RsWAU2swGo1CGh+FLbkslHVY10JAUN5538+rmPZmH0a2bcPqTydx9JcN5Bw9jJPwUR4oz+BJjW88pHbQykdLH60VaIORYJQGFdQIwqC15bz/bhfyZFIQP4uVJDFEf4vw0IDtFjtegDYE5YODcSoasX/zk//3jhLLA6cCifB7qZhlKqYXvu+5PsL3MVu2MPnJuox6oApZi79FF3oYX2JEIVonrD9cCeCYjhGG90mVg/FEADT+3KnYTSrRMBULKwk469Spw2uvvVYsiUXIRp988snIxzArK4thw4bRrHkzKld+gEqVKpGZuZ5HH32Udu3asn//Xlav/olt27aQlXUUYwzLli2jYcOGkbgZ74+Icf70ExUrVWLUqFHR2K9Zs4b777+fnj17Rg7iJbUlFQOP91VoRZ81axY33HADZcqUoX///gAReOXm5rJz507Gjh3L5ZdfTkZGBm+99VbkIpTc5/FyGOnGJHl+JI9X/DfJus+NGzeyfPlyevXqxWWXXUZGRgZnnnkmPXr0YNeuXdH3hRAoqcAxSE/hKFsSxroPaVwhUZ5EHM3m6OZM3EM7yN6+mQ0Ll7J8zldsX72W7EOHcBIJhFDI8JQ6ENEFUsjiASC6iLGZIgJnz38jIJS0JpJPIKh8aSw6SgMCjLBRTajAHcnYOH1hwmqeAhNkq0973f+XGGf8SEWfw50oDizJCyi54XYReQih0IkEatkyJlV/nI9r1CJ31VqMB1pqjMhHqwSeVqhgaypJTE+2uiYDXDo2XFrmmQyCqRZq2M5UTD0VQwvB8aWXXuLuu+9m27ZtAJHIvWbNGh599FEOHz6MMYZhw4ZZHZsULFu2jHvvvZdFixbxfPv2VK1atdiYhMeyZcuoW6duJKL7vm8nty66f3itUaNGRb8fP3481157LfPmzTuGVZbEOFOpKUKQy8/PZ/v27VFFzPvvv5/NmzfbxRSEWx49epStW7fy8ssvc9ppp3H++ecza9aslPrTELSSN+64ZBSff/HNL3nTT54zjuNw5MgRdu3axYoVK5g6dSoNGjTg9NNPJyMjg9tvv53Zs2dHkU5K2eJqritxtAqSayt818FICbn5bPp8NiOf78DyqR9TuH0LWdv2sH/rTvKPZOO7Hr4QSBnk0gwihGxp35gvaNinYV5NTJAQOVyopV3qpTtSrftk0hJ9r7gUjlZgpAFhggqe9rkFEoGyiUmUsP0jbV13MMUYbvz1/+XjhMoDp+vIZD1U8s4vQl3VwcN80/MNBtx0G6v7vYs+lINRBM7CCZR2ihIVlABkJVldU4FsKvac/N3k16nuneo7YX+kMmSkYpzGGL744gseeOABqlSpwqhRo5g3bx5Dhw7l5ptvjlxzAJo0acLq1atJJBLMmzePWrVqobXmyy+/5Oabb6ZJkyZs2LCBL774gsGDByOE4KuvvuKhhx5i+mfTMMYgPD+opqgRnr3/7NmzufXWW+nduzdr1qxh4sSJVKxYkYkTJ6bdOErDOJM3l0QiwaFDh5g6dSrXXXcdZcqUiVhumCfTcRx27NjB6tWrIzG5UqVKkadAchx5SeyypGdM9364QEOALigo4ODBg2zYsIFFixbxxhtvUKFCBcqUKcP555/PO++8w65du1BaUeh7+ECBEjjCt9Z0mYDCbA4u+oZxTZozvO5TDGv5HFuWLMG4AicrD89xg5LZtqyMrYygoyQeyhSFUCarKOLr0gT6zXSbW/IaTl7rqdZ8/LP4eKYqtBdmXwod8IUOM91b0hO2QQa+rbaNEqMkWqpisfX/LsZZEhn6LddNPn5TeeCSjCZR56tgN3YKMdt28HWHzgy9/W5WDRyEzs5HaxBS42oPYfxoNw01N8ksN65vDD9PZeUtCUBLc5YGjMOjNPcJ34+zy6FDh9KtWze6d+/Ou+++y08//VQMEMaPH8+gQYMYO2YsHwz9gEMHDoKxi/zHZT/Sv39/unTpwuDBg9m1axe7du1i8KBBjB41iiGDB7N0yRI7qZUNezVSoYTkq7lz+XD4cIZ9MIz+/fszduzYYyzqx2tL8mYRH4Nwkfm+T35+Pps2baJDhw5kZGTw8MMPs3PnTqAoG3x+fj47d+5k6tSpUXnhTp06kZWVFV07noaupHEp7djG53D4fngfx3HIzs5my5YtrF69mokTJ1KnTh1OP/10Tj75ZB599FE+n/U5e3IO4KJICM/q8v0EyDwO/fQtn73UgU8aPs34Bo1YPGQQzvYd6EIXI6QNwTSmCFCCjGEYO+t1OGZp2mUXxG9b+CUdyX2VnPk/mXlav2uFb2w1W2kMKkiDp2WwMUgNAVhqrYu1L77O/185flPNoVQ7f7EBNsZOKOmBdDgyey4Tqj7B6EpV2fHZNChIIKXBk4qE8vG0QEkTaJFLZhDp2E6qZ0slQqf7bqp2xH9b6dXCUAAAIABJREFUko6zJFE91f2AYmJm/P/4hJJC2mxQsmjjiD6L6UmV1oF7igosvtLqkrTGZpeSaSdoadpQUnuT+zs0xBQUFJCXl8fMmTO5+uqrOemkkxgXON7Hk4wcPnyYjRs38sYbb0TlhT/55JPoHqFrUHI/JhsyS1qIqeZvKqYcPn8ikWDv3r1s3ryZefPm8eqrr0a62PPLn0fPPj3ZuDkTIwymQIDrkdi6kVl9X2VU/ZpMbtSA2V26snvhNxTs24d03IiB+UYjQod2ZaLoH+uvqSPDaJxRhs+ezA5/DcNKvl6q/5PXXqq5H72vwugmY5ORKIUWOkpgboSJAlpkgAthOsj4eB3vuY93lJYYlbaf0h3/duAs1sHYOivSTWC0T86M2Yy7pwpznnkOf/tOjLQ5OT2tKdSShLEKclSoNDlWZxW/byr9WrHBTAOsyUBYkvEoFbNJZbg4nqh+vMmY6jni70spoxyl4fuRi4wscpiWSiCVb2vTKCs+aqOj3JAq0KPZ6BZZTCRM15/Ha0Oq/o4b68KMRS+88AJlypShevXq7N+/Hyiynruuy969e1m5ciV169aN8nquW7cOKPJ1jUscpXne5EWR/F7yHAhVAvH0c4cOHWLbtm2sXLmS0aNH8+ijj0ZRR3WqV+fbOV/jHyzE37aPhYMHM6R+HcY3rMM/Wzdn06dTyNqwkYJDRzBBKWtpwnLA2iYc1thkHWF/BgZSjHVBCullqsWdikAcbwOJv5/q++nGOLmvi2GBDFQNSqJkkAZPBnH0UgW14zXSgK81fphPN8V4/Zbj1/bHiR7/duAspow3Bq0Vyk1gcg6zod+7fHj7/cxo0RZ3xy7QoKS0JTGMIGFsqBkKrK9D6gmejiGmeo50LDIV44h3bDKjSXX9VDtxOrBJt8BT6WvjfayUNRREmcSD/4WUlmEGfWxdVbSt6eS7SG3dYqTybW5IZbPzCK3xlcIPFm5y9vJU6o7jgWf4Nw7qcZegRCIRVcQMsxQNGTIErXXEIsOsRrt27WLmzJlRHaHmzZtHEVNhGGQ6VUyqZ0oFpMnjHN+c4mMZvh+GbO7du5fMzEwWLFhA9x7d+OvVV3BqRgZXnXsh73TswfyhYxnZtDVjGzbin21bkTnxIw6t/JHCg4dRXuDQbjQSEzDOYG5pE5UPttFyMeZEyf6NYduTcxIcDyiS13L4f3z+hX+TXyePv928FdLzEE4hUvok/AQS22bhC6SwBjBhDI5SuOHz/oeAMz4X00mJqc7SHr+tPHDQcK1jokUcHLQNt5SFBbBzB5Nr1WHQbffwy/iP0bn5GKnRQuJqRQJJQmur69FFfhapBri0i6Sk7xxP9E732xO9z/HOZEBNBgEpFZ5wUdq6cgjh4fsuGIWWPkoJpO8hXAeRSCB9W8hOCQeDwmiF1hLXS+AKD6E1Qil8rXClX2zBnchGkK5v4teIA1J2djbbt2+nXbt2lClThoceeugYA5BSiqysLHbu3Mm7777Lueeey+mnn87IkSOLZS+KP3NJrD8d00jVjviCS94U4wB68OBBtm7dyooVKxg/cSwPValM+T+czRkZGVS95kb61HuaEc1b8cOoD9n1/RJyDuxBCoUIrOdSK4TReEYhCTbKwDgUOrlrDGH4uTmOMjN5LJKBMB0YpATONO5B6ca8mDQkfJRbiPIK8ZRLtp/H3twDZHv5ONKN1DK+Vrha4YeqpSTA/q1HSWsxVQ2rX8tEf3WVSzuxFMYkU/i43sO6aKj8PNSa9Ux6ohYfVKlC/prVGED6Ci1s0bYECseYoDNDi13JonoqFpkKhNKxkuQFlor9ncj1SwKaMOrDbjQmKq8QPUOM5cXZj52Ung3fUwLhJsg5cpCtmzL5+fvv+Xr2bD6fPIXZk6cwf/pMls79kjU//sDurb+Qn5ONFkFJZekjhcCXElf41mCnVTEGdwxght4NOnYeBzzjbDDOPB3H4ejRo0ycOJEKFSpw0kkn8dFHH2GMKVYi2HEc9u/fz/Lly2nRogVly5bl+uuv5/vvv48meDIoJ8+LVGCSai6nApxU8yF+L9d1yM/PZ/eeXWzcuoGF8+fQpeVz3H31NZx7UhmuPudsXqhbj8X/nErWvt3keYXkeJ51swsSHIvAkKLCuSBVUNBQYzRWxxmfN2nacAJwEvtrzzAxSLE+iP2fai0krxljrGEoBE7hF1Lo57IzZw//GDeIV4f05cfta8g3Pq7y8KVv4++1DcVOxziPwZzYZ5xAu1NtjqWZH6U5Tphxhp0bZTAy1oKmA3ZpjA7qqFudh5ACEh5rR4xjZOUHmN+lE97OrbYshm8wvo+vXByjcbUVOzGlZ5wl7YonunsmL5xUnf3vPWMicdL9i9iVb409wmX/zm3Mn/UvBr71Fp1btqBlvfo0rVWLZ2s9SctadWhZqw7tGjxF55Yt6PVSF8Z9MJRV3y6l4OhREMKKUp5vdaLaslmRxDiPJ6qXlHQleVOJg7/neVHZ4MaNG1OmTBkefvjhKKlG6HKklKKgoIA9e/Ywd+5c7r33XjIyMqhdu3bk35qqdIZSRRFuJT1ffC4Xzasi957kTTAOmlprhLC65sJEIfmH97Fi9kym9n6TMT1f4Znq1Tjnd6dwWkYGD9xzD9OnTyfXd3DReFKifIGQwjq5a2VBU1lrc+SSZIJo9FIaz4/X1lRgYEzqzYNibQ79pIPxDKowRFnLQqYfWM99KcgXuWSpbN766H2uqHorD7aqQ99JH5CFQ64oRIZ1k5TNNaqDPkj1nCe2MZSuP0pzlvY4Icapg9c61sEyZJxSo5QJOsOCplEKTwhMwmNG+5d45+83s2PCGEzeUXxtkEKjPR+hXTyt8JRGGRkM4rGMs7TAmfzdVL87kWv9O84TY5wSIX18z0NLn/zsLL6dN5e+r/Sgaa3a1Kv2MM/WfJJWtevRsmZt2tWuR6e6Dena6Fm6PfssHRo3pn3jZ2hVvz5dWrbm42EfsmXNOmTCQTkewvdtvkdfRrpSpYv6JVwQOijJoEtgnKn6PG4YCtmk53kkEglyc3OZNm1aZJ0eN25cdM9QnNNaR6L9kCFDuOiiizjppJMYMGAAjuMUY7LJLkrx8Y507ZQMqFoXAahSpij7kLHitTFWTPeDxS6EAKkoXLuef3XryYe1GzG+bXvmjhlBl3atuOR8W6b4wj9fxID+/Tl4YD9GKVBWlxs6t4cbphHWr5HAB9JWQEi/UZ0osMR/Y1/bsQr7JZI0QiOV0gEL1khtovpfJpAiQ0OWzRVqvy+UJM8UsOLAOio99zhPvPoczw7ozpjFMzhkCslXDr7yUdLHKBXrg9TrsNjzxp6b8G8pj7Cd8fmQbn6cyHFCVS6NMUXuEdpmPRLG7kpGGqQ2uEFBKSMlWvp4QoArWPBCd967/k7Wjx6HzD5Mwkh8X2I8YeNyg13Y1yLahTS/DjiTF09cFC0JXEsS7X/rad1OAufmwK8tdAAOXTSklBitEb6D8h2Mm2D7+rUM69uXtg0bUr9qVVrVrEOHeg1pX7sB7es8RYc6T9Gudj06NGhIhwZP8WLTp+nSsgmvtG3NGx060a1FO9o3fI7Xnu/C19Nm42Tlo31JwnFxhR+VeYgS5Ib9oXSwiBRGGrQy9v9S9HuymB4H0tzcXHbv3k2rVq0oV64c9957L1u3bgWKWGdYzuLw4cOsXbuWDh06cPLJJ1OhQgXmzp1b7LrxWPxUYnfye/G5XPSaojmmCErsSowWGOkipYPQHp728EQhRnrkb97E9736MaVOI8Y1aMw/X32VdV/P5efvlzJu1Ggef7g6fzj9DGt5r1WDObP/heN6gPUkEBHoC6QflsiwICST1B3p1mPpDx37qzBGYkwKo6cykb+lERLhKxLa4EjLEI30Mb6PFhKlDL4y+CasteSRpfKYvvYb7mlbhz6zx/DtwUwO+9kk3AKE9HCVVRGF99Eq3KyO9QEvmocKYp9xAu1ONzfTzY8T2YzSJvmIiynhQxDUPMEY0AJphFVyB2VKpYaEFPhCYHyB8BNIrUls38XcZ9sx+v5H+GXyDIzvUqgFQkiMrzBSYQL9j6NEwH6OzzjTAVuyJfy/zS5TgoopzjhtkS37PDZ7uM0aLoWHlC4Ij+3r1tC7cyeefqQaLWvVpMNTT9GxbgM61K5HxzpP0aF2A9rXqU+LmjVpWac27Z5uQNtGdenQpAFdW7fglXYd6Nn2Rd54/mVebNySF5u0ZM6Uf5LIycP1fRzhI7SKREfrjB3bOIIJbqSxZ5AX8oQ3jRiwhaGNn376KZdffjlly5ZlxIgRxZIhxxnqvn37WLBgAZUrV44c6MNkIfHEx2E4aXzxJS+edHNCx9m2DusHSbuh+w5GCRxhwVN7+cj9e/hh6DA+f7o5k2rWZWqH9qz71+fs37yePTu2sH79WhYv/IaunV/i8iDm/eyzz6ZPnzejfKc6MDYVi39PobON63PjgH8ii7x4X2i0loS2iaJ+CPWVCiUEWnm4vkeuK4LYewftJ1DCQfkeUhl8bfACoBd+giyVYMDs8TzctRnzD67nKIV4bgEkXLQXGoZACh2UNA4z3AcMNGndKm2l1rhPq93lStf25DmQ/F66z0pznFgi47DkqDagFFJLPGP9tbQwCGUoFBY4le8jfAeMYc0nnzL6gWp81bQt/qZtaOXiSR8ZFHGTyrozKKnxlCpSCXB8xpmKJabz7/vfBk6tY14Igd9bOEFkIBp6bgIjPQ7t3E7fV7rT6InqtKpdi/b1a9Pxqfq0r1eXNrVr07Z2XZ6rUZPGjz1K/apVqVX5AWo9WInaD1WhSc1atG3cmG5tnqdHuw680rY9Pdu1p+1TT/H8M8+w9Kt5KN8P4qTthiWVjOKlQ8YZOSqHbLOUiaVTjUs4JvEY9kaNGnHSSSdRrVo1tmzZEoGh1jpingUFBezYsYNPPvmEChUqkJGRQe/evW3i30BsDy3tJS2EZNG0+CktYCiJ0D7CCFtDSCmUr2xlAlegXAdzYD87/vlPPmvanIl1GzL5udasHDOGgz+vIu/gPvLyc9h/YD+bNm5i9erVfDRuLA88UIkzz7Ds88naT7JkyRISiQRA5IaVXLAurr/9NQs7fiS3XSoTuRBpHRgJlU2J52qfhHEpJIGPCNahRugEjsjBlXlI4wduRhrPtdUdHOmy3TtI6wFdeW5AN7aoLI76BQjhox0f5UuEsqnzROC/LZVGGIkkNJQVz0GhguANlAnqwwceNycgqsf7LB14/pq+LZWoHk3GAAAwJqi8p/BNEHMqrWOra+wuooWwju+ex6aPpzD2rirMafE8zs4dKOVZB22hEErj6KAqoDS27nRYrI2SgTMdEKZawL8FOEsC4dICtDLGqjeMCXZS6ygsVZGDutISL1GIKMxnYN83eaZWTZ6rXZvWdWrSpnYN2tarRbt69XiuZg0aVH2Ix+6+k/uvv447rr6cO668lJsvvYhbrriM+/52A1XvuJuG1Z+gY7PmdG3Vmh5tWvFyq+Y0r1uXVzt2Ytu6TAA84Qd6TnPMoo3mgAoYpyod40zV/rjqpLCwkJycHKZMmcIFF1xAmTJlmDBhQrRwkhMHh+WFX3/9dU477TTOPPNMpk+fHgFsyDjD+6RaCPH3i7kw6aA+kNY2cEAl8LWLT1ADXYDvapSvkbn5ZM6Zw/hmTZj4ZE3GNX2WxUM/YO93S8nasQ0vYesGeVJQUFjIrj272JC5jgXfWL/PK6+80kYdnX8+ffv25eDBg0BxFUVoGIz3QbwPwzaU5ox/N76GQr1kmIhDKYGQHr52cY1PgXHJ0wmOujn8tPlnlvy8lE2HN3JQHiTHZOOoBI7n4jkCJQyuVORph0yxl8d7NOYfM4Zz2CTIkQ5CaYSnENKyU1cH7nBS4isL2GHZ49ALJ1lnbesrxRln6Y50fXC8z0pzpGScye4p4cSzkEaQvl8hsTpOrbRNIqGtzkNIiZYC7ScgL5/NH45jwh1VmNWuA4n9uzAopO+jhMYxmjwkvpIYodHaXt9wfKt6Kn/DkvQYJQHnf5qNFhmCwuQHAqWEtTRqiTQK13eQrsPypYt5pnYtnqnxBE0er07LWk/Q6smaNHviMeo9+CAP33Er9//tGm6+5AKu+dMfueEvZ1Px2kuoftv1XHfOmdz4l79w/V8u4KbLLqfa3XfTrG5tWj1VjzYNG9C20dPUf+wxPh42Aje/0PoVBglzo4UViYrxhXZ8xpk8f9ItXM/zyMrKYv/+/TzzzDOULVuWSpUqRYmD43HpoXfB7t27Wb58eZQI5I477mD37t2RnjOVrirdOBdrY8BsdAAgUibwjUPC+MEiN3iuwncFfnY2i8aPZXCT+ox+ujaf93uTrUsXceSXTJRTiC9seRhP2cQ2CcfhwOEDbNy6iZWrVzFmzBgqVqzIqaeeSkZGBvXq1WP58uXR+ouHoCYX4fsti9yElutQh6oDSULa0h5a+hjpoZWH0IKE8sgXLvvzjzL2XxN46qVn6TS4G+O//ZRV2RvIJkECG/HnaUWh8ijA4187F/HQy7WZuW4eWTqfAungCIkvDa4yuCoIvhA+Qvj4WiCUKKYqSnYFMyYkayEuwIkwzv/UkZZxxhdRNOlif7VWUakAFaTF8gK9h9LauhtIF7V3D/Pbd2XS7Q/xy4QJyMRRXJVAexItDYXakGPsDmR8g1EEtLx0jDOd03MqcI1b1U6EhaYC4hNlnNb1KHDX0golfbSU1u3D2KzhrluIcAvp93pPGj3xOI2rP0rDqg9R/8EHqVOpEtXvvJOKf7vOsstLynPzxedS7cYreeCK86h313WM7N6G9o9VpNJl53PHRedz6yUXc1358tx53V+pXrEiDas/TuOaNaj98MO0fbYpa1asBGOsmJ5iwqrYxFXh+B/Hsp6q/fF+CdlVyDpnzpwZZV4fPnx4lKszZIUhiObl5bF7926mT5/OVVddFSUCCX1EPc+L5nAqgAznUJxtFj9tQgqkxFMehcYnT7r40gepwBOYvGwObVzN7BH9mfpOT9Ys/JID27bg5GahpY8vBZ6UOL5ESY2WCs9zyc7LYseuHWzfvp3FixfTsWPHqM3XXHMN/fv3jxKfhCqIVGkTS7MxpByPYD3psHyx0UE0mUQJHyNsiQ/pByxXKFxPklCSIzKXD2eN475nq/Lk603o8el7fLRqNt8d3MQ2N4t9ModCXLYVbKfVmM5UfuUJpv40AxeXHD+PQiUoEIp8rfGMxhcJlHSQ0sVRDo72kCaeuKVow46vnWijOIEN4z95HNcdKWwQ2B0rFN3CtFhKC7QSgY5EI5V1M/J9F6l95C9bmPxEA8bdeB/O6lUYXBxRiHZ8jNQUak2OkVa3KTRaFC3OX+PHmQyYqcCuNIs9FYOKW+hTsd90juRF7E1FjDNMr6V0UHZBeBjts2fHL7Rp2ph6j1Tl6Ycfoua9d1H9zrv5n5tv4b7rruW2yypw04Xncf35Z1Lv/r/Tt3U9Wjx4A50fu53Z77zAgiE9eKH6Hdx/0RncccG53Hzhhdx40aXccvlVVLzxFh65736efLgaT1R7iH9OnojrJtDGHGOcKGpHzKBVSsaZbsMJ+yUUS3Nzc9m2bRvNmjWjXLly3HnnnZGFPQTMuE9rmLtz4MCBnHrqqZQrV44JEyYc8/34vVIZCpO/p6T1DFG+RHsaX0oS2iMh8jF+PgU7trDuyy9IbP+F3B2b2bZ2GetXLmH31o3kZh1BCBch/UDsN9YXU5kgRlvi+y6Om+DgwUNs2bKFNWvWMGbMGB5++GHKlStHRkYGTzzxBEuWLInWYgie8c0mXAvpNvJUm0X4XbuGwjVgo8mk8pFKBMYZiQhUZ1Iom6C5oBAlHQ7k7uLpDg24re5dPNSxJjV7P0frEa/z+rShDJ43jsFzRtBxWGcq963FPa8/Qq1eDdhauIscHHJRHMFnh5fNAT+PBAkSMhtXFuAol4RK4Eo32Lxtjs6i0jmgdVDXyeiAcf7fyKJU6rRy0eSTVnQTxgQuLAq0j9LCxt9Ky6x84eJLBzI3MqNmQ8bc+gA5K5dhjIerXYwj0EKRMJoC7G6kpbFZVKzp/phY9RMRy1OBHKQvAZK8o5cEAPF+iT9bOrcn+56OWGe0sxqF1AKhfDyvENB8PXc2z9SpQe2HKlHj3jt45LYbqXLjjdx37bXcdmkFbrnoz9x1yXnUvP0a3m5Tn1EvN6Fn7bsY1voRpr3amM/eeIbhHWvwxtMP8eQtV3LfZRdz56WXcfPFl3Lr5Vdx7w1/p+r9d/Nw5fvo/05fDh8+hDGkteoaE1qaQz3tb2OccaNMIpHg8OHDTJ48mQoVKnDyySczZswYHMc5psZPKJIfOHCADRs2UK9ePcqWLcsll1zCpk2bilmm45Upk8Ek7iZVBKKWHUpPIRN2jBwvDyWyUfu3snDwe7zf+GkWfjCM7MxMcg7s4dDhveTkHsUTTjE9nVIBWGkdS+lnAxl8X0TuWJmZmcydO5cXXnghMnpde+21jBgxgkOHDmFMUWx+vFRxOhaabh2YYMzs5DfWnzQoJOcrH8cIHK1wVZBExnWQTgLjOJCdjdm/F2/XJmaNe5/61e+iddtatO3WhNqd6vFg28eo+MKjXFLvr9zS6V4eGNGA2/o/zt+6VOKFGW8ybctCRq74F+8unkTPOSPo/cVIJq2ezfIjqzlKFgKBazwc5eBLHymCuSdN5KqnjbS+3YQG4/8+40yFhaVinMUAInCMFlirq7V6+Sjt42kZWMyMZZzGg3Xr+aJWYwbedB+Hf1qONoKEdJGetaK72lgKb6zuJeyweMW86N4pgLMklpy8aOLfSW5vadhoKqCOA0I6Uf5Y1hkwHBnkZtQCzy/AGJg4biRPPVGNOg/ezyO338D/3HQtlf56JXdfcTE3lz+bh/9+JV2ffpxxPdszvmdLxnZtxHvPVmZG72eY3PVJPulRh6m9mzBvWA8m9ulIt6drUuXay7j9ovLcc9Wl3H/91VS99zYeqXwv3Tp3ZM/OnUDxXKfRphM8b5SJPBx/Y0p3RmxVR8lu4+ClVFEMe9OmTSlbtiz33XcfO3bsAEjZp4lEgt27dzN//nxuuOGGKKooLBIXN7AkxyYfe//YRqEkShiUZ5Cej3LzMId2snb8CMY2bsi4xo355IUuZP+8Dl2QwHWsQ7fU1iKvo/4y1tVGBdFAgaud1oH3ibYuWYcPH2bHjh0sW7aMIUOG8Nhjj1GmTJmoPQsXLiym7wyfNVn3Gd/IUy3y6L1gLRkpMcKq1xzpkyd98qXA8V1EYR469yjs34Nc+zNZX8xm95jR7Bw2hD3D32fdP15j+T96suCd15g66A3GTHib5we24cHXH+HxMY24f0xdHp72HLVmdeTuQfV4cHATbu9Vm7+/9iTX96nLrf2eotrglnSc9iZTV/2LDbszOZJ/FFdZcV1JW0IERZRqT2HXS9SW/wP6TSgl44yDSpiI1DcGX2srckoXKV3r4OorfGHwhIPSCbyl3/L5o3UZ+cAjZGeuQeDhKR/pa6S0yvcofjdIcUbIaiidDrHY8yUxv1S6u9KwpNIAZ2lYVjLzLXaqINNRwDiNgakTx1Dvkco8+cCdPHb736hy/WXcf3V5Kl93AS0euZsRr7Zjwei3WTjqTRaOfJ2Z77Tjn289y5fvt+WLAc+xaERnFgzvzheDX2bBmD58NbofrzerRe27rqHqDRW4/+oLefyeW6lRuSIvt3+endu2YQwopYt2/AAoQ+urMkk6zmPaWlwXZQHTstXILzTQr4XXD0EtzBL/+eefR36dEyZMiNySknV9YYXK7du3M2LECM4880xOOeUUxowZA1gR15gi1UOqMUvFQK1LksZzBdJxIC+LLTOnMqHp04x5sg6ftmjD+k+mIHYfQBb6CC9I06dlFGceeUcYE202Rip0ULxNynDTVDiOQ05ODjt37iQzM5N58+bRoUMHLrroIjIyMrj66qsZOHAgR48ejdoTzw6VnMkpmeBE6zhw4TEE0pZSQTJlhac1Ca1xfR9VUADZR9E/r2LvsMH89HwrfmrUkPX16rGreVMOtmuJ17Mbfu830EOHkPPRSPbNm0rvN5/lia5V+J93Hubx0fVps6grzy/rQ43P2nD/wHrc83Yd7ni7DvePbMa9I5vzwPBnqfx2fRr3acHISSPZfmAHrvbwlQh8SLWNYNI23Z4yCm2KA2cq4pN8/pqjNNdNyThLukgEokFopQVOg1Y+RjkI5eBogRAaz1MUeA7g8UOvPnzw1zvY8M5gVPYhPO3gSh8V6EKl1Bih8KVNBKCUKGY0K4lxpgK2EKxKYp6QrPv5daJ6afqu+MINGWfIPgNdsZRI3wEU63/6nrZN6tLw4Yo8ee9NPHnX9bSucS+vPPsoM4e+xlcjezP5rQ4M7/wUk/u0ZO7Qznw1rBNffdiJ+SM68cmbzRjb8zlG9XiWYd0aM3tYd6YN7MyHPZ7h/Rca0rFOFZpXf4inH67G6y+9zO4d1ihhM8THFfTKlnYIc3kGf3XIPE0RIFq1gy5imEYXZ5whG1PaRsrIEDwFvi/Iyclh+/bttGnTJoom2rhxI0AxFiyldd1yXTeqTmmzLZ1EhQoV+O677wBwHTemqw3HPXlj1dFnIagJKfB9B5wCdn49n4mtW/NRnXpMatSE794byMHly3GysnATPr4f5jP1bYJopaOxlUYjjI2ks2zbJvEI+zZkjp7n4TgOBw4ciPJ9Dh48mGrVqnHyySdz6qmn8uyzz7J48eLIWT5ZlxvONTsvU8xJk8Q4tQ5CJDWeNvhSoR0P9u5n/2fTWNa6NV/edhuLr7qSvXfdQ+GDVXGqP8behyqy9p7b2P5EdbwXX6Swd2/2D36XT15tTr0619O0x0P847MXGbikL/2+e4sX5nTjni73c3+XKlR+rTpVBjSg4vsNeLB/fZqP7ci4heNZuXElWU42CZXACzYurazfZlgJQmPtACbO39YsAAAgAElEQVSFl81/64j3cbiJlwo440AUMQZjgmSsPlo6KOUitHWKVdLg+gmMV8DsVs/zj0tv4NDnc0H6+MLBkzLQhRqb7FRIpPDxA3eI4lE2x/ehLAlEk9lFOtZYEuNMZxxK/n0q8Tx+z/hrGRgkwoQJWkl84eAX5PBur6680qoRg7u3YXzv9iz+uB/fTezLglFvMLRLYz59rxvDX2tPzxZPMvqNFswb2Y0FY7owfVAbBnV9miE92tPvhWd5qemjDOjemPnjezN/xCv8OPEfzBvxJpPefZ3OTRvSv08f9u+2uS61Cg1WCmUEUvso7SHDUlta2cQgyubxlIHeU2obeheWgrBJek0QkRQ4V2sVuP3IIMmysK+lh1I+jlvI/v17mTF9GldddQVly5Zl8OCB+J4XOOXbRBJKqMhA6Tr2N0uWLOLByg+QkZHBIw9X48CBfVZNJH2UFNZxP8hErrWwQGeCbD5Soo1NdqKkRPgJjHHZ9/OPTHqpCyPqPsXHTzdh0Vv92Pnll+Rv24Kflx3k1VRB2KSPlAG7VSoKHBAmSFRsisY+Pp9CNh0CaHZ2Nvv27SMzM5NZs2bRuXNnLrzwQjIyMrj++usZPHgwWVlZQPFy0uGck1Lh+2HJkrASqIlUJEbbkhzS2HHxpcaTGuEWQtZhto8bzZwHHmDR1dey/IILySxfngOXXs7eCyqwpfwFLD/7D3x16kmsufoKRKOnER2fp6BXD7KG9mVBr1bMG/IiK2a+y6JZ7/H1/IHMmNGH7q/W5Y13WtJ7xMt0/rALrYd34Y1/DWJO5tfkko9G42qXhHTwtW/9m6WJ/Eut33CccZpjGGc6TPgtAFkS3oRjmRI4k4EjnnU7Agttreqe8VDSwUjPTiCpUL7ET+RDIo8l7bvyzpU3s33qTIzvWnDQNmFxGAstZWiZF0GVSx1lYknp15XELJMbnQxmqfSOpQHMdIwzHSime9ZiFtzYogn1neHrRKIA7bv8c/yHTB/5Dt9NGcL6WcNZObkvP4x/jU/fasHo11qy6LMxTPtoBAPf7E6v5xsw4a3WzBjQhpGv1uX9l5vy+djhjHi3FwN6d6Zr6zr0f6khE95ozqx327N4VC8WT/qAt7q0Y9K4keTl5NidPfAt1VogtYdQLsp4aAQqKOuqYpnLw/IPvtH4ypaBEAS+vErjG+ubKrWtNa7CtGqBIdHmF7V5CqT0KSjMZ+PGTJo0acJJZU+iUqWKbN2y1RpthLSLSGiUCHTsvouTKGD7tq18PH4sZ/3xj5x+2qn06/smYHDdQutLLGzkj9UleyjtoKVNdOILietbR2ylBMLNA5nL/NEfMqRxM0Y2asbMHj3ZPHsWWZlr0NmHwCtESRdf+0UZ9eMbcsjIo5wOqUuLxOdDPPVeyD5XrVrFwIEDue+++8jIyOCMM86gWbNmrFq1KlJDFLkt6ejUWuP7tkyxlOH9ikiI1ApPKXyhEEKi3Xzkxp9Z0vRp5l5wPtsuuoitZ5/F6tNOZ/Wpp/NzmXKsKleOn04+hZ9POZXN5/6JXddfx6Y7b2ZN5XvYWOdxcl/rTO6ANzjw/hvsGf4mO0e9ya5hfVg75DV+njSEHSvmsnvHz6zZuZbM/P1kG49C5eL5DkL5+EbgGYHUwjJOGao4gmTbIXAaCNVBqdbjfwo4UwFzWsYZF0njAKW1Dh0sUSZIyiE9tAiA02h8z8fLz8MU5rKw1Qv0u+JGdsycDZ6DJx0bbRTsLEpphPIDX1AbOx1ab38N44w/e7KLULrrHA9AU+048dfHG8Tk30antu2XUtnwM98H5bNt/SpmTxjK4ilDmT+mD7MGv8D0t1swultdJvRuw5LPRrJg6nimjRpAz2bVGdGlPtPeasaHL9agX+uafD6iP198PJzxA3rxZqfGjHy9BbMHvsD8YS+xeOwbzBnbj0G9u7Liu0UYLYMY5RAcFTJySrahhxKFMrYedpiQRYduaNpHa4HRwsZ3h+Kvtll0omQmyoA0QRo1HVQ81FEuSt+XHDqSxadTp3HlVVdy2mmnMXLkSFtvSVvG6bkeOnDGF0Lgez4F+YVs2LCBHj26c9JJVmT/fOYMwNZvV75ECo2rJY72ENJFuz7GlQhX4vgKRwQbhSxEZ+9n28L5fNLzdSb17MWqGTM5kLme/KP7EcKxm4q2i10ZdcyYpxv30s6NMP3egQMH2LRpEzNnzqR169aR7vPWW29lwIAB7N+/H611YBTzWLNmDYMGDWLjxk2RRFOkH9YYYxmnCjw7pAji+90Cshd8weyqD7Lg/PPIPOccNv7+d2w+84+sP+0M1px0KmtOPZUNp/2OraefyS+nnsnq353Bij/9iaV/+jPfnPcX9lV9BK9VKwrbtyOv6wtk9+hEfvfOZL36Ett6dWfvRx9i1q8CP498CsnRCRLCRSlR5I4XWM9DdhxuQFZfXMQ0I+YZW+//zSO873EZZ/KkiL8vjcZXEqU9jPKL/MF8gZ+fh8nPZWGbF3nzsr+zfc6XIDx86eEbgxR2wdjfCLTw7UIMEomYCJ9LR8tLyzhTgenxzlSieirxP91n8eeKvqtDnVgQI62so4XnJpBODgumT2DuhCH8PGcc307+B99P7MXCkS8zsltDJr37EjOGvcmw7m35oGN9Fg3pzJJBHfh6QHuGd6rHgI7P8FHvzvRtXZ/RPdvy/SfvsvTj11k1rS+r53zAuHdf4qOh/cg+sg+NxlMunvEQgW5SBaK4CjworP4uqIkdjLVRvgVLJTBGgBEYI4OY9sAgIqXV/8kAdKUMUpPJIHmDCj5XCKHIL3DZsnUnzZ9rZcsEP/AAe/buwaAR0kcoe9qUZAYhFa4rOHz4KCtWrqJGjVrB7yrzy5atls0JiSc1BUZTYKQNtHA1yrH69YT0cZWLzD1C4pdMOHKQgi2b+enLOXw3ezZb160lJ/soCd8hYSSFRpLQMqqZExVZK6aGkcesmbi0kTxH4/PEitp+5Kq1ZcsWli9fztChQ6lYsSIZGRn8/ve/p27duvz444+AdSXr3bs3f/jDH+jYsSOO4x6jC43y5gbGVxW4ORmnkF1TJvHJ32/kq3POZeUZZ7D53LPwbr2dXX+5mOVly/Hjaafx8+9/xy9/+APb/ngOG886lw1/Po+1f/oLK/94Hkdvvw9Zsx66wTM4jRqTaNIE0eQZRPNmZD/XjK0tW7Hz7X64K75DJA6TkziCqzy0Ct0Y7SatTdwTQQfZxFSgM7c6XJ0iCXMqSe/XgmKq66a69nHrqqdjYErai1mdpGezJQWhZr4vkAUFsHsn85q3o/+N97Bj9pegBb6WONouFBMmQNZB2FfgjGvvA5QgJpfEHpM/S8UKfwvjDCd4KhH8eM8UvpbaYJTEGCumK20inRfG59C2DUwZ/g7ffj6GtV+NYvXn77F8Si++HNyJj15vzsS3OvBRj+YsGdyFVUM7s2pwJ1YP78aC919kQs/mfPxqC8a/8hxfDenBotGvs+ijN/h5zhBmjHqNfl2fY/X38zDGxdNWv2R1X4El3RiUIvCnM3aDC11qAoaptUSbIsu1ITAUKfsbW0DOQ2kPpbxATA5eGw9lfJTxkdpKKtoYEgmfQ4eymD7jc6666lpOPvlkho/4EM/30EbaTVd5gd40MFopRV5+ITt372HK1KlcddXVnHzKKbzYuQuFCRfPF7hSWeuxMUhpML5BeIpC6ZNQLiaRy/qpU5n9ymus/2wazpatHNm2lV3bt3Lo0GEcV+Aoa4FOGIWnJZGTNqnJRTrWmWygTBbjw/dCp/+srCwOHDhAZmYm06dPp2XLlpHu86abbmLo0KHs2rWTkSNHUqZMBpdeeikLFy6MrlE0L1XE8E3AQn3PByfB1rHjmHDVtcw/+1x++N3prDnrTPZfcQXr/nAW6/50Lgdv/ju/XHYx6/90Dr+cdx6Z5c9n/YXl2XjhRaz/8184essdJB6sSkGVR8ir+iiFj1VHPFYd8Wh1VO265NSuxy/1GrLzzTfx165A5B9EevkQquiMCNQ5di2E4BklTjY6kkBTrc1UkuCvOVKNS7qxK3UG+JQXVTZyyBgfEywiV0pcz8cozZpPP2XYvQ8wt0V78letAeXjKIGrLHBavVMYfeQHRepNsXjUOIjHATAV40z+brIxKB1rPB7jjAOwUkWZxtMBePx1OiailMZoiTahn2RwfW3wHQdkIau/XcDUUe+yet5ovpvci+/H92D5xz1ZNKI73wzrwaJBnVn6j1Yse7Mp33Srx5wX6zD5hSdZNOQlvhn8IgsHv8CSEV1ZOKI7Sya+zbJ/jWZg707M/HQU0j2KkQUWOJUX6CJVwDSJVClaCVA+OgiNE0YgUYEBJABbE+ZktAYJa0Cym6o00hoNjRXHPG31Wb6RVrcVqASkCKOJcti0aSOtWrXh5JNP5s4772LTpk22b4yIol2s07nE9X083ycrO5ut27bRu08fTj7lNM47/y9MnDQFAMdL4Eu7sSsBUmocKXBkAtxcNs75nM9atmbE47WZ3Okl8jI3IZ1CsnOycD2BEhopDL40QXScxPi+rRGUZmGlUs/E52kqgE2em6H+s6CgIKq0uWTJEoYMGUKlSpUi3WeNGo/z4YfDqFKlMmXLnkSbNq1IJAqKjGRKEjhHBvHpPkobHM8Dz2XbuPF8fOmVzP3jOSw/+yyWn3UGP//xD6w6/fdsvuhCsu6+nV+uupw1fzmPTRddwJqLyrPrthvIrlKRDZdUYMuVV7L39ts4XKkiWZUfYM+tN7Pl2qtYV+FCtlx7NTn338+hB6ux8qFHWNfzFdi6Dl1w1IZ6KokK5ok2Co1Ga2IO8BS5xQXGt+QNJ9X5a47jEcb4eJ1QdqToh4Evn6X+MiokppXGUdoOCPDNkA9476bbWdajF2LrTozwcJXA09qm65JW+SsC44EJsvCoIEdfqp0kWSRO9Vky20wHoifKOONgWNL1UjHcY0V7Y0UTbcVYW39eR+5JWnnI/KOsXzafJdOH8u2UPvw8tQ/fjn6ZH8Z0Z/mYniwZ8Dzjmt7L2Ho3MfGpO3j/kesY17IaS4e+yDeD2vLNkJYsHNGOr0f3YOmnQ5g+ejBffDqJgqxDoArw3Rx86RYl+VA6SPpgMMJHKx+0jxT5SFVo04npQGTWIgi5Dd1yQuYcMlMrCitFAMZWVxUZk7TGVRLXk/jSR2sX4RdQWJDNkcP7+XTqZC6/9DJOO/kUhn8wHKfQtZZvEZY99gLGa3Xjrpsg6+hhli9fRqPGjcnIyODuu+5m5U8rMEYjPAcThkAqgesVgEyw59vFfNr+eSbVrsvEeg1Z8eEo/N27QHgUugmUUOAbjGfQkkA0l2jt22xXaaSNVJtrqoUZn0/JczX+2vO8yO9z3bp1zJ49m+bNm3PmmWcGMe9Xc/fdd5GRkcGVV17Bjz/+aNstLHDKoGSvVZXYNehqCcJn65hxfHT5VXxx1tmsKP9nvj/7DFaecxaZfzqfLeddyKaLK7Dx4gvZXOFitl12GWsuLM++229k3603svnSCmRWuIifKlyAqP8kOY9VY9X5f+b7s8/kh/PPZv1VF7O2/J85csNNbLrhVubcfjd7Rw/DZB1CeR7K91BaBgbDGA4oU5T4O06W0oDkrwXLXwuqJ5TIuBi4hCKcthl+lLKWckcbEp6Nq/120DAG3nwn3/Xoibd9Jyhb0VJojRGWXQqj8LElCZA68BMN9X/HF89TnXHdZfLELImhHg84499Nd59UYlsyS7a/IwJNE+h3pCoSP5Xw0W4+Inc/+9Z9w/r5o/nu49f5YXxPFo/sypIR3Vg6qBPTX3ycoTWvYUj1axjz1F189Xozlg7tzNdDWvPNqDYsHt+J7//5DvMnDWft4sU4WYVoRyD8AoQsCBZU8HxhlIuSFjCDZAyeKMSThVa0Vi5COsFfmx1daw+lXLRy0MrBKMdW4BR2PLUMomnCmHCl7WJWAiUESjhIU4CQ+Xh+Prm5R9iwYS3NmjUnIyODypWq8MvmbdbK6hcle1bKDe5tWWhhYR779u5h1qzPuf222yhTpgzNWzTl4KF9KCkQvofrO/jKwfgJspYtY173V5lY/2kmPvUUX73ek30/fEvi0B6kX4inbBQSwmCEtpu6VoEV2I3IQqq5kGphxz8P11sqkfDYuWJfCyEoLCzk0KFD7Nixgx9++IGhQ4dSrVo1Tj/9dE455RQyMjIoW7YcXbt2JZFIBL6fIriWjio3OFqTUAI8hx0TJvLxdX9j+u/PZNWF5cmrfA+7//431v65PFvLX8SOK65i5zXXsOPyK9h52WVsv/oqfrnqMrZcfinbL76EnRUuYe2Ff2Hvvbex59a/s/bcc/nhD79ny9+uorDqfaz8w2lk/u5MNpx9AV+cfzE/NG2M3rgO7QuU56CUQJtgw1VB4uIgDFZrjYJiOXqPB2r/CcYZ/xxKmci42GSAKBokFOVsvLU1cCS0wfF9MPD9wGEMvPkOlr7yGt6OvRhtokQgxreinWcEnvFRWlpra5DkQ5v04HO8Mx2g/rsYZ3KfJLPzVMAeZlcP65gbACUseGoZ5EW0u6sImJEWLvh5eIe3sPSzD1g5fTA/TOzLorGv8/3Hb7FifG9+HtWVJW82YsGrdVnR/3lWfvgKi4Z357uPu7Pw45f44qOXmTq8B63rPsYnQ0aCA9rVKOnjywTCD1QkUqGlACORwkEKF8d18ZTEM4p8IW2KMCXxtcQVtmqhUj6uX4gQCaRKBK5pbmAcMtG1lRIW8PwEUjhovxAtCzAqgZKFNspMFSK1T6HncODgQaZ8+hlXXHkN5cqdxsgRY2ylAa0RwkPIBFK5aC2ieGbft6xs85Yt9H/vfc4991zO/OPv+XDUUMDgeQ6e9FCikMLNG1ncqx8TazXko7oNmNatC2vmTOfA1g3k5BzA0y6OdpAmcJ4P0uoJLfn/yHvvOKmq+/9/o590TSKxa+xdY40tttiIsUYFQQUBqfaCgvQiimKhd5YmvQoIAlJFlt5ZYIFlO9vrzNxy2vP3x7l3dnZZEP2azye/ZPZxHnN3Zmfnzp1z3uf1bq9XTPtEtWfVKLU5Yl7VXrh1/V7Xwqztttees4mM94sXL6Zx48Y8//zzPPjgg5xyyimccMIJnHjiiXHWpa1bt2KMjndThVIdwghcY4j5HrhR8r+cy4Rrr2PGb09iy1lnknPDNRy86nK2nnEmBy+4AL/+Azj338uhyy4j69LLybjiCg5ecQkZl11CzgUXUnT55ez707nsvvBc9p1zNrlnn8+OP57KtnPPZNf5Z7D1Nz9nZ1ISu074DatPOZXVD96D990qjC9QsRgilL82QXtlUH8a1nIaY47oVvu3RJy1R/yFwYK3O4IJykxsbZ6vJb42xIwm5vugYf1nQxlw/c2s6tYDLysPYwjIQaxLrrXGNT4xY5MTtj81eF9T9058PIizrl37+2Iix/NceB2Olgiqy3DGnwta8uIIxRiMltZ4Ks9mmMOOHQ1SePixKowfZde6lTT9x510bv4oS8Z9xNpZw1g0ri9Lk3uzbmw3dk7swpZR77J5dBe2jOvDd+P68M24XqydP5iNKyfyZqsnOe0XP6PdM89SeMh+D74QxKSH69qSHaMFOsiYS+3jKklMKvLKY2QWR8mpcMiL+ORHfEpcSZlvKPehUoILeFTf+0BMW8rAmDbEjMHRCkcLXO3hKQ9HxHBFFF86ODJKVLpUSZeoFLhKU1geZffedJq2aEtS0s+4/4GHyMjMQWmNr3w8ZfkcldYIrfCURBmDKwSHi0rZvHUnTZu3IikpiRtuvpENmzYijSbmOajKClKSxzK2yYtMeq4FM19/mw0zp3Jo33aKSg/jKxehfVwVw9MCVwfdK8YaT99oYtiyOWoDi+MYcGTP9bHmYuJ8c10XYwxdu3YlKSnpqOOEE06gY8fOOI5H2E4qpQ5o5SzI8YQAL0bh4oWM/8uNTPn1r9l+9jnsOOsMdp9/LmmXXsreSy4l+6Ybyb75Lxy65hpy/3wdWddfS8X9fyPvhuvIvfIqcq+4koyrr2T/xeeRfs45ZJ75J3adfi6b/ngqG0/6DTt/+XN2n3gCu37+C7476WS+++uNuIsXgOejYzGk79o4tw4IPXTQJip1wPgO/IsN4w+9fS+Rce2EjEmcKAFKEdoWrvvKEDWGqO+Bgg2fDqH/dTexslt3/Ox8wE46rTT41qDFjE8UF2Gs2xOizerJ8/0udO1xtNrKxI2g9vERn7MO5HgsA3k0VBsf2iJs2/KmEMa6TYQksloAJt7RInwHKRyqyooZ3O9jrjjzj7Rr8A8O71pLSdYODm75hh3Lp7F2aj82TOzJ2jGdSRnbgzVj32fD5AEU7FhB5eE9SFHOssVzufWay/nrlZexbM4stOsQ8wWVnocrXKTy0cZHGw9lPHytiGpNbrnDiClL6DVwBh+OWsQnk1fRZ9wSPpm8gmFz1zNsTgpDZ69h7KIUJi5Zz+Rlm5i7dhcLN+5h4aZ9LN2RyZq0fDZmlLAzt4r9pS6ZFYK8GFQaiAFRqu8jQFXwe4WA7OIIM+Yt5vxLr+TEE/+HMePHExM+nlLEpMRRVhnVVQpHahypifiakiqf3KIy5n+9jLvuvZ+kpCQaNn6e7JzDSE/gFxSwc96XjGr3EmNffpUNEyaSvW0rZSWFRHzLzCRdB618PC2IKg/fiGrAIG1vf1wNgSNDP9WLqtb6Ch8yVB9Tt5sYzs1EJnjfFziOw5o139GhQwdatGjB88835bFH/8ldd9/LbbfewTVXX8fFF13KIw8/zq6de9HK4PsKIQxC2SoWJRXC9cGNUrZ6OVP/dhfTTzqJHWedRdq5Z7P/wotIv+IqMq+8mkPXXEPm9ddz+IYbKbj+JvJuuonKvz9A9s03kXH1laRfcxWqwRPsufBsMi48n4PnXUzudTezqd4Z7PvDqez6nxPZ9asT2PrbE1n+8yTWXHs5VTOmYFwf7Too4QXdWDZBGbZdaqWreSsSrvW/w+24XPW6hlIKLSQmEJn3tRWadzTEPD8wnEPpf701nF5OAQbiCQXj64AdySNqXLygFImgNaw6OfTDynyOB3HWZdh+COIMf6/9P+sqtq9xTkHsNqyT1FrHmXNCjkSbOVQI10H6Ll9Oncxfb/gLd914IxuWfQ1eJdovB7eE4oObmTf6faZ+8ioLhr7D1H6vMrZ7G6b268T+jSuQXiVSSypKymjfrg1n/uaXtG3ckH3btmAweErZLLmx3ULSOCjt4WhJpdIcKKiiU99kWncYTMtOI3juvdE8914yL3QbR9MuyTTpPIoW3ZN5sUcyLXqM5oUuw2nZawwv9RlHm97jaPfBRN78ZDqvfTyF1z+aTIf+s+jYfwZv95tM54HT6TF0Jt2HzGTAlKUMn7GEUbOXMu2bTSxan8aitXv5cvlWFn67jUcaNifp57/hnvoPsT8nh0oNJdpQKgzlCio0VCmIaIgZiBrIK9ek5ZQxeOQkzjrnQn7zi98w7KNPIRpDlZVTuH0XK76YypJxU9iXsoXSw8VEXRdHBsXjnkAKQUwJItpSr1mNLG3nrgj1mMINsWZ4yX73KijTClQl42tMJ6jF6vhj1SxABhWUd2GwCVhlwx3GKCKRSvLycti0aQNrvl3FN998w4KvvmbOnK+YNedrkidMZ8r0uSxfuYaMjGy0It4HHiZelRB4sRjEIjgb1zPt3ntYecEFFF9/HXvOOZvMq64m+5o/k3vNdeRcdyM5N95E1k03kHfTX8i48XoO3/1Xcu+8jZybbiLzxmvZe+0VZFx9CQcvPp+sq/6Mat6GtPMuIfXkeuz71a8pv/R89p/1R1b8+n9YdfXF5I8eDo6Hduw8t8XwtnswLIA3wnqhQLW65b8J8jxuWrkjDIGsTiaooJRFKYMSBs/1wMC6QUMZcO0NrOnUDS8r37KdaKvoqKWyxMUqcLWMtjIcWtWIZ3yfYaoLCSai5dpFrMfKxB/r89ZVZHuszeVI5J6wCZjqyoFwGGOC7h2NEhLtuuxcv4FGjzzChWeeSfMmz1FVWmYTJK7D3l2bmTjqc2aN+4QJgzox/IO2jPn4FaYN6cHEIf34dMCHfLt9IxVS4kYFq+cv5Z5rb+Ga8y/iox49yDuUgfZtWZjtMrGTVkiB0FbqICu/jOVrdzJtwWrGz1zG8GmrGTp1NYMnr+DzCcv4eMwSPhjxFb2HfUX3QV/Suf9sOvWfTYdPZtD+4+m8/fF03ugzhVffn8TrfabQrudEWnUZR+tu42nRZSxN3hlBk/YjeaHjGJp2GkmzzqNo3nUsLbra51t0GsmL7QfwQIOX+eWpl/CzX9fjsWdb8FKfUbw+cBpdR8/mvSET+WjcHAZPX8rgKSsYNmMtExbuYPKS3YyavZ4BE5bwxFOt+V1SEg2vvIrFAz9h14plbEnZwZLFu1i69CAbtxeRWhQlM+aRU+lRoS0CjgKV2qLgCNYgxzRElcEx4BtjiTKM5W3wlA0Z+FoipHU9RdhmqqRtRZW2T1xohR8KG2qJkj5KupigntFTvo0ha42vrFcgtW06kDJGRUUxhYU55OWkk5O5n0OHDrElNZNR05fx6Zh5fPXtdg7kFVNaVYEvvKBO2CBcjRYaR0Zx/QjGcfE2bmHBQ/9g7h9+x+4LzmPbBeeSfu2fSb/2WtJuuJ7sW28j9757KHv2KbIeupf8h+4n4747KX60PlX33UfOVdeSe931HLr0AtIvOY/9l1zKrgsvZetZ57LtD/VI+8PvSf/9yew++Xcs/tUvmX/ZRWSPHY1xPFQshvIcpPQCz0fVkKoObQHh+De5Hbd0BtSuqdSBa61sWUhQxG08jXBdAFKGDGXgtTewtlM3/MzDoLA1fsZmVUPpWWk0Pho/eL/EC1QX0qttmMLna/9t7Sz38cZEj4a8w8B87fetKzN6NOQeToawIFkabWM72tje4QDFVBYW0eixx7j0rDN5tsGjHDiwC1d6RN9gXhoAACAASURBVI0iu6SY0VMm88HnHzNzwQymzZ3MB/160qHrm4yblMz4mVPoOqw/n82dxs6Cw/jGuj3zpkzn+iuu5NyzzmDAZ5/hux4acN2w5TWoj1RWN6e0Msb+zAI2px5i7dZ9fLthB6s3bGfVuu2sSNnGsrVbWfLtFhau3MzCVZtZtHorX63czKyl65m2dD0zlm9lyuKNTFq0gSmLNzNhwQbGzVvPuPkbGTN3PSNmpjBiZgpDp6/lsymr6DdhBR8kf0P3EYvoOmge3QbN5tVuw2nd/iMuve4ekpJ+zXmX3kjjl/vRpP1Inu0wmKadBtOy61CadxxEyw4jaNlpHE07jqFZ5zE07ziS5u/05+ln2vLIlX+h810PMqJpCz5q9zqdO37EWz2SebXbF7z+wSTeGTCB9oPG807/KXQfNofOg2fQadA0Phq/kFHzUxi9IIUJS7cwd91BFmzKYsm2XLZlVrIjq5y9+THyolCqoMxAJVAqoMSHcm0o01AuA1RsNBEMVaY6/hsNcgOO1tW/a6vpY/v+NX5ImhJsuEIJPN/DcaNUREupFA47svJ5f8RMmr7Xn9c+SGbCV+vJi2iqlMJRiqjvIjyF8hWVshJHRcDzEFtTWfJ0Qyaf/Bu2XfgnUq+5nP03XEfkySdxGz1Dzh1/Je+B+/DbNie/4WPkP/0I3httKGn8FFX161N1x70cvPoacu64mX1/vpKdf7qIHRdewtaLLmb7BX9i9ym/Z8+vfs3W35zMVyf/nrlXX03B1KkgJDIWQ3suKiB71oTkKEEGPUFGg1phjKN5iEcbifakrtsP+b8/GnHKMGYXUGvJgD3H+BrhWcS5dvBQBl13Iymdu9dAnFYoKihmVRZpekYhwvfQR75/XQapLvRY22AeM+54nKMu5FmXIf5eVz0cJuRrtAQRvvTxpcZ1bRH4rq3beK1Va6664EKuvfgi5s2eDEgqpUOZ0izdtYv3x0+ky6jR9Js2gw+nTKVJ1x4806ETzXt/wNvDRvDqyOG8PGoYkzeto9Qo27LoRujZpSP1TjmZ66+/nj59PiRt/0G0NkFZkghKe2zPuScUZRGPgrIouUUVFJeWUFxSQEHhYfLy88jOzSYjO5tDWdkcOJRJWnoGaYcySMvIJDU9k+37D7F130E2paaxcfcB1u5M49utqazctIsVG3eyYsMulm3YxZL1O1m8bheL16eyaN0eFq7bw8K1qcxfvYv5K7cxec5Sur3fn9POvJCkpN/ywYdTmLf4IF8s3sGIuSkkL9jI4C9WMHjitwyYuIYPxyylx5B59Bo0l04fjuCNtm/y2QuvMOWFlxj9THN6NXmJ117pTpvOw2jZfSyteiTTptcIXuw+jBbdx9Oy5xc07zqWpp1H07TTKF7oPJLnOw7j+fdG0LTzaJ7rOIrnOgyneedhvNBxAE06DqBZp0E07zSYZu8NpG33YXQeNINuQ2bRa8SXDJ39HWMXrmfcvO+Yu3o3C1L2sWjdfr7bV8C2rAq2ZJazI6+SvUUR9hRGSSuOkVnukF3ukFPuUhgTFLuSwxFBma+JaKhUUKUMEWURcL4rSI9oZqWk8/bAeTTtMpGm703k/eRVbM11KVOaCiVwPB/PV0RNDEc7CMfB7MtgWfMWTD31FLZeeiG7r7uGA7feTOTpJ3Gfa0Tx/feTddfd5Dz2MLkNnySn8dOI97vgvv0q3jPPkHfb7Rz8y004r7am8IH72HPJVWw650L2/eUm1ItNSD37dNb+z8/ZcNppzDjjTObddy9q43rLC+o4aN8jbOkN+Uzj8jlKB6z1QSWK/n5axx9qGGs/dzy3HySdoRNO+gjEGbjqWhhLVgGkDBrKwGtvtIgz0VUPpEAtfVQ14hRBnIejfMDaSPOosddjoMkfgzjryqLXPq/a7nxdrz/ivJVCKIkn7GT2fUFlZSWNnm7AVRddzK1/vpaFs2aivSjRWIQyIUgtK2fQosW8O2Eib0+axEvJY3hhyCBajxnNa5Mn89THn/PiiIm8MnkGDQf0572pX7CjOI+oiiH8KmJVxXza70MuueRSfv/7evTs3YtIJAKGIFRgS4xCBU6hNJ4ET4EWEuW7CN9FCg8lXKTv4nkenufhulZbpyoaoTJSSSRaQWWkgvLKUsoqSymtKKG4tJiC4iIOFxdyuKiA3MJ8sg8fJuPwYQ4ePsz+vMPsy8ljb1YeqenZbN+XTsrGHXyzfA1PPf0sSUm/4K/X/Y2Vy7ayelsaq3YfYPnWfazZfIBvNx5g+Ya9LNuwh2UpO0hZu51lc+bzRbcejGjcnMmNX6Tj7fdxyxkX8ubb3Zm0aB3jFmxi3LwNjJm9hlEz1zBy1nqGTPmWgV+s4POJy/h0/FI+HP0VHycv4YNRC+k+aA7dB82l+6AveevTabzxqY3htn1/PC17jqFljzG06j6GVj2SadltNC27jebFriNp0WkUL3YaR4tO43ix01hadBhNs3dH0/TdUTR5ZyQtOo+jXa/JvNR7Cq/3nc67n82gY/9ZdBo4h16jFvHh2KX0GbOYAdPXMHDmKj6f/A2j5qcw+ZsdTFm6k5mrUpn53SHGLE3j45mpvDpoPQ27L6FBp/m0+2ABE5fuIq0ggqfAk5IKGSWiHaQvMNkFrOvwLguvvpzUG/5MweMPUfLEYxy6+y4O3HcnRfUfoPzRxylr1JiSVi0oeKU1hW+0o7htC8qfaUjBAw+QfvttbPrzVey+7noOXHU9uy+6nN1XX0naLX9m+R9/y+p6f2DHDTfx1T33sqZ3N6goRnqu7WKSljhG6UA1V+t4r7oJWrMT+9P/XxDnsWxd4u8/CnFCTXak2ieqtRWTt3x/tVx1H6RnhexTEhCnn3kYNHFKMq1UvE6r2nAGxjnhg9Q01kcapMTzTTw+mgH9sSPRAB7P+9U+37rCBkpa2jVfCnypiDkuruvSq3sPzj39DFo3fwGnvAS3shIZVCysPpRBx/HjeTl5JO/OnU6rCaN4fvRgmiYP4Znhg3h60DBeGDmVNpPm0HjoSJp89jnT1q+lRMSIxCoATcb+NB598B/c/de7WLrsmwSk7CG1LW5XynbmhL30xlBdghaSMCsTrz2VyiCkzdrK8DsKEl1K+ojA4IYJDh3UdfqeY4fwcP0YEbeS8mgZpVVlVLkRSisrKC2vICs7lzGjx3NavdP5ZVISySNHkFWcw8GSPHJKCikoLCYzK4vcgnxy87IoPJROyfadrB8yhEnPP8u0Ji8wrkkzGlx+JScmJXHr7bczfe4idu7OYvOWg6RsSmP1+lTWbExl9bodrEzZzjdrNrEiZQvLvtvEsrXbWLJmM1+v2sCiVZtYsHILc1ftZvaqVGat2M30b3Ywdck2pi3dztSl2xk9+ztGzVrL6FnfMWD8EvolL+bTiavpNWwhXYd8SbfB83in31Re+WA8r/QZz8u9x9Gu1zhe6j2Odr0m0KZn9WjebSwvdh9L8y6jaNZ1FM26jaZ591G06DmaF7uPpkWncbTrPpU2PSbyXOexPNtjGk91n88TPZbzRNfFNOo6n6bvjaPvsC/Ze6CIqC+pEBGi2kP6CpVXzIHBg0h75mkO3nUb5W1a4LZuSfr993Doib9T1vAp/Oebotq+TNHLrxDp3hk9bAA5rVsQbd4M0bo1B269hYzbbiP16mvwnnyaqrvvZv3p9Ug591S+Oe13fPXHUxn2u3pMe6oBlanbkSKCEl5Qxxx4OwlZdR0ks6zgnQ6IjQ21Na+OBYxqVwfVXre1bVsiKKqrNTtx/CB2pEQjYQu5TU3EqQ1GGGSIOAcPZdB1N1jDmZFX7aofp+Gs6zyOGjeshYj/X1zzo7nrP+T9vs/4hgkjGzcVCCHxfVt2kn84n/6ffkrKt6ut4VI+FbEqDpSVMvzrRbQePJDmIwbxxsxJvDbzC1qMG0Xj4YNoOGQgDQYNpdX46bwybR6NBo6gwQcf03ncODZkZyIAz4mC55O9P5203XtwPcu6L6WH60VRykNpN2hp9GyZkraIICQplsYm+AQhJ6cKji0BhqMVvgoTiIFnElLJSYURKuBclNYV09p2UMmAccn4gLBEytrF8WKUlZeya3cqDZ5+hl8kJXHfvXeQV5xNxI/iSRfhexglcL0qhFMBJYWkzZrN5KZNmfbk48xo3oyvP+zD4G4dufyyC0lKSuLdN9+kOCuXaFElZUXlFBaVUVRSQkFhoQ1F5OWQnZfDoawMDmQcYv+hQ6QdyiB1fzo79x5g+95DbElNZ/Oug2zacZCNOw+wbvt+1m7aw7otaazdksbq9btZvS6VVZv28M2mPXyzYTeLvtvOonU7WbRuh71fv4t5a7Yye+VmZq3cyNQlG5g4fyPj524mee56hkxdRf9J3zBk6ir6jV1I75Fz+WDMl/QeMZtuQ2fQfehXvPvpbDp+Ppd3Bs6n7SfzeK7vAh7v+SWPdZvNM91m0LLbBNr3Gs2sed8ScQSOdHGljxPxoSLGlk8/Y9Z1V5N61+3kPfYPMuvXJ6/BU5S2a0pl6xb4bV7Ce+0tyt7tQKRvHyIf9iK3TSvKm76A8+xzZNx+O+l33MqOqy8j95a/sP+KS9l81mmsPvX3zP/d7xjzu1OYdMe95H25AKJRnLBjKHDRdUKrrgqYuYwK54+KV6SEddA/dBzZ8nxk2K2u5442jmo46zJcNYyCOZrhBOnXgTgPHQ5KjYLXHqfhrGtn+L7n/hW3H/p+dV1DqAOdKm3JTgJiWc/37N8qifY9hBfFVR5lymXV/j10Gj+W5z7py1Mff8gbM6by2vTJvDh2DE2Hj6DJ0BE8P3Q4LZMn8tqUWfyz7+f8vUtPWg8cSvLKVRQJgSsEnuNaeQKpkXEGHYUJ5J6V8QMvworwGSx1XEjGULO3WFi2I+0jjY+PhzBeQAcWlpaZuKS0DsrNdBifDgysEhrtG7SwTExKW/YkoWxXiSdcDhfkM37iBE4//TR+9atfMXP2LDxHoIVGulb6QggXpIefd5i1I8cxvNHzTGvRnOUff8zOxYtYt3o53Xp34w+n1uOPJ5/ElJEjbILE83GEH2TBAyYm6eEJl4gXpdKJUhWLURlzKI/GKI1EiVRVEq2spKqigvKyUspKSikpLqG4sJiiwiIKDhdxOL+QvMMFZOfmcSgnm/SsbA5kZbIv8xB70g+Smn6QnQcOsD0tje3709i6by+bU/exZcdBtuxIZ+O2A2zcso+UrXv5btMe1mzYxeqNO1m1aTcr129n6dqtfLV2F7PX7GTa8l2MWbiDnuNX0rLfLJ7uOZGGPZNp8/EX9E3+koWrdpCZU0akyirQ+sJFuAYTlaQlJ7Pk3rtI/0d9Mh5+iPT6D1HZqgXR996g8JU2VL72KtF3OyI/+xzns0/IfvtN8tu1pazpCxyu/3eK778f8VZrdt18BTuvOJ/dF5/HpnPP4pt6p/DFyfWYctNfKZgyA4rKUVUC5SsbEgpjm3FPJAj5BXPEBC2Y1ZUpdVe4HA0oHcsw1vYIwxGS8RwrPPe9Mc66DIHW+qiI08Y4reFMTA7VjTit8TyWq27qOK7LcNU+/qnHD32/2n9TGynXRqUqaC2z+tbCsoorq7ce1XCwtIrkxcto/dlAHu/Rmyf6fsSrU6by5rSZvPLFZFqNTqb58GSaDB9JyzHJvDJxCm9MnE6r4ck83fsDun0xkR0F+TjGqoq6wg3INexOHiarwtIyGZB3aBW46vFifR+UqDV8CB432hKDaCMR2pbdCBN2qwT/O/hd68A9U9pS2EmDUYFh1TrOv+lLD42ivLKMg4cO8PdHH7FSGX9/DD+mcWO2pCrmuFaKN1KJKS0jO2Ujc/t9xpcff8zeZSs4nJZOdnYe6zdvpekLzfjZz37G3bfdxu7t2/GNptL38KRduL4fSGMEsr92A7A901KD0ASdX5Z82kjPFnJLHyU9pPARvkD6PsLzEZ7AdxW+o/BdiefYMjEnKohVeVRVulRWOpSXRyktq6SkrJKS0gqKii0SLiwq4XBBKTn5RWTm5JOedZiDWTmkZWSxMzODbVm5LNuczvvDv6Jdz0k06zqBVh9M5L3hsxkyexlffbeNnWnZFBZHiEYdpHJsJtvXICB7zmxW/fMRSl54lqLGDcl+/AkKmzxPRqsXyH37Zaq6d6aqaxfkgP64/T6mqH17Yu3b47/0Egfv/hu5d9xFpNGjbPnLpWy96kLSrrqC/TfcxPjf/p7pt9xBxrjxUFmBclyUoxBOTaRpaQplkDi29aYysDO11406ipE8ltH8Pi+y7jV5dN7e40actQ1ntfFUdgEEi68uxLm2Uze8Q3kQRx06UMcMEKdW1t37L0Ocia67MdVyuFJKVCAcJqVPla9Ys30vXQeNomn3vryTPJnhazfRacZcOsyYzesTp/Dy2Mm0HTuFluMm8dKk6bw+bgpTtu9lxs69PNO1C+0+7M28NSuo8mMILagSLjEtCQk+VII8swqNXWg0jQZj625tP6iudreFwvjCkrZIBQFZsVISaURAJ+cjAg0ji2b9gI9TBMcqgTrMGikpDQZwPdeSgWiJ6zvkFuQyddYM/nj66Zx44v8w7YvpAHi+AzJG8YFU9q5YTiwrm+L9+9mzfgPb1qwh52AGFWVVlFdEycsvYfqMOdx8s2UTavvKqxwuL0eA1UeSGumrgOzEls4pKazLKDVG6ICAwm4UOp5MCxjxVVhiFvToh+qevrH6R9JgpAnIQwzKt8KFIeqWQsc1gTyhcIXCEdLeS43jKyKepNIVVLk+ZZFKyhyflRvTeKPbCF7vOYFeQxYxcuY6FqzZy7pdGezLyCe/qIxozLcxQ2UTM8I3IKF09UpWNfonOx+8j4oWzShu0oSCpk3Ja9uOkt7d0SOHEOv3ERU9ulHyzjuUvvIKxS++SHnLFzlU/yEO3nQrO2+6lk03XsHqyy/kq3PPYe6FlzP/vn9weNZMKC8mFq3A8QSup/BlgupAYEBNQLFoeWCD4zrQ4tEM3vcZz+MLnx1d0eG4EGdtI1DzZJTtJVch4rS95pa8wyACdqS1Awcz8NobSOnSAz8jcNVDVueAUNWWI2k8rORwbcT5n3JLNJyJX1hiXWji5BDCQ0obYywrLmDBoq/o2Ot9Wnbswor9h0gpKKfvnIV0nTSHt8bN5PVxs2k7ehZNR02lVfJ0Wg8Yy5jF33KwMkLv4UNo886rzJk/g8rSfFA+USmIah10lFjXSCpskkeHgmuWZ9MYU61WGY9JVt/HtYDiOlIm2EhF4I34cd0ia2wChKFknEXeynRYA2njWPaa+b6wuj3SotiKyjJSD6Ty/PPPWjLfa66hsqocI2P4WftZ0b8/g19ozsYJX1B5KJ2CrAwK8nKorKywEg3Sp7ysnEPph/j88wGcccZZ/OLXv2XoiJGEGlee7yOFjeuakPlJe4GRDM5f+oSdPlpXJxNChGq7wwJhNC2tDLQwQb94gGAT6BOVrpYmsdpMGl8bPKUDHlAriucFxyL4XQSeSiQq2XeoiOlfpTBxXgqLv9vLhm3Z7E8vpqA4Qiwm8IUl2JFKomQMI+1jWhti2zexvlVTttT/G7GX2lDWsgXi7XeJvNWBQx3aUzHkM+SwgajPPqa8/VuUtG5N5lNP4nd5j1irF0m97ibcBs+Q8eADzDj/T4y/9ApWt2hDbPkqTKQSx4kQCXgIor5nyVZUSIodjtCABdfPqLjUcg0jdpyI83gQ6fHGNH+U4QwXfGgA4rGGADkmIk4lrFgUQMrQYQy+7iZSOnbBP5QD4UQJJVulxATukG/MEeVI/0m3YxnOUHArbjyVRVe+9CgtO8z2dV+zaM5oBg7ow/ip4yn0YizYsIUmHXryxBs9eaBdT+5s2Yvrn+/CZc+25y9tunJLo1d5o8fnRKVm195Uxo0ZxILp49i7fjV+RQm+FMSERPgqrriplP0OhLEcmiKITyoVJoSCFk1LZYxAxie3RAcufjjhw2J/S4RBAuMNAeKKHyuJMg4KKxBnybEDnXehUMJeE1sk7ZJ3OJfpU6fxh5N+x+9POplJ45NRhXnsmPgFExo1ZVLDF5jfqTeRvQcw0Qh+ZRlaxpDGxVcxHK+K4uICtm/bRts27fjFz3/ODdf+mY3rUjCYgFw7HD5Su7bSQHtIfJs8U37Cd1cdr1XaAoHQcFokrxAq6KvX0ibRjMIzftDyaruLrJ6RGyjHimppkiBhZpQALSDYdOJKnkLjxHzyisrZl53Nlv1p7M08REFhAU4kgnI9pOfieS5CaxvLlTE7z4QVbiMrnb1d3yHlvrvZ+9g/OPTM00Teak/xq+1J79iRyhEDcAd9ivykL8UvtaGkaROyHn+Mqjdfo+jZZ9h5/c0UPt2YnY8+ypw77mRjty7o1B1IJ4ofc3B8hScNju/ie1GEcKrLkOJtxzLgdLDJxnjNd2jklKrewH8Cw5nohtfVEfiDXfW6Fn1NK21Rp/3ClVUSlFbN0NeWBV5rQ87KVUyr/wjznmhA5boNIHxLMqCwRlO4aOUG9Vv/fYgzRB3h73YRhryEPo4bYdeOTaz+egbrV8zhy5ljSdu/kwpf0HvgGM6+9kHOuf5JTr7kUX51zsOccHp9ks56gJOveZzTr36Y+55ow5btBxCex7Z1q1nx5VSWzZlMxr4dSOnhC2HjqYHhjrNsBxrqoUaNMdWTVxEaRes5xBGptkzdiiD2HcoeBKhUxzdNgzHE51Gcli2MgxqBh4urA7JkLYOWUE0o7hWtiLJnZyoNGjxFUlIST999G2nTv2DCc8/xRcNnmdn2NXbOmI1bVIDvRNC+H7Q02uoBpQVVVZXk5eaxePFi7r/3PksE0qABBYUFAHjCcnz6wrOaWIERU6FQXZ1E24p4MixARvG/MTpBMlkHUiXSihMGAKRa/TNAXiFDWBychAbUslhZ4TzbqqmkoLIqRnFlJWWxcirdYoQsR6koSrjVLFyBrLGlB1TEpMZzPUx5CSVTJrPlqYYcfPQJMhv+k6y2Lcjr2p3cD/pQ0b8f2e++Tk7bZuQ3fYbCpx8n66H7SX/wQXbcfhfrb76LGXfex9K2L1M0dw46LxPplOOKKK72rZJo2KItXLQRAQF2dYzdZs2DBFGYQU+sgf4XIc5EQ3k0BPqjDSdQTWKARhuBQNjd1dcY30ol+EbiSIXr+BCJsLbdq3x20RVkTp8OKGLSIIQGqTAiitJRtBH4GLwgC/vfYjiNwcbyTBgP1XZiCw+pPDw/SkF+DiW5B4mW5JF5MJWKijK27T3I3x5vxiW3NuTiW5tx2uUNOfXip6l3/uOc9KdHqHdlQy65tQmX/eUpPh00Ea0NFYWFRIpzyNy3jawDqbhOpEaooHqhBzroWse9CJ3YyRVn9TFWVC8kqwhEtOzXF7w2jsJU3AgYHbzKGIwmjkS1xoYHjMLFwzVe3KgohW0WkBKhBCIqKMw9zJczp3H2b3/DwxdewPgmzzK5QUOmNW/Bqs8/J2fLRspK8vGlgxQiQNXhsOS+FRUVZGVlMWjQoLiOz5DBg+PfkeM4CQtJx0NL5ijdanGu1XjJTKKuVjVPQcj+FapOhhtNKN5X/ZpqshsVJOpsHDBw64N7IWN4vofwNb6nEcImbKWIoqUECTKmEVGBiNjaTU8bYlLjals+aLwocusWUl97m12PPMWhp54g1qsL7sCBFL3fh8PvdaSo/RsUtXuRrKcfJeeRh6h8tjG7H/w7a+55gOWPPsWOT/rjbNsO5SWIimI86eAYS/8nZRiaCRUPgrh2sJmGCdKa1zAshq++dj+V0UxEkuH6/CHZ+uN21Y0hWCqgMfaLwTIiaWHQvk0GuNq3QvcxDx1zWPnym3x60VVkzZoFSuIEsglK+OiAwFZpESDOUH74v8Nw1kacxgTJBCmCHdm6h2gf5bsYo4gKxdCJs7j41ke5/O4mnH3Tc9S7qgEnX/Iov7ng7/zi/Ic56fJnuPCvrTjnuie5tX4z1mzcBYAUPsqLIL0qfN/B992aO2vCTnzEjhws+NBsBp+qxqFl6TbVrlXi5KvRc0x1Sx0E5SYmyKTKBPc1KEFRdlILJRHSR3sCWRYhd/cuOjR4kp4PPcSk519g8vPNWNH7fXJWraAs6yDRaJlFcQGSl0EvfojuY7EYBQUF7N+/n7fffptf//rXnHPOOaxatapGKMV6AfqI63RUJHOUY3PEwg+vbfg/AyMSMGVVx4EVWideRxP0rAdxUiXQylBWEuHgvlx2bjnE9k0H2bo+jfXLd7Nx+V6+XbSbJbNS2PbtTmTMx9W2N14qgxYS6USgKJec8cl89+zz7G3YiIqXXiGnWStKX2/P4VffINqxE6prdzIbP8eOfzzG3mdfYHXjZ9neqzcVS5ZAXi5UlKEjlSgvhlACV1qNd+OHNZk2hi5DTyRwx+180Me+hj+x8aw9R2sby2MZzx+VHLIUWMEE10Fxs7CiW672cX2F8BRUVbGi7Wt8esnVZM+eBdIPCAsMvuegdAytHZSypSuJrvp/muk8GuIMy5Dsc9U1bUpZ91Iq15a2uB4G2JGWzWPPvcaVdz7LZXe+yFk3NKHeNY046dIn+PVFD/Orix7jN5c+zVk3NePaB1/h7GsfofU7H1LmeAhf4MYsz6QQbpDVrM4kmlqTKEQ7iROtzklI4nHdJCs1OVbDhZCwIJQJlA1Do2GNplQaJUMBuCAWKDxUNEr5wQNM7t6Tkc1akPxcU8a3bUfG4kUU7N5OtLLExgC1qhGHTDz2fZ9oNEpeXh6rV6/m4YcftvLC99xDbm4uAL7vx8/7+3hejwg/JLrrptrohnK34ePVRiEcYR1r2FmjqisOAu0m230XlgZ6RKpiLJy3hl4dB9PtjQF0e30AXV8eTMdWg+nQchgdWg/izZYfsmjaEnTEJSYEMa1QErQnkU4U7ZTj7N3Opp7dWdeoKWnPNGVPw0ZktGhFeftO7G3Rms3PvsCaxk349sVW7P6wL+VLFkNGBlRVISKVKGEZ3V0pxqprjQAAIABJREFULG2hMGjfYDyNFrYc0dEKT4VhjYQYZl3XLeH4yI3npzWc/xLECXanC++1UoEyYlhioRDSs+zcQuO7Vnp05Vvv8vGlV5ExdRpG+gHiNAGNlIvSDlorhLb1hUr9N7nqNsta/YUojLHGUwQ1gVJ6+L4DQGnEod/QCVx/1zPc/EBbLrv9Rc67vjl/vKwRf7ysIX+49J/84eLHOOWSxzjj6qe45r5WXHX3c9xS/zmmfrUMoQyeJ4LEgmcZkcLEhjY1JlDtFtFwHM9nTPw/iQYnsWXVIongdTpU1tQgLSt+6MrZVk4sSiGQog503Csy0lmRPIYhbdry6l130+i669mfsobSgmx86Vm2KRNIRqjqRE6Y1BHCkgKXlJSQm5vLhAkTuOCCC0hKSqJPnz7x+G/tgujv3UiOcxzB7mWPAuRpO7dMUNtopTvsRhtqU4VxUKkdykrKmD1lEb3fGUi/TmPp234MvV4eTa924+ncagwdWg3hk67jSNt4AK88GpQ5aYQ0aM/Ot5iIoKJFFK1ezuZ3u7Pu2eZsa9mCza1asvuNt1n70mt816ETuwYNoXT5csjJhGgEWVmJcF1c4RM1PhHlE9MGTyuEqzE+aM/YrkKjiWmFm4DiqxHn/+6off2/z1j+KMNZEykEsTBlXXUTassoH1/5tpzF9TFSMueV1+l1waUUzp0H0QhCSuvKB0qF0riYQK/ovw1x1tzdbGzQxnXCBJFFn54fwwDb96RT/59NueCq+zj/qkc49+JHOPO8h6l3Vn1OPvUefnXK7fz+tFs57axbqHf2zdQ7/zYuuu7vnH/1nbTv8QlFlQ46UD7U0pbWVL9/3UHyulyZ2iP8fKFRrOt/HOv1RgeMOPE4ol1Unm83Zl8GSprKxcgYXnE+RWmpOPnZpG/4juT3e3HZ707m1F/+gsGf9wMMUc8ibBXIRagaMc6aG4OUkqKiIvbt20evXr046aSTOO2005g3bx5Ajb9PPP4pEE/176G7br05ldDqWl3fq9CYoGNLooyLNA5CRnGiDuk7c9iwJJWF41MY2XMWPduOoFurMXRuOZyu7QYzadg8ctNyiVVUWU4BZTduLRSu51MVCPOZsmKclC3kTprGwVGD2TdmMPunfkHJ6lXIAwegtBicKMKLIYSPJwSOUESVIGYkMaOISIkbdoYJW6KmlW1+8AKe0rCMSxtTrS30vzjqWouJBvUnMZyJi0IHAXahJb7WaIUteta2Pc4VAtf1QSk29R/IwBtvIaX3B3jZWWgliLiWEUiGPdFKBYkBu9tiwmjqf87tSMN55O4GYcxKYoK6R6UlvnTxtCCrsJiRE2bSvlM/GjR+nb/d1Zhbrn+EW679B/f+9Wn+fl8j7r7l79x3e33uvfMRWrz4Fr37DuPjgcl8vTKFiOvb7K7wqpML8fc/EkklTqbEiRZHCgkIMh6/5NhcATXjpjo+n6rfL4jdGYMrJK6UeMJDelGMVwmVRWya9AVTe/Tg4LcrKdq/h+8Wf0Xjxx8lKSmJB+rfT0UkQszz8H1pu1ASepxrG/TQELquS05ODqmpqTzxxBP87Gc/44YbbiA9PT2+mEKxtJ/SeCZeqxD5KxU2H4TyxyqOmIWw6p5SuUgds0N6iJihNMtlxdwtDOgynq4tP6dnm+H0eXk8HZoN5JNOY1i7dDMFeYXEHMd+r8oECqQa35d4MlAe9WJQEYHCIshLh8IsiJaAcJC+h+/Z8iYZXA/PGKJB2ZUMsvW+sWVZvg44Z01YNeAFrbyiRt/5/wXirGtOH2vu/ijDmfiieAlB0O0jpcFIYeVklY/rW2Zr7TqwYwfzGj/Pp7fcTvG2bQA4rsSTAqEcpHYxOmjPMxrNT484Exf0sUbi3/7Ut5qGM9FFSDQ8EGZWw95xrSTa+DjSwQNkMAoOl7Bwxpd80qUbH7z9Nl8M6s/mZQsZ0L0zA7p2YcTH/cjYdzD+/sIQtHGqgPXIItuj0XXVnlDh43X1+H7fdauNROM7e7i7a40t6awuWZLaWO1vXyDcGLKqBFOeT9rCL5nSoi3DGjzPnA8+JJJ5iPxDB5k3Ywan1vsjvz/lFIaMGQ2AEwib1Q4V1EaQIeqMRCKkp6czZ84crrzySpKSknjttdeoqKhACIHv+0cYz5/CYIYbV7iham2Zs2y81zLzS2VrWD0vaiWZlRcwTjmgIfdAKUtnbeKDd0fQoeVH9Hs3mVG9v6TvWxN5r/Ugxg6YQ/ruLMqrosSEjxaW1lFpjVAKKWT8MSElvuchnAgyVoqKlSPdGFIIfCERQgVND1a7yNUKx2i0kJYmTlnVW09LPCPxjMAPamCN8WzXkvJQ2ipahgoI/xdG88e+9gcZzsRFZYLEgTBBfEpIpLRyrZ5Q+J6lwde7dzKrQSOG3nEvJSnrMdq6B1ZawEVpF62UTRgZW57Bv8h4/V/eahpOW3Zkr2Wi4a4r0yfxhWUAingOUeEipAdehF1rFpPctwOftm/K/OQ+FO1dwWfvtuLT9u0Y1KMj+3duRUqJ57m4vmfDI3HC4urYZnheiROqLsNwNPc9/Hwm2PCOZ4c3pmb2PUx4hF03wmii0rp0KhaByhKyl3/N5FdfYsJjDZnepBWbx07Ay8nBLSllz7bdvNzmFZKSkrj7vvvJPpxvO4ACOZLQICXGLBM/q9Ya3/cpLS0lPT2dTz75hF/+8pf89re/Zdq0aRhj5XmdAK2JgBzlmJ814V4H33V4b4Lj6gRZ0IkXEF1IGeYSwnXl4/sxq0Lq+QhHgjKIqGHzmjTGDJhF+9Yf0enlTxnZbxqLpqQwbcRyOrUbRJ93R7Ni/maKc8uI+j6OVmhf2jUbyHQI38d4EuNrfGUsU72WxLSdb1po8A3GDe6VRmiJp6xQo1QGIyRaCIy0aFkagW88hPGDYn/fdl9pa1xrJMj+DxHnEfPyp0KcdU7+IGbka22/ZCnQ2kUbieP6xDzLt8i+Pcxu9DxDb/wrxWs32N50YWvRhLb1ilpaxOlp251ixayAnwB3/pCLmGjgfupbouFUqhrt2fdONFoh4gyKzLVCCAehHGLCwVEenoghokVsXz6X4d1fpc9LT7Nsan8K967ms/fa0r/zq4zo2430PdswRuO6MatfY2y3idYKz7NUdrW/1/BcEydSeN7HE/cEAunb6qEDg1q779iYaiZ8k8iYpAPXDmNp8JwI5Vs3MvfdNxnfuAFjnmzAqvf7ULppA05hPn40SnF+MXNmzKNevVOp98dTGThkKGDw3NgRsc3arnb4OUJUWVBQQGpqKg0aNCApKYkrr7ySvXv3AiCCpoHEbPvRXb3AIISG2+iEY1NdgqNtCZIKSXO0ChpFdMAe5Fq9eiNRro92NSgoz/dYPDuFLm98Rvs2fej9ziCmjJpPyrKtbFm7l/59x/J66/cZOWA2+3fmEi2P4EgvMJwC7VsuAUdb2QoCY+pqTSwYVUbgKInyFDqm0RHb8OIbRSyQTpZao6VN7sVbcrWt2bSkMRJhbGhPx/XTayLsH2Lg6nr8f3v8yJbLoFNIKrwg66mF/YKlcPEDYgIpPeTeVL74ZwNG3ngH7tZdoAy+I5ABQlXaxciAaTzoHuEnNl51uYq1Y1yJf/OvuNU0QLaQGWypib2375tY12klNiRozyIO5RPxHDzhINwKUr9dzORPejKk0+usnz+Tyqz9jP30fYb3eY9poweSc2APxghcN4ZQPjLog9ZKWZdLqhpG+2ibRuLzNVxtVZMgFmqUdVYPc2QIIH4cJBDQ2Do/GYQojLZG3vco3ZfK/D49GfvsM0x6+km+7tWZPV/PpXD/DjynEle4xGIeqTvTaNG8NUlJSTz88D/Iz8tCCh8vwb1OPIdExBjOgTDTnp2dzcqVK7n11ltJSkqiUaNGFBUVobXVNg/lemtvHjU+W/iYqYkydWBMQ2rG0KBausUAcYfG2NhcgFaeZWsXGlkF29fuZ/Rn82jf6iM6v/IRIz6ZxNezVrNrUxoZB7I5sD+daZPnMmTgBL5duYOCvDJ8N4orXFxLSoASEk/7RIyL0K6V+pYSR9v+eCltZtzTGk+BIzQxoYgpK5kcUx4iIIpRAtxAH0kFBf1GSkv+EjRB2M1Q14xth/RxPxId/l+NH9dyaQJ0oA3SGEK9cBvI9lFKB3EQiSwq5tuevRl3592s+/QT3IJilNJ4QiBU0CGjFZ62JSfK+IFRSVyGP/5W14WvnfCogZZ+YqOdeB5QO84XGq7wfGpm1UP2dSUsAvG0JiY8jHbBKydn67fMHdKX4d3eYte3S3BK8pg9uj/j+nZg0aTh5OzbAcZHeB5S2n5pGdRGalNtSMLzquuaHc3oHXXHxyJOhSU7VgSTHRvTrJGgCX6XWhH1YygpwdNo1z7velHc0kK+GvAZw5s3Y2yjxnz15lts+3IGGbu3UVmSh5AOUktc16e4qIwZM+dw+uln8Ic//J7RY0YA4LhWK732ZmkSzicx1imEoLy8nIyMDIYPH069evU48cQTGTRoUI2SpsT4bvjaGvNMW8NoQw8qSKbalsuQPd9oizjDmGGI1qRx8UUUrXykJ1C+BAF+uWHuhG/4sONIXn+hDx91SmZq8nzWrtzMgT2Z5GYXUFFRRXFRIXtS97B1y24yDh2moqISpQLSamXLB1WQ5RbaJoVsiaFlxlIBC5RRtq1WGFt/GdMaR9v4pTWagbFXBl/bHnwVEhAHG2HYclv9nZt4K+XREOf3o/n/HyDO+OJKWBzKmKDlrmaAO140LRUy6oGC/dNmMPGeO5nSvBkV6RmgDTHh4WsXIX2qjMaLd9FY4SYSOpV+CoP1v2Ecj+c87EKtpk+zjxmMgbCOM8ym2p5oifBBSIMvBVJFiZRnsnfdAtbNGcYXfV+ne8uH2bFqGmW5WxnZ9xVmD2zP1xP6sm/dQlSsGCOCtsOQtCOehJJHTIijnXfihlP78er5EXaW2Z72kA4knCuW6UbFXfLw2FEeVSqK5znoqETHBK7nIaSDk5/JqlEjGNG6DRNfeY0tE74gc/sOSgoKUZ6HktWdQOUVlaTu2UOLli1JSkriwYfqk5ubF8R5rS7SsTyO0BAmdhXt2rWLli1bcsIJJ3DJJZewbt06gHiSSEqJ7/vxmGeN/22CzLVSiHiSRMWFDm3/vU2wKKmDDieFUA5CVuGJKit86IEoh/2bchnffy5vtuhFl1f6MeLjaSyetY6tm1M5cCCDkuIyHMdHCEUs5lBYWEh+fgFlZeW2BC2xv15XcwnEC/ZVzSJ0lTAsVaCOF91b8GQNZmJCM/Qg4jSBpnqjNHaSx43lD4kpJhrQ2p7Cv63hjC+Q4FgnLAQdttgZ63JIbXuKtZBoX2KEYdv4iUz82z0saPsSkYOZoMFVHr5yEconqm0hrq21s62Fwbse7+l977nXPq7rYtT+25/ylmg4q7Pm1bEwa0Qt+owzxpiADd130CKClhUYVcjebV/xWdemfPj6I3R8/lZeevxqvps3gLTNc3i7xe30e6c+H77zCMkD3+Rg6kqMKkXIqKVuU1aN1Ga0E2KY3/O5w0laG6En3jQ6iGUGhdkBCUg4T0yw2KoNlk3U+NK3SQbfQ/kS4cTwYpWoaDmiJI/8bZv5esxoVk4YT9aG9ZTn5+PEHNvPHBo9qXAch8LiIqbNnMGfzvsTJ518MoOGDLYbdSxWg82orpht4nNKKSKRCHl5eaxcuZL777+fpKQkHn/8cTIzM+MJohChhjHPEHUe8R4BnWIYirFaTHaDlNKPc3n60rXlRcLFdRxQUJRZyYLJ3/LRe2N4qXFXPu8xlhmjF7JmySYO7MzkcG4BlVXRQHrFziUpdVxAL0yQJW4UKuFYJ3ALhFSBYSLLegnVI0TIWuvqnvxEQxj+rak2voleRvUaOPL6HwtxJhrJo9UZ/9sZziOMDdXG0xiCi2k7QKSS1SQRvgBhyJw3nykPPcTc55oR2bkHrSQxP4rQHsJY+C8Drk6hPRQqQJw/jaueeO6Jj/1v3upCnDXPLSyAr2bEtmxAAq2iCFWOMuU4Xi5b1s3h896t+bzLc3zesSEzhneg4OAKinLXM2N8R8Z80oiPuz7O5x80Y8vGORhTilQRhPIsQURC0kIbXYOo41jnHUcNHMV1r+59if/EDWbgqltNcCtQJ4KsuVaB9IUvEW4lOOVkrvuOLbNmULk7lar0DA5s3cyB7VspzcrAi0QC0giL0sLz8DyP0rIydu/eTavWrUhKSqJ+/foc2H/gCAq42q56IpKpZoxScSKQ8ePHc95553HCCSfQrVs3IpFIPFGktY4j0BoLWul4eMJIE++wMwETklQuQrm2usT4COni+YGBdzQqCvu25zCs3xTebtmX9176lJGfzGDJnBR2bEgj+0AO5cVlNtEnQ/Rnq1ykNEfdJOKx5cSwidbxsiAVbupa10xshSxZCRytxpiact7B34WP1UaKiYbuWAXntePoif+r9v/5t0acQNxx1gZUMLQx8QdMCO1DSjLft/G53MN806Ydw2+/lwNz5uO7EZvgUB6+0XjGftlGKTzjoYy0pMf/Qf1DtQ1Q7S/cPqfi7nkYL9bGkqc42sXVDjFZQUVlDrmZWynI3kpx/i6c8oNIvwBfFuNG91Oa/y35OWvIy9lItCoLpavwZdSykhtlDZy2JWVxT8LUfbWPhdBrT2pMwgYV8IGYYHcNwzsy0XAG7OhSarRnkI6DiRSRv2EFczu9y4jnmrFm0Egq9h2ioqCE0pJivMpKpG+lRWr3oQshcB2Hw3mHmTxpEmefdRa/O/lkhg0bhjEGz/PiLnXtRVgDjalq3Rnf9ykpKWHnzp106NCBk046iXPOOYcFCxbE2ZNkQrjgiAL7YKM0QqN9BUJilG0dFdrB1w5S+whhyZOF5+NHNTlpVSyevZn33xtK+za9+ajbCGaOXUzKsm3s35VFQU4R0aqo7Y7SNqcQtu+Gm3M1MfCRFQRHi/FWj5plVEZX35sE9JmILmsizrrjlLWrGo6FOBMH1N3Blfg5/m0Np6F6MRiCe01QghC6cyH7t0L51oUh6rHsjbf57Opb2J08Ee1H8f0oQgk8HWQQpUZLgatddBxx/uf0D9U2nLXjhRZxhgkhGXfhlJKWCVxrXK1xlcRefQUIwP//yHvzcCuqO93/pLuTX8ebq7bRpNPeznPTt5P00+k2iR0TNYkdM8dEERVBwYFIFJznWZQZGVVEkXk4zKiAgMwCyigzh3k6nANnHvdQVWv8/P5YVXvX3mcfBgNK0vU8xT7soWrVqrXe+q7v8L6gHfltKvDRJg0mCXg49FJIFSCVRmnHL2CtcmS4RkbIFrblxA+qaBDHgTPzfnS7wuY5/x4ZVpvIN+aSrhVSqdCvZ9CeAi9JYvdGFvV5mnE3tWH8De1ZO3QEQekxlKdIe24pn9Gj0cZdU5zEQ0iSiSTbt27ljttup6ioiGuvu46ysjK01gRBkBPYyZ+gQogWASDf96moqOCjjz7iD39wFUpXX301paWlGf9pBKBxQMhGzo0zLMJIswllRJyrSqK1cTpdyiKaFDvWHOLNQXN4ottQnr6vPyOHFrNw9gds31BC+cEyGusbCfyAiAQlquSLU+cVWupG4y5+3dF9PFMWXP5xT3aJnb8sLwSmn6XleerAiZtrzrfpJod1pmfmSeNKrJzfSQYSm0oz7+EneO17P2H/qPHYRB0m8Jx/y1jHu6iczycwwgUZTtNS/WzZWrM4cwE0a3E60IyW6ipMig4DCDJAB2lMkEJ5CUzguWCcMqhAoX2J9BQyMChhUNLl2rrVgFsmWh1gjSO2tZhWH1StWZwFB6zJXfqiyeph41YnMpKADQHJ1ZO7xOl02UE+eK0/4zrdwMQObVj87FMcXrQYr77epcIYk+GolFq5LAGjwjr2EDSUIvB8aqtrmFw8mX/5xjf40pe+xMSJEwEyCeyFLJ/4wyB/ckZL9uLiYr71rW/xuc99jqeeeopkMpkDnPF7Gv1ehQ8Im1EPdcnhymh3fwINPtQdSbJ4+kr6P/0Gj3cdRM+n3mTamPmsXvoxe3fspabiKMlkvascitj2Y9ZlJDedD5SF9nwQavWengHwPNH7+SB5vLaf7Hlbu8aTAfE/GzgNEPEuGhupEboPrA4tT3AyCtGNlArSHpVz5jHhF9cx844/kdq1A3zPCZKFIOuicSqT62Wd2sJfzZYPnNENiCab+04UVVeunjxU/jPaxygfG5FzyACrfNA+KC8jvOV8fgYtDVKYDGej1DokBY6kfwXWuCovk0mJcj7Wk7mGqO3R3y2sUBVO3lgtsrauKkyqSH9HIoV0eZu+QB2rYP3okYy7/VYmdriedx78E5unj+fYnm00pJtIGEUQpmtp6yxWEZJF5EwopZCBwPc8dpfspOs9XSkqKqLt9dfnWJ35S9TWrKHoc9/3aWpqYvfu3fTp04fzzjuPCy64gAkTJmSi6vGqpPxlv9SCQKfxZdrdD2UJfIMOLF6douSjg4wZOIPuXfvz0v0DGTG4mEVzPmLHx3spPVBOY10DgefKLW0odieMYyOLRM/ipbqQGyEvtLcGJGfCQjtVi7O133za7T4twJlZquM0aVQIom4J4qxOawkjqbHoYXMCDhxk0nU388oVV5NauxYCt+xSxiKsRluJ1aGD3dr/cRantbkWZ1aLRToGHJtyNHwqpEXTEot0idHGR1kRgqNCWcc65dinArQNUNbpnhsjAJfq5M4dJpWZk1uqR9cR/zs+uLUOSwe1CWVeLcqE5NXGpSYprVzOolSYQEJjM9unTqe4cxcm3NiOt7t0YePI4Rze+CFVdWU06DQp6/SNrHApRVHuoTTZYKQbbwYtnNVZU1VN8aRi/vnr/8wF//APTJ4ymWg5HgfF1izO6DUK/CSTSSorK1m9ejXt2rWjqKiIyy+/nJKSkhalnHHg1VojtE+gfafZHliEp0FC/dE086auotdjr/BEl54Mfmokb49ewOoV69hdspfyI8dIJwO0imckOL5Od2+dkJwjM3ZjJqsamZs3nO8P/KxA51SB9lQ+OxngPdFD5MwAJ4SCVhaFjWmkh8t1wsRfQqexUhjfx5Qe5p077ubVy37Cxj4DkLV1rvxSGZdMi0Ab4bSITBak/1q2fOCMbkDuUt1pDUWVRZGvU1gf3wrHb6gtwriAmmc0SR2QsgGelfhGExiBJI22Hsqm0TaFsR7GOiE0myH4KDxYWm1/jkRGywGaY/XlVT9FOjzKhIFD6axCEzg2d3G0goUDXub1m9ozsfPdrB74GtWr19BQVkrCb8Kzwq1KpMYEMivHoRRx8T8pnSKmlI5RKNGcYOvWrdx2222Z6p/y8nKstS3AM/9ackAvtCillCSTSUpLS5k1axbf+973+NznPse9995LfX09xrjKo/hkVTELO5ACP5AoYfAaJVtW7WX00Ok8fW9fnn/gZUYOmsKimR+xde1uDh08SH1DnUve1xqtbIYpXyntRNzC1YMxIixIiQUWtSSuvlnI/ZB/7WfbfjIW5/H21iLz+a/Hi+631paTz+OMdmux1qAsjjoqtCSiOlVjsyqHkZaKSqexqWYqJk1l0k9/w4Lb7iY4csRpoUiDpwUBPsoEWKVBu2W684/9WXh11mwnAk53U3TGWnDJxKHlaX33UNEGrcJUE+30eQIjEXFrUyuniW5CRcqQSMVGE8xmz5eJgptTT9PKsDpZG1o5uZFkGwFmJqfTVZbIjByGIUimUWmBaaxn3/L3mPFyL2YPfZWDK9aSOFSJTHguVcm6JagI/ZoZbscMg1DLAI/WmnQ6TXV1NcXFxXz961/nwgsvZPLkyRmAawH40ViOTRIpnWJrFFQKgoCmpiYOHTrE4MGD+cpXvsI555zDm2++mRNY0mHAxt1TlfFzGgHVhxuYPXEh/Z4cxosPDGTgc28yfcx8Vi/fzp4dR6g4Wk9TMoUXCKQSTmfJCLQOXNlsWAduTZg4HylhGpWR3dBh0CkfIE/FR/iXvuePi2iMR+O8NVA+mf0TpSM5hUPCcssoL9Ex7VhcyokJ1/RWG1QgwBiqZs9hzBU/ZX67Tshde8DXqMDVvnpGoLXASoeaNn7Cv4LtxMAZLdXdoM9WECmsEU6lUKkwrcU4uRKMs06jz3XgJmnIFO7IalUGgI3OLQmMXiMAbb3xWYszk8MXZ4xXMbdMtGyOIr02lBkOk6qFdMqRGMmR7ds5snELsvoYFXu3sGnVIjZ9uJKy/YdJNaad5EJkNYVlf0FYeZNRzcyzoKLlcpSY3tzczNatW+nYsSNFRUXcdttt1NbWtgCRzGSLjeUIAF1AyaCkA6cgSFNdXcm2bdvofGdnioqK+Na3vsWGDRsIgrQD9Ej6Q2mk0Fhh0SnL7k2HGTVoEs/c25vn7+vH8D7jWTZ7HdvX7ePgnnLq65Kk0gIR9qmKcj6tjzSOhtHYSNvdYJQNg4dZvfqIy9WEJCL5ltrJWFh/DXtrkfn4a9waPbMWZ5jU7BLgC0So4qQRocUphVPaq/9wOTNvbsMbl/+InRMnYxqb0VKTNgo/UCjhUmectjqZSf3XsJ0IOF1KkIkN9vhTU4MxmNAdkmUSygbVosi7Dr+nM8ASDY7CEVZjjLunEYi2spmQ7k2hcqWDtc7cZy1lJsJtlHA8BNoQBBYdWExgUMLHiCaSh0pYNPhlRt13L1tmzaKxtJTaI2VUHyknUdfgAkcmuo4ojSkG2K1YFvnLbM9zpYdjx47ln/7pn/jyl7/M1KlTsdbmBHUyS2ujMvR2kdaPkTLMGhEY4yStk6l6KisqmP/eAi7/0eUUFRVxS4d21NZUIGUQVhM5BnopofZIkvcmfkSPR4fx1L19ePnF4UwfO5vVS9ezZ8cBKo9Vk2hKOF5Mky1ZjO6/I7XWmQeS1q4CLE4G7AobIpDItSxz9N//B1qc+WP+VKP0+SB8SsDpXi02ZoHEQSE6iQOIqPFhTW5aYWvLWdfjKYb/8DJWvzybfHWOAAAgAElEQVQY3diM0QZPKzypCQKFDNORbAjM/1OAM+qrCLuyrzGQCC3xHB7LHH+VjU20XBKF6LNC/q2TtTi1Cd0woWvGKA3KReRNJnrsOB6NCdDGIxAK4RuscpRsgUpDcxWb33iNMTe3Z3i7m5k7cCA1+w5hPYlO+mg/yLAEqYx8bMgZGuUOR4qrBXxf8b4JgoDGxka2bt3KLbfc4vTT27Xj6NGjGfDMRMKNQVmJDANRxrigpw39i9Y4rSZrJUL5NCcT7N9/iNFjx/DFL/5//P05f8+gwf2RIkAGCulrZMqwZe0+Xu83iae7DuTZ+wbw5oCJLHp3BVvX76L8YDlN9U0EntOAsjaq+Y7SjEwOOGZFzHS4LNcxwbf4iqBwn5yKj/CvYW+tD061P/K/94mCQ5nQOrmgGQeJ6P86TJFRgYL6KjYPfZk3f3wVq17sjSg7hpEaqQxJJfC1o5v7JD63k2p/HsDn72finPnnK+Sod59FfsMIPGM3zGQtUrAxad2WN1yHy2VrsxPPfdZ6/trxBg7xY9sw8Ke1A5NIIygC5ciHabVTo9S+y5zwtauIUSlI17Jp3Egm3dSeWTfeyvR77mXnvHnI+mZUysdK5XI7w+uIMjR01A6da23GrwVyE/QjSysi7HjzzTe56KKLOP/885k6dSoAvu+H4Bkur41wOZZWZTIEtDRZRclQD0lbgycV9c3NbN9ZwkOPPkhRUREXf+1rrF+9HhtAfUUzS2at5cUHh/BYlx70e3YY08e+x5olG9m3/RDVR2tJNSdQQaj/ZKRTuMxoQYXlj6HFnS19DO9n+GDMqkCaFjK7+bSBhUDgbNoLjc9P2s5PCoon065PZnFmXlu3OLMn1I64WGl0OoEp2U7xdTcy6tfXUbduEwQWFUjSJqBJeZggrLKw2bK9v4YtmtD5wBlZO9F34n0YvWeiPEuTeyMhN48yC8bOwoxHEgtZnNHf0XGiLb8NQChx4JaGNgwEElGKhUtIa0J9GWPCSLJy9GKBQvlpSDdSMnc6xX+8nZk33szbHe9k45tvUbltC6mGBnSYDC9EWCtudOgeCN1DJkp5s5ka+ELAmb9EDYKA5uZmtmzZkkkj6tixI5WVlVhrw8BP6JM1Ak2AMTL0GxqkcuPXWhsGw0Bpi9Ca5nSKo9VVrFi5gl/98tcUFRXxu6uvY/mcj3il5xieurs/3e97lVFDprNoznK2rd9J2YEKmmqbEJ4Xaj9JF/gJ9XhUpAVlbLhysJnyxqz0cDZjIfdBkgXWvzSL80y06XRanPHvn5LFeSpbNPGMicrYhONbPHyYibd0YsRPf0Pl2wuwKYFIpUmZNM0mhQ2sS6aPLKvYBMmf4J+0Ta11zp97/BOds9Dx4+lIhX4bb1sc5OLvxW9uoaqQQgMlDpqtXXeLPgpJKow2mdxdo0KgDEFOZ6rGbDYJ3xpsOkXlsqVMu68b49vfzKROHVkxcABl61ZTXXYY4fsoqQh8H2mi8tCIYclR4TmLyrkxDC1LP+MPhPzB7vs+NTU1DB8+nPPPP5+vfOUrzJ49GyBLCafCPMiIaCVuBRpX6aMxYQK+a58vApqaEpSX1TD6rcn800X/ylWX/YEXHh7IY1160PfxN3h79DI2rChh57a9lJdW0NSQcD5cLTHWkX0o5cBaW8cnkFmi2+g1AsX4RI9ZmicAjc8aFE8F6P5ckDsT+yf2cZ7qlpnY2jixKRR+0sM2Jql6bwEjr/oNM+96AFFaCUqS0gnSOu3KzyJLMy8n+0QgdKItbpUUymuLf+d0btExgyCgoaGBZDJJIpHIiICB44BMJBKkUimampoIgqDFBMgfXPH/AwW/29rgjL4fBAF1dXUcPHiQvXv3UllZmamsyekf6yxMq7TzbUYBIZUFTKmVAz3r0qakhJRy1WBeWSnzX+rJ8Btu5K1bOjK7x0vsWrGEytKDJJMJ5xvVoQ66DkspQwvWhIR1JiSTMXkP1Pz7WOj/Qgiam5vZtm0b7du3p6ioiA4dOlBVVZW5Ny6AEvmadUbexS3fHR+AMtKpNFqBDDystmgP6o6mWTJ3Pc89MoSnHxjI3bc+zdMP9GXZ7PVsX7uf0r1HaahvxPd8t/xXYVmtURmyE21DCzuy7LUO2dRPHP0+XcByOpfKnxQ0I4A6m6L/+ePqU7E4pZb4NkAKhU1JyleuZNSvr+PtW/6Ev2kHpJoxNk0QpJFB1tGd8/oJwbJQmwolPZ+O47d2zujGb968mccff5xrrrmG6667ju7du1NdXY21lurqavr06cM111zDrbfeypo1a1rcsOMN8ni7878X3+K/2bBhA926daNz58707NmT7t2706FDBzp06EBpaWnm+9Gy0VqbtTatjbHiOF+cYzwKAU8ZhAKhNUYFqKoKds2Yyfhu9zHlmWfZvmwRpQf20tTY6FJ2lAwDTyZDAqJDSytrbRHz77Z0DcUtzbgFGlmUnudRX1/PmDFj+NrXvsbf//3fU1xcDBAjIw7PBc4atD5CpxE6jTY+fpBA6wCrBQQSPGiqSDFj3Ps888AgnnvoNe65rTsXfunb/Ou/XMryRauprqwjnUqF1UU61iYTC4KFwbfw+jP3/SQY0k8GBM8EkJzuYxZaKZwtFmd+f34qFqfUEk/7BMkAlZTg+Wx9eSiDLv0Ja3sPwFSWgfIcS3WGYTqanLpwp8UYfcKpc/JtKmCxnUngjM6ptWOmufbaa3n++ecz3zHG+eIA2rVrx6ZNmzLvt3bM/Ha2BpT5bYjSUoqLi7nyyitZsGBBzneTySRXXXUVZWVl2eOGwUB3DSYrumZtWEKps9IUYYpSlDcqm5oIqiqQlceo2LqJNTOnsW7uHCr37qWppgYlFEZoF0TSCmEkUklkzG9qM31hM3fZkguex5tkcYq4RCLBtm3b6NChQ6aa6NixY2EOqM6kPDmwVmFdv0BIp19urMJq5YTOmiQHt5XyWp8RPNm1Jy88+ir9XhjDC0+8wj9++d/4/N/9b+7q0gUvSNGUaERKTSCcfInWFimjtC4blqmGUfEoEGVD+Vzb0uLKXzrGx1J8vEWvnwQcCgHVmQStQv73QtU/n4UFmt8XZxw4rbEIKfD8NNpXqMBgPcmWt0Yz5ue/ZdoN7WjcuA6SiRBkc31+cUDLCWjYyHrKmUYn1aZPEzijY1prM+DSpk0b+vXrl9OG6LO7776bDRs2ZNqhlKKhoYFEItGifZ7n0dzc3KLNEUmytW4pHv0ucgu8//77XHLJJcyaNStzjkzJorWMGTOGhoaGTN8Qs/SiSLdTAHCBIWWylTJaSrSUoH1sfRXriifz9oCBHN2ykeoj+ynbv5tje/eTrKjFBE49UQeO7MOlM0Vcmy0trTBvKpOrFX9QxCdUoeV69FkymaS6upo333yTr371q1xwwQWZCLvWOtSed8UINsqf1NJJjwQaE4D2LdWlDSyYtowXHuzN0/f2oN9zrzFl1ByWv7+BJQs+oseLL/N3f/e3fPkrX2bi5AkABIFAKIUvRKhi6dqWYTiKdpXv32wJVvklhPGxlt8fpwI0xytTLAQkpxOY4sv0Qq6XT2J5nk7Xwxm1OOM3LjqJY8IJMFITeAqd8FE7dvLeLbcy6vLLObZgHjaRQmlDYGXOQMlcZN6TKErLgRAuTwLworZ92kt1INMPAG3atGHAgAE5n0UWZ9euXTMWZyqVYvbs2bz00kv06NGD5cuXZ9p/8OBBhg0bxgsvvMD06dNJpVJIKdm6dSszZsxgzZo1DB8+nJEjR4Ilh7XnkUce4Wc/+xl79+5tYZFEFkv0d/4gjsiQoyBQNs/SJcBbqRzVYLKePbOnMbFLFwZcfyNvvzKYxupymhoa8OqT2KREBwpPBggjM1RzrjRR57gHsulYLdzeOfctM7B1bALqWEWRdnXnjY2NbNmyhRtuuIGioiLuuOMOamtrgeghYoiCQ1HiuQ2pT2WzZu/GowzrM5FH/vgi3R8axPCXx7Ni/lq2rCth/+4DHD54mLVr13DnnXdSVFTEd/7jO+w/eBCDxfP90J9pEELi+z7GOL+xNQoyFnsURQ+j6q1M4tbGciGgOVVwyJ8XhUD5zwGg4wFoIeMm/8F4OsD6k/72tAJnoU7OgILVKBk4fk4FfukRFnW5m3E/vIyNffpgKqowyiKNQGkZ6g+pDPei1qHwlcoGKzKUaJl6puODXqFlTPzv+HdO92atzYDj9ddfz8CBA3P6K/qsW7dubNy4EYABAwbw0EMPI4Rg2dJldO7cGWstS5Ys4Re/+AVz585l9erVXHvttfTs2ZPq6mr++7//myuuuIKuXbty6aWX0qtnTywu0RugpqaGdu1uplOnTlRVV7XoF8imTEV7htg3ZG4X2lXXmEx9fJh3GAInnkfpymUUd7uTie1uZvZ9D7Nh0iRUQx0IhfUNJu0kiptMQNI4ZdQo4OR2m7HAotxEV/tuc/SR8iezMbFSzJBQW2kn02HCfk4kUjQ2NjNy5CguuOACvvKVrzBnzpzwPjgJC6kFWgWuUkeCnzTUlCV4f/oaXnr4NR7v8jKDX5rAlFELWPvBdnZt2Ud1eQVNDdWkUw1UVhxhxQfL+e4l3wsDUbeRSqdDog8fbVzalZQCmyHlcG4BG4uqW2syD4LjAU2h8fxJwKGQxXm6QafQMQqtEAr5rE8VQE+nxXnGgDM+kOONU8YgtcUYD6uFE3FLSapnzmbiT37KxN/+mrpFi7ENSZS0BFYTyAArJdLKUPjeYKUBadHKEFgV0qRJCLWaT5T4GZ9kn+ZSPTpuHDgLWZzWWu655x4+/vhjANq2bcsLL3Rn37691NfVsn//Pnw/zR133MEjjz5KVVUVVVVVTJpUzL//+78DcPTYMX7y058yePAghBCUHjrsLE7pzl1RcYwbbmhLuw7tqayqzEySqI35g00phZIq5Hx02u6eVqjAI3W0jKCiHCPTmEBgAwP1TVSu+5BZzz7KmPZtGNepA0v79aF+4wZEbRUq8Fx5qDJo6ZLLlTRhzbVpUSWTmTjh/6P3j3dP49UzKuStjKw8rS0i0CSaPfbsPECnjnc4vs4bbqCyugIwCJlEaQ8lPRAgmhRbPjzI8L7Teaprf7o/NIRRg6ex6L1VbN5YwuED5TQ1NBH4PlpLgiBNQ0MdpUcOM+LNEXzxi/+Lc889jyFDhoC1BCIgEIEjIwlZnpTOkoJkczV1JpfzkwDXJwGKT8PHebylf6EleqGHwslancdzPZwVFmdrjY4uVmiDNh5GOwZuIyx6x24W39WF1//zP9jYtx+2ohYtNAKDUgEIl0fnoRDWgrRYAUobPCvQIRmvtTZjlZytWz5w9u/fP2eARhbh7bffnlmqT5kyhcsuu4xL/vM/6fKnu1ixcgWVlRVce+21XHvttfTo0YMePXpw33330a3bvfiez5q1a7i5fTuWLV/uBkuoNGqEs9wSiWa6devKpf/1X5TsKAFoqQee99R3HKASoT2EFVhrqd+zlwWvvsqiN16l/shet0RPShq372buC88wrtPNTLqlA/Off5bd782mZncJfnMD2gjH2mRd9ZERFiNthvQ4ey/zJlQ06I/jA8/8PlN1ZV1Ce1jGm6nbV4Zks0dNZS1vjRjN//k//8znP/95ps+ahglF1IySGGGpK0sxd9Iq+j45gsf/1I8Bz49i+pj3WLdiMyXbd1F+tJxEohkhsizwxhg8z6OmppZNmzZy111/5G/+5m+49NJLc9wwUbRfhfmjSkUAGQeG4wNEIf/f6bauThb8TnaP5y5H78XvYfzY8dVga1bnqT4IonP9Oe6G02pxxpd80R5VZBijnKpfGDnXgcY21lM3dzZTfvIzVj34MPrgQcfVaF2eG0EkZ+vIalGufFMYjWcURgvnDyJc5rXwgOVu+Tcrf49/53Rv1tpM8KVjx47ce++9Bd0Cv/rVr9i3bx8Ax44dY/PmzUyaNImu3brxzW9+k3Xr1tG2bVvuvfdeAJLJRM7v169byy233srKVaswxhD4ImvZec7HOm7MOP7lG/9C/779j9vezEDVzl2S0B5pE2DTHgfensegNjcx/M7b2bb0fazReEer+OjNcYy45XaKO97J3EeeYueMWVSXlNBUX0Na+Qij0ITSx9bgGY0X+kmxZFQSgYxfOyNHmzf4o3bmtzeaKNrYkO7QkaTY0HepjcIXaRoaa9iyfTPtOtxEUVERN7e7iaqKctev9ZotHx1i+MCZPNl1AM8/NIgRQyazeM5KtmwooXR/KQ31TaTTXo4qZpY0xBEf19XVsWTJEq6++mqKioq46aabMpygnudlKPCi4JotMNHPFPidLNCc7vMf73jxOEbBexr7PA6gp3I9J9OOTw048xuUe4ESYx1tnJQuHUMpjQqS2NIDLL6tM29cdjnHpkyFRJMDS2mwvsQI7Zz0SmK1QhmJZxW+dUEEwvSYs5392Nqsxdm/f3++/e1vM3XqVCoqKmhoaKCsrIyhQ4fSrVs3EokE1loefPBBkqkkAAcOHuTqn/+cbdu20atXLy655BI2bFhPEHjUVB9j544tgGXNmg/59W9/w8LFCwFIC4GwII1FCbcUbmps4sknnuTf/u3fGDBgIAcPHgz1txVNTU0sXbqUurq67OBUGmkMSasQWmAqa9n+6kjGtGnHzG73cGDJPAgSpI5VsPC1EQzvdBeT73+MjydNp2LzdpqravGEIq0cNZwxLqVHGkkCGbK7h+MHU9jizHuN92v0mplkJhuRtspgXAeEoOmjTBphUjSk6qiqq+TVYa9xwYUX8b/OOYcFsxfTWJlmzpSPePaB13n4TwMY0H0UMybMY80HH7N7+x5qqmpJJdKImMWYr8kevdfc3MyRI0cYN24cF198MZ///Ofp3bs3vu/nqGTmM8h/UuD6NIDvTABoa+3O93sW+vx0AOeJ+iv/szO6VI+WGtpIpPVcSZuyCGPxtHS6OrU1rHqhO6N/cAVL7voT/q4SCARagg6cX9NqjVYCbSWBFaRCNnSnU22ypZlnsUhRNLGttZSUlPDwww/zy1/+kmeeeYZhw4bx3HPP0aZNGyorKzO/uf/++5n19iw+3riRUWPH0KtnTwB27drF7bfdTtu2bZk2dQojR45k1KiRNDXVMal4Au3b38xbo96ipqYaTwX44YNGoPGVQGOob2hk8JDBXHnllTzwwANMnDiRd955hwkTJtCxY0cOHz6cHVChqqRnFNr3UPsPsfjJZ5jQpg3v3XsP9SsXYRsqsTVVHFq1mgWvvc7CMaPZs3ETDZVVBJ7ECwy+L12ljXTlhtoqfCSBkS5vksJLt1MBztwAkQZhsb4N6+sjGZIkwqQJTJqaumr27j7IDdffwuf/9hyeuLc3416fz6N39+e5h4Yx8pVZLJyzgs0fb6X00CFqa6rxPB/hq5zJVjCYphSe59HQ0MDmzZt57LHH+MIXvsC3vvUtFi1aBLiKpfhv8wEjPm7+XBA8WwD0ZNtxPL9nvN9PFTjzx9Yn2c9YVN0Yk6FAE1aQMAlk4AhdpTF4CGTgYz2fo0sW8e4frmfij35CWXExeK7KSGkbWqdR3XCAZ3zSNkBohRUWKy1RVUn4z+m8pNO2RX0TWZ3JZJJNmzYxffp0Jk+ezNKlSzN+zmgwbN68mfnz5jH//QUsXrok8xlAY30Ta1avZvz48SxeupS0CDhWU8XCRQvZtH4dyxYtYsf2LWgrCExAYHx86yMI8HUaY91xKiqOsnjxYsaPH8+kSZNYtGhRTjvcgAuTsA2Q8vC3b2NC504Ut2/D8ke6cWTiaHbPnIq3ZydN+3axf8Nq9pZspLquDM9PIXyBDlyiuxUaqyMGc4nVMsvpmQeM0cQo5NPK79d8wMkAkcT5eLXGyfJ6KJNGag+lAvykIFWveePl8fzuylt58I6+PHvfq/R/fhSzJr3P2g8+Zu+u3ZQfPUwy1YBQvkvQD2nfCvFcRtZjJLcRsTOtWLEiIy/8m9/8JuOSiaz9uMWZv0T9JGBztlucJ2p3/vtRv5xKVP14WQL55/zMLM4WAzk8kW8CGkkgpcIEFqkt0vhoJbBpga6vZfUzzzLxsh+z8q57MUcqkEGAMJq01njCKT4q65M2aTx8jFGYwDjwtDbU2uBsxc2cGxAluxf6TnzS529KCYyxKBmCWGxLK0NQ4LwRaYXWjljYkUkIjAoQfrrVtsbJfSMdc6MttilJ7YrlvNnuWqbd0oZFf7qdxV3vYUKnTmwbPxZz6ADekcM0HNhF4tgB8JuxgYf2/TDFTIcyD2HOZ6CxUmeFyEw2cFBoMLdmNeRbI1GEXiud0SBSOkBqH6UESijQ4Ddo1izaxqvPj+Gl+1/j/tt6cdt1DzBt7By2bthG+eHDNNRXk/YSKO1q1YUOENax7Ue+yULWUATiUcVSeXk5U6ZM4dvf/jZFRUU8+eSTJBIJhBCZWvlMBVaBSXwyYHimoshnA5ieDMCdDCC31rfHKxjI/+yM5nE6I9Dg24Bm0gjlcuKchK2PtQaZ9tGBpHrpEiZd8wcm/+hqyqbMxKZTJP0kKaMJtONBlMbDsykC6+i4bLSUt2E1yVm+VIesFRcN7MgqydWqyX6mlEDKFEKmXa5fVPqoNIFQpH2BLwSBUnhKkvJ9Ur4g5fsEKqobV0gpMgASJ8qNzhMEQU47ci23KJ8WbH09B2YUM+Gma5l987XMv+F65lzflrfbt2dDr940LFzC4TkL+WjY66wc/ho1mzeAn0RIn7QReEYgtcBq5UiQhUWrbGWSyou4tja48/s1GtSZdoe5nEorAinC63S5k9ZYZNpStreGBdNX8tJDQ3mqc19eun8wV17yK84/5yJGvDqCmsoKkolGAhGEZCYWbd04lDYE0qg/Y8vJ+ASLHpRSSurq6igpKeGll17ivPPO4+KLL2bq1KkopZzGfExiOH8uxa/xVIHiZH/7l7ifDtdF/lj7VC3O1oDCGIs0Es94oV4MaKWwQuB5aQIpUc0+1NSxslcvxl72E2Z0+iOUlSO8ZgLAU9pFhbWPMCmk8cOAkQ0JJ0yGbuxstjgh14qKykZbW5oYY0LJitBCCwl9IyYdY121iQpSCL8ZLVJo7SOtj8QPeSUFRrvAnJICGbhyP2kcSGWqfuL+wQLLTm0NgbGYmmrWD32ZWTdey+Ib2/D+73/PojY3sqzjbax+9FGWPPI4U267mxFtb+HN9reyZcoUbLIJT/s0G0HSCoSWGWVUo0OlVBNNbpXTV/lR1shvTozoOd8Syewh+YjSCiE0ge+sTNGs2fThTt7oP4En7u7JCw8M5K2XpzJ5xDtc+f0rXYT9hhupqap0D2zlODi1CsHZ+ijb7FiSwgdQPljF3QaRJRkEAbW1tXz44YfcfPPNFBUV8fOf/5ydO3cCFHx45fvzTpSGc7zl/V+axXmi6zrdFudnDpw5J9QGozRGCIR2+ZhOx0WR8hP4KnD1ykmfho0bGXfN73j9hz/m2LRZ4CXxlcTXBulLjBYo7aFNGmtlWPbnLE0XWbd/GcCpI/IKiwlJJSL5CpfonesQj4OHsgaFY1iXIo0WCaxfD0EteNXo5iOour0EFTtJlm4hXVqCrCmFdB3oNEb4LvnamDC3Njeg0XIPI75Goyzo8nKWPf04c2/8A4vaXsv7f7iOJW3bMf/Gm5l8YxvG3NiWCe1vY3Lnrsx9vjuly5ZDUyNSBnhakFaRIqdLahfGuvQzG7p2QjC3llBfJxc4s4P3+Jrh0a6VJPADZGAxgaX6cAPzp66k9xOv8MQ9PXj5heHMHD+fDxas5ePVWxg6aAj/cP4FnH/++Sxdstw9+LUOE9QjqQqJMUGYU5oFznywy19RGGNIJBKUlZUxY8YMLrnkEoqKinjsscdobGzEWpuXntQy9aa1h8TJLGtPCnAi+Y0oCT/DOu92d5xTs/zONldBa33S6gO4wOdnzOI0JsrF02EZnnRSp8ZZL8IotJX4wiMllRvYtXWUjBjC27++hhk330Zq/158P43S1gUWpEQrD6PTGBMg0MiIbowwQHSWbhFwRoBhbQSW4U3CWecOOLKTTkknJyKVy6UUShAIDykSGNUMthlTf4CKrUvZ/O4oVr3ZnVWDHmZ5n3tZ3KMri/s8xKrXXmL12FcoWTgL/9gh0GlkkEbGxMqiZOzMQIpSxiK+zdBCFLv3MufuLrx303UsuKEN82+8ibnXtWVa2+uYckd73n3sfpa82JNVrw9n6/y5NO7bh21swvoSJRRKyJA6zZGDCGNQJnRRW+NWI1FfaZ2hYYtkQCBaXsUezCZioTc5y2Yn26JAWfwmweaVOxjxcjFP3d2HFx4YxOjB01g8+0N2bN7Hgf2l7N93gMOHDnPjDY4l/re/+wO19XVYDMqknUyzClBSu6R9E50vd2IVAtB4nmdDQwMHDhxg4MCBXHjhhZx//vmMHj06A5qRn/NkAKnFgyLmi2ttKXpKe8g6n/nbWuIJ+oWstrMNKE8EoFH/fGY+zjhI5HSmNo46TGcVBJ1+jVuyBdqghMEm09BYxax2NzL66l9RM28ZSIPwPUeuG0iML7FCII1P0vqktZ9JYzH8BVmcWoW6PU6SQtnQ8jLGWeZGIbVAqQCpJIEMCGQSIZrANICoIH1kAweWTuKj159lxiM3M/a2qxl7w2WMvfa7jG97KVNu+TGTb/0pxbdexdTO1zDhTzcwp9dTHNuwEtJNBIlGpAhcYEKqEETD+2OioFKoXCkVtjlF87qNTO3chZnt2jP1+rZMbt+B6V3u4t1nH2Xhq/1ZM3UCO+fOZe+Hqzi0p4TGqkp0Oo0VKmSQjy09w7GgjMmoWEaKljZ06eiIhT2KxONkk4303GdKZ4JXShlXk64NQeCjtQIJ9YfTzJ30AS8+NIjH7nqRQd1HMGvc+6xbvpW9JYeorqwnmUrR0NRAdXU1EycU84//+H8oKirinXffQSmJNj6BTGXOqWRLyy7fAi5kMUZSHtXV1axfv57OnZ288E5aNJ4AACAASURBVPe//302bNgA0MLvfSKLszXLKd/9cqJlvvssOobFGI22kVa7JqucWQjAT05a97MGy3g78u/PZ25xxlHchsqN0fIr9+llYpYEbkCKgP0zJjD0x1cy786HqFm5HtncSFJ7BIHA+BbjuWBHs0mT0h5kLtCcrbiZC5xKhwn9YZBGGYSFwBikMQRaIrUgkEn8oIkgaEarZjANqPoD1G1dSMnMV1jSqwvFna9m7E3fp/iG7/LOLZcxr+OVzOt4JXNuu5J3Ol3J252u4L07r2Llg9ex5IGbmNa1HTNfeJD9y+chGitRMo0IXMQ7CKQrUDDaiZVZ4SQjtMRIBY1N7FuwiDf+2JWp9zzAe489xcJevflgzAjWvP8Om1Z/wM7NH3Nk1y4qSo/Q1Njo2H9iwRqtjVuFQGhlx0XZbMj0Hk5OrcJ0JYVVDjyNlWjpY4SH1r5TFzBOXTOQiiCQiEBilSFoFmxZsZeR/WfzaOd+vPDQEEYOmsKS2aso2byXI4eOUl/XiO+7WnahBHV1dezatYtrfv97/vZv/4Zrr72WY8eOgrVZQNPZhPd8YIj/3Rp4aq0zUfb33nuPyy938sJdunShuroaY0wmyq6UQgjRAjyPB0r5bcj/3XEBTIc8oGFAVhkR8oE6n3r8WnKtNdXivexnZw+Te6H+Odm+iX/njAeHwv9kX2MAAnlpAMaghQ+VR1j61NMMv/QnzO/6OCQ8EulmEtZ3+ZuBQXsKT/kIwhxATA5rztm2Rf2RWfYaBVbhlAtDQmBLOCkDtPFBJsCmQdaSLtvKweUzWf1GDxY/eSdz7/wtczv9N4vv+BkL7/wpM9pfSvGN/8n4a/4fo37yVYb88AL6/OA8ev7X/+alS8+l12UX0uNHX6X7T/8vz/32u4x94nZqd69Bi6SzamUImsrpBDmWKoGJmNiNwWuqZ//6dSwaM46Vo8aybcYs9i5dzP6P13Jw7w7Kjh6mtr6OdDoVqkc6bs2IKERrR2ZhY4MzCq5oYwkX4q6vDC5pXYXlkhngCJe8WhMID20DlPEcS7v00FKDgNojCd4Zv4Qej77Oo116M7j7aN4ev4iPV+7g0K4yKo5U4CU95woRAVJLNJq0l6asrIwJEyZw3nnncc455zBv3rwMWORXCZ0IuOITNG7lSCmpr6/nwIEDvPLKK1x88cV86UtfYvjw4RnLNE7AHD9fNJ5OFkhPDVRszP3gypozq4Cccx6/FLI1wPmsQfNkAfVEn515i9PabEUI5FSHtGhcuISVzc2Uz5/Pmz++iilX/oaDE9/Gr6qmxjSTMGmsUhjPYDLLJZtVPTzO8U9mj7f/TPSJa29oOeHSfEz0RDcKLX10kMYqj4oDO1kyYwLrJ7zC0j6PMOuhDkzo+HMm33wlM2/6EdPafJfxv/gGb/34awz9wT/Q5z/P4cV/LeKlbxbR/Tt/x0uXnc+AX/8Lw2/4HsV3Xc27j7Th7UevZ0SXX/LsH77D9MFP0FxXjrUyFNNzwBkJkWkjHW2ccsQYXpCmsqKMAyU72Pvxx5TvKKH64EGaampIJJtJCx9hNYExTjLDtFyyRq/RlvFP2thuQrAOmdCtCaPvxqKMRRobnkOibYCUKbRKgVSYFOxcd4BhvYp5pHN/XnhwKG8NmcTSuWso2bif8oOVNNcn8D0Po5wbQCsfYwOE9DHWUF1dzcGDB/ntb3+b0SaKCKNbW9q1tmwv5PeLgDMSkNu5cycPPvggX/jCF/jGN77BihUrgKwOUiFgOh5YFVq2F1rOF/pbWxNaneHyO9SYMjrcTb4VbVu0IR/MT85FcPwgzfH+fyrHPdG5PnOLMxc1Yq/hibMgkjeJtMUqSB8uZdPQIUz+3o+Z+vM2cOAwTek60sZVfCihsYEFYTPyuY7o4+zc4sCZ8R/aUMXRKAecWmJUgPFToHz2fryWfo914/nf/YgeP/t3Bl3zXV77w3cZ+qt/ZcB/f40+PziX5//973jyG0U88fUienzniwz9yVcpvvkS3u32CxY+ezMfDrmPbeNf5PC7g6ld+hbJD8dTtfgt1ox8mtHd/8TWDUvRymUpOMsm63dUVoXs7o4CTihBc7qR2voaKqsrSSRSpJo9lyqmDDJUvJTaIpVLAyq0TG05AUJWeev8mI6bMjff1EkOu5p7Xys8LZDWEvgC6QWotKG+LMHsSYvp+dhQHuvcmyHdJzFr4hLWrtzMvp2lVFfUkWhyrESEGupSe07/3QRo7cAsmUxSUVHB1KlT+epXv8o555zD/PnzWwDnqeRU5i8HI4sylUpRW1vL0qVL+eUvf0lRURFt2rRh3759GYBtzW96MlH2E73X8juRtRm2V1uMdHnDWqmQmd+xZUU0ePl5rPlL9kKAdbqtxeP1/5nYPx3gzAOQ1vYoiirTEiyIY+WMvvK/Gf/dH7L4vodBSrx0At8GCBNg0xabNlkpYReabdF5hZ7GrXVyHOTy253f/ta+29p1Q0stmJxX6fx4WqSwfoKgsYrDW9fxwej+vNH1Op751X/wxBX/zLOX/yPdf/Rlnv3uF3nxsvN49Zr/x/hOP2LeY9eyvHsHVvfrzIZhD7Fp7LOUvP0y+98fxr73h7F73quULh1F1aopeNvms+6dEaxbMYfAb8AoH6WF4xJQTnhNmHCiaLAalAgQwkcoQTIIkMYilXERZmXRwqBFmN50nOBIvM/cgyRcCmKw1gFn9KqUQBrXFmUipiwfT6bcOXwLAez4qIxBL4zl8bv78uz9LzP2lZl88N7HbFq7k8OHymmob0aEuu1u0guUcXyuJpQD1lrj+z5aa+rq6tizZw833nij4+ts2zaTMhRfRh8vuHAiyybKZmhoaODIkSOMGDGCr3/963zhC19g6NChOaCZTwSSD8SFQKk1oDqu9RmT6zDauUm0tChpQk7WsCBCC7TKZmJoowv6feMPm9bcCifqq0Lvn4qVeCrfP2uBM5osEZjkX5hWCiMNQmiMH3BkwVym/e53jP3+5Wx87S2sl6Yx3YQUrp7dsWO7VBZjcy3Z6Ka1ZvW0ZgkV6tiovfEt/v8TAWgcOB3VmclE1TPn1cZFj7XESB9MAATYoJraQ+vYuXQqG4qH8M4TnRjZ4acU3/4z5j3UhlV9/8j8Hrcx5ZkbmNv3Nta+9SibJjzHthm9WT7qMSa+2J5x3W9met8/snZqf/a8P44Dy6ZzeP0iasp3oYNGjEyjlXDcABnlRR3q4YCRFgIXlFFKukCWdUtnE9iQN8A4HssQ5OKkxPnWUu6kCpn8rc24LayVYYmkhzQBSgcEIuU4WHWAkgEmgOrDCd6bvJpej77Fw3e+TP9nRzNjwiLWrtjC7p0HqKioJJFMIJQII/faSfyGrPU6ih7HKqmstTQ3N1NVVcXYsWO58MILOffcc5k/f34L4MqvtIpboq2Np/y+iCSad+/ezeOPP84Xv/hFLr74YhYtWpQ5Xj6IFrJ2T2QgFALQeLQ9c2+iPgktTqucL1opFyjURiKkuy+BDFpcT2vA3BpwF2pP/lgpNG5OFHTKP8/pDFKdFRZn/OKkkqQDgVIWjIGgmVW9XmT0D69g5h/a0vjhWlRzEt8L8GQaZVXGcW1pebxCnVfoyRV1ZgRuhdodvZ7IOm3tuqNja60xyoLCBUpCLW9jbUZLXFmN0ALfePjGw9g02AQ0l7Fn9mgW9XuYda8+xfaRz/PBy914+7lOrB7xBNNe7MCM3h3YMasHGyY+yczeNzNv8O1sKH6KhcO6MbX3XaydOpQDS2dxcM0iUvWlIBqx0kPKAJVJjcpqCint/MlIP2OZ+tbgGZcJoBSZ5Zw0Qci4LkNQylqa8fr3FhZBRmfKYK3G4IiqpUojRBKjfbQOCPwUCI1sMqxfvo1h/Sbw9L0DeeKeAYx9dS5L5n7M9s0HKS2toLahDl96SK0z7gehXBTeBT5MGKwL/eQmO6l836e+vp6dO3fy+9//PuPrrK+vzwGyQg/j1qLt0TiIfzcCQc/zMilKbdu2paioiKuuuoqSkpIWllwh+rmCYywPnOL+5Xywyp8fOrQ4HauUDYsRnOqCr9II66PCey1MgNQtfbEnArP4fCrUN/Fj5JehnowFGZ/Tx3uQ/UUCZ751KJUirTTpIE3gpZEqTfOenUzteCtv/fByZv+xK2L7XnTKI5AJpPVjg6f1SGZrT7iTfULHf58fVY2u60TXDXGL02Y0yqOlkTaOr1KgEdYQGI1nNb7STptGpZENR9m+aCofTRrIjmmD2TSuJ7Oe7cT6N57hwIxBbBr/HKvHPcy26c/x8fhH2TzxMfa9052SGc+zb25flo94nHmvPsn+hZM5sm4xicoDoJpApZ1CpXagKYxGkQU9l0LlSjilkXhWhyTEzvIUxiKNRliJbwRSO6o4rSOrtfUqIBMRGROuHIzGEnK4Gh+tJDIIkF4AytJ4xOPtsQvp9dhgHv7jc/R77nXenbyMdR/sYO+uMsrLqkmnfYRVCKPDnGH3UNI2u7SMANu1wRJlD0TtbG5u5tixYwwfPpwvfvGLXHjhhaxYsSLn/rcAnAJjrZDFFf9dlHLU1NREeXk5kyZN4pvf/CZFRUV0796dZDKZ065CFmehc+dbWPHfxEG+sHHhAoJGOlIZpQSB9vFUCmUFB8sP0OQ3EmifQPtom03wb60vCgFrwYdogbYVOtaJgLA1y/dTB844esf3kwGO+BaBTYuODJ/+vhYI5WqrAy8AKWnYspm5d3bmle//kFXP9oLmFCJRh1aeAx9rc9izrbWZcsL4Ey7/iZvfqfkDUesoQNHSMa+1zjlna/3Q8rhhQCQzYaNJHC5BrEHhgCjQmkA7uRArA/yqQ2x+fwrb5oxkz+xhfPjmM6wf3Z2Db7/KjuK+lMzoxdZpz7J18jNsn/oC26e9xI4ZPdg8tTvb3+nLjjlDWDjiOdYWD6J09XskK/djA2dxauGsRIlB2jD52cgwaKWQRoWgrhFGExjldqsJrEHErFS3DI4sOt2qXzD6no2CEaEkr7XunEoZlO94NVN1ARtX7uCt/tN5qkt/XnxwIKOGTGLx3A/YurGEw4fLaGxswvN8F6jSUVK9Cl0ALgiXCywhcOdN2MjKqaurY/v27fzud7/LibAXmsTHW6ofD2Sj/FCtNVVVVezbt4+ePXty7rnnct555/Huu+/mcHwWssrioJpzHRn2/JZGSmugqXXkx3TgqaREKg9PpWiWTVgsY6eNYVfpLlIqSWB9PJVGqtwc10LzJf8aWsynAn0U78toPv1FAefp2PIb0PIJpNHacXW6Cg2NkhK8NPvGjeOV//oBU3/zG/YVT4LmJNoPMGF+YKb8Lo8SrbWlQ6H2QAzQ40/AvOWVMdmgRnSc7EW2vO74w8JZPiEgWZVNMo9VaWjrotJSKYR0vk8TJEgd28fO5TM4tHwS22YOZtnrj3F40XC2vf0yaye+xIdjn2Ld+CfYOOlFPp7cm0XDn2Rq367MHPowM155mA8m92X926+yfvoQ9q2cQWPZbrTXAMJHCYHWzm8prEEh0VaAcWxGAQY/qvTRCp3xeUVSGNqlEAkbSxXLnyCxyWBtmObizmO0wFg3+YzVqMA4iZUAKg408M74JfR6/HWe7DKAwc+P450Jy1izbBN7duyjprqGRKqJIEihpHD+VuEeptrIUD0yDL6FUi6ubRJtBNaozD2Oj8t0Ok1FRQUjRozg/PPP54ILLuCdd94paEFFv813SRRaMuYDblRm6fs+ZWVlbNu2jVtvvdXJC3/nO+zcuRNrbcFyzGhMtgSqmO88AiQVa29e6aQxJhPUyzzopMYoidA+vk7TpBqxFl4ZPZjtB7fQJBtJ6ASeTiOkizvEq56ivojkRFp70GQMCpvnd42lP50scJ5Mv39mFme8AS2A4ySOk3+RWSBVGOVhlUQGGt8PpWhlgCo9zKY+/Rj14yuZ1KYth2a8B42eI8mVwkVgtUJmInzK5SfqLNDlgmTLKofI8jPGOK3rMJCjTfaGSh0KgGkZBnnc0jsi6mjtWm0IFC74IlwKjAlBwwQYK7A2nMSh5aW0q4oxOgC/Ab+8hH0rZnBw2UR2zBnO1reHsmpCL6b1u5fJ/boyo//dTOjegbWTejDvlccY8VRHpr78MCNeuptZrz3DtMGPsWRsL/YsHsvuD6ZSd3ATNl2LlR4qEEhlEdogjUJZp2xpdIBRmiDMoXQuBo1RrqLH2tDyNtaVVfrGicOFkzYiiHAEEjEANVl/rku4910/qAAtFQTg1Us2f7if4f0m8+Q9A3j+/lcYMWgai2evZcuaPZQfrKSpKUkqnUSoNNZIlHJM81aE95BIIz2KoOvwNXwvAu2YNRRN5iAIqKmpYdu2bZm8zvbt21NTU5NjPZ2MjzPX0m0pihflbabTaUpLS5k7dy4/+MEPKCoqolu3btTX1+cAQhYIcsEzMkCiz7TRGf0mHWYmRCupFj5MJRFaEEjf+byVJJBpkiZBs2miVlYjbMCQ8QNYsO49KvxymkwdjaaWlE6Slmn8sEw40rKPtOp1yIZltSaecqaNW2FlLeOwn2wE5o4e8M+1OAu5LD4V4IxbTfHBEv/sZIEzH1Qyx1USqwJQEquc9eNj8azEBAHmUBk7hrzOWz/9FdN+ewN7R0+BpjTGTyOCFM1egpTnO3+hkQjrI4yzpKyOZItbB+/s8tyxlSNCNUbtWHKEFgjroUg7wFMG44fWDdnjx0E06hv3BI2CIVEKjAMmq31HImF9pA1QVrootwxQaKRM4NUdpnLrEkpXTKd06WR2zx/H0tH9WFH8Kh9Nf4Ppg59hbM97GNW9I7vee5X1xb2Y0vMuJvT8I8X9urF0VE8+eKs3cwY+ztqpQ9izYgqVO5ehmo5gRdIxCWmDpxXCBGjrY4wLyriySTIuETcBTCjVa4mIH4iTboT5qkYr0Nb1VSi4p5QrL/WVU0ANtLtfSqTRwsekJKUlZbw7fhE9HnmNZ+4dzIAXJzBjwgesXrmRXTv3UHG0ikRzMiOtm8krjN3DnGWnNjmvLotBO2s+/n5sskUM7seOHWPYsGGce+65XHTRRcyePRshRMY/GVma+aDWmkXYmuUVpSjV19dz6NAhBg8ezEUXXcTnP/95Jk6cmOPyyEbaDVKqkBvUOr6BSIvduIeWCX3qyiqkDY0JrbHSoH2NEi6FLC09mmUTnknh6wSeaSZFM9VUcUgfYHNqK/vZR99pvRi3YiQb6z5it9zM9uR6Dvr7qdQ1pFCktY8n03gyidQSXziRRiUMRgmM8jN68tIqhHHjQZlIHSB03RmT4TA4VYvzeP3+F2lx5n8/blorrQiMQCrhrAWNGxjaWV/4abyt21nQ9SGGXXI5c2//E43rN2ETSdKe54IVgcRIQaAFKatIWZe8i9QuJ9GE7DqmwHXFO1k7aV0tLVKDCp/eRvso46Gsi0Jb6coDM2Bpcq8z5wkYWWsmm3ZjTYA1AcoGSOMTWEFgpLOelUIaHxnUcWT7R+z+YBpHV06jfPkkds4ZwXuvPseysf1597XneOvZu5g24AE+mtKbYyvHcfj94ayd2J2Fbz7J/NefZGbf+3i79/280+8hNswYyr6Vxez+cCZVe9ahUi5aLLRFWEkQPhyM9ZxVpqN7HV0PYc5sVEWbN7hMmMoSRsmtCctLDa4MU2sCJfBFENK2CQIRYITGa7RsXrWX1/tO4rn7B/LCQ4MYPXQ6S+asYcuGvZQeKqehoYEgiLTJ45adjalh5i9Hbc5rjt8vZunEx2O07GxoaGDTpk1cddVVFBUV0alTJ+rr6zMAFk8XKmR55k/afH9efKIb4+SFKyoq2L59Ox07dqSoqIhvfOMb7N27FyDHT6iUQQiFMRYhnHWnlMUYx7iltcVVrlqUlkgVIJVAC4ERCqvcvWjWSRI6STNNHEjtY/WhVczbPofJ6ydQvL2Y19a/zgsLXmToulfp+EpHei3sRb+lvXlxUXd6L+nJy+/357XFwxi5bDQLdrxPmSijnjrqdR1JmyChE/gqjTECqwOscsoOwkT0ggZpJdZIIoJdFbZf61z32skCZ36/nw7Q/MyA83gWp9QqZD0KkFI5sS1h0UIToPBlChL1lM+ey/jf3sjoK37Glr590aVH0F6ALw1aOgo6qSSeMXjWOtkJFWCNzgJcXtvjFqHSGt9KhHYCc1LZMNhgsFq55aQKUNbxWipjw3sdgUor/lwV+Zd0plLGRY/d0l1ZFUanNcI6fSZlfdKJo+z5eCH7PphG2QfFHFkyhoPvv8WWGYPZMLk/q8a+xPrJfVg/rS9b3x3EkcVvcmDOEDYV92TdlJ5smN6XDZP6smFMb7ZOHcKBJWPZv2oyW5cWs/Oj+XgNVc49EtLXKSvQNgjzJmUorUvINxACZfaOumuOGPiNs0YxkSWqsDYsMzU+xgpHzqFFWCkUOFeMrynb28A7Ez/ixUdH88Q9gxnwwhhmTVjA6g82sH/3PiqPVpBMNGfqt+P+xMxeYPLkTprw/zY7iYzNnXj5S2ghBOXl5QwfPpzzzjuPiy66iPnz5+ewtheyJgtNukLWZr6FFAQBnudx7Ngxli1bxhVXXEFRURG33HILtbW1OYEWpRy7fRZIXelsTqZAxDylFVZKrBQY6QoBPJOiXtVxzByjJL3z/2fvvcOjuNJ8f2bvPLv7m7szd2ZnPPYYYxtwABuDDRgMNmCyCBJR5Jxzzjknk3PGJkrknHMOksg5CjCghGJ3VZ1Qn/vHqW41Mp6d3d/u7J3dbT3nqdNB3aerq956w/f7fdn3+ACLTi1i9M5RDN7en+6butJ5exdarG9Fk6imhC+qxZ/a5qbR981o9H1TKs8Mo9KMKoRNq0G92fXosqYDgzb0Zs7Rmcw/uoD9D/bxWN8n0Y0ng0T8OgNbWd7xYDR1A4iHQKTionDRKBPEoPRfbjh/bvx7Gs//NI8z9BYa7gslyNAWmdrCkgLXAdfSCFuRpQXpyo/PTsVNTiBh8y7Wh9dnQcnSnJo8FfH4R7TQSOEdyB6cQkkXoRyEdkx11fM2XV6thAdOIKUMLCrLtfC5DrZSxusUGkeYvJzrCFzLSIxluApfUIVe4zm0r3yv7BMxcLJIE64rUySSyvEomMZYOlpjKfArZSTNMp9x8+xurh1YzbNTUTw5sJRHe+YTv28Bd3fM4PqGSVzZMI4LUaO5sWM616MncmnlKC6uGs3Z74dxbu0ozv0wgksrx3F1/XRu7FrA/RNridm9kivHd+FPTQAljF6mDOQCvTyuNOmKwD4LKF7lzOm6wZSEKQq5yuQRTa8eY4SF8uFIP1o5CL+F9FmgICMpkzMHLzJz3Gp6tp3O8D4rWD5vP3u3n+dyzE0ePXxA2stEpJ1JELwe0uvn50LknAWTnB7nz3koOT1Cx3FITU0lLi6OiIiIoBFLSEh4hdXzujzaz3k+r7sfWihyHIeUlBQePXrEkiVLyJ07N7ly5WLq1KlGdcp7TeBzQ0WQQ41wAOCvlULbEteSaEdg21lkyjTSeMld3212x+9icdwihu0bQosfWtByXXPa72pJ613N6HCoDc13N6LtwVa03NWciJUR1FtbnxrLqxO2vBoRa2vTYH1Dmm1uTJV5Zam1sAr15tei3ux6DNjcj7U3l7HhynIuJp4ixU0mTaQiMZhaY9AD+9rkZ3Gl53FmR3qhDtafu0D9P+dxhhqC/z85zuCJ9porglQyGKo6rjI7Tbo40iVLCtKlhVA2TtpLSEggYct2Vtasy/wylTg/cQruw/sonw8lXEMFdEyY7nhFI0PtM96mzgGYz77qK6QSONJHlrbIRGBJjbRdHNvFr7THlZcoR5CmBZlahtA98dTdX91f5gc063E97q/0EAFCeZRCpRBS4QiFX0r8SiGkD2klEX/9NBf3reHBsXU8PvQ9D/fM5/bm77i3bQr3tk3iatRw4tYO52L0GC6tHMH5hf2IWzGUc98P5tSKgcSuHMGllaO4HDWJqzvmcu3A98Tsi+LxtXMoXyoEcoFeXlJrYTx05Xphtxvicf40ctAhW6UUWjooZSOVH0dZOK6No/zYtuUV3kwFPvlhKrvWHGZY92n07ziFicNXELXyCMePXOPalfs8e/aCjIw0hPShZDZTJaenF7qWwDzUCL6uKJDTyAYjgxyG2LZtLMsiPj6eRYsWBSvsW7duDT7/OrjVz514OQtEOY1nwPC5rsuLFy+4evUqXbp04Ze//CVvvfUWcXFxQaMppSQ1NTVodANGNPT9pDAoCCMI7uI4Nn6VRaJ+wU37GhtuRjFgU19a/dCMmguq0mRDQ8bcHM6kh6MYc3cw4x8OofX+SAbGdmPAhe4MPN+T3qe6EbEqjIqLyhC+phrV14Qx4HJfOh5pRdOt9Sg+4XO+HFeUyGW16LuzMz1WtWbpqdk8VHdJdV/id31GqEW5Xi8y17tAe9oNnscptWuQFiG/8b/0u/5Hj/90j/O1O0MJU/1zXWxcw1JxtemVIzw9RmlUhEhO4dGm7awIr82Sb77h6tgxqGs3cdP9KL/AsR3vwDayadkV3lfDpJxrUELg+jIR0kcmNj4lkLYRFrEclyypPdaMxBZ28Id13Z+eLMGrXqBYIaRRePK+j/Tyt1Ka3Kx2bITl88J3ByH9KCcTJ+05j6+c5O6JrTw4vJYH+5fxaPc87myezI31Y7m8ZhjXokcRt2o4l5YP4cK8fpyZ15sLKwZxemlfzi3rT9wPw4hbN4G4zbO4c3ITL+7E4KS9AOVDKguhlEElaOW1UNAeVdHkyIJ/P/cdAx6dEkjhQynbfA9X4rjmoiCFi7Zd7FTB+cNXmD16GYM6TGZEjxksn7WeA7tPczHuJg/jfyTpZSqW8DpKekD8gGELHTm9i596ma83ZK/7n9cZ04CBTkpK4vz581StWjVYYQ9oaP5rvJuf+9zQeaBQFGgvfPbsWcqVK0euXLmoVKkSL168QCnFjh07aNGiBbGxsbiu+9qme47jGI9Uu4jthQAAIABJREFUKmwhSBOZpJHB2aSzjNsxlsaz61Nx/DdUmVmONruaMuRqX4Zc60e3Mx2pt7E6VZeWpuWOWixKmszA051ovqkOk24PZ/SVAYy7MYg2eyKpEx1GhcVl6BfThwExfeh6tAO111Sj/JxSVJhagrozq9J2QTOiL6/ioXWXFJlCpsw0+VbhRTXSqzNoT/Rca4/hFQjjf7qf/r28yP8ww/nvdcvpqYQeSFJ53o4yXplULn6tyXQ1jnLRwnh6Ugp80iLLcSAtkx+3bWZVjWpsKluefU1acWdVFGRa2AHjqbTp9CizcXA5r1TBH0VKgwX0Z6H8GfiyUlHKRjg2WmqkpbGUS4bSWErh2raR3/K8rdD85isnofTwplKhHBOimC6MFlJaaOFHSz/405DpCYjMF7xMfogUfgOrsn3ItER+vHKaa/ujuLvve+5sm8vtzd9xPXoCF1eP5Gr0aC6vHM6lxYO4tXwEV5YN4cKygZxc3Itzy/tzfsUQ4qInc37jHOLjDqLSX4DrQ2ofjmtjKwdbSRxPWNh1TX7JCeSYclwfQy982ftTo5Tjyb1ZBuOpFUq5OJaL60BCfDqrFm5jSLeJDOo0malDl7Nt1WHOHYnh5tXrPHseT3pGCn5pIQn8XgEBkJ8aqNeF5Dm9ub/UiIUen6HeH4DP5+Pp06fMnDmTf/zHf+TNN99k+/btwKsdTEP3x899ds71h36PnKmCzMxMbt68ybZt23j33XeDvYrS0tLo1q0buXLlYuLEicF1BCBAoWLIQhixlCQnnWcyhQtJl+i4qAvfDi1H6RHFqb+8BoPP9mDAua5Ebg2n8spvqbCsDHXWVafj/qZMvj2E1Vnz6Xm4DZXmlGTC9cHMeDiaKXeG8N3dQYy7PoCvpxWn4pxK1P6hHr1OdqPr0dY02RpBoaH5KdgjHyV7F6PDwjasOLGUB5kPSNepZNkZKCGDqAutDURN4hVRvYt4KBHl3zv0/qt5nKEj9Ll/y/uF7gQhTR8hKSXYpu+2FBq/1tgaU13zvA6flvilg3Ac3MyXxG+OZl2Vyiz9tAhbIurzIHobbqqF61dIaaGU36iPu+5PTvifGDhpo4Sf5Af3uX/yNFnx8Wg7E8f2oy2Jli5+aSTOtM/GtQWuJzbi8urJYObZODqtTM5WSolwBbb0oUQmykrFenYf/5MbqJR73Ivdz7Xze5AiCyEFjj8LV1i8jL/F1UNbuLHre25sncvtLdO5Fj2RS2vHEvPDUE7P683xKV04ObErS9pVZlrL0hxb2JPzKwdzevkQLkRP49yWxTy/eR5XZKG1xJYWtraxXQcn4HW6xnuUyhzI+me86ZwGyHVdA6WSPrSSCEsYGIoD/jRN7MnbTBu7jD4dRjGs53csmRbNoS2nuRl7l0f3HpCW+gJHZCK04+Fn3RAxDhvDAArkUvVP1vLncl7BiCOk+VhOI5fzPXNWvdPS0oiNjaVixYrkypWLNm3akJ6ejm3bf7EnlHOtOcP1nEMIQVZWFtevX2fw4MH88pe/5I033mDt2rX07NmTXLly0b17d5QyCk8BwHkAz2zy9gLbFVx+eoMJ0VNpv6A7Xw8uR/Fhxak4vQw9DrRh6t2R9DndkcrLy1B0amFKzixB6z3NGXmpP5NuD2dR4lS6HW5L+Tml6He2K+PvDGXC7UFMujWAcZf7Um9ZGF+PLc03E76l+YYmdDrQgja76lPvh+qEzajM18NKU6pvSRqNj2RrzBZSdQoZMhUp/GjHAO6VVghXIVwv164CRVvXwwL/+d/7/znD+e91e50BDhhQqTygtdenyPV2plSeQVXK64mjcaTCp20sZWFlpsHLJB5u2cC6yEiWfFmalRVrcW/VFkhKxc1MR/nSkcKcjIEEfM4TI3ASCSXIcjLZtGQxA6uGs2bQEOyH91H+TLQlULb0Ku0aZQsvhDQ5zFeNZuBkCLBlPPaGJ4rhKBuNheVL5umNC9w5uZv7xzaTGLOTc1tmc/34WqSdbNTOlY1ysvAn/8j1Yzu4unMFd3cu4NbmqVxZN47rmyayfkQj+pbNw4QahRlaNj/dvnyT5T3DubBqGKd/GMT5NWM4sXoKsXvXkZnwEDyAvdAOjusYKFiQquoGsY4BLnLQIOTw+H4aQhl+vbC9EMyCH++9ZOPKfQzqNpE+HUcxaeQ8Nq85yIWT17l7/T5JzxPw+zJN907leCLKhjqpg4WcUAZKTi8z+/FQ6JH5v58/CUJhSEp5FwjcV1gsoV5gZmYmz58/Z8GCBfz617/mt7/9Lbt27SJQDf+5UDKw3wJkAR2y/WlqwaSVQj/bcRzi4+OJiYkJFqiKFClCu3ZtyZUrF02aNMa2/ViW6cekPW1TIRyEcHCEQ5pMZ8meFZRqV44SfctQsPdnVJ5XmZ7HujLoTHd6HGpD2MKyFJtchDJzSlHt+0r0P9edyXeGMyt+HMNie9N4Yx1KzShB16Md6X++O71PdGDMpV58d2sQnXc2o/iwLyg+rDifDyvMZyM+JnJtGF0PtKF5dBNKjSxNwa6fUaxTSfou7Mvt9FtkuekI5TcepZBIbTQGRICwIAPHYCBs/2k65C9NkfxNG86At5fzqhwoTAhlcF1SubheIUVL85wtAzvVQHssjwrmSom2HNz0NHh0j0sTJjK/RBlWVYng3uoo7Hv3IC3D+wGyNRVDCwzZW5OLE1qgU5M5vXwF/Up/y74Jk1EPH6EsP0JIbBnIwahgYv4n+SUd4LPrbMOqNNrr0e1IG+3apCc95EHcYR6f3sGz4+tJOLmWU6tGcP3AQlyRiC0ykTILV/nQTipPLx0jbssibmydxY1Nk7gSNYobG8dzamFflnWozLiqhZhQ+XPWdqvHxe9HcXxJf04sG8jZ1eM4tnYG984fRGa+9MIf06tduBLhGlV6V2qDT3W0+Q20yG4b+xpjo7x8nAoAjrVpb6EcjfRLbsXEM3XEIrq3GsLALuNYPH0dx/Zd4MKZ6zy4/5TUtJcmjRII15ThSGdLzhliQUDFKAgpes2Jo4KepcurHqb7M3MdxKkG3iOQbgmlDAYMp23bQeWk8uXLB3OdqampwbyklCGUx5xebI5tYM3a2wYgRKGMIIAbN27QtWtX5s+fz9atW/n973/P3/3d3/G73/3W5D0rV8BxLEwrFDuY2jAMIAdwSXKSmLZpOmW6lKXkwK/J2/MDqi2txuC4/vQ/04022xpSekpxSkz+kvILytJgfTgTbw1m2t3hzIsfz+CzXWm4sRZfTS9Oh4Nt6bi/FZ33Nmf4ua5MuTWI/sfaU3zEpxQdVoSiI77gi5GfU291DXoda0+rrY0pObIk+TsW4qPmn9FmRnvu2few3HQsaQgYwhFeFwETjZmah7cPXdfM/wLD9h9tPP/TDWfOyrypxhppMwejFmQMjWEVSa2wXXNSGhEIC7+TgePLRGU5OH5j+Jxnjzg/YzIrvinDuNx52dymK8+PnUWlpoOXw5RKelJj5mB3HM/oCYFyHGSWD21b4M8kbsX3TCobxslRUyAlFcuxSBMOjjS4UccxGpHScbx8jQqGuKFG1DQrcw2NU0ocZSF0BtpOJunOBe4f38rFDbM5t2YUO2d3Yu/SnvheXMF10/H7k1EiA+W8RCTf5caBVcSt/47rmyZzNXo0V9aN5OraUVxeNowTk7pxZkpvbi0fz4Xlwzm+pD9nVo/kZNRkruxfS+bT22D7DHRLGdaG8Jg+bgirBKEMrVIFqKBe4U7roFSbkNJ7H6MroAKFL1vz4nEK29btZWDnMQzsNI6Zo5aweeU+zh+/yu2rD0hKeInP5zMdPbVpg2za+iqPUeVHa8vznly0dD0EqeuhGLKZSyqQCwu24tBBvOwrrTlyjhxerNbZ6RbpeaAG7ZDNQvH5fDx48IBFixbxm9/8ht/85jfs2b3bu4A4QbrhTyKaoLfuvuJ5ahV4PPR/zGO2beNqzaBBg/jFL35Brly5KFiwIFWrVOUXv/g7cuXKRa5cuahQvjwJCc+xbT+OMIr2SjoIx+w/n53JtWdXGLp8CF+0L8YX/YvzydBCRK6vx8ALPWm9vTHVF1ak5MQS1FldnzY7mtNlbyOm3R7EjNuDWfB4DJ12NaLqonKU+K4oA2P60nFPc1pvrsuIs12YfHsAPY+1pOXGCCIWVeLzIYX5bHARaiypSse9LWi9vSFlJ5flkx5F+ajVZ0SMqM36uA08SLuHIzNRyjGRipI4WiBcJ+hoBNNpOVox5xz/pT3O0FA9eIUPvR9gPIR4NtmalaZokZ0oDkiemZDOLxV+aSOdDEh9wfmF81kTUZ8VJSsx5fOvOT11FvpRPGSlo6SNpQS2lkb13PH4s44P7ZiWtsIWKCEg+SVnp85jWtlqpJ88B4lpyAxh4EnSxVGOUW53LMPGEObkCIDYg+Be5aIVaK96KLVhISntR9sZaF8Sz68dY//KURxa3ZcDa7py+dASfIk3UCIRv0wjQ6XhOGkk3YojdtNiYtdP49LGSVyKGs+FNSM4u2owl1aPJnbpMM4vHsL5H0ZxZu0YjkRN4NTORfx48yQ6MwktHBxlMKPCM4IBb9HVnqCycnC18YqVsnCEqb5LLXFciXAVtpBm30mFdIx6v8zQxBy6w3fDltK33WhG9ZnK8lnRHN55mssXbvLo/hPSXmYgHMdrJWKjtVF+N4Ib5rO1tnBdB60djzDgGRxP6Ujr7G3o/7uuN3dFyHBC5nb23BMXMRcM4XX49IbOMdcShTG06ekZnD9zgaqVq/KLXLlo3CiS9LQUpLARwm8IEtJBONlpIVdpjxHnBreBx8x97SlEeWrr3oXE8vl59PAB/fv1Je/7eYLGMleuXwTnJYuV5s6t+ziO+W2ktJF+GyszE4AHL+7TZWoXKgyoQuFuxXi/0/uUnl6C7ifb0v1YW76dVY4P+xagxPhSdDvahaGxvRh0sgMTrvRg8o1eTLzRjxrLKlFsYnGKT/ySUdeGMuhcV/ocbc6Ic+2YdLsvIy92YUxcT7rvbUOZiSX5ZEABSk/4ik672tLjQCearK5L0UGf8l6rdyncvjjlOlVm/vYlOEgcZTx1KQIdBLz20DkwsjqkqPu6Atu/lF/+mzWc//LNxQ1iBQmZa+++DorkBg4+Q8t0sVwXP4os6cN6+QK04NnRY+xq3ZmoKrUYW/AzYkeNIfX4SXjxAmH58buaTMvGbxlRgwAEyHQ/1FiOQKdlcX/rbqbXqMd3VSN4tHIj9q14EBrbdrAdCyV9KGF7Suiux5f3CiseNjLAvXWlNjk8bXkK5wLHslBWBvhfcCdmE7EHJ3Lx4AiObRrOxcOLsdNuIEgjS/vxORYyNZmnF44Qt30Rp6MnEBc9jriNo4nbNILYdcO4tGYEV6LGE7d+Cue3zOT41nncit2Hk/UMV/mQjoUlDeVNespGAfhRUPRBC5QrkNpBCAswAg1CGU69cG2EsNBSI/walaVJfPiS/RvPMqj9NAZ1nMKkoQvZ9MM+4k7d4GrcbZ49TSQry2+8dNfxRCcMEUAFjKbrKUd5bTRAm86gKAjQONEeoUF7lftsdalsL1OGDOf1c22MtxGckNmKPEERChV8LgiVUaad8otnCcycMYd//Pu/J/fbb3Hs6EFc7WBZmTiOP2j8hCM9UkSo7me29xlQoA/NiZv0j0ml+H1+nj19woP7d9m3dzcNIiPJ934+fv1Pvwkazs8+Lkrs+asIhclVCwtpC4TfeG4H4vZTsN6nFGj9GQW6fs6fOuam9Ixi9D/fieZb6/Pl2JIU6PsFhYd9SaNNkXTc34TOOxswOq4zE2/1pMfxlnw75xuKTyxNsQklGX5xIKMv92H0lW5MvN6dMVe7M/h8O5quDaPNxgbUmFeJT/oX4IvhxWga1ZQO29vQdlMTKn5XnMJ9CvBhq0Lkrp6XntP7kWCnmIjHS9W40tM6UM4rGp+vM5Cv8zT/o7Gd/+keZ2C8eh8gJCQLAtXNPKhepAIqK0a7UUlDf/RrSZZ2sF2JLyMFbD9JV68Rt2wFuxo2YUb+AnxftiqP5v+AFXsZnfISYdtYto3PFmRJTZpwsKXAlg6OY4FPIpIz2T93MSvbd2VK6XLsGjaEtIe3cNMzUZaFwDZXSulmV4K9Ey0gQKFc78RRCiMKbOO4RvhXKon0Z6FVGk7KZa6emM/xrUM4uWswe9b14OrJxUjrEY7yIWwH/OmotCc8u3GIK0eWcm7jSM6tGcDlqMFciRrI1Q0jObtqDCdWf8e1Q+tIfBCL9L1ECwch/EjpN1f54Bqz0QXKE4uQyqPDKR38XqZnjx+tM1EqA61ttKXJSnaIO36HmWPX0rvdeMb0m8nSmes5sOMMV87f4+GdZ6S9zMLxS2NMvDYM2g20sdBB9aRgmBzAk+ao6JtQPUCdDaHLumaN2mu7rAN89WDY/uo80M1Rexc0Heyu6XpCJq4XJXieYchrLL9D6ssMLl++SvXqnkp840b4fFk4jskx2rbj5TtdAgpR2ceGZ0gDQ7nBHLLycrnCo+g6jiQjM4MHD+9z/cY1rl2/xvr10XTu3JlSX5Xkn371T+TP8xGH9p9Aate0znb8OFkWjs8mJTOF0QvG8GmDInzavgjvtfmQD3p9SI3llelzqjN1Vobz+ZCiFB5Qgs+GFKdBdCT9z3Zl8OmOjIztxIiLnRga15XKCytQeEQxio79ksHn+zH++gDGXOnGiAvtGR7XiUFn2tFgVRWar6tD83UN+bBXfj7qW5BPBn5CiTFFabquLq2i61Llu/Lka1GQfHUKUK1LLU5cP4OLi2M72amsQGrIO3dCvcx/CX72X9Jw/iW313ucrnc/cBArpDIhpJY22hEooRBS41eKNClIlQ6Ztt8IhAA310RzqFtfoiqEs/TT0uyr04SH02bhXLkMGcngavzKJUuCLRW2Elh+A2lSWRKVYUNKIjFrFzO4ehnWDh+ETEpFON5rtcavXWzPg3ADnSu1p7cZOEGlND3BEUYgWBu2kNYKZb0E5zG34zZw7vA0TuwbzP71HTkY3YfH13fh2i9wZSr4f8SVz0H+SOazc5zeNJq9s1tzYWlnTi1ty/4FHbi0dQ4JV4/jS7yL66Ti2A6O4xoREdcy3qSXC5Mhzbe0ZygDxlN5KQYptAmPpW3SGcLCdSQJD5LZvuYQQ7rNoH+HmcwYs5L1q3Zx/vgVbl97xIsfU/H7JMIRXgHOC9Fdx9PLzDZ0OcOwnBAU83g2O8v1KuDZupP/yqFcr2LrBvvrBJr/BQyn60UJAWOqhMm3+rIcnj9PZPny7/n1P/2aX/3qV+zevfsV4Q/bNpAavM8yaRrQEqPY5aVulMTLdbpBLzTQ/0lrF8t2sIVDUkoSDx7d59rNq8TGXWDPnp0M6NufJpFNObT/KEorfCIL2/ZhZfkBiE/+kXYjO5K/7sd81uULPu7yCV8M+5yG6+rSfndLwhdW57N+xSgy4Cs+G1iM+mvqMDimJ6Mv9WTMpa4MudCOMdf6UmNxGJ8MLkKx0SXpvLc9w2K6MyymAyNjOzL4fDsGnelA/e+r0HpTA9psbEb+7vn4qOdHvN0+Nx/2+4D6P9Sg/fZG1JgXxjvN8/FOrbyUa12RfRcOIV0jbuIqRbAdsftqJ033J8eB+1oj+t80VH/97RXP1LvyC2XhKJ8Bjts2rqVAgN8SZFgOtnbJlAqfUvjTM0FoSEnl5Pgp7G/ajpVFvmJRgcKcadeBRyuW8/LCBUh+CRkWwh9grCgc6WJbGscnUP4MtD+B3ZNGMr1qOJl3HuA6Att28GtFlquxXE9JSdogLVxlB/m22jWhiNQOEmFyjIDlnZhaZKHdlyS/iOXciWWcODCW4zv6cGhdV05tn0BK/FEyEs6S9vwIL5+f5u6Vg0QtnMjKiR04Pq8ju4ZXYeeEaqwcXpddC8bz+FocjvMSx5+EbfkQytBXLW0Fw2QpHaTy8oyB0FSJYPiotDYMDyURfgflt8F28SU7XDx6lQWTv6d3u5GM7j+bJTO2sHvLSa5cvMWjhz+SnJyGZQUqzQFdTDOkDqRHXDQEt68MV6MCW89r18YOBeemNYbxWpX7rxxeqiLAmVYy4GUa42YMGqAAGShigpRgO4LUtHRi4+KoWTOcXLlyEVErgozMDHx+fzDCEFLhunikh2zVn4DHKVW2iIx2s8P5YGHKS/PYwkFqhd/xkZqewtNn8Vy7cYn79x9w7dJ1HjyIJ92fYRTZhYUQhphx9ekd6vZtyLt18lKoexG+HluaSjPL0WZbM8LmVeSj7h/yWa+iFOnzJZ/0LkTdH8IZcK4rg893ZtD5tgw+34bRV/pSeU4FPh30BYUGfkHpSSXpeqAlw2M7MyymAwPOtKP38Va0296Qdlsb0XJ9EwoP/IxP+xQmX+d8fDqwALWXh9FiSz3CF4eRt8NH/DE8N19EfsmavesMdlOYyrqWAbFpr7LuvloTyWkkc87/I43m37ThNJ6bxnEdHG2hlQOORNsa1zbVYC0MvVE6pmjhl4oMpfDZFnZyIlbcJa5Nm82e+k1YXuQrlhYrzfbGTbk85TseRK9DP3mKm5YOtsHASSlRjkRaWWgEicfPMLNIOW6uWgNpacgMH45j4XM1mVLgSNtUo6Xl5dEU2lN60UqiXE+L0DUYVdvFFJK0g5RpKOcFz56e5/ih+ZzeN5aTW/oSu2c0V0/M5GbsPG7EzuDS2WWsWTaJ1hFhzO3TnJvf92N58/c4MKEm27/rStNvy9C9SUsunz0CbjKOzMCRGp8UWMpcGKSUxnPXNsq1cXWIWpMSXl5WYIssHOU3os0OxN9IYtPyg4zoOZN+HcYxbcwiNqzeyZkTsdy6eZcXLxLJzPIjpPCKKyZ/HFSDci2v4OOFzAHP0UiJhAwdstXZ913vMe9ipPDC7xyv/HN/Cs944uEEdXaYHFDmMVKEXvSjA8efKV5KLfHbfp48fcKCRQv4+3/4B95484/s2LUDANuxcYTwvGI3xPhnowACc+VpKQRxilobCThlZOBsYfreO0IgvU6TfpFBlj+dhIQEkp8n4cvwYwk/jrawhYWSLrZ0OXjxOOU6VOa9xu9ToEd+whdVpdG6OtT9vjoFeucjX/t8FOpahI87fUKZsV/Tblszeh1vQ59Tbeh3ugX9TjVn6IVuVJjxLZ/2+YJP+39BqfEl6bSnGQPOtKf/6Vb0Pt6CHsea0+dkezrubkbEkho0W9mUMqPLk7v1uxTs8zGRq2vRZFMtwpdXpdDAz8nT+H3erpiHobNH4MOPLW2k4527SprOCCHe5s95nT83/x/DSU75t2yIj7kyacNzlQpXKLQjDIxGeMO2kY6fLGWToSxsbcJTLIunh45z8bu5bItszoqvyjD7s0IsrvANR4cM40H0Rl4ePw2PH4L/JTgvkZkvQUisGw/Y2bYH8ypU4NnWrZAl0D4/thak2Vn4bT9IgRbGk5Ou8sJebXp6u9ITlg1Utr1GacoUY6RMQ4gk7t0/wdkj8zm7cwRx+8YTc3AccSfHcfn0eI7unsrMUX3pVq8+C3q0JnZ6e+aF/zMb+1Vk45ieVCtUkjrf1mT9qnmkv7yI5X+Eq23DFFKmPYmp3Dom5aEtNBZKB7jrWWhlJPqUMj3VfRk2F0/fY+a4NfRuO5GRfeaxcFo0B3ae4lLcVe7fv01KapJpHeupQBmj7KARuHhVbFd6B6Imu9od2hvorzMC/YhM+w/XGF7XQ3W4braR9ubKNaG9Ugbf6jgWmRlpXLhwjgrlvyVXrly0bNkcv9+08XA8OFB2xT/0+2XPAwiBAC5WK4Hj8f2lND3vlTResHAEjm2bIp20ELaD9AukZSIHoS2EMmw2v1Ss2hdNwfqFebd5Hr4YUZCmG2rT9VALKs4qxR+b/pZPu37GJx0K8XG7j2iwpBb9jnWk+5EWdDvWlF4nm9DvVAu6HWxB6bElKdCjCAV6FaHZmkY031CHRlFhtNxanXa769L9WAu6HGlB+11NqDjzW1quacU3w8rxu7p/4L3271NnRU3qR1enblQ4leZU5v1W+fj7ov9AyyFtyNBG9Fg4AiWM2E5QhjEHUSDUHoTe/tvnOF93C+I9PUaFVsqrwAUS7kYI2dEG2iCUjfKollr60SILobIQyo9fWviVJMuxzZunpZN64iQxk6cRM2w462vXZm6Jb1hdMZz11etzd/wUbi+ey8U1i7i7cyvWtZtYN++RvnsXUdW+JbpubRL2H8N68gTpZOLg9e52HE8lyOQxZUCh3BO+UJ4ClPBCNaldr/WHg5A+/HYqjkziycNjXDq6kHN7p3Fy70SO7xvNqT3j2LxsPL2aNqfhV+UZ2yCc+GXD2Nu1LAdHtmZ6mzZ8+VZhGlapz8pFk4g5vYwn9/YgfE9QMh2hLKPb6BXZpDKwKKV9CJmJ0gZILW1TEfalW9y/85z1K/cypPdkBnSbzPSxK9m8+gjnj9/gzo1HPH/+nCx/GrbwGTyjZ3RNCxPjaUrlGKC8VCipg3AT87gg0MJBqcCQr5k7IY/9uSFDtq8f0vNspJQhKlVmKzzFKun9dqFKVlqb1ixSOliWxdOnP7J48WL+96/+N//8z79n9+49AFi27Un1efKBP/lOwkuXmO8lpUR6OEytHYTjIysjk3OnY4g5e5XEZ+lIC5NrdYzykZYaV5hIRio/jvZ7ht3FdhXzNi3m3Zp5KTO6NJUXlabhxjBa7qhFlblf82aTN8jb/AM+aV2Igu0+os78qvQ42Iouh5vQ6UhDuh1tQI8jjei0qzHFhxXjg86fUrDb5zT+oSF1VlSlyoIvifj+GxpvqEKHA5F0ONiYtjsaUXxEET7q/CEftfmEd5vk4+0m71B8VBFqr65C7ahqhP8QTsHun5KrSC4a9W9Miv3SOBciwMT7aUfPnB5nzlvguf8xnCG3nKF6EN8ZYJpojeNK/K6D33WwtW162XjK6kr4wTL5UOHaWMox/VGEhbBNjpSkZPTjZ7zYc5jHq6PY27ET1Os3AAAgAElEQVQL2+o3YVHJr5lb9AtmfVGUVeVrcKLzYPa2782Z7j252aYVa4t8wZoqEVyPisZ1pQmXhAHDS2la/dquDEJQXNfAfJQKgJ/xKqvGAwpS5aSFo1KR8jm+xCs8urGXi+fXcOHUcs4d+IElEyfRpHwkDUpUYWhEda5OH8ih7vU5MnoQHcrUpOibxWgS1oCVC8ZyfM8Uzh6czqNbe3H8j9FulgF1e+kBof1I10LILAPHEgppeznjl5JTe68xY8wqurcewfA+01g+ZyP7tp7kSsxd4u89IykhFcvniUnYtucxeBg8IVFe4z1pmfSJslXI1gPRe1vhbY3givIMbcDYGom07Mf+3FAh258fUiqUCJl72yCu8JW59OYS4ThIIXEcSdrLTGIuXCaiZm1y5cpF7Vp1cSxBVqaFVsp4UtLggmVwfU72WgOiyI6XEnIEjm0hbYfEH5OYMHIGg3uOZ+3SHdyMeYryAQrPE3WNhoJjo7QfofwmzFXgl4Jpa2eSJzwPTb6vT/iaCkSsLUuz7TX4euIXvNHwj+Rv9gkfNi5I/ubv8fXIz2m5sTbt90fSZn9d2u2vRecDkXTc0Zhig4vyQftPyd+uEF8OK0GDH8Jps70+HfZE0mJ7Ddrsq0Pr3XVosa0+RYZ8wh8bvkHehvl5v8EHvB35NgX75qfOmipErK1C9R+qU25iWX5f5Q/U7R1JgpNk2EJC4oYYzddBjgJ2IGfe8785jvNfuGlPf9z1qpAe/lB6uULHYx+IoKcQAARLtN+clLarkK7ElQ7SCjSHczwhXxckoCzS714j5dwZTk2bwtGBgznTtR/rS9UkulgYKz4vx8Zvq3KqSi3W5/uMFQWLcXzsWBAWlpNpetFocJSL39X4PMiPaWfsJb+VIqBubbCC2U3FAp6I0D60zAInHS0S8VkPyEy/w4u7t5g7cj71SregQYl6tC5ZlhXNIlnfqD7Tajel4jvFKZWvLHUq1GTRtEGc2DmBQ5uHcPbQLJ7FH8d2XpgcmjaK79K1TKVdGaOnBSgfPL6dzJYfjjGmxyJGdJzLnNFr2bHmBDHHbhJ/+wXJL9IQfpX9+/zbNa3/pm/KgcTnafywfB2//c3v+fU//Y4tG3aaJ//1crXZNxeykgW7ok8wtv98BnSYynfDlnN40wWe3kzEsV2kBO1otO2glYWQfoQw0B6/FExdM40/hf2RJivrUn3Nt4StLkXjbdX5avzn/J/afyBf48Lkb1CIdxvl4YNObxG5siodDjSkxZ5wWuyuTvvdtWm3pQGf9/ucPM0+5P3WBflj4zeJ/D6cbgda0mFfA1rvqU2L3eE03xlO0821KTaiELkbv8X79fKSt94HvBuZh097f0jkuhrUXh9G1ZVVaL+lLUXaF6F6lxqkyBTTD0majgMBoepsD/KnuM2/VkU9p+H+mzKcoVeaoHSbp0autclNqQD+LtAe1oONKAW2dsnSLpbyvDsvxBdCYUkXWyikNGGzX2gyHMeUbh0BqSmop89w7z7m/vptPFq1jgdRq7i3fg03R08htnojDn5Vnq2tWpJ8+TwuholkS20+11VkucazQHqGM3AgKBet8RgRnup6oJlb4ILgqXYLlYmtk3HJJON5JjOGrCTiy07ULdGCiAJlGFMpgnlVGxD5TknKvv01ZQpWon6VWqyZP44T28ZzaH0/ju8ay7kTS0hKuobUWaYw5JohXSfoWaUmWJzcd4U546IZ2H46w9vMY+HwLWxdfIqjWy4Rd/w2Ny8+4t6NeB7decLDO4+Jv/2Ux3d+JP7OEx7ffUr87Sdmfucpj+884fGdxzy588TM7z41r7nzlEd3nvLwzhMe5ZjH3zX3A6+Jv/OUR3ef8ujeEx7de/rquJs9j7/7lEd3vdcE/uduyPxejvt3sx9/HFivt76fzp8Qf/cJj+48If7uU+Lv/kj8nR+5f/MpNy4/Ytfmw9Ss0oDcf/yQts27cf9OPPdvPubB7Sc8vOOt796PxN/7kUd3zVrj74Wu8QkP7/xI/J2nxN97Qvytp9yIecSpvbdYMWMfkwaspV/raQzrOJ25Y1dyaP9Znj5NNFV/odDSh1A+z3MDWyumrp7Km1V/R/OoSGqsr0jlNSVptC2MkuOL86safyBvg8/5oH5h8jV+n3wd36L+yjA6HGhM8z01abW3Ju121aL1pvp83rcw7zb7kLxtPuHtFu/QaGVtuh5oQZvd9Wi5O4IWe8JpvrsmzbbU4qtRRXg78o/krfsB+ep8QO56ufm8X0Ei19ag1oYwKq2sQMcd7SjetSg1utckVafiuEYQ2pWBc+NVY5hT9u/njOT/eJw/c3ND4PEmcR+C89QueLlPV7pBLJ5QGr82YHOtTOVOSo1wwS89/KU2+p8+VxlBEb+FyPIb4Q9boX0CMizIzIT0RMhKwz0aw9WWfdhdpjqzKlQldvsWANLtDPweRtP2UglBWp0byh4JXAB0SGvgbGhFAFQvhYEwWSILKW2e3kqkX8spVCvahvDiran4cRjtStej61eRlP79N5T/qAElPoigRURbbpw+xJUji9iyuAPHtg/nwPZx3L61F7+djNYWUvmQ2kK7hmOupcvV8w8Z3mMG/dtNYnD7GQxtO4fx3ZcwoddixvdZwMSBC5k4eB4TBs9j8tB5TBw8lymD5zNlyEImD5nPpKFzmTR0NpOGzmHysDlMHj7XbAP3h5r7k4bOZdKQOUwcOodJ3pg4xJsPmxuyNfOJw+YwYbjZThw+h/HDs+8H5pNCnps4bK733FxvPvfVuff8xGFzzdoC6/szY9KQ2UwYPItJQ+cyedgCJg6dz8ShC5gwZD5j+s+md/vRdGk2mP6dxjNt9DImDDbfMfBdxg+exYQhs5k0bC4Th5h9NMHbjh80m0nDFjJ+yBwmDJ3DjFFLGD9gHmP7LmJMj6WM6fY9Q9stYkSHBQxsPZ0h3SezYNYqLp67hj/DMN4cx0LZ5qKc5fqZuGoifwz7Z5qsq0PV9V9TOaokjbbXpNioovy62ht8UP8zPq7zEe/V+QPvt/491Rd/S8s9DWi8K5wWe2rSZndt6v9QlQLdP+S9ph+Sv1UR3mnxAXUXRNB6cySttkfQckcNmm4Lo9HWqjSKqk6l8V/zp9p/5P3aecldKw9vN3qLr8cVpcmGcMLXVaLqyop03dOFoh2LUbNLTVJVKtIVOML2OhCoV0RP3Byh+M+JWP+Px/lzt+x+YUFjScAL1W4QOhLo++O6ASUmBco0WdOO44lXmAKF1C42GAC7lNhS4FoWWhjaZZYjcSQ4tsZK9aGyHEhMIfb7Vaxq04l5Zatzstdwrq5YQ9LtmyhtkykzsbTJxblCgTQ7XnqyZ67rmuqpm82OCnRmDAhdqICeopYIZRsvVYJrw4XDN2gW1pPwEq2pXKQppT+qReVCdSj3QU2K5o6g1Mct+SJvXTo37E3inSvE7pvLwnHhHNo8gEPbR3H5wnoy0n/ExUYqH0pbuFoihUb4XS6fucX4QTMY03sGY3rOYEyf+YzuM5cxfeYxuvccRvScxYhesxndZy6jes1hVJ+5jOo9m9G95zCq9xxG9ZrJqD4zGd17FqN6z2RU75mM7j2TUX3M/dF9zHx0n5nemOWN0PvZc/NeMxnZZyYj+pjtyD6zGBG43/vV+cg+MxnR13tdX+/xvq+fB95vVO+ZjOztfV5vs/5RIesf1cvb9p7BqF4zGNVrJqN7zWZUr1mM6jWbkT1nMbzHDCYOWMioXnNoU68/HRsMZlDnKYzqNYORPWcwuvdMRvSYzvDu08w+6DXj1ffsPZuRveYwus8cRvSabvZRrzmM6D6HsT2WMrb7CkZ0WsbQdgsZ2WkpA9t/x9hBs9i78zjpaVkI28GxHJRtMKDpZDJ53WTeqvoH6iytRtWoUlRb/w31N9Xkm0nf8Fa9d3k//AMK1HqPAo3e5O2mv+LracVovLMBDbZXp8G2qrTcVYtaKypSoMcH5Gmcn/caFOLtuh/zec+ilBxZiJpLS9F8a00iN1WidtS3VJ5Vio/b5yVPxDvkqZmH34T9H37f8NeUm1ac5ptrUXNVBcJXh9F3fx++7PAVtbvVI02mG6EXYRkYnCu9Rm4BTzMgF/iq8v9fw8PMKU79t2k4vVtoKs11s/OevGKIzDzIPXa1uZp5nh/KeKdByIPQxsj5jYiyY9lk+XykZWWQbvlIsw0TA5/gwMx5TKpRk009OnFh6SKsOw8hLQ3sLE+4QyCFxLUUrm2qngElIgN18TzQkHQDuB5zxDswPOqZqcKbYpGWCpGlWLdoL3W+aUud0h2oWLgJZQrUp8R7YRR7O4wS+SIp8WEjvvo4gt6te3Bs6zKWTWnO/PHh7Ns4gP1bxnH35iEsK8UIeLim+6T2RBX8GTZ3rz5g85odLJq+nBVz1rFu2Q42rNzD1nWH2Lb+MFuiDrEl6jBbNxxly/rDbN5whC3Rh9m64Qjbow+zI/og29cfZsefG9GHvO1hdkQdZkf0ETOP/ul8W9Rh730D/3uEndFH2LH+iPdab77eezz6CDvWH2an91k7N5j5zhzzHRtC13OY7YF1RAXWFbIObw3bQ9a1PeoI26MOs23tQbavO8TWtQf4Yf5mxgyayXtvFCJv7iKMGTiDg9vPsGXNfnZtOMr2qENsW3eYneuPet/naHDNO9cfNZ8ddYhdUYfZue4wO9ceZ/+GWDYuOc6M4dEM6TSPQe3mMrjjbOaNX8e+zSd5dO8Ffr8dbJGhhTZpKNdh5qaZFIz8mC6b29FoWzgNtlajfnR1qs+rToF2hflt2T+Qt3oewod/yyfd8lBoxIfU21qLyF01qbelMg02V6HZhnCqfvctRbt+yVs18/On8A95q35u/tDkV5Sd+hlNttSk/qYwwldXoPy0Uvx/Vf6ed2q8S+5q75I78l3ebvMmZWeUpOW2ekSsrkL5eWWIXFyfjxsUoGHvpqQ4aQgtgkQLpQOFy2yP81XJwL/e+K/hcZJtNIN20rsTCN+DDcWCRslz+Qnwgk0+1JEmPLe0wVJKpdFCoiwDMRG2k/3mwk/mk7sknDrGnsHDGFP8azZ06Yl6+Ag3NQWlbGwrE8vOMj+6ECBctN8F2+RahaeYFEgtZOdssuEVgcfNml1TRHJttLaxhA/XdfG/tPhu2BJqlmpNzRLtKf9pE77+OJLCb1WhxHt1KZm/AcXz1+KbQmG0q1eP2aPbsWJ6U3at7cmBraM5f2IlaSn3DA5Q2EHWkOmh7mDbFs+ePOXihTiOHjzKyaNniDl7iYsXrnMp9jqXY29wMe4GFy9eJy7uOrEXrxFz6Toxl64Rc+kacRevcTn2Gpdir3E59vqfGSHPx/y5113nUkzgs69zJfZGcFz2xtW47PmVOPOaS7HXuRIYca+fX467ztXAZ3ifE5hf9j7zYsx1LsVcM2uIucbFmGtcjLnCpdirXPT2x+W4G1yJu0nc+aucOnaBtSs38k2pCoZNVL0+seevcDHmOhcvmP+/HHudy3E3gttLMWZ78fw1rl28zuWYy1yNuca1C7e4cu4uezacZO7ENQztNpPBXaYzYeASfpi9g+O7LnLz4gMSnqXgt/wIaSr92jHOgh8/285voVSrr6g6riL1Vtag1a4GVF/+LbUW1+DLvqX4RbF/4N2wPFQd+C3fjvmKivPKUHN9GOGbK1N7cwVqRZej8bowvhlZnAKtCvB29by8VS0fn7b9jE97fEDFWSWpHVWFmlEViYiqSrmppfjHiv/A78u/xXs1P6LG+FpUn1ON2qtq0mJHQxpsiKDCnHIU61eM3GF56D9tEBkq0xOTCQnVvfNUu56ylPvT6vlfo4qes3L/N2s4f3J7xZJmz103W11eaw0BWp2HnfRpTYZyydCaLFfhVwLL9iP8mfgzMlBJL7m+aTsPNmzm7srv2T+oLwuqV+eHBk04MWEajw6cBBv8aT78wo9wJZYUOB6MxnG0CfGDRjPQ7tRLbr8Gb/ZTBoRCaQulLRxpPN5nD1Pp33E8Nb5qT6UibSj3aTNKfdSQz9+pTYn8TSmevwHF84dTpnAlOkTWZvm0nuyNGsLBLcM4f2IxKYlXcXWm6eHuwX6UEkawWJnulJlZL0lK/pFnCU95kfiM5IREXiYkk5KQRPKLRJITE0hKTiQlJZGU5ASSUxJJTE0k8WUCiSmJJCYlkZSUSFJy0r9xJL4yT0xOIinJG4lJJCclkZyUGHzs1bkZf+k88J6JSUnZn5Ocvf7EpESSEhJJSkogKSmJxMQEkpJekJj8gqTkBPN/SQkkJiaQmJRIQkICN27eZPKkyfzd//oFb+f+E6tWryLlZQrPnz8nOcW854uEF+b1gf9LTCApKYHExGekJD8n8cUzXiamcvvaAyaOmEGPjsMYPWgWS+dsYFvUYS6dvsOTO0kkP08jIz0Dof2GhuzYuNJopTpIrj29Ss1uNfikZUHCZleh3e4W1F9XnVpLq/JZj8/4Vdnfkifsfd6NeJcP2ubjm8lfUWNNVSI2V6VGdBlqRZelUXQ1Puj0Nm9U/z3vhOXljQp5qDCgMvVm1yJiaRVqrq1CWFR56m2JoOzkr/nn8N+Tu1pe3q35EYW7FKX4iGLUXRdBi10NabalAbUWhfNRm48pUOdT1hyIRqCwHB9SOmiPbSYDAiiuCuoZGMLAX9/jDDXQ/3UM58/cQg2nyYtkCwoLrfFpRZaS+LSDX1i40gG/D/x+SPNxYPJMZlasxsJS3zC3eHGmFC/OzQWLSIm5jJXwEifLwc3QyEzpdXD0QN3KdMHM1IoMV5OlDX9dBGTFXJPPVF4L2MBas9MLIZx8KVHKaGIKZeO6LjcvPaFDk6FU/bIN3xZqRfnCbfjmk2aULtCcou83ouRHTSlVoB5lC1VicKeObFkxkX0bxhN7fAkpL86h1UuENnqkjgpQ/ZRX0Vco6TcAeO3HVmYI20ILD6TuOGhhoYSNFrahlUrbrFMZSJOhWNoGr/ovDscboXP507k2QHqtbaPXGdDt9IDlgbnR8gx5nf7zQ3mvDaRElBbI4NZjcmnHk9nz2DnKj3D9xlhpP47y40gL5TpYdhbpmSmcOH2UUqW/4n/98n/RqWsHpBZYTha2tHCEhQxgjT2lLPMZNlJm4cgstLbx+7J49iSRVSs2sWRBFNs3H+b08cvcuf6I50+SyEyzcGzhoSMsA1/TDq7XRdV14eHzR7Qa3JoSbUtSZvQ3NI2KpNnWejSMqkW+ju/xj9/+b/LU+JA/Vc3L78L+wLttclNjaWUabK9F2NqviYgqQ7PNNSnU633+FPEmb1XIwx/LvkOxNsX5vEcRqs2pQN2NNakaXZ6wVZWos7QWn3cuyp/C3uW92h/wu1pv8FbHP1E7qibtD7ak9bYWfDOyDPka5OPbthXYF3sI5br4LZ/BtnqaBioYdWlTj3iNl/kf7W2GRoaBSPC/leGUXh9zE44GxC0Eju03rYZ9Pp6cPc/tHXuJHjCctZFNmV66LKcmT+XR7n082H2Qx4ePg9+HlDaOawDGOkvj+l1cR6AtEezlbmlJuitIcW3SXIkdaNEgs6+eORWBQo2m2YIWKrheoSSuhqP74qhXtTNVvmxNucKt+bpgM4q8X5sieetSNH8jSn7chK8+qkvFLyIY3rU/R7es48mN49hpd0AlIVUWlnSwlNdjSHvqQl7uVwnHO4ANCsHRwmsbbNABrnJBa1wlDaVVCeMlSMe0OPbEgbWHRX0Fm6pDBBy8YeYBREE2FEt7osomx+VpNLoKhbfVOsjAyp57mppaeobYewxh/o8cc9ebu6EyZjq4DkPtfXUeyDsbXU8R3CptWFJCOPh8maSkJDF79kxy5crF+3nf49Chg7hofH6fxyYyx2RQQs3DHbsBY+0KLNvmZXIGV6/cI/b8Da5duceTxy9IT0vHtozyV4DWKrWFcv24roPyFJo08OPLZwyZOpSijYtRclBJ6n9fm0Yb69Jsa31Kji7GOw3z8G7ND3mvWgHervY++Zp+QOVpFYhYHUbEuorUii5Pow3VKTe+OB81zcefKr7Dnyq8x/u18vJmvTcoP7UMkVtrUXNjFaqtrED95RF81ackuWvkIW9kfvJ3+ohPR3xC5KbadD7ShhbRTSnavSj563xI/b6NOH39PC5g2aa3lmFYOR4O2zNcIQYytAfUX0PUI2c1/7+X4VQqW2hCC7R0cB0bZfnBl8X+lavpV7c+fStVZ2bD5lyat5CHmzejE5+98p7CMarnQgq08CNEBlL40ELgCgdXGOMhlINfWWRqP35leNuuEOAIgzUN6I7m9DJd18vd/l/2zjvciupe/8eb5OfNNUZjErHFEk30xsRYolETE6PGrqDSBEUEFOy9Xk006r2JRo2xxd5FiiAgoAKiIiCKiFhAejmcA4dTd5mZVT+/P9aavecMs09BNCY655ln9tl7yppV3vV+17d5UPVmTEoptLVIoXnuqRc54sDeHLbfafxmrz4c9JNe/Gzn4/jZLifwq71O54Ddu7P/bidwzIG9+d8rbmXp3PkgixiZw8g8QkVEWiKMSMTk9Np+r5QyWpfStiofYSq0lkg75qy0RSvjAgvHiqxEkN44744DTOO9b2JvkDhQrQ9e66UB09bumbyzbS2n7oiPcQg25ZUI8blxBKS2oyPFEfB9+Suso5V27ZSMVitvmaEcsGvlIhIZF+C6WAh4//15HHPMsVRVVXH22YMTuYmS9ZKsO5d2RVvj3UEt+VxIY0OeurXNNDbkCUMXW8Daog8WI0tODAYfsV+5di3KCKEFk9+YxI+P2Z2jbz6afkPPoOdz3ek96hQGvtCP31x/CNsduws7H/3fbH/Uj/jvU3/KQVcdyG9vP5hThh1LnzFd6Tn8eI76+6Hsd8He7HT8Tmx/xE5se8z2fOfELTnk/w7m1HE96DryWE4b24Pj7z6CnU/dgW1P2IYfnr4rx9xzDEc9diS9xvbgwmnncOqjPflR7x+zzW+354o7rqUxzFEIA+8yGrpJQEW+fa0bO4kx8nkzzuRzvnSM04XsclF/dEmMkygZYEWRmkULmD9jOgunT6fpgw8hlKAtWkUIFRHKkDBSqMCgQ4MWEinzKNOEMAVE7Ivsg4sYHaJV6NMohE4MlhIjlWdsFospeZUky1paWjAKI32YM2OQWhFFiscfGs5Rh/TiqIP7cOgvenHIvj04ZL+T+fW+3dn3R8dxwB7Hc9AeJ3DoXifytxvvJ19XBGUQPh9NGEnvcx2LiMqlA7blMGhGWu9IoDHCmWiFWiNiryzvThlHixdKEilNqDSRik1HvLWCLceYbO1vbEv5dmwc9zJ5TNjh2jjcW5xWxfpIRjYOzeYdG0o7CVbf1k4ijmc8YbUzkHwKj1LyPf8ecUBi5aO3Fwoha9Y08MADD7PZZpuz3XY7MHr0CwCEYeRBNg4x55SZcflNwklDKYOMLDIyKBW75kZoW0RZgYyXRUzkGZuPfGUURW8JsnTlYrqedyKHXXU4pz7aj74j+nHmxDM5b/JZDBx6OgeefxC7HPff7HrcT9m9+8/Y66yfs/91+9Jz6Mn0m9CL458+gr7De3LwNQfzgxN3Zrdue7DNsduy2dH/yRF3/JazJw2g1+ju9B/bh6Pv/B3f7/odtj9le/Y4Zw/6jT6ds6YO4thnj6Hn8O6c89wQ9jv9F1xw+8VMfu81JJZiGCLDEOuZvNIeOL2ViTWt1/4/T+D8t9Gqd3RrBUba59LxoroxLlhDZBShiRyIAS7ookIpSxQZbGjQgdO6F2TgGlZHOMNxF0BZSUlkNcI6N89YdDVSYIVw4qwPaqES9mdJ04psVzJdYmTGi565fI4b//h//OSH+7Hfnoey9+6HstsO+7Jjl5/w8z1+y6/2Pp5f//xYfvWzIznm1yczcdQkrLaIKBYFtVNexTmbvHiqjUbh4lqK0OWrMYHA5IuYfBEd5JGFHKrYgi60oIt5dBhgwgAtQufzrwWREoQyDlkX26KWfbzjNgE86PjvfFqUROD/OCfberuh7PwQH+NYljHoxf+TOC9zTzJ8nRiEpo09kSmzHL0Hp3jUpgSIUajItYS8NWMWRx91DFVVVQwcOIiG+kZ3nojZZpwZwN1Ha7zboWPsNg55pz3QmzgsnfBKFK/c07K0zKKMC1pSlBGRiiiKIq/Ne5Xz772AE27pzuG3H0+3p7pzzqSBXD7lfH537SFsd/QP2L37z9m9+0/ZrfeP2OvCn3PSQ13pPaonv3/8MHoO7c5pj53OXgP2Zueuu7B73x+x68CdOPGBoxg07gx6DevOL2/Zhz0v+jG79tuZE/58AsfceSwDJg5k8LQhnDquDz2e7smJf+7GGTf3572182jWBYoiIooEMkquOQt0qW51q8mso8C5vqJ1w4A2LXH8WwNn8sVL4mFpndGLctZSlIrIaIpKUCgWEGEBJQT5IO+YQxRhtSaKvGeNcfEQnTLCuYdpn+3SGFNypXRpdpUzo/AiWdFYwpgxgYsKnihvfGyVy9tYB8ImwhJRU7uSU0/tw9ZbbMfO2+zBDt/dja2/sz3f3WIbduyyOz/ebh/22G4vdvnebvx630N4fcrrAAQiKAG7sa48JhYxjXGZRa0zODZaocMiqqkBVV9HtHoVtrYaaldBw1poqIP6Ne7Y3IDNt2CKLaCd2ZSUYWL9zufp8UFpjdU+dqYmzu9jjHIRNz0Ld3v8WZejcsZpNEpJ2nxIOFOeaEpmLLr8W8VQdf782GOrvM5qKGfBNIm1V73e59Kaaiz2+/gD2hgiISkEEbVra/nr7X9lk002YZddd2H8SxMAiGTkxHEfmSkOpmw8QOs4H5OJ/Hv7qEgqTrvhUzHHdSGV6yvarY9Kq4m0IIwCLJrawmr+PPT/OPSiYzjo+qM59uGTOffVszl/Yn8OvmY/tu+2A7t234MfnfoTftB9F37Ufw+O+OsRdH36RI58/EhOeOJ4zh51LvucewA/6Loz+52zL4Yg5fwAACAASURBVPtd9lNOefgYhowdRK9nevGDwdvS5dTv8tPBP+GSkRdzysM9OfOlgQyefg5nvDKQ3s+ezsGX/pqrH7qWalVLzgQUoxAtnSmg8ckBrRYlqxOty6L6xjJF+jRM9d8aOGH9VMTxzB3nkYmVM8KLpyoGOhkH2IiIvIbYaIWIRDlvkHSRmbT1OWWkLSl9lLFoys/T1iCNLbl1lhstO+pTaa1LxS6X0mmqdYElS+dz3LFHs9WWXdhh2x/y/e/uwPbb7UiXrbvw/e9sy/e3+AHbfndHtv7Otuyw/U4MHT4cay1BlEOb0MXZNC41homN/33QE4UmiEKs0TTXVjPmH/fy6LVXMur6qxl7zZVMvP5apv35Zt684y9M+9utvPH3O5h69x3MePh+3hv1HGs+mgNRDqmd8kyVQC0OFeeT1lmFQvqwel4xYzW6VdreBHi1SuXrE7qVcjnFIeJ0q++MiZOxJY6p3fqy2DjEXKz4aZXlUpf/z9xj0xnt+4LxE4Vru0hJmvMtzHxrBr877FCqNqnigosuoFDMY4xGqKjsKeOVYiX3Qq94itMzW+3DKKpy/iIV2zoa46JQedMybRVCC4QSSJ87qyls4MGRD3DEOcfzu/85nu6P9mXwy4O46LWzOejGffjeSVvxoz67s1uvn7Dzybvy8wE/5bBbfstRDx3Jic+dyMnDunPe+AvZ96JfsF237Tn4ioP59Q0H0ntoDwaPHcyJ95/ITgN25Ae9t+NnQ37KxeMupdsTJ9H3pdM5960LGTTxPE64qwcHDzmM/3vyNtbKBlpEkVAKtyQjVEKhqBLjYf0oSR1RDm1Mxpm8z781cFZcozBJMcvngomN4mMx2leQSmQ9jJUC4ES/+Lo4jUcsxiU15eWEYRZt8R09oSXErrd2kyyzyzvjGaiSWBPx0Qfv8ZtDfsU22+7Adj/Yla23+QHbdNmG7bp8j227bM3W227P97t0ocsOO/Jf3+3Ctbf8xZVZFjCiCauKLseRwuXO0Y7ZiDgHkVFu5m9q4I0H/8FDp3ZneLfjGNOtG6OOP5bxJx3LuFOOZ2TPk3jy5BN5pufJDDutB4+c1oOX7/4r+bWrKcqQQEsHJtoFKLHCr+8q49Z3fbZS5U3ETPKYdKlL5BYqi8pZyxsqJULrMkOtsLeeqHz7W/8sa8u5b1KDN3NXic+6fD9tNIVCgZqaGv7+97/zrW99i+23354JEz3rFBHGL2XEdVDydPM57lvtJmbqZYWS8aY62vglkfg8f18ppcvPbg1zP3mfP9x9AwNvG8zv/3Qk/YafxuUzLua0kT055aGuHHTlwfy410/Z+fgf8suz9+Gom3/Hwbf+kp6jezH41cGc8tgp/HDgD9niuC3oemc3+g7tR9+xAxgwdhDH3HksO/bZmV37/pi9LtiHkx4+he4jT2HgGwO5cMYlnPHU2fzktP057Zqz+HDFJxStoCCcZYAQkQtMEme6NJ65+6R2JiGJdZRxJsE1DbCdAdAvlTlSksklP2PLFvLGufA4oEzGAMwC3GRlQmmQlnzmqfw5HuzGeB/0RJSXmBUnyxkPBuM7T8w6sZp3Zs3kpz/bky233IJtt/4eXbb6Ntt+fwt22v577LBdF7bZdmu27bIVu+y0A1//z03pc+ZAcmEIRqCjFtBFpNUIbZ0CyBgXXME6G0RjXKoR0dDAuhnTGXHe2Yw46XgmdO3GpG5dmXTi0bx04rG81Kc34wcMYMSZ/XmyXx/u79+XKQ/dj2hsckxcCBeQVro6FUYRakWkNdJ4gVy7ZY622ECyLVs5OKTaWHmFlKs/n3TN+smtEpOwsUhcVvBYU267GATTk2N6T57jGKMtgZZL2BbR1NTEO++8w3HHuYyYgwadRX19vS+7cq6SscdYCtDLija/FGST360fVk2p8lKPUgqplIuFqhWhCqkLG5m2ahY9/tSLo/90NJe/dAlnj+rPdW9cQ+9/9GK3M/Zg+647cehFh3DUjUdwwA37029Mfy564yK6PXgSPznvv/n+Kd/j6FuPodtDJ3H6mP6cN+U8Dr75V+x1yT7sfdEv2O/qXzJo/BAGvnIWAyYOZNCIQfT/+wCuvOcaJs+eSkELclGBonTuyVrLcs75eHnLOOsCa1srTeN+0p4pUhbjjPtLZ8yYOqwcSoNO1t6qQ39Bt2T5SmUmEUkpVTlJxhmDYqtr43dP1kFiJJc+29afjXXg2Iq9pkAi/V1sW6mMdR1fCaxVrK6t4Y6/3Um34w7nVz/dkX12/BZ77rA5e+yyNbvuuA07bbMVu3z/v9j1+//FTttswf9ceyWFYsH5+ooQtPDmN9aDlvWmLBHWxoF8DWFjI4X5HzHt9lt5rm8vXji5G5NO7srkk05gfLcTGX/GAN66+c/MeeAB3vzHfcx85kmWzZpFcV0OmZcQSmzkGJM0mgBN3ioKRiG8KZCV2mnuTbI9Um1IuZ5Lf5mMM2aYHWecNgYif20cz8DiJYV4TTP+bE3mXsofFGvZbXmQx9YHQRCwevVqbrvtNrbYYgt22GEHRo92kbRi0JRStgKIzAGemghasS/d+rnJo9YKaQSBCWmMcmgs42e9wgmXdOWISw6nx20nc9kLF3PZ+Es55E+/ZcfTf8jeZ/2CAy//Nb//61GcPfZszp90Phe+dBH7Xr0fuw7eld6P92LwuEH0H3s6p7/Qlz2v25MzRw5k8Avnc8aws7nytesZOGoIB1x1IPufvT+X3nkx1c0rCE1AUYXOPlgLlHRLEcRLEdpbG1iNYX3WmGadnQHODWGcXzpRPT5WYpwdreTk/dyViWfYJKBWYJweECo1dHKgxPeNmYcsxSYUhGGAUJogDHjvzQkMu/0KHr2+H3dfcwbDH7+Th++9jUsG9OKPQ3pw5WlH8uydf6SpdrkLWCx9cBOlKOX1VnEOJLeOZ73IqZVFFEOKK5ezcvJEnjt3MKN79mB8t+OZcMoJjOx+Es/0P4O3HniY6tfepHr6dNa8O4fmZSuJcoFjy5FzMFBGE6EpWkvRGkKcIsoai5EuR1ScsxzMesBQadJOtm2y/rImokprXDHjNAnGmV4uKafszWaclUT35GDXWiOEoKWlhenTp3PYYc6H/dxzz6W5uRlrbQk0Sznm293Lz84CFKXKa4TWL/cI7ZL0hVoSSElTWGTh2mXcPeJeDhvyO467/hiuHHcFvR/ryU8u2osfDfo5P7vgF/zyuoPo+2xfrnj9Ms4Y0Y9f/e8h9BvWn8tfu4zrZl3J0fcfyg+v2oWf3bAXxz54Aic93IOrJ/+Bs548h5Nu6UnP63px1V1X8N7i2YAgjPIE0nlNuWycwjtUlMFfWeOUmaUMpJ0PIdcecLbXPzoNnMkBnEb39hIm/SttlcA1DZZt/daZ56TrL/mdUusb+WpjkNqglcCKgEhG5IUkCAssmDWRGU/+gekPXMhrj11HofZ9cnWLeO35B3ntif/jlfuu4MPxD0DjUlTYgoi1vaV0HQ4IZEIr60y2nImMkgrV3ETDh3N59c47eLZ3L8ac0o0XTz2ZF87qx7ib/sDKGTMpLF5GzYxZLJ00GbGyGhMUCUURoQWhcVk8I2MIlUtWZzTePtNZN1gvnlnvENCRCPLJDh3/n66/GEw6wizS7K5VG3RACZF8VvK8ZHRyIQTFYpHa2lpuv/12NttsM3bZZRdefvllwLHOGOzae2YaKJPPT4vtpfO0Sy8cypBISopFQRQatIW6QgPDXx/JkDuG0Pu23lw47Dz6P3YmPR7oz6E3/J7dzt6Nk+/vxpVTLuXsMWdxzH3HcdHkSxg0dhD9hp3KcfcczqG3H0aPp07jnDEXcO5z5zHgnjO5/IFLeXjsg3xS/RG1DatpKTYTmdBFeo+DdcfsMk5l4sVzifWpsxPpmzPqt6PtWklU35D+URE44w6ZboT0GkOyMP+qW5rBZH3eWM9Iz3xZs2d8fqmjWJwWWbhUu6G2LpDx+5OZ+8z1TL97EFMeuIyW6jmI3ArmvPQ4kx+6mhmPXMHbQ2+mYeGbWN1CpITLpBkrHbzWUliDtOW0Hla5VAzSGGQU0FK9khWvvc6zg89m6CldGdenBzOvv5rlE16gZdlimhctZtJd9/LY4POYcd99NH7wLgQtqChwbEL5hG1SYaRx66olb6HYuyjF8FLglZ75k/WaBRbpOu0Io8jaOyIStscM06yzubmZWbNmceyxzptoyJAhNDQ0ABCGYSumWOmd2hJZsxQoJbHds1mlnK2pFAYhFJFRtJDnk9wiRsweyQOv3c+9M//BXe/8g4uGXsrxNxzDMX/4PYMfH8RV46/m+Du6cuZTZ9Hz/t4cfsNhXPDMOfzplVu4/c2/c9/bD3D7y7fxwMv3Up1bTj5oAm2xkXPgyJsCoQ19wB2vJI3fVTmzLmWNW4e3qgyaNl5Dbr2m2xb4tdWWn6Z/dFpU/7TM64u2dZRxbqzntNVgWSAR2yaiFUY7H+jIWJQssnz2BOY9dwNv3ns2r9x/GS0r5mBFLQvfGsXUR6/lnaeuZtpj17Jk1hhMVE+kI4RfR9PaBS3WRiOsIfI2lVZaEBYpDaExRFoRtjSz7qOPeOu+e3myV3dGnXIyr5w3hPybryNqVrLinXe4f8h5PNyzD0PPPIPhl13IwvFjMCtWYRqafNDoqOTSabTxnkvaDRCtW60JttKoVwCmSgMjfX2aALTFUpLPyypDR1kNUPE90mudm2++Odtvvz3jxo0rXdfWe6eZZBaZWe8ddJJ1xssLTpkmlUBoQdGEtKg8eVug0TRSHVWzKFrM+9HHvLb6DV5a8CJPvv4wT854nNELxvLIrCd5cu5whn0wmmFzR/LSopeYtnIa7657j6V6KTVmJbWimoIsYKSB0GIjkFpTNKELVuMzc1qlE6kyYvdYjTISSRzDwP+e6icdaZ90u6brcUP6x7/1GucXactinOkOkGac5QGjfIph6QNuKLTIsWz2RN4ddguv3ncRkx+7geLaBWBbWLf8baYP/wtvPnU9rz3+R96bMoxCcw1KC6SKUKKINhHGOAN4aZworaxjm1ZqlBSEWhIal22yULOG1dOm8eLll/PcSScxpm9fVowYDrXVNHz8MW89/AgjhwxhaK8ePHxyV54880zeuv0eGma9i6hbh42KBCIgFwWEyt03NIqiPybX65J1U+64rUEzVrgkz4lF9bbE7o6KZp3Zs8TBLNYXfyelpKmpiZkzZ3LMMc6baPDgwdTV1WGMcUn+EvdIi+Hpd2lvgmn1u08nY4xLwyJMQGADIqOItCTQgtBIIisomiJFG5AjjyAktEVCG9JMgbwVNBOSt4oQS2AihAkRtkBeN1HQeSIEkdFIn4lWK7yDgDPSt3EamTjFt3ETqfEkQVlnf6u8ws1qH15Ob9x225D+8aVnnJ/XlgWcSY1regYtdXStscZFHZJKIJSLmmOiJpbNeYXpw+5g/P3XMunpO8mvWYhVLUS5aua9OpQpT/+FmS/czzuvjqZm1WKkjHx62sin7DUYKX0WUGdTabUGbTFaEZmIonERamRLkYYPPubdRx7lidP68nCP7rzylz9jVq8mv2IFK6dP5/0nHmXK9dcydEB/nujdh8d69+Op8y9m3otj0S2NiKjoQvmJCKEVkVYESiJxDgJZE0npc6K+kmY2medugCiWBUYduSZ9fro86bXP+Ld8Pk91dTW33norm222GTvuuCOTJk0C8BJB676RZpVZ31VkVyZZBq8U1Mo5Q5gAYUM3GZfK7SZrraRXTrqAJFIaIp/SWQqJFAohNVHk/PKtlCgRoJQoLQsIo5GYUgQu68XxkhIosZezv8qy44E/unqzJcbZ2fapNLFsaP/4inF+TlsMnOnOnzUwjDFlzxGtwAcjkUa5Dq5CdFDP6o+mM3vik7z8zN+Y/PwjNNcuweoAKwvULpzNtDGPMWvCMN58ZRyLPvnYmXxIgRYCJS1SWLRwXisRBmmNMzxWGq0EwgqKRiCNgcigautZMnkKo26+nruHnMHkB+9DrqkjV1fPuhXL+GTaqyx4cTSv//1vPDt4CI+dfgb3DjiT6U8/gW2qRxfzqDBACemUAFIhPOPVnlnHYBFHVnL1Y0p2kW4Ay1YAW3avbC1m6QprpRubcXaGAcZlDsOQxsZGZs2axaGHHkpVVRWXXXYZLS0tWGtLiqK2RPfkc9P9LOt9XRQo71JrJMaGzq3RCB99ygUVUUoj4uA00kWv0iq2LdVuDbwYooIIFTiQjIRzqY2iACkkRhi0cIpGaZwXmfBh8+KANTph92pKVgsuPqux3l3Wuviwxjr3aFs6/osxzq+2Dduy1lKyGFbyd61j7xGBNgppXQAOKYuYYj2NKz7i7SmjmPDcw7w8+hkaapajlAuKm29czezXJjJl7Egmjx/LB+/PIyoUQStspBCRRkiDES7HkLDOKN3lYTIYFSFNRKAjpFJYadBNIY2Ll/Du5HFMHvUE82dPp9jQQBiGNOWaWVtXzbKP5vLRG1OZM2woY26+kRH/+ydWznwdCg2sWzif98ZPYO28DyFXQBcCtLdf1Eo77xHtgFRqXXIddC6Tbq3XpS52htyxYiF2FHATTQwqpvRdua5NqwHzWYBmJSBNTo7xXigUWL16NXfccQdbbLEFO+20E1OnTgUoR57K6DeVQDSLcSbfN/ZCU1Y7cCoFg9YYaVHSM1KrUcanjDYuWEjkl3OEMSgjsCbybqAu2HVoAnKmSGAjxyyldu6TUvgoTgEKQZxDSBtceeLYEbHNZinWqXOxtSaONap9JCx33Fjt1lZ9fQWcX4Ata2aLPyfX6koMo8Q4nQ+9lC4PuxQuVqGMmvnovZmMH/0cY4Y/w+SxLxA01BMWc44piAJLPvmI16e8wqsvT+TBe+9h5HNDqV+7BsBFDBeqFONSqTjkmw8qopWLsKOFDyqrUaEk19TMyqWLWbjgA1avWkEhn3PsSEsiEdLcXE/1siUsfHcuc6e8wbzXX6du4Xx0zVKmPfB37jm9FyMvPJdlI0ega1ZjwyJaS0QUEilBAUXeuLVcpIsmr2yIxAWtMFKVI4Qrn4M+DkxtrXPTK6VWKIOnidlSBxnFxmKcrSbB1HqsEIKmpiZmzZrFCSecQFVVFRdccAENDQ1Ya0vMuq1liPb21mWLg4/EE43394+N9kuxSH2wEy1JusIq64OKaOViN8Qg5//XPoiLtdZ5X2l8P3ZeQWUljy55V5X6eqmcZScDGztJlL7zbbqR260zYv+XCjiToNXWnjz38yhPJcYZd/JyZzcI6YJlhGGBllw9I4Y/Q9fjfs8v9/s5A04/lacfeYR578wGJYnCHEYLliz6hHGjRjHsmafp070HB+yzD9ddfRXvzJqFiCJ0KZiu07LGKQrimJxaezc9D6DGuGg/LS0t1NfXk8vlkFKiZOgGhlJIKcjnc6xbW8+KJatYtWwFUUM9uU8+ZPSf/sB9PbrxdJ+ePN63D2/9/S4a572PbqgHFWKsJDIuX5OOJCYM0SoisBGhjYiMcMbySqKUW6+1cZCPUkSj1ksd63sLbVzA7MzATIJgzChzuRyrV6/mr3/9K1tuuSXbbLMNEydOxFpLFEWZysP0OmrHJwOTOJYByInB3mOqdLTlmA5eEimtQ/o+Yr2I7aJ3Wae8MQkbb+99VXIZ1cazyAwgjFnkRmKTnZnsNmT/UgDnF2FLAnOacWatY8Va5NhzyEUJl9Stq+Wqqy5lpx23ZccduvDDnbbnB9t14Qfbbsf5g4dglCQIcgA88dgj7LHbrhx75O/59UEHsfdP92SvPffkuKOP5d577mXFipW4ILlxZ19/sLuQZ47hucEuS0EjnH2mcKkilEt3YH0YNCkFQRBQLBTQQURQu4aFk6bw4p9u5qn+g3jy1H482KMnIwcP4cNnnqZ5yQJUMedYTqiQRYkSGqEMRSMp4NOGKB9pKc4xZFy09JjJxKzFhZFTfqBaL+p/+gGzMcHTGJcTqLGxkTfffJMjjzyyZNfZ1NQE0MptMnmPSss7lZivO/rd2gTwmZQXVKLMpWMSZGOAK4Nw2uU0Leq6/30ZjS0DpSmXIwbw+H7Jz+XvEkC7kcHz345xJgGn0p48L+v6ju5t3Wdjvkcl4KwkNjiRTQGWaW9OZcedtuXb3/4mXbbeyu1dvs83N/0m559zPgCFQgGwjBwxnK2//z222mpLtvrOFnxrs83Y8ttbsu0227DzTjvxwAMPuhQMqm1DazdofZi01C61iyMpfVIzF5pNlhKQRUoRhIrmtU2sen8BCyZO4Y2/38dz51/IE337MvTUvtzXsycj/3IL+erlYF2AFSE1SrpJQ2hNaI2zX9U+RYY3ilZJMdOWxc84YLUtBQFuzTg7O1CyBlr6u/R906AZg0gS+JRStLS0UFNTw80338w3v/lNdt55Z6ZNm4a1tgSYQohM0Mx6ZuW9MuNcH6xsa8ZZYpcpxmktSXfUrH7U6rtEfIDWZWq7XSq968aaBNP3aa9/fOGBc2NssehQCaSShsvx8bPcYhAtsTo/OMqz8/qL/C6xl2Thoo+54cb/oX//vvTt04sBZ57BWWcN4oorruKNN9504l8+h7Wa2trVPPbow1x+2aUMGTKEM87oR98+fTj++OM5sWtXJr70kkuRoc16HbK11lr7sGUOKIUPupsEzzjhmExkgpQqRGgXhakQSGpr6ln68QIWvzWTWUOf4YUbrueZwWdxb98+TH3wPqLVKyEs0tLc4E2nHLNVSiC0JrKWyFBOT2GMDx5svamLi41pdRyvU3gPKVMK1rwx2WZ790q3aXJAJk2qlFI0Nzczbdq0kg/7eeedR0tLC0ArN8y0YjHZXhvrvTZGnWRJUumJpLOT12chKbQ16bW1f6GBc0Mqsa17ZM2AycaNz/+s3iU+doRxJn9XKnIKFBGCS26BSxcsSTp2WyAUzsVR+cC1yd+NdQwmEhGRiJBaI1O2kG2Jgy4Vg7P7TLJNZbQ3KdKJ3wVKhxjjgFMYKGpFQ9DCouWf8OF7b/Hha5N57dFHGPmXv7DwjVdh3Vryixbx8uOPMnfyBGT9atB5jCmitEAoQyidV5MuBSdxWnilfboS7//smKYP/psM0NHG4O0sMHR08LXFQuN6jtc677jjDr797W+zww47MGXKFKy1rTTsFZncZwAqnwaAOgtEWXVVCWA3FuNsrw3bqtsvNHBCa7ZYaZ0neV56SwLWZw2ObW1x+bI8QdrqHO6zS/ugtSIIc+QLLRSLeSIZESrhAjdEilAIhBRIEWGMQqqIYhgQiohQhP7oQFNEAhFGSFm2F4zrqKKhufViuJY+KnqCcfooNi59sC7nR9cS49MyCyMpmiKNqpnaploWL1zAglnvMn/2XBbN/xBRs5r3nxnGXb37cH+/vsx88G80fjAdWmpABOhQowLrTamc8XW85qqVwuLNWXw6YmulZ5qtvXrid+yM+UnyuvgY96V03WXZB643CXkvJ8eoFVEUsWbNmlbeROedd17Jhz2pYc8Cz38maKbBKG16lez/WVuyriq1S6V3/rRMu1I9ttc/vtDAWWkmauu7SvdJf86qxPS5G/tdoCyeQxlEk2JXGjzd93F+HenDw0VeIeNCtinrGJ/QyitrHHAq72lUYoVaIbT0sT0d25RKtBqQyc7vNO6yZIyu4/QaJs5Vrn1cT59vB4PCrVG67525kFECo0K0ClA6QJgioQzINRdpWN3CyhXrqGtuJKxdw7uPPMXwQefwTM9ePNDtWMZdcT4fPPUIwcJPIBdABNZYFzAkzhulyrmDXHljxZFPQqdjQE0tP3yOjLPSgI0nJSkluVyu5E201VZb0aVLFyZNmrQeaejoM/5Ze9q0rtK4yhqLlRhn+r5Z524oaCb7fBaZ+ZdjnOmKTX9X6beO3uPz3NLAmQbHSh3AnRODgreh89rkUsNaUzIadvl2dHlNz5ajzTjDY+sCPXjAcSBTTjkRl7X83IQ5iTGeSTpQMh48DcanBikrGZzyxtnuWS1BCawKsTJwu1KYCFTBIiLIRQHBujpa5szl3fv+wdjzLmB4n1N5+pSTebxnb6bc/L8sef11guZmjBRoqVBRhIoitJAoIbHalPIa6Xjd1RvKJyPqpEHIWts6tqY1XuObDXjxMVlXWYOxdV1WFjXjcoVhSENDA9OnT+fwww+nqqqKK6+8kpaWlkzGtSHA/3nslcqarsO4firVVQySlSS0TwOYSQBOPjs5ubZ1/y80cEJltljpty/qlgTOpGY1qyOlr4tFzbLniwOz+Hen/ZRgvSJEOe8f/JqeY4QWa6Gcr9z4/OWOjZWjpa/fQWP7TvebS7ZmSwCuIO5QWGwpl7nB+iANxsaab+3SJUtRSqkshfNz1loiCi00rVjJ8rffYuazTzPxhhsYddYQRvTpz11du/HkdVez+pO5mDCPkQIVhagocIn1lAvSXDbf0UgTZ/L0MR4Tyw7JgbOe7WAbNoXpAVWJIWV9F7d/8nNa7GxubmbNmjXcfPPNbLHFFuy2227Mnj0bKEsome9QYdLdUHDZGOCZBKMsMG2v/tJ1lyUxfBr2WYlxduR+X2jgrDQrtffbF3HLAs5kR0r+vn4HzBiMsWukcfaKxCxQx0EUtIt3iBexjXVqImuwPvK7y62jAY317m5QHsQxYJYM440DuHIGQu8RksiNXgYct7SgrEZYl3ZY+txJxhjnaaQiikZR1AJlIoQMaMo1s2zVMj6c9x5zJk5g1oMPMfHKa3i0f39G33QdzZ/MxgY5WtasoVjfAMagRYQRUTlTpVLOtTBOwJdMIaF8MAtrsFqXTWNiG8d2GGdyoMbtmmZIWYyzUn+Nf4tZcBiG1NXV8e6775Z82K+77jqCIMAYU1oTzQKMSgD6zwTNtn6vVB/pNeNKwNoRZtgRUE+zzHQ5/uXWOP+dtiQwZolqye/i8+Lr3HkZnUAbynnB4904UTxmj9Z6Ud6UchjF7M/GUeBtDMCGGDhj2vclBwAAIABJREFUwLYWv8fl0KU9zmueDAkXlznOyKiMA0yprWOA/jxplA9aoomMLEV+ksaQKxRZs3YtSz/6iEUzZzB7xPO8dO+9zJswBrFqMbq+ltcefpip9z/AunfnYPNNGFVEG4EOBTrSCGUpWENeC0ITIo0qKa6kdZGfIhMivC+2C7dmEoFyK69NJgd0liiZNTFWYqLx5xgQY9Ok+vp6/vjHP7LFFluw3Xbb8c477wCUnA/iddG2mNEXhXFmAV5HLTmywC1rzHSGcSbbMKttKn3/FXD+E7YkICYXzZPfpddcsq4vNb61paRzWrs1RqBk1Ozua0ugF0dbb+2PrL13iPMectfZxLNtYu/YO1rryuBE4zJIxyl/jXEMUMX2o1qjpEZKd1RSO++gMCJoamLtypUs+ehj5r87m+qFnyAbG1jyxlTu6defR3r25YVLL+O9YU+TW/EJppBDFwJMUSK0oUlqmmWIIHIKMp+PXBmFMBGBLRLZAGVVKSak8RkWrTVtxn1si/VkgWUltpT8PwZFIQTr1q1j2rRp/OY3v6GqqorLL7+8FDkpeV56wCf7yYZYDXxeYNqehUAaCNOssNL/nXnfNPNNLwO0BcJfAefntCWBM0tUSYoG8XnJ35P3ABc8AWu9J4dOeHmkryszzlYzdCKKUMkdzra+1pbYZsc9sOLr49zfxpev1WediDVZMnXykXu0Z7HKYJUkLBZobqynYc1qcg11iJYmFr45jaHX/A9DTxvIo92680i/vkz43xtZ/dqrsLYOpEaGESIOjqI1Rhq0sBhhsTIW0wXGRF6ZZMuG9B1gnO0Nxo4O3PQei+zNzc1UV1dz9dVX861vfYsuXbowb968VnWXxXgrAdU/GzQ3BGArvdPGYpxtSQDt1d9XwLmBWxr4ssAt6/z0jJbVmFn3yXpeiXG20dGS37cSH03rMpRB2yae3Vr51h5YJj+3YkIVRK9WsUitRRoQPnmcy40jfc6iCBEFiKhImG+hacUq5o0ay2s3/ZnhZw7i0R4n82D3kxh14fnMfugR6j6e7xRGUqKFRguJFgYtcCxSGqywWKGwSmB8wF6ViKbkALTtQZUewG2Jp5VYZ1z3SeZkTDle5/Tp09l7772pqqrixhtvpFAotBJd21O0fJGAs6P1U+ldKv3eEeDLqotKjLMjZfoKOD+nLQ2cSXE93YCduV9WB4i35P3b63ixQXYaEDfkHZNAnQTlLOBwoOn80aWPzyi08pHulROjcWZGSguECGisW0fth/NZOGEiM++/m/HXXMZT/fpy/4ndeOzsc/jwpYlgFSoKwVpUWHQxR6XzdxfKoiVYYTBSebdMn4Y2TgW8EVM0tAUk6bpI9o9cLkddXR033XQTm2++OVtvvTULFixoNciz3HWTbZBu53/1vaOTUmeAPP1/R0T9r4BzA7eOAFfW+Wm2kQSp5LXtAVfW89vqDOlnpkE0a5kg/bxKz0qWI76+I2t85QnEeSDFKR6UcUGNXUBd5d0qXTDnSAvyYZHmxgZqFnzEspmvMW/kUF798//yxFlDeO66P9A4/yNsMUeueiVr5n8ALQ2gQ4QOCYwi8Aor6/PYWO3XgL1ZVjKTYlvs47MAzyQTF0KwZs0aPvjgAw444ACqqqq48MILkVJirW2VTritNv2irHFujD2LpVd637YYbvK8uP9WUj59xTg34pYFEsnv01sSlNKiWRYQtbdlAWeaza4PUJUZZxYYpN83ixlVYs2VwDu+Lh7wJddO4xVJRnvzpvJ6aMkESjsAzRlJTgUUcg00rFpB9Zz3WPjKFN588jlmjRtPrmYVau1qZj87lGevupJ5w56hsPBDbKEeGTUjZNHlwolZrvLMza/zppcx0oOyrYmqs6CZrpdkncQa9traWm688Ua23HJLNttsM95+++311jrT7d+eVvhfda80+VbSjsfHLDBN3y8N0Ok2Tz7jK+DcwC0LuJLfVzo/3UixiNzWtR19fnLwZLG+9GxcCeyyypIFzPHn9sqe7vjJ6x1IKKfJlg48nXF+WStvfZRxq5xtaGgkIQJlBUEY0lzXQN2SalbMW8Sy+QvJ162lZvY7PHLWEB48qQfP9juDV/54HTVTJkLzGqzIoWTglwgMkXY+9rGlQdbkk57wNgYYZT0jzTyFEKxdu5a3336bPffck6qqKi655JJyEOkMxvlZMOMv0t7R903/nh436b6ZHqNZYyceP18B5wZunxY4K4kLn+b5aUDMYpSVGGeSKWeVo617JH9Pfm6r06eB1CYyH5Y++6yb5dxCxkVA8ikztNEEVpOXknwuJF9fpNhYRDXnafroY6bfdTcjBpzNsyf35ulepzJ8yGBmP3gv+flzIcyjZEikvYG+9zpSsQF9gvUp5dxZ01k1W9VF0m7WlI+tAvdWAM70ZBSzzqSGvba2luuvv57/9//+H9/73vdYtGhRK+DMAsh/R/Bs653Sv2VJCe3VRZq9J69Pts+XCjjbG9jJczpzr0/DONsDzrYaOf38ZINXmjWzgDP9nKyyZN07Kaq3VW/t1bsz/VE+06LxHk3W59zW5bVI5dmo1CCdr30RScFKIq3QoUIVIogUxdWrWT3zLeY88CgTLr2ap047g0d69uKR0/ry/P9czUeTJlJct5awWERIF1UqGd1eJUHTg7fyCeXSE1+roLwm8Tl+x4QXUlZbZLVXkt1EUUR9fT1z585ln332oaqqiosuuqgV2CbvXWmv9Pwvwt7WhJ7Vd7PeN2sspOuzc2vv2ffXWn+5gHNjbZUaPQ0+6Wugsqje1rVZW7qDpDtKVkdLAnWWSVRb5U4Dc/pze2VP/pauO2M00gcPcbvCGOuzGTqfe2MdmBpriRRIYTFCIlWAMC7iUhAWiIwkp0NacjnWLVnKiplv88HzY5j851t5bMAAHjmtL3ed2os3H30A3VSPVqGLbyoDRDGHFJFLXZwAUOd15VN2qPWZp03YfDrjf7cnU1VUyqWTHrTJ9oqBWwhBLpdj5cqV3HPPPXzjG99g8803L9l1VmKcXzRw3Bhl6uy1lUC2I3sWEMfHLxVwJkEgq0KS57S3JZlWexrp5H2zZq+2rs3qMOnytqUtrzRIO/LsrHKkFVvxdW1dn1nvHhSNMd41U6HQ5RSxPrWDMaZVnhttLZF1KTRc4jaBMg48I1WkYCIKVlCQgnxTM/WrVrN07vssnPwqbz/6OM9f8z8Mv+46lkx+BRrX0Vy9jCVz3qK4agmEBWTkvI4iowiVU0pZIVyaWynQyuVaUp6Faqt8RCjn8uqCKxsU3hZUJ7yoKrCXuC7TzDEGzthLqKmpiXfeeaekYT/zzDMJgqDV9Vnr2l9UxtnW5F8J7DoDpJ/2Pdsqx5cKOJODvC3tcHtbRxon65r4/lmAVuna5CBKf24LFNvrOJ+23B29PqvenejrmGZJ3GyV7dD4SEtegRSfE3vLxJ5Ofk1UaReZ3oWSc4oeqRRSCKIwoKWhnroly1g5ey5zxk5gzriJNHw0H+pqefeFEdx/6QWMuPZyqidPhrwgKAoirciLECVCbCGHLeQxUYCSwuU5shZlJcoKb8YkMVb6GKUWYQwyZpw+jF8WWKYnsizFVMxwgyCgurqaW265hU033ZRtttmGmTNnEoYh1tpMH/Zk/04D9D/LTKktIEuWL/1/eyDaWfDrLONMttmXCjjjgV3JpCR5TkfukwSL9OdK1yQbJXldpWuTgy2tTMjqJFmNnsUsO1vuNDB29Pr0uVmTVuwzH3tCObGcMuNMXqO9O6QHXuMjIClVFqNdymKJVi6ASEEWyeWbWVO7miWffMLyhZ8QNa6jYdF8ht9yE7ef0pMnu/dm6Kn9+eDhJ9ArVyFbGolkkaKKiJRESkUoDcJYlLUJLbxKKbRc1k1tLNqCthatXdyAZB1UGtRZZmMxeEopWbt2LXPmzGGXXXZhk0024eKLLyaKolbLB7HSKDnQ032kPQD7LPf0un66f1Sql6x+vzHfITlekpN9+vOXFjgrsafkOR29V1ufO/rstq6t1OGTAJj+3BHG2dFyVypPZ66vNDBa/+/SE8eZFi028x3SdVBKo5ww4SkrdIz3PpJIIynIgMYgR2PYQqiKFNfVMm/cOF646jpGnnY2I046lWEnn8JLV1zKkhdfQK+rJRQBBWNpsZDXlsgbzycDmFhloRQkxLNpazG4SPguer57p6x2TH9OA0T8m5SSMAyprq7mtttuo6qqim222YbZs2e3EuuzbBArPfOfAZxtPTddD8nvKk0qnxWAZn0XP/Mr4NwA4EyeW+lzZ5+dBrXkdVksrVLjtgWcWWXvKKBmvWtb96hUXxVFI2tLjLO981sDwvo5kkqgYTRGSawUaJ+fqWgELTqkRRWpX1fLqvfmsOyll3n1ptsY0W8AY3p245lux/LkwH5MuON2ik2NGKBFWQJtXHi8yKIVXtNvsdIBpxHWaf2N8nE+XUZOad3aLLYy40y/a9qEJt5bWlrWW+scOHAgAFEUYUx2mo0s8KkEoG2BbFZbpP/fEGBKt3caOONj/G7J8zc2YGbVU3oZ5UsJnJ9WVP80z052jI48Lw2Kyc/J3+PPyVk43fE+y/dr7x2yypcEwEoAnR5EWZNGZkeP860LiYkERmiskBipkMrlXQqiAvW1q1j83rt8+OpUZjz+MGOvOZ+hA/pwb8/ujPvjjYQrVkEoCFoConyEjhQ6Ut53viyGG40DUWWxTkb3ZkgKaV3Op0rAU2nySw7WeHIwxtDU1MSqVau44447+PrXv862227La6+9VgKWtNY/zV7L/SJZl2X2ngakthhqNui2lgbK77q+TiG+Jvm5EkhXqpuNBaAdeW58zpcKOOMGSg+0ziqHNmTLAs6OgFq6o2QBZ6X3au/9sgCqUjnaGjCVOu2Glq+989PPTYOpUyh51qWcGZFVGisURAobaYxQWKkIigWa6utYuWwxH895i5kvDuflh+7mkWuuYMnLL2HX1qBranjrhRdY/PobmHV12DCPUnmkEQiliZQi0j5QsjTggyK7NU+JMgJtdav66MxATTKtWByvr69nxowZHHjggXz9619n0KBBFAoFwjDMrNskKy//lnz+p2OclaSg1n2m8v0r3bvSUkNWGT4tcHYGYCsCZ7LjV9orDbIv6tbeOyXP+ayeXanDxb9lXZfuGDGIJn9v670qvV/yuUkRqNLkkXV+R9+hM+XrSDvFz00PJmtMwu/dIK0hshppvRJKamxkHHAqp6mXIiKfb6Z2TQ3zP/mYWTOm8c7UKSyfMwtTu5Ilr77CPUPO5tFzzuP9p59ELV0AogEriijpossHWhIYl+fIKIOVCqMU2giMEc5kKREpP0vTnWXqlewn1pZTbORyOZYvX85NN91EVVUVe+yxB2+//Xbp3KRXUaw8St7H3b+8l6P5x/+vz3hbL4n4YNSJRILJ61vf07T6Pz4mlURxe1ds14zfPgtArATO6bJ8qRjnP3PLAs54ILQF2pUauD2Q60yZOluO9OBvj3FuzK09puvASZeO2rhAHtK41MXKmlJgDx1r57ULIRcUIoo5wcrla1i2ciV1a6oRa1fy+j/u4eHT+/F491481acvE/9wLctffoFw1TIIC2hRJDJuDTWUPgeT1Jg4vXIpF5IuuW9WYlFZ9Zul6ImiiMbGRmbMmMEvf/lLqqqqOP/881uBZHxtvEdRHDG+nHc+zlnl/i8n4HNpluOcUu78OO2y1sLvsvR/1n3io1I+H5ZRxLmq3HF9ySndp2IlH0B6gvmsgbStvdOMM/ndZzEwPsutI0zms3qfSsCZNs1Ibx0Bpk87w2aVo632TgNoe8C+IWXtSDtlsQFtrQsQEq+zSeMYpnLh6iSOgQrj7D2NjbOAakxooGhQgaYlX6RQzKObG2h4axYzb7+LkQMG82yf03isxyk8e/ZApt79N2renoluWofRAVKFBDL07prOJVRZ7W06/bqoTxliTcJXfb0QdmUQyVJSxJNcoVBgxYoV3HnnnfzHf/wHO+64I9OnTwdcbqKkmVK89qlUDGgx0KkSUCY/KyUcUCpRAjulk+DXGmRbJ/GLd50A2sTvOv4tZqLr96dW7xzXT2oiaWtsbOw9vSRQETiTHT+r8TYG4/kybZWAsyNML72YvrHL1JFytPfsdH/5rCaiSsBf/q68a2Mw0mKEyzUkjUHiIsxH8Zpx3K+1wSqFzrugx0UjiIwiam6h/qMFrH7tDd595BFeuOpynjrjNB7v3YN/9O3DyOuuo/G92RA0Y1SAsS5cnVIGqSyRVgTWEHmXzbQIbq1tFU4vK0Vz+p2Tpkf19fVMnz6dQw45hKqqKgYPHoyUkuXLl3Prrbcybty4VmK2Y6O6xPpikDQ+AlUJNLUDyiTr1J5x2hQjNf53KaMSK7VWl4DZTRiOpTrQ9OmcY6kg4VVlE8dS0jxtSq6v6XrJsmf+PPYOAWcW9f8KODu3ZQFnRyah5DlpsIjvuzFm0Q1hnO3dt9I7Vaqb9p6brscsxYEt5Q3yA84zOG0t0oKwPkVGnJTN56A32mKNQumAyBYJjCBUkigQ5BubWfnJQj6a9SZzxo/mlTtvZdiF5/Hw6f0YefXV5OfOgaY6ZNM6gpZ60AItBEIqAm3Ia0uotAMaI0vBmQ3a+7bHoBAvMdgS04p93KG1NYgQAq01xWKxBJKbbropO++8M1OnTuXZZ59l8803p1evXjQ2NpbHbRyuz7jUJKrEFuPflGOIJkLqCCljsFcoHaFMhNaRY6LezMtoiTLec8svRVgbTwYSrSKMjjAmQmmJtD6Mn/bpm7XyyxmmdZK/0oQWe5r59WDzBWacyY6aNet9Vozi33XLAs6O1GWlcypJBMmJLctyIEtyyGrjNKAnQSy5JZlwevav9E6V7pGcpJN1lX5Osu7S7N1Y60Q6m2SfDhhdeuA4AIcpsRnjB6yL/q48uJVjdIooolgoUl+9mqXzPmDulKm8PnQEo269nXdHjCJcuhhVs4L3xj3Pm88+RrhsAbbYgFYhQhmC0CKFQqkiwgQUdUBeF4mMJNACaVXJLVMrp1wyxjiFUoKNZdlnKqVYt24d06dPZ//99+drX/saF110EbfccgtVVVX06NGD6urqsqguXGI6FS9dGO3NqixaaS8OS5QtIE2IiIzLDmqk+98GKFXAigAThhgZoE1EYALHCjXec8qvIwuJlUWsDtEqINCCvDEUtUVJ3ATmxXA3ubk00tq4MlklsUpilFuHjiP0Z/XZjQ2S6fGQPH6lHPqctizgTH6/ofdLN3QaOJPrQe3ZT2aBYFzmzpSjs++VvCaL+WY9p+LzTeJoTSkepovtaf3gs94v3jMcU/bwcd4//jujkR5EtVSIYkB+XSM1S1Ywf/Z7fDhjJkvnvIdau4a1b7/FY5dewr2n9ubl669j9SsTEKtWogoBMtJoJR1T0wKlIoQKECpCKFFmnMq3iS6L79a0brswDNHapdWQUvLWW29x9913M378eG6++Wb+67/+i913350jjzyS//iP/6BXr17U1NQ4jyKlnfht3GctDUqCVn4JQCuXGC8GSCNR0hBFglDmkboFqZswugUjWzCqgNVFhGxBmjxStWB0Aa2KSOGOVgcoUUTLAkoFSM/kQ6HQ0vpc9hrrg1kr65ZUtAdUq7Q3KUuJ8m2A3GcBoGkl1JfKHOmfuX0axlkJQOJjkjWm2WRbhtCVOmAWuFdinJUAvDP9o7PA2dHOnQ4ibOLdA2v8nfPycYCKdCxT+ZTKymovRnqmEylkc57m2jrWVK+iaV0duqmJ5a+/wdMXXc6Tvfsx9JQ+jDh9ANP/civ1787GFlqwWqK0wSgFocSGCqQpRb1XPr+SSSiKdOqYXt+MooiLL764ZI508cUXs99++/G1r32NTTfdlK997WucccYZ1NXVufxEWqNMhDQBSgvH8pTF+NQhwkRENkToCGkkRguMymF0A9bWgV0FYjE2XISJFqHlQmS0AB3OxwQfg14A+hMwi0AvBbkCq9eidQ6lQ5SKMCrAigJGhI5FKo1Db4k10i8hJCQDv4xiWi1lfLaa9Kz7ptdUv2Kcn9OWBZzJ7zt7r442dFp8T4NsFtBlfVdpPam92b8zdZPsmB3Zk+VNi7BlULQJsb21Nhvw+emNc/c0BivL0Zq0NY51atU62rpQ6FAQFkOiQojOFyksW8ncYSMYdeXVDOt7JiN79uXRk0/h+csuYcGLoyisrUZrg5Iu4LKJLCoyGOkB0ViUVR6sVCmYiTWtlSJJG958Ps/EiRP58Y9/XALLOPjHJptswte+9jXOPfdcmpubiaIIbRTSCkIboE2A0QKMwmrlFGZWEpqAUObQIgfBakxuLqL5TQqNL5OvGU6w/AnCpQ/QvOJeViz9K4s/uZk1i26h4aM/kV95H0Ht40Q1TxCsfIpw9Rh0/l2srkXIRqQKMCpCBy3YwCnhjFZYLbFaYLTAahdtKp64nD9BORqWtqYUaeqzAsy2HDLiPvClBs5KYNHZgd+ZZ20sUb2SWB3/VsmYOkuMT94v6xlJtlrpvdLlaEu8b+td0tr99P3iDt7W89sD3/Xq31qXQd5Yx4Ks9QE6fMpgYkbolTlCooQoKS6iQkDdqmqWzpvLnPFjmXTnXxl5wQU8ffrp/KNHd+49sy9vvTAC0Ejh/Mml1oRKERqDiA30vSLFSuGM6LX1hvOt1zjjtsvlctTU1PDKK6/Qv39/tttuO6qqqqiqqmKTTTbhG9/4BpdffnnCo8it24ZGo2yENgWMKaKtRFjjlGGiGaNqIPch4bLRNM6+iaVTz2X+y6exYNyJLB59FAvHHMqsUfsz4fk9eGn07swY/WMWjdmHlS8fwfIJR7FywnEsn9CD5VPOpfbdW2lcPBrR/CFG1KGCRlSUQ8kQJSO0z2aqTWzfqvw6s3tHaQ0ybjM/iZQsIRIk4LMA0HQfTPbPLzVwfp7bxgTOdCNnid1ZDCzZKbJ+a4vVdZRxZrHYztRNWmGVvl+l8lZ637YYRem7kmjv2Ywp23fGgCmURGrlWJBy8T9DLRDKrc0VC0Wq16xm/ifzmPvmJN4Z/gzj/vRH7jvjdJ685EJWzXwDVIEwt45cQy1KFpFWEFlN0UhC63LIGykwQpRtFjMmvDjephCCuro6FixYwIwZM7jrrrvYb7/9+PrXv05VVRWbbrop1113HUEQIL0WXmpLaAzSSLTJo2wOZYtO8aPy2HAluu4NWt67m5oJA1g9+nCqx/+GlhlHkX/9N1Q/sysfPLQVU+7blLGP/ScvP7s5bz6xGcuGbgNvHUQweR+aJu5H40u/ofbFo1k8+mQ+GjmIxVP/j8LKKaCqUbKJMMyhtEAal+s+0gZlLdo6bb+JbUStj8AfS0zW+myknz3jTPfBZP/80gJnRytzYz4PNh5wJt+hvc+duUdbz4xZT9x54s+dfXZH3qutZQTIDo4cd/pKIJs1AJx7ZjmvO9rfz5iSMkX6VMJOWaSQWiO0Im9CIqucUkdagihkbUs9y1YtZv7sGcx76UVeeeAfvPrQQ4gVi9ANq/hg0jiev+MvLJk6CbVmNegIoQoEKkDEJj1SoZUqr62mxPRk/QshaG5uZvHixbz//vuMHDmSPn368N3vfpdvfOMb3HTTTeTzeQecShMpTRRbGOgiyuRQqgkVrUHlF9Cy8HlWT7qaFcO7s3b4oUQTDqLwyi8Ipu5Py/j/pvqxLqx+dkdWjt+TFbN+TfU7h7Jy4n6seOqHhC/shHzlR4ST9qJl4t60vPhLcuN/R/OY41gytCvVU64mXDkGwgUYuw6pcggVUTSGvHKALrxlg9XCr3m6ACk6VRftMc6OsNCO9I/knvzuSwuc0H7Qj86Im+1tGxM409d1FByzgKite2QBWdY6afIZ7ZXp075L8v9kh2/L9a6tdViTME1y9oMqZWgdKyvidU/tjkYT6AipBVZoTGTR0hAoRbPIs3bdapbN/5Cl785h1ez3EHU11H74No9cdhG3nnAizw08m5l33En92zMhbMbYkFAViUTkvYs0SpYjHcUG7ElWFP8vpSSfz1NTU8PChQuZNm0at912G127duWhhx4iCIKSF5FUCqkMQkqUCNHFRkywEopzqZ97Px8N78fqkV0pjDqKYOSvCMccQMvYvakd8SOqh+5E/oWfoF49GDPnOMzSUzHLTsO8fwri1cMojPkx4uXdCSbtTe6l/WgZ+3Oi0T9HP78PwbADqXnmcFaMPYv8xw9j8++io2qUbERYQU4ZckojNBijsSrC6BCtI++xlPDlrzBZbqjI3lb/qLR/aYEzXXGtWEjKVGdjPQ8qu1B2pJyV9uR5WZ+zytHWvSqVo9IE096z23tmZ9+xUudPM5C2GEXp/Fgcjr2N4mAcnnmWtO7+PG1j7a7BaInVymnGQ4MR7pxQS/KyQCFooaG6ltyqtdggz+r332bEH69n2KCzea57Hx45/iReuOgiPnlxNMWaFaADhIwQUrQCy+Sx0h5r2uvq6li6dCkLFizg/fffZ968eSVjeSUlSkVoEyJEERXloWUl4dJJNLx9O8tHnUrNsMOJxh5BfvivCEf+mmD0IbRMOITGlw+i8MovUVN/RfjqQeTf+C11b/yGmqkH0zztUMLXD0VN2Z/w5X1pfHE/mscfQH7MPshRP0MP+zHyqd2Jhh7Aqsd/w7LnelA3/VaCmjdBVSOjegIlCLQh0l5UlhFGhd6ES67X17JYYSUw7AhgVuoflfYvNXDGx0og81k8L9ng8f9f5C1dT20xzs+jHFn1F5ctOfElmUjyvOQ9HDC2BtGS9j0eSF4r7+J76hLbMdqAF+mlsc7YWyq0EigTIWxIqANnPxkqRK5Acd0aat6exat33M7z557DiDP68Xj3k3mk76lMvv2vrHhrOiLXhNIKIV3M0KRCyOhyWLm4jPFnKWVpD4KAmpoaampqaGxsJAgCB7xKo41AqBa0bIKohnD5FJaMvoL5//g96x6iDJFlAAAgAElEQVQ9kOLT+5Ifuh/NI35FYewRhGMPR79+HGbWcYSvH0Jh0i8oTPkF0eu/pDD1AJon7Uvw2v4Up+yHeuUAookHkh9/MHLSYQTjDiIYuS/R0J+in/0Z0ZN7k3viANY8/Cs+fvRkVr/5N2iahS4uRckcoVJE3r7USOlYp/F5nFJpmStJbslJvT3g7FD/qHCvLy1wQmVRNHnc2M/amIwzed/OlqOz90l2tqRo1BHg7Cjj7Gg5srT3bTHO+LosxmKt9XmBNNZ7rziA9OUqBSRO2H7qMkMtak3eGgKjEUpgowATFVCqSGgC8iqkKAVSGRobm1ixaAEfT3+Vd4Y+ykt/vIbnB/bnmV69ue+UXky+8y7CurVgnUG4lspr72P7zjjaUyJlsd+d37hGRKIEoGFQJIpClFZE3mBe6hChmtGihqhuBh+PuZb/z955h0tRZG38EhRQECSIIKgEJQdBJJjT7uq6pnVdN32732cAFBVJikQBAyoCkgQVAREFJGcwBxAVCaICSs4XbpqZDhV/3x/dM3fuMHMJxt21nqefntu3uvtUddVb7zl16tSGMddRMPlKmNoWPbk57msXEJl/JQULriEy5xIi89qSP78l+Utb4rzdCndFS/zlrVBLW2GWt0avuBB/+QWoJRchF7YjNvci5LIriM7pQPTN9uRPbY37WlvcV9vgTmpD9KU27JhwFd9MvZPo+ongfo32DiCFi9QmXCUUuCmZhE+tKvLtjsYsjwU4j7l9/AqchSm1AjMZnH/I98GR9tT4tUwAks7u+n0Yazq7bnHPSQf4x8s4U9+ZaYno8ciRrsOk2royqXapMiQOrROHjq/pTtnW15j4GvJghtczGtdofGOQWmKlj/F9lPLwlYdvZBCJSRuEL8jNzWbnd1+zde0nbFg8l3fGjGZKt2688lAPvluwGPLy8Q9mk7PpW/z9B8Fz0CKC0lF84xEzLo5VOEYhtEYai7QyXOWjEH4QTEPpYCmkJphwETIAoZhycXQOyG84uHoEG8Zez8HJv6FgYnvcSRciXm1NdEprCmZcRnT25Thz2uPMu4jo/AuJLGhFZEkr3OVtECva4i+5CH/xhYglbZDL2iEWd8BbcAmR2W2JzruYglntiM3qQOSNthRMbUtk8kVEJ15E9KWLODyuPd+NupptMzojdi7ERLagYjnhRngSa2MYG0FohW9IREhK983TLfY4XlX9aO3jV+AMUyoLSr72Y74v+cOksqZM96VTHeJO0CfKOFPtuJmeUxxDPRHGmWkQOB45ipMn0zldB0vkSf5dZLY97Di28Ky1Dl1kNPE9hHQY0zMVXFWSI7s2CmskVglELELO/r3s2PQVX3/6Ke/Nm8u7M2eQvX49HDjApiVLmT1wMO+OHcuhNashcgjj5eH6BcSUS8xIokrhaYXQCqFdpBLBKiBtkMZD2SjSxAKPAGNRWgdh76yDJ/diDy5j15x72DW6A2LateS82Jbo5IuRb1xObGp7Cl7tQHT6JYi5lyLmX0JsdlvcBe2JLWpHbEk7/BWX4C7tQHR+G5yFFyGXXEJ07sW4C67EW3glkTfbUTCzDe6b7XDeuAh/Rgeik9oSmdQed8rluC+0Jzbhcra8cD07F/ZC7XsPGd2D8D18K9G2AGNy8bXEVcHa+nT+yMnfNvna0UDzuNpHmnv/a4ET0s/mplbQD/2udOw2k+qQLE86+05qGU5EjuMdNFJH6RMBznTPOB45kvMkvz8TI07VKjL9z9pwtVHqYQrPAdCmeYcunO1VoW9nwq1Jh8s2jQwcvZVA+A6xghwO7tzO9o0b2L3xS7x9e3B372Lec88y/PZbeeGvf2Z2z+58N2cWevsOiESw2uIJEWxZbATG+KHrjkYb8I3BNwJhYijjBgOBClYsSRlFm0OovLXsWjaELeOu4+DY9uSMuZDYK5cQm3QJsckXE53cgfzJF+O+eRXe7CuIzboEf/5lOPMvpmB2G2LzLsJZ0IbonFa4s1sh5rXGLGiLO6sD7uxLEXMvx3+zA870i/Cnt8ObdhHO5AuJTWyDM6kDeuqVeC+2I2/kBewacxnrR/+Ofe89hc1dh/bykQa0llgVQ2mBSA7WkgSWyV4GmfrS0QDzWNvHr8AZpp+bcab7mOlU1uJYWrL8x3KkypEKYOnq4XgYZ6bBJ7Wc6Y7jkaM4eTKdU1lJOuN/nH0eIZ9Nf7YkTRyFoGuMLuLfGu/gwTbFGmFUGJFIoaSP70aJ5mQTO5SNjuSTv28vH70+leld72XyP+5g/K23MvWf/+KDp4ax/4NVqIM5GCEQ0gu35fCCaE42mKQSRiO1RBkXY8PVTdKGE1cF4G8nd90UPh9xM7tHXU70hbYcHt6c2IvtKZjQjtyxrfFeuwL39auIvHY5ea9dQv60i/FmXUZ0Zntib7ZDLbgYMfcivDdbIWe2QM1ogZreEmfqhfgzLsbOvQo1swORKRfgTGmNN7k1+RNaoKZ2IDKhDc6Etojxbcgd1pDskS3Z9EwLvnzhDxR8ORUrDyOlRQuL9b1gZt3qIgNaok5T6vl41PQTaR+/AufPkNIxzngqTmVNBdbU3yfCOJMb2vEyvXRgfzQ5kgeDZDPFicqRKlP8nAqYxXWG4pj/sXa2eJnigJs6yBWeg0Nqi6+D6PPSBkBq0CjhIz0H5cWI5hxm78YNfDZtMosG9GHa//4vk//0Jybe8Rcm338/b098GTcvG20kQguE9nGswDUGqQlCw8lw6aZWgfouDVr7GJuPzvmcXbN7smXENRSMvYTIyGa4Y1tTMPZC8se2ITL2QtTUy/FfvYzopEtwp12BM+0yYtMuIXdKG6JvtMOf1Q5vRiu8N1oi3rgANa0l6rUWiNfaEHnlAtxX2+BPvZDYKy3wJrdGv3EJsQktiYxvSf6YluSPakHesPOJDquPHNOUguebsW5QY3Ys7YdVe/E9iXQtxhNY7WCMOEJ9PhY75NG+4fdpH78C50+UMjG9+LXUSZJU4Exn34n/Px1jS9dQ4u9KfufRmF5qSn5vOregdDKlY5zJv09EjtR6LY5ppusEye89lhnY5O+Qrhyp5SlymCCmpVQWqW3IDgP2qcIZcaUEQrq40QiH9u1lyxdr2LBoAR+PHMGCbl2Z/K+/8/TttzD24QfJ37kFawRWSlAGT/u4WiGlwUodxrD0gz2PpEErGzBQDuHvWsKOCXewd8QVREe2IufJOsRGNiU6+gLyR7fAm3Ah7vhWOOMvxHm5HbFX2hGb0p7YlHZEJl1IZEprnNfa4L7WCve11ohpF+K+2hJvSkvUa+2IvdQS95VW+JNa4U5siZjUGjn5ImIvtCB3VBPyRzVHvNQWb0xznKHnoobVRw1vwKY+57BjekfwNuF7HiIETqNiaBsEKEkFz+JU6eNhmifSPn4Fzp8opQPO+PXUI54vNX+mRpJpljoTIKfr7MksOJkNp5Yh3f3J1+L3p5OjOFA/HjnS1Wsm4EzXSX4MtpJpcAsOjdYWo0BrG4RM0wapFcIkM57A/SgSc9iTfYidm7aw/d33WT91CoufHMyoBzvz0YxJePu3gxdl07vvs3/1F9icHJQTQ8UcrDUI5eKISLAKSlqM1GgdxZjdOF9P4dtnr2bnkOYUDG2AP6IRBcPOI2dYA2Kjm2EntsYZ1Yjo803wx7fCmdCK6IQLiL7UitjEVsReaUVsSmvyX2mF+1o73KkBoHpT2xN7qSViYmuYdjGx8c1xJrQgMq4pzrhmOOOakz+qCbkjGhMd0xJ3ZBOij9ci9lht3MfO4cCg89g3+a+IHcvRsgDPDwKpKO2hTLCPU/L3Sq374wXP79s+fgXOnyhlAs7iQCp+TmZeyfelsqB0DeBYgDr5GcnvOBaZUn/Hz+lV1syM+njkyCRTaidKfdbxzJoea6dLx6CTv7Mx4Yy7CmyNRsbdngLfxEQEeh36jupgF05HG/LzIhz6bjv7vljL1++8w7szZ7Jj3RrUgT0c+uwzXu3ekze79WLbzNmwey84MTw/QkRFydVRXCMRnsE4Cu3lorzNHPrgGb4a0IpDT7ck8tR5RJ86l/yn6+CMbIzzfEOc4XXxhtfFHdkA5/mmeGObER3dGGd8C/yJrXFeuoDoSxfgTL6I2JR25L58IQWvtMedeikFLzTHGd8C76VWFIxtgje+BQWjGlEwqgl2Uju8cS3JHdaQA0/VI/fx2riDzyLStxZOvzoc7n8e3zx1Ofs/GAtiP5528ZUMtuowfhE/zkxs8UQGvxNtH78C50+UMgFnuo+S6f5MYJXK+tIxr3RAnQxix7JZW+r/Un+nypRJjtSynogcqTKke086UMuU73g7XbprqcBZhBVpG4aK04mo58lRf+LuT4mI7yErFRGHgv2H2bttF9u3bGP/1p3Yw7l8/NIrjP37P3jxttuYcdfdvP/U02R/uhoZzcbVuURsJNjnXVisqzF+DrJgPXsW9GZT38Z4w1sjhtYlt39V8oechRrVBPV8Y9ynz8Z95lycYefjjGiKGNsCOb4l/rjmeC+0JDauGd7LF6KnXULBi63IHd+KyMR2uJMvITa+Bc7YJkRHNcYZ1YTYqMZERjYiOqIJ/tiWOCObEnmuEbGRTRFD6xPrdyb5fc6ioG8tDvU5h/WPNGHH3AHgbMO3Pq6WKOujkmyc6drX8Zha0g1+J9I+fgXOnygVB5zF5U8HmKlHJsZ5tNE4HWvNJNOxNsZ43tT3Zyp3prKk/q84uZLfWRxw/liMM9kWlk7ds9YGAZOVTSzrjM/EJ6LMx1X2uE+oUlhtQFu01ERcQSTm4Ts+KjuXfR9+yIqnnmTKnf9iwu238Mr//J1pXR/kg5dfIG/LBqwoCCI7KTBCYf3DqJw17J1+P992P4f8/ufiP1YDp39lIgOqERlcE++ps3Eer4V4uh7RoQ2JPNsMNa413pgWRJ5rhDO6Kc7oZsRGN8MZ15L8UU2IjGlBfnhEn29KdGRDosPPp+CZekSfa4g3sjGxp88nMvQ8zOgLECObUfBkfdyBtRH9auAMrkN+vxocevRMNvU6jz0zemHzNuMbn1i4dUmw3Yg64rueKOPMBJy/Ms5fYDpe4DyW52ViPOlU1mQmlCqTtYVMLxWsTqSMyQ0xGQwzMc7i5Djed6aWOxOYnwhYFtcBMw0Wic6t4/vm2ESwEGVNOMNugiMeQs3E1XeFMgKpPaQRuL6LEQKdn0/Bd9/yzbLFvPPCKN54+F7G/+1WJt5+O9P+/i+W9R1A7mefY5TBkRZXS7TMRud8yu5Jd7LjwTOJ9q6O83B5nN4V8AZWJzaoBrHBZ+ENro0Z0wr1wsUcfrIpuc80IX9YU/KebYQ/5gKcUc3Je/Y8IsMbIsa2wBnRhILnGhIb3pjYiIbEhjdAjGrC4cfPxXuuEWZca+SIZhQMqUPsifoUDK5L3oCzEP3OQvepgfP4ueQMqMrB3qfxXY9a7Jv2EGR/g1CCiLUILTDaR6doIqn25BP5Xt+nffwKnD9ROlHgzAQwqY0o0yha3KiZOtomy5hJjlSzQGrDi9+fjg1kekeyCpauMRdXV8UBZzpGcSId7YcA1bharm0QIFnbIMK8NCoMVxe/XqjC63D/c6U8lPKQ0kMKF+25FBw8wO5Nm/hq1YesnDmFBU8M5I0u9/Pin/7KjPu7kfPJpxhfEtWKqHHR6jA6ex27ptzHt11rEelVA6dHefze5XH7VMR9tDKiX3W8AWfiPVkX95lm5D3egNjQhrjPNsQZWh857Hz8Z+vjPV0Xf1g99PONiD5Zj9iw8/FGNiE2tB7+8AaoMc2JPX4uzhPn4j1ZB2dQbSIDahIZWJOCIbWJPVUHr3cV/G7lyX+kIoceLs+BHhXZ1PM8Ds7tj41sRWofTxuE8knnjpRJmzneb3Oi7eNX4PyJ0okCZ6rdLH7O1AgyAWcqkB2hSqYB2HRyJG9Rm7qVbyqwZwLp1Hck103qfZnYcmq9ZgLO5HBsPxfjLKLCm8I18PFN4YwJA4xonXDAj68+sjZgnlIKdBghSCmF8DwK8vPZs2sn363dwNply3lrwovMHPAY7730MrHt2xCeQ8wIXO1gZR42ezO7ZvZhTZdzyHnwTLyup+J0LU2s+8moHhUwvSoie1ci1qcy0f41cQedg//E2XhDauIOrI4/sBp6SA3EY2fiD6mJ/+TZuEPrEHmyLv6whkSH1EY8UQv/ido4g2rgPVYdMbA6ft/KuH0q4/SvSmxwDcSzdSjocSpel5LEHixF/v1l2ftgDbY8djl5KyeA3YPQUbQK9n1XSh7Rhr/PYPhDtI//CuAsrkNn6sQ/lgwnwjiTGVlx5SgOOFNVx2TQTH1mOrmSG2qqHe9Yy5H8nkzvSJXlh2Cc6erkxzyO9v5gE7bC33FV3sRV9Pi3Cnd1VEojRGFMSpUUbs5zPSIHc9j/zWa2fvwx36xYxo5VHxPZuwfP94hZiW9iGJkH0V0cWjqUdfefS36Xapj7yiC7lED2KIfqUQHbtTzmoVMRPcvj966E26cK+Y9WJtq3Km7/avj9zsDvWxmvbxXUoBo4A6rjPXE2hweciRzTglj/qoi+lRH9quH3rYp4tDL60aroR6oge56O27MS0V6nE+l9OtGu5ZAPnIToUoLovSezteMZ7Bj+Z9S2FWiTQ1Q6+FqgVAwlHaw9cpXXiTLOH6J9/FcA5y8hfR/gTM2bei0ZWI/WCNKpscnPyCRTKjgn/04n09EGpeJ+pwPD4uRKzZup8f+U4Fnc+601SUsIC1X54HzkxIRO2mUzHo9TSpkYuKQvEXn5RPbu4vDWzeTv2Y5XkIsnfDyrENZHqwhWZZP3yYt89Ugz8u+tjr3rZEznEnhdT8J94BTMAxWw95+KfuhUZM/yiIFnIB4/G69/dbxHK+M/WhXxaCXEo5XxH62M168abv/q5PSuivN4bWTv0zCPlkf3qYjqXQnV8zR094qYrhXRXU9DdT0N/8HyxO4vh/PgKXj3noTsmIV3f1nW/6siW8bfA9HNOLKAfC1xjESpKFa7mLjrVpr290N90+N51n8FcKbrXOkqLDnvjyXDz804042yqc9MJ1f8OcXN2Gcqzw/RmIt7drJ8xZX7xwTNTJ35qIwzfi2NqpisJSSvzU7+W8UZmJRIN4Zw8vG9AoRw8OMO9kaiZBRsHu63C/n6iWvZ3ekszL0VkHdn4XUpjftAeWTnitjOFeD+8qjupyD7VYPB5+D1roLT/TTUw5XRj5yO6lURp/upqN5V8R45Hb9PNWKPnI7tXQH7cDlUj3J43U4N1P/uFTEPnAYPBqCs7iuD2+kk/PvLI+4rg74nC+e+U1h1Z1U2TnkI5C6iMkqBtRRogZIuaL8IcKa29+P9rr8yzmNMceBJVTVT/07O+0On7wOcqXlTr6WCRzoAiedLtgmdiBzJ6tLxqOrHk9KBYaZ3FAecv5TjWORJx+KTQTMZMJPtpgGAWqRWgfuRFcHe6FqgjMGXCqMlQsSwJh+Tu4Gds/qw9qHGHL6vMs49JXE7lyDa8WS8jqciOpXH73wq7v2nEnuwAgUPlCdy/yl4XSugu1XEdquAfKAspvup6K6nIrtXQHSrgOhRAdXtZMRDpfG7noTTtSx+13KIB8ohupRB3nsS4t5SeJ1K4HXMwulUCrdjafy7SnGgc0W+6NeafR+OwXo78XUMxwhiRqKUAWmw+siB+qcYEH8FTtLP9iZfS877Q6cTBc7UjpTu2tGAM7WhnUi5U+9Jfd7xgls60EjOE3/n95kc+jnA8UQ7c+pgFP+dvKto6t+J3zpQ8QUS3waHtCGLlQqjBFq6GBUFdQC5ezkbR/+RDfdXI/rgKXgds9CdT8a7uzTO3ScRu+dkvHvL4dx3KpHOZYjdWwbRpSzyvrKYLmXR956M7VIG3eUkdJcyiC4nI7ucjOpSCnl/aeQDJ+M9WAbn/pNwOpfC7VgC2bkEbscs/E5ZuJ2ziHbOwnugBM5DldjeuwF7Zj2EPfwZxj2AEVGkcvFtuFRVWIy2Pxjj/K8FzuTOUtyRnOd4fv+YMmdSkY9WnnTlTvf7aIzzaM8uTv5MR/Jqn3TgdrwDV7r6yCRjatl/jk6UCfiSO/jR7s+kPmY6kusRazHW4FuFZyWCYCdOozRWaawSWOWjhYMVOSC2cPjTYawd1IzsnlWQ95ZG3p2F7JSFvC8Lt1MWfseT8O4+iWjHkjidSiE6l0J0LIW8pySmY0lsp1KYziXQnUqiOpVAdSyBuacUumNpVOdSeJ1L4nUqgX93FqJjFv5dWahOWej7s/C7ZBF7MIvYw2XY88hZbHnuepxv5oA+iHYKwHEwwkVbidIGJS3a/Aqc/5WpOOD8oZ6dqTEdzUfz+7wzznyOB9ySgeV4TQZHe/bPBZzpGGdcrh/DbzRwVQqfjQmj0we+oMaYIKiy0mHUeYlVCislRkawchf60GK+e/1vfPNwbbyHq6O7lUM8mIV/fxaySxbm3iz8e7JwOgYM0esUHH7HLMQ9WQHQ3hPk8e7JQtydhbmzBOaukqi7gzzqnixMxyx05yxUxyx0lxL495fE73YSTt9T2NO/MhufuZicj8diI9sRXgzjakxMYj0Pq320cVDWwxj9K3B+35TcKIv7nXxkup4uz48hb7qPnUk+OLqM6e8pfnIoUwM7lnIXV2/plqglPzP5XJyd6mjvSZU59dmpfn7W2sIAw0nHUUEpPnljg3PhYcKjME9yOWzok1lkfxxjimzBkdj4LeVbZO748ecWnoMjafLIBpu5WWUw0hSuhQ/3ItJaYLQGrTFKomUuyC/ZtfJpVvZvy/Y+jTjUrxbRvhUQD5dEP5SFfSAL0SULr0sW3v3B2b8vC69zFt69wW//3uBv994s/M5Z6E4l0B0DZik7Z6Hvy8Lcn4V6IAv1UGn87uWI9TqNgj5V2Ne/Jl8+3pJdywdA9CscLwfPc4KI9b7CSItVGqNjKBMJo+cfHTiLA9AfEmT/LYHzeFW/X0KKy5GsysWvF8oa7l9zhDqWDBTpnm2L3B/cd+R2ucH9P8zAYG3yap/jY5yZGn/87+OT40jGmbpG3IagE/99NDU44S4Ugl0c6OJAHAe05K2FC+vcJNggkIgQXzxQp1PTbdI5CdCtDQKGhGdtTGDTNAqrNAiwUqOVCiaKrIdvfJSRGKVRwuIrH2UO4B/8kIJVY9n/6p18/Xgrtg+oQax/BUzPksgeJyEeLoPqVRrVsxSqRylU95KobiWQD5VAdSuJfKgEomsWomtWcO2hk1HdSiO7l0D2yEL1Cg7RqxTOw2Up6FOZnIE12NP/LLY8cSHZiwagDq/GUdkU6CjSxpA2gjACEey+jNU+RsWCnT7TLNjIBIY/Nhv9twTO1M6SOkuejtX93PKmftB08iUYi47PnMa3Bkh2+cnEwE6ccR5vPaUyIqUyB0WI54+fU2VJPo589g/IOM33Z5xxFfiEGWfi3uP5LkUZp7UmyUk+KLMwOogmrw3WtxgRri4yPi4envERWqKlRiqLZ8E1HlIcgPyvMTuXkvvBIDaPupwdA88i0q8Ksf4VcfqXR/U7GdO3NKZPacyjpdG9S2EeKYntXRLTuxT6kZLoh0ujHjkJv89JeH1L4fUtgd8vC79/Fn7/EsT6n0T+Y5XY//jZbH2qAbsmXEHkrcdg3+f4Mptc65Cvo/j6MMIexjEOrrFITRjsRIT1+ivj/NFSckdK7bg/V8ok05HAojBGYq0ocjY2iBCutcTaVJYKYLBWAgqIM7Yj7WypK36Oh5mngnT8vUHnLfr8dCAY/zsV2FKXfSZfi88iJ/9Oljm1bpP3oEmU21qUJVgPjk10vqAMyZ0wLp9Fa8KZ6tCWGAbnsDpwjTHKhmwoBfytRqPQVoYRjjRIjQ13aNRWByzRHj3oSSGjN4AKv2+wxa8xEmNU4QojbTEatCHYJkOZxICrTej/qYK8vjFErcEzBiUFxs/HuLsh/zPyVz3LpheuY+ezTcl+qhaRwZXwHiuDGFAa0b8UamAJVL8sdJ8sVN/gEH2y8PqUxO9XGmdgKQoGlCA6sASxQSVwBpXAHVSCvEFlyH6mNltHtGbrG38n9uU4iK1H+9loHUFZD2l9tHGDbY21RKsgar5WoduVMaRuEZwOOJO/f2r7+CFjFfxbAmcq+KRreKl5M+Uv7t4fQ+ZMMgW/TdgxVNhIQtuV1eF1U6iuWYu1yfdrigLnkYCVbgTOxBDT1U2hzJnttqllSi5vusaezsySSe7k3+menW4w0CbsdFajMIXh247QVEyijrWO3xvuF2QCEMICIYAaQ2K9eeASpAJ7og3ALc5MbXxv9vjERhrGma4OAvOLDc8GCNqBtRqsDttK+A3iM846NNfEnxXudRR3lNfaoIzCN8FsdfA/jZEuxt8HkXXobTPJf68f+6bezs7nL2LP0LPZ+8QZHHyyGrlDqxB5siIFQ8oRGVyG2ONlcIeUxRlShuigk4kNKUfkiVPJG1qJQ09XIfuZahx87mx2j2jI5jGXsX9pL9SepShnM8LPRshouKWHj7E+2gTkQMt4ncpgwkvZUE1XR7SHXxnnD5Qydd6fM6WTqfB30fMRI6iJ29iCjpusuhWqh3E1Lt654ipe5oEhk0zFlaGwAdpEx42zN0jZ5iMDIGcCznSBFo7F3JIKnMnga63FEMS7DMK4hW46CaA80p5cWL7COgzYZOG1wG5pi0z02DjjtBJjw9B4BINMUVZaWK50ZS5qbkiug2DwxOqw3iEA1KLfRamkZyXAP24+0FjjY7QbqL9ah87zBs94+PIw2t2GzV+L3rOCwx8+w/YZf2PTK7/l6xcuZ8u4Dmwf24pdo5uy//mGHBhZn+yRdTg04hwODT+HnBHnkT2qKXvHXci2ce3ZPP5yNk2+gf1LH8TdOB57eBXK3U9UOMSUQEknjPAuwskfH21k0ioqnfSt9DExzuQBPLV9/NsDZ3HM5ocGvOOpjGTZfsqUrJaZhDtJwB4CVkOiozcC2MEAACAASURBVGNtwEi1DI9wz25tUMYETEJpVNKWDOkaWHLdHEs9xRtwoA6HnVEFBvvC/6cPBJuJYSWDXdH3FFXLj6WxJwNmKgAZG6jHKux8On4fYAiZXXzwig9USap8cH8ovw7BVweskriKb21oDlBFt7MNAVbbUFUPwTY9SzfYcHDUWoa248DWHTBEewSYFA6i8fpNCaQcZ9JaEph9XKyJYZSHURohLa60RIwlajQx6SJkHkbnoqKb8A4uI7JtBvlfv0LuhrHkrRlGzsqB5HzwMIdXPMDBxZ04uKgjhxZ3ouDtnkQ+6E/006cp2DCWgk2T8HbMgvwPsd5XWLkfLX1cCZ7SSOmjVdCOlQyjIMVNDLqQABQt55FHKiim01KKu+d4jvg9/3GMM10qorr94mbhkxln0keNz5wamxSrUWFt0JECG6jCmkA1VCE4HDGxkabRZCp3cfWktQlDoBXa86xR2NCcoFRoj9QaFdrf4EhwNkYXAbjkzn6075Pq8xk888gAJ0XvCw6lFVIHe5oH6jUoQ6jW6hDMNMaqYC8gE5RDao0KZ6+DI1TJtQqC6yZcfwrjaRprUJgEwMZn5gsZZ6YIP5pCk0HwjY1RKBUy5lAmHQ6OgZzxiUSTKGvhUkwZejxIbHywNW6w5a5yCSKra3xt8KzFMwZHK2Q8BqiOoHQ2Ru3Fqr2gdoD/LbhfQ3Q9FHwBBZ9D/ucQWQPRDVj3a4z4Fi12IuVulN6L8Pdg5WGsyMMqgVYaqUxiYAjKkFyO5CPwVChukE09Z2KcmWycmcC1OJD9r2Kc6Trn93XA/gEkTABnfKIlYJxBODEpA6YkTWCfKuxMAq0EUngoJVDWIsMwZPFZ13RL9ZLXOKdjg+nqKXE2AevRJt5pBVYLrJaJ0kgpA4BKAcfiGmYRhpRgU+muHxlDNB3jLCK3lmglgvqyOiGnNqC0DZlcMJETsDwXrT2U9It8pfidxmqkFhgr4xcwMgQqE/9WwZ7pUgeBKZQObdYJm6hJ+S7miG8TaBOCuBnEAsqYAMhVwPaDWJUicNUxusjzVFgeE4KrCQdbbT20CQ/tB/WTuFeglIfWLlI5GO1htIeSLlLGUDKKVlGULECJPJSKIHUUqWIIHUWYAmImQtQ4RLQgIj1c6aK0F5gGpIu1fih33ORg0EU0I500sBTPNP/rGGcqsynaYIrOmn7flEkt/WWkwkmh4GxD9qYCEFVBd1UWhNYIrZBKIKWPL9zEU7RRCKXwQxVdaZVgHPFwZIUspPBIrfdkF6iiR/xaXF01CeA22sd1Cti7dzfZ2QfxhUAqjefJxH2Fz1eJzqDjTCzOChOML868VCJ/grWFzDEeWi1YsZQMsIXMLRF+Tfgo4YR15rNn7z72HTiIVBptLL5QCCmRfjgIiShSRgE4lH2Q7Tt2kZ2TS140yq69e/CFh9QeMaeAvbt2E8nNQ0uFEAKldRDKTfgorfGlCCanVPwbxONoJqngSX8nyqUlvueglSDqxNi1dw9R10MZ8LXF1zJQc7UMVHBd6KoTZ9nBs33iZp24V4Y2Cml9pPaDbXetF4CpcDHSwWovYKPGQ2sPq3wIl2xa6YPyg7Xv8YFbSYRU+ErhWw/f+nhGIbQNlkpKi9XxbZEVQktixsfTMvAE0EnuXyaw5cZjbxba64sCYOoAGu87hX2oaMDtTCafY/VvTs4TXyX3szPOdKPDDw1smah7Opb7szJOHQc7gRA+OYez+WT1J+zatw/fGHwdqJG+dDFWsnPXNj5fs5pItABfSWJC4CqJVCJU00R4yCR1KG4bVSTbSlXc1hTeG7DaQJYAJGW4V058GwiJVh6g2frdJjp37siIEc+hjUGI+CxuyHYSqmfRQydUfRWq9+FhFcbqcLKl8Frw+0g542UIQDZ8torn8RB+DGMkBw4e4IGHHqJn7z7kx1y0JWD0SqOERAkP38nBqii7dm7hH//4G42bNOHBrj149dVp3PbnP/H2O29hjGTN56u4/dabmTd7NtIPgDGehAwGMm0NMgSrI2UNzlKK8HegRcQB0XUiGC15Y/rr/PZ3v2Xh0qUIaxHG4iuJDL+XTWwrkawdqKRvGrxbxb+jkSgbqOO+EQjrIa2H1gIb1rXUGtdoPKtC80Sh50Bc1sAhPaXtWBFueawLt0MWJtgSWQUDumskMevgGb/QC8BarM406ZnZ7zUT48zEJo8lz9GOONhmBM5jVaePFal/LoD6JTNOS/KsugnZZKBCSemxZOkC6p9Xl2kz3kABvpYoI7BopHR5+tknad6yGWvWfo4F8h0HoVQIGCJkOiLRkUxix8BCMI0DWCEYiSRwLTyMlihjkeHstNUSrVystXyx5hManF+XezrejVAC1/cRSmK0ohC0w8kJIwuvmXgeHboLBWCpSAJKqwi8IxUGFZxNYRkLnx3Yf+PvjE86SOHgR/MBw67dO2jZqhWXXnUVuZEoBosM7W3Sl1gjiRXsx8nfx+1/uoWKp53GNddcQ+8+Axg85ElOq1iRiRNfwlrD4oVzKHtSCZ4d+hTC9fBdj/0HDrJs+VscOJgdhHkLnbalEkUGrThAJrPA5PpX0sf3ogjh8tjgQZQsVYrnx45DGBuAZ2JLCYFWPkGgY5VgtnEgKzpY+kUHUavwrcBD4oebxBlAGvCwRIGoBc8GfwtrkBZ8a5Am2FguGNAk2giskaGvZQCCiQAjUmGlDtbLG4E0PkI7KO0ntkBOnSxL5xGSyYyUSZ3O5KGRjqjBsU+UHhU4f8qUTuD/jhR3MQpUlMAtQ6C0i0WwbPkCqteozISJL6OtxVMSoXywGiEdBg3qz3kN6vH5mk/BWjyt8aRESA+lfIT0EcIrAl4yvCaEn+i8yR02nkdKLzz7hbOfxiDQKBuEKjPSBQxffbmGxg3r0aVLZxzPxRUiUNmlQEgvUOuSQDj+3mCgCEHESDSB7VQaidACGR5C+8E2sTbIo5RACK/wOWGZjC4EZqVkUE4/iu9GUMrnu21buPTyy/nN9b/nUF4B2oInFUIalFBIP4a1Dl+t/YhTy5XlsYH9E19q27YdTJkyhUPZB7HG5+0Vi6l2+mmMff55pOsRjUQZPXoMVapWY8OXG/GEwPU9pNGBeq9kOCgG7C/5u5iQbQZlEnhuFOHH0Eby9aZvGDPhBTZv24YwwQSOpxQizC98J1TxVbi9hkgMiPF6CerXQSoX5Qu0LxFK4RmNh8Y3GqV1uBNnsBLJswbXBI7ywhp8oxE2yCt1OBmJDf1kQ5OOCpZJmrhGYsIYoSHLNVZhtcRKgVWFA7cNgdza+Cq55ONIUEw94MiQi8fi5H6scxvJzz6qqv5jMs5fhor88ycbOqtbYwATsALjI6SDsYKly+ZS+5wzeXnyZAwEEb21wKKQIsoTTwyiYePzWbdxAwZwfD/te5QSKC2QyqdwmiM1T6DiG6vS/t+XXjABFa5GMUpglAcY1q1ZRbMmDejU+e70z050IoG16d+vQ0DWVmSsq7iqbjPIGFdztQ5U0tSUk3OISy67nCuu/S2HC2JIwJehbVQZlBcBYPe366l06ims/Hhl/OVFJLFWsHTxXKqeXoERzz6LkYE8QwYNpmqVM9i3/1BQbmOQykfpDGWyOtgCw0gKFy4k/7+wnAZwlEEepZ+IsA6UCkCzuORag291uI5dYIWHVV6wHa/2McbHaC/0/fSxxsOEwGzj0Yp06IZlLEYSrpJSKOsjjYdnfWJW4lqDMBajLFZarDSBdmAlVseBM74yKm7rPFI9T50APBooHg9w/iCMM3UCJ3UGNBXpj+UZqbPZP68b0M+fTEA3kxqIQkgXbXysFSxeMpvatc/gxVcC4BTGIrUE4yO9Ap4eOoT6DRuwat06NBYlXdav+4JBQwZz1113ce+9nZk3bx4AykRR2iE7ex/jxo2kY8d7uOeeexg4eCBff/ddYAowPoey9/DU44+xbNkK5i1azr1dHuCZESNxfIGEYB/wcNWJUQJrBV+sfo9WzRrx4H0PsuHLTfTu24e7776bfn37sWr1ajyjiUmBNBqlBe++tYxuDz3InXf+Lz169uTdlZ9QIGTgoG5c9uzeyvPDn6Nzp0507HQPL018hUOH80KA8YkVHGbe3Bl06nwPd999F926d+PztV8GqqYK2JXwY3yy8mMeHzKEu+78F4/06sGUSS/T8oILueLaGzhY4CAh9B300UogvCijhw3mz3+8ibInn8KNN95Bl8738f5H7/LJZ58weMCTbP7qW6wRvLV8JlVPL8fzw4eTffAgfR/tTfu2bSlbpix/uv0Ouvfsybr161FKAD7r1n7OwIGPceed/0fnezsy6dVXKHAEngpm6j/+aBljRj/L52s+Z8z4CdzT8W4++/RjvvhkFb17P8qa9V8FA5fv8PzQoby14i3Wrv2Cbg91oWPHjgx8bBBrN3wZqNbCQ6sYWjm89cF7PNy7D3fddSd9+z7Kmk9XM27MWCZNnY4CIiqY5dZSYIXAqMAh3WoZrhH3sUlmFmsKZ+GT3b2MNmgVX6YaDHDSCqSV+FYFrNaEbnYyUOUDH9PCybHjZZzJE5ipOHUs9spU4DwaXiUD96/A+TMmCwngVOEoK5UXuG8Yn7feWkitWtWYOOVVFOAagy99MB5aFvDEkAHUbdiIlWvXA/DZyne4pMOFNG7ajD/dfgdXX3M1ne7tzPZtO7AIdu/dwv/886/UqFGJ6677HX+48Uaq1TiDS6+9jvc+/QIfyaZNn1O2VBZXXHY11990B9ff/Cf6DHkCVxlinsQRHq4QRKNeCAouG7/4gFZNG3LlxVfzz3924va/3sGtt9xIrRo1adCwEbMXLyHgpjBh/DjaX3gBN//h99zxl79QpVo16pzXgA8/24AFvv5mLX++7SbOq1OH3/32t9xy6x/589/+yerVazFa4buH6N2jK2fVPIMrr7qCm26+kYYNm1CnflPenLsQTeCruGjhPOqdW5datc7hjr/8hT9c/zvatm5J+fKncf3Nf2FPfhQFSOFgVBQlHYQfZfCAh7n26ispV7Yybdtfx2233caSFfMYP3EsWVllWLbgXUDx9luvUaXiyYwdPYo9e/dyX6e7aVC/LuVPPYWrf3Md//jXnXy2+lMwghXL5tCgQX0aNWzMHX++nUsva0/V6pW5v3t/du7PB2Do4z2pevpJXPub33LjbXdw3fXXs+bzlYx/bgRZWVm8MmUGAHnZu6letiz16tbjxltu5c+338oNv7+BrKwsOlx+Fas3bg7sy6qAaVNfpGbdetRt2IQ77rid2269iasuu5isrCwuu+omsJZsp4CYcBNr63XoSpXwr4x7LcQ9HuLMz5gkTwiNjfvHxoNxpCw1NaEpIAG04TOCBQe2yEKKuDtScUFr0tkyvy9wpoJoOkD+ySeHipvlOtpz/lOTjbsjGYMhUGmNlUjlYozLsmVzqV07GTgtvhJYBNrP4+mnBnPu+Q1Y89U3aAz9+3SjcsVyvP/+h4l3bNr0DTt37sKiebRvd+rUPZslS+ck/v/Fl+uo36QlD/TqQ8yP8t2WNbRv1Zya1WoxY9aiRD5h0n8fo2N8s2ElTc6vS/UqNRkz5uXE/9596y0qVjyN3/zhRg7m5+MqyeTJk3ht8sREnvUb11O+wmn06PM4Bsu01ydTtVJ5xowcmcizY/ce9uw5gDWSqZPHUqnCqbz04ouJ/8dcxYUXXUqbthfjK49tOzfzm2uvps655/HJZ58l8o0a/iynlCvH72++g30FsQA4lRuooEYgZQyAgzs2U/m0arz93vp4KXlj+qvUr9mA999eBVbw9vLXOOP0cjz37LNIFZgFhg8dQpXKVdhzKJp4557tG2nbuhEXX9yevNy8xPWnnhnCWec25tVpC7DWMvml56hSsQxXXPM7vtu9L5Fv8rgXOP3k8sycvQhtLQU5++nQohmlTzqJKa++msg3/LlhlCxdhgFDhwOwdcsGLmjRkMYXtGLj1u2Jcgzq35sSWSX4yz+7YoFsL4qrPKw2wUSSlYmFDjaMmaDianEYkzTBEE3h7pyJ8HsJlzJbJAiKDcEzDqyJFVTWFq7WsnGfzkK2GSdYqWr7sYLi9wHOTLP5xQLnz5X+m2yfCcZpLIYwrqURaONhjMPiRTOpXbsqk6ZORQAxHcxmgo8SBTz++ADqNG7M6i83YqzllRdHck6tanTs1IkVK94p8q69+76lVetGNG3RhNenv8pLE19kwosTmPLaZNp0uJTf33wbe/fvZte2DTSpfw43X38TkaiPoxQxIYm5Pq9Nm8ZLL7/ISy+/yJQpU1i18iOMdtm49kOaNqjPrX+4HSHBNwLXj+E5Ue69ryONW7bgozVrcWWhrW/emzMYO2oEL08cT81z6vL3ux7Ek4ZPVn1A/XNrc8cfb2PevDlEogVAMOngxHL54y3XUK1aNaa9PpPJk6fwwgsvMu31mfz5jn9So2Zttu/cypLl86h5Vg2efTYA38N5OVijOLB7Bxe0aMnl19zAgagXmB6UjzFeMJmiPKTI4cvV71GlfCVmzlmBlAJtHKa9OpFzTq/D8uXvY5G8s/R1qlcqx4hhzyGlxI3mMrjfI1Q5vRKfrvuGmO9jrWHezFcpUyqLjh3vYe78+QwfMYzXpr7MkCcHUe/8ZvTr9xQAL44dSs0zqvLCi1ORgCeCKEGvjB5FhayyTJ81H4XFiebQ/Lx63HTLbQDBBJrvsunLdZxd62y6PtIfay2vT3qJemefxZgXg0EqvyAXsGTv28m5Z9Xhxlv/L6gbz0FqiZEaowK3MEm4LryIj2hheMMjGWccVJNXrMXBMASpZMAKZ9KBBOMMukIqOBZlnPE8xaVUZlgc+B3NRpppFdtPyji/z3P+U5NNckcKlupJjAnDa6kIK5bPpXat0xk/8UW01sSkQRiJNS5SRnli6BDqNmnMqg0bUdaQc3gPvXt1oXz5Uzi79rncddf/8d57AYCu/ORdmrVsQFbJLM44szJVq59BtTPP5MwaVSl18ilcd+Mt7Nyzjb07N1K3ZlUe7fkIuflO4IJiNLFYjLrn1qH6GVWoXr0qtWrV4pFePQHLhjXv06zh+XR7oBeeb8h3oyjtoqTDoMEDaNayBStCFjz7zTe56brraFD3XGpUrcgZ1U4jKyuLHn2eIuoqhPAYOWwo59SqRfXq1bj+huuYPX8B0ZjP/gM7uenGKyhXrgIVTq9OxSpVqVW7NtWq1aTsyeVp0rQ5X23awIxZr1Hz7FrMnL0AKSX5kVyMcdm3ZztXXXElV/7uJvbmh4xTCqzx0drgSw+jo2xZ8xGnlSvL3CXvYK1FygKmT36ROlXOYcmyd9EI3lkykzMqnsrIYc8hpEC6+Qzp14vqlU9nw9ffIWwQPemNyS9SvmxJKlWtTNUatalapSpnnnEaFU8rS/kKVXjy8WcBGD/qaRqd14AZc5YHod+8CCCYNGYU5bJK88bs+SigIP8wDeqcwwPde5Lv+zjCxXhRNnzyEbVrnEnvRweBgZFPP0mj+vVYuOwdfK1xvAjG+Hy3+UtaN2/N72/8JwAH3Qi+9MKloxJtVehyFk4CxtXuNLPZR4CcNQn2WGQL5DjjzGDqS/2d6YjnKS6lvqM43DleOX7xjPO/RYVPzKoT2pCQGCtQ2sHoCJ+ufpd6dWswYMjA0E/Tx5M+Srn4bh4P9XiQ5u3a8+XW7Ug0FodYJJvFixbzwH0PcOopZbn4kg5s3ryFbTs306BxPa665ipmzXmTWbNnM2v2bObNm8u8+Qv49LM1OH4B279bS/3a1Xmoy/3k5Tv4WiOtRknBgvkLWLBgPgvmz2P+/AWsX7cOayXr17xPkwb16XT3AziuJS9WgNQOvojQrfuDNGrSmC/Wb2DTlq00OL8Bv7vmSma88Tpz585l3tw3qFevPh279CHqBrPISvi8/9579O37CGedXZP6jRux/K13yMk7wM03X0X9Bk14c95ips98k4WLFjF79lxmzZrDRx99TCyWz/RZU6hVtxZT35iJtZb8glyUdtm9bTMd2rXnyt/dyIGoiySYTDJaoLXB8R3AZ+sXH3N62TIsXPEuAFpFmDn5Zc49vTbL334fieSjFfOoXrECI58bHqw8ciM83r8XVU+vyLovN+OJYPJjxqsvU/HUk+jWsxtz5y1gxvTpzJk9kzlz3mTRoiVs2vQtAGOGP0XDeg2ZPns5yloiTh6gmDT2ecpmlWb6nAUoLPmRwzSody73dutORGsc5WO8Ar76bCW1q59B796DQMOEEcNpVL8e85a8RURqIrFctA6As2Hd8/nDzf8DwCE3hjQCo0ywjNMq/KAlhuv2g3XxySCUzLyOxe3nWNToVLtlKrgdq/qd7nmZwO9Y5Ugnwy8OOFNHi+TCwX8WkCYzziBUmQxsbcpB6yh79mymfbsWXHL5JWzZuYtkJ5xvt2ygXYe23PY//+Kw5xH1PXznEMnuRqNHjyQrK4vnR47BGMWll7fn0ssu43BO9hGyGAsGwfat66hXqwqP9OxBJOrhG4OrPIxO7wIEgi/XfUyTBudz+SW/4ZtvdidK980362jbrjXtO3TAcV0mTZpCVomSLJw/K3H3ti1fUav22XS6rw++svheDEzhu95b+S6VzqjKo337oZTLnXfeTo1atdmybWcaWYKyv79yCfUa1eG+Bx7CFXG3JMvyBbOoVKkSv73hFvYVxBBYhIqv2TZ4MnCX2vLZ+1QtV4bZi5YFd2qHNyZOoF7Vs3nr/Q9RaN5dMo8zKp7GyOdG4nsC6UcZ3K8HZ51RlU3fFsr29pJ5nFa+DI/0fSRD/QVp7HNDadawBa/PXBqYZbx8QDJ53GjKlyjD9FkLEFjyo4dpWO9c7uvRk8NK46PAj/DN56uoV+ssuvfsi7WWRTOn07BeXR4d+ASBU1JQD0sXzaVc2bL86S/3AJDjuwjlI0WglksrE8AZ7GVkisQ+SJ3kPVEwSzfhnO7ZR/tfar7ibJPpgnscjxy/SOBMBsbkNaRHo+b/zik+BFhj0UCwXtlFWx/PjaBkAaNGPk358qdw7e+uY9nb77By1ccsXDiL31xzGbXOOYspb87GJ/BRfPWVsbz8wnN88OF7rFu3nl69elC2bFlmvTkXgOdHD6f0ySdz7e+uZsmyZXy08mOWL1vMv+68h9nzlyCty9Zvv+DcmpXp1b07OXkxBODrYB238ByEiCGkGzi4Cx9rFV99uYrG59fn9NOq849/dOKt995l8fL53HzLDZxcpjQjnx8FwMw336Rk6VL837/+hy+++JTp06Zww2+uIisriwcfGoivDMuWLmTcyGG8+9YK1ny+mhGjh1Ot5lmMHDkWKT3efnselSpX4vxGjZkx63U++Pgd3nlvBT16duO+Lp2wFnYd2MRf/vFHTi5bjieeeZY1X3zOnOmv8ftrryQrK4sb//QX9uRFkDbOOD2sMXhCYq3hq8/ep3L5MsxZvCToZEYxffJE6latxdK33kZZy3tLF1GlQkVGjhiF53v4sVxGPPMYFcqV5omhz/Hxp2vIy80h//A+brnperKysujdfwCrPvqUDz94l+dHPUfne+9j9erPsNYyathQmjVowYw5AeN0vAjWSl6bMI6Ts0oxfc5ClIVoNIdG9evQ8YGuFGiFsAqMy4aV71On1ll079UHgH27tnL9NVdTqUp1Rowbz5cb1/DGG5No07IJpUuexG1/7gRArnCDICQyWHWlklR1E0ZiSg4ckw5Evi8LzARQx5q/OCBNxpXU3ViPBsTp2OkvDjjjqbgPEv//f0pKnlXXkIj6rrRAKw8tXQpyD/L00Cdp07YtjZo0p0WL5jRtfD43XHcNr70xlUOxGI4xxFyXOTMn85sr2tGseTMaNWpKm4vaMGLE8+TnxRDCJSfvEMNHjuSC1s1p2LAhzZo2o0O7tvztH//H6jXrMEh2bt9Aq2bnM7BvXwpigTrrSBcl/XCtskBbFSyv00HU+a83fsIVl3bgjj/+gy739aRxs8Y0aHoeTVs05cmnnyYnLx+pNAcPZ9Ote1fq1j+bRo3qc9MNv2fCmNFc1PpiuvUchFSaT1e9z+233kCzxg1o0qQBTVs2pscjfdi2bQ9B8IooL700nquvvZoGjerRtGVjWlzQkpv/+EemTZ+Ktj5C57Nuwyfc+sdbqFKtBs1btOSayy+ld8+HuKhNG27+89/IdlwENljNoxyMUgihsFg2bfiEc2pXY9GKtwEwVjF7xmu0atCUd99/H4Plw/feon69+owbNwFfKqzx+Gbjam76/bVUOaMmbS++jA8+eA+ADRvW8de/3UGT5k1o3vQCmjVuQruL29J/0CB27NwFwCsvjObiCy9h/pK3UYAjHcDw+ssvUataTWYtWIrEkpd/gEsvakWvPn1xtEFZiRYO36z9lNYtm9O732Cs0Vg/j4/eXc7Vv/0tZ9Y6h9YXNOPGG65lwKM9aNKgGdff+L9Y4LAfw1d+uKOkQlkZhMQzOowjUNRtKB0IHq+qfjyq/Pd5/rEwzuMB+p8MOJPBLhn8Uq9lKmzqNfjPYqAJxmnDQLnWIqUMIu1IiVY+hEvn1q5bx8JFS5gzZzZLFs9j+7ffAAZHwmFHII3Cixxk9cdvMWfebObMmceHKz/G8wQYwviKAt/3WbfucxYunM+iRQtZsXwZ23fsISYNnvJxYvtZ/eHbfLtpMwUxH98Eq5VMuF5dGxF0Lh2Pk+gTzd/Pmk9XsXPrLvbvzWbx4gXMWzyPT9euI+b7oWN64OqSnbOPt99byptvvsHaL9agfcW6NRvZ8NV2XOGjZQHrPvuIRQvmsGjhHJa8tZT9h3NxBQgRehRIh23btrB02QLmLZzNnPkL2bRlaxB6z7poYhjrsXvXbhYtWc7chQtY9dH75B7cx1dfbeSTL9aTK3Swaka5GBlDSxGsWZeagpzdvPfBMg7k5CClQiufAwd28cl7H5Cbm4s0koPZ+/h45Uq2btuJqwyekwc2ytbNG1i4sBhyNgAACeRJREFUdAULli5j966dKOElyv3xyvdZMG8hC+fPZ9UnKzkciSABrX32fLeZNR9/xv7sbFyriMoYQjns2bqVD1a8z+6DhxBWI2WUNas+ZOOmTcSURJhgBVfkcDYffvAhX2/dhpACq/Kx2mHL1u+Yu3gRs958nTWffcyOb7+hUYNm/O6m/wUL2U6EmHSw2mK1RlsRxnU1oSN7uP7c/HsxznTypTLQ43nGL5ZxpoJsMlDGbQ7J+f4TUjJwqjDosO+LMFqPQvoCLSVapFlKaYMADjFpiEiDlAK8fFKXVEqlEcIgpYvnxRL1mCqHZyye9tE6CIgB4AqNpw2+UWFMS5WI36h0yJCtBzr0W0xjBpU2WNYolURpH2n9pJKDEfEJMpDaw9gYUHSJoob/b+/qdSbJqWg4sIuICFdCwHsgEnIkeBFiEAFkIECARDRCggQQAQkkkIAQq5V4AhIiBJpgRwxfd1X5/vgQXF/7VrWru2tWzHwz66Mu9U9VuXzL5eNrt30ukqilkyagLlFcX3ARxcITkj4gpZOJbm7uGcqZDzlj1iJUQicILVUGjfm/AAQLACbFtJyR1EYKVRkLz3VJZ13RRSdI+nCV9wyF8IQkc/fmnHPGWaxsoHbenCaceMKkCSQTUJZzJgCcxQi6lI+tMV/KKh/7bQawyIxMz5HpxcU1f/fb3+DTn/oMvvmdn0CR8Wx6wJQmQDIylx6Fqk1DKtqeNkG973E+5m075Lftqh+xYTu96ZV5nH7BuK/nWfZaqbd1hVGNR6kKzQgrFUpjUSL8Cbkgh6n+2GqX2YQsRJFUsRBB6QROJyycsBCDhEDMpmokJqRBUsQm2MMVJCyJsbBNx6GyisaEco3QkzC0qLvbypKyNjmrVTSeICmBZjK1oXTGQgsmFszEYBKTulNC4gkkZ1shRWTnLKYlKpkgfILK2eLRFC85SdF3FJsykzlBOWFZziZ2IYqZBUkykhBITN1cKCGRYGEuQiUzEiXMwkg5g5RtDbbMUCaIKJjEjpMZiwqEtFxjMYEMIlOTZwITW8weVeRM4PSAJZ0wEZndZc04iQm3sMxIiZCWhMSESRiz2NCM0gJKRWtVZ6QS3VRpgZJgUTXb6AxezpYPLZqbbEIhiQgPS0LOhP88/ye+9Y2v4wc//j4++NsHeP8vf8JPf/RDfO6z7+GLX/oy/v6Pf2PKwEmsUbMxTikT4IskIFPxvvLK23wTSPNej3P7fs+4qar+f4lz6zVG0ou/9TZHNNy/vy2IHmcsbI9TXv/hK911V9MxObJUyc8VzlmMGDmXkMJKRZqtfeZMoDJOqdrI2dTnm5L4SpG7Lpdraua1UVMP3Wr5JW4K5lUXkixv7OpFRTXHtR3rpmSVteo+2hBBVTrnJonGJRQv5wTOXLZiY1Hjcbm2qv0pptDj6Yq6WPI6hlMMFlZXzYTlg2anq7q7MlATj2ZpgtxVQLrKyTWpP9ezrNd3paBCWq5Pyn5v/Ngg/8ecQNJsJZ6humCanuN73/02Pv+F9/DJdz6BJ0+e4N1338FXvvo1/Pmv7yMDmFiQNJsYSfkzSMtzYuvSuWqw7nWjH/O2l1+vcx/FhtfucW7ng8UB3I8DtgUSp0M05fQmxeYxh6JupldAYfNCBKECgIunmQKpEBheMQs5hodI6oNWyicQY2wARQqxhLJ0dXktoTU8ry6G3Co8rWyojUEhkLXIcpG88+OLPqeETeN7JdUmW+brqZ0QfMxWSxgQ9mvHqXC+DFFkRZou46baJnbXhka0BnLzdFqQuygqbdfPRUfUbc5FZs4Fnv33OsYsRsIrMeTaABBEZxu3lRkvXnyIP/7h9/j5L36Gp0+f4pe//hX+9ewZuMjpTUQmTO0T3kWQxRZiZEkmJq1ayzfW55eZv/mqt8gp26G+LScd5ZvXTpw9N3l73LaleFvglvQ88xgeInqZFlageVKrGOzFM3GxX1GGQqqH5/qWoiYIzPnS428EsL8vtuhSQhSISAn74GEvmi5mVJfviSTHzY+xBiKqvQdSzU6S0t+K3VwJhwMZr0nZr8NlDDeGbzH71mFEYhiSOO4Xn+OtOIQ3fiabFhTwhWt5rr3eIMystCLWnoo8iz8viw1v8GTq/FWWbj28lXK2hQ2iVl6qVXS59jKUSkOjVehjeJyPyOPcI86tkW86mW5t6X2/rHh+T8xb4Sr+WiS+cvMsc/YubFNOr13X0j1n7ybX7rt3N9feFAcyjC32dmGCE3zc3+ITbWLdbCr7+nOCB6FbBRgLROFeFxetzZVCfG/zY5Sap8rtemtleoaHmPA4QJdef68nIDV+/LZrHu+HDb2EsBO17Na/beMD5Rzvx+V+fyakBPZLKSGVcVLhCefTiypazcw2a4MVMzFmIZD6kIMvsbQhCcnZvF6fAK+X5HONdHqEtTeeuJfWvccdJc57bXj0xLnXVf+44FpBq7YuR/SEmmJM9ALLOZt1xXGNsEpbS1zPw76XtOqSBzJtXdDLFSTbY1Ze7IUH2949vK2HgrVzXaexDSdcyJXtbReyZvues6cf83M17Y7N1+y/dt1bk7Bb2a6jY8bPWlXXPT3v1qfauPmfUswKEkYqiv6ctQgR+3Qjz3OLMBnjnAOXq/te53aEwL2++fv2z6IjeJR/DvWM7ZHuyxr9OrDXiPQK+x4yip5Aju/iBOljdFK/+28eb73mRfvXj1Mwtp9j/vYe4vV3hEqZV5uvTrFzbAMun5GcUaMhaljRoh273d5q28rGrb05kLde7D9Sebf3r8UE95C92r2uHxP3r+/LFaLWaJeTbC92u9RQFywcSFPqc+KRR6tcXNDP3Np5L2Ft89uz4VYavft8q1y2PaaXSWMvX49qAnw0JA7oRhL17+4B+ffHjr1GpNcSbu/XzcJ0uS+vBEXqS0rI2foveJD52qbruPbAxDzH3/fsujfte23t7V8TSLPb9SFrILCdcbro0bUGYl/Eu0cGl+ndN7WlHzNcVu+Wvn8PvYEcPksjYQ1jlTn785XtVaaQsVpwPCmfK9EXjU1VLcLC1+7ZPvHcIqztvt4fTb00bnHGLfLtldut47bbK5mOdBSxcsSK2quA3nWN5z1meB6j5+i/x897511NW3N99y6pV4BIZn5cL93tPe7lY5vPvQdwjzBv2nHjmGv3p14/eN/7HuctD2f9+7UK3kvvZTyZXj569aE1EuE4bqSpYlFITabQ0ykVX0poZ5ULj71eoxJ18zhjPuJY9637sVeHe/bcSmOvvnyUf/ePlNO2AXhUxDkwMDDwJmAQ58DAwMBBDOIcGBgYOIhBnAMDAwMHMYhzYGBg4CAGcQ4MDAwcxCDOgYGBgYMYxDkwMDBwEIM4BwYGBg5iEOfAwMDAQQziHBgYGDiI/wGnJGKNSjWklgAAAABJRU5ErkJggg==)"
      ]
    },
    {
      "cell_type": "markdown",
      "metadata": {
        "id": "CuUrJjxMz7NJ"
      },
      "source": [
        "Ahora haremos uso de las funciones de recomendacion que se encuentran en la paqueteria de `implicit`."
      ]
    },
    {
      "cell_type": "markdown",
      "metadata": {
        "id": "ysGaP7460EpO"
      },
      "source": [
        "Tomemos al usuario 95"
      ]
    },
    {
      "cell_type": "code",
      "metadata": {
        "id": "0ouotAHd0HKk"
      },
      "source": [
        "user_id = 95"
      ],
      "execution_count": 229,
      "outputs": []
    },
    {
      "cell_type": "code",
      "metadata": {
        "colab": {
          "base_uri": "https://localhost:8080/"
        },
        "id": "g1zsmcn-0IWN",
        "outputId": "d8633f94-96b6-4c01-ebb3-0e05f91b3b66"
      },
      "source": [
        "user_ratings = ratings[ratings['userId']==user_id].merge(movies[['movieId', 'title']])\n",
        "user_ratings = user_ratings.sort_values('rating', ascending=False)\n",
        "print(f\"Numero de peliculas vistas por el usuario {user_id}: {user_ratings['movieId'].nunique()}\")"
      ],
      "execution_count": 230,
      "outputs": [
        {
          "output_type": "stream",
          "text": [
            "Numero de peliculas vistas por el usuario 95: 168\n"
          ],
          "name": "stdout"
        }
      ]
    },
    {
      "cell_type": "markdown",
      "metadata": {
        "id": "KpV6lH-w0TZt"
      },
      "source": [
        "Ahora veamos su Top 5 y Bottom 5"
      ]
    },
    {
      "cell_type": "code",
      "metadata": {
        "colab": {
          "base_uri": "https://localhost:8080/",
          "height": 206
        },
        "id": "bMJv2zgx0KQv",
        "outputId": "74e887c2-9b7d-46e5-9273-fe0fe616b17a"
      },
      "source": [
        "user_ratings = ratings[ratings['userId']==user_id].merge(movies[['movieId', 'title']])\n",
        "user_ratings = user_ratings.sort_values('rating', ascending=False)\n",
        "top_5 = user_ratings.head()\n",
        "top_5"
      ],
      "execution_count": 231,
      "outputs": [
        {
          "output_type": "execute_result",
          "data": {
            "text/html": [
              "<div>\n",
              "<style scoped>\n",
              "    .dataframe tbody tr th:only-of-type {\n",
              "        vertical-align: middle;\n",
              "    }\n",
              "\n",
              "    .dataframe tbody tr th {\n",
              "        vertical-align: top;\n",
              "    }\n",
              "\n",
              "    .dataframe thead th {\n",
              "        text-align: right;\n",
              "    }\n",
              "</style>\n",
              "<table border=\"1\" class=\"dataframe\">\n",
              "  <thead>\n",
              "    <tr style=\"text-align: right;\">\n",
              "      <th></th>\n",
              "      <th>userId</th>\n",
              "      <th>movieId</th>\n",
              "      <th>rating</th>\n",
              "      <th>timestamp</th>\n",
              "      <th>title</th>\n",
              "    </tr>\n",
              "  </thead>\n",
              "  <tbody>\n",
              "    <tr>\n",
              "      <th>24</th>\n",
              "      <td>95</td>\n",
              "      <td>1089</td>\n",
              "      <td>5.0</td>\n",
              "      <td>1048382826</td>\n",
              "      <td>Reservoir Dogs (1992)</td>\n",
              "    </tr>\n",
              "    <tr>\n",
              "      <th>34</th>\n",
              "      <td>95</td>\n",
              "      <td>1221</td>\n",
              "      <td>5.0</td>\n",
              "      <td>1043340018</td>\n",
              "      <td>Godfather: Part II, The (1974)</td>\n",
              "    </tr>\n",
              "    <tr>\n",
              "      <th>83</th>\n",
              "      <td>95</td>\n",
              "      <td>3019</td>\n",
              "      <td>5.0</td>\n",
              "      <td>1043340112</td>\n",
              "      <td>Drugstore Cowboy (1989)</td>\n",
              "    </tr>\n",
              "    <tr>\n",
              "      <th>26</th>\n",
              "      <td>95</td>\n",
              "      <td>1175</td>\n",
              "      <td>5.0</td>\n",
              "      <td>1105400882</td>\n",
              "      <td>Delicatessen (1991)</td>\n",
              "    </tr>\n",
              "    <tr>\n",
              "      <th>27</th>\n",
              "      <td>95</td>\n",
              "      <td>1196</td>\n",
              "      <td>5.0</td>\n",
              "      <td>1043340018</td>\n",
              "      <td>Star Wars: Episode V - The Empire Strikes Back...</td>\n",
              "    </tr>\n",
              "  </tbody>\n",
              "</table>\n",
              "</div>"
            ],
            "text/plain": [
              "    userId  ...                                              title\n",
              "24      95  ...                              Reservoir Dogs (1992)\n",
              "34      95  ...                     Godfather: Part II, The (1974)\n",
              "83      95  ...                            Drugstore Cowboy (1989)\n",
              "26      95  ...                                Delicatessen (1991)\n",
              "27      95  ...  Star Wars: Episode V - The Empire Strikes Back...\n",
              "\n",
              "[5 rows x 5 columns]"
            ]
          },
          "metadata": {
            "tags": []
          },
          "execution_count": 231
        }
      ]
    },
    {
      "cell_type": "code",
      "metadata": {
        "colab": {
          "base_uri": "https://localhost:8080/",
          "height": 206
        },
        "id": "WsqlDt0z0Rx4",
        "outputId": "60cb548e-5fbf-48a4-8ff1-8bd86621ec10"
      },
      "source": [
        "bottom_5 = user_ratings[user_ratings['rating']<3].tail()\n",
        "bottom_5"
      ],
      "execution_count": 232,
      "outputs": [
        {
          "output_type": "execute_result",
          "data": {
            "text/html": [
              "<div>\n",
              "<style scoped>\n",
              "    .dataframe tbody tr th:only-of-type {\n",
              "        vertical-align: middle;\n",
              "    }\n",
              "\n",
              "    .dataframe tbody tr th {\n",
              "        vertical-align: top;\n",
              "    }\n",
              "\n",
              "    .dataframe thead th {\n",
              "        text-align: right;\n",
              "    }\n",
              "</style>\n",
              "<table border=\"1\" class=\"dataframe\">\n",
              "  <thead>\n",
              "    <tr style=\"text-align: right;\">\n",
              "      <th></th>\n",
              "      <th>userId</th>\n",
              "      <th>movieId</th>\n",
              "      <th>rating</th>\n",
              "      <th>timestamp</th>\n",
              "      <th>title</th>\n",
              "    </tr>\n",
              "  </thead>\n",
              "  <tbody>\n",
              "    <tr>\n",
              "      <th>93</th>\n",
              "      <td>95</td>\n",
              "      <td>3690</td>\n",
              "      <td>2.0</td>\n",
              "      <td>1043339908</td>\n",
              "      <td>Porky's Revenge (1985)</td>\n",
              "    </tr>\n",
              "    <tr>\n",
              "      <th>122</th>\n",
              "      <td>95</td>\n",
              "      <td>5283</td>\n",
              "      <td>2.0</td>\n",
              "      <td>1043339957</td>\n",
              "      <td>National Lampoon's Van Wilder (2002)</td>\n",
              "    </tr>\n",
              "    <tr>\n",
              "      <th>100</th>\n",
              "      <td>95</td>\n",
              "      <td>4015</td>\n",
              "      <td>2.0</td>\n",
              "      <td>1043339957</td>\n",
              "      <td>Dude, Where's My Car? (2000)</td>\n",
              "    </tr>\n",
              "    <tr>\n",
              "      <th>164</th>\n",
              "      <td>95</td>\n",
              "      <td>7373</td>\n",
              "      <td>1.0</td>\n",
              "      <td>1105401093</td>\n",
              "      <td>Hellboy (2004)</td>\n",
              "    </tr>\n",
              "    <tr>\n",
              "      <th>109</th>\n",
              "      <td>95</td>\n",
              "      <td>4732</td>\n",
              "      <td>1.0</td>\n",
              "      <td>1043339283</td>\n",
              "      <td>Bubble Boy (2001)</td>\n",
              "    </tr>\n",
              "  </tbody>\n",
              "</table>\n",
              "</div>"
            ],
            "text/plain": [
              "     userId  movieId  rating   timestamp                                 title\n",
              "93       95     3690     2.0  1043339908                Porky's Revenge (1985)\n",
              "122      95     5283     2.0  1043339957  National Lampoon's Van Wilder (2002)\n",
              "100      95     4015     2.0  1043339957          Dude, Where's My Car? (2000)\n",
              "164      95     7373     1.0  1105401093                        Hellboy (2004)\n",
              "109      95     4732     1.0  1043339283                     Bubble Boy (2001)"
            ]
          },
          "metadata": {
            "tags": []
          },
          "execution_count": 232
        }
      ]
    },
    {
      "cell_type": "markdown",
      "metadata": {
        "id": "5ljcIzNh0XN9"
      },
      "source": [
        "Basandonos en sus preferencias, podemos inferir que le gustan las peliculas de crimen y de accion, sobre todo de los 90s. Tiene cierto disgusto por las comedias.  \n",
        "Veamos que recomendaciones emite el metodo `recommender` de `implicit`."
      ]
    },
    {
      "cell_type": "markdown",
      "metadata": {
        "id": "hcbs4cqw1Ie8"
      },
      "source": [
        "![image.png](data:image/png;base64,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)"
      ]
    },
    {
      "cell_type": "markdown",
      "metadata": {
        "id": "n9Uy8s0E4ppV"
      },
      "source": [
        "Si quieres saber como funciona el metodo de recommender tienes que acudir al codigo directo de github, pues no hay mucha documentacion al respecto."
      ]
    },
    {
      "cell_type": "markdown",
      "metadata": {
        "id": "papkWAU41P_n"
      },
      "source": [
        "**Tenemos que transponer la matriz de utilidad, pues ahora es user-item**.  \n",
        "De tal manera que la matriz ahora si corresponde a su forma canonica: rows: usuarios, cols:rating de peliculas."
      ]
    },
    {
      "cell_type": "code",
      "metadata": {
        "colab": {
          "base_uri": "https://localhost:8080/"
        },
        "id": "_JWeDEh-1CaM",
        "outputId": "4409365a-780f-474f-a948-726760222409"
      },
      "source": [
        "# Tenemos que transponer la matriz de utilidad, pues ahora es user-item\n",
        "X_t = X.T.tocsr()\n",
        "\n",
        "user_idx = user_mapper[user_id]\n",
        "recommendations = model.recommend(user_idx, X_t)\n",
        "recommendations"
      ],
      "execution_count": 233,
      "outputs": [
        {
          "output_type": "execute_result",
          "data": {
            "text/plain": [
              "[(1210, 1.0608189),\n",
              " (898, 0.97667354),\n",
              " (1978, 0.95583385),\n",
              " (3633, 0.94863594),\n",
              " (855, 0.9168153),\n",
              " (1644, 0.8787383),\n",
              " (1223, 0.8638364),\n",
              " (915, 0.8565163),\n",
              " (1066, 0.83354384),\n",
              " (3136, 0.8196112)]"
            ]
          },
          "metadata": {
            "tags": []
          },
          "execution_count": 233
        }
      ]
    },
    {
      "cell_type": "code",
      "metadata": {
        "colab": {
          "base_uri": "https://localhost:8080/"
        },
        "id": "Nh2OCOzl1gAl",
        "outputId": "5648d3a2-9da1-4204-ca55-81df374e6834"
      },
      "source": [
        "for r in recommendations:\n",
        "    recommended_title = get_movie_title(r[0])\n",
        "    print(recommended_title)"
      ],
      "execution_count": 234,
      "outputs": [
        {
          "output_type": "stream",
          "text": [
            "Hunt for Red October, The (1990)\n",
            "Princess Bride, The (1987)\n",
            "Star Wars: Episode I - The Phantom Menace (1999)\n",
            "Lord of the Rings: The Fellowship of the Ring, The (2001)\n",
            "Abyss, The (1989)\n",
            "Untouchables, The (1987)\n",
            "Game, The (1997)\n",
            "Army of Darkness (1993)\n",
            "Jaws (1975)\n",
            "Memento (2000)\n"
          ],
          "name": "stdout"
        }
      ]
    },
    {
      "cell_type": "markdown",
      "metadata": {
        "id": "qQ2tjguB29z7"
      },
      "source": [
        "En este caso un filtro user-item es mas facil de evaluar, pues podemos eliminar algunos ratings de nuestros usuarios, y ver que tan bueno es el modelo para predecirlo."
      ]
    },
    {
      "cell_type": "markdown",
      "metadata": {
        "id": "E6rLCwh65B0y"
      },
      "source": [
        "Podriamos ahcerlo en python, pero talvez solo talvez sea conveniente hacerlo en pySpark de esta manera podremos extrapolar el codigo para cuando tengamos datos muy grandes."
      ]
    },
    {
      "cell_type": "markdown",
      "metadata": {
        "id": "Ia5RGpLZ5NKc"
      },
      "source": [
        "# ALS Recommender System en Spark"
      ]
    },
    {
      "cell_type": "markdown",
      "metadata": {
        "id": "Ulg86IjC5nvl"
      },
      "source": [
        "## Instalando Spark"
      ]
    },
    {
      "cell_type": "markdown",
      "metadata": {
        "id": "vkshjvK25mX8"
      },
      "source": [
        "\n",
        "\n",
        "Cuando hagas deployment en la nube o entres a produccion es muy importante que las versiones que utilices sean compatibles. Dado que Spark esta basado en Scala y utiliza librerias de Java es muy importante prestar atencion a las versiones!\n"
      ]
    },
    {
      "cell_type": "code",
      "metadata": {
        "id": "SQf6AhwJ5QV3"
      },
      "source": [
        "!apt-get install openjdk-8-jdk-headless -qq > /dev/null\n",
        "!wget -q http://apache.mirror.amaze.com.au/spark/spark-2.4.7/spark-2.4.7-bin-hadoop2.7.tgz\n",
        "!tar xf spark-2.4.7-bin-hadoop2.7.tgz\n",
        "!pip install -q findspark"
      ],
      "execution_count": 236,
      "outputs": []
    },
    {
      "cell_type": "code",
      "metadata": {
        "colab": {
          "base_uri": "https://localhost:8080/"
        },
        "id": "OiPdLUFr5i6n",
        "outputId": "b0809ebf-8cab-4789-d55a-6651ae3625a4"
      },
      "source": [
        "\n",
        "\n",
        "# En la siguiente celda necesitaremos la direccion donde esta instalado\n",
        "# nuestra version de spark\n",
        "!ls /content/\n",
        "\n"
      ],
      "execution_count": 237,
      "outputs": [
        {
          "output_type": "stream",
          "text": [
            "sample_data  spark-2.4.7-bin-hadoop2.7\tspark-2.4.7-bin-hadoop2.7.tgz\n"
          ],
          "name": "stdout"
        }
      ]
    },
    {
      "cell_type": "code",
      "metadata": {
        "id": "bMWktgBS637O"
      },
      "source": [
        "import os\n",
        "os.environ[\"JAVA_HOME\"] = \"/usr/lib/jvm/java-8-openjdk-amd64\"\n",
        "os.environ[\"SPARK_HOME\"] = \"/content/spark-2.4.7-bin-hadoop2.7\"\n",
        "\n",
        "import findspark\n",
        "findspark.init()"
      ],
      "execution_count": 240,
      "outputs": []
    },
    {
      "cell_type": "code",
      "metadata": {
        "id": "lyVcDepg64uX"
      },
      "source": [
        "from pyspark.sql.functions import col, explode\n",
        "from pyspark import SparkContext"
      ],
      "execution_count": 242,
      "outputs": []
    },
    {
      "cell_type": "markdown",
      "metadata": {
        "id": "3IR1G1mF7Drv"
      },
      "source": [
        "## Iniciemos Spark Session"
      ]
    },
    {
      "cell_type": "code",
      "metadata": {
        "id": "u3Jc-Qgr7GQS"
      },
      "source": [
        "from pyspark.sql import SparkSession\n",
        "from pyspark.sql import SQLContext\n",
        "\n",
        "sc = SparkSession \\\n",
        "        .builder \\\n",
        "        .appName(\"recomendacion\") \\\n",
        "        .getOrCreate()"
      ],
      "execution_count": 249,
      "outputs": []
    },
    {
      "cell_type": "markdown",
      "metadata": {
        "id": "KG-a5DPC7aWl"
      },
      "source": [
        "## ETL"
      ]
    },
    {
      "cell_type": "markdown",
      "metadata": {
        "id": "9F7_mcUg8kDf"
      },
      "source": [
        "### Lectura de datos "
      ]
    },
    {
      "cell_type": "code",
      "metadata": {
        "id": "3z4t5pSE7ZxX"
      },
      "source": [
        "from pyspark import SparkFiles\n",
        "# Agreguemos la direccion a nuestra sesion de spark\n",
        "url = \"https://raw.githubusercontent.com/IEXE-Tec/mcda-marketing/main/movies.csv\"\n",
        "sc.sparkContext.addFile(url)\n",
        "\n",
        "# Leamos nuestro archivo\n",
        "movies = sc.read.csv(\"file://\"+SparkFiles.get(\"movies.csv\"),\n",
        "                 header=\"true\")"
      ],
      "execution_count": 252,
      "outputs": []
    },
    {
      "cell_type": "code",
      "metadata": {
        "id": "accCWZIe7_15"
      },
      "source": [
        "url = \"https://raw.githubusercontent.com/IEXE-Tec/mcda-marketing/main/ratings.csv\"\n",
        "sc.sparkContext.addFile(url)\n",
        "\n",
        "# Leamos nuestro archivo\n",
        "ratings = sc.read.csv(\"file://\"+SparkFiles.get(\"ratings.csv\"),\n",
        "                 header=\"true\")"
      ],
      "execution_count": 253,
      "outputs": []
    },
    {
      "cell_type": "code",
      "metadata": {
        "colab": {
          "base_uri": "https://localhost:8080/"
        },
        "id": "oT62WSDA8GU0",
        "outputId": "d50888ff-918b-415e-8f2d-a385ab42a061"
      },
      "source": [
        "ratings.show()"
      ],
      "execution_count": 254,
      "outputs": [
        {
          "output_type": "stream",
          "text": [
            "+------+-------+------+---------+\n",
            "|userId|movieId|rating|timestamp|\n",
            "+------+-------+------+---------+\n",
            "|     1|      1|   4.0|964982703|\n",
            "|     1|      3|   4.0|964981247|\n",
            "|     1|      6|   4.0|964982224|\n",
            "|     1|     47|   5.0|964983815|\n",
            "|     1|     50|   5.0|964982931|\n",
            "|     1|     70|   3.0|964982400|\n",
            "|     1|    101|   5.0|964980868|\n",
            "|     1|    110|   4.0|964982176|\n",
            "|     1|    151|   5.0|964984041|\n",
            "|     1|    157|   5.0|964984100|\n",
            "|     1|    163|   5.0|964983650|\n",
            "|     1|    216|   5.0|964981208|\n",
            "|     1|    223|   3.0|964980985|\n",
            "|     1|    231|   5.0|964981179|\n",
            "|     1|    235|   4.0|964980908|\n",
            "|     1|    260|   5.0|964981680|\n",
            "|     1|    296|   3.0|964982967|\n",
            "|     1|    316|   3.0|964982310|\n",
            "|     1|    333|   5.0|964981179|\n",
            "|     1|    349|   4.0|964982563|\n",
            "+------+-------+------+---------+\n",
            "only showing top 20 rows\n",
            "\n"
          ],
          "name": "stdout"
        }
      ]
    },
    {
      "cell_type": "code",
      "metadata": {
        "colab": {
          "base_uri": "https://localhost:8080/"
        },
        "id": "1hFoc0a58MIi",
        "outputId": "5a973a1a-e16d-47df-e899-82f9b2410485"
      },
      "source": [
        "ratings.printSchema()"
      ],
      "execution_count": 255,
      "outputs": [
        {
          "output_type": "stream",
          "text": [
            "root\n",
            " |-- userId: string (nullable = true)\n",
            " |-- movieId: string (nullable = true)\n",
            " |-- rating: string (nullable = true)\n",
            " |-- timestamp: string (nullable = true)\n",
            "\n"
          ],
          "name": "stdout"
        }
      ]
    },
    {
      "cell_type": "code",
      "metadata": {
        "colab": {
          "base_uri": "https://localhost:8080/"
        },
        "id": "cEh4pHp58a44",
        "outputId": "ed46798d-4c0d-4f5e-fb93-f51a095bdbd3"
      },
      "source": [
        "movies.show()"
      ],
      "execution_count": 257,
      "outputs": [
        {
          "output_type": "stream",
          "text": [
            "+-------+--------------------+--------------------+\n",
            "|movieId|               title|              genres|\n",
            "+-------+--------------------+--------------------+\n",
            "|      1|    Toy Story (1995)|Adventure|Animati...|\n",
            "|      2|      Jumanji (1995)|Adventure|Childre...|\n",
            "|      3|Grumpier Old Men ...|      Comedy|Romance|\n",
            "|      4|Waiting to Exhale...|Comedy|Drama|Romance|\n",
            "|      5|Father of the Bri...|              Comedy|\n",
            "|      6|         Heat (1995)|Action|Crime|Thri...|\n",
            "|      7|      Sabrina (1995)|      Comedy|Romance|\n",
            "|      8| Tom and Huck (1995)|  Adventure|Children|\n",
            "|      9| Sudden Death (1995)|              Action|\n",
            "|     10|    GoldenEye (1995)|Action|Adventure|...|\n",
            "|     11|American Presiden...|Comedy|Drama|Romance|\n",
            "|     12|Dracula: Dead and...|       Comedy|Horror|\n",
            "|     13|        Balto (1995)|Adventure|Animati...|\n",
            "|     14|        Nixon (1995)|               Drama|\n",
            "|     15|Cutthroat Island ...|Action|Adventure|...|\n",
            "|     16|       Casino (1995)|         Crime|Drama|\n",
            "|     17|Sense and Sensibi...|       Drama|Romance|\n",
            "|     18|   Four Rooms (1995)|              Comedy|\n",
            "|     19|Ace Ventura: When...|              Comedy|\n",
            "|     20|  Money Train (1995)|Action|Comedy|Cri...|\n",
            "+-------+--------------------+--------------------+\n",
            "only showing top 20 rows\n",
            "\n"
          ],
          "name": "stdout"
        }
      ]
    },
    {
      "cell_type": "code",
      "metadata": {
        "colab": {
          "base_uri": "https://localhost:8080/"
        },
        "id": "DtMEeBIw8c8Q",
        "outputId": "fdbfb2ed-a2da-483f-e73f-5bbbbee52fc6"
      },
      "source": [
        "movies.printSchema()"
      ],
      "execution_count": 259,
      "outputs": [
        {
          "output_type": "stream",
          "text": [
            "root\n",
            " |-- movieId: string (nullable = true)\n",
            " |-- title: string (nullable = true)\n",
            " |-- genres: string (nullable = true)\n",
            "\n"
          ],
          "name": "stdout"
        }
      ]
    },
    {
      "cell_type": "markdown",
      "metadata": {
        "id": "ByJBZbta8VbH"
      },
      "source": [
        "### Manejo de tipos de ratings"
      ]
    },
    {
      "cell_type": "code",
      "metadata": {
        "colab": {
          "base_uri": "https://localhost:8080/"
        },
        "id": "Gk1deHU98TLQ",
        "outputId": "9ea749b8-67e6-4d52-c841-7f0dd7b77ab3"
      },
      "source": [
        "ratings = ratings.\\\n",
        "    withColumn('userId', col('userId').cast('integer')).\\\n",
        "    withColumn('movieId', col('movieId').cast('integer')).\\\n",
        "    withColumn('rating', col('rating').cast('float')).\\\n",
        "    drop('timestamp')\n",
        "ratings.show()"
      ],
      "execution_count": 256,
      "outputs": [
        {
          "output_type": "stream",
          "text": [
            "+------+-------+------+\n",
            "|userId|movieId|rating|\n",
            "+------+-------+------+\n",
            "|     1|      1|   4.0|\n",
            "|     1|      3|   4.0|\n",
            "|     1|      6|   4.0|\n",
            "|     1|     47|   5.0|\n",
            "|     1|     50|   5.0|\n",
            "|     1|     70|   3.0|\n",
            "|     1|    101|   5.0|\n",
            "|     1|    110|   4.0|\n",
            "|     1|    151|   5.0|\n",
            "|     1|    157|   5.0|\n",
            "|     1|    163|   5.0|\n",
            "|     1|    216|   5.0|\n",
            "|     1|    223|   3.0|\n",
            "|     1|    231|   5.0|\n",
            "|     1|    235|   4.0|\n",
            "|     1|    260|   5.0|\n",
            "|     1|    296|   3.0|\n",
            "|     1|    316|   3.0|\n",
            "|     1|    333|   5.0|\n",
            "|     1|    349|   4.0|\n",
            "+------+-------+------+\n",
            "only showing top 20 rows\n",
            "\n"
          ],
          "name": "stdout"
        }
      ]
    },
    {
      "cell_type": "markdown",
      "metadata": {
        "id": "vsiWE0Xg8gbM"
      },
      "source": [
        "## EDA"
      ]
    },
    {
      "cell_type": "markdown",
      "metadata": {
        "id": "H5xGaGdb9I1u"
      },
      "source": [
        "### Sparsity"
      ]
    },
    {
      "cell_type": "code",
      "metadata": {
        "colab": {
          "base_uri": "https://localhost:8080/"
        },
        "id": "VuOLx8SK8jAT",
        "outputId": "bfd01cae-e970-45c5-bfab-0b35223bf605"
      },
      "source": [
        "# Contemos el numero de observaciones en el dataset\n",
        "numerator = ratings.select(\"rating\").count()\n",
        "\n",
        "# Numero de ids distintos\n",
        "num_users = ratings.select(\"userId\").distinct().count()\n",
        "num_movies = ratings.select(\"movieId\").distinct().count()\n",
        "\n",
        "# Numero de celdas totales\n",
        "denominator = num_users * num_movies\n",
        "\n",
        "# Sparsity\n",
        "sparsity = (1.0 - (numerator *1.0)/denominator)*100\n",
        "print(f\"El sparcity de nuestros datos es {sparsity} % vacio\")"
      ],
      "execution_count": 260,
      "outputs": [
        {
          "output_type": "stream",
          "text": [
            "El sparcity de nuestros datos es 98.30003169443864\n"
          ],
          "name": "stdout"
        }
      ]
    },
    {
      "cell_type": "markdown",
      "metadata": {
        "id": "eHJybWRC9DeN"
      },
      "source": [
        "### Exploracion de ids"
      ]
    },
    {
      "cell_type": "code",
      "metadata": {
        "colab": {
          "base_uri": "https://localhost:8080/"
        },
        "id": "j22vF39f9OTl",
        "outputId": "8488baf1-802c-46df-f3a7-c713301470c6"
      },
      "source": [
        "# User ids\n",
        "userId_ratings = ratings.groupBy(\"userId\").count().orderBy('count', ascending=False)\n",
        "userId_ratings.show()"
      ],
      "execution_count": 261,
      "outputs": [
        {
          "output_type": "stream",
          "text": [
            "+------+-----+\n",
            "|userId|count|\n",
            "+------+-----+\n",
            "|   414| 2698|\n",
            "|   599| 2478|\n",
            "|   474| 2108|\n",
            "|   448| 1864|\n",
            "|   274| 1346|\n",
            "|   610| 1302|\n",
            "|    68| 1260|\n",
            "|   380| 1218|\n",
            "|   606| 1115|\n",
            "|   288| 1055|\n",
            "|   249| 1046|\n",
            "|   387| 1027|\n",
            "|   182|  977|\n",
            "|   307|  975|\n",
            "|   603|  943|\n",
            "|   298|  939|\n",
            "|   177|  904|\n",
            "|   318|  879|\n",
            "|   232|  862|\n",
            "|   480|  836|\n",
            "+------+-----+\n",
            "only showing top 20 rows\n",
            "\n"
          ],
          "name": "stdout"
        }
      ]
    },
    {
      "cell_type": "code",
      "metadata": {
        "colab": {
          "base_uri": "https://localhost:8080/"
        },
        "id": "XAIahJFA9QNA",
        "outputId": "83c5e2b6-e85a-4eb0-e1da-75e5e76f7c7e"
      },
      "source": [
        "# Movie ids\n",
        "movieId_ratings = ratings.groupBy(\"movieId\").count().orderBy('count', ascending=False)\n",
        "movieId_ratings.show()"
      ],
      "execution_count": 262,
      "outputs": [
        {
          "output_type": "stream",
          "text": [
            "+-------+-----+\n",
            "|movieId|count|\n",
            "+-------+-----+\n",
            "|    356|  329|\n",
            "|    318|  317|\n",
            "|    296|  307|\n",
            "|    593|  279|\n",
            "|   2571|  278|\n",
            "|    260|  251|\n",
            "|    480|  238|\n",
            "|    110|  237|\n",
            "|    589|  224|\n",
            "|    527|  220|\n",
            "|   2959|  218|\n",
            "|      1|  215|\n",
            "|   1196|  211|\n",
            "|     50|  204|\n",
            "|   2858|  204|\n",
            "|     47|  203|\n",
            "|    780|  202|\n",
            "|    150|  201|\n",
            "|   1198|  200|\n",
            "|   4993|  198|\n",
            "+-------+-----+\n",
            "only showing top 20 rows\n",
            "\n"
          ],
          "name": "stdout"
        }
      ]
    },
    {
      "cell_type": "markdown",
      "metadata": {
        "id": "JWAtT83x9UYH"
      },
      "source": [
        "### Modelo ALS"
      ]
    },
    {
      "cell_type": "code",
      "metadata": {
        "id": "GOHajih99W4p"
      },
      "source": [
        "# Funciones de spark para recomendador\n",
        "from pyspark.ml.evaluation import RegressionEvaluator\n",
        "from pyspark.ml.recommendation import ALS\n",
        "from pyspark.ml.tuning import ParamGridBuilder, CrossValidator"
      ],
      "execution_count": 263,
      "outputs": []
    },
    {
      "cell_type": "code",
      "metadata": {
        "id": "v_okIUNf9fav"
      },
      "source": [
        "# Separemos en Train y Test\n",
        "(train, test) = ratings.randomSplit([0.8, 0.2], seed = 1234)\n",
        "# Creemos el modelo ALS\n",
        "als = ALS(userCol=\"userId\", itemCol=\"movieId\", ratingCol=\"rating\",\n",
        "          nonnegative = True, implicitPrefs = False, coldStartStrategy=\"drop\")"
      ],
      "execution_count": 264,
      "outputs": []
    },
    {
      "cell_type": "code",
      "metadata": {
        "colab": {
          "base_uri": "https://localhost:8080/"
        },
        "id": "QQTziNkD9o6f",
        "outputId": "836cb701-9f57-42aa-f511-fa8525996287"
      },
      "source": [
        "# Hagamos grid search de nuestros parametros\n",
        "param_grid = ParamGridBuilder() \\\n",
        "            .addGrid(als.rank, [10, 50, 100, 150]) \\\n",
        "            .addGrid(als.regParam, [.01, .05, .1, .15]) \\\n",
        "            .build()\n",
        "           \n",
        "# Define evaluator as RMSE and print length of evaluator\n",
        "evaluator = RegressionEvaluator(metricName=\"rmse\", labelCol=\"rating\", predictionCol=\"prediction\") \n",
        "print (\"Numero de modelos que estimaremos: \", len(param_grid))"
      ],
      "execution_count": 269,
      "outputs": [
        {
          "output_type": "stream",
          "text": [
            "Numero de modelos que estimaremos:  16\n"
          ],
          "name": "stdout"
        }
      ]
    },
    {
      "cell_type": "markdown",
      "metadata": {
        "id": "ME81Q2Pj-E7N"
      },
      "source": [
        "#### CV Pipeline"
      ]
    },
    {
      "cell_type": "code",
      "metadata": {
        "id": "0SA5o_C0-Gtt"
      },
      "source": [
        "# Pipeline para CV\n",
        "cv = CrossValidator(estimator=als, estimatorParamMaps=param_grid, evaluator=evaluator, numFolds=5)"
      ],
      "execution_count": 270,
      "outputs": []
    },
    {
      "cell_type": "markdown",
      "metadata": {
        "id": "kHDArsso-KIU"
      },
      "source": [
        "#### Entrenamiento"
      ]
    },
    {
      "cell_type": "markdown",
      "metadata": {
        "id": "L-CM8bJUDclj"
      },
      "source": [
        "Puede que tarde mucho en correr de ser asi, te recomendamos modificar los parametros del grid."
      ]
    },
    {
      "cell_type": "code",
      "metadata": {
        "id": "w_Cy3_Qj-Ms6"
      },
      "source": [
        "#Entrenemos\n",
        "model = cv.fit(train)\n",
        "\n",
        "#Tomemos el mejor modelo\n",
        "best_model = model.bestModel"
      ],
      "execution_count": null,
      "outputs": []
    },
    {
      "cell_type": "markdown",
      "metadata": {
        "id": "d89yxHXX-y8a"
      },
      "source": [
        "Analicemos el mejor modelo"
      ]
    },
    {
      "cell_type": "code",
      "metadata": {
        "id": "e5k_Yc3V-xEY"
      },
      "source": [
        "print(type(best_model))\n",
        "print(\"**El mejor modelo**\")\n",
        "print(\"  Rank:\", best_model._java_obj.parent().getRank())\n",
        "print(\"  MaxIter:\", best_model._java_obj.parent().getMaxIter())\n",
        "print(\"  RegParam:\", best_model._java_obj.parent().getRegParam())"
      ],
      "execution_count": null,
      "outputs": []
    },
    {
      "cell_type": "code",
      "metadata": {
        "id": "4sAGUmbj-4UK"
      },
      "source": [
        "# Evaluemos las predicciones\n",
        "test_predictions = best_model.transform(test)\n",
        "RMSE = evaluator.evaluate(test_predictions)\n",
        "print(RMSE)"
      ],
      "execution_count": null,
      "outputs": []
    },
    {
      "cell_type": "code",
      "metadata": {
        "id": "lZO8t01TCTJ4"
      },
      "source": [
        "test_predictions.show()"
      ],
      "execution_count": null,
      "outputs": []
    },
    {
      "cell_type": "markdown",
      "metadata": {
        "id": "iwmhKob4CaTg"
      },
      "source": [
        "### Generemos Recomendaciones"
      ]
    },
    {
      "cell_type": "code",
      "metadata": {
        "id": "10Fg-zlxCcix"
      },
      "source": [
        "# Generemos n recomendaciones\n",
        "nrecommendations = best_model.recommendForAllUsers(10)\n",
        "nrecommendations.limit(10).show()"
      ],
      "execution_count": null,
      "outputs": []
    },
    {
      "cell_type": "code",
      "metadata": {
        "id": "694XnR0dChb2"
      },
      "source": [
        "nrecommendations = nrecommendations\\\n",
        "    .withColumn(\"rec_exp\", explode(\"recommendations\"))\\\n",
        "    .select('userId', col(\"rec_exp.movieId\"), col(\"rec_exp.rating\"))\n",
        "\n",
        "nrecommendations.limit(10).show()"
      ],
      "execution_count": null,
      "outputs": []
    },
    {
      "cell_type": "markdown",
      "metadata": {
        "id": "4kIG369aClX2"
      },
      "source": [
        "#### Intuicion de las Recomendaciones"
      ]
    },
    {
      "cell_type": "code",
      "metadata": {
        "id": "wGLaZ7mkCn-m"
      },
      "source": [
        "nrecommendations.join(movies, on='movieId').filter('userId = 100').show()"
      ],
      "execution_count": null,
      "outputs": []
    },
    {
      "cell_type": "code",
      "metadata": {
        "id": "etCqDC4sCpbP"
      },
      "source": [
        "ratings.join(movies, on='movieId').filter('userId = 100').sort('rating', ascending=False).limit(10).show()"
      ],
      "execution_count": null,
      "outputs": []
    }
  ]
}