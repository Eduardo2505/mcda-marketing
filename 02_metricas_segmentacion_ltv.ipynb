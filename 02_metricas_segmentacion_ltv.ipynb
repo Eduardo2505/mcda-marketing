{
  "nbformat": 4,
  "nbformat_minor": 0,
  "metadata": {
    "colab": {
      "name": "02_metricas_segmentacion_ltv.ipynb",
      "provenance": [],
      "collapsed_sections": [],
      "authorship_tag": "ABX9TyPw8ptk2mRVvA5PRc2h9fBz",
      "include_colab_link": true
    },
    "kernelspec": {
      "name": "python3",
      "display_name": "Python 3"
    }
  },
  "cells": [
    {
      "cell_type": "markdown",
      "metadata": {
        "id": "view-in-github",
        "colab_type": "text"
      },
      "source": [
        "<a href=\"https://colab.research.google.com/github/IEXE-Tec/mcda-marketing/blob/main/02_metricas_segmentacion_ltv.ipynb\" target=\"_parent\"><img src=\"https://colab.research.google.com/assets/colab-badge.svg\" alt=\"Open In Colab\"/></a>"
      ]
    },
    {
      "cell_type": "code",
      "metadata": {
        "id": "sfHzYC5FxMPx"
      },
      "source": [
        "import pandas as pd\n",
        "import numpy as np\n",
        "import matplotlib.pyplot as plt\n",
        "%matplotlib inline\n",
        "import seaborn as sns\n",
        "sns.set_style('darkgrid')\n",
        "sns.set(rc={'figure.figsize':(16,6)})"
      ],
      "execution_count": null,
      "outputs": []
    },
    {
      "cell_type": "markdown",
      "metadata": {
        "id": "jdXl15sjpvzm"
      },
      "source": [
        "# Objetivo"
      ]
    },
    {
      "cell_type": "markdown",
      "metadata": {
        "id": "MMN-m9jYpxkg"
      },
      "source": [
        "+ ETL & EDA de los datos de retail\n",
        "+ Segmentar Clientes\n",
        "+ Calcular el Customer Life Time Value (LTV)"
      ]
    },
    {
      "cell_type": "markdown",
      "metadata": {
        "id": "PivM8e7hdNh8"
      },
      "source": [
        "# ETL"
      ]
    },
    {
      "cell_type": "markdown",
      "metadata": {
        "id": "L0YwHA8JzLDF"
      },
      "source": [
        "## Importar Datos"
      ]
    },
    {
      "cell_type": "code",
      "metadata": {
        "id": "XPt3CwMzzRHJ",
        "colab": {
          "base_uri": "https://localhost:8080/",
          "height": 206
        },
        "outputId": "8189a11f-27ce-472c-9531-01a1ce3325a5"
      },
      "source": [
        "retail = pd.read_csv('https://github.com/IEXE-Tec/mcda-marketing/blob/main/OnlineRetail.csv.zip?raw=true', encoding='latin1',compression='zip')\n",
        "retail.head()"
      ],
      "execution_count": null,
      "outputs": [
        {
          "output_type": "execute_result",
          "data": {
            "text/html": [
              "<div>\n",
              "<style scoped>\n",
              "    .dataframe tbody tr th:only-of-type {\n",
              "        vertical-align: middle;\n",
              "    }\n",
              "\n",
              "    .dataframe tbody tr th {\n",
              "        vertical-align: top;\n",
              "    }\n",
              "\n",
              "    .dataframe thead th {\n",
              "        text-align: right;\n",
              "    }\n",
              "</style>\n",
              "<table border=\"1\" class=\"dataframe\">\n",
              "  <thead>\n",
              "    <tr style=\"text-align: right;\">\n",
              "      <th></th>\n",
              "      <th>InvoiceNo</th>\n",
              "      <th>StockCode</th>\n",
              "      <th>Description</th>\n",
              "      <th>Quantity</th>\n",
              "      <th>InvoiceDate</th>\n",
              "      <th>UnitPrice</th>\n",
              "      <th>CustomerID</th>\n",
              "      <th>Country</th>\n",
              "    </tr>\n",
              "  </thead>\n",
              "  <tbody>\n",
              "    <tr>\n",
              "      <th>0</th>\n",
              "      <td>536365</td>\n",
              "      <td>85123A</td>\n",
              "      <td>WHITE HANGING HEART T-LIGHT HOLDER</td>\n",
              "      <td>6</td>\n",
              "      <td>12/1/2010 8:26</td>\n",
              "      <td>2.55</td>\n",
              "      <td>17850.0</td>\n",
              "      <td>United Kingdom</td>\n",
              "    </tr>\n",
              "    <tr>\n",
              "      <th>1</th>\n",
              "      <td>536365</td>\n",
              "      <td>71053</td>\n",
              "      <td>WHITE METAL LANTERN</td>\n",
              "      <td>6</td>\n",
              "      <td>12/1/2010 8:26</td>\n",
              "      <td>3.39</td>\n",
              "      <td>17850.0</td>\n",
              "      <td>United Kingdom</td>\n",
              "    </tr>\n",
              "    <tr>\n",
              "      <th>2</th>\n",
              "      <td>536365</td>\n",
              "      <td>84406B</td>\n",
              "      <td>CREAM CUPID HEARTS COAT HANGER</td>\n",
              "      <td>8</td>\n",
              "      <td>12/1/2010 8:26</td>\n",
              "      <td>2.75</td>\n",
              "      <td>17850.0</td>\n",
              "      <td>United Kingdom</td>\n",
              "    </tr>\n",
              "    <tr>\n",
              "      <th>3</th>\n",
              "      <td>536365</td>\n",
              "      <td>84029G</td>\n",
              "      <td>KNITTED UNION FLAG HOT WATER BOTTLE</td>\n",
              "      <td>6</td>\n",
              "      <td>12/1/2010 8:26</td>\n",
              "      <td>3.39</td>\n",
              "      <td>17850.0</td>\n",
              "      <td>United Kingdom</td>\n",
              "    </tr>\n",
              "    <tr>\n",
              "      <th>4</th>\n",
              "      <td>536365</td>\n",
              "      <td>84029E</td>\n",
              "      <td>RED WOOLLY HOTTIE WHITE HEART.</td>\n",
              "      <td>6</td>\n",
              "      <td>12/1/2010 8:26</td>\n",
              "      <td>3.39</td>\n",
              "      <td>17850.0</td>\n",
              "      <td>United Kingdom</td>\n",
              "    </tr>\n",
              "  </tbody>\n",
              "</table>\n",
              "</div>"
            ],
            "text/plain": [
              "  InvoiceNo StockCode  ... CustomerID         Country\n",
              "0    536365    85123A  ...    17850.0  United Kingdom\n",
              "1    536365     71053  ...    17850.0  United Kingdom\n",
              "2    536365    84406B  ...    17850.0  United Kingdom\n",
              "3    536365    84029G  ...    17850.0  United Kingdom\n",
              "4    536365    84029E  ...    17850.0  United Kingdom\n",
              "\n",
              "[5 rows x 8 columns]"
            ]
          },
          "metadata": {
            "tags": []
          },
          "execution_count": 2
        }
      ]
    },
    {
      "cell_type": "code",
      "metadata": {
        "colab": {
          "base_uri": "https://localhost:8080/"
        },
        "id": "jb8afOsYchnb",
        "outputId": "3f4cc3bb-a098-4a57-ab01-e3ae1a941835"
      },
      "source": [
        "retail.info()"
      ],
      "execution_count": null,
      "outputs": [
        {
          "output_type": "stream",
          "text": [
            "<class 'pandas.core.frame.DataFrame'>\n",
            "RangeIndex: 541909 entries, 0 to 541908\n",
            "Data columns (total 8 columns):\n",
            " #   Column       Non-Null Count   Dtype  \n",
            "---  ------       --------------   -----  \n",
            " 0   InvoiceNo    541909 non-null  object \n",
            " 1   StockCode    541909 non-null  object \n",
            " 2   Description  540455 non-null  object \n",
            " 3   Quantity     541909 non-null  int64  \n",
            " 4   InvoiceDate  541909 non-null  object \n",
            " 5   UnitPrice    541909 non-null  float64\n",
            " 6   CustomerID   406829 non-null  float64\n",
            " 7   Country      541909 non-null  object \n",
            "dtypes: float64(2), int64(1), object(5)\n",
            "memory usage: 33.1+ MB\n"
          ],
          "name": "stdout"
        }
      ]
    },
    {
      "cell_type": "markdown",
      "metadata": {
        "id": "rVaU8wX0iEsl"
      },
      "source": [
        "## NaN, missing, infs"
      ]
    },
    {
      "cell_type": "code",
      "metadata": {
        "colab": {
          "base_uri": "https://localhost:8080/"
        },
        "id": "Q95YkGhcHrdr",
        "outputId": "62e47e7c-2458-4d44-a02c-9b1b3bf91743"
      },
      "source": [
        "retail.isnull().sum()"
      ],
      "execution_count": null,
      "outputs": [
        {
          "output_type": "execute_result",
          "data": {
            "text/plain": [
              "InvoiceNo           0\n",
              "StockCode           0\n",
              "Description      1454\n",
              "Quantity            0\n",
              "InvoiceDate         0\n",
              "UnitPrice           0\n",
              "CustomerID     135080\n",
              "Country             0\n",
              "dtype: int64"
            ]
          },
          "metadata": {
            "tags": []
          },
          "execution_count": 4
        }
      ]
    },
    {
      "cell_type": "markdown",
      "metadata": {
        "id": "kxldDLzgiT4N"
      },
      "source": [
        "### Columnas con NaNs"
      ]
    },
    {
      "cell_type": "code",
      "metadata": {
        "colab": {
          "base_uri": "https://localhost:8080/",
          "height": 112
        },
        "id": "VnO1-6ITiObK",
        "outputId": "a81373e3-45d4-4f49-b925-484eb8c2bf3c"
      },
      "source": [
        "retail.loc[:,retail.isna().any(axis=0)].head(2)"
      ],
      "execution_count": null,
      "outputs": [
        {
          "output_type": "execute_result",
          "data": {
            "text/html": [
              "<div>\n",
              "<style scoped>\n",
              "    .dataframe tbody tr th:only-of-type {\n",
              "        vertical-align: middle;\n",
              "    }\n",
              "\n",
              "    .dataframe tbody tr th {\n",
              "        vertical-align: top;\n",
              "    }\n",
              "\n",
              "    .dataframe thead th {\n",
              "        text-align: right;\n",
              "    }\n",
              "</style>\n",
              "<table border=\"1\" class=\"dataframe\">\n",
              "  <thead>\n",
              "    <tr style=\"text-align: right;\">\n",
              "      <th></th>\n",
              "      <th>Description</th>\n",
              "      <th>CustomerID</th>\n",
              "    </tr>\n",
              "  </thead>\n",
              "  <tbody>\n",
              "    <tr>\n",
              "      <th>0</th>\n",
              "      <td>WHITE HANGING HEART T-LIGHT HOLDER</td>\n",
              "      <td>17850.0</td>\n",
              "    </tr>\n",
              "    <tr>\n",
              "      <th>1</th>\n",
              "      <td>WHITE METAL LANTERN</td>\n",
              "      <td>17850.0</td>\n",
              "    </tr>\n",
              "  </tbody>\n",
              "</table>\n",
              "</div>"
            ],
            "text/plain": [
              "                          Description  CustomerID\n",
              "0  WHITE HANGING HEART T-LIGHT HOLDER     17850.0\n",
              "1                 WHITE METAL LANTERN     17850.0"
            ]
          },
          "metadata": {
            "tags": []
          },
          "execution_count": 5
        }
      ]
    },
    {
      "cell_type": "markdown",
      "metadata": {
        "id": "axFdYXscib4_"
      },
      "source": [
        "Al parecer los nans solo estan las columnas de Description y CustomerID"
      ]
    },
    {
      "cell_type": "markdown",
      "metadata": {
        "id": "ZSrhx7O-iWwX"
      },
      "source": [
        "### Rows con NaNs"
      ]
    },
    {
      "cell_type": "code",
      "metadata": {
        "colab": {
          "base_uri": "https://localhost:8080/",
          "height": 130
        },
        "id": "2DzdZ1FYiHlM",
        "outputId": "d3bdbe77-4601-413b-f111-101f9cf3dac5"
      },
      "source": [
        "print('Total de rows con nans:  ', retail[retail.isna().any(axis=1)].shape[0])\n",
        "retail[retail.isna().any(axis=1)].head(2)"
      ],
      "execution_count": null,
      "outputs": [
        {
          "output_type": "stream",
          "text": [
            "Total de rows con nans:   135080\n"
          ],
          "name": "stdout"
        },
        {
          "output_type": "execute_result",
          "data": {
            "text/html": [
              "<div>\n",
              "<style scoped>\n",
              "    .dataframe tbody tr th:only-of-type {\n",
              "        vertical-align: middle;\n",
              "    }\n",
              "\n",
              "    .dataframe tbody tr th {\n",
              "        vertical-align: top;\n",
              "    }\n",
              "\n",
              "    .dataframe thead th {\n",
              "        text-align: right;\n",
              "    }\n",
              "</style>\n",
              "<table border=\"1\" class=\"dataframe\">\n",
              "  <thead>\n",
              "    <tr style=\"text-align: right;\">\n",
              "      <th></th>\n",
              "      <th>InvoiceNo</th>\n",
              "      <th>StockCode</th>\n",
              "      <th>Description</th>\n",
              "      <th>Quantity</th>\n",
              "      <th>InvoiceDate</th>\n",
              "      <th>UnitPrice</th>\n",
              "      <th>CustomerID</th>\n",
              "      <th>Country</th>\n",
              "    </tr>\n",
              "  </thead>\n",
              "  <tbody>\n",
              "    <tr>\n",
              "      <th>622</th>\n",
              "      <td>536414</td>\n",
              "      <td>22139</td>\n",
              "      <td>NaN</td>\n",
              "      <td>56</td>\n",
              "      <td>12/1/2010 11:52</td>\n",
              "      <td>0.00</td>\n",
              "      <td>NaN</td>\n",
              "      <td>United Kingdom</td>\n",
              "    </tr>\n",
              "    <tr>\n",
              "      <th>1443</th>\n",
              "      <td>536544</td>\n",
              "      <td>21773</td>\n",
              "      <td>DECORATIVE ROSE BATHROOM BOTTLE</td>\n",
              "      <td>1</td>\n",
              "      <td>12/1/2010 14:32</td>\n",
              "      <td>2.51</td>\n",
              "      <td>NaN</td>\n",
              "      <td>United Kingdom</td>\n",
              "    </tr>\n",
              "  </tbody>\n",
              "</table>\n",
              "</div>"
            ],
            "text/plain": [
              "     InvoiceNo StockCode  ... CustomerID         Country\n",
              "622     536414     22139  ...        NaN  United Kingdom\n",
              "1443    536544     21773  ...        NaN  United Kingdom\n",
              "\n",
              "[2 rows x 8 columns]"
            ]
          },
          "metadata": {
            "tags": []
          },
          "execution_count": 6
        }
      ]
    },
    {
      "cell_type": "markdown",
      "metadata": {
        "id": "yhzCVa1VjQkc"
      },
      "source": [
        "#### NaNs en Description   \n"
      ]
    },
    {
      "cell_type": "markdown",
      "metadata": {
        "id": "83cl3pVsk1-W"
      },
      "source": [
        "Observemos que hay muy pocos NaNs en la descripcion del producto"
      ]
    },
    {
      "cell_type": "code",
      "metadata": {
        "colab": {
          "base_uri": "https://localhost:8080/",
          "height": 424
        },
        "id": "R9nw6M4mi9L1",
        "outputId": "b5c331ae-11c3-43ab-c3b8-6881ef4f5366"
      },
      "source": [
        "retail[retail['Description'].isna()]"
      ],
      "execution_count": null,
      "outputs": [
        {
          "output_type": "execute_result",
          "data": {
            "text/html": [
              "<div>\n",
              "<style scoped>\n",
              "    .dataframe tbody tr th:only-of-type {\n",
              "        vertical-align: middle;\n",
              "    }\n",
              "\n",
              "    .dataframe tbody tr th {\n",
              "        vertical-align: top;\n",
              "    }\n",
              "\n",
              "    .dataframe thead th {\n",
              "        text-align: right;\n",
              "    }\n",
              "</style>\n",
              "<table border=\"1\" class=\"dataframe\">\n",
              "  <thead>\n",
              "    <tr style=\"text-align: right;\">\n",
              "      <th></th>\n",
              "      <th>InvoiceNo</th>\n",
              "      <th>StockCode</th>\n",
              "      <th>Description</th>\n",
              "      <th>Quantity</th>\n",
              "      <th>InvoiceDate</th>\n",
              "      <th>UnitPrice</th>\n",
              "      <th>CustomerID</th>\n",
              "      <th>Country</th>\n",
              "    </tr>\n",
              "  </thead>\n",
              "  <tbody>\n",
              "    <tr>\n",
              "      <th>622</th>\n",
              "      <td>536414</td>\n",
              "      <td>22139</td>\n",
              "      <td>NaN</td>\n",
              "      <td>56</td>\n",
              "      <td>12/1/2010 11:52</td>\n",
              "      <td>0.0</td>\n",
              "      <td>NaN</td>\n",
              "      <td>United Kingdom</td>\n",
              "    </tr>\n",
              "    <tr>\n",
              "      <th>1970</th>\n",
              "      <td>536545</td>\n",
              "      <td>21134</td>\n",
              "      <td>NaN</td>\n",
              "      <td>1</td>\n",
              "      <td>12/1/2010 14:32</td>\n",
              "      <td>0.0</td>\n",
              "      <td>NaN</td>\n",
              "      <td>United Kingdom</td>\n",
              "    </tr>\n",
              "    <tr>\n",
              "      <th>1971</th>\n",
              "      <td>536546</td>\n",
              "      <td>22145</td>\n",
              "      <td>NaN</td>\n",
              "      <td>1</td>\n",
              "      <td>12/1/2010 14:33</td>\n",
              "      <td>0.0</td>\n",
              "      <td>NaN</td>\n",
              "      <td>United Kingdom</td>\n",
              "    </tr>\n",
              "    <tr>\n",
              "      <th>1972</th>\n",
              "      <td>536547</td>\n",
              "      <td>37509</td>\n",
              "      <td>NaN</td>\n",
              "      <td>1</td>\n",
              "      <td>12/1/2010 14:33</td>\n",
              "      <td>0.0</td>\n",
              "      <td>NaN</td>\n",
              "      <td>United Kingdom</td>\n",
              "    </tr>\n",
              "    <tr>\n",
              "      <th>1987</th>\n",
              "      <td>536549</td>\n",
              "      <td>85226A</td>\n",
              "      <td>NaN</td>\n",
              "      <td>1</td>\n",
              "      <td>12/1/2010 14:34</td>\n",
              "      <td>0.0</td>\n",
              "      <td>NaN</td>\n",
              "      <td>United Kingdom</td>\n",
              "    </tr>\n",
              "    <tr>\n",
              "      <th>...</th>\n",
              "      <td>...</td>\n",
              "      <td>...</td>\n",
              "      <td>...</td>\n",
              "      <td>...</td>\n",
              "      <td>...</td>\n",
              "      <td>...</td>\n",
              "      <td>...</td>\n",
              "      <td>...</td>\n",
              "    </tr>\n",
              "    <tr>\n",
              "      <th>535322</th>\n",
              "      <td>581199</td>\n",
              "      <td>84581</td>\n",
              "      <td>NaN</td>\n",
              "      <td>-2</td>\n",
              "      <td>12/7/2011 18:26</td>\n",
              "      <td>0.0</td>\n",
              "      <td>NaN</td>\n",
              "      <td>United Kingdom</td>\n",
              "    </tr>\n",
              "    <tr>\n",
              "      <th>535326</th>\n",
              "      <td>581203</td>\n",
              "      <td>23406</td>\n",
              "      <td>NaN</td>\n",
              "      <td>15</td>\n",
              "      <td>12/7/2011 18:31</td>\n",
              "      <td>0.0</td>\n",
              "      <td>NaN</td>\n",
              "      <td>United Kingdom</td>\n",
              "    </tr>\n",
              "    <tr>\n",
              "      <th>535332</th>\n",
              "      <td>581209</td>\n",
              "      <td>21620</td>\n",
              "      <td>NaN</td>\n",
              "      <td>6</td>\n",
              "      <td>12/7/2011 18:35</td>\n",
              "      <td>0.0</td>\n",
              "      <td>NaN</td>\n",
              "      <td>United Kingdom</td>\n",
              "    </tr>\n",
              "    <tr>\n",
              "      <th>536981</th>\n",
              "      <td>581234</td>\n",
              "      <td>72817</td>\n",
              "      <td>NaN</td>\n",
              "      <td>27</td>\n",
              "      <td>12/8/2011 10:33</td>\n",
              "      <td>0.0</td>\n",
              "      <td>NaN</td>\n",
              "      <td>United Kingdom</td>\n",
              "    </tr>\n",
              "    <tr>\n",
              "      <th>538554</th>\n",
              "      <td>581408</td>\n",
              "      <td>85175</td>\n",
              "      <td>NaN</td>\n",
              "      <td>20</td>\n",
              "      <td>12/8/2011 14:06</td>\n",
              "      <td>0.0</td>\n",
              "      <td>NaN</td>\n",
              "      <td>United Kingdom</td>\n",
              "    </tr>\n",
              "  </tbody>\n",
              "</table>\n",
              "<p>1454 rows × 8 columns</p>\n",
              "</div>"
            ],
            "text/plain": [
              "       InvoiceNo StockCode Description  ...  UnitPrice CustomerID         Country\n",
              "622       536414     22139         NaN  ...        0.0        NaN  United Kingdom\n",
              "1970      536545     21134         NaN  ...        0.0        NaN  United Kingdom\n",
              "1971      536546     22145         NaN  ...        0.0        NaN  United Kingdom\n",
              "1972      536547     37509         NaN  ...        0.0        NaN  United Kingdom\n",
              "1987      536549    85226A         NaN  ...        0.0        NaN  United Kingdom\n",
              "...          ...       ...         ...  ...        ...        ...             ...\n",
              "535322    581199     84581         NaN  ...        0.0        NaN  United Kingdom\n",
              "535326    581203     23406         NaN  ...        0.0        NaN  United Kingdom\n",
              "535332    581209     21620         NaN  ...        0.0        NaN  United Kingdom\n",
              "536981    581234     72817         NaN  ...        0.0        NaN  United Kingdom\n",
              "538554    581408     85175         NaN  ...        0.0        NaN  United Kingdom\n",
              "\n",
              "[1454 rows x 8 columns]"
            ]
          },
          "metadata": {
            "tags": []
          },
          "execution_count": 7
        }
      ]
    },
    {
      "cell_type": "markdown",
      "metadata": {
        "id": "-qc-r8N2kUtf"
      },
      "source": [
        "Tambien obsrevamos que no tienen precio. Si bien seria conveniente investigar mas al respecto, por ahora podemos eliminarlos de la base, pues el porcentaje es pequeño y pueden complicar el analisis."
      ]
    },
    {
      "cell_type": "code",
      "metadata": {
        "colab": {
          "base_uri": "https://localhost:8080/"
        },
        "id": "vtjSgq80kQBm",
        "outputId": "fbc22258-640c-43cb-e7d1-6ace1c4dcd3d"
      },
      "source": [
        "retail[retail['Description'].isna()]['UnitPrice'].sum()"
      ],
      "execution_count": null,
      "outputs": [
        {
          "output_type": "execute_result",
          "data": {
            "text/plain": [
              "0.0"
            ]
          },
          "metadata": {
            "tags": []
          },
          "execution_count": 8
        }
      ]
    },
    {
      "cell_type": "code",
      "metadata": {
        "id": "xjoyB1TQkmQ9"
      },
      "source": [
        "retail = retail[~retail['Description'].isna()]"
      ],
      "execution_count": null,
      "outputs": []
    },
    {
      "cell_type": "markdown",
      "metadata": {
        "id": "dpQZBSyLjW8V"
      },
      "source": [
        "#### NaNs en CustomerID    \n",
        "\n"
      ]
    },
    {
      "cell_type": "markdown",
      "metadata": {
        "id": "FV18DVJIk6rn"
      },
      "source": [
        "Hay muchos missings en el CustomerID alrededor del 20% de la base son NaNs. Esto puede deberse a un error en el sistema, o a que el comprador no creo una cuenta. \n",
        "+ Podriamos eliminarlos de la base, pero dado que representan alrededor del 20% es mejor quedarse con ellos.  \n",
        "+ Podriamos crear un id especifico para todos estos compradores, por ejemplo un id negativo para al momento de modelar o manipular sea facil de recordar."
      ]
    },
    {
      "cell_type": "code",
      "metadata": {
        "colab": {
          "base_uri": "https://localhost:8080/",
          "height": 424
        },
        "id": "f_sp5rcEjEm-",
        "outputId": "6c9dcab7-eb4b-49d6-f937-ddc414785022"
      },
      "source": [
        "retail[retail['CustomerID'].isna()]"
      ],
      "execution_count": null,
      "outputs": [
        {
          "output_type": "execute_result",
          "data": {
            "text/html": [
              "<div>\n",
              "<style scoped>\n",
              "    .dataframe tbody tr th:only-of-type {\n",
              "        vertical-align: middle;\n",
              "    }\n",
              "\n",
              "    .dataframe tbody tr th {\n",
              "        vertical-align: top;\n",
              "    }\n",
              "\n",
              "    .dataframe thead th {\n",
              "        text-align: right;\n",
              "    }\n",
              "</style>\n",
              "<table border=\"1\" class=\"dataframe\">\n",
              "  <thead>\n",
              "    <tr style=\"text-align: right;\">\n",
              "      <th></th>\n",
              "      <th>InvoiceNo</th>\n",
              "      <th>StockCode</th>\n",
              "      <th>Description</th>\n",
              "      <th>Quantity</th>\n",
              "      <th>InvoiceDate</th>\n",
              "      <th>UnitPrice</th>\n",
              "      <th>CustomerID</th>\n",
              "      <th>Country</th>\n",
              "    </tr>\n",
              "  </thead>\n",
              "  <tbody>\n",
              "    <tr>\n",
              "      <th>1443</th>\n",
              "      <td>536544</td>\n",
              "      <td>21773</td>\n",
              "      <td>DECORATIVE ROSE BATHROOM BOTTLE</td>\n",
              "      <td>1</td>\n",
              "      <td>12/1/2010 14:32</td>\n",
              "      <td>2.51</td>\n",
              "      <td>NaN</td>\n",
              "      <td>United Kingdom</td>\n",
              "    </tr>\n",
              "    <tr>\n",
              "      <th>1444</th>\n",
              "      <td>536544</td>\n",
              "      <td>21774</td>\n",
              "      <td>DECORATIVE CATS BATHROOM BOTTLE</td>\n",
              "      <td>2</td>\n",
              "      <td>12/1/2010 14:32</td>\n",
              "      <td>2.51</td>\n",
              "      <td>NaN</td>\n",
              "      <td>United Kingdom</td>\n",
              "    </tr>\n",
              "    <tr>\n",
              "      <th>1445</th>\n",
              "      <td>536544</td>\n",
              "      <td>21786</td>\n",
              "      <td>POLKADOT RAIN HAT</td>\n",
              "      <td>4</td>\n",
              "      <td>12/1/2010 14:32</td>\n",
              "      <td>0.85</td>\n",
              "      <td>NaN</td>\n",
              "      <td>United Kingdom</td>\n",
              "    </tr>\n",
              "    <tr>\n",
              "      <th>1446</th>\n",
              "      <td>536544</td>\n",
              "      <td>21787</td>\n",
              "      <td>RAIN PONCHO RETROSPOT</td>\n",
              "      <td>2</td>\n",
              "      <td>12/1/2010 14:32</td>\n",
              "      <td>1.66</td>\n",
              "      <td>NaN</td>\n",
              "      <td>United Kingdom</td>\n",
              "    </tr>\n",
              "    <tr>\n",
              "      <th>1447</th>\n",
              "      <td>536544</td>\n",
              "      <td>21790</td>\n",
              "      <td>VINTAGE SNAP CARDS</td>\n",
              "      <td>9</td>\n",
              "      <td>12/1/2010 14:32</td>\n",
              "      <td>1.66</td>\n",
              "      <td>NaN</td>\n",
              "      <td>United Kingdom</td>\n",
              "    </tr>\n",
              "    <tr>\n",
              "      <th>...</th>\n",
              "      <td>...</td>\n",
              "      <td>...</td>\n",
              "      <td>...</td>\n",
              "      <td>...</td>\n",
              "      <td>...</td>\n",
              "      <td>...</td>\n",
              "      <td>...</td>\n",
              "      <td>...</td>\n",
              "    </tr>\n",
              "    <tr>\n",
              "      <th>541536</th>\n",
              "      <td>581498</td>\n",
              "      <td>85099B</td>\n",
              "      <td>JUMBO BAG RED RETROSPOT</td>\n",
              "      <td>5</td>\n",
              "      <td>12/9/2011 10:26</td>\n",
              "      <td>4.13</td>\n",
              "      <td>NaN</td>\n",
              "      <td>United Kingdom</td>\n",
              "    </tr>\n",
              "    <tr>\n",
              "      <th>541537</th>\n",
              "      <td>581498</td>\n",
              "      <td>85099C</td>\n",
              "      <td>JUMBO  BAG BAROQUE BLACK WHITE</td>\n",
              "      <td>4</td>\n",
              "      <td>12/9/2011 10:26</td>\n",
              "      <td>4.13</td>\n",
              "      <td>NaN</td>\n",
              "      <td>United Kingdom</td>\n",
              "    </tr>\n",
              "    <tr>\n",
              "      <th>541538</th>\n",
              "      <td>581498</td>\n",
              "      <td>85150</td>\n",
              "      <td>LADIES &amp; GENTLEMEN METAL SIGN</td>\n",
              "      <td>1</td>\n",
              "      <td>12/9/2011 10:26</td>\n",
              "      <td>4.96</td>\n",
              "      <td>NaN</td>\n",
              "      <td>United Kingdom</td>\n",
              "    </tr>\n",
              "    <tr>\n",
              "      <th>541539</th>\n",
              "      <td>581498</td>\n",
              "      <td>85174</td>\n",
              "      <td>S/4 CACTI CANDLES</td>\n",
              "      <td>1</td>\n",
              "      <td>12/9/2011 10:26</td>\n",
              "      <td>10.79</td>\n",
              "      <td>NaN</td>\n",
              "      <td>United Kingdom</td>\n",
              "    </tr>\n",
              "    <tr>\n",
              "      <th>541540</th>\n",
              "      <td>581498</td>\n",
              "      <td>DOT</td>\n",
              "      <td>DOTCOM POSTAGE</td>\n",
              "      <td>1</td>\n",
              "      <td>12/9/2011 10:26</td>\n",
              "      <td>1714.17</td>\n",
              "      <td>NaN</td>\n",
              "      <td>United Kingdom</td>\n",
              "    </tr>\n",
              "  </tbody>\n",
              "</table>\n",
              "<p>133626 rows × 8 columns</p>\n",
              "</div>"
            ],
            "text/plain": [
              "       InvoiceNo StockCode  ... CustomerID         Country\n",
              "1443      536544     21773  ...        NaN  United Kingdom\n",
              "1444      536544     21774  ...        NaN  United Kingdom\n",
              "1445      536544     21786  ...        NaN  United Kingdom\n",
              "1446      536544     21787  ...        NaN  United Kingdom\n",
              "1447      536544     21790  ...        NaN  United Kingdom\n",
              "...          ...       ...  ...        ...             ...\n",
              "541536    581498    85099B  ...        NaN  United Kingdom\n",
              "541537    581498    85099C  ...        NaN  United Kingdom\n",
              "541538    581498     85150  ...        NaN  United Kingdom\n",
              "541539    581498     85174  ...        NaN  United Kingdom\n",
              "541540    581498       DOT  ...        NaN  United Kingdom\n",
              "\n",
              "[133626 rows x 8 columns]"
            ]
          },
          "metadata": {
            "tags": []
          },
          "execution_count": 10
        }
      ]
    },
    {
      "cell_type": "code",
      "metadata": {
        "colab": {
          "base_uri": "https://localhost:8080/"
        },
        "id": "HTE0lM1wlbkY",
        "outputId": "df01a372-5964-4e81-e6f0-340fb3a31ebe"
      },
      "source": [
        "# Revisemos si fuera de los missings los ids son enteros o negativos\n",
        "customer_id = retail.loc[~retail['CustomerID'].isna(), 'CustomerID'].unique()\n",
        "customer_id = customer_id.astype(int)\n",
        "(customer_id < 0).sum()"
      ],
      "execution_count": null,
      "outputs": [
        {
          "output_type": "execute_result",
          "data": {
            "text/plain": [
              "0"
            ]
          },
          "metadata": {
            "tags": []
          },
          "execution_count": 11
        }
      ]
    },
    {
      "cell_type": "markdown",
      "metadata": {
        "id": "xvf5YMhRmUOG"
      },
      "source": [
        "Podemos manejar los CustomerID como ints, y asignar el -1 a los clientes que no tienen ID sin problema, pues ningun otro tiene numero negativo."
      ]
    },
    {
      "cell_type": "code",
      "metadata": {
        "colab": {
          "base_uri": "https://localhost:8080/",
          "height": 112
        },
        "id": "opUqCkjwlUl8",
        "outputId": "eceb8aa2-3996-4b38-acce-1eba9081018b"
      },
      "source": [
        "retail.loc[retail['CustomerID'].isna(), 'CustomerID'] = -1\n",
        "retail['CustomerID'] = retail['CustomerID'].astype(int) \n",
        "retail.head(2)"
      ],
      "execution_count": null,
      "outputs": [
        {
          "output_type": "execute_result",
          "data": {
            "text/html": [
              "<div>\n",
              "<style scoped>\n",
              "    .dataframe tbody tr th:only-of-type {\n",
              "        vertical-align: middle;\n",
              "    }\n",
              "\n",
              "    .dataframe tbody tr th {\n",
              "        vertical-align: top;\n",
              "    }\n",
              "\n",
              "    .dataframe thead th {\n",
              "        text-align: right;\n",
              "    }\n",
              "</style>\n",
              "<table border=\"1\" class=\"dataframe\">\n",
              "  <thead>\n",
              "    <tr style=\"text-align: right;\">\n",
              "      <th></th>\n",
              "      <th>InvoiceNo</th>\n",
              "      <th>StockCode</th>\n",
              "      <th>Description</th>\n",
              "      <th>Quantity</th>\n",
              "      <th>InvoiceDate</th>\n",
              "      <th>UnitPrice</th>\n",
              "      <th>CustomerID</th>\n",
              "      <th>Country</th>\n",
              "    </tr>\n",
              "  </thead>\n",
              "  <tbody>\n",
              "    <tr>\n",
              "      <th>0</th>\n",
              "      <td>536365</td>\n",
              "      <td>85123A</td>\n",
              "      <td>WHITE HANGING HEART T-LIGHT HOLDER</td>\n",
              "      <td>6</td>\n",
              "      <td>12/1/2010 8:26</td>\n",
              "      <td>2.55</td>\n",
              "      <td>17850</td>\n",
              "      <td>United Kingdom</td>\n",
              "    </tr>\n",
              "    <tr>\n",
              "      <th>1</th>\n",
              "      <td>536365</td>\n",
              "      <td>71053</td>\n",
              "      <td>WHITE METAL LANTERN</td>\n",
              "      <td>6</td>\n",
              "      <td>12/1/2010 8:26</td>\n",
              "      <td>3.39</td>\n",
              "      <td>17850</td>\n",
              "      <td>United Kingdom</td>\n",
              "    </tr>\n",
              "  </tbody>\n",
              "</table>\n",
              "</div>"
            ],
            "text/plain": [
              "  InvoiceNo StockCode  ... CustomerID         Country\n",
              "0    536365    85123A  ...      17850  United Kingdom\n",
              "1    536365     71053  ...      17850  United Kingdom\n",
              "\n",
              "[2 rows x 8 columns]"
            ]
          },
          "metadata": {
            "tags": []
          },
          "execution_count": 12
        }
      ]
    },
    {
      "cell_type": "markdown",
      "metadata": {
        "id": "Wf8TNQURm1hy"
      },
      "source": [
        "Como podemos obsrevar en la siguiente celda, no hay missings."
      ]
    },
    {
      "cell_type": "code",
      "metadata": {
        "colab": {
          "base_uri": "https://localhost:8080/",
          "height": 49
        },
        "id": "gGPpa7B7mxco",
        "outputId": "df03c737-1997-44d4-d8cd-abd370def464"
      },
      "source": [
        "retail[retail.isna().any(axis=1)]"
      ],
      "execution_count": null,
      "outputs": [
        {
          "output_type": "execute_result",
          "data": {
            "text/html": [
              "<div>\n",
              "<style scoped>\n",
              "    .dataframe tbody tr th:only-of-type {\n",
              "        vertical-align: middle;\n",
              "    }\n",
              "\n",
              "    .dataframe tbody tr th {\n",
              "        vertical-align: top;\n",
              "    }\n",
              "\n",
              "    .dataframe thead th {\n",
              "        text-align: right;\n",
              "    }\n",
              "</style>\n",
              "<table border=\"1\" class=\"dataframe\">\n",
              "  <thead>\n",
              "    <tr style=\"text-align: right;\">\n",
              "      <th></th>\n",
              "      <th>InvoiceNo</th>\n",
              "      <th>StockCode</th>\n",
              "      <th>Description</th>\n",
              "      <th>Quantity</th>\n",
              "      <th>InvoiceDate</th>\n",
              "      <th>UnitPrice</th>\n",
              "      <th>CustomerID</th>\n",
              "      <th>Country</th>\n",
              "    </tr>\n",
              "  </thead>\n",
              "  <tbody>\n",
              "  </tbody>\n",
              "</table>\n",
              "</div>"
            ],
            "text/plain": [
              "Empty DataFrame\n",
              "Columns: [InvoiceNo, StockCode, Description, Quantity, InvoiceDate, UnitPrice, CustomerID, Country]\n",
              "Index: []"
            ]
          },
          "metadata": {
            "tags": []
          },
          "execution_count": 13
        }
      ]
    },
    {
      "cell_type": "markdown",
      "metadata": {
        "id": "LcXRDjkfdM1r"
      },
      "source": [
        "## Tipo de Datos"
      ]
    },
    {
      "cell_type": "markdown",
      "metadata": {
        "id": "N73KG_YMhJgF"
      },
      "source": [
        "Convirtamos las columnas correspondientes a tipo fecha"
      ]
    },
    {
      "cell_type": "code",
      "metadata": {
        "colab": {
          "base_uri": "https://localhost:8080/",
          "height": 206
        },
        "id": "EenaEgVigXRO",
        "outputId": "e4690f5c-9a4b-4175-f2cc-5b296ab0671c"
      },
      "source": [
        "retail['date'] = pd.to_datetime(retail['InvoiceDate'])\n",
        "# Creemos un time stampt para representar el mes y año (en este caso sera el fin de mes)\n",
        "retail['year_month'] = retail['date'].map(lambda x: x.to_period('M').to_timestamp('M'))\n",
        "retail.head()"
      ],
      "execution_count": null,
      "outputs": [
        {
          "output_type": "execute_result",
          "data": {
            "text/html": [
              "<div>\n",
              "<style scoped>\n",
              "    .dataframe tbody tr th:only-of-type {\n",
              "        vertical-align: middle;\n",
              "    }\n",
              "\n",
              "    .dataframe tbody tr th {\n",
              "        vertical-align: top;\n",
              "    }\n",
              "\n",
              "    .dataframe thead th {\n",
              "        text-align: right;\n",
              "    }\n",
              "</style>\n",
              "<table border=\"1\" class=\"dataframe\">\n",
              "  <thead>\n",
              "    <tr style=\"text-align: right;\">\n",
              "      <th></th>\n",
              "      <th>InvoiceNo</th>\n",
              "      <th>StockCode</th>\n",
              "      <th>Description</th>\n",
              "      <th>Quantity</th>\n",
              "      <th>InvoiceDate</th>\n",
              "      <th>UnitPrice</th>\n",
              "      <th>CustomerID</th>\n",
              "      <th>Country</th>\n",
              "      <th>date</th>\n",
              "      <th>year_month</th>\n",
              "    </tr>\n",
              "  </thead>\n",
              "  <tbody>\n",
              "    <tr>\n",
              "      <th>0</th>\n",
              "      <td>536365</td>\n",
              "      <td>85123A</td>\n",
              "      <td>WHITE HANGING HEART T-LIGHT HOLDER</td>\n",
              "      <td>6</td>\n",
              "      <td>12/1/2010 8:26</td>\n",
              "      <td>2.55</td>\n",
              "      <td>17850</td>\n",
              "      <td>United Kingdom</td>\n",
              "      <td>2010-12-01 08:26:00</td>\n",
              "      <td>2010-12-31</td>\n",
              "    </tr>\n",
              "    <tr>\n",
              "      <th>1</th>\n",
              "      <td>536365</td>\n",
              "      <td>71053</td>\n",
              "      <td>WHITE METAL LANTERN</td>\n",
              "      <td>6</td>\n",
              "      <td>12/1/2010 8:26</td>\n",
              "      <td>3.39</td>\n",
              "      <td>17850</td>\n",
              "      <td>United Kingdom</td>\n",
              "      <td>2010-12-01 08:26:00</td>\n",
              "      <td>2010-12-31</td>\n",
              "    </tr>\n",
              "    <tr>\n",
              "      <th>2</th>\n",
              "      <td>536365</td>\n",
              "      <td>84406B</td>\n",
              "      <td>CREAM CUPID HEARTS COAT HANGER</td>\n",
              "      <td>8</td>\n",
              "      <td>12/1/2010 8:26</td>\n",
              "      <td>2.75</td>\n",
              "      <td>17850</td>\n",
              "      <td>United Kingdom</td>\n",
              "      <td>2010-12-01 08:26:00</td>\n",
              "      <td>2010-12-31</td>\n",
              "    </tr>\n",
              "    <tr>\n",
              "      <th>3</th>\n",
              "      <td>536365</td>\n",
              "      <td>84029G</td>\n",
              "      <td>KNITTED UNION FLAG HOT WATER BOTTLE</td>\n",
              "      <td>6</td>\n",
              "      <td>12/1/2010 8:26</td>\n",
              "      <td>3.39</td>\n",
              "      <td>17850</td>\n",
              "      <td>United Kingdom</td>\n",
              "      <td>2010-12-01 08:26:00</td>\n",
              "      <td>2010-12-31</td>\n",
              "    </tr>\n",
              "    <tr>\n",
              "      <th>4</th>\n",
              "      <td>536365</td>\n",
              "      <td>84029E</td>\n",
              "      <td>RED WOOLLY HOTTIE WHITE HEART.</td>\n",
              "      <td>6</td>\n",
              "      <td>12/1/2010 8:26</td>\n",
              "      <td>3.39</td>\n",
              "      <td>17850</td>\n",
              "      <td>United Kingdom</td>\n",
              "      <td>2010-12-01 08:26:00</td>\n",
              "      <td>2010-12-31</td>\n",
              "    </tr>\n",
              "  </tbody>\n",
              "</table>\n",
              "</div>"
            ],
            "text/plain": [
              "  InvoiceNo StockCode  ...                date  year_month\n",
              "0    536365    85123A  ... 2010-12-01 08:26:00  2010-12-31\n",
              "1    536365     71053  ... 2010-12-01 08:26:00  2010-12-31\n",
              "2    536365    84406B  ... 2010-12-01 08:26:00  2010-12-31\n",
              "3    536365    84029G  ... 2010-12-01 08:26:00  2010-12-31\n",
              "4    536365    84029E  ... 2010-12-01 08:26:00  2010-12-31\n",
              "\n",
              "[5 rows x 10 columns]"
            ]
          },
          "metadata": {
            "tags": []
          },
          "execution_count": 14
        }
      ]
    },
    {
      "cell_type": "markdown",
      "metadata": {
        "id": "8x761IjOnfwl"
      },
      "source": [
        "La columna de InvoiceNo no puede ser manejada directamente como entero, tiene que ser string. Podriamos hacer un diccionario de las columnas con strings a ints para mejorar el uso de memoria si asi lo desearamos."
      ]
    },
    {
      "cell_type": "code",
      "metadata": {
        "id": "Sh1387boncHS"
      },
      "source": [
        "#retail['InvoiceNo'] = retail['InvoiceNo'].astype(int)"
      ],
      "execution_count": null,
      "outputs": []
    },
    {
      "cell_type": "markdown",
      "metadata": {
        "id": "btYKkyIsnsyr"
      },
      "source": [
        "## Resumen ETL"
      ]
    },
    {
      "cell_type": "markdown",
      "metadata": {
        "id": "ulBFSdwGnuSm"
      },
      "source": [
        "Parece que los datos se encuentran en buen estado, salvo por los missings en el customer id que pueden deberse a varias causas y representan alrededor del 20% del total de la base. Para resolver el problema, les asignamos el numero -1."
      ]
    },
    {
      "cell_type": "markdown",
      "metadata": {
        "id": "XupLUjninrrw"
      },
      "source": [
        "# EDA Inicial"
      ]
    },
    {
      "cell_type": "markdown",
      "metadata": {
        "id": "wNQJy2nZA0tO"
      },
      "source": [
        "Recuerda que el objetivo es segmentar (clusterizar) a los clientes, pero tambien verificar la calidad de los datos pues es el primer EDA que realizamos sobre ellos."
      ]
    },
    {
      "cell_type": "markdown",
      "metadata": {
        "id": "FFuJFDGtBLT9"
      },
      "source": [
        "Unas de las metricas mas importantes para el retail online :\n",
        "+  **Ingresos Mensuales** o *monthly revenue*."
      ]
    },
    {
      "cell_type": "markdown",
      "metadata": {
        "id": "_1BqkPFUBcSD"
      },
      "source": [
        "## EDA exploracion de datos"
      ]
    },
    {
      "cell_type": "code",
      "metadata": {
        "colab": {
          "base_uri": "https://localhost:8080/",
          "height": 300
        },
        "id": "VvKJkYSnBfdH",
        "outputId": "6dace93c-1a3b-43fc-d030-29bdccc7a3a4"
      },
      "source": [
        "retail.describe()"
      ],
      "execution_count": null,
      "outputs": [
        {
          "output_type": "execute_result",
          "data": {
            "text/html": [
              "<div>\n",
              "<style scoped>\n",
              "    .dataframe tbody tr th:only-of-type {\n",
              "        vertical-align: middle;\n",
              "    }\n",
              "\n",
              "    .dataframe tbody tr th {\n",
              "        vertical-align: top;\n",
              "    }\n",
              "\n",
              "    .dataframe thead th {\n",
              "        text-align: right;\n",
              "    }\n",
              "</style>\n",
              "<table border=\"1\" class=\"dataframe\">\n",
              "  <thead>\n",
              "    <tr style=\"text-align: right;\">\n",
              "      <th></th>\n",
              "      <th>Quantity</th>\n",
              "      <th>UnitPrice</th>\n",
              "      <th>CustomerID</th>\n",
              "    </tr>\n",
              "  </thead>\n",
              "  <tbody>\n",
              "    <tr>\n",
              "      <th>count</th>\n",
              "      <td>540455.000000</td>\n",
              "      <td>540455.000000</td>\n",
              "      <td>540455.000000</td>\n",
              "    </tr>\n",
              "    <tr>\n",
              "      <th>mean</th>\n",
              "      <td>9.603129</td>\n",
              "      <td>4.623519</td>\n",
              "      <td>11507.604224</td>\n",
              "    </tr>\n",
              "    <tr>\n",
              "      <th>std</th>\n",
              "      <td>218.007598</td>\n",
              "      <td>96.889628</td>\n",
              "      <td>6761.212883</td>\n",
              "    </tr>\n",
              "    <tr>\n",
              "      <th>min</th>\n",
              "      <td>-80995.000000</td>\n",
              "      <td>-11062.060000</td>\n",
              "      <td>-1.000000</td>\n",
              "    </tr>\n",
              "    <tr>\n",
              "      <th>25%</th>\n",
              "      <td>1.000000</td>\n",
              "      <td>1.250000</td>\n",
              "      <td>12367.000000</td>\n",
              "    </tr>\n",
              "    <tr>\n",
              "      <th>50%</th>\n",
              "      <td>3.000000</td>\n",
              "      <td>2.080000</td>\n",
              "      <td>14390.000000</td>\n",
              "    </tr>\n",
              "    <tr>\n",
              "      <th>75%</th>\n",
              "      <td>10.000000</td>\n",
              "      <td>4.130000</td>\n",
              "      <td>16261.000000</td>\n",
              "    </tr>\n",
              "    <tr>\n",
              "      <th>max</th>\n",
              "      <td>80995.000000</td>\n",
              "      <td>38970.000000</td>\n",
              "      <td>18287.000000</td>\n",
              "    </tr>\n",
              "  </tbody>\n",
              "</table>\n",
              "</div>"
            ],
            "text/plain": [
              "            Quantity      UnitPrice     CustomerID\n",
              "count  540455.000000  540455.000000  540455.000000\n",
              "mean        9.603129       4.623519   11507.604224\n",
              "std       218.007598      96.889628    6761.212883\n",
              "min    -80995.000000  -11062.060000      -1.000000\n",
              "25%         1.000000       1.250000   12367.000000\n",
              "50%         3.000000       2.080000   14390.000000\n",
              "75%        10.000000       4.130000   16261.000000\n",
              "max     80995.000000   38970.000000   18287.000000"
            ]
          },
          "metadata": {
            "tags": []
          },
          "execution_count": 16
        }
      ]
    },
    {
      "cell_type": "markdown",
      "metadata": {
        "id": "rYUI47UNBpzF"
      },
      "source": [
        "Observemos como hay cantidades y precios negativos. Podrian ser devoluciones?"
      ]
    },
    {
      "cell_type": "markdown",
      "metadata": {
        "id": "o25Sc0YDCByA"
      },
      "source": [
        "### Precio"
      ]
    },
    {
      "cell_type": "code",
      "metadata": {
        "colab": {
          "base_uri": "https://localhost:8080/",
          "height": 112
        },
        "id": "d_cgZvITBvDo",
        "outputId": "65735c2d-7950-49f7-e4b8-59c71c0d6194"
      },
      "source": [
        "retail[retail['UnitPrice']<0.0]"
      ],
      "execution_count": null,
      "outputs": [
        {
          "output_type": "execute_result",
          "data": {
            "text/html": [
              "<div>\n",
              "<style scoped>\n",
              "    .dataframe tbody tr th:only-of-type {\n",
              "        vertical-align: middle;\n",
              "    }\n",
              "\n",
              "    .dataframe tbody tr th {\n",
              "        vertical-align: top;\n",
              "    }\n",
              "\n",
              "    .dataframe thead th {\n",
              "        text-align: right;\n",
              "    }\n",
              "</style>\n",
              "<table border=\"1\" class=\"dataframe\">\n",
              "  <thead>\n",
              "    <tr style=\"text-align: right;\">\n",
              "      <th></th>\n",
              "      <th>InvoiceNo</th>\n",
              "      <th>StockCode</th>\n",
              "      <th>Description</th>\n",
              "      <th>Quantity</th>\n",
              "      <th>InvoiceDate</th>\n",
              "      <th>UnitPrice</th>\n",
              "      <th>CustomerID</th>\n",
              "      <th>Country</th>\n",
              "      <th>date</th>\n",
              "      <th>year_month</th>\n",
              "    </tr>\n",
              "  </thead>\n",
              "  <tbody>\n",
              "    <tr>\n",
              "      <th>299983</th>\n",
              "      <td>A563186</td>\n",
              "      <td>B</td>\n",
              "      <td>Adjust bad debt</td>\n",
              "      <td>1</td>\n",
              "      <td>8/12/2011 14:51</td>\n",
              "      <td>-11062.06</td>\n",
              "      <td>-1</td>\n",
              "      <td>United Kingdom</td>\n",
              "      <td>2011-08-12 14:51:00</td>\n",
              "      <td>2011-08-31</td>\n",
              "    </tr>\n",
              "    <tr>\n",
              "      <th>299984</th>\n",
              "      <td>A563187</td>\n",
              "      <td>B</td>\n",
              "      <td>Adjust bad debt</td>\n",
              "      <td>1</td>\n",
              "      <td>8/12/2011 14:52</td>\n",
              "      <td>-11062.06</td>\n",
              "      <td>-1</td>\n",
              "      <td>United Kingdom</td>\n",
              "      <td>2011-08-12 14:52:00</td>\n",
              "      <td>2011-08-31</td>\n",
              "    </tr>\n",
              "  </tbody>\n",
              "</table>\n",
              "</div>"
            ],
            "text/plain": [
              "       InvoiceNo StockCode  ...                date  year_month\n",
              "299983   A563186         B  ... 2011-08-12 14:51:00  2011-08-31\n",
              "299984   A563187         B  ... 2011-08-12 14:52:00  2011-08-31\n",
              "\n",
              "[2 rows x 10 columns]"
            ]
          },
          "metadata": {
            "tags": []
          },
          "execution_count": 17
        }
      ]
    },
    {
      "cell_type": "markdown",
      "metadata": {
        "id": "r7OZUE--CNvg"
      },
      "source": [
        "Por el la descripcion podemos inferir que son ajustes de cuentas, dada la cantidad de ventas, podemos eliminarla sin causar mucho problema."
      ]
    },
    {
      "cell_type": "code",
      "metadata": {
        "id": "Kfcy7f1ZCXom"
      },
      "source": [
        "retail = retail[~(retail['UnitPrice']<0.0)]"
      ],
      "execution_count": null,
      "outputs": []
    },
    {
      "cell_type": "markdown",
      "metadata": {
        "id": "jgvROkJICFTV"
      },
      "source": [
        "### Cantidad"
      ]
    },
    {
      "cell_type": "code",
      "metadata": {
        "colab": {
          "base_uri": "https://localhost:8080/",
          "height": 424
        },
        "id": "kJaXhwlZB1-V",
        "outputId": "50233834-a0c2-4384-c65f-5eb72c1d6edc"
      },
      "source": [
        "retail[retail['Quantity']<0.0]"
      ],
      "execution_count": null,
      "outputs": [
        {
          "output_type": "execute_result",
          "data": {
            "text/html": [
              "<div>\n",
              "<style scoped>\n",
              "    .dataframe tbody tr th:only-of-type {\n",
              "        vertical-align: middle;\n",
              "    }\n",
              "\n",
              "    .dataframe tbody tr th {\n",
              "        vertical-align: top;\n",
              "    }\n",
              "\n",
              "    .dataframe thead th {\n",
              "        text-align: right;\n",
              "    }\n",
              "</style>\n",
              "<table border=\"1\" class=\"dataframe\">\n",
              "  <thead>\n",
              "    <tr style=\"text-align: right;\">\n",
              "      <th></th>\n",
              "      <th>InvoiceNo</th>\n",
              "      <th>StockCode</th>\n",
              "      <th>Description</th>\n",
              "      <th>Quantity</th>\n",
              "      <th>InvoiceDate</th>\n",
              "      <th>UnitPrice</th>\n",
              "      <th>CustomerID</th>\n",
              "      <th>Country</th>\n",
              "      <th>date</th>\n",
              "      <th>year_month</th>\n",
              "    </tr>\n",
              "  </thead>\n",
              "  <tbody>\n",
              "    <tr>\n",
              "      <th>141</th>\n",
              "      <td>C536379</td>\n",
              "      <td>D</td>\n",
              "      <td>Discount</td>\n",
              "      <td>-1</td>\n",
              "      <td>12/1/2010 9:41</td>\n",
              "      <td>27.50</td>\n",
              "      <td>14527</td>\n",
              "      <td>United Kingdom</td>\n",
              "      <td>2010-12-01 09:41:00</td>\n",
              "      <td>2010-12-31</td>\n",
              "    </tr>\n",
              "    <tr>\n",
              "      <th>154</th>\n",
              "      <td>C536383</td>\n",
              "      <td>35004C</td>\n",
              "      <td>SET OF 3 COLOURED  FLYING DUCKS</td>\n",
              "      <td>-1</td>\n",
              "      <td>12/1/2010 9:49</td>\n",
              "      <td>4.65</td>\n",
              "      <td>15311</td>\n",
              "      <td>United Kingdom</td>\n",
              "      <td>2010-12-01 09:49:00</td>\n",
              "      <td>2010-12-31</td>\n",
              "    </tr>\n",
              "    <tr>\n",
              "      <th>235</th>\n",
              "      <td>C536391</td>\n",
              "      <td>22556</td>\n",
              "      <td>PLASTERS IN TIN CIRCUS PARADE</td>\n",
              "      <td>-12</td>\n",
              "      <td>12/1/2010 10:24</td>\n",
              "      <td>1.65</td>\n",
              "      <td>17548</td>\n",
              "      <td>United Kingdom</td>\n",
              "      <td>2010-12-01 10:24:00</td>\n",
              "      <td>2010-12-31</td>\n",
              "    </tr>\n",
              "    <tr>\n",
              "      <th>236</th>\n",
              "      <td>C536391</td>\n",
              "      <td>21984</td>\n",
              "      <td>PACK OF 12 PINK PAISLEY TISSUES</td>\n",
              "      <td>-24</td>\n",
              "      <td>12/1/2010 10:24</td>\n",
              "      <td>0.29</td>\n",
              "      <td>17548</td>\n",
              "      <td>United Kingdom</td>\n",
              "      <td>2010-12-01 10:24:00</td>\n",
              "      <td>2010-12-31</td>\n",
              "    </tr>\n",
              "    <tr>\n",
              "      <th>237</th>\n",
              "      <td>C536391</td>\n",
              "      <td>21983</td>\n",
              "      <td>PACK OF 12 BLUE PAISLEY TISSUES</td>\n",
              "      <td>-24</td>\n",
              "      <td>12/1/2010 10:24</td>\n",
              "      <td>0.29</td>\n",
              "      <td>17548</td>\n",
              "      <td>United Kingdom</td>\n",
              "      <td>2010-12-01 10:24:00</td>\n",
              "      <td>2010-12-31</td>\n",
              "    </tr>\n",
              "    <tr>\n",
              "      <th>...</th>\n",
              "      <td>...</td>\n",
              "      <td>...</td>\n",
              "      <td>...</td>\n",
              "      <td>...</td>\n",
              "      <td>...</td>\n",
              "      <td>...</td>\n",
              "      <td>...</td>\n",
              "      <td>...</td>\n",
              "      <td>...</td>\n",
              "      <td>...</td>\n",
              "    </tr>\n",
              "    <tr>\n",
              "      <th>540449</th>\n",
              "      <td>C581490</td>\n",
              "      <td>23144</td>\n",
              "      <td>ZINC T-LIGHT HOLDER STARS SMALL</td>\n",
              "      <td>-11</td>\n",
              "      <td>12/9/2011 9:57</td>\n",
              "      <td>0.83</td>\n",
              "      <td>14397</td>\n",
              "      <td>United Kingdom</td>\n",
              "      <td>2011-12-09 09:57:00</td>\n",
              "      <td>2011-12-31</td>\n",
              "    </tr>\n",
              "    <tr>\n",
              "      <th>541541</th>\n",
              "      <td>C581499</td>\n",
              "      <td>M</td>\n",
              "      <td>Manual</td>\n",
              "      <td>-1</td>\n",
              "      <td>12/9/2011 10:28</td>\n",
              "      <td>224.69</td>\n",
              "      <td>15498</td>\n",
              "      <td>United Kingdom</td>\n",
              "      <td>2011-12-09 10:28:00</td>\n",
              "      <td>2011-12-31</td>\n",
              "    </tr>\n",
              "    <tr>\n",
              "      <th>541715</th>\n",
              "      <td>C581568</td>\n",
              "      <td>21258</td>\n",
              "      <td>VICTORIAN SEWING BOX LARGE</td>\n",
              "      <td>-5</td>\n",
              "      <td>12/9/2011 11:57</td>\n",
              "      <td>10.95</td>\n",
              "      <td>15311</td>\n",
              "      <td>United Kingdom</td>\n",
              "      <td>2011-12-09 11:57:00</td>\n",
              "      <td>2011-12-31</td>\n",
              "    </tr>\n",
              "    <tr>\n",
              "      <th>541716</th>\n",
              "      <td>C581569</td>\n",
              "      <td>84978</td>\n",
              "      <td>HANGING HEART JAR T-LIGHT HOLDER</td>\n",
              "      <td>-1</td>\n",
              "      <td>12/9/2011 11:58</td>\n",
              "      <td>1.25</td>\n",
              "      <td>17315</td>\n",
              "      <td>United Kingdom</td>\n",
              "      <td>2011-12-09 11:58:00</td>\n",
              "      <td>2011-12-31</td>\n",
              "    </tr>\n",
              "    <tr>\n",
              "      <th>541717</th>\n",
              "      <td>C581569</td>\n",
              "      <td>20979</td>\n",
              "      <td>36 PENCILS TUBE RED RETROSPOT</td>\n",
              "      <td>-5</td>\n",
              "      <td>12/9/2011 11:58</td>\n",
              "      <td>1.25</td>\n",
              "      <td>17315</td>\n",
              "      <td>United Kingdom</td>\n",
              "      <td>2011-12-09 11:58:00</td>\n",
              "      <td>2011-12-31</td>\n",
              "    </tr>\n",
              "  </tbody>\n",
              "</table>\n",
              "<p>9762 rows × 10 columns</p>\n",
              "</div>"
            ],
            "text/plain": [
              "       InvoiceNo StockCode  ...                date  year_month\n",
              "141      C536379         D  ... 2010-12-01 09:41:00  2010-12-31\n",
              "154      C536383    35004C  ... 2010-12-01 09:49:00  2010-12-31\n",
              "235      C536391     22556  ... 2010-12-01 10:24:00  2010-12-31\n",
              "236      C536391     21984  ... 2010-12-01 10:24:00  2010-12-31\n",
              "237      C536391     21983  ... 2010-12-01 10:24:00  2010-12-31\n",
              "...          ...       ...  ...                 ...         ...\n",
              "540449   C581490     23144  ... 2011-12-09 09:57:00  2011-12-31\n",
              "541541   C581499         M  ... 2011-12-09 10:28:00  2011-12-31\n",
              "541715   C581568     21258  ... 2011-12-09 11:57:00  2011-12-31\n",
              "541716   C581569     84978  ... 2011-12-09 11:58:00  2011-12-31\n",
              "541717   C581569     20979  ... 2011-12-09 11:58:00  2011-12-31\n",
              "\n",
              "[9762 rows x 10 columns]"
            ]
          },
          "metadata": {
            "tags": []
          },
          "execution_count": 19
        }
      ]
    },
    {
      "cell_type": "markdown",
      "metadata": {
        "id": "UHtGnXDJCb8V"
      },
      "source": [
        "En este caso parece que no hay algo que nos permita inferir que ocurrion, asi que podemos inferir que son **devoluciones**. Tambien puedes revisar la discusion en Kaggle: https://www.kaggle.com/vijayuv/onlineretail/discussion/130783 "
      ]
    },
    {
      "cell_type": "markdown",
      "metadata": {
        "id": "vyLtb7YAEmW2"
      },
      "source": [
        "### CustumerID"
      ]
    },
    {
      "cell_type": "code",
      "metadata": {
        "colab": {
          "base_uri": "https://localhost:8080/"
        },
        "id": "HIhf9-joEpXa",
        "outputId": "c9a26e95-1539-45e9-c8a9-a8842336310c"
      },
      "source": [
        "print('Numero de clientes unicos:  ',len(retail['CustomerID'].unique()))"
      ],
      "execution_count": null,
      "outputs": [
        {
          "output_type": "stream",
          "text": [
            "Numero de clientes unicos:   4373\n"
          ],
          "name": "stdout"
        }
      ]
    },
    {
      "cell_type": "markdown",
      "metadata": {
        "id": "fb4PgAajE0A7"
      },
      "source": [
        "### StockCode y Description"
      ]
    },
    {
      "cell_type": "code",
      "metadata": {
        "colab": {
          "base_uri": "https://localhost:8080/"
        },
        "id": "Es7Uzf24E5Ds",
        "outputId": "bfdfe7b5-ad8a-4725-9ea6-99985000136d"
      },
      "source": [
        "print('Numero de StockCode unicos:  ',len(retail['StockCode'].unique()))"
      ],
      "execution_count": null,
      "outputs": [
        {
          "output_type": "stream",
          "text": [
            "Numero de StockCode unicos:   3958\n"
          ],
          "name": "stdout"
        }
      ]
    },
    {
      "cell_type": "code",
      "metadata": {
        "colab": {
          "base_uri": "https://localhost:8080/"
        },
        "id": "xx_trzOyFMLU",
        "outputId": "5f599a9c-2970-4790-b5be-e1ad39e2caa6"
      },
      "source": [
        "print('Numero de Description unicos:  ',len(retail['Description'].unique()))"
      ],
      "execution_count": null,
      "outputs": [
        {
          "output_type": "stream",
          "text": [
            "Numero de Description unicos:   4223\n"
          ],
          "name": "stdout"
        }
      ]
    },
    {
      "cell_type": "markdown",
      "metadata": {
        "id": "KU0mAyp0FRi5"
      },
      "source": [
        "Podemos observar que el stockcode y la descripcion no tienen el mismo numero. Investiguiemos un poco mas."
      ]
    },
    {
      "cell_type": "code",
      "metadata": {
        "colab": {
          "base_uri": "https://localhost:8080/",
          "height": 424
        },
        "id": "O8KtOuVTFhDI",
        "outputId": "07179e55-f437-47f1-c313-5244b7bf4d5b"
      },
      "source": [
        "retail[['StockCode', 'Description']].drop_duplicates().sort_values('StockCode')"
      ],
      "execution_count": null,
      "outputs": [
        {
          "output_type": "execute_result",
          "data": {
            "text/html": [
              "<div>\n",
              "<style scoped>\n",
              "    .dataframe tbody tr th:only-of-type {\n",
              "        vertical-align: middle;\n",
              "    }\n",
              "\n",
              "    .dataframe tbody tr th {\n",
              "        vertical-align: top;\n",
              "    }\n",
              "\n",
              "    .dataframe thead th {\n",
              "        text-align: right;\n",
              "    }\n",
              "</style>\n",
              "<table border=\"1\" class=\"dataframe\">\n",
              "  <thead>\n",
              "    <tr style=\"text-align: right;\">\n",
              "      <th></th>\n",
              "      <th>StockCode</th>\n",
              "      <th>Description</th>\n",
              "    </tr>\n",
              "  </thead>\n",
              "  <tbody>\n",
              "    <tr>\n",
              "      <th>31</th>\n",
              "      <td>10002</td>\n",
              "      <td>INFLATABLE POLITICAL GLOBE</td>\n",
              "    </tr>\n",
              "    <tr>\n",
              "      <th>103332</th>\n",
              "      <td>10080</td>\n",
              "      <td>GROOVY CACTUS INFLATABLE</td>\n",
              "    </tr>\n",
              "    <tr>\n",
              "      <th>454350</th>\n",
              "      <td>10080</td>\n",
              "      <td>check</td>\n",
              "    </tr>\n",
              "    <tr>\n",
              "      <th>5452</th>\n",
              "      <td>10120</td>\n",
              "      <td>DOGGY RUBBER</td>\n",
              "    </tr>\n",
              "    <tr>\n",
              "      <th>5451</th>\n",
              "      <td>10123C</td>\n",
              "      <td>HEARTS WRAPPING TAPE</td>\n",
              "    </tr>\n",
              "    <tr>\n",
              "      <th>...</th>\n",
              "      <td>...</td>\n",
              "      <td>...</td>\n",
              "    </tr>\n",
              "    <tr>\n",
              "      <th>228807</th>\n",
              "      <td>gift_0001_20</td>\n",
              "      <td>to push order througha s stock was</td>\n",
              "    </tr>\n",
              "    <tr>\n",
              "      <th>44725</th>\n",
              "      <td>gift_0001_30</td>\n",
              "      <td>Dotcomgiftshop Gift Voucher £30.00</td>\n",
              "    </tr>\n",
              "    <tr>\n",
              "      <th>38248</th>\n",
              "      <td>gift_0001_40</td>\n",
              "      <td>Dotcomgiftshop Gift Voucher £40.00</td>\n",
              "    </tr>\n",
              "    <tr>\n",
              "      <th>42057</th>\n",
              "      <td>gift_0001_50</td>\n",
              "      <td>Dotcomgiftshop Gift Voucher £50.00</td>\n",
              "    </tr>\n",
              "    <tr>\n",
              "      <th>40383</th>\n",
              "      <td>m</td>\n",
              "      <td>Manual</td>\n",
              "    </tr>\n",
              "  </tbody>\n",
              "</table>\n",
              "<p>4792 rows × 2 columns</p>\n",
              "</div>"
            ],
            "text/plain": [
              "           StockCode                          Description\n",
              "31             10002          INFLATABLE POLITICAL GLOBE \n",
              "103332         10080             GROOVY CACTUS INFLATABLE\n",
              "454350         10080                                check\n",
              "5452           10120                         DOGGY RUBBER\n",
              "5451          10123C                HEARTS WRAPPING TAPE \n",
              "...              ...                                  ...\n",
              "228807  gift_0001_20  to push order througha s stock was \n",
              "44725   gift_0001_30   Dotcomgiftshop Gift Voucher £30.00\n",
              "38248   gift_0001_40   Dotcomgiftshop Gift Voucher £40.00\n",
              "42057   gift_0001_50   Dotcomgiftshop Gift Voucher £50.00\n",
              "40383              m                               Manual\n",
              "\n",
              "[4792 rows x 2 columns]"
            ]
          },
          "metadata": {
            "tags": []
          },
          "execution_count": 23
        }
      ]
    },
    {
      "cell_type": "code",
      "metadata": {
        "colab": {
          "base_uri": "https://localhost:8080/",
          "height": 424
        },
        "id": "OhH8T4ngF2HF",
        "outputId": "07badf03-198d-4497-ef77-7cf60c79ce30"
      },
      "source": [
        "r_ = retail[['StockCode', 'Description']].drop_duplicates().sort_values('StockCode')\n",
        "r_[r_.duplicated(subset='StockCode', keep=False)]"
      ],
      "execution_count": null,
      "outputs": [
        {
          "output_type": "execute_result",
          "data": {
            "text/html": [
              "<div>\n",
              "<style scoped>\n",
              "    .dataframe tbody tr th:only-of-type {\n",
              "        vertical-align: middle;\n",
              "    }\n",
              "\n",
              "    .dataframe tbody tr th {\n",
              "        vertical-align: top;\n",
              "    }\n",
              "\n",
              "    .dataframe thead th {\n",
              "        text-align: right;\n",
              "    }\n",
              "</style>\n",
              "<table border=\"1\" class=\"dataframe\">\n",
              "  <thead>\n",
              "    <tr style=\"text-align: right;\">\n",
              "      <th></th>\n",
              "      <th>StockCode</th>\n",
              "      <th>Description</th>\n",
              "    </tr>\n",
              "  </thead>\n",
              "  <tbody>\n",
              "    <tr>\n",
              "      <th>103332</th>\n",
              "      <td>10080</td>\n",
              "      <td>GROOVY CACTUS INFLATABLE</td>\n",
              "    </tr>\n",
              "    <tr>\n",
              "      <th>454350</th>\n",
              "      <td>10080</td>\n",
              "      <td>check</td>\n",
              "    </tr>\n",
              "    <tr>\n",
              "      <th>741</th>\n",
              "      <td>10133</td>\n",
              "      <td>COLOURING PENCILS BROWN TUBE</td>\n",
              "    </tr>\n",
              "    <tr>\n",
              "      <th>474647</th>\n",
              "      <td>10133</td>\n",
              "      <td>damaged</td>\n",
              "    </tr>\n",
              "    <tr>\n",
              "      <th>192289</th>\n",
              "      <td>15058A</td>\n",
              "      <td>wet/rusty</td>\n",
              "    </tr>\n",
              "    <tr>\n",
              "      <th>...</th>\n",
              "      <td>...</td>\n",
              "      <td>...</td>\n",
              "    </tr>\n",
              "    <tr>\n",
              "      <th>24906</th>\n",
              "      <td>DCGS0003</td>\n",
              "      <td>BOXED GLASS ASHTRAY</td>\n",
              "    </tr>\n",
              "    <tr>\n",
              "      <th>279254</th>\n",
              "      <td>DCGS0069</td>\n",
              "      <td>ebay</td>\n",
              "    </tr>\n",
              "    <tr>\n",
              "      <th>75053</th>\n",
              "      <td>DCGS0069</td>\n",
              "      <td>OOH LA LA DOGS COLLAR</td>\n",
              "    </tr>\n",
              "    <tr>\n",
              "      <th>44794</th>\n",
              "      <td>gift_0001_20</td>\n",
              "      <td>Dotcomgiftshop Gift Voucher £20.00</td>\n",
              "    </tr>\n",
              "    <tr>\n",
              "      <th>228807</th>\n",
              "      <td>gift_0001_20</td>\n",
              "      <td>to push order througha s stock was</td>\n",
              "    </tr>\n",
              "  </tbody>\n",
              "</table>\n",
              "<p>1484 rows × 2 columns</p>\n",
              "</div>"
            ],
            "text/plain": [
              "           StockCode                          Description\n",
              "103332         10080             GROOVY CACTUS INFLATABLE\n",
              "454350         10080                                check\n",
              "741            10133         COLOURING PENCILS BROWN TUBE\n",
              "474647         10133                              damaged\n",
              "192289        15058A                            wet/rusty\n",
              "...              ...                                  ...\n",
              "24906       DCGS0003                  BOXED GLASS ASHTRAY\n",
              "279254      DCGS0069                                 ebay\n",
              "75053       DCGS0069                OOH LA LA DOGS COLLAR\n",
              "44794   gift_0001_20   Dotcomgiftshop Gift Voucher £20.00\n",
              "228807  gift_0001_20  to push order througha s stock was \n",
              "\n",
              "[1484 rows x 2 columns]"
            ]
          },
          "metadata": {
            "tags": []
          },
          "execution_count": 24
        }
      ]
    },
    {
      "cell_type": "markdown",
      "metadata": {
        "id": "7HwdwbdjGSmt"
      },
      "source": [
        "Podemos observar como un solo StockCode (i.e. 10080) pertenece a varias descripciones. Por lo anterior conviene utilizar description como producto de venta, en especial para nuestra primera iteracion. Despues podriamos crear un diccionario o tabla que arregle estos problemas."
      ]
    },
    {
      "cell_type": "markdown",
      "metadata": {
        "id": "hbEEXPfEGwXC"
      },
      "source": [
        "**Nota**: Al parecer los productos que estan escritos con letra minuscula son 'raros' o anomalos. Por ejemplo tienen adjetivos (wet/rusty), son vouchers de regalo (Dotcomgiftshop Gift Voucher £20.00), o cosas variadas (to push order througha s stock was). Tambien podriamos limpiar los datos de estos productos, pero dada la pequeña cantidad que representan y ser nuestra primera iteracion lo podemos obviar."
      ]
    },
    {
      "cell_type": "markdown",
      "metadata": {
        "id": "F0ugmAKjHSxo"
      },
      "source": [
        "### InvoiceNo"
      ]
    },
    {
      "cell_type": "markdown",
      "metadata": {
        "id": "ix77ySMRIWdc"
      },
      "source": [
        "InvoiceNo es el numero de compra o de transaccion, de manera que una persona que compra varios productos, pero en una sola compra los veremos bajo el mismo InvoiceNo. Esto lo inferimos de los snippets de codigo, y de una busqueda en google (https://dictionary.cambridge.org/us/dictionary/english/invoice)."
      ]
    },
    {
      "cell_type": "code",
      "metadata": {
        "colab": {
          "base_uri": "https://localhost:8080/"
        },
        "id": "-IRvKFvgHZmU",
        "outputId": "05f8ef37-b5a5-4647-9290-af0727c13bfb"
      },
      "source": [
        "print('Numero de InvoiceNo unicos:  ',len(retail['InvoiceNo'].unique()))"
      ],
      "execution_count": null,
      "outputs": [
        {
          "output_type": "stream",
          "text": [
            "Numero de InvoiceNo unicos:   24444\n"
          ],
          "name": "stdout"
        }
      ]
    },
    {
      "cell_type": "code",
      "metadata": {
        "colab": {
          "base_uri": "https://localhost:8080/",
          "height": 424
        },
        "id": "3rPLQ5Y7H-38",
        "outputId": "0f042ba7-ecad-4434-ebc9-7f5043d9fc40"
      },
      "source": [
        "retail[['InvoiceNo', 'CustomerID', 'Description']].sort_values('InvoiceNo')"
      ],
      "execution_count": null,
      "outputs": [
        {
          "output_type": "execute_result",
          "data": {
            "text/html": [
              "<div>\n",
              "<style scoped>\n",
              "    .dataframe tbody tr th:only-of-type {\n",
              "        vertical-align: middle;\n",
              "    }\n",
              "\n",
              "    .dataframe tbody tr th {\n",
              "        vertical-align: top;\n",
              "    }\n",
              "\n",
              "    .dataframe thead th {\n",
              "        text-align: right;\n",
              "    }\n",
              "</style>\n",
              "<table border=\"1\" class=\"dataframe\">\n",
              "  <thead>\n",
              "    <tr style=\"text-align: right;\">\n",
              "      <th></th>\n",
              "      <th>InvoiceNo</th>\n",
              "      <th>CustomerID</th>\n",
              "      <th>Description</th>\n",
              "    </tr>\n",
              "  </thead>\n",
              "  <tbody>\n",
              "    <tr>\n",
              "      <th>0</th>\n",
              "      <td>536365</td>\n",
              "      <td>17850</td>\n",
              "      <td>WHITE HANGING HEART T-LIGHT HOLDER</td>\n",
              "    </tr>\n",
              "    <tr>\n",
              "      <th>1</th>\n",
              "      <td>536365</td>\n",
              "      <td>17850</td>\n",
              "      <td>WHITE METAL LANTERN</td>\n",
              "    </tr>\n",
              "    <tr>\n",
              "      <th>2</th>\n",
              "      <td>536365</td>\n",
              "      <td>17850</td>\n",
              "      <td>CREAM CUPID HEARTS COAT HANGER</td>\n",
              "    </tr>\n",
              "    <tr>\n",
              "      <th>3</th>\n",
              "      <td>536365</td>\n",
              "      <td>17850</td>\n",
              "      <td>KNITTED UNION FLAG HOT WATER BOTTLE</td>\n",
              "    </tr>\n",
              "    <tr>\n",
              "      <th>4</th>\n",
              "      <td>536365</td>\n",
              "      <td>17850</td>\n",
              "      <td>RED WOOLLY HOTTIE WHITE HEART.</td>\n",
              "    </tr>\n",
              "    <tr>\n",
              "      <th>...</th>\n",
              "      <td>...</td>\n",
              "      <td>...</td>\n",
              "      <td>...</td>\n",
              "    </tr>\n",
              "    <tr>\n",
              "      <th>540449</th>\n",
              "      <td>C581490</td>\n",
              "      <td>14397</td>\n",
              "      <td>ZINC T-LIGHT HOLDER STARS SMALL</td>\n",
              "    </tr>\n",
              "    <tr>\n",
              "      <th>541541</th>\n",
              "      <td>C581499</td>\n",
              "      <td>15498</td>\n",
              "      <td>Manual</td>\n",
              "    </tr>\n",
              "    <tr>\n",
              "      <th>541715</th>\n",
              "      <td>C581568</td>\n",
              "      <td>15311</td>\n",
              "      <td>VICTORIAN SEWING BOX LARGE</td>\n",
              "    </tr>\n",
              "    <tr>\n",
              "      <th>541716</th>\n",
              "      <td>C581569</td>\n",
              "      <td>17315</td>\n",
              "      <td>HANGING HEART JAR T-LIGHT HOLDER</td>\n",
              "    </tr>\n",
              "    <tr>\n",
              "      <th>541717</th>\n",
              "      <td>C581569</td>\n",
              "      <td>17315</td>\n",
              "      <td>36 PENCILS TUBE RED RETROSPOT</td>\n",
              "    </tr>\n",
              "  </tbody>\n",
              "</table>\n",
              "<p>540453 rows × 3 columns</p>\n",
              "</div>"
            ],
            "text/plain": [
              "       InvoiceNo  CustomerID                          Description\n",
              "0         536365       17850   WHITE HANGING HEART T-LIGHT HOLDER\n",
              "1         536365       17850                  WHITE METAL LANTERN\n",
              "2         536365       17850       CREAM CUPID HEARTS COAT HANGER\n",
              "3         536365       17850  KNITTED UNION FLAG HOT WATER BOTTLE\n",
              "4         536365       17850       RED WOOLLY HOTTIE WHITE HEART.\n",
              "...          ...         ...                                  ...\n",
              "540449   C581490       14397      ZINC T-LIGHT HOLDER STARS SMALL\n",
              "541541   C581499       15498                               Manual\n",
              "541715   C581568       15311           VICTORIAN SEWING BOX LARGE\n",
              "541716   C581569       17315     HANGING HEART JAR T-LIGHT HOLDER\n",
              "541717   C581569       17315        36 PENCILS TUBE RED RETROSPOT\n",
              "\n",
              "[540453 rows x 3 columns]"
            ]
          },
          "metadata": {
            "tags": []
          },
          "execution_count": 26
        }
      ]
    },
    {
      "cell_type": "markdown",
      "metadata": {
        "id": "gdt0DlIZJqbP"
      },
      "source": [
        "### Fecha"
      ]
    },
    {
      "cell_type": "code",
      "metadata": {
        "colab": {
          "base_uri": "https://localhost:8080/"
        },
        "id": "FEsgNsdCKkbT",
        "outputId": "c53a0896-b09e-4336-b8b8-aacae4f8d8ce"
      },
      "source": [
        "print('Min date ',retail['date'].min())\n",
        "print('Max date  ', retail['date'].max())"
      ],
      "execution_count": null,
      "outputs": [
        {
          "output_type": "stream",
          "text": [
            "Min date  2010-12-01 08:26:00\n",
            "Max date   2011-12-09 12:50:00\n"
          ],
          "name": "stdout"
        }
      ]
    },
    {
      "cell_type": "markdown",
      "metadata": {
        "id": "Yuec0YUOK13K"
      },
      "source": [
        "Podemos observar que los datos corresponden a poco mas de un año, dado que el ultimo mes no esta completo y probablemente hagamos agregaciones a nivel mensula conviene quitarlo para evitar confusiones.  \n",
        "**Nota**: Podriamos agregar el corte en la aprte de ETL o aqui."
      ]
    },
    {
      "cell_type": "code",
      "metadata": {
        "id": "_jf3ayUXNmxU"
      },
      "source": [
        "retail = retail[retail['date'] < pd.to_datetime('2011-12-01')]"
      ],
      "execution_count": null,
      "outputs": []
    },
    {
      "cell_type": "code",
      "metadata": {
        "colab": {
          "base_uri": "https://localhost:8080/",
          "height": 303
        },
        "id": "e7g8XznLOjSb",
        "outputId": "fec4962d-44af-4b4d-a9a6-83af0a90dc35"
      },
      "source": [
        "fechas = retail[['date']].drop_duplicates()\n",
        "fechas['indicadora'] = 5\n",
        "sns.lineplot(data=fechas, x='date', y='indicadora')"
      ],
      "execution_count": null,
      "outputs": [
        {
          "output_type": "execute_result",
          "data": {
            "text/plain": [
              "<matplotlib.axes._subplots.AxesSubplot at 0x7f90563acd10>"
            ]
          },
          "metadata": {
            "tags": []
          },
          "execution_count": 29
        },
        {
          "output_type": "display_data",
          "data": {
            "image/png": "[encoded data removed]",
            "text/plain": [
              "<Figure size 432x288 with 1 Axes>"
            ]
          },
          "metadata": {
            "tags": [],
            "needs_background": "light"
          }
        }
      ]
    },
    {
      "cell_type": "markdown",
      "metadata": {
        "id": "OLYEThinZA-n"
      },
      "source": [
        "### Country"
      ]
    },
    {
      "cell_type": "markdown",
      "metadata": {
        "id": "fgbZ0bzNQuhq"
      },
      "source": [
        "## EDA Metricas"
      ]
    },
    {
      "cell_type": "markdown",
      "metadata": {
        "id": "aHA0W5QPpcKt"
      },
      "source": [
        "### Pais  \n",
        "Esto realmente tebdria que ir en el ETL, pero dado que queriamos entender de manera general el contenido de las columans, preferimos analizarlo asi."
      ]
    },
    {
      "cell_type": "markdown",
      "metadata": {
        "id": "yQQ53wnEZM1y"
      },
      "source": [
        "Para facilitar el analisis nos concentraremos en UK unicamente, pues es el que tiene mas datos (ve las siguientes celdas)"
      ]
    },
    {
      "cell_type": "code",
      "metadata": {
        "colab": {
          "base_uri": "https://localhost:8080/"
        },
        "id": "IAjnZCOqZV0L",
        "outputId": "dc87b382-feb0-4159-d7ec-90aa7c586dd6"
      },
      "source": [
        "retail['Country'].unique()"
      ],
      "execution_count": null,
      "outputs": [
        {
          "output_type": "execute_result",
          "data": {
            "text/plain": [
              "array(['United Kingdom', 'France', 'Australia', 'Netherlands', 'Germany',\n",
              "       'Norway', 'EIRE', 'Switzerland', 'Spain', 'Poland', 'Portugal',\n",
              "       'Italy', 'Belgium', 'Lithuania', 'Japan', 'Iceland',\n",
              "       'Channel Islands', 'Denmark', 'Cyprus', 'Sweden', 'Austria',\n",
              "       'Israel', 'Finland', 'Bahrain', 'Greece', 'Hong Kong', 'Singapore',\n",
              "       'Lebanon', 'United Arab Emirates', 'Saudi Arabia',\n",
              "       'Czech Republic', 'Canada', 'Unspecified', 'Brazil', 'USA',\n",
              "       'European Community', 'Malta', 'RSA'], dtype=object)"
            ]
          },
          "metadata": {
            "tags": []
          },
          "execution_count": 30
        }
      ]
    },
    {
      "cell_type": "code",
      "metadata": {
        "colab": {
          "base_uri": "https://localhost:8080/",
          "height": 1000
        },
        "id": "LMPp_B6EZXGX",
        "outputId": "2602f44f-e7e8-4d9b-d42d-15cd3ec3523a"
      },
      "source": [
        "retail[['Country', 'InvoiceNo']].drop_duplicates().groupby('Country', as_index=False)['InvoiceNo'].count().sort_values('InvoiceNo', ascending=False)"
      ],
      "execution_count": null,
      "outputs": [
        {
          "output_type": "execute_result",
          "data": {
            "text/html": [
              "<div>\n",
              "<style scoped>\n",
              "    .dataframe tbody tr th:only-of-type {\n",
              "        vertical-align: middle;\n",
              "    }\n",
              "\n",
              "    .dataframe tbody tr th {\n",
              "        vertical-align: top;\n",
              "    }\n",
              "\n",
              "    .dataframe thead th {\n",
              "        text-align: right;\n",
              "    }\n",
              "</style>\n",
              "<table border=\"1\" class=\"dataframe\">\n",
              "  <thead>\n",
              "    <tr style=\"text-align: right;\">\n",
              "      <th></th>\n",
              "      <th>Country</th>\n",
              "      <th>InvoiceNo</th>\n",
              "    </tr>\n",
              "  </thead>\n",
              "  <tbody>\n",
              "    <tr>\n",
              "      <th>36</th>\n",
              "      <td>United Kingdom</td>\n",
              "      <td>21131</td>\n",
              "    </tr>\n",
              "    <tr>\n",
              "      <th>14</th>\n",
              "      <td>Germany</td>\n",
              "      <td>581</td>\n",
              "    </tr>\n",
              "    <tr>\n",
              "      <th>13</th>\n",
              "      <td>France</td>\n",
              "      <td>440</td>\n",
              "    </tr>\n",
              "    <tr>\n",
              "      <th>10</th>\n",
              "      <td>EIRE</td>\n",
              "      <td>348</td>\n",
              "    </tr>\n",
              "    <tr>\n",
              "      <th>3</th>\n",
              "      <td>Belgium</td>\n",
              "      <td>114</td>\n",
              "    </tr>\n",
              "    <tr>\n",
              "      <th>31</th>\n",
              "      <td>Spain</td>\n",
              "      <td>102</td>\n",
              "    </tr>\n",
              "    <tr>\n",
              "      <th>24</th>\n",
              "      <td>Netherlands</td>\n",
              "      <td>98</td>\n",
              "    </tr>\n",
              "    <tr>\n",
              "      <th>33</th>\n",
              "      <td>Switzerland</td>\n",
              "      <td>74</td>\n",
              "    </tr>\n",
              "    <tr>\n",
              "      <th>0</th>\n",
              "      <td>Australia</td>\n",
              "      <td>69</td>\n",
              "    </tr>\n",
              "    <tr>\n",
              "      <th>27</th>\n",
              "      <td>Portugal</td>\n",
              "      <td>66</td>\n",
              "    </tr>\n",
              "    <tr>\n",
              "      <th>19</th>\n",
              "      <td>Italy</td>\n",
              "      <td>54</td>\n",
              "    </tr>\n",
              "    <tr>\n",
              "      <th>12</th>\n",
              "      <td>Finland</td>\n",
              "      <td>44</td>\n",
              "    </tr>\n",
              "    <tr>\n",
              "      <th>32</th>\n",
              "      <td>Sweden</td>\n",
              "      <td>44</td>\n",
              "    </tr>\n",
              "    <tr>\n",
              "      <th>25</th>\n",
              "      <td>Norway</td>\n",
              "      <td>37</td>\n",
              "    </tr>\n",
              "    <tr>\n",
              "      <th>6</th>\n",
              "      <td>Channel Islands</td>\n",
              "      <td>31</td>\n",
              "    </tr>\n",
              "    <tr>\n",
              "      <th>20</th>\n",
              "      <td>Japan</td>\n",
              "      <td>27</td>\n",
              "    </tr>\n",
              "    <tr>\n",
              "      <th>26</th>\n",
              "      <td>Poland</td>\n",
              "      <td>24</td>\n",
              "    </tr>\n",
              "    <tr>\n",
              "      <th>9</th>\n",
              "      <td>Denmark</td>\n",
              "      <td>20</td>\n",
              "    </tr>\n",
              "    <tr>\n",
              "      <th>7</th>\n",
              "      <td>Cyprus</td>\n",
              "      <td>19</td>\n",
              "    </tr>\n",
              "    <tr>\n",
              "      <th>1</th>\n",
              "      <td>Austria</td>\n",
              "      <td>18</td>\n",
              "    </tr>\n",
              "    <tr>\n",
              "      <th>16</th>\n",
              "      <td>Hong Kong</td>\n",
              "      <td>15</td>\n",
              "    </tr>\n",
              "    <tr>\n",
              "      <th>37</th>\n",
              "      <td>Unspecified</td>\n",
              "      <td>13</td>\n",
              "    </tr>\n",
              "    <tr>\n",
              "      <th>30</th>\n",
              "      <td>Singapore</td>\n",
              "      <td>10</td>\n",
              "    </tr>\n",
              "    <tr>\n",
              "      <th>23</th>\n",
              "      <td>Malta</td>\n",
              "      <td>9</td>\n",
              "    </tr>\n",
              "    <tr>\n",
              "      <th>18</th>\n",
              "      <td>Israel</td>\n",
              "      <td>9</td>\n",
              "    </tr>\n",
              "    <tr>\n",
              "      <th>17</th>\n",
              "      <td>Iceland</td>\n",
              "      <td>6</td>\n",
              "    </tr>\n",
              "    <tr>\n",
              "      <th>5</th>\n",
              "      <td>Canada</td>\n",
              "      <td>6</td>\n",
              "    </tr>\n",
              "    <tr>\n",
              "      <th>15</th>\n",
              "      <td>Greece</td>\n",
              "      <td>5</td>\n",
              "    </tr>\n",
              "    <tr>\n",
              "      <th>8</th>\n",
              "      <td>Czech Republic</td>\n",
              "      <td>5</td>\n",
              "    </tr>\n",
              "    <tr>\n",
              "      <th>11</th>\n",
              "      <td>European Community</td>\n",
              "      <td>5</td>\n",
              "    </tr>\n",
              "    <tr>\n",
              "      <th>22</th>\n",
              "      <td>Lithuania</td>\n",
              "      <td>4</td>\n",
              "    </tr>\n",
              "    <tr>\n",
              "      <th>34</th>\n",
              "      <td>USA</td>\n",
              "      <td>4</td>\n",
              "    </tr>\n",
              "    <tr>\n",
              "      <th>2</th>\n",
              "      <td>Bahrain</td>\n",
              "      <td>4</td>\n",
              "    </tr>\n",
              "    <tr>\n",
              "      <th>35</th>\n",
              "      <td>United Arab Emirates</td>\n",
              "      <td>3</td>\n",
              "    </tr>\n",
              "    <tr>\n",
              "      <th>29</th>\n",
              "      <td>Saudi Arabia</td>\n",
              "      <td>2</td>\n",
              "    </tr>\n",
              "    <tr>\n",
              "      <th>21</th>\n",
              "      <td>Lebanon</td>\n",
              "      <td>1</td>\n",
              "    </tr>\n",
              "    <tr>\n",
              "      <th>28</th>\n",
              "      <td>RSA</td>\n",
              "      <td>1</td>\n",
              "    </tr>\n",
              "    <tr>\n",
              "      <th>4</th>\n",
              "      <td>Brazil</td>\n",
              "      <td>1</td>\n",
              "    </tr>\n",
              "  </tbody>\n",
              "</table>\n",
              "</div>"
            ],
            "text/plain": [
              "                 Country  InvoiceNo\n",
              "36        United Kingdom      21131\n",
              "14               Germany        581\n",
              "13                France        440\n",
              "10                  EIRE        348\n",
              "3                Belgium        114\n",
              "31                 Spain        102\n",
              "24           Netherlands         98\n",
              "33           Switzerland         74\n",
              "0              Australia         69\n",
              "27              Portugal         66\n",
              "19                 Italy         54\n",
              "12               Finland         44\n",
              "32                Sweden         44\n",
              "25                Norway         37\n",
              "6        Channel Islands         31\n",
              "20                 Japan         27\n",
              "26                Poland         24\n",
              "9                Denmark         20\n",
              "7                 Cyprus         19\n",
              "1                Austria         18\n",
              "16             Hong Kong         15\n",
              "37           Unspecified         13\n",
              "30             Singapore         10\n",
              "23                 Malta          9\n",
              "18                Israel          9\n",
              "17               Iceland          6\n",
              "5                 Canada          6\n",
              "15                Greece          5\n",
              "8         Czech Republic          5\n",
              "11    European Community          5\n",
              "22             Lithuania          4\n",
              "34                   USA          4\n",
              "2                Bahrain          4\n",
              "35  United Arab Emirates          3\n",
              "29          Saudi Arabia          2\n",
              "21               Lebanon          1\n",
              "28                   RSA          1\n",
              "4                 Brazil          1"
            ]
          },
          "metadata": {
            "tags": []
          },
          "execution_count": 31
        }
      ]
    },
    {
      "cell_type": "code",
      "metadata": {
        "colab": {
          "base_uri": "https://localhost:8080/"
        },
        "id": "ocUUrHn5Z8dI",
        "outputId": "a7e8f2f0-b970-4b64-ae80-d76b6448c4f2"
      },
      "source": [
        "print(retail.shape)\n",
        "retail = retail[retail['Country']=='United Kingdom']\n",
        "print(retail.shape)"
      ],
      "execution_count": null,
      "outputs": [
        {
          "output_type": "stream",
          "text": [
            "(514943, 10)\n",
            "(470111, 10)\n"
          ],
          "name": "stdout"
        }
      ]
    },
    {
      "cell_type": "markdown",
      "metadata": {
        "id": "pf38TfHYp0ZQ"
      },
      "source": [
        "### **Tarea**"
      ]
    },
    {
      "cell_type": "markdown",
      "metadata": {
        "id": "bGVOP7tOp2UA"
      },
      "source": [
        "Parte de la tarea-evaluacion tendra que ver con estas metricas. Asegurate de entenderlas bien de manera intuitiva y practica!"
      ]
    },
    {
      "cell_type": "markdown",
      "metadata": {
        "id": "dpY5SL99Q35i"
      },
      "source": [
        "### Revenue"
      ]
    },
    {
      "cell_type": "code",
      "metadata": {
        "colab": {
          "base_uri": "https://localhost:8080/",
          "height": 112
        },
        "id": "R3EAZfG7Q5hS",
        "outputId": "acf3f7bf-35f7-4e56-c074-745cd05a8ef9"
      },
      "source": [
        "retail['revenue'] =  retail['UnitPrice'] * retail['Quantity']\n",
        "retail.head(2)"
      ],
      "execution_count": null,
      "outputs": [
        {
          "output_type": "execute_result",
          "data": {
            "text/html": [
              "<div>\n",
              "<style scoped>\n",
              "    .dataframe tbody tr th:only-of-type {\n",
              "        vertical-align: middle;\n",
              "    }\n",
              "\n",
              "    .dataframe tbody tr th {\n",
              "        vertical-align: top;\n",
              "    }\n",
              "\n",
              "    .dataframe thead th {\n",
              "        text-align: right;\n",
              "    }\n",
              "</style>\n",
              "<table border=\"1\" class=\"dataframe\">\n",
              "  <thead>\n",
              "    <tr style=\"text-align: right;\">\n",
              "      <th></th>\n",
              "      <th>InvoiceNo</th>\n",
              "      <th>StockCode</th>\n",
              "      <th>Description</th>\n",
              "      <th>Quantity</th>\n",
              "      <th>InvoiceDate</th>\n",
              "      <th>UnitPrice</th>\n",
              "      <th>CustomerID</th>\n",
              "      <th>Country</th>\n",
              "      <th>date</th>\n",
              "      <th>year_month</th>\n",
              "      <th>revenue</th>\n",
              "    </tr>\n",
              "  </thead>\n",
              "  <tbody>\n",
              "    <tr>\n",
              "      <th>0</th>\n",
              "      <td>536365</td>\n",
              "      <td>85123A</td>\n",
              "      <td>WHITE HANGING HEART T-LIGHT HOLDER</td>\n",
              "      <td>6</td>\n",
              "      <td>12/1/2010 8:26</td>\n",
              "      <td>2.55</td>\n",
              "      <td>17850</td>\n",
              "      <td>United Kingdom</td>\n",
              "      <td>2010-12-01 08:26:00</td>\n",
              "      <td>2010-12-31</td>\n",
              "      <td>15.30</td>\n",
              "    </tr>\n",
              "    <tr>\n",
              "      <th>1</th>\n",
              "      <td>536365</td>\n",
              "      <td>71053</td>\n",
              "      <td>WHITE METAL LANTERN</td>\n",
              "      <td>6</td>\n",
              "      <td>12/1/2010 8:26</td>\n",
              "      <td>3.39</td>\n",
              "      <td>17850</td>\n",
              "      <td>United Kingdom</td>\n",
              "      <td>2010-12-01 08:26:00</td>\n",
              "      <td>2010-12-31</td>\n",
              "      <td>20.34</td>\n",
              "    </tr>\n",
              "  </tbody>\n",
              "</table>\n",
              "</div>"
            ],
            "text/plain": [
              "  InvoiceNo StockCode  ... year_month  revenue\n",
              "0    536365    85123A  ... 2010-12-31    15.30\n",
              "1    536365     71053  ... 2010-12-31    20.34\n",
              "\n",
              "[2 rows x 11 columns]"
            ]
          },
          "metadata": {
            "tags": []
          },
          "execution_count": 33
        }
      ]
    },
    {
      "cell_type": "markdown",
      "metadata": {
        "id": "XmvOYLMpWv9A"
      },
      "source": [
        "### Monthly Revenue"
      ]
    },
    {
      "cell_type": "code",
      "metadata": {
        "colab": {
          "base_uri": "https://localhost:8080/",
          "height": 314
        },
        "id": "znqStOKfQwOs",
        "outputId": "2e25bde9-73d3-4682-ab40-098e645e74ca"
      },
      "source": [
        "mrevenue = retail.groupby('year_month', as_index=False)['revenue'].sum().sort_values('year_month', ascending=True)\n",
        "sns.lineplot(data=mrevenue, x='year_month', y='revenue')"
      ],
      "execution_count": null,
      "outputs": [
        {
          "output_type": "execute_result",
          "data": {
            "text/plain": [
              "<matplotlib.axes._subplots.AxesSubplot at 0x7f90562b3d90>"
            ]
          },
          "metadata": {
            "tags": []
          },
          "execution_count": 34
        },
        {
          "output_type": "display_data",
          "data": {
            "image/png": "[encoded data removed]",
            "text/plain": [
              "<Figure size 432x288 with 1 Axes>"
            ]
          },
          "metadata": {
            "tags": [],
            "needs_background": "light"
          }
        }
      ]
    },
    {
      "cell_type": "markdown",
      "metadata": {
        "id": "GwrwzTCjW9Ki"
      },
      "source": [
        "### Monthly Revenue Growth"
      ]
    },
    {
      "cell_type": "markdown",
      "metadata": {
        "id": "f90sXT69XwdS"
      },
      "source": [
        "Veamos cuanto han crecido las ventas mes a mes, esto nos puede ayudar a detectar patrones o anomalias."
      ]
    },
    {
      "cell_type": "code",
      "metadata": {
        "colab": {
          "base_uri": "https://localhost:8080/",
          "height": 303
        },
        "id": "wO-gUZTIXARf",
        "outputId": "931114cd-ee4e-48f0-bec6-f20bd206c340"
      },
      "source": [
        "mrevenue['monthly_growth'] = mrevenue['revenue'].pct_change()\n",
        "g = sns.lineplot(data=mrevenue, x='year_month', y='monthly_growth')\n",
        "g.axhline(0.0)"
      ],
      "execution_count": null,
      "outputs": [
        {
          "output_type": "execute_result",
          "data": {
            "text/plain": [
              "<matplotlib.lines.Line2D at 0x7f90562b3c90>"
            ]
          },
          "metadata": {
            "tags": []
          },
          "execution_count": 35
        },
        {
          "output_type": "display_data",
          "data": {
            "image/png": "[encoded data removed]",
            "text/plain": [
              "<Figure size 432x288 with 1 Axes>"
            ]
          },
          "metadata": {
            "tags": [],
            "needs_background": "light"
          }
        }
      ]
    },
    {
      "cell_type": "markdown",
      "metadata": {
        "id": "DgK2Ujk8X-na"
      },
      "source": [
        "### Monthly Orders"
      ]
    },
    {
      "cell_type": "markdown",
      "metadata": {
        "id": "tSDAfEriYDRf"
      },
      "source": [
        "Veamos cuantas compras/ordenes se hacen por mes"
      ]
    },
    {
      "cell_type": "code",
      "metadata": {
        "colab": {
          "base_uri": "https://localhost:8080/",
          "height": 303
        },
        "id": "y-IzW4EkYGKC",
        "outputId": "fdf59cb9-c24b-4bfd-92d1-a9e9cf85b057"
      },
      "source": [
        "morders = retail[['year_month','InvoiceNo']].drop_duplicates().groupby('year_month', \n",
        "        as_index=False)['InvoiceNo'].count().sort_values('year_month', ascending=True)\n",
        "sns.lineplot(data=morders, x='year_month', y='InvoiceNo')"
      ],
      "execution_count": null,
      "outputs": [
        {
          "output_type": "execute_result",
          "data": {
            "text/plain": [
              "<matplotlib.axes._subplots.AxesSubplot at 0x7f904d61c490>"
            ]
          },
          "metadata": {
            "tags": []
          },
          "execution_count": 36
        },
        {
          "output_type": "display_data",
          "data": {
            "image/png": "[encoded data removed]",
            "text/plain": [
              "<Figure size 432x288 with 1 Axes>"
            ]
          },
          "metadata": {
            "tags": [],
            "needs_background": "light"
          }
        }
      ]
    },
    {
      "cell_type": "markdown",
      "metadata": {
        "id": "dFxeX4mcbIuE"
      },
      "source": [
        "### Monthly Quantity"
      ]
    },
    {
      "cell_type": "markdown",
      "metadata": {
        "id": "OM-tDAZ3a49o"
      },
      "source": [
        "Ahora veamos cuantos articulos se venden por mes"
      ]
    },
    {
      "cell_type": "code",
      "metadata": {
        "colab": {
          "base_uri": "https://localhost:8080/",
          "height": 303
        },
        "id": "8rPbtL-ta8B_",
        "outputId": "91f9dbe5-f480-49e4-c8fc-ee54a01ee3e1"
      },
      "source": [
        "morders = retail[['year_month','Quantity']].groupby('year_month', \n",
        "        as_index=False)['Quantity'].sum().sort_values('year_month', ascending=True)\n",
        "sns.lineplot(data=morders, x='year_month', y='Quantity')"
      ],
      "execution_count": null,
      "outputs": [
        {
          "output_type": "execute_result",
          "data": {
            "text/plain": [
              "<matplotlib.axes._subplots.AxesSubplot at 0x7f90582ddad0>"
            ]
          },
          "metadata": {
            "tags": []
          },
          "execution_count": 37
        },
        {
          "output_type": "display_data",
          "data": {
            "image/png": "[encoded data removed]",
            "text/plain": [
              "<Figure size 432x288 with 1 Axes>"
            ]
          },
          "metadata": {
            "tags": [],
            "needs_background": "light"
          }
        }
      ]
    },
    {
      "cell_type": "markdown",
      "metadata": {
        "id": "AsxhKlPTbPzf"
      },
      "source": [
        "### Monthly Active Custumers"
      ]
    },
    {
      "cell_type": "code",
      "metadata": {
        "colab": {
          "base_uri": "https://localhost:8080/",
          "height": 206
        },
        "id": "bn3lA0YnbR-E",
        "outputId": "a86de360-b274-40a2-b10a-dacddfff5e7f"
      },
      "source": [
        "retail.head()"
      ],
      "execution_count": null,
      "outputs": [
        {
          "output_type": "execute_result",
          "data": {
            "text/html": [
              "<div>\n",
              "<style scoped>\n",
              "    .dataframe tbody tr th:only-of-type {\n",
              "        vertical-align: middle;\n",
              "    }\n",
              "\n",
              "    .dataframe tbody tr th {\n",
              "        vertical-align: top;\n",
              "    }\n",
              "\n",
              "    .dataframe thead th {\n",
              "        text-align: right;\n",
              "    }\n",
              "</style>\n",
              "<table border=\"1\" class=\"dataframe\">\n",
              "  <thead>\n",
              "    <tr style=\"text-align: right;\">\n",
              "      <th></th>\n",
              "      <th>InvoiceNo</th>\n",
              "      <th>StockCode</th>\n",
              "      <th>Description</th>\n",
              "      <th>Quantity</th>\n",
              "      <th>InvoiceDate</th>\n",
              "      <th>UnitPrice</th>\n",
              "      <th>CustomerID</th>\n",
              "      <th>Country</th>\n",
              "      <th>date</th>\n",
              "      <th>year_month</th>\n",
              "      <th>revenue</th>\n",
              "    </tr>\n",
              "  </thead>\n",
              "  <tbody>\n",
              "    <tr>\n",
              "      <th>0</th>\n",
              "      <td>536365</td>\n",
              "      <td>85123A</td>\n",
              "      <td>WHITE HANGING HEART T-LIGHT HOLDER</td>\n",
              "      <td>6</td>\n",
              "      <td>12/1/2010 8:26</td>\n",
              "      <td>2.55</td>\n",
              "      <td>17850</td>\n",
              "      <td>United Kingdom</td>\n",
              "      <td>2010-12-01 08:26:00</td>\n",
              "      <td>2010-12-31</td>\n",
              "      <td>15.30</td>\n",
              "    </tr>\n",
              "    <tr>\n",
              "      <th>1</th>\n",
              "      <td>536365</td>\n",
              "      <td>71053</td>\n",
              "      <td>WHITE METAL LANTERN</td>\n",
              "      <td>6</td>\n",
              "      <td>12/1/2010 8:26</td>\n",
              "      <td>3.39</td>\n",
              "      <td>17850</td>\n",
              "      <td>United Kingdom</td>\n",
              "      <td>2010-12-01 08:26:00</td>\n",
              "      <td>2010-12-31</td>\n",
              "      <td>20.34</td>\n",
              "    </tr>\n",
              "    <tr>\n",
              "      <th>2</th>\n",
              "      <td>536365</td>\n",
              "      <td>84406B</td>\n",
              "      <td>CREAM CUPID HEARTS COAT HANGER</td>\n",
              "      <td>8</td>\n",
              "      <td>12/1/2010 8:26</td>\n",
              "      <td>2.75</td>\n",
              "      <td>17850</td>\n",
              "      <td>United Kingdom</td>\n",
              "      <td>2010-12-01 08:26:00</td>\n",
              "      <td>2010-12-31</td>\n",
              "      <td>22.00</td>\n",
              "    </tr>\n",
              "    <tr>\n",
              "      <th>3</th>\n",
              "      <td>536365</td>\n",
              "      <td>84029G</td>\n",
              "      <td>KNITTED UNION FLAG HOT WATER BOTTLE</td>\n",
              "      <td>6</td>\n",
              "      <td>12/1/2010 8:26</td>\n",
              "      <td>3.39</td>\n",
              "      <td>17850</td>\n",
              "      <td>United Kingdom</td>\n",
              "      <td>2010-12-01 08:26:00</td>\n",
              "      <td>2010-12-31</td>\n",
              "      <td>20.34</td>\n",
              "    </tr>\n",
              "    <tr>\n",
              "      <th>4</th>\n",
              "      <td>536365</td>\n",
              "      <td>84029E</td>\n",
              "      <td>RED WOOLLY HOTTIE WHITE HEART.</td>\n",
              "      <td>6</td>\n",
              "      <td>12/1/2010 8:26</td>\n",
              "      <td>3.39</td>\n",
              "      <td>17850</td>\n",
              "      <td>United Kingdom</td>\n",
              "      <td>2010-12-01 08:26:00</td>\n",
              "      <td>2010-12-31</td>\n",
              "      <td>20.34</td>\n",
              "    </tr>\n",
              "  </tbody>\n",
              "</table>\n",
              "</div>"
            ],
            "text/plain": [
              "  InvoiceNo StockCode  ... year_month  revenue\n",
              "0    536365    85123A  ... 2010-12-31    15.30\n",
              "1    536365     71053  ... 2010-12-31    20.34\n",
              "2    536365    84406B  ... 2010-12-31    22.00\n",
              "3    536365    84029G  ... 2010-12-31    20.34\n",
              "4    536365    84029E  ... 2010-12-31    20.34\n",
              "\n",
              "[5 rows x 11 columns]"
            ]
          },
          "metadata": {
            "tags": []
          },
          "execution_count": 38
        }
      ]
    },
    {
      "cell_type": "code",
      "metadata": {
        "colab": {
          "base_uri": "https://localhost:8080/",
          "height": 303
        },
        "id": "rzog_T-0bUUo",
        "outputId": "62e727ff-c96a-4496-a6db-b870e776229d"
      },
      "source": [
        "mcustomer = retail[['year_month','CustomerID']].drop_duplicates().groupby('year_month', \n",
        "        as_index=False)['CustomerID'].count().sort_values('year_month', ascending=True)\n",
        "sns.lineplot(data=mcustomer, x='year_month', y='CustomerID')"
      ],
      "execution_count": null,
      "outputs": [
        {
          "output_type": "execute_result",
          "data": {
            "text/plain": [
              "<matplotlib.axes._subplots.AxesSubplot at 0x7f904d55ce90>"
            ]
          },
          "metadata": {
            "tags": []
          },
          "execution_count": 39
        },
        {
          "output_type": "display_data",
          "data": {
            "image/png": "[encoded data removed]",
            "text/plain": [
              "<Figure size 432x288 with 1 Axes>"
            ]
          },
          "metadata": {
            "tags": [],
            "needs_background": "light"
          }
        }
      ]
    },
    {
      "cell_type": "markdown",
      "metadata": {
        "id": "mg1GbXCOcE9b"
      },
      "source": [
        "### Monthly Customer Growth"
      ]
    },
    {
      "cell_type": "code",
      "metadata": {
        "colab": {
          "base_uri": "https://localhost:8080/",
          "height": 303
        },
        "id": "gtAFcSvfb0oM",
        "outputId": "76d94d56-1af3-4849-cb84-235314b748b5"
      },
      "source": [
        "mcustomer = mcustomer.sort_values('year_month', ascending=True)\n",
        "mcustomer['monthly_growth'] = mcustomer['CustomerID'].pct_change()\n",
        "g = sns.lineplot(data=mcustomer, x='year_month', y='monthly_growth')\n",
        "g.axhline(0.0)"
      ],
      "execution_count": null,
      "outputs": [
        {
          "output_type": "execute_result",
          "data": {
            "text/plain": [
              "<matplotlib.lines.Line2D at 0x7f904d5710d0>"
            ]
          },
          "metadata": {
            "tags": []
          },
          "execution_count": 40
        },
        {
          "output_type": "display_data",
          "data": {
            "image/png": "[encoded data removed]",
            "text/plain": [
              "<Figure size 432x288 with 1 Axes>"
            ]
          },
          "metadata": {
            "tags": [],
            "needs_background": "light"
          }
        }
      ]
    },
    {
      "cell_type": "markdown",
      "metadata": {
        "id": "hs2d4CBUcQs0"
      },
      "source": [
        "### Monthly Avg Revenue per Order"
      ]
    },
    {
      "cell_type": "code",
      "metadata": {
        "colab": {
          "base_uri": "https://localhost:8080/",
          "height": 303
        },
        "id": "eEMKqGmccV6w",
        "outputId": "9146008e-f7be-4f49-88ab-c2f8c726ae20"
      },
      "source": [
        "rorder = retail[['year_month', 'InvoiceNo', 'revenue']]\n",
        "# Colapsamos el revenue por Orden (InvoiceNo)\n",
        "rorder = rorder.groupby(['year_month', 'InvoiceNo'], as_index=False)['revenue'].sum()\n",
        "# Promedio por orden\n",
        "rorder = rorder.groupby('year_month', as_index=False)['revenue'].mean()\n",
        "sns.lineplot(data=rorder, x='year_month', y='revenue')"
      ],
      "execution_count": null,
      "outputs": [
        {
          "output_type": "execute_result",
          "data": {
            "text/plain": [
              "<matplotlib.axes._subplots.AxesSubplot at 0x7f904d4580d0>"
            ]
          },
          "metadata": {
            "tags": []
          },
          "execution_count": 41
        },
        {
          "output_type": "display_data",
          "data": {
            "image/png": "[encoded data removed]",
            "text/plain": [
              "<Figure size 432x288 with 1 Axes>"
            ]
          },
          "metadata": {
            "tags": [],
            "needs_background": "light"
          }
        }
      ]
    },
    {
      "cell_type": "code",
      "metadata": {
        "colab": {
          "base_uri": "https://localhost:8080/",
          "height": 300
        },
        "id": "O-1P89ywddG-",
        "outputId": "94337919-c2ff-460d-dec4-2adb33936af0"
      },
      "source": [
        "rorder.describe()"
      ],
      "execution_count": null,
      "outputs": [
        {
          "output_type": "execute_result",
          "data": {
            "text/html": [
              "<div>\n",
              "<style scoped>\n",
              "    .dataframe tbody tr th:only-of-type {\n",
              "        vertical-align: middle;\n",
              "    }\n",
              "\n",
              "    .dataframe tbody tr th {\n",
              "        vertical-align: top;\n",
              "    }\n",
              "\n",
              "    .dataframe thead th {\n",
              "        text-align: right;\n",
              "    }\n",
              "</style>\n",
              "<table border=\"1\" class=\"dataframe\">\n",
              "  <thead>\n",
              "    <tr style=\"text-align: right;\">\n",
              "      <th></th>\n",
              "      <th>revenue</th>\n",
              "    </tr>\n",
              "  </thead>\n",
              "  <tbody>\n",
              "    <tr>\n",
              "      <th>count</th>\n",
              "      <td>12.000000</td>\n",
              "    </tr>\n",
              "    <tr>\n",
              "      <th>mean</th>\n",
              "      <td>363.866436</td>\n",
              "    </tr>\n",
              "    <tr>\n",
              "      <th>std</th>\n",
              "      <td>38.765721</td>\n",
              "    </tr>\n",
              "    <tr>\n",
              "      <th>min</th>\n",
              "      <td>316.800889</td>\n",
              "    </tr>\n",
              "    <tr>\n",
              "      <th>25%</th>\n",
              "      <td>337.694391</td>\n",
              "    </tr>\n",
              "    <tr>\n",
              "      <th>50%</th>\n",
              "      <td>354.746385</td>\n",
              "    </tr>\n",
              "    <tr>\n",
              "      <th>75%</th>\n",
              "      <td>385.575400</td>\n",
              "    </tr>\n",
              "    <tr>\n",
              "      <th>max</th>\n",
              "      <td>432.957384</td>\n",
              "    </tr>\n",
              "  </tbody>\n",
              "</table>\n",
              "</div>"
            ],
            "text/plain": [
              "          revenue\n",
              "count   12.000000\n",
              "mean   363.866436\n",
              "std     38.765721\n",
              "min    316.800889\n",
              "25%    337.694391\n",
              "50%    354.746385\n",
              "75%    385.575400\n",
              "max    432.957384"
            ]
          },
          "metadata": {
            "tags": []
          },
          "execution_count": 42
        }
      ]
    },
    {
      "cell_type": "markdown",
      "metadata": {
        "id": "zsl4S1mjc1VX"
      },
      "source": [
        "Por ahora, solo hemos utilizado recursos graficos, pero recuerda que existe el metodo `.describe()`. Observa como la compra promedio por mes es bastante estable"
      ]
    },
    {
      "cell_type": "markdown",
      "metadata": {
        "id": "A3i2dfwAqJbf"
      },
      "source": [
        "### Monthly Retention Rate"
      ]
    },
    {
      "cell_type": "markdown",
      "metadata": {
        "id": "d5YBbc19qcbY"
      },
      "source": [
        "**Monthly Retention Rate**:= Cuantos clientes (customers) que estuvieron activos el mes pasado siguieron activos el siguiente mes."
      ]
    },
    {
      "cell_type": "markdown",
      "metadata": {
        "id": "lSnPdDCixaU9"
      },
      "source": [
        "`crosstab`:= https://pandas.pydata.org/docs/reference/api/pandas.crosstab.html"
      ]
    },
    {
      "cell_type": "code",
      "metadata": {
        "colab": {
          "base_uri": "https://localhost:8080/",
          "height": 223
        },
        "id": "a00TQxUTqNL9",
        "outputId": "f52eece3-2e91-4c38-f981-be1c3c995781"
      },
      "source": [
        "crevenue = retail.sort_values('year_month', ascending=True).groupby(['CustomerID','year_month'], as_index=False)['revenue'].sum()\n",
        "retention = pd.crosstab(crevenue['CustomerID'], crevenue['year_month']).reset_index()\n",
        "retention.head()"
      ],
      "execution_count": null,
      "outputs": [
        {
          "output_type": "execute_result",
          "data": {
            "text/html": [
              "<div>\n",
              "<style scoped>\n",
              "    .dataframe tbody tr th:only-of-type {\n",
              "        vertical-align: middle;\n",
              "    }\n",
              "\n",
              "    .dataframe tbody tr th {\n",
              "        vertical-align: top;\n",
              "    }\n",
              "\n",
              "    .dataframe thead th {\n",
              "        text-align: right;\n",
              "    }\n",
              "</style>\n",
              "<table border=\"1\" class=\"dataframe\">\n",
              "  <thead>\n",
              "    <tr style=\"text-align: right;\">\n",
              "      <th>year_month</th>\n",
              "      <th>CustomerID</th>\n",
              "      <th>2010-12-31 00:00:00</th>\n",
              "      <th>2011-01-31 00:00:00</th>\n",
              "      <th>2011-02-28 00:00:00</th>\n",
              "      <th>2011-03-31 00:00:00</th>\n",
              "      <th>2011-04-30 00:00:00</th>\n",
              "      <th>2011-05-31 00:00:00</th>\n",
              "      <th>2011-06-30 00:00:00</th>\n",
              "      <th>2011-07-31 00:00:00</th>\n",
              "      <th>2011-08-31 00:00:00</th>\n",
              "      <th>2011-09-30 00:00:00</th>\n",
              "      <th>2011-10-31 00:00:00</th>\n",
              "      <th>2011-11-30 00:00:00</th>\n",
              "    </tr>\n",
              "  </thead>\n",
              "  <tbody>\n",
              "    <tr>\n",
              "      <th>0</th>\n",
              "      <td>-1</td>\n",
              "      <td>1</td>\n",
              "      <td>1</td>\n",
              "      <td>1</td>\n",
              "      <td>1</td>\n",
              "      <td>1</td>\n",
              "      <td>1</td>\n",
              "      <td>1</td>\n",
              "      <td>1</td>\n",
              "      <td>1</td>\n",
              "      <td>1</td>\n",
              "      <td>1</td>\n",
              "      <td>1</td>\n",
              "    </tr>\n",
              "    <tr>\n",
              "      <th>1</th>\n",
              "      <td>12346</td>\n",
              "      <td>0</td>\n",
              "      <td>1</td>\n",
              "      <td>0</td>\n",
              "      <td>0</td>\n",
              "      <td>0</td>\n",
              "      <td>0</td>\n",
              "      <td>0</td>\n",
              "      <td>0</td>\n",
              "      <td>0</td>\n",
              "      <td>0</td>\n",
              "      <td>0</td>\n",
              "      <td>0</td>\n",
              "    </tr>\n",
              "    <tr>\n",
              "      <th>2</th>\n",
              "      <td>12747</td>\n",
              "      <td>1</td>\n",
              "      <td>1</td>\n",
              "      <td>0</td>\n",
              "      <td>1</td>\n",
              "      <td>0</td>\n",
              "      <td>1</td>\n",
              "      <td>1</td>\n",
              "      <td>0</td>\n",
              "      <td>1</td>\n",
              "      <td>0</td>\n",
              "      <td>1</td>\n",
              "      <td>1</td>\n",
              "    </tr>\n",
              "    <tr>\n",
              "      <th>3</th>\n",
              "      <td>12748</td>\n",
              "      <td>1</td>\n",
              "      <td>1</td>\n",
              "      <td>1</td>\n",
              "      <td>1</td>\n",
              "      <td>1</td>\n",
              "      <td>1</td>\n",
              "      <td>1</td>\n",
              "      <td>1</td>\n",
              "      <td>1</td>\n",
              "      <td>1</td>\n",
              "      <td>1</td>\n",
              "      <td>1</td>\n",
              "    </tr>\n",
              "    <tr>\n",
              "      <th>4</th>\n",
              "      <td>12749</td>\n",
              "      <td>0</td>\n",
              "      <td>0</td>\n",
              "      <td>0</td>\n",
              "      <td>0</td>\n",
              "      <td>0</td>\n",
              "      <td>1</td>\n",
              "      <td>0</td>\n",
              "      <td>0</td>\n",
              "      <td>1</td>\n",
              "      <td>0</td>\n",
              "      <td>0</td>\n",
              "      <td>1</td>\n",
              "    </tr>\n",
              "  </tbody>\n",
              "</table>\n",
              "</div>"
            ],
            "text/plain": [
              "year_month  CustomerID  ...  2011-11-30 00:00:00\n",
              "0                   -1  ...                    1\n",
              "1                12346  ...                    0\n",
              "2                12747  ...                    1\n",
              "3                12748  ...                    1\n",
              "4                12749  ...                    1\n",
              "\n",
              "[5 rows x 13 columns]"
            ]
          },
          "metadata": {
            "tags": []
          },
          "execution_count": 43
        }
      ]
    },
    {
      "cell_type": "code",
      "metadata": {
        "colab": {
          "base_uri": "https://localhost:8080/",
          "height": 206
        },
        "id": "fnx0WtvgyA_3",
        "outputId": "6ef06678-3b5d-4c5c-821e-f7c26bd4c3ba"
      },
      "source": [
        "### Loop para calcular la metrica\n",
        "mes = retention.columns[2:]\n",
        "retention_df = []\n",
        "for m in range(len(mes)-1):\n",
        "    retention_ = {}\n",
        "    mes_actual = mes[m+1]\n",
        "    mes_anterior = mes[m]\n",
        "    retention_['year_month'] = mes_actual\n",
        "    retention_['total_users'] = retention[mes_actual].sum()\n",
        "    retention_['users_retained'] = retention[(retention[mes_actual]>0) & \n",
        "                                (retention[mes_anterior]>0)][mes_actual].sum()\n",
        "    retention_df.append(retention_)\n",
        "retention_df = pd.DataFrame(retention_df)\n",
        "\n",
        "### Creamos la Metrica\n",
        "retention_df['retention_rate'] = retention_df['users_retained']/retention_df['total_users']\n",
        "retention_df.head()"
      ],
      "execution_count": null,
      "outputs": [
        {
          "output_type": "execute_result",
          "data": {
            "text/html": [
              "<div>\n",
              "<style scoped>\n",
              "    .dataframe tbody tr th:only-of-type {\n",
              "        vertical-align: middle;\n",
              "    }\n",
              "\n",
              "    .dataframe tbody tr th {\n",
              "        vertical-align: top;\n",
              "    }\n",
              "\n",
              "    .dataframe thead th {\n",
              "        text-align: right;\n",
              "    }\n",
              "</style>\n",
              "<table border=\"1\" class=\"dataframe\">\n",
              "  <thead>\n",
              "    <tr style=\"text-align: right;\">\n",
              "      <th></th>\n",
              "      <th>year_month</th>\n",
              "      <th>total_users</th>\n",
              "      <th>users_retained</th>\n",
              "      <th>retention_rate</th>\n",
              "    </tr>\n",
              "  </thead>\n",
              "  <tbody>\n",
              "    <tr>\n",
              "      <th>0</th>\n",
              "      <td>2011-02-28</td>\n",
              "      <td>715</td>\n",
              "      <td>264</td>\n",
              "      <td>0.369231</td>\n",
              "    </tr>\n",
              "    <tr>\n",
              "      <th>1</th>\n",
              "      <td>2011-03-31</td>\n",
              "      <td>924</td>\n",
              "      <td>306</td>\n",
              "      <td>0.331169</td>\n",
              "    </tr>\n",
              "    <tr>\n",
              "      <th>2</th>\n",
              "      <td>2011-04-30</td>\n",
              "      <td>818</td>\n",
              "      <td>311</td>\n",
              "      <td>0.380196</td>\n",
              "    </tr>\n",
              "    <tr>\n",
              "      <th>3</th>\n",
              "      <td>2011-05-31</td>\n",
              "      <td>986</td>\n",
              "      <td>370</td>\n",
              "      <td>0.375254</td>\n",
              "    </tr>\n",
              "    <tr>\n",
              "      <th>4</th>\n",
              "      <td>2011-06-30</td>\n",
              "      <td>944</td>\n",
              "      <td>418</td>\n",
              "      <td>0.442797</td>\n",
              "    </tr>\n",
              "  </tbody>\n",
              "</table>\n",
              "</div>"
            ],
            "text/plain": [
              "  year_month  total_users  users_retained  retention_rate\n",
              "0 2011-02-28          715             264        0.369231\n",
              "1 2011-03-31          924             306        0.331169\n",
              "2 2011-04-30          818             311        0.380196\n",
              "3 2011-05-31          986             370        0.375254\n",
              "4 2011-06-30          944             418        0.442797"
            ]
          },
          "metadata": {
            "tags": []
          },
          "execution_count": 44
        }
      ]
    },
    {
      "cell_type": "code",
      "metadata": {
        "colab": {
          "base_uri": "https://localhost:8080/",
          "height": 303
        },
        "id": "1qXBITgn1ZqP",
        "outputId": "6a219066-e6fa-48bc-a882-33645e180b56"
      },
      "source": [
        "sns.lineplot(data=retention_df, x='year_month', y='users_retained')"
      ],
      "execution_count": null,
      "outputs": [
        {
          "output_type": "execute_result",
          "data": {
            "text/plain": [
              "<matplotlib.axes._subplots.AxesSubplot at 0x7f904d436610>"
            ]
          },
          "metadata": {
            "tags": []
          },
          "execution_count": 45
        },
        {
          "output_type": "display_data",
          "data": {
            "image/png": "[encoded data removed]",
            "text/plain": [
              "<Figure size 432x288 with 1 Axes>"
            ]
          },
          "metadata": {
            "tags": [],
            "needs_background": "light"
          }
        }
      ]
    },
    {
      "cell_type": "code",
      "metadata": {
        "colab": {
          "base_uri": "https://localhost:8080/",
          "height": 303
        },
        "id": "9K674aghz7m7",
        "outputId": "709c877a-239c-4d77-8d9c-b514c8a2d0d2"
      },
      "source": [
        "sns.lineplot(data=retention_df, x='year_month', y='retention_rate')"
      ],
      "execution_count": null,
      "outputs": [
        {
          "output_type": "execute_result",
          "data": {
            "text/plain": [
              "<matplotlib.axes._subplots.AxesSubplot at 0x7f904d4bd790>"
            ]
          },
          "metadata": {
            "tags": []
          },
          "execution_count": 46
        },
        {
          "output_type": "display_data",
          "data": {
            "image/png": "[encoded data removed]",
            "text/plain": [
              "<Figure size 432x288 with 1 Axes>"
            ]
          },
          "metadata": {
            "tags": [],
            "needs_background": "light"
          }
        }
      ]
    },
    {
      "cell_type": "markdown",
      "metadata": {
        "id": "mMl5I8AC0Mk9"
      },
      "source": [
        "### Cohort Initial Retention Rate (Tarea)"
      ]
    },
    {
      "cell_type": "markdown",
      "metadata": {
        "id": "-8PIdvhW39Td"
      },
      "source": [
        "**Tarea**  \n",
        "Entender el funcionamiento de los siguientes snippets de codigo"
      ]
    },
    {
      "cell_type": "markdown",
      "metadata": {
        "id": "9ANpdrIf0X32"
      },
      "source": [
        "**Cohort Initial Retention Rate**:= Numero de usuarios retenidos despues de su primera compra (por mes).  \n",
        "Cuantos usuarios compran el siguiente mes, dado que su primera compra fue el mes anterior."
      ]
    },
    {
      "cell_type": "markdown",
      "metadata": {
        "id": "O-sKCYxp3MNb"
      },
      "source": [
        "La siguiente celda esta basada en codigo de: https://stackoverflow.com/questions/20069009/pandas-get-topmost-n-records-within-each-group \n",
        "revisa la fuente para entender mejor su funcionamiento.  \n",
        "\n"
      ]
    },
    {
      "cell_type": "code",
      "metadata": {
        "colab": {
          "base_uri": "https://localhost:8080/"
        },
        "id": "5bjJXbex0mWB",
        "outputId": "821b0158-ea2e-4ea5-8efe-6ef7753bc89b"
      },
      "source": [
        "# Meses en los que puede ocurrir la siguiente compra para considerarse retenido\n",
        "cohort = 1\n",
        "# Fecha de Primera Compra\n",
        "primera_compra = crevenue.groupby('CustomerID', as_index=False)['year_month'].min()\n",
        "primera_compra.rename(columns={'year_month':'cohort_begg'},inplace=True)\n",
        "\n",
        "cohort_retention = crevenue.sort_values('year_month', ascending=True).groupby(\n",
        "    'CustomerID').head(cohort + cohort).sort_values(['CustomerID','year_month'])\n",
        "cohort_retention = cohort_retention[['CustomerID', 'year_month']]\n",
        "# Quedarse solo con las fechas de compra dentro de la venta del cohort\n",
        "cohort_retention = cohort_retention.merge(primera_compra, on='CustomerID')\n",
        "cohort_retention['cohort_end'] = cohort_retention['cohort_begg'] + pd.DateOffset(months=cohort)\n",
        "cohort_retention = cohort_retention[cohort_retention['year_month'] <= cohort_retention['cohort_end']]\n",
        "# Detectar retenidos\n",
        "compradores = cohort_retention.groupby(['CustomerID'], as_index=False)['year_month'].count()\n",
        "retenidos_cohort = compradores[compradores['year_month']>1]\n",
        "# Crear df con la ventana del cohort\n",
        "total_retenidos = retenidos_cohort['CustomerID'].shape[0] / compradores['CustomerID'].shape[0]\n",
        "total_retenidos"
      ],
      "execution_count": null,
      "outputs": [
        {
          "output_type": "execute_result",
          "data": {
            "text/plain": [
              "0.1792187898902221"
            ]
          },
          "metadata": {
            "tags": []
          },
          "execution_count": 142
        }
      ]
    },
    {
      "cell_type": "markdown",
      "metadata": {
        "id": "9ZGJmMS-MzRv"
      },
      "source": [
        "Si el valor de `year_month` en la siguiente celda es mayor a uno significa que el cliente compro denuevo en los siguientes n-meses (cohort), por lo que se considera retenido."
      ]
    },
    {
      "cell_type": "code",
      "metadata": {
        "colab": {
          "base_uri": "https://localhost:8080/",
          "height": 394
        },
        "id": "aXx0Pc7GJtPN",
        "outputId": "296ae94e-c1b3-429c-baea-a8c76be77789"
      },
      "source": [
        "cohort_mes = []\n",
        "# Fecha de Primera Compra\n",
        "primera_compra = crevenue.groupby('CustomerID', as_index=False)['year_month'].min()\n",
        "primera_compra.rename(columns={'year_month':'cohort_begg'},inplace=True)\n",
        "for c in range(1,12):\n",
        "  cohort_retention = crevenue.sort_values('year_month', ascending=True).groupby(\n",
        "    'CustomerID').head(cohort + c).sort_values(['CustomerID','year_month'])\n",
        "  cohort_retention = cohort_retention[['CustomerID', 'year_month']]\n",
        "  # Quedarse solo con las fechas de compra dentro de la venta del cohort\n",
        "  cohort_retention = cohort_retention.merge(primera_compra, on='CustomerID')\n",
        "  cohort_retention['cohort_end'] = cohort_retention['cohort_begg'] + pd.DateOffset(months=c)\n",
        "  cohort_retention = cohort_retention[cohort_retention['year_month'] <= cohort_retention['cohort_end']]\n",
        "  # Detectar retenidos\n",
        "  compradores = cohort_retention.groupby(['CustomerID'], as_index=False)['year_month'].count()\n",
        "  retenidos_cohort = compradores[compradores['year_month']>1]\n",
        "  # Crear df con la ventana del cohort\n",
        "  total_retenidos = retenidos_cohort['CustomerID'].shape[0] / compradores['CustomerID'].shape[0]\n",
        "  df_ = pd.DataFrame({'cohort':[c], 'retencion':[total_retenidos]})\n",
        "  cohort_mes.append(df_)\n",
        "\n",
        "cohort_mes = pd.concat(cohort_mes, ignore_index=True)\n",
        "cohort_mes"
      ],
      "execution_count": null,
      "outputs": [
        {
          "output_type": "execute_result",
          "data": {
            "text/html": [
              "<div>\n",
              "<style scoped>\n",
              "    .dataframe tbody tr th:only-of-type {\n",
              "        vertical-align: middle;\n",
              "    }\n",
              "\n",
              "    .dataframe tbody tr th {\n",
              "        vertical-align: top;\n",
              "    }\n",
              "\n",
              "    .dataframe thead th {\n",
              "        text-align: right;\n",
              "    }\n",
              "</style>\n",
              "<table border=\"1\" class=\"dataframe\">\n",
              "  <thead>\n",
              "    <tr style=\"text-align: right;\">\n",
              "      <th></th>\n",
              "      <th>cohort</th>\n",
              "      <th>retencion</th>\n",
              "    </tr>\n",
              "  </thead>\n",
              "  <tbody>\n",
              "    <tr>\n",
              "      <th>0</th>\n",
              "      <td>1</td>\n",
              "      <td>0.179219</td>\n",
              "    </tr>\n",
              "    <tr>\n",
              "      <th>1</th>\n",
              "      <td>2</td>\n",
              "      <td>0.349502</td>\n",
              "    </tr>\n",
              "    <tr>\n",
              "      <th>2</th>\n",
              "      <td>3</td>\n",
              "      <td>0.421241</td>\n",
              "    </tr>\n",
              "    <tr>\n",
              "      <th>3</th>\n",
              "      <td>4</td>\n",
              "      <td>0.481491</td>\n",
              "    </tr>\n",
              "    <tr>\n",
              "      <th>4</th>\n",
              "      <td>5</td>\n",
              "      <td>0.531785</td>\n",
              "    </tr>\n",
              "    <tr>\n",
              "      <th>5</th>\n",
              "      <td>6</td>\n",
              "      <td>0.558591</td>\n",
              "    </tr>\n",
              "    <tr>\n",
              "      <th>6</th>\n",
              "      <td>7</td>\n",
              "      <td>0.578504</td>\n",
              "    </tr>\n",
              "    <tr>\n",
              "      <th>7</th>\n",
              "      <td>8</td>\n",
              "      <td>0.591779</td>\n",
              "    </tr>\n",
              "    <tr>\n",
              "      <th>8</th>\n",
              "      <td>9</td>\n",
              "      <td>0.602757</td>\n",
              "    </tr>\n",
              "    <tr>\n",
              "      <th>9</th>\n",
              "      <td>10</td>\n",
              "      <td>0.612714</td>\n",
              "    </tr>\n",
              "    <tr>\n",
              "      <th>10</th>\n",
              "      <td>11</td>\n",
              "      <td>0.621649</td>\n",
              "    </tr>\n",
              "  </tbody>\n",
              "</table>\n",
              "</div>"
            ],
            "text/plain": [
              "    cohort  retencion\n",
              "0        1   0.179219\n",
              "1        2   0.349502\n",
              "2        3   0.421241\n",
              "3        4   0.481491\n",
              "4        5   0.531785\n",
              "5        6   0.558591\n",
              "6        7   0.578504\n",
              "7        8   0.591779\n",
              "8        9   0.602757\n",
              "9       10   0.612714\n",
              "10      11   0.621649"
            ]
          },
          "metadata": {
            "tags": []
          },
          "execution_count": 136
        }
      ]
    },
    {
      "cell_type": "markdown",
      "metadata": {
        "id": "9Vti0o9e5GmT"
      },
      "source": [
        "Ahora modifiquemos lo anterior, de manera que para cada mes la ventana se vaya moviendo, utilizando `crosstab`."
      ]
    },
    {
      "cell_type": "code",
      "metadata": {
        "colab": {
          "base_uri": "https://localhost:8080/"
        },
        "id": "ILNkWpxB9yfs",
        "outputId": "982a3caf-0169-410b-8e4b-cf0b0fd0fce3"
      },
      "source": [
        "# cambiemos las fechas de mes y año por un identificador numerico\n",
        "crevenue['mes_int'] = crevenue['year_month'].apply(lambda x: x.year*100 + x.month)\n",
        "crevenue['mes_int'].unique()"
      ],
      "execution_count": null,
      "outputs": [
        {
          "output_type": "execute_result",
          "data": {
            "text/plain": [
              "array([201012, 201101, 201102, 201103, 201104, 201105, 201106, 201107,\n",
              "       201108, 201109, 201110, 201111])"
            ]
          },
          "metadata": {
            "tags": []
          },
          "execution_count": 49
        }
      ]
    },
    {
      "cell_type": "code",
      "metadata": {
        "colab": {
          "base_uri": "https://localhost:8080/",
          "height": 424
        },
        "id": "WvnOe1sl5bVU",
        "outputId": "2ce12c68-70e1-468d-af48-cff1bb91144d"
      },
      "source": [
        "# Usemos crosstab para manipular el dataframe\n",
        "df_retention = pd.crosstab(crevenue['CustomerID'], crevenue['mes_int']).reset_index()\n",
        "# Fecha de Primera compra por cliente\n",
        "first_purchase = crevenue.groupby('CustomerID',as_index=False)['mes_int'].min()\n",
        "first_purchase.rename(columns={'mes_int':'first_purchase'}, inplace=True)\n",
        "# Crear tabla indicadora de compras por cliente, y mes(columnas)\n",
        "df_retention = pd.merge(df_retention,first_purchase[['CustomerID','first_purchase']],on='CustomerID')\n",
        "cols = list(df_retention.columns[:-1])\n",
        "cols.append('first_purchase')\n",
        "df_retention.columns = cols\n",
        "df_retention"
      ],
      "execution_count": null,
      "outputs": [
        {
          "output_type": "execute_result",
          "data": {
            "text/html": [
              "<div>\n",
              "<style scoped>\n",
              "    .dataframe tbody tr th:only-of-type {\n",
              "        vertical-align: middle;\n",
              "    }\n",
              "\n",
              "    .dataframe tbody tr th {\n",
              "        vertical-align: top;\n",
              "    }\n",
              "\n",
              "    .dataframe thead th {\n",
              "        text-align: right;\n",
              "    }\n",
              "</style>\n",
              "<table border=\"1\" class=\"dataframe\">\n",
              "  <thead>\n",
              "    <tr style=\"text-align: right;\">\n",
              "      <th></th>\n",
              "      <th>CustomerID</th>\n",
              "      <th>201012</th>\n",
              "      <th>201101</th>\n",
              "      <th>201102</th>\n",
              "      <th>201103</th>\n",
              "      <th>201104</th>\n",
              "      <th>201105</th>\n",
              "      <th>201106</th>\n",
              "      <th>201107</th>\n",
              "      <th>201108</th>\n",
              "      <th>201109</th>\n",
              "      <th>201110</th>\n",
              "      <th>201111</th>\n",
              "      <th>first_purchase</th>\n",
              "    </tr>\n",
              "  </thead>\n",
              "  <tbody>\n",
              "    <tr>\n",
              "      <th>0</th>\n",
              "      <td>-1</td>\n",
              "      <td>1</td>\n",
              "      <td>1</td>\n",
              "      <td>1</td>\n",
              "      <td>1</td>\n",
              "      <td>1</td>\n",
              "      <td>1</td>\n",
              "      <td>1</td>\n",
              "      <td>1</td>\n",
              "      <td>1</td>\n",
              "      <td>1</td>\n",
              "      <td>1</td>\n",
              "      <td>1</td>\n",
              "      <td>201012</td>\n",
              "    </tr>\n",
              "    <tr>\n",
              "      <th>1</th>\n",
              "      <td>12346</td>\n",
              "      <td>0</td>\n",
              "      <td>1</td>\n",
              "      <td>0</td>\n",
              "      <td>0</td>\n",
              "      <td>0</td>\n",
              "      <td>0</td>\n",
              "      <td>0</td>\n",
              "      <td>0</td>\n",
              "      <td>0</td>\n",
              "      <td>0</td>\n",
              "      <td>0</td>\n",
              "      <td>0</td>\n",
              "      <td>201101</td>\n",
              "    </tr>\n",
              "    <tr>\n",
              "      <th>2</th>\n",
              "      <td>12747</td>\n",
              "      <td>1</td>\n",
              "      <td>1</td>\n",
              "      <td>0</td>\n",
              "      <td>1</td>\n",
              "      <td>0</td>\n",
              "      <td>1</td>\n",
              "      <td>1</td>\n",
              "      <td>0</td>\n",
              "      <td>1</td>\n",
              "      <td>0</td>\n",
              "      <td>1</td>\n",
              "      <td>1</td>\n",
              "      <td>201012</td>\n",
              "    </tr>\n",
              "    <tr>\n",
              "      <th>3</th>\n",
              "      <td>12748</td>\n",
              "      <td>1</td>\n",
              "      <td>1</td>\n",
              "      <td>1</td>\n",
              "      <td>1</td>\n",
              "      <td>1</td>\n",
              "      <td>1</td>\n",
              "      <td>1</td>\n",
              "      <td>1</td>\n",
              "      <td>1</td>\n",
              "      <td>1</td>\n",
              "      <td>1</td>\n",
              "      <td>1</td>\n",
              "      <td>201012</td>\n",
              "    </tr>\n",
              "    <tr>\n",
              "      <th>4</th>\n",
              "      <td>12749</td>\n",
              "      <td>0</td>\n",
              "      <td>0</td>\n",
              "      <td>0</td>\n",
              "      <td>0</td>\n",
              "      <td>0</td>\n",
              "      <td>1</td>\n",
              "      <td>0</td>\n",
              "      <td>0</td>\n",
              "      <td>1</td>\n",
              "      <td>0</td>\n",
              "      <td>0</td>\n",
              "      <td>1</td>\n",
              "      <td>201105</td>\n",
              "    </tr>\n",
              "    <tr>\n",
              "      <th>...</th>\n",
              "      <td>...</td>\n",
              "      <td>...</td>\n",
              "      <td>...</td>\n",
              "      <td>...</td>\n",
              "      <td>...</td>\n",
              "      <td>...</td>\n",
              "      <td>...</td>\n",
              "      <td>...</td>\n",
              "      <td>...</td>\n",
              "      <td>...</td>\n",
              "      <td>...</td>\n",
              "      <td>...</td>\n",
              "      <td>...</td>\n",
              "      <td>...</td>\n",
              "    </tr>\n",
              "    <tr>\n",
              "      <th>3912</th>\n",
              "      <td>18280</td>\n",
              "      <td>0</td>\n",
              "      <td>0</td>\n",
              "      <td>0</td>\n",
              "      <td>1</td>\n",
              "      <td>0</td>\n",
              "      <td>0</td>\n",
              "      <td>0</td>\n",
              "      <td>0</td>\n",
              "      <td>0</td>\n",
              "      <td>0</td>\n",
              "      <td>0</td>\n",
              "      <td>0</td>\n",
              "      <td>201103</td>\n",
              "    </tr>\n",
              "    <tr>\n",
              "      <th>3913</th>\n",
              "      <td>18281</td>\n",
              "      <td>0</td>\n",
              "      <td>0</td>\n",
              "      <td>0</td>\n",
              "      <td>0</td>\n",
              "      <td>0</td>\n",
              "      <td>0</td>\n",
              "      <td>1</td>\n",
              "      <td>0</td>\n",
              "      <td>0</td>\n",
              "      <td>0</td>\n",
              "      <td>0</td>\n",
              "      <td>0</td>\n",
              "      <td>201106</td>\n",
              "    </tr>\n",
              "    <tr>\n",
              "      <th>3914</th>\n",
              "      <td>18282</td>\n",
              "      <td>0</td>\n",
              "      <td>0</td>\n",
              "      <td>0</td>\n",
              "      <td>0</td>\n",
              "      <td>0</td>\n",
              "      <td>0</td>\n",
              "      <td>0</td>\n",
              "      <td>0</td>\n",
              "      <td>1</td>\n",
              "      <td>0</td>\n",
              "      <td>0</td>\n",
              "      <td>0</td>\n",
              "      <td>201108</td>\n",
              "    </tr>\n",
              "    <tr>\n",
              "      <th>3915</th>\n",
              "      <td>18283</td>\n",
              "      <td>0</td>\n",
              "      <td>1</td>\n",
              "      <td>1</td>\n",
              "      <td>0</td>\n",
              "      <td>1</td>\n",
              "      <td>1</td>\n",
              "      <td>1</td>\n",
              "      <td>1</td>\n",
              "      <td>0</td>\n",
              "      <td>1</td>\n",
              "      <td>1</td>\n",
              "      <td>1</td>\n",
              "      <td>201101</td>\n",
              "    </tr>\n",
              "    <tr>\n",
              "      <th>3916</th>\n",
              "      <td>18287</td>\n",
              "      <td>0</td>\n",
              "      <td>0</td>\n",
              "      <td>0</td>\n",
              "      <td>0</td>\n",
              "      <td>0</td>\n",
              "      <td>1</td>\n",
              "      <td>0</td>\n",
              "      <td>0</td>\n",
              "      <td>0</td>\n",
              "      <td>0</td>\n",
              "      <td>1</td>\n",
              "      <td>0</td>\n",
              "      <td>201105</td>\n",
              "    </tr>\n",
              "  </tbody>\n",
              "</table>\n",
              "<p>3917 rows × 14 columns</p>\n",
              "</div>"
            ],
            "text/plain": [
              "      CustomerID  201012  201101  ...  201110  201111  first_purchase\n",
              "0             -1       1       1  ...       1       1          201012\n",
              "1          12346       0       1  ...       0       0          201101\n",
              "2          12747       1       1  ...       1       1          201012\n",
              "3          12748       1       1  ...       1       1          201012\n",
              "4          12749       0       0  ...       0       1          201105\n",
              "...          ...     ...     ...  ...     ...     ...             ...\n",
              "3912       18280       0       0  ...       0       0          201103\n",
              "3913       18281       0       0  ...       0       0          201106\n",
              "3914       18282       0       0  ...       0       0          201108\n",
              "3915       18283       0       1  ...       1       1          201101\n",
              "3916       18287       0       0  ...       1       0          201105\n",
              "\n",
              "[3917 rows x 14 columns]"
            ]
          },
          "metadata": {
            "tags": []
          },
          "execution_count": 50
        }
      ]
    },
    {
      "cell_type": "code",
      "metadata": {
        "colab": {
          "base_uri": "https://localhost:8080/",
          "height": 426
        },
        "id": "RfSVZT5u7KSg",
        "outputId": "7b8972a6-ee41-4df8-b7da-97c05c56bb1d"
      },
      "source": [
        "# Iteremos sobre una ventana de cada mes, similar a als metricas \n",
        "# y secciones anteriores.\n",
        "meses = df_retention['first_purchase'].sort_values().unique()\n",
        "retention_cohort = []\n",
        "for m, _ in enumerate(meses):\n",
        "    retention_ = {}\n",
        "    selected_month = meses[m]\n",
        "    mes_actual = meses[m]\n",
        "    meses_anteriores = meses[:m]\n",
        "    meses_siguientes = meses[m+1:]\n",
        "\n",
        "    # Llenar de nans los meses anteriores, pues nadie compra antes de su primera compra\n",
        "    for prev_month in meses_anteriores:\n",
        "        retention_[prev_month] = np.nan\n",
        "        \n",
        "    usuarios_nuevos = df_retention[df_retention['first_purchase'] ==  int(mes_actual)]['first_purchase'].count()\n",
        "    retention_['usuarios_nuevos'] = usuarios_nuevos\n",
        "    retention_[mes_actual] = 1 \n",
        "    \n",
        "    query = \"first_purchase == {}\".format(mes_actual)\n",
        "    \n",
        "\n",
        "    for mes_siguiente in meses_siguientes:\n",
        "        query_ = query + \" and {} > 0\".format(mes_siguiente)\n",
        "        retention_[mes_siguiente] = df_retention.query(query_)[mes_siguiente].sum()/usuarios_nuevos\n",
        "    \n",
        "    retention_cohort.append(retention_)\n",
        "    \n",
        "retention_cohort = pd.DataFrame(retention_cohort)\n",
        "retention_cohort.index = meses\n",
        "\n",
        "#showing new cohort based retention table\n",
        "retention_cohort"
      ],
      "execution_count": null,
      "outputs": [
        {
          "output_type": "execute_result",
          "data": {
            "text/html": [
              "<div>\n",
              "<style scoped>\n",
              "    .dataframe tbody tr th:only-of-type {\n",
              "        vertical-align: middle;\n",
              "    }\n",
              "\n",
              "    .dataframe tbody tr th {\n",
              "        vertical-align: top;\n",
              "    }\n",
              "\n",
              "    .dataframe thead th {\n",
              "        text-align: right;\n",
              "    }\n",
              "</style>\n",
              "<table border=\"1\" class=\"dataframe\">\n",
              "  <thead>\n",
              "    <tr style=\"text-align: right;\">\n",
              "      <th></th>\n",
              "      <th>usuarios_nuevos</th>\n",
              "      <th>201012</th>\n",
              "      <th>201101</th>\n",
              "      <th>201102</th>\n",
              "      <th>201103</th>\n",
              "      <th>201104</th>\n",
              "      <th>201105</th>\n",
              "      <th>201106</th>\n",
              "      <th>201107</th>\n",
              "      <th>201108</th>\n",
              "      <th>201109</th>\n",
              "      <th>201110</th>\n",
              "      <th>201111</th>\n",
              "    </tr>\n",
              "  </thead>\n",
              "  <tbody>\n",
              "    <tr>\n",
              "      <th>201012</th>\n",
              "      <td>872</td>\n",
              "      <td>1.0</td>\n",
              "      <td>0.370413</td>\n",
              "      <td>0.334862</td>\n",
              "      <td>0.378440</td>\n",
              "      <td>0.354358</td>\n",
              "      <td>0.396789</td>\n",
              "      <td>0.376147</td>\n",
              "      <td>0.349771</td>\n",
              "      <td>0.352064</td>\n",
              "      <td>0.397936</td>\n",
              "      <td>0.368119</td>\n",
              "      <td>0.493119</td>\n",
              "    </tr>\n",
              "    <tr>\n",
              "      <th>201101</th>\n",
              "      <td>362</td>\n",
              "      <td>NaN</td>\n",
              "      <td>1.000000</td>\n",
              "      <td>0.232044</td>\n",
              "      <td>0.279006</td>\n",
              "      <td>0.245856</td>\n",
              "      <td>0.342541</td>\n",
              "      <td>0.292818</td>\n",
              "      <td>0.262431</td>\n",
              "      <td>0.259669</td>\n",
              "      <td>0.314917</td>\n",
              "      <td>0.350829</td>\n",
              "      <td>0.361878</td>\n",
              "    </tr>\n",
              "    <tr>\n",
              "      <th>201102</th>\n",
              "      <td>339</td>\n",
              "      <td>NaN</td>\n",
              "      <td>NaN</td>\n",
              "      <td>1.000000</td>\n",
              "      <td>0.250737</td>\n",
              "      <td>0.191740</td>\n",
              "      <td>0.280236</td>\n",
              "      <td>0.283186</td>\n",
              "      <td>0.253687</td>\n",
              "      <td>0.259587</td>\n",
              "      <td>0.283186</td>\n",
              "      <td>0.277286</td>\n",
              "      <td>0.312684</td>\n",
              "    </tr>\n",
              "    <tr>\n",
              "      <th>201103</th>\n",
              "      <td>408</td>\n",
              "      <td>NaN</td>\n",
              "      <td>NaN</td>\n",
              "      <td>NaN</td>\n",
              "      <td>1.000000</td>\n",
              "      <td>0.193627</td>\n",
              "      <td>0.262255</td>\n",
              "      <td>0.215686</td>\n",
              "      <td>0.232843</td>\n",
              "      <td>0.171569</td>\n",
              "      <td>0.262255</td>\n",
              "      <td>0.237745</td>\n",
              "      <td>0.291667</td>\n",
              "    </tr>\n",
              "    <tr>\n",
              "      <th>201104</th>\n",
              "      <td>276</td>\n",
              "      <td>NaN</td>\n",
              "      <td>NaN</td>\n",
              "      <td>NaN</td>\n",
              "      <td>NaN</td>\n",
              "      <td>1.000000</td>\n",
              "      <td>0.224638</td>\n",
              "      <td>0.221014</td>\n",
              "      <td>0.217391</td>\n",
              "      <td>0.206522</td>\n",
              "      <td>0.231884</td>\n",
              "      <td>0.231884</td>\n",
              "      <td>0.264493</td>\n",
              "    </tr>\n",
              "    <tr>\n",
              "      <th>201105</th>\n",
              "      <td>252</td>\n",
              "      <td>NaN</td>\n",
              "      <td>NaN</td>\n",
              "      <td>NaN</td>\n",
              "      <td>NaN</td>\n",
              "      <td>NaN</td>\n",
              "      <td>1.000000</td>\n",
              "      <td>0.230159</td>\n",
              "      <td>0.170635</td>\n",
              "      <td>0.170635</td>\n",
              "      <td>0.214286</td>\n",
              "      <td>0.238095</td>\n",
              "      <td>0.265873</td>\n",
              "    </tr>\n",
              "    <tr>\n",
              "      <th>201106</th>\n",
              "      <td>207</td>\n",
              "      <td>NaN</td>\n",
              "      <td>NaN</td>\n",
              "      <td>NaN</td>\n",
              "      <td>NaN</td>\n",
              "      <td>NaN</td>\n",
              "      <td>NaN</td>\n",
              "      <td>1.000000</td>\n",
              "      <td>0.212560</td>\n",
              "      <td>0.164251</td>\n",
              "      <td>0.246377</td>\n",
              "      <td>0.256039</td>\n",
              "      <td>0.323671</td>\n",
              "    </tr>\n",
              "    <tr>\n",
              "      <th>201107</th>\n",
              "      <td>172</td>\n",
              "      <td>NaN</td>\n",
              "      <td>NaN</td>\n",
              "      <td>NaN</td>\n",
              "      <td>NaN</td>\n",
              "      <td>NaN</td>\n",
              "      <td>NaN</td>\n",
              "      <td>NaN</td>\n",
              "      <td>1.000000</td>\n",
              "      <td>0.203488</td>\n",
              "      <td>0.191860</td>\n",
              "      <td>0.232558</td>\n",
              "      <td>0.279070</td>\n",
              "    </tr>\n",
              "    <tr>\n",
              "      <th>201108</th>\n",
              "      <td>140</td>\n",
              "      <td>NaN</td>\n",
              "      <td>NaN</td>\n",
              "      <td>NaN</td>\n",
              "      <td>NaN</td>\n",
              "      <td>NaN</td>\n",
              "      <td>NaN</td>\n",
              "      <td>NaN</td>\n",
              "      <td>NaN</td>\n",
              "      <td>1.000000</td>\n",
              "      <td>0.264286</td>\n",
              "      <td>0.228571</td>\n",
              "      <td>0.257143</td>\n",
              "    </tr>\n",
              "    <tr>\n",
              "      <th>201109</th>\n",
              "      <td>275</td>\n",
              "      <td>NaN</td>\n",
              "      <td>NaN</td>\n",
              "      <td>NaN</td>\n",
              "      <td>NaN</td>\n",
              "      <td>NaN</td>\n",
              "      <td>NaN</td>\n",
              "      <td>NaN</td>\n",
              "      <td>NaN</td>\n",
              "      <td>NaN</td>\n",
              "      <td>1.000000</td>\n",
              "      <td>0.290909</td>\n",
              "      <td>0.327273</td>\n",
              "    </tr>\n",
              "    <tr>\n",
              "      <th>201110</th>\n",
              "      <td>318</td>\n",
              "      <td>NaN</td>\n",
              "      <td>NaN</td>\n",
              "      <td>NaN</td>\n",
              "      <td>NaN</td>\n",
              "      <td>NaN</td>\n",
              "      <td>NaN</td>\n",
              "      <td>NaN</td>\n",
              "      <td>NaN</td>\n",
              "      <td>NaN</td>\n",
              "      <td>NaN</td>\n",
              "      <td>1.000000</td>\n",
              "      <td>0.270440</td>\n",
              "    </tr>\n",
              "    <tr>\n",
              "      <th>201111</th>\n",
              "      <td>296</td>\n",
              "      <td>NaN</td>\n",
              "      <td>NaN</td>\n",
              "      <td>NaN</td>\n",
              "      <td>NaN</td>\n",
              "      <td>NaN</td>\n",
              "      <td>NaN</td>\n",
              "      <td>NaN</td>\n",
              "      <td>NaN</td>\n",
              "      <td>NaN</td>\n",
              "      <td>NaN</td>\n",
              "      <td>NaN</td>\n",
              "      <td>1.000000</td>\n",
              "    </tr>\n",
              "  </tbody>\n",
              "</table>\n",
              "</div>"
            ],
            "text/plain": [
              "        usuarios_nuevos  201012    201101  ...    201109    201110    201111\n",
              "201012              872     1.0  0.370413  ...  0.397936  0.368119  0.493119\n",
              "201101              362     NaN  1.000000  ...  0.314917  0.350829  0.361878\n",
              "201102              339     NaN       NaN  ...  0.283186  0.277286  0.312684\n",
              "201103              408     NaN       NaN  ...  0.262255  0.237745  0.291667\n",
              "201104              276     NaN       NaN  ...  0.231884  0.231884  0.264493\n",
              "201105              252     NaN       NaN  ...  0.214286  0.238095  0.265873\n",
              "201106              207     NaN       NaN  ...  0.246377  0.256039  0.323671\n",
              "201107              172     NaN       NaN  ...  0.191860  0.232558  0.279070\n",
              "201108              140     NaN       NaN  ...  0.264286  0.228571  0.257143\n",
              "201109              275     NaN       NaN  ...  1.000000  0.290909  0.327273\n",
              "201110              318     NaN       NaN  ...       NaN  1.000000  0.270440\n",
              "201111              296     NaN       NaN  ...       NaN       NaN  1.000000\n",
              "\n",
              "[12 rows x 13 columns]"
            ]
          },
          "metadata": {
            "tags": []
          },
          "execution_count": 51
        }
      ]
    },
    {
      "cell_type": "markdown",
      "metadata": {
        "id": "SJ7ntel-NSN6"
      },
      "source": [
        "En esta caso vemos la tasa de retencion por mes de compra inicial."
      ]
    },
    {
      "cell_type": "markdown",
      "metadata": {
        "id": "5nOoPssfTNv8"
      },
      "source": [
        "# Segmentacion RMF"
      ]
    },
    {
      "cell_type": "markdown",
      "metadata": {
        "id": "i1uqmHNOUOy4"
      },
      "source": [
        "En esta parte de la clase segmentaremos a los usuarios basandonos en la metodologia RMF. Tambien podemos aplicar una varaicion, donde en vez de estimar por rango de cada variable R-M-F, utilizamos k-means sobre las tres variables normalizadas."
      ]
    },
    {
      "cell_type": "markdown",
      "metadata": {
        "id": "rti0NHFHTRFm"
      },
      "source": [
        "## EDA RMF"
      ]
    },
    {
      "cell_type": "markdown",
      "metadata": {
        "id": "YPc1UW1ITT0H"
      },
      "source": [
        "### Recency"
      ]
    },
    {
      "cell_type": "markdown",
      "metadata": {
        "id": "zajsLZWgVVan"
      },
      "source": [
        "Recency:= **Llena con tu definicion de Recency**"
      ]
    },
    {
      "cell_type": "code",
      "metadata": {
        "colab": {
          "base_uri": "https://localhost:8080/",
          "height": 424
        },
        "id": "Eb9aEsmETbx4",
        "outputId": "064177ad-2b9f-4950-ed75-cfdc7c36f747"
      },
      "source": [
        "recency = retail[['CustomerID', 'year_month']].groupby('CustomerID', as_index=False).max()\n",
        "recency"
      ],
      "execution_count": 146,
      "outputs": [
        {
          "output_type": "execute_result",
          "data": {
            "text/html": [
              "<div>\n",
              "<style scoped>\n",
              "    .dataframe tbody tr th:only-of-type {\n",
              "        vertical-align: middle;\n",
              "    }\n",
              "\n",
              "    .dataframe tbody tr th {\n",
              "        vertical-align: top;\n",
              "    }\n",
              "\n",
              "    .dataframe thead th {\n",
              "        text-align: right;\n",
              "    }\n",
              "</style>\n",
              "<table border=\"1\" class=\"dataframe\">\n",
              "  <thead>\n",
              "    <tr style=\"text-align: right;\">\n",
              "      <th></th>\n",
              "      <th>CustomerID</th>\n",
              "      <th>year_month</th>\n",
              "    </tr>\n",
              "  </thead>\n",
              "  <tbody>\n",
              "    <tr>\n",
              "      <th>0</th>\n",
              "      <td>-1</td>\n",
              "      <td>2011-11-30</td>\n",
              "    </tr>\n",
              "    <tr>\n",
              "      <th>1</th>\n",
              "      <td>12346</td>\n",
              "      <td>2011-01-31</td>\n",
              "    </tr>\n",
              "    <tr>\n",
              "      <th>2</th>\n",
              "      <td>12747</td>\n",
              "      <td>2011-11-30</td>\n",
              "    </tr>\n",
              "    <tr>\n",
              "      <th>3</th>\n",
              "      <td>12748</td>\n",
              "      <td>2011-11-30</td>\n",
              "    </tr>\n",
              "    <tr>\n",
              "      <th>4</th>\n",
              "      <td>12749</td>\n",
              "      <td>2011-11-30</td>\n",
              "    </tr>\n",
              "    <tr>\n",
              "      <th>...</th>\n",
              "      <td>...</td>\n",
              "      <td>...</td>\n",
              "    </tr>\n",
              "    <tr>\n",
              "      <th>3912</th>\n",
              "      <td>18280</td>\n",
              "      <td>2011-03-31</td>\n",
              "    </tr>\n",
              "    <tr>\n",
              "      <th>3913</th>\n",
              "      <td>18281</td>\n",
              "      <td>2011-06-30</td>\n",
              "    </tr>\n",
              "    <tr>\n",
              "      <th>3914</th>\n",
              "      <td>18282</td>\n",
              "      <td>2011-08-31</td>\n",
              "    </tr>\n",
              "    <tr>\n",
              "      <th>3915</th>\n",
              "      <td>18283</td>\n",
              "      <td>2011-11-30</td>\n",
              "    </tr>\n",
              "    <tr>\n",
              "      <th>3916</th>\n",
              "      <td>18287</td>\n",
              "      <td>2011-10-31</td>\n",
              "    </tr>\n",
              "  </tbody>\n",
              "</table>\n",
              "<p>3917 rows × 2 columns</p>\n",
              "</div>"
            ],
            "text/plain": [
              "      CustomerID year_month\n",
              "0             -1 2011-11-30\n",
              "1          12346 2011-01-31\n",
              "2          12747 2011-11-30\n",
              "3          12748 2011-11-30\n",
              "4          12749 2011-11-30\n",
              "...          ...        ...\n",
              "3912       18280 2011-03-31\n",
              "3913       18281 2011-06-30\n",
              "3914       18282 2011-08-31\n",
              "3915       18283 2011-11-30\n",
              "3916       18287 2011-10-31\n",
              "\n",
              "[3917 rows x 2 columns]"
            ]
          },
          "metadata": {
            "tags": []
          },
          "execution_count": 146
        }
      ]
    }
  ]
}