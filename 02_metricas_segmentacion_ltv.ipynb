{
  "nbformat": 4,
  "nbformat_minor": 0,
  "metadata": {
    "colab": {
      "name": "02_metricas_segmentacion_ltv.ipynb",
      "provenance": [],
      "collapsed_sections": [],
      "toc_visible": true,
      "authorship_tag": "ABX9TyMsT9QTG57beNKARNJnDkC7",
      "include_colab_link": true
    },
    "kernelspec": {
      "name": "python3",
      "display_name": "Python 3"
    }
  },
  "cells": [
    {
      "cell_type": "markdown",
      "metadata": {
        "id": "view-in-github",
        "colab_type": "text"
      },
      "source": [
        "<a href=\"https://colab.research.google.com/github/IEXE-Tec/mcda-marketing/blob/main/02_metricas_segmentacion_ltv.ipynb\" target=\"_parent\"><img src=\"https://colab.research.google.com/assets/colab-badge.svg\" alt=\"Open In Colab\"/></a>"
      ]
    },
    {
      "cell_type": "code",
      "metadata": {
        "id": "sfHzYC5FxMPx"
      },
      "source": [
        "import pandas as pd\n",
        "import numpy as np\n",
        "import matplotlib.pyplot as plt\n",
        "%matplotlib inline\n",
        "import seaborn as sns\n",
        "sns.set_style('darkgrid')\n",
        "sns.set(rc={'figure.figsize':(16,6)})\n",
        "\n",
        "# RMF\n",
        "from sklearn.cluster import KMeans\n",
        "from sklearn.preprocessing import MinMaxScaler, RobustScaler"
      ],
      "execution_count": 222,
      "outputs": []
    },
    {
      "cell_type": "markdown",
      "metadata": {
        "id": "jdXl15sjpvzm"
      },
      "source": [
        "# Objetivo"
      ]
    },
    {
      "cell_type": "markdown",
      "metadata": {
        "id": "MMN-m9jYpxkg"
      },
      "source": [
        "+ ETL & EDA de los datos de retail\n",
        "+ Segmentar Clientes\n",
        "+ Calcular el Customer Life Time Value (LTV)"
      ]
    },
    {
      "cell_type": "markdown",
      "metadata": {
        "id": "PivM8e7hdNh8"
      },
      "source": [
        "# ETL"
      ]
    },
    {
      "cell_type": "markdown",
      "metadata": {
        "id": "L0YwHA8JzLDF"
      },
      "source": [
        "## Importar Datos"
      ]
    },
    {
      "cell_type": "code",
      "metadata": {
        "id": "XPt3CwMzzRHJ",
        "colab": {
          "base_uri": "https://localhost:8080/",
          "height": 206
        },
        "outputId": "846dfd09-fda0-4c19-bafe-49916f2e28f8"
      },
      "source": [
        "retail = pd.read_csv('https://github.com/IEXE-Tec/mcda-marketing/blob/main/OnlineRetail.csv.zip?raw=true', encoding='latin1',compression='zip')\n",
        "retail.head()"
      ],
      "execution_count": 137,
      "outputs": [
        {
          "output_type": "execute_result",
          "data": {
            "text/html": [
              "<div>\n",
              "<style scoped>\n",
              "    .dataframe tbody tr th:only-of-type {\n",
              "        vertical-align: middle;\n",
              "    }\n",
              "\n",
              "    .dataframe tbody tr th {\n",
              "        vertical-align: top;\n",
              "    }\n",
              "\n",
              "    .dataframe thead th {\n",
              "        text-align: right;\n",
              "    }\n",
              "</style>\n",
              "<table border=\"1\" class=\"dataframe\">\n",
              "  <thead>\n",
              "    <tr style=\"text-align: right;\">\n",
              "      <th></th>\n",
              "      <th>InvoiceNo</th>\n",
              "      <th>StockCode</th>\n",
              "      <th>Description</th>\n",
              "      <th>Quantity</th>\n",
              "      <th>InvoiceDate</th>\n",
              "      <th>UnitPrice</th>\n",
              "      <th>CustomerID</th>\n",
              "      <th>Country</th>\n",
              "    </tr>\n",
              "  </thead>\n",
              "  <tbody>\n",
              "    <tr>\n",
              "      <th>0</th>\n",
              "      <td>536365</td>\n",
              "      <td>85123A</td>\n",
              "      <td>WHITE HANGING HEART T-LIGHT HOLDER</td>\n",
              "      <td>6</td>\n",
              "      <td>12/1/2010 8:26</td>\n",
              "      <td>2.55</td>\n",
              "      <td>17850.0</td>\n",
              "      <td>United Kingdom</td>\n",
              "    </tr>\n",
              "    <tr>\n",
              "      <th>1</th>\n",
              "      <td>536365</td>\n",
              "      <td>71053</td>\n",
              "      <td>WHITE METAL LANTERN</td>\n",
              "      <td>6</td>\n",
              "      <td>12/1/2010 8:26</td>\n",
              "      <td>3.39</td>\n",
              "      <td>17850.0</td>\n",
              "      <td>United Kingdom</td>\n",
              "    </tr>\n",
              "    <tr>\n",
              "      <th>2</th>\n",
              "      <td>536365</td>\n",
              "      <td>84406B</td>\n",
              "      <td>CREAM CUPID HEARTS COAT HANGER</td>\n",
              "      <td>8</td>\n",
              "      <td>12/1/2010 8:26</td>\n",
              "      <td>2.75</td>\n",
              "      <td>17850.0</td>\n",
              "      <td>United Kingdom</td>\n",
              "    </tr>\n",
              "    <tr>\n",
              "      <th>3</th>\n",
              "      <td>536365</td>\n",
              "      <td>84029G</td>\n",
              "      <td>KNITTED UNION FLAG HOT WATER BOTTLE</td>\n",
              "      <td>6</td>\n",
              "      <td>12/1/2010 8:26</td>\n",
              "      <td>3.39</td>\n",
              "      <td>17850.0</td>\n",
              "      <td>United Kingdom</td>\n",
              "    </tr>\n",
              "    <tr>\n",
              "      <th>4</th>\n",
              "      <td>536365</td>\n",
              "      <td>84029E</td>\n",
              "      <td>RED WOOLLY HOTTIE WHITE HEART.</td>\n",
              "      <td>6</td>\n",
              "      <td>12/1/2010 8:26</td>\n",
              "      <td>3.39</td>\n",
              "      <td>17850.0</td>\n",
              "      <td>United Kingdom</td>\n",
              "    </tr>\n",
              "  </tbody>\n",
              "</table>\n",
              "</div>"
            ],
            "text/plain": [
              "  InvoiceNo StockCode  ... CustomerID         Country\n",
              "0    536365    85123A  ...    17850.0  United Kingdom\n",
              "1    536365     71053  ...    17850.0  United Kingdom\n",
              "2    536365    84406B  ...    17850.0  United Kingdom\n",
              "3    536365    84029G  ...    17850.0  United Kingdom\n",
              "4    536365    84029E  ...    17850.0  United Kingdom\n",
              "\n",
              "[5 rows x 8 columns]"
            ]
          },
          "metadata": {
            "tags": []
          },
          "execution_count": 137
        }
      ]
    },
    {
      "cell_type": "code",
      "metadata": {
        "colab": {
          "base_uri": "https://localhost:8080/"
        },
        "id": "jb8afOsYchnb",
        "outputId": "f032c64a-f602-496e-f141-dddcde0bbc70"
      },
      "source": [
        "retail.info()"
      ],
      "execution_count": 138,
      "outputs": [
        {
          "output_type": "stream",
          "text": [
            "<class 'pandas.core.frame.DataFrame'>\n",
            "RangeIndex: 541909 entries, 0 to 541908\n",
            "Data columns (total 8 columns):\n",
            " #   Column       Non-Null Count   Dtype  \n",
            "---  ------       --------------   -----  \n",
            " 0   InvoiceNo    541909 non-null  object \n",
            " 1   StockCode    541909 non-null  object \n",
            " 2   Description  540455 non-null  object \n",
            " 3   Quantity     541909 non-null  int64  \n",
            " 4   InvoiceDate  541909 non-null  object \n",
            " 5   UnitPrice    541909 non-null  float64\n",
            " 6   CustomerID   406829 non-null  float64\n",
            " 7   Country      541909 non-null  object \n",
            "dtypes: float64(2), int64(1), object(5)\n",
            "memory usage: 33.1+ MB\n"
          ],
          "name": "stdout"
        }
      ]
    },
    {
      "cell_type": "markdown",
      "metadata": {
        "id": "rVaU8wX0iEsl"
      },
      "source": [
        "## NaN, missing, infs"
      ]
    },
    {
      "cell_type": "code",
      "metadata": {
        "colab": {
          "base_uri": "https://localhost:8080/"
        },
        "id": "Q95YkGhcHrdr",
        "outputId": "4100f524-2ccf-4982-dd4d-982edb3242b9"
      },
      "source": [
        "retail.isnull().sum()"
      ],
      "execution_count": 139,
      "outputs": [
        {
          "output_type": "execute_result",
          "data": {
            "text/plain": [
              "InvoiceNo           0\n",
              "StockCode           0\n",
              "Description      1454\n",
              "Quantity            0\n",
              "InvoiceDate         0\n",
              "UnitPrice           0\n",
              "CustomerID     135080\n",
              "Country             0\n",
              "dtype: int64"
            ]
          },
          "metadata": {
            "tags": []
          },
          "execution_count": 139
        }
      ]
    },
    {
      "cell_type": "markdown",
      "metadata": {
        "id": "kxldDLzgiT4N"
      },
      "source": [
        "### Columnas con NaNs"
      ]
    },
    {
      "cell_type": "code",
      "metadata": {
        "colab": {
          "base_uri": "https://localhost:8080/",
          "height": 112
        },
        "id": "VnO1-6ITiObK",
        "outputId": "cf97f057-f6c0-449f-f06f-95188e791d9d"
      },
      "source": [
        "retail.loc[:,retail.isna().any(axis=0)].head(2)"
      ],
      "execution_count": 140,
      "outputs": [
        {
          "output_type": "execute_result",
          "data": {
            "text/html": [
              "<div>\n",
              "<style scoped>\n",
              "    .dataframe tbody tr th:only-of-type {\n",
              "        vertical-align: middle;\n",
              "    }\n",
              "\n",
              "    .dataframe tbody tr th {\n",
              "        vertical-align: top;\n",
              "    }\n",
              "\n",
              "    .dataframe thead th {\n",
              "        text-align: right;\n",
              "    }\n",
              "</style>\n",
              "<table border=\"1\" class=\"dataframe\">\n",
              "  <thead>\n",
              "    <tr style=\"text-align: right;\">\n",
              "      <th></th>\n",
              "      <th>Description</th>\n",
              "      <th>CustomerID</th>\n",
              "    </tr>\n",
              "  </thead>\n",
              "  <tbody>\n",
              "    <tr>\n",
              "      <th>0</th>\n",
              "      <td>WHITE HANGING HEART T-LIGHT HOLDER</td>\n",
              "      <td>17850.0</td>\n",
              "    </tr>\n",
              "    <tr>\n",
              "      <th>1</th>\n",
              "      <td>WHITE METAL LANTERN</td>\n",
              "      <td>17850.0</td>\n",
              "    </tr>\n",
              "  </tbody>\n",
              "</table>\n",
              "</div>"
            ],
            "text/plain": [
              "                          Description  CustomerID\n",
              "0  WHITE HANGING HEART T-LIGHT HOLDER     17850.0\n",
              "1                 WHITE METAL LANTERN     17850.0"
            ]
          },
          "metadata": {
            "tags": []
          },
          "execution_count": 140
        }
      ]
    },
    {
      "cell_type": "markdown",
      "metadata": {
        "id": "axFdYXscib4_"
      },
      "source": [
        "Al parecer los nans solo estan las columnas de Description y CustomerID"
      ]
    },
    {
      "cell_type": "markdown",
      "metadata": {
        "id": "ZSrhx7O-iWwX"
      },
      "source": [
        "### Rows con NaNs"
      ]
    },
    {
      "cell_type": "code",
      "metadata": {
        "colab": {
          "base_uri": "https://localhost:8080/",
          "height": 130
        },
        "id": "2DzdZ1FYiHlM",
        "outputId": "2f1d0b8f-b981-4acb-aad1-e0a1e0efd8ae"
      },
      "source": [
        "print('Total de rows con nans:  ', retail[retail.isna().any(axis=1)].shape[0])\n",
        "retail[retail.isna().any(axis=1)].head(2)"
      ],
      "execution_count": 141,
      "outputs": [
        {
          "output_type": "stream",
          "text": [
            "Total de rows con nans:   135080\n"
          ],
          "name": "stdout"
        },
        {
          "output_type": "execute_result",
          "data": {
            "text/html": [
              "<div>\n",
              "<style scoped>\n",
              "    .dataframe tbody tr th:only-of-type {\n",
              "        vertical-align: middle;\n",
              "    }\n",
              "\n",
              "    .dataframe tbody tr th {\n",
              "        vertical-align: top;\n",
              "    }\n",
              "\n",
              "    .dataframe thead th {\n",
              "        text-align: right;\n",
              "    }\n",
              "</style>\n",
              "<table border=\"1\" class=\"dataframe\">\n",
              "  <thead>\n",
              "    <tr style=\"text-align: right;\">\n",
              "      <th></th>\n",
              "      <th>InvoiceNo</th>\n",
              "      <th>StockCode</th>\n",
              "      <th>Description</th>\n",
              "      <th>Quantity</th>\n",
              "      <th>InvoiceDate</th>\n",
              "      <th>UnitPrice</th>\n",
              "      <th>CustomerID</th>\n",
              "      <th>Country</th>\n",
              "    </tr>\n",
              "  </thead>\n",
              "  <tbody>\n",
              "    <tr>\n",
              "      <th>622</th>\n",
              "      <td>536414</td>\n",
              "      <td>22139</td>\n",
              "      <td>NaN</td>\n",
              "      <td>56</td>\n",
              "      <td>12/1/2010 11:52</td>\n",
              "      <td>0.00</td>\n",
              "      <td>NaN</td>\n",
              "      <td>United Kingdom</td>\n",
              "    </tr>\n",
              "    <tr>\n",
              "      <th>1443</th>\n",
              "      <td>536544</td>\n",
              "      <td>21773</td>\n",
              "      <td>DECORATIVE ROSE BATHROOM BOTTLE</td>\n",
              "      <td>1</td>\n",
              "      <td>12/1/2010 14:32</td>\n",
              "      <td>2.51</td>\n",
              "      <td>NaN</td>\n",
              "      <td>United Kingdom</td>\n",
              "    </tr>\n",
              "  </tbody>\n",
              "</table>\n",
              "</div>"
            ],
            "text/plain": [
              "     InvoiceNo StockCode  ... CustomerID         Country\n",
              "622     536414     22139  ...        NaN  United Kingdom\n",
              "1443    536544     21773  ...        NaN  United Kingdom\n",
              "\n",
              "[2 rows x 8 columns]"
            ]
          },
          "metadata": {
            "tags": []
          },
          "execution_count": 141
        }
      ]
    },
    {
      "cell_type": "markdown",
      "metadata": {
        "id": "yhzCVa1VjQkc"
      },
      "source": [
        "#### NaNs en Description   \n"
      ]
    },
    {
      "cell_type": "markdown",
      "metadata": {
        "id": "83cl3pVsk1-W"
      },
      "source": [
        "Observemos que hay muy pocos NaNs en la descripcion del producto"
      ]
    },
    {
      "cell_type": "code",
      "metadata": {
        "colab": {
          "base_uri": "https://localhost:8080/",
          "height": 424
        },
        "id": "R9nw6M4mi9L1",
        "outputId": "5f37a0e8-073d-4f13-8e98-b36d1b45d6c0"
      },
      "source": [
        "retail[retail['Description'].isna()]"
      ],
      "execution_count": 142,
      "outputs": [
        {
          "output_type": "execute_result",
          "data": {
            "text/html": [
              "<div>\n",
              "<style scoped>\n",
              "    .dataframe tbody tr th:only-of-type {\n",
              "        vertical-align: middle;\n",
              "    }\n",
              "\n",
              "    .dataframe tbody tr th {\n",
              "        vertical-align: top;\n",
              "    }\n",
              "\n",
              "    .dataframe thead th {\n",
              "        text-align: right;\n",
              "    }\n",
              "</style>\n",
              "<table border=\"1\" class=\"dataframe\">\n",
              "  <thead>\n",
              "    <tr style=\"text-align: right;\">\n",
              "      <th></th>\n",
              "      <th>InvoiceNo</th>\n",
              "      <th>StockCode</th>\n",
              "      <th>Description</th>\n",
              "      <th>Quantity</th>\n",
              "      <th>InvoiceDate</th>\n",
              "      <th>UnitPrice</th>\n",
              "      <th>CustomerID</th>\n",
              "      <th>Country</th>\n",
              "    </tr>\n",
              "  </thead>\n",
              "  <tbody>\n",
              "    <tr>\n",
              "      <th>622</th>\n",
              "      <td>536414</td>\n",
              "      <td>22139</td>\n",
              "      <td>NaN</td>\n",
              "      <td>56</td>\n",
              "      <td>12/1/2010 11:52</td>\n",
              "      <td>0.0</td>\n",
              "      <td>NaN</td>\n",
              "      <td>United Kingdom</td>\n",
              "    </tr>\n",
              "    <tr>\n",
              "      <th>1970</th>\n",
              "      <td>536545</td>\n",
              "      <td>21134</td>\n",
              "      <td>NaN</td>\n",
              "      <td>1</td>\n",
              "      <td>12/1/2010 14:32</td>\n",
              "      <td>0.0</td>\n",
              "      <td>NaN</td>\n",
              "      <td>United Kingdom</td>\n",
              "    </tr>\n",
              "    <tr>\n",
              "      <th>1971</th>\n",
              "      <td>536546</td>\n",
              "      <td>22145</td>\n",
              "      <td>NaN</td>\n",
              "      <td>1</td>\n",
              "      <td>12/1/2010 14:33</td>\n",
              "      <td>0.0</td>\n",
              "      <td>NaN</td>\n",
              "      <td>United Kingdom</td>\n",
              "    </tr>\n",
              "    <tr>\n",
              "      <th>1972</th>\n",
              "      <td>536547</td>\n",
              "      <td>37509</td>\n",
              "      <td>NaN</td>\n",
              "      <td>1</td>\n",
              "      <td>12/1/2010 14:33</td>\n",
              "      <td>0.0</td>\n",
              "      <td>NaN</td>\n",
              "      <td>United Kingdom</td>\n",
              "    </tr>\n",
              "    <tr>\n",
              "      <th>1987</th>\n",
              "      <td>536549</td>\n",
              "      <td>85226A</td>\n",
              "      <td>NaN</td>\n",
              "      <td>1</td>\n",
              "      <td>12/1/2010 14:34</td>\n",
              "      <td>0.0</td>\n",
              "      <td>NaN</td>\n",
              "      <td>United Kingdom</td>\n",
              "    </tr>\n",
              "    <tr>\n",
              "      <th>...</th>\n",
              "      <td>...</td>\n",
              "      <td>...</td>\n",
              "      <td>...</td>\n",
              "      <td>...</td>\n",
              "      <td>...</td>\n",
              "      <td>...</td>\n",
              "      <td>...</td>\n",
              "      <td>...</td>\n",
              "    </tr>\n",
              "    <tr>\n",
              "      <th>535322</th>\n",
              "      <td>581199</td>\n",
              "      <td>84581</td>\n",
              "      <td>NaN</td>\n",
              "      <td>-2</td>\n",
              "      <td>12/7/2011 18:26</td>\n",
              "      <td>0.0</td>\n",
              "      <td>NaN</td>\n",
              "      <td>United Kingdom</td>\n",
              "    </tr>\n",
              "    <tr>\n",
              "      <th>535326</th>\n",
              "      <td>581203</td>\n",
              "      <td>23406</td>\n",
              "      <td>NaN</td>\n",
              "      <td>15</td>\n",
              "      <td>12/7/2011 18:31</td>\n",
              "      <td>0.0</td>\n",
              "      <td>NaN</td>\n",
              "      <td>United Kingdom</td>\n",
              "    </tr>\n",
              "    <tr>\n",
              "      <th>535332</th>\n",
              "      <td>581209</td>\n",
              "      <td>21620</td>\n",
              "      <td>NaN</td>\n",
              "      <td>6</td>\n",
              "      <td>12/7/2011 18:35</td>\n",
              "      <td>0.0</td>\n",
              "      <td>NaN</td>\n",
              "      <td>United Kingdom</td>\n",
              "    </tr>\n",
              "    <tr>\n",
              "      <th>536981</th>\n",
              "      <td>581234</td>\n",
              "      <td>72817</td>\n",
              "      <td>NaN</td>\n",
              "      <td>27</td>\n",
              "      <td>12/8/2011 10:33</td>\n",
              "      <td>0.0</td>\n",
              "      <td>NaN</td>\n",
              "      <td>United Kingdom</td>\n",
              "    </tr>\n",
              "    <tr>\n",
              "      <th>538554</th>\n",
              "      <td>581408</td>\n",
              "      <td>85175</td>\n",
              "      <td>NaN</td>\n",
              "      <td>20</td>\n",
              "      <td>12/8/2011 14:06</td>\n",
              "      <td>0.0</td>\n",
              "      <td>NaN</td>\n",
              "      <td>United Kingdom</td>\n",
              "    </tr>\n",
              "  </tbody>\n",
              "</table>\n",
              "<p>1454 rows × 8 columns</p>\n",
              "</div>"
            ],
            "text/plain": [
              "       InvoiceNo StockCode Description  ...  UnitPrice CustomerID         Country\n",
              "622       536414     22139         NaN  ...        0.0        NaN  United Kingdom\n",
              "1970      536545     21134         NaN  ...        0.0        NaN  United Kingdom\n",
              "1971      536546     22145         NaN  ...        0.0        NaN  United Kingdom\n",
              "1972      536547     37509         NaN  ...        0.0        NaN  United Kingdom\n",
              "1987      536549    85226A         NaN  ...        0.0        NaN  United Kingdom\n",
              "...          ...       ...         ...  ...        ...        ...             ...\n",
              "535322    581199     84581         NaN  ...        0.0        NaN  United Kingdom\n",
              "535326    581203     23406         NaN  ...        0.0        NaN  United Kingdom\n",
              "535332    581209     21620         NaN  ...        0.0        NaN  United Kingdom\n",
              "536981    581234     72817         NaN  ...        0.0        NaN  United Kingdom\n",
              "538554    581408     85175         NaN  ...        0.0        NaN  United Kingdom\n",
              "\n",
              "[1454 rows x 8 columns]"
            ]
          },
          "metadata": {
            "tags": []
          },
          "execution_count": 142
        }
      ]
    },
    {
      "cell_type": "markdown",
      "metadata": {
        "id": "-qc-r8N2kUtf"
      },
      "source": [
        "Tambien obsrevamos que no tienen precio. Si bien seria conveniente investigar mas al respecto, por ahora podemos eliminarlos de la base, pues el porcentaje es pequeño y pueden complicar el analisis."
      ]
    },
    {
      "cell_type": "code",
      "metadata": {
        "colab": {
          "base_uri": "https://localhost:8080/"
        },
        "id": "vtjSgq80kQBm",
        "outputId": "5274275d-e121-4f66-d2b5-308989f4cc70"
      },
      "source": [
        "retail[retail['Description'].isna()]['UnitPrice'].sum()"
      ],
      "execution_count": 143,
      "outputs": [
        {
          "output_type": "execute_result",
          "data": {
            "text/plain": [
              "0.0"
            ]
          },
          "metadata": {
            "tags": []
          },
          "execution_count": 143
        }
      ]
    },
    {
      "cell_type": "code",
      "metadata": {
        "id": "xjoyB1TQkmQ9"
      },
      "source": [
        "retail = retail[~retail['Description'].isna()]"
      ],
      "execution_count": 144,
      "outputs": []
    },
    {
      "cell_type": "markdown",
      "metadata": {
        "id": "dpQZBSyLjW8V"
      },
      "source": [
        "#### NaNs en CustomerID    \n",
        "\n"
      ]
    },
    {
      "cell_type": "markdown",
      "metadata": {
        "id": "FV18DVJIk6rn"
      },
      "source": [
        "Hay muchos missings en el CustomerID alrededor del 20% de la base son NaNs. Esto puede deberse a un error en el sistema, o a que el comprador no creo una cuenta. \n",
        "+ Podriamos eliminarlos de la base, pero dado que representan alrededor del 20% es mejor quedarse con ellos.  \n",
        "+ Podriamos crear un id especifico para todos estos compradores, por ejemplo un id negativo para al momento de modelar o manipular sea facil de recordar."
      ]
    },
    {
      "cell_type": "code",
      "metadata": {
        "colab": {
          "base_uri": "https://localhost:8080/",
          "height": 424
        },
        "id": "f_sp5rcEjEm-",
        "outputId": "97b05ced-ef52-4282-d090-a90fb6bf41c5"
      },
      "source": [
        "retail[retail['CustomerID'].isna()]"
      ],
      "execution_count": 145,
      "outputs": [
        {
          "output_type": "execute_result",
          "data": {
            "text/html": [
              "<div>\n",
              "<style scoped>\n",
              "    .dataframe tbody tr th:only-of-type {\n",
              "        vertical-align: middle;\n",
              "    }\n",
              "\n",
              "    .dataframe tbody tr th {\n",
              "        vertical-align: top;\n",
              "    }\n",
              "\n",
              "    .dataframe thead th {\n",
              "        text-align: right;\n",
              "    }\n",
              "</style>\n",
              "<table border=\"1\" class=\"dataframe\">\n",
              "  <thead>\n",
              "    <tr style=\"text-align: right;\">\n",
              "      <th></th>\n",
              "      <th>InvoiceNo</th>\n",
              "      <th>StockCode</th>\n",
              "      <th>Description</th>\n",
              "      <th>Quantity</th>\n",
              "      <th>InvoiceDate</th>\n",
              "      <th>UnitPrice</th>\n",
              "      <th>CustomerID</th>\n",
              "      <th>Country</th>\n",
              "    </tr>\n",
              "  </thead>\n",
              "  <tbody>\n",
              "    <tr>\n",
              "      <th>1443</th>\n",
              "      <td>536544</td>\n",
              "      <td>21773</td>\n",
              "      <td>DECORATIVE ROSE BATHROOM BOTTLE</td>\n",
              "      <td>1</td>\n",
              "      <td>12/1/2010 14:32</td>\n",
              "      <td>2.51</td>\n",
              "      <td>NaN</td>\n",
              "      <td>United Kingdom</td>\n",
              "    </tr>\n",
              "    <tr>\n",
              "      <th>1444</th>\n",
              "      <td>536544</td>\n",
              "      <td>21774</td>\n",
              "      <td>DECORATIVE CATS BATHROOM BOTTLE</td>\n",
              "      <td>2</td>\n",
              "      <td>12/1/2010 14:32</td>\n",
              "      <td>2.51</td>\n",
              "      <td>NaN</td>\n",
              "      <td>United Kingdom</td>\n",
              "    </tr>\n",
              "    <tr>\n",
              "      <th>1445</th>\n",
              "      <td>536544</td>\n",
              "      <td>21786</td>\n",
              "      <td>POLKADOT RAIN HAT</td>\n",
              "      <td>4</td>\n",
              "      <td>12/1/2010 14:32</td>\n",
              "      <td>0.85</td>\n",
              "      <td>NaN</td>\n",
              "      <td>United Kingdom</td>\n",
              "    </tr>\n",
              "    <tr>\n",
              "      <th>1446</th>\n",
              "      <td>536544</td>\n",
              "      <td>21787</td>\n",
              "      <td>RAIN PONCHO RETROSPOT</td>\n",
              "      <td>2</td>\n",
              "      <td>12/1/2010 14:32</td>\n",
              "      <td>1.66</td>\n",
              "      <td>NaN</td>\n",
              "      <td>United Kingdom</td>\n",
              "    </tr>\n",
              "    <tr>\n",
              "      <th>1447</th>\n",
              "      <td>536544</td>\n",
              "      <td>21790</td>\n",
              "      <td>VINTAGE SNAP CARDS</td>\n",
              "      <td>9</td>\n",
              "      <td>12/1/2010 14:32</td>\n",
              "      <td>1.66</td>\n",
              "      <td>NaN</td>\n",
              "      <td>United Kingdom</td>\n",
              "    </tr>\n",
              "    <tr>\n",
              "      <th>...</th>\n",
              "      <td>...</td>\n",
              "      <td>...</td>\n",
              "      <td>...</td>\n",
              "      <td>...</td>\n",
              "      <td>...</td>\n",
              "      <td>...</td>\n",
              "      <td>...</td>\n",
              "      <td>...</td>\n",
              "    </tr>\n",
              "    <tr>\n",
              "      <th>541536</th>\n",
              "      <td>581498</td>\n",
              "      <td>85099B</td>\n",
              "      <td>JUMBO BAG RED RETROSPOT</td>\n",
              "      <td>5</td>\n",
              "      <td>12/9/2011 10:26</td>\n",
              "      <td>4.13</td>\n",
              "      <td>NaN</td>\n",
              "      <td>United Kingdom</td>\n",
              "    </tr>\n",
              "    <tr>\n",
              "      <th>541537</th>\n",
              "      <td>581498</td>\n",
              "      <td>85099C</td>\n",
              "      <td>JUMBO  BAG BAROQUE BLACK WHITE</td>\n",
              "      <td>4</td>\n",
              "      <td>12/9/2011 10:26</td>\n",
              "      <td>4.13</td>\n",
              "      <td>NaN</td>\n",
              "      <td>United Kingdom</td>\n",
              "    </tr>\n",
              "    <tr>\n",
              "      <th>541538</th>\n",
              "      <td>581498</td>\n",
              "      <td>85150</td>\n",
              "      <td>LADIES &amp; GENTLEMEN METAL SIGN</td>\n",
              "      <td>1</td>\n",
              "      <td>12/9/2011 10:26</td>\n",
              "      <td>4.96</td>\n",
              "      <td>NaN</td>\n",
              "      <td>United Kingdom</td>\n",
              "    </tr>\n",
              "    <tr>\n",
              "      <th>541539</th>\n",
              "      <td>581498</td>\n",
              "      <td>85174</td>\n",
              "      <td>S/4 CACTI CANDLES</td>\n",
              "      <td>1</td>\n",
              "      <td>12/9/2011 10:26</td>\n",
              "      <td>10.79</td>\n",
              "      <td>NaN</td>\n",
              "      <td>United Kingdom</td>\n",
              "    </tr>\n",
              "    <tr>\n",
              "      <th>541540</th>\n",
              "      <td>581498</td>\n",
              "      <td>DOT</td>\n",
              "      <td>DOTCOM POSTAGE</td>\n",
              "      <td>1</td>\n",
              "      <td>12/9/2011 10:26</td>\n",
              "      <td>1714.17</td>\n",
              "      <td>NaN</td>\n",
              "      <td>United Kingdom</td>\n",
              "    </tr>\n",
              "  </tbody>\n",
              "</table>\n",
              "<p>133626 rows × 8 columns</p>\n",
              "</div>"
            ],
            "text/plain": [
              "       InvoiceNo StockCode  ... CustomerID         Country\n",
              "1443      536544     21773  ...        NaN  United Kingdom\n",
              "1444      536544     21774  ...        NaN  United Kingdom\n",
              "1445      536544     21786  ...        NaN  United Kingdom\n",
              "1446      536544     21787  ...        NaN  United Kingdom\n",
              "1447      536544     21790  ...        NaN  United Kingdom\n",
              "...          ...       ...  ...        ...             ...\n",
              "541536    581498    85099B  ...        NaN  United Kingdom\n",
              "541537    581498    85099C  ...        NaN  United Kingdom\n",
              "541538    581498     85150  ...        NaN  United Kingdom\n",
              "541539    581498     85174  ...        NaN  United Kingdom\n",
              "541540    581498       DOT  ...        NaN  United Kingdom\n",
              "\n",
              "[133626 rows x 8 columns]"
            ]
          },
          "metadata": {
            "tags": []
          },
          "execution_count": 145
        }
      ]
    },
    {
      "cell_type": "code",
      "metadata": {
        "colab": {
          "base_uri": "https://localhost:8080/"
        },
        "id": "HTE0lM1wlbkY",
        "outputId": "cfc32333-d082-42c1-d613-1a84b3d532eb"
      },
      "source": [
        "# Revisemos si fuera de los missings los ids son enteros o negativos\n",
        "customer_id = retail.loc[~retail['CustomerID'].isna(), 'CustomerID'].unique()\n",
        "customer_id = customer_id.astype(int)\n",
        "(customer_id < 0).sum()"
      ],
      "execution_count": 146,
      "outputs": [
        {
          "output_type": "execute_result",
          "data": {
            "text/plain": [
              "0"
            ]
          },
          "metadata": {
            "tags": []
          },
          "execution_count": 146
        }
      ]
    },
    {
      "cell_type": "markdown",
      "metadata": {
        "id": "xvf5YMhRmUOG"
      },
      "source": [
        "Podemos manejar los CustomerID como ints, y asignar el -1 a los clientes que no tienen ID sin problema, pues ningun otro tiene numero negativo."
      ]
    },
    {
      "cell_type": "code",
      "metadata": {
        "colab": {
          "base_uri": "https://localhost:8080/",
          "height": 112
        },
        "id": "opUqCkjwlUl8",
        "outputId": "16bb1b96-6fdd-4bce-c4e5-8b18b8873119"
      },
      "source": [
        "retail.loc[retail['CustomerID'].isna(), 'CustomerID'] = -1\n",
        "retail['CustomerID'] = retail['CustomerID'].astype(int) \n",
        "retail.head(2)"
      ],
      "execution_count": 147,
      "outputs": [
        {
          "output_type": "execute_result",
          "data": {
            "text/html": [
              "<div>\n",
              "<style scoped>\n",
              "    .dataframe tbody tr th:only-of-type {\n",
              "        vertical-align: middle;\n",
              "    }\n",
              "\n",
              "    .dataframe tbody tr th {\n",
              "        vertical-align: top;\n",
              "    }\n",
              "\n",
              "    .dataframe thead th {\n",
              "        text-align: right;\n",
              "    }\n",
              "</style>\n",
              "<table border=\"1\" class=\"dataframe\">\n",
              "  <thead>\n",
              "    <tr style=\"text-align: right;\">\n",
              "      <th></th>\n",
              "      <th>InvoiceNo</th>\n",
              "      <th>StockCode</th>\n",
              "      <th>Description</th>\n",
              "      <th>Quantity</th>\n",
              "      <th>InvoiceDate</th>\n",
              "      <th>UnitPrice</th>\n",
              "      <th>CustomerID</th>\n",
              "      <th>Country</th>\n",
              "    </tr>\n",
              "  </thead>\n",
              "  <tbody>\n",
              "    <tr>\n",
              "      <th>0</th>\n",
              "      <td>536365</td>\n",
              "      <td>85123A</td>\n",
              "      <td>WHITE HANGING HEART T-LIGHT HOLDER</td>\n",
              "      <td>6</td>\n",
              "      <td>12/1/2010 8:26</td>\n",
              "      <td>2.55</td>\n",
              "      <td>17850</td>\n",
              "      <td>United Kingdom</td>\n",
              "    </tr>\n",
              "    <tr>\n",
              "      <th>1</th>\n",
              "      <td>536365</td>\n",
              "      <td>71053</td>\n",
              "      <td>WHITE METAL LANTERN</td>\n",
              "      <td>6</td>\n",
              "      <td>12/1/2010 8:26</td>\n",
              "      <td>3.39</td>\n",
              "      <td>17850</td>\n",
              "      <td>United Kingdom</td>\n",
              "    </tr>\n",
              "  </tbody>\n",
              "</table>\n",
              "</div>"
            ],
            "text/plain": [
              "  InvoiceNo StockCode  ... CustomerID         Country\n",
              "0    536365    85123A  ...      17850  United Kingdom\n",
              "1    536365     71053  ...      17850  United Kingdom\n",
              "\n",
              "[2 rows x 8 columns]"
            ]
          },
          "metadata": {
            "tags": []
          },
          "execution_count": 147
        }
      ]
    },
    {
      "cell_type": "markdown",
      "metadata": {
        "id": "Wf8TNQURm1hy"
      },
      "source": [
        "Como podemos obsrevar en la siguiente celda, no hay missings."
      ]
    },
    {
      "cell_type": "code",
      "metadata": {
        "colab": {
          "base_uri": "https://localhost:8080/",
          "height": 49
        },
        "id": "gGPpa7B7mxco",
        "outputId": "72d2d127-383c-4ae1-bbb7-f461411bf5db"
      },
      "source": [
        "retail[retail.isna().any(axis=1)]"
      ],
      "execution_count": 148,
      "outputs": [
        {
          "output_type": "execute_result",
          "data": {
            "text/html": [
              "<div>\n",
              "<style scoped>\n",
              "    .dataframe tbody tr th:only-of-type {\n",
              "        vertical-align: middle;\n",
              "    }\n",
              "\n",
              "    .dataframe tbody tr th {\n",
              "        vertical-align: top;\n",
              "    }\n",
              "\n",
              "    .dataframe thead th {\n",
              "        text-align: right;\n",
              "    }\n",
              "</style>\n",
              "<table border=\"1\" class=\"dataframe\">\n",
              "  <thead>\n",
              "    <tr style=\"text-align: right;\">\n",
              "      <th></th>\n",
              "      <th>InvoiceNo</th>\n",
              "      <th>StockCode</th>\n",
              "      <th>Description</th>\n",
              "      <th>Quantity</th>\n",
              "      <th>InvoiceDate</th>\n",
              "      <th>UnitPrice</th>\n",
              "      <th>CustomerID</th>\n",
              "      <th>Country</th>\n",
              "    </tr>\n",
              "  </thead>\n",
              "  <tbody>\n",
              "  </tbody>\n",
              "</table>\n",
              "</div>"
            ],
            "text/plain": [
              "Empty DataFrame\n",
              "Columns: [InvoiceNo, StockCode, Description, Quantity, InvoiceDate, UnitPrice, CustomerID, Country]\n",
              "Index: []"
            ]
          },
          "metadata": {
            "tags": []
          },
          "execution_count": 148
        }
      ]
    },
    {
      "cell_type": "markdown",
      "metadata": {
        "id": "LcXRDjkfdM1r"
      },
      "source": [
        "## Tipo de Datos"
      ]
    },
    {
      "cell_type": "markdown",
      "metadata": {
        "id": "N73KG_YMhJgF"
      },
      "source": [
        "Convirtamos las columnas correspondientes a tipo fecha"
      ]
    },
    {
      "cell_type": "code",
      "metadata": {
        "colab": {
          "base_uri": "https://localhost:8080/",
          "height": 206
        },
        "id": "EenaEgVigXRO",
        "outputId": "d18122ce-fc0c-4c63-8ca0-6b092f5833b7"
      },
      "source": [
        "retail['date'] = pd.to_datetime(retail['InvoiceDate'])\n",
        "# Creemos un time stampt para representar el mes y año (en este caso sera el fin de mes)\n",
        "retail['year_month'] = retail['date'].map(lambda x: x.to_period('M').to_timestamp('M'))\n",
        "retail.head()"
      ],
      "execution_count": 149,
      "outputs": [
        {
          "output_type": "execute_result",
          "data": {
            "text/html": [
              "<div>\n",
              "<style scoped>\n",
              "    .dataframe tbody tr th:only-of-type {\n",
              "        vertical-align: middle;\n",
              "    }\n",
              "\n",
              "    .dataframe tbody tr th {\n",
              "        vertical-align: top;\n",
              "    }\n",
              "\n",
              "    .dataframe thead th {\n",
              "        text-align: right;\n",
              "    }\n",
              "</style>\n",
              "<table border=\"1\" class=\"dataframe\">\n",
              "  <thead>\n",
              "    <tr style=\"text-align: right;\">\n",
              "      <th></th>\n",
              "      <th>InvoiceNo</th>\n",
              "      <th>StockCode</th>\n",
              "      <th>Description</th>\n",
              "      <th>Quantity</th>\n",
              "      <th>InvoiceDate</th>\n",
              "      <th>UnitPrice</th>\n",
              "      <th>CustomerID</th>\n",
              "      <th>Country</th>\n",
              "      <th>date</th>\n",
              "      <th>year_month</th>\n",
              "    </tr>\n",
              "  </thead>\n",
              "  <tbody>\n",
              "    <tr>\n",
              "      <th>0</th>\n",
              "      <td>536365</td>\n",
              "      <td>85123A</td>\n",
              "      <td>WHITE HANGING HEART T-LIGHT HOLDER</td>\n",
              "      <td>6</td>\n",
              "      <td>12/1/2010 8:26</td>\n",
              "      <td>2.55</td>\n",
              "      <td>17850</td>\n",
              "      <td>United Kingdom</td>\n",
              "      <td>2010-12-01 08:26:00</td>\n",
              "      <td>2010-12-31</td>\n",
              "    </tr>\n",
              "    <tr>\n",
              "      <th>1</th>\n",
              "      <td>536365</td>\n",
              "      <td>71053</td>\n",
              "      <td>WHITE METAL LANTERN</td>\n",
              "      <td>6</td>\n",
              "      <td>12/1/2010 8:26</td>\n",
              "      <td>3.39</td>\n",
              "      <td>17850</td>\n",
              "      <td>United Kingdom</td>\n",
              "      <td>2010-12-01 08:26:00</td>\n",
              "      <td>2010-12-31</td>\n",
              "    </tr>\n",
              "    <tr>\n",
              "      <th>2</th>\n",
              "      <td>536365</td>\n",
              "      <td>84406B</td>\n",
              "      <td>CREAM CUPID HEARTS COAT HANGER</td>\n",
              "      <td>8</td>\n",
              "      <td>12/1/2010 8:26</td>\n",
              "      <td>2.75</td>\n",
              "      <td>17850</td>\n",
              "      <td>United Kingdom</td>\n",
              "      <td>2010-12-01 08:26:00</td>\n",
              "      <td>2010-12-31</td>\n",
              "    </tr>\n",
              "    <tr>\n",
              "      <th>3</th>\n",
              "      <td>536365</td>\n",
              "      <td>84029G</td>\n",
              "      <td>KNITTED UNION FLAG HOT WATER BOTTLE</td>\n",
              "      <td>6</td>\n",
              "      <td>12/1/2010 8:26</td>\n",
              "      <td>3.39</td>\n",
              "      <td>17850</td>\n",
              "      <td>United Kingdom</td>\n",
              "      <td>2010-12-01 08:26:00</td>\n",
              "      <td>2010-12-31</td>\n",
              "    </tr>\n",
              "    <tr>\n",
              "      <th>4</th>\n",
              "      <td>536365</td>\n",
              "      <td>84029E</td>\n",
              "      <td>RED WOOLLY HOTTIE WHITE HEART.</td>\n",
              "      <td>6</td>\n",
              "      <td>12/1/2010 8:26</td>\n",
              "      <td>3.39</td>\n",
              "      <td>17850</td>\n",
              "      <td>United Kingdom</td>\n",
              "      <td>2010-12-01 08:26:00</td>\n",
              "      <td>2010-12-31</td>\n",
              "    </tr>\n",
              "  </tbody>\n",
              "</table>\n",
              "</div>"
            ],
            "text/plain": [
              "  InvoiceNo StockCode  ...                date  year_month\n",
              "0    536365    85123A  ... 2010-12-01 08:26:00  2010-12-31\n",
              "1    536365     71053  ... 2010-12-01 08:26:00  2010-12-31\n",
              "2    536365    84406B  ... 2010-12-01 08:26:00  2010-12-31\n",
              "3    536365    84029G  ... 2010-12-01 08:26:00  2010-12-31\n",
              "4    536365    84029E  ... 2010-12-01 08:26:00  2010-12-31\n",
              "\n",
              "[5 rows x 10 columns]"
            ]
          },
          "metadata": {
            "tags": []
          },
          "execution_count": 149
        }
      ]
    },
    {
      "cell_type": "markdown",
      "metadata": {
        "id": "8x761IjOnfwl"
      },
      "source": [
        "La columna de InvoiceNo no puede ser manejada directamente como entero, tiene que ser string. Podriamos hacer un diccionario de las columnas con strings a ints para mejorar el uso de memoria si asi lo desearamos."
      ]
    },
    {
      "cell_type": "code",
      "metadata": {
        "id": "Sh1387boncHS"
      },
      "source": [
        "#retail['InvoiceNo'] = retail['InvoiceNo'].astype(int)"
      ],
      "execution_count": 150,
      "outputs": []
    },
    {
      "cell_type": "markdown",
      "metadata": {
        "id": "btYKkyIsnsyr"
      },
      "source": [
        "## Resumen ETL"
      ]
    },
    {
      "cell_type": "markdown",
      "metadata": {
        "id": "ulBFSdwGnuSm"
      },
      "source": [
        "Parece que los datos se encuentran en buen estado, salvo por los missings en el customer id que pueden deberse a varias causas y representan alrededor del 20% del total de la base. Para resolver el problema, les asignamos el numero -1."
      ]
    },
    {
      "cell_type": "markdown",
      "metadata": {
        "id": "XupLUjninrrw"
      },
      "source": [
        "# EDA Inicial"
      ]
    },
    {
      "cell_type": "markdown",
      "metadata": {
        "id": "wNQJy2nZA0tO"
      },
      "source": [
        "Recuerda que el objetivo es segmentar (clusterizar) a los clientes, pero tambien verificar la calidad de los datos pues es el primer EDA que realizamos sobre ellos."
      ]
    },
    {
      "cell_type": "markdown",
      "metadata": {
        "id": "FFuJFDGtBLT9"
      },
      "source": [
        "Unas de las metricas mas importantes para el retail online :\n",
        "+  **Ingresos Mensuales** o *monthly revenue*."
      ]
    },
    {
      "cell_type": "markdown",
      "metadata": {
        "id": "_1BqkPFUBcSD"
      },
      "source": [
        "## EDA exploracion de datos"
      ]
    },
    {
      "cell_type": "code",
      "metadata": {
        "colab": {
          "base_uri": "https://localhost:8080/",
          "height": 300
        },
        "id": "VvKJkYSnBfdH",
        "outputId": "7572e5ce-6380-4aa2-c8d4-9ed8cfccd06e"
      },
      "source": [
        "retail.describe()"
      ],
      "execution_count": 151,
      "outputs": [
        {
          "output_type": "execute_result",
          "data": {
            "text/html": [
              "<div>\n",
              "<style scoped>\n",
              "    .dataframe tbody tr th:only-of-type {\n",
              "        vertical-align: middle;\n",
              "    }\n",
              "\n",
              "    .dataframe tbody tr th {\n",
              "        vertical-align: top;\n",
              "    }\n",
              "\n",
              "    .dataframe thead th {\n",
              "        text-align: right;\n",
              "    }\n",
              "</style>\n",
              "<table border=\"1\" class=\"dataframe\">\n",
              "  <thead>\n",
              "    <tr style=\"text-align: right;\">\n",
              "      <th></th>\n",
              "      <th>Quantity</th>\n",
              "      <th>UnitPrice</th>\n",
              "      <th>CustomerID</th>\n",
              "    </tr>\n",
              "  </thead>\n",
              "  <tbody>\n",
              "    <tr>\n",
              "      <th>count</th>\n",
              "      <td>540455.000000</td>\n",
              "      <td>540455.000000</td>\n",
              "      <td>540455.000000</td>\n",
              "    </tr>\n",
              "    <tr>\n",
              "      <th>mean</th>\n",
              "      <td>9.603129</td>\n",
              "      <td>4.623519</td>\n",
              "      <td>11507.604224</td>\n",
              "    </tr>\n",
              "    <tr>\n",
              "      <th>std</th>\n",
              "      <td>218.007598</td>\n",
              "      <td>96.889628</td>\n",
              "      <td>6761.212883</td>\n",
              "    </tr>\n",
              "    <tr>\n",
              "      <th>min</th>\n",
              "      <td>-80995.000000</td>\n",
              "      <td>-11062.060000</td>\n",
              "      <td>-1.000000</td>\n",
              "    </tr>\n",
              "    <tr>\n",
              "      <th>25%</th>\n",
              "      <td>1.000000</td>\n",
              "      <td>1.250000</td>\n",
              "      <td>12367.000000</td>\n",
              "    </tr>\n",
              "    <tr>\n",
              "      <th>50%</th>\n",
              "      <td>3.000000</td>\n",
              "      <td>2.080000</td>\n",
              "      <td>14390.000000</td>\n",
              "    </tr>\n",
              "    <tr>\n",
              "      <th>75%</th>\n",
              "      <td>10.000000</td>\n",
              "      <td>4.130000</td>\n",
              "      <td>16261.000000</td>\n",
              "    </tr>\n",
              "    <tr>\n",
              "      <th>max</th>\n",
              "      <td>80995.000000</td>\n",
              "      <td>38970.000000</td>\n",
              "      <td>18287.000000</td>\n",
              "    </tr>\n",
              "  </tbody>\n",
              "</table>\n",
              "</div>"
            ],
            "text/plain": [
              "            Quantity      UnitPrice     CustomerID\n",
              "count  540455.000000  540455.000000  540455.000000\n",
              "mean        9.603129       4.623519   11507.604224\n",
              "std       218.007598      96.889628    6761.212883\n",
              "min    -80995.000000  -11062.060000      -1.000000\n",
              "25%         1.000000       1.250000   12367.000000\n",
              "50%         3.000000       2.080000   14390.000000\n",
              "75%        10.000000       4.130000   16261.000000\n",
              "max     80995.000000   38970.000000   18287.000000"
            ]
          },
          "metadata": {
            "tags": []
          },
          "execution_count": 151
        }
      ]
    },
    {
      "cell_type": "markdown",
      "metadata": {
        "id": "rYUI47UNBpzF"
      },
      "source": [
        "Observemos como hay cantidades y precios negativos. Podrian ser devoluciones?"
      ]
    },
    {
      "cell_type": "markdown",
      "metadata": {
        "id": "o25Sc0YDCByA"
      },
      "source": [
        "### Precio"
      ]
    },
    {
      "cell_type": "code",
      "metadata": {
        "colab": {
          "base_uri": "https://localhost:8080/",
          "height": 112
        },
        "id": "d_cgZvITBvDo",
        "outputId": "8ff28982-49fa-4c55-8239-dd7efc0da55f"
      },
      "source": [
        "retail[retail['UnitPrice']<0.0]"
      ],
      "execution_count": 152,
      "outputs": [
        {
          "output_type": "execute_result",
          "data": {
            "text/html": [
              "<div>\n",
              "<style scoped>\n",
              "    .dataframe tbody tr th:only-of-type {\n",
              "        vertical-align: middle;\n",
              "    }\n",
              "\n",
              "    .dataframe tbody tr th {\n",
              "        vertical-align: top;\n",
              "    }\n",
              "\n",
              "    .dataframe thead th {\n",
              "        text-align: right;\n",
              "    }\n",
              "</style>\n",
              "<table border=\"1\" class=\"dataframe\">\n",
              "  <thead>\n",
              "    <tr style=\"text-align: right;\">\n",
              "      <th></th>\n",
              "      <th>InvoiceNo</th>\n",
              "      <th>StockCode</th>\n",
              "      <th>Description</th>\n",
              "      <th>Quantity</th>\n",
              "      <th>InvoiceDate</th>\n",
              "      <th>UnitPrice</th>\n",
              "      <th>CustomerID</th>\n",
              "      <th>Country</th>\n",
              "      <th>date</th>\n",
              "      <th>year_month</th>\n",
              "    </tr>\n",
              "  </thead>\n",
              "  <tbody>\n",
              "    <tr>\n",
              "      <th>299983</th>\n",
              "      <td>A563186</td>\n",
              "      <td>B</td>\n",
              "      <td>Adjust bad debt</td>\n",
              "      <td>1</td>\n",
              "      <td>8/12/2011 14:51</td>\n",
              "      <td>-11062.06</td>\n",
              "      <td>-1</td>\n",
              "      <td>United Kingdom</td>\n",
              "      <td>2011-08-12 14:51:00</td>\n",
              "      <td>2011-08-31</td>\n",
              "    </tr>\n",
              "    <tr>\n",
              "      <th>299984</th>\n",
              "      <td>A563187</td>\n",
              "      <td>B</td>\n",
              "      <td>Adjust bad debt</td>\n",
              "      <td>1</td>\n",
              "      <td>8/12/2011 14:52</td>\n",
              "      <td>-11062.06</td>\n",
              "      <td>-1</td>\n",
              "      <td>United Kingdom</td>\n",
              "      <td>2011-08-12 14:52:00</td>\n",
              "      <td>2011-08-31</td>\n",
              "    </tr>\n",
              "  </tbody>\n",
              "</table>\n",
              "</div>"
            ],
            "text/plain": [
              "       InvoiceNo StockCode  ...                date  year_month\n",
              "299983   A563186         B  ... 2011-08-12 14:51:00  2011-08-31\n",
              "299984   A563187         B  ... 2011-08-12 14:52:00  2011-08-31\n",
              "\n",
              "[2 rows x 10 columns]"
            ]
          },
          "metadata": {
            "tags": []
          },
          "execution_count": 152
        }
      ]
    },
    {
      "cell_type": "markdown",
      "metadata": {
        "id": "r7OZUE--CNvg"
      },
      "source": [
        "Por el la descripcion podemos inferir que son ajustes de cuentas, dada la cantidad de ventas, podemos eliminarla sin causar mucho problema."
      ]
    },
    {
      "cell_type": "code",
      "metadata": {
        "id": "Kfcy7f1ZCXom"
      },
      "source": [
        "retail = retail[~(retail['UnitPrice']<0.0)]"
      ],
      "execution_count": 153,
      "outputs": []
    },
    {
      "cell_type": "markdown",
      "metadata": {
        "id": "jgvROkJICFTV"
      },
      "source": [
        "### Cantidad"
      ]
    },
    {
      "cell_type": "code",
      "metadata": {
        "colab": {
          "base_uri": "https://localhost:8080/",
          "height": 424
        },
        "id": "kJaXhwlZB1-V",
        "outputId": "f5e72158-ec20-4d8e-bac8-5e8540a2eeb0"
      },
      "source": [
        "retail[retail['Quantity']<0.0]"
      ],
      "execution_count": 154,
      "outputs": [
        {
          "output_type": "execute_result",
          "data": {
            "text/html": [
              "<div>\n",
              "<style scoped>\n",
              "    .dataframe tbody tr th:only-of-type {\n",
              "        vertical-align: middle;\n",
              "    }\n",
              "\n",
              "    .dataframe tbody tr th {\n",
              "        vertical-align: top;\n",
              "    }\n",
              "\n",
              "    .dataframe thead th {\n",
              "        text-align: right;\n",
              "    }\n",
              "</style>\n",
              "<table border=\"1\" class=\"dataframe\">\n",
              "  <thead>\n",
              "    <tr style=\"text-align: right;\">\n",
              "      <th></th>\n",
              "      <th>InvoiceNo</th>\n",
              "      <th>StockCode</th>\n",
              "      <th>Description</th>\n",
              "      <th>Quantity</th>\n",
              "      <th>InvoiceDate</th>\n",
              "      <th>UnitPrice</th>\n",
              "      <th>CustomerID</th>\n",
              "      <th>Country</th>\n",
              "      <th>date</th>\n",
              "      <th>year_month</th>\n",
              "    </tr>\n",
              "  </thead>\n",
              "  <tbody>\n",
              "    <tr>\n",
              "      <th>141</th>\n",
              "      <td>C536379</td>\n",
              "      <td>D</td>\n",
              "      <td>Discount</td>\n",
              "      <td>-1</td>\n",
              "      <td>12/1/2010 9:41</td>\n",
              "      <td>27.50</td>\n",
              "      <td>14527</td>\n",
              "      <td>United Kingdom</td>\n",
              "      <td>2010-12-01 09:41:00</td>\n",
              "      <td>2010-12-31</td>\n",
              "    </tr>\n",
              "    <tr>\n",
              "      <th>154</th>\n",
              "      <td>C536383</td>\n",
              "      <td>35004C</td>\n",
              "      <td>SET OF 3 COLOURED  FLYING DUCKS</td>\n",
              "      <td>-1</td>\n",
              "      <td>12/1/2010 9:49</td>\n",
              "      <td>4.65</td>\n",
              "      <td>15311</td>\n",
              "      <td>United Kingdom</td>\n",
              "      <td>2010-12-01 09:49:00</td>\n",
              "      <td>2010-12-31</td>\n",
              "    </tr>\n",
              "    <tr>\n",
              "      <th>235</th>\n",
              "      <td>C536391</td>\n",
              "      <td>22556</td>\n",
              "      <td>PLASTERS IN TIN CIRCUS PARADE</td>\n",
              "      <td>-12</td>\n",
              "      <td>12/1/2010 10:24</td>\n",
              "      <td>1.65</td>\n",
              "      <td>17548</td>\n",
              "      <td>United Kingdom</td>\n",
              "      <td>2010-12-01 10:24:00</td>\n",
              "      <td>2010-12-31</td>\n",
              "    </tr>\n",
              "    <tr>\n",
              "      <th>236</th>\n",
              "      <td>C536391</td>\n",
              "      <td>21984</td>\n",
              "      <td>PACK OF 12 PINK PAISLEY TISSUES</td>\n",
              "      <td>-24</td>\n",
              "      <td>12/1/2010 10:24</td>\n",
              "      <td>0.29</td>\n",
              "      <td>17548</td>\n",
              "      <td>United Kingdom</td>\n",
              "      <td>2010-12-01 10:24:00</td>\n",
              "      <td>2010-12-31</td>\n",
              "    </tr>\n",
              "    <tr>\n",
              "      <th>237</th>\n",
              "      <td>C536391</td>\n",
              "      <td>21983</td>\n",
              "      <td>PACK OF 12 BLUE PAISLEY TISSUES</td>\n",
              "      <td>-24</td>\n",
              "      <td>12/1/2010 10:24</td>\n",
              "      <td>0.29</td>\n",
              "      <td>17548</td>\n",
              "      <td>United Kingdom</td>\n",
              "      <td>2010-12-01 10:24:00</td>\n",
              "      <td>2010-12-31</td>\n",
              "    </tr>\n",
              "    <tr>\n",
              "      <th>...</th>\n",
              "      <td>...</td>\n",
              "      <td>...</td>\n",
              "      <td>...</td>\n",
              "      <td>...</td>\n",
              "      <td>...</td>\n",
              "      <td>...</td>\n",
              "      <td>...</td>\n",
              "      <td>...</td>\n",
              "      <td>...</td>\n",
              "      <td>...</td>\n",
              "    </tr>\n",
              "    <tr>\n",
              "      <th>540449</th>\n",
              "      <td>C581490</td>\n",
              "      <td>23144</td>\n",
              "      <td>ZINC T-LIGHT HOLDER STARS SMALL</td>\n",
              "      <td>-11</td>\n",
              "      <td>12/9/2011 9:57</td>\n",
              "      <td>0.83</td>\n",
              "      <td>14397</td>\n",
              "      <td>United Kingdom</td>\n",
              "      <td>2011-12-09 09:57:00</td>\n",
              "      <td>2011-12-31</td>\n",
              "    </tr>\n",
              "    <tr>\n",
              "      <th>541541</th>\n",
              "      <td>C581499</td>\n",
              "      <td>M</td>\n",
              "      <td>Manual</td>\n",
              "      <td>-1</td>\n",
              "      <td>12/9/2011 10:28</td>\n",
              "      <td>224.69</td>\n",
              "      <td>15498</td>\n",
              "      <td>United Kingdom</td>\n",
              "      <td>2011-12-09 10:28:00</td>\n",
              "      <td>2011-12-31</td>\n",
              "    </tr>\n",
              "    <tr>\n",
              "      <th>541715</th>\n",
              "      <td>C581568</td>\n",
              "      <td>21258</td>\n",
              "      <td>VICTORIAN SEWING BOX LARGE</td>\n",
              "      <td>-5</td>\n",
              "      <td>12/9/2011 11:57</td>\n",
              "      <td>10.95</td>\n",
              "      <td>15311</td>\n",
              "      <td>United Kingdom</td>\n",
              "      <td>2011-12-09 11:57:00</td>\n",
              "      <td>2011-12-31</td>\n",
              "    </tr>\n",
              "    <tr>\n",
              "      <th>541716</th>\n",
              "      <td>C581569</td>\n",
              "      <td>84978</td>\n",
              "      <td>HANGING HEART JAR T-LIGHT HOLDER</td>\n",
              "      <td>-1</td>\n",
              "      <td>12/9/2011 11:58</td>\n",
              "      <td>1.25</td>\n",
              "      <td>17315</td>\n",
              "      <td>United Kingdom</td>\n",
              "      <td>2011-12-09 11:58:00</td>\n",
              "      <td>2011-12-31</td>\n",
              "    </tr>\n",
              "    <tr>\n",
              "      <th>541717</th>\n",
              "      <td>C581569</td>\n",
              "      <td>20979</td>\n",
              "      <td>36 PENCILS TUBE RED RETROSPOT</td>\n",
              "      <td>-5</td>\n",
              "      <td>12/9/2011 11:58</td>\n",
              "      <td>1.25</td>\n",
              "      <td>17315</td>\n",
              "      <td>United Kingdom</td>\n",
              "      <td>2011-12-09 11:58:00</td>\n",
              "      <td>2011-12-31</td>\n",
              "    </tr>\n",
              "  </tbody>\n",
              "</table>\n",
              "<p>9762 rows × 10 columns</p>\n",
              "</div>"
            ],
            "text/plain": [
              "       InvoiceNo StockCode  ...                date  year_month\n",
              "141      C536379         D  ... 2010-12-01 09:41:00  2010-12-31\n",
              "154      C536383    35004C  ... 2010-12-01 09:49:00  2010-12-31\n",
              "235      C536391     22556  ... 2010-12-01 10:24:00  2010-12-31\n",
              "236      C536391     21984  ... 2010-12-01 10:24:00  2010-12-31\n",
              "237      C536391     21983  ... 2010-12-01 10:24:00  2010-12-31\n",
              "...          ...       ...  ...                 ...         ...\n",
              "540449   C581490     23144  ... 2011-12-09 09:57:00  2011-12-31\n",
              "541541   C581499         M  ... 2011-12-09 10:28:00  2011-12-31\n",
              "541715   C581568     21258  ... 2011-12-09 11:57:00  2011-12-31\n",
              "541716   C581569     84978  ... 2011-12-09 11:58:00  2011-12-31\n",
              "541717   C581569     20979  ... 2011-12-09 11:58:00  2011-12-31\n",
              "\n",
              "[9762 rows x 10 columns]"
            ]
          },
          "metadata": {
            "tags": []
          },
          "execution_count": 154
        }
      ]
    },
    {
      "cell_type": "markdown",
      "metadata": {
        "id": "UHtGnXDJCb8V"
      },
      "source": [
        "En este caso parece que no hay algo que nos permita inferir que ocurrion, asi que podemos inferir que son **devoluciones**. Tambien puedes revisar la discusion en Kaggle: https://www.kaggle.com/vijayuv/onlineretail/discussion/130783 "
      ]
    },
    {
      "cell_type": "markdown",
      "metadata": {
        "id": "vyLtb7YAEmW2"
      },
      "source": [
        "### CustumerID"
      ]
    },
    {
      "cell_type": "code",
      "metadata": {
        "colab": {
          "base_uri": "https://localhost:8080/"
        },
        "id": "HIhf9-joEpXa",
        "outputId": "971d3aa1-3db1-489e-ec6c-ef472e0a6fed"
      },
      "source": [
        "print('Numero de clientes unicos:  ',len(retail['CustomerID'].unique()))"
      ],
      "execution_count": 155,
      "outputs": [
        {
          "output_type": "stream",
          "text": [
            "Numero de clientes unicos:   4373\n"
          ],
          "name": "stdout"
        }
      ]
    },
    {
      "cell_type": "markdown",
      "metadata": {
        "id": "fb4PgAajE0A7"
      },
      "source": [
        "### StockCode y Description"
      ]
    },
    {
      "cell_type": "code",
      "metadata": {
        "colab": {
          "base_uri": "https://localhost:8080/"
        },
        "id": "Es7Uzf24E5Ds",
        "outputId": "82a9e309-dbb4-4f5c-96d3-c5a3b1a56888"
      },
      "source": [
        "print('Numero de StockCode unicos:  ',len(retail['StockCode'].unique()))"
      ],
      "execution_count": 156,
      "outputs": [
        {
          "output_type": "stream",
          "text": [
            "Numero de StockCode unicos:   3958\n"
          ],
          "name": "stdout"
        }
      ]
    },
    {
      "cell_type": "code",
      "metadata": {
        "colab": {
          "base_uri": "https://localhost:8080/"
        },
        "id": "xx_trzOyFMLU",
        "outputId": "e323dd5d-52ba-4aa3-8705-5297c9f1bfd9"
      },
      "source": [
        "print('Numero de Description unicos:  ',len(retail['Description'].unique()))"
      ],
      "execution_count": 157,
      "outputs": [
        {
          "output_type": "stream",
          "text": [
            "Numero de Description unicos:   4223\n"
          ],
          "name": "stdout"
        }
      ]
    },
    {
      "cell_type": "markdown",
      "metadata": {
        "id": "KU0mAyp0FRi5"
      },
      "source": [
        "Podemos observar que el stockcode y la descripcion no tienen el mismo numero. Investiguiemos un poco mas."
      ]
    },
    {
      "cell_type": "code",
      "metadata": {
        "colab": {
          "base_uri": "https://localhost:8080/",
          "height": 424
        },
        "id": "O8KtOuVTFhDI",
        "outputId": "dd3c9d1a-4160-4f8c-ba8b-03448e5a1a7c"
      },
      "source": [
        "retail[['StockCode', 'Description']].drop_duplicates().sort_values('StockCode')"
      ],
      "execution_count": 158,
      "outputs": [
        {
          "output_type": "execute_result",
          "data": {
            "text/html": [
              "<div>\n",
              "<style scoped>\n",
              "    .dataframe tbody tr th:only-of-type {\n",
              "        vertical-align: middle;\n",
              "    }\n",
              "\n",
              "    .dataframe tbody tr th {\n",
              "        vertical-align: top;\n",
              "    }\n",
              "\n",
              "    .dataframe thead th {\n",
              "        text-align: right;\n",
              "    }\n",
              "</style>\n",
              "<table border=\"1\" class=\"dataframe\">\n",
              "  <thead>\n",
              "    <tr style=\"text-align: right;\">\n",
              "      <th></th>\n",
              "      <th>StockCode</th>\n",
              "      <th>Description</th>\n",
              "    </tr>\n",
              "  </thead>\n",
              "  <tbody>\n",
              "    <tr>\n",
              "      <th>31</th>\n",
              "      <td>10002</td>\n",
              "      <td>INFLATABLE POLITICAL GLOBE</td>\n",
              "    </tr>\n",
              "    <tr>\n",
              "      <th>103332</th>\n",
              "      <td>10080</td>\n",
              "      <td>GROOVY CACTUS INFLATABLE</td>\n",
              "    </tr>\n",
              "    <tr>\n",
              "      <th>454350</th>\n",
              "      <td>10080</td>\n",
              "      <td>check</td>\n",
              "    </tr>\n",
              "    <tr>\n",
              "      <th>5452</th>\n",
              "      <td>10120</td>\n",
              "      <td>DOGGY RUBBER</td>\n",
              "    </tr>\n",
              "    <tr>\n",
              "      <th>5451</th>\n",
              "      <td>10123C</td>\n",
              "      <td>HEARTS WRAPPING TAPE</td>\n",
              "    </tr>\n",
              "    <tr>\n",
              "      <th>...</th>\n",
              "      <td>...</td>\n",
              "      <td>...</td>\n",
              "    </tr>\n",
              "    <tr>\n",
              "      <th>228807</th>\n",
              "      <td>gift_0001_20</td>\n",
              "      <td>to push order througha s stock was</td>\n",
              "    </tr>\n",
              "    <tr>\n",
              "      <th>44725</th>\n",
              "      <td>gift_0001_30</td>\n",
              "      <td>Dotcomgiftshop Gift Voucher £30.00</td>\n",
              "    </tr>\n",
              "    <tr>\n",
              "      <th>38248</th>\n",
              "      <td>gift_0001_40</td>\n",
              "      <td>Dotcomgiftshop Gift Voucher £40.00</td>\n",
              "    </tr>\n",
              "    <tr>\n",
              "      <th>42057</th>\n",
              "      <td>gift_0001_50</td>\n",
              "      <td>Dotcomgiftshop Gift Voucher £50.00</td>\n",
              "    </tr>\n",
              "    <tr>\n",
              "      <th>40383</th>\n",
              "      <td>m</td>\n",
              "      <td>Manual</td>\n",
              "    </tr>\n",
              "  </tbody>\n",
              "</table>\n",
              "<p>4792 rows × 2 columns</p>\n",
              "</div>"
            ],
            "text/plain": [
              "           StockCode                          Description\n",
              "31             10002          INFLATABLE POLITICAL GLOBE \n",
              "103332         10080             GROOVY CACTUS INFLATABLE\n",
              "454350         10080                                check\n",
              "5452           10120                         DOGGY RUBBER\n",
              "5451          10123C                HEARTS WRAPPING TAPE \n",
              "...              ...                                  ...\n",
              "228807  gift_0001_20  to push order througha s stock was \n",
              "44725   gift_0001_30   Dotcomgiftshop Gift Voucher £30.00\n",
              "38248   gift_0001_40   Dotcomgiftshop Gift Voucher £40.00\n",
              "42057   gift_0001_50   Dotcomgiftshop Gift Voucher £50.00\n",
              "40383              m                               Manual\n",
              "\n",
              "[4792 rows x 2 columns]"
            ]
          },
          "metadata": {
            "tags": []
          },
          "execution_count": 158
        }
      ]
    },
    {
      "cell_type": "code",
      "metadata": {
        "colab": {
          "base_uri": "https://localhost:8080/",
          "height": 424
        },
        "id": "OhH8T4ngF2HF",
        "outputId": "c908e30e-4ebe-41e6-a6bb-4b39502d35c6"
      },
      "source": [
        "r_ = retail[['StockCode', 'Description']].drop_duplicates().sort_values('StockCode')\n",
        "r_[r_.duplicated(subset='StockCode', keep=False)]"
      ],
      "execution_count": 159,
      "outputs": [
        {
          "output_type": "execute_result",
          "data": {
            "text/html": [
              "<div>\n",
              "<style scoped>\n",
              "    .dataframe tbody tr th:only-of-type {\n",
              "        vertical-align: middle;\n",
              "    }\n",
              "\n",
              "    .dataframe tbody tr th {\n",
              "        vertical-align: top;\n",
              "    }\n",
              "\n",
              "    .dataframe thead th {\n",
              "        text-align: right;\n",
              "    }\n",
              "</style>\n",
              "<table border=\"1\" class=\"dataframe\">\n",
              "  <thead>\n",
              "    <tr style=\"text-align: right;\">\n",
              "      <th></th>\n",
              "      <th>StockCode</th>\n",
              "      <th>Description</th>\n",
              "    </tr>\n",
              "  </thead>\n",
              "  <tbody>\n",
              "    <tr>\n",
              "      <th>103332</th>\n",
              "      <td>10080</td>\n",
              "      <td>GROOVY CACTUS INFLATABLE</td>\n",
              "    </tr>\n",
              "    <tr>\n",
              "      <th>454350</th>\n",
              "      <td>10080</td>\n",
              "      <td>check</td>\n",
              "    </tr>\n",
              "    <tr>\n",
              "      <th>741</th>\n",
              "      <td>10133</td>\n",
              "      <td>COLOURING PENCILS BROWN TUBE</td>\n",
              "    </tr>\n",
              "    <tr>\n",
              "      <th>474647</th>\n",
              "      <td>10133</td>\n",
              "      <td>damaged</td>\n",
              "    </tr>\n",
              "    <tr>\n",
              "      <th>192289</th>\n",
              "      <td>15058A</td>\n",
              "      <td>wet/rusty</td>\n",
              "    </tr>\n",
              "    <tr>\n",
              "      <th>...</th>\n",
              "      <td>...</td>\n",
              "      <td>...</td>\n",
              "    </tr>\n",
              "    <tr>\n",
              "      <th>24906</th>\n",
              "      <td>DCGS0003</td>\n",
              "      <td>BOXED GLASS ASHTRAY</td>\n",
              "    </tr>\n",
              "    <tr>\n",
              "      <th>279254</th>\n",
              "      <td>DCGS0069</td>\n",
              "      <td>ebay</td>\n",
              "    </tr>\n",
              "    <tr>\n",
              "      <th>75053</th>\n",
              "      <td>DCGS0069</td>\n",
              "      <td>OOH LA LA DOGS COLLAR</td>\n",
              "    </tr>\n",
              "    <tr>\n",
              "      <th>44794</th>\n",
              "      <td>gift_0001_20</td>\n",
              "      <td>Dotcomgiftshop Gift Voucher £20.00</td>\n",
              "    </tr>\n",
              "    <tr>\n",
              "      <th>228807</th>\n",
              "      <td>gift_0001_20</td>\n",
              "      <td>to push order througha s stock was</td>\n",
              "    </tr>\n",
              "  </tbody>\n",
              "</table>\n",
              "<p>1484 rows × 2 columns</p>\n",
              "</div>"
            ],
            "text/plain": [
              "           StockCode                          Description\n",
              "103332         10080             GROOVY CACTUS INFLATABLE\n",
              "454350         10080                                check\n",
              "741            10133         COLOURING PENCILS BROWN TUBE\n",
              "474647         10133                              damaged\n",
              "192289        15058A                            wet/rusty\n",
              "...              ...                                  ...\n",
              "24906       DCGS0003                  BOXED GLASS ASHTRAY\n",
              "279254      DCGS0069                                 ebay\n",
              "75053       DCGS0069                OOH LA LA DOGS COLLAR\n",
              "44794   gift_0001_20   Dotcomgiftshop Gift Voucher £20.00\n",
              "228807  gift_0001_20  to push order througha s stock was \n",
              "\n",
              "[1484 rows x 2 columns]"
            ]
          },
          "metadata": {
            "tags": []
          },
          "execution_count": 159
        }
      ]
    },
    {
      "cell_type": "markdown",
      "metadata": {
        "id": "7HwdwbdjGSmt"
      },
      "source": [
        "Podemos observar como un solo StockCode (i.e. 10080) pertenece a varias descripciones. Por lo anterior conviene utilizar description como producto de venta, en especial para nuestra primera iteracion. Despues podriamos crear un diccionario o tabla que arregle estos problemas."
      ]
    },
    {
      "cell_type": "markdown",
      "metadata": {
        "id": "hbEEXPfEGwXC"
      },
      "source": [
        "**Nota**: Al parecer los productos que estan escritos con letra minuscula son 'raros' o anomalos. Por ejemplo tienen adjetivos (wet/rusty), son vouchers de regalo (Dotcomgiftshop Gift Voucher £20.00), o cosas variadas (to push order througha s stock was). Tambien podriamos limpiar los datos de estos productos, pero dada la pequeña cantidad que representan y ser nuestra primera iteracion lo podemos obviar."
      ]
    },
    {
      "cell_type": "markdown",
      "metadata": {
        "id": "F0ugmAKjHSxo"
      },
      "source": [
        "### InvoiceNo"
      ]
    },
    {
      "cell_type": "markdown",
      "metadata": {
        "id": "ix77ySMRIWdc"
      },
      "source": [
        "InvoiceNo es el numero de compra o de transaccion, de manera que una persona que compra varios productos, pero en una sola compra los veremos bajo el mismo InvoiceNo. Esto lo inferimos de los snippets de codigo, y de una busqueda en google (https://dictionary.cambridge.org/us/dictionary/english/invoice)."
      ]
    },
    {
      "cell_type": "code",
      "metadata": {
        "colab": {
          "base_uri": "https://localhost:8080/"
        },
        "id": "-IRvKFvgHZmU",
        "outputId": "a803560f-8fd6-49b6-c0d4-b99309e01f9e"
      },
      "source": [
        "print('Numero de InvoiceNo unicos:  ',len(retail['InvoiceNo'].unique()))"
      ],
      "execution_count": 160,
      "outputs": [
        {
          "output_type": "stream",
          "text": [
            "Numero de InvoiceNo unicos:   24444\n"
          ],
          "name": "stdout"
        }
      ]
    },
    {
      "cell_type": "code",
      "metadata": {
        "colab": {
          "base_uri": "https://localhost:8080/",
          "height": 424
        },
        "id": "3rPLQ5Y7H-38",
        "outputId": "a2f3c307-5e82-4083-8b3b-c2bad6d3ac4d"
      },
      "source": [
        "retail[['InvoiceNo', 'CustomerID', 'Description']].sort_values('InvoiceNo')"
      ],
      "execution_count": 161,
      "outputs": [
        {
          "output_type": "execute_result",
          "data": {
            "text/html": [
              "<div>\n",
              "<style scoped>\n",
              "    .dataframe tbody tr th:only-of-type {\n",
              "        vertical-align: middle;\n",
              "    }\n",
              "\n",
              "    .dataframe tbody tr th {\n",
              "        vertical-align: top;\n",
              "    }\n",
              "\n",
              "    .dataframe thead th {\n",
              "        text-align: right;\n",
              "    }\n",
              "</style>\n",
              "<table border=\"1\" class=\"dataframe\">\n",
              "  <thead>\n",
              "    <tr style=\"text-align: right;\">\n",
              "      <th></th>\n",
              "      <th>InvoiceNo</th>\n",
              "      <th>CustomerID</th>\n",
              "      <th>Description</th>\n",
              "    </tr>\n",
              "  </thead>\n",
              "  <tbody>\n",
              "    <tr>\n",
              "      <th>0</th>\n",
              "      <td>536365</td>\n",
              "      <td>17850</td>\n",
              "      <td>WHITE HANGING HEART T-LIGHT HOLDER</td>\n",
              "    </tr>\n",
              "    <tr>\n",
              "      <th>1</th>\n",
              "      <td>536365</td>\n",
              "      <td>17850</td>\n",
              "      <td>WHITE METAL LANTERN</td>\n",
              "    </tr>\n",
              "    <tr>\n",
              "      <th>2</th>\n",
              "      <td>536365</td>\n",
              "      <td>17850</td>\n",
              "      <td>CREAM CUPID HEARTS COAT HANGER</td>\n",
              "    </tr>\n",
              "    <tr>\n",
              "      <th>3</th>\n",
              "      <td>536365</td>\n",
              "      <td>17850</td>\n",
              "      <td>KNITTED UNION FLAG HOT WATER BOTTLE</td>\n",
              "    </tr>\n",
              "    <tr>\n",
              "      <th>4</th>\n",
              "      <td>536365</td>\n",
              "      <td>17850</td>\n",
              "      <td>RED WOOLLY HOTTIE WHITE HEART.</td>\n",
              "    </tr>\n",
              "    <tr>\n",
              "      <th>...</th>\n",
              "      <td>...</td>\n",
              "      <td>...</td>\n",
              "      <td>...</td>\n",
              "    </tr>\n",
              "    <tr>\n",
              "      <th>540449</th>\n",
              "      <td>C581490</td>\n",
              "      <td>14397</td>\n",
              "      <td>ZINC T-LIGHT HOLDER STARS SMALL</td>\n",
              "    </tr>\n",
              "    <tr>\n",
              "      <th>541541</th>\n",
              "      <td>C581499</td>\n",
              "      <td>15498</td>\n",
              "      <td>Manual</td>\n",
              "    </tr>\n",
              "    <tr>\n",
              "      <th>541715</th>\n",
              "      <td>C581568</td>\n",
              "      <td>15311</td>\n",
              "      <td>VICTORIAN SEWING BOX LARGE</td>\n",
              "    </tr>\n",
              "    <tr>\n",
              "      <th>541716</th>\n",
              "      <td>C581569</td>\n",
              "      <td>17315</td>\n",
              "      <td>HANGING HEART JAR T-LIGHT HOLDER</td>\n",
              "    </tr>\n",
              "    <tr>\n",
              "      <th>541717</th>\n",
              "      <td>C581569</td>\n",
              "      <td>17315</td>\n",
              "      <td>36 PENCILS TUBE RED RETROSPOT</td>\n",
              "    </tr>\n",
              "  </tbody>\n",
              "</table>\n",
              "<p>540453 rows × 3 columns</p>\n",
              "</div>"
            ],
            "text/plain": [
              "       InvoiceNo  CustomerID                          Description\n",
              "0         536365       17850   WHITE HANGING HEART T-LIGHT HOLDER\n",
              "1         536365       17850                  WHITE METAL LANTERN\n",
              "2         536365       17850       CREAM CUPID HEARTS COAT HANGER\n",
              "3         536365       17850  KNITTED UNION FLAG HOT WATER BOTTLE\n",
              "4         536365       17850       RED WOOLLY HOTTIE WHITE HEART.\n",
              "...          ...         ...                                  ...\n",
              "540449   C581490       14397      ZINC T-LIGHT HOLDER STARS SMALL\n",
              "541541   C581499       15498                               Manual\n",
              "541715   C581568       15311           VICTORIAN SEWING BOX LARGE\n",
              "541716   C581569       17315     HANGING HEART JAR T-LIGHT HOLDER\n",
              "541717   C581569       17315        36 PENCILS TUBE RED RETROSPOT\n",
              "\n",
              "[540453 rows x 3 columns]"
            ]
          },
          "metadata": {
            "tags": []
          },
          "execution_count": 161
        }
      ]
    },
    {
      "cell_type": "markdown",
      "metadata": {
        "id": "gdt0DlIZJqbP"
      },
      "source": [
        "### Fecha"
      ]
    },
    {
      "cell_type": "code",
      "metadata": {
        "colab": {
          "base_uri": "https://localhost:8080/"
        },
        "id": "FEsgNsdCKkbT",
        "outputId": "6c4a336f-1c62-4f09-998c-864321f8695f"
      },
      "source": [
        "print('Min date ',retail['date'].min())\n",
        "print('Max date  ', retail['date'].max())"
      ],
      "execution_count": 162,
      "outputs": [
        {
          "output_type": "stream",
          "text": [
            "Min date  2010-12-01 08:26:00\n",
            "Max date   2011-12-09 12:50:00\n"
          ],
          "name": "stdout"
        }
      ]
    },
    {
      "cell_type": "markdown",
      "metadata": {
        "id": "Yuec0YUOK13K"
      },
      "source": [
        "Podemos observar que los datos corresponden a poco mas de un año, dado que el ultimo mes no esta completo y probablemente hagamos agregaciones a nivel mensula conviene quitarlo para evitar confusiones.  \n",
        "**Nota**: Podriamos agregar el corte en la aprte de ETL o aqui."
      ]
    },
    {
      "cell_type": "code",
      "metadata": {
        "id": "_jf3ayUXNmxU"
      },
      "source": [
        "retail = retail[retail['date'] < pd.to_datetime('2011-12-01')]"
      ],
      "execution_count": 163,
      "outputs": []
    },
    {
      "cell_type": "code",
      "metadata": {
        "colab": {
          "base_uri": "https://localhost:8080/",
          "height": 412
        },
        "id": "e7g8XznLOjSb",
        "outputId": "e2c696cd-3710-4be4-fb21-4875f874746b"
      },
      "source": [
        "fechas = retail[['date']].drop_duplicates()\n",
        "fechas['indicadora'] = 5\n",
        "sns.lineplot(data=fechas, x='date', y='indicadora')"
      ],
      "execution_count": 164,
      "outputs": [
        {
          "output_type": "execute_result",
          "data": {
            "text/plain": [
              "<matplotlib.axes._subplots.AxesSubplot at 0x7f28a5b6c850>"
            ]
          },
          "metadata": {
            "tags": []
          },
          "execution_count": 164
        },
        {
          "output_type": "display_data",
          "data": {
            "image/png": "[encoded data removed]",
            "text/plain": [
              "<Figure size 1152x432 with 1 Axes>"
            ]
          },
          "metadata": {
            "tags": []
          }
        }
      ]
    },
    {
      "cell_type": "markdown",
      "metadata": {
        "id": "OLYEThinZA-n"
      },
      "source": [
        "### Country"
      ]
    },
    {
      "cell_type": "markdown",
      "metadata": {
        "id": "fgbZ0bzNQuhq"
      },
      "source": [
        "## EDA Metricas"
      ]
    },
    {
      "cell_type": "markdown",
      "metadata": {
        "id": "aHA0W5QPpcKt"
      },
      "source": [
        "### Pais  \n",
        "Esto realmente tebdria que ir en el ETL, pero dado que queriamos entender de manera general el contenido de las columans, preferimos analizarlo asi."
      ]
    },
    {
      "cell_type": "markdown",
      "metadata": {
        "id": "yQQ53wnEZM1y"
      },
      "source": [
        "Para facilitar el analisis nos concentraremos en UK unicamente, pues es el que tiene mas datos (ve las siguientes celdas)"
      ]
    },
    {
      "cell_type": "code",
      "metadata": {
        "colab": {
          "base_uri": "https://localhost:8080/"
        },
        "id": "IAjnZCOqZV0L",
        "outputId": "4da0864f-394d-48e8-d520-fcc45e17216d"
      },
      "source": [
        "retail['Country'].unique()"
      ],
      "execution_count": 165,
      "outputs": [
        {
          "output_type": "execute_result",
          "data": {
            "text/plain": [
              "array(['United Kingdom', 'France', 'Australia', 'Netherlands', 'Germany',\n",
              "       'Norway', 'EIRE', 'Switzerland', 'Spain', 'Poland', 'Portugal',\n",
              "       'Italy', 'Belgium', 'Lithuania', 'Japan', 'Iceland',\n",
              "       'Channel Islands', 'Denmark', 'Cyprus', 'Sweden', 'Austria',\n",
              "       'Israel', 'Finland', 'Bahrain', 'Greece', 'Hong Kong', 'Singapore',\n",
              "       'Lebanon', 'United Arab Emirates', 'Saudi Arabia',\n",
              "       'Czech Republic', 'Canada', 'Unspecified', 'Brazil', 'USA',\n",
              "       'European Community', 'Malta', 'RSA'], dtype=object)"
            ]
          },
          "metadata": {
            "tags": []
          },
          "execution_count": 165
        }
      ]
    },
    {
      "cell_type": "code",
      "metadata": {
        "colab": {
          "base_uri": "https://localhost:8080/",
          "height": 1000
        },
        "id": "LMPp_B6EZXGX",
        "outputId": "6faa6431-ceae-46e6-8e2f-cff59aee0259"
      },
      "source": [
        "retail[['Country', 'InvoiceNo']].drop_duplicates().groupby('Country', as_index=False)['InvoiceNo'].count().sort_values('InvoiceNo', ascending=False)"
      ],
      "execution_count": 166,
      "outputs": [
        {
          "output_type": "execute_result",
          "data": {
            "text/html": [
              "<div>\n",
              "<style scoped>\n",
              "    .dataframe tbody tr th:only-of-type {\n",
              "        vertical-align: middle;\n",
              "    }\n",
              "\n",
              "    .dataframe tbody tr th {\n",
              "        vertical-align: top;\n",
              "    }\n",
              "\n",
              "    .dataframe thead th {\n",
              "        text-align: right;\n",
              "    }\n",
              "</style>\n",
              "<table border=\"1\" class=\"dataframe\">\n",
              "  <thead>\n",
              "    <tr style=\"text-align: right;\">\n",
              "      <th></th>\n",
              "      <th>Country</th>\n",
              "      <th>InvoiceNo</th>\n",
              "    </tr>\n",
              "  </thead>\n",
              "  <tbody>\n",
              "    <tr>\n",
              "      <th>36</th>\n",
              "      <td>United Kingdom</td>\n",
              "      <td>21131</td>\n",
              "    </tr>\n",
              "    <tr>\n",
              "      <th>14</th>\n",
              "      <td>Germany</td>\n",
              "      <td>581</td>\n",
              "    </tr>\n",
              "    <tr>\n",
              "      <th>13</th>\n",
              "      <td>France</td>\n",
              "      <td>440</td>\n",
              "    </tr>\n",
              "    <tr>\n",
              "      <th>10</th>\n",
              "      <td>EIRE</td>\n",
              "      <td>348</td>\n",
              "    </tr>\n",
              "    <tr>\n",
              "      <th>3</th>\n",
              "      <td>Belgium</td>\n",
              "      <td>114</td>\n",
              "    </tr>\n",
              "    <tr>\n",
              "      <th>31</th>\n",
              "      <td>Spain</td>\n",
              "      <td>102</td>\n",
              "    </tr>\n",
              "    <tr>\n",
              "      <th>24</th>\n",
              "      <td>Netherlands</td>\n",
              "      <td>98</td>\n",
              "    </tr>\n",
              "    <tr>\n",
              "      <th>33</th>\n",
              "      <td>Switzerland</td>\n",
              "      <td>74</td>\n",
              "    </tr>\n",
              "    <tr>\n",
              "      <th>0</th>\n",
              "      <td>Australia</td>\n",
              "      <td>69</td>\n",
              "    </tr>\n",
              "    <tr>\n",
              "      <th>27</th>\n",
              "      <td>Portugal</td>\n",
              "      <td>66</td>\n",
              "    </tr>\n",
              "    <tr>\n",
              "      <th>19</th>\n",
              "      <td>Italy</td>\n",
              "      <td>54</td>\n",
              "    </tr>\n",
              "    <tr>\n",
              "      <th>12</th>\n",
              "      <td>Finland</td>\n",
              "      <td>44</td>\n",
              "    </tr>\n",
              "    <tr>\n",
              "      <th>32</th>\n",
              "      <td>Sweden</td>\n",
              "      <td>44</td>\n",
              "    </tr>\n",
              "    <tr>\n",
              "      <th>25</th>\n",
              "      <td>Norway</td>\n",
              "      <td>37</td>\n",
              "    </tr>\n",
              "    <tr>\n",
              "      <th>6</th>\n",
              "      <td>Channel Islands</td>\n",
              "      <td>31</td>\n",
              "    </tr>\n",
              "    <tr>\n",
              "      <th>20</th>\n",
              "      <td>Japan</td>\n",
              "      <td>27</td>\n",
              "    </tr>\n",
              "    <tr>\n",
              "      <th>26</th>\n",
              "      <td>Poland</td>\n",
              "      <td>24</td>\n",
              "    </tr>\n",
              "    <tr>\n",
              "      <th>9</th>\n",
              "      <td>Denmark</td>\n",
              "      <td>20</td>\n",
              "    </tr>\n",
              "    <tr>\n",
              "      <th>7</th>\n",
              "      <td>Cyprus</td>\n",
              "      <td>19</td>\n",
              "    </tr>\n",
              "    <tr>\n",
              "      <th>1</th>\n",
              "      <td>Austria</td>\n",
              "      <td>18</td>\n",
              "    </tr>\n",
              "    <tr>\n",
              "      <th>16</th>\n",
              "      <td>Hong Kong</td>\n",
              "      <td>15</td>\n",
              "    </tr>\n",
              "    <tr>\n",
              "      <th>37</th>\n",
              "      <td>Unspecified</td>\n",
              "      <td>13</td>\n",
              "    </tr>\n",
              "    <tr>\n",
              "      <th>30</th>\n",
              "      <td>Singapore</td>\n",
              "      <td>10</td>\n",
              "    </tr>\n",
              "    <tr>\n",
              "      <th>23</th>\n",
              "      <td>Malta</td>\n",
              "      <td>9</td>\n",
              "    </tr>\n",
              "    <tr>\n",
              "      <th>18</th>\n",
              "      <td>Israel</td>\n",
              "      <td>9</td>\n",
              "    </tr>\n",
              "    <tr>\n",
              "      <th>17</th>\n",
              "      <td>Iceland</td>\n",
              "      <td>6</td>\n",
              "    </tr>\n",
              "    <tr>\n",
              "      <th>5</th>\n",
              "      <td>Canada</td>\n",
              "      <td>6</td>\n",
              "    </tr>\n",
              "    <tr>\n",
              "      <th>15</th>\n",
              "      <td>Greece</td>\n",
              "      <td>5</td>\n",
              "    </tr>\n",
              "    <tr>\n",
              "      <th>8</th>\n",
              "      <td>Czech Republic</td>\n",
              "      <td>5</td>\n",
              "    </tr>\n",
              "    <tr>\n",
              "      <th>11</th>\n",
              "      <td>European Community</td>\n",
              "      <td>5</td>\n",
              "    </tr>\n",
              "    <tr>\n",
              "      <th>22</th>\n",
              "      <td>Lithuania</td>\n",
              "      <td>4</td>\n",
              "    </tr>\n",
              "    <tr>\n",
              "      <th>34</th>\n",
              "      <td>USA</td>\n",
              "      <td>4</td>\n",
              "    </tr>\n",
              "    <tr>\n",
              "      <th>2</th>\n",
              "      <td>Bahrain</td>\n",
              "      <td>4</td>\n",
              "    </tr>\n",
              "    <tr>\n",
              "      <th>35</th>\n",
              "      <td>United Arab Emirates</td>\n",
              "      <td>3</td>\n",
              "    </tr>\n",
              "    <tr>\n",
              "      <th>29</th>\n",
              "      <td>Saudi Arabia</td>\n",
              "      <td>2</td>\n",
              "    </tr>\n",
              "    <tr>\n",
              "      <th>21</th>\n",
              "      <td>Lebanon</td>\n",
              "      <td>1</td>\n",
              "    </tr>\n",
              "    <tr>\n",
              "      <th>28</th>\n",
              "      <td>RSA</td>\n",
              "      <td>1</td>\n",
              "    </tr>\n",
              "    <tr>\n",
              "      <th>4</th>\n",
              "      <td>Brazil</td>\n",
              "      <td>1</td>\n",
              "    </tr>\n",
              "  </tbody>\n",
              "</table>\n",
              "</div>"
            ],
            "text/plain": [
              "                 Country  InvoiceNo\n",
              "36        United Kingdom      21131\n",
              "14               Germany        581\n",
              "13                France        440\n",
              "10                  EIRE        348\n",
              "3                Belgium        114\n",
              "31                 Spain        102\n",
              "24           Netherlands         98\n",
              "33           Switzerland         74\n",
              "0              Australia         69\n",
              "27              Portugal         66\n",
              "19                 Italy         54\n",
              "12               Finland         44\n",
              "32                Sweden         44\n",
              "25                Norway         37\n",
              "6        Channel Islands         31\n",
              "20                 Japan         27\n",
              "26                Poland         24\n",
              "9                Denmark         20\n",
              "7                 Cyprus         19\n",
              "1                Austria         18\n",
              "16             Hong Kong         15\n",
              "37           Unspecified         13\n",
              "30             Singapore         10\n",
              "23                 Malta          9\n",
              "18                Israel          9\n",
              "17               Iceland          6\n",
              "5                 Canada          6\n",
              "15                Greece          5\n",
              "8         Czech Republic          5\n",
              "11    European Community          5\n",
              "22             Lithuania          4\n",
              "34                   USA          4\n",
              "2                Bahrain          4\n",
              "35  United Arab Emirates          3\n",
              "29          Saudi Arabia          2\n",
              "21               Lebanon          1\n",
              "28                   RSA          1\n",
              "4                 Brazil          1"
            ]
          },
          "metadata": {
            "tags": []
          },
          "execution_count": 166
        }
      ]
    },
    {
      "cell_type": "code",
      "metadata": {
        "colab": {
          "base_uri": "https://localhost:8080/"
        },
        "id": "ocUUrHn5Z8dI",
        "outputId": "66ccfbbe-30f8-4e62-cb0e-4bf68ed1a80c"
      },
      "source": [
        "print(retail.shape)\n",
        "retail = retail[retail['Country']=='United Kingdom']\n",
        "print(retail.shape)"
      ],
      "execution_count": 167,
      "outputs": [
        {
          "output_type": "stream",
          "text": [
            "(514943, 10)\n",
            "(470111, 10)\n"
          ],
          "name": "stdout"
        }
      ]
    },
    {
      "cell_type": "markdown",
      "metadata": {
        "id": "pf38TfHYp0ZQ"
      },
      "source": [
        "### **Tarea**"
      ]
    },
    {
      "cell_type": "markdown",
      "metadata": {
        "id": "bGVOP7tOp2UA"
      },
      "source": [
        "Parte de la tarea-evaluacion tendra que ver con estas metricas. Asegurate de entenderlas bien de manera intuitiva y practica!"
      ]
    },
    {
      "cell_type": "markdown",
      "metadata": {
        "id": "dpY5SL99Q35i"
      },
      "source": [
        "### Revenue"
      ]
    },
    {
      "cell_type": "code",
      "metadata": {
        "colab": {
          "base_uri": "https://localhost:8080/",
          "height": 112
        },
        "id": "R3EAZfG7Q5hS",
        "outputId": "9e35263d-ada9-4696-fc41-1be09036921a"
      },
      "source": [
        "retail['revenue'] =  retail['UnitPrice'] * retail['Quantity']\n",
        "retail.head(2)"
      ],
      "execution_count": 168,
      "outputs": [
        {
          "output_type": "execute_result",
          "data": {
            "text/html": [
              "<div>\n",
              "<style scoped>\n",
              "    .dataframe tbody tr th:only-of-type {\n",
              "        vertical-align: middle;\n",
              "    }\n",
              "\n",
              "    .dataframe tbody tr th {\n",
              "        vertical-align: top;\n",
              "    }\n",
              "\n",
              "    .dataframe thead th {\n",
              "        text-align: right;\n",
              "    }\n",
              "</style>\n",
              "<table border=\"1\" class=\"dataframe\">\n",
              "  <thead>\n",
              "    <tr style=\"text-align: right;\">\n",
              "      <th></th>\n",
              "      <th>InvoiceNo</th>\n",
              "      <th>StockCode</th>\n",
              "      <th>Description</th>\n",
              "      <th>Quantity</th>\n",
              "      <th>InvoiceDate</th>\n",
              "      <th>UnitPrice</th>\n",
              "      <th>CustomerID</th>\n",
              "      <th>Country</th>\n",
              "      <th>date</th>\n",
              "      <th>year_month</th>\n",
              "      <th>revenue</th>\n",
              "    </tr>\n",
              "  </thead>\n",
              "  <tbody>\n",
              "    <tr>\n",
              "      <th>0</th>\n",
              "      <td>536365</td>\n",
              "      <td>85123A</td>\n",
              "      <td>WHITE HANGING HEART T-LIGHT HOLDER</td>\n",
              "      <td>6</td>\n",
              "      <td>12/1/2010 8:26</td>\n",
              "      <td>2.55</td>\n",
              "      <td>17850</td>\n",
              "      <td>United Kingdom</td>\n",
              "      <td>2010-12-01 08:26:00</td>\n",
              "      <td>2010-12-31</td>\n",
              "      <td>15.30</td>\n",
              "    </tr>\n",
              "    <tr>\n",
              "      <th>1</th>\n",
              "      <td>536365</td>\n",
              "      <td>71053</td>\n",
              "      <td>WHITE METAL LANTERN</td>\n",
              "      <td>6</td>\n",
              "      <td>12/1/2010 8:26</td>\n",
              "      <td>3.39</td>\n",
              "      <td>17850</td>\n",
              "      <td>United Kingdom</td>\n",
              "      <td>2010-12-01 08:26:00</td>\n",
              "      <td>2010-12-31</td>\n",
              "      <td>20.34</td>\n",
              "    </tr>\n",
              "  </tbody>\n",
              "</table>\n",
              "</div>"
            ],
            "text/plain": [
              "  InvoiceNo StockCode  ... year_month  revenue\n",
              "0    536365    85123A  ... 2010-12-31    15.30\n",
              "1    536365     71053  ... 2010-12-31    20.34\n",
              "\n",
              "[2 rows x 11 columns]"
            ]
          },
          "metadata": {
            "tags": []
          },
          "execution_count": 168
        }
      ]
    },
    {
      "cell_type": "markdown",
      "metadata": {
        "id": "XmvOYLMpWv9A"
      },
      "source": [
        "### Monthly Revenue"
      ]
    },
    {
      "cell_type": "code",
      "metadata": {
        "colab": {
          "base_uri": "https://localhost:8080/",
          "height": 423
        },
        "id": "znqStOKfQwOs",
        "outputId": "a26d04c4-c8d5-4f5b-ff5c-48b532d5d0db"
      },
      "source": [
        "mrevenue = retail.groupby('year_month', as_index=False)['revenue'].sum().sort_values('year_month', ascending=True)\n",
        "sns.lineplot(data=mrevenue, x='year_month', y='revenue')"
      ],
      "execution_count": 169,
      "outputs": [
        {
          "output_type": "execute_result",
          "data": {
            "text/plain": [
              "<matplotlib.axes._subplots.AxesSubplot at 0x7f28a59fbd90>"
            ]
          },
          "metadata": {
            "tags": []
          },
          "execution_count": 169
        },
        {
          "output_type": "display_data",
          "data": {
            "image/png": "[encoded data removed]",
            "text/plain": [
              "<Figure size 1152x432 with 1 Axes>"
            ]
          },
          "metadata": {
            "tags": []
          }
        }
      ]
    },
    {
      "cell_type": "markdown",
      "metadata": {
        "id": "GwrwzTCjW9Ki"
      },
      "source": [
        "### Monthly Revenue Growth"
      ]
    },
    {
      "cell_type": "markdown",
      "metadata": {
        "id": "f90sXT69XwdS"
      },
      "source": [
        "Veamos cuanto han crecido las ventas mes a mes, esto nos puede ayudar a detectar patrones o anomalias."
      ]
    },
    {
      "cell_type": "code",
      "metadata": {
        "colab": {
          "base_uri": "https://localhost:8080/",
          "height": 412
        },
        "id": "wO-gUZTIXARf",
        "outputId": "0f5bb8a0-187c-4fbb-c243-3684c829670c"
      },
      "source": [
        "mrevenue['monthly_growth'] = mrevenue['revenue'].pct_change()\n",
        "g = sns.lineplot(data=mrevenue, x='year_month', y='monthly_growth')\n",
        "g.axhline(0.0)"
      ],
      "execution_count": 170,
      "outputs": [
        {
          "output_type": "execute_result",
          "data": {
            "text/plain": [
              "<matplotlib.lines.Line2D at 0x7f28a5a54550>"
            ]
          },
          "metadata": {
            "tags": []
          },
          "execution_count": 170
        },
        {
          "output_type": "display_data",
          "data": {
            "image/png": "[encoded data removed]",
            "text/plain": [
              "<Figure size 1152x432 with 1 Axes>"
            ]
          },
          "metadata": {
            "tags": []
          }
        }
      ]
    },
    {
      "cell_type": "markdown",
      "metadata": {
        "id": "DgK2Ujk8X-na"
      },
      "source": [
        "### Monthly Orders"
      ]
    },
    {
      "cell_type": "markdown",
      "metadata": {
        "id": "tSDAfEriYDRf"
      },
      "source": [
        "Veamos cuantas compras/ordenes se hacen por mes"
      ]
    },
    {
      "cell_type": "code",
      "metadata": {
        "colab": {
          "base_uri": "https://localhost:8080/",
          "height": 412
        },
        "id": "y-IzW4EkYGKC",
        "outputId": "5cb1af6a-02ea-4b42-f35d-c9e0be3cdc33"
      },
      "source": [
        "morders = retail[['year_month','InvoiceNo']].drop_duplicates().groupby('year_month', \n",
        "        as_index=False)['InvoiceNo'].count().sort_values('year_month', ascending=True)\n",
        "sns.lineplot(data=morders, x='year_month', y='InvoiceNo')"
      ],
      "execution_count": 171,
      "outputs": [
        {
          "output_type": "execute_result",
          "data": {
            "text/plain": [
              "<matplotlib.axes._subplots.AxesSubplot at 0x7f28a62da4d0>"
            ]
          },
          "metadata": {
            "tags": []
          },
          "execution_count": 171
        },
        {
          "output_type": "display_data",
          "data": {
            "image/png": "[encoded data removed]",
            "text/plain": [
              "<Figure size 1152x432 with 1 Axes>"
            ]
          },
          "metadata": {
            "tags": []
          }
        }
      ]
    },
    {
      "cell_type": "markdown",
      "metadata": {
        "id": "dFxeX4mcbIuE"
      },
      "source": [
        "### Monthly Quantity"
      ]
    },
    {
      "cell_type": "markdown",
      "metadata": {
        "id": "OM-tDAZ3a49o"
      },
      "source": [
        "Ahora veamos cuantos articulos se venden por mes"
      ]
    },
    {
      "cell_type": "code",
      "metadata": {
        "colab": {
          "base_uri": "https://localhost:8080/",
          "height": 412
        },
        "id": "8rPbtL-ta8B_",
        "outputId": "e793a456-639c-445a-860c-b937c1044be8"
      },
      "source": [
        "morders = retail[['year_month','Quantity']].groupby('year_month', \n",
        "        as_index=False)['Quantity'].sum().sort_values('year_month', ascending=True)\n",
        "sns.lineplot(data=morders, x='year_month', y='Quantity')"
      ],
      "execution_count": 172,
      "outputs": [
        {
          "output_type": "execute_result",
          "data": {
            "text/plain": [
              "<matplotlib.axes._subplots.AxesSubplot at 0x7f28a70e0f50>"
            ]
          },
          "metadata": {
            "tags": []
          },
          "execution_count": 172
        },
        {
          "output_type": "display_data",
          "data": {
            "image/png": "[encoded data removed]",
            "text/plain": [
              "<Figure size 1152x432 with 1 Axes>"
            ]
          },
          "metadata": {
            "tags": []
          }
        }
      ]
    },
    {
      "cell_type": "markdown",
      "metadata": {
        "id": "AsxhKlPTbPzf"
      },
      "source": [
        "### Monthly Active Custumers"
      ]
    },
    {
      "cell_type": "code",
      "metadata": {
        "colab": {
          "base_uri": "https://localhost:8080/",
          "height": 206
        },
        "id": "bn3lA0YnbR-E",
        "outputId": "ed35e2ac-eeee-44d1-bab4-888264d4df0a"
      },
      "source": [
        "retail.head()"
      ],
      "execution_count": 173,
      "outputs": [
        {
          "output_type": "execute_result",
          "data": {
            "text/html": [
              "<div>\n",
              "<style scoped>\n",
              "    .dataframe tbody tr th:only-of-type {\n",
              "        vertical-align: middle;\n",
              "    }\n",
              "\n",
              "    .dataframe tbody tr th {\n",
              "        vertical-align: top;\n",
              "    }\n",
              "\n",
              "    .dataframe thead th {\n",
              "        text-align: right;\n",
              "    }\n",
              "</style>\n",
              "<table border=\"1\" class=\"dataframe\">\n",
              "  <thead>\n",
              "    <tr style=\"text-align: right;\">\n",
              "      <th></th>\n",
              "      <th>InvoiceNo</th>\n",
              "      <th>StockCode</th>\n",
              "      <th>Description</th>\n",
              "      <th>Quantity</th>\n",
              "      <th>InvoiceDate</th>\n",
              "      <th>UnitPrice</th>\n",
              "      <th>CustomerID</th>\n",
              "      <th>Country</th>\n",
              "      <th>date</th>\n",
              "      <th>year_month</th>\n",
              "      <th>revenue</th>\n",
              "    </tr>\n",
              "  </thead>\n",
              "  <tbody>\n",
              "    <tr>\n",
              "      <th>0</th>\n",
              "      <td>536365</td>\n",
              "      <td>85123A</td>\n",
              "      <td>WHITE HANGING HEART T-LIGHT HOLDER</td>\n",
              "      <td>6</td>\n",
              "      <td>12/1/2010 8:26</td>\n",
              "      <td>2.55</td>\n",
              "      <td>17850</td>\n",
              "      <td>United Kingdom</td>\n",
              "      <td>2010-12-01 08:26:00</td>\n",
              "      <td>2010-12-31</td>\n",
              "      <td>15.30</td>\n",
              "    </tr>\n",
              "    <tr>\n",
              "      <th>1</th>\n",
              "      <td>536365</td>\n",
              "      <td>71053</td>\n",
              "      <td>WHITE METAL LANTERN</td>\n",
              "      <td>6</td>\n",
              "      <td>12/1/2010 8:26</td>\n",
              "      <td>3.39</td>\n",
              "      <td>17850</td>\n",
              "      <td>United Kingdom</td>\n",
              "      <td>2010-12-01 08:26:00</td>\n",
              "      <td>2010-12-31</td>\n",
              "      <td>20.34</td>\n",
              "    </tr>\n",
              "    <tr>\n",
              "      <th>2</th>\n",
              "      <td>536365</td>\n",
              "      <td>84406B</td>\n",
              "      <td>CREAM CUPID HEARTS COAT HANGER</td>\n",
              "      <td>8</td>\n",
              "      <td>12/1/2010 8:26</td>\n",
              "      <td>2.75</td>\n",
              "      <td>17850</td>\n",
              "      <td>United Kingdom</td>\n",
              "      <td>2010-12-01 08:26:00</td>\n",
              "      <td>2010-12-31</td>\n",
              "      <td>22.00</td>\n",
              "    </tr>\n",
              "    <tr>\n",
              "      <th>3</th>\n",
              "      <td>536365</td>\n",
              "      <td>84029G</td>\n",
              "      <td>KNITTED UNION FLAG HOT WATER BOTTLE</td>\n",
              "      <td>6</td>\n",
              "      <td>12/1/2010 8:26</td>\n",
              "      <td>3.39</td>\n",
              "      <td>17850</td>\n",
              "      <td>United Kingdom</td>\n",
              "      <td>2010-12-01 08:26:00</td>\n",
              "      <td>2010-12-31</td>\n",
              "      <td>20.34</td>\n",
              "    </tr>\n",
              "    <tr>\n",
              "      <th>4</th>\n",
              "      <td>536365</td>\n",
              "      <td>84029E</td>\n",
              "      <td>RED WOOLLY HOTTIE WHITE HEART.</td>\n",
              "      <td>6</td>\n",
              "      <td>12/1/2010 8:26</td>\n",
              "      <td>3.39</td>\n",
              "      <td>17850</td>\n",
              "      <td>United Kingdom</td>\n",
              "      <td>2010-12-01 08:26:00</td>\n",
              "      <td>2010-12-31</td>\n",
              "      <td>20.34</td>\n",
              "    </tr>\n",
              "  </tbody>\n",
              "</table>\n",
              "</div>"
            ],
            "text/plain": [
              "  InvoiceNo StockCode  ... year_month  revenue\n",
              "0    536365    85123A  ... 2010-12-31    15.30\n",
              "1    536365     71053  ... 2010-12-31    20.34\n",
              "2    536365    84406B  ... 2010-12-31    22.00\n",
              "3    536365    84029G  ... 2010-12-31    20.34\n",
              "4    536365    84029E  ... 2010-12-31    20.34\n",
              "\n",
              "[5 rows x 11 columns]"
            ]
          },
          "metadata": {
            "tags": []
          },
          "execution_count": 173
        }
      ]
    },
    {
      "cell_type": "code",
      "metadata": {
        "colab": {
          "base_uri": "https://localhost:8080/",
          "height": 412
        },
        "id": "rzog_T-0bUUo",
        "outputId": "2f07829e-a380-47b5-a5d9-28ad53a2b574"
      },
      "source": [
        "mcustomer = retail[['year_month','CustomerID']].drop_duplicates().groupby('year_month', \n",
        "        as_index=False)['CustomerID'].count().sort_values('year_month', ascending=True)\n",
        "sns.lineplot(data=mcustomer, x='year_month', y='CustomerID')"
      ],
      "execution_count": 174,
      "outputs": [
        {
          "output_type": "execute_result",
          "data": {
            "text/plain": [
              "<matplotlib.axes._subplots.AxesSubplot at 0x7f28a6db4a10>"
            ]
          },
          "metadata": {
            "tags": []
          },
          "execution_count": 174
        },
        {
          "output_type": "display_data",
          "data": {
            "image/png": "[encoded data removed]",
            "text/plain": [
              "<Figure size 1152x432 with 1 Axes>"
            ]
          },
          "metadata": {
            "tags": []
          }
        }
      ]
    },
    {
      "cell_type": "markdown",
      "metadata": {
        "id": "mg1GbXCOcE9b"
      },
      "source": [
        "### Monthly Customer Growth"
      ]
    },
    {
      "cell_type": "code",
      "metadata": {
        "colab": {
          "base_uri": "https://localhost:8080/",
          "height": 412
        },
        "id": "gtAFcSvfb0oM",
        "outputId": "0e4b20ac-b388-4945-cdde-04b2ef3f7b21"
      },
      "source": [
        "mcustomer = mcustomer.sort_values('year_month', ascending=True)\n",
        "mcustomer['monthly_growth'] = mcustomer['CustomerID'].pct_change()\n",
        "g = sns.lineplot(data=mcustomer, x='year_month', y='monthly_growth')\n",
        "g.axhline(0.0)"
      ],
      "execution_count": 175,
      "outputs": [
        {
          "output_type": "execute_result",
          "data": {
            "text/plain": [
              "<matplotlib.lines.Line2D at 0x7f28a6be6790>"
            ]
          },
          "metadata": {
            "tags": []
          },
          "execution_count": 175
        },
        {
          "output_type": "display_data",
          "data": {
            "image/png": "[encoded data removed]",
            "text/plain": [
              "<Figure size 1152x432 with 1 Axes>"
            ]
          },
          "metadata": {
            "tags": []
          }
        }
      ]
    },
    {
      "cell_type": "markdown",
      "metadata": {
        "id": "hs2d4CBUcQs0"
      },
      "source": [
        "### Monthly Avg Revenue per Order"
      ]
    },
    {
      "cell_type": "code",
      "metadata": {
        "colab": {
          "base_uri": "https://localhost:8080/",
          "height": 412
        },
        "id": "eEMKqGmccV6w",
        "outputId": "1e5160e7-6ddd-45cf-cd41-a54213af6695"
      },
      "source": [
        "rorder = retail[['year_month', 'InvoiceNo', 'revenue']]\n",
        "# Colapsamos el revenue por Orden (InvoiceNo)\n",
        "rorder = rorder.groupby(['year_month', 'InvoiceNo'], as_index=False)['revenue'].sum()\n",
        "# Promedio por orden\n",
        "rorder = rorder.groupby('year_month', as_index=False)['revenue'].mean()\n",
        "sns.lineplot(data=rorder, x='year_month', y='revenue')"
      ],
      "execution_count": 176,
      "outputs": [
        {
          "output_type": "execute_result",
          "data": {
            "text/plain": [
              "<matplotlib.axes._subplots.AxesSubplot at 0x7f28a4e1d090>"
            ]
          },
          "metadata": {
            "tags": []
          },
          "execution_count": 176
        },
        {
          "output_type": "display_data",
          "data": {
            "image/png": "[encoded data removed]",
            "text/plain": [
              "<Figure size 1152x432 with 1 Axes>"
            ]
          },
          "metadata": {
            "tags": []
          }
        }
      ]
    },
    {
      "cell_type": "code",
      "metadata": {
        "colab": {
          "base_uri": "https://localhost:8080/",
          "height": 300
        },
        "id": "O-1P89ywddG-",
        "outputId": "129825d9-99b1-46cd-b91c-3f66fa400c2c"
      },
      "source": [
        "rorder.describe()"
      ],
      "execution_count": 177,
      "outputs": [
        {
          "output_type": "execute_result",
          "data": {
            "text/html": [
              "<div>\n",
              "<style scoped>\n",
              "    .dataframe tbody tr th:only-of-type {\n",
              "        vertical-align: middle;\n",
              "    }\n",
              "\n",
              "    .dataframe tbody tr th {\n",
              "        vertical-align: top;\n",
              "    }\n",
              "\n",
              "    .dataframe thead th {\n",
              "        text-align: right;\n",
              "    }\n",
              "</style>\n",
              "<table border=\"1\" class=\"dataframe\">\n",
              "  <thead>\n",
              "    <tr style=\"text-align: right;\">\n",
              "      <th></th>\n",
              "      <th>revenue</th>\n",
              "    </tr>\n",
              "  </thead>\n",
              "  <tbody>\n",
              "    <tr>\n",
              "      <th>count</th>\n",
              "      <td>12.000000</td>\n",
              "    </tr>\n",
              "    <tr>\n",
              "      <th>mean</th>\n",
              "      <td>363.866436</td>\n",
              "    </tr>\n",
              "    <tr>\n",
              "      <th>std</th>\n",
              "      <td>38.765721</td>\n",
              "    </tr>\n",
              "    <tr>\n",
              "      <th>min</th>\n",
              "      <td>316.800889</td>\n",
              "    </tr>\n",
              "    <tr>\n",
              "      <th>25%</th>\n",
              "      <td>337.694391</td>\n",
              "    </tr>\n",
              "    <tr>\n",
              "      <th>50%</th>\n",
              "      <td>354.746385</td>\n",
              "    </tr>\n",
              "    <tr>\n",
              "      <th>75%</th>\n",
              "      <td>385.575400</td>\n",
              "    </tr>\n",
              "    <tr>\n",
              "      <th>max</th>\n",
              "      <td>432.957384</td>\n",
              "    </tr>\n",
              "  </tbody>\n",
              "</table>\n",
              "</div>"
            ],
            "text/plain": [
              "          revenue\n",
              "count   12.000000\n",
              "mean   363.866436\n",
              "std     38.765721\n",
              "min    316.800889\n",
              "25%    337.694391\n",
              "50%    354.746385\n",
              "75%    385.575400\n",
              "max    432.957384"
            ]
          },
          "metadata": {
            "tags": []
          },
          "execution_count": 177
        }
      ]
    },
    {
      "cell_type": "markdown",
      "metadata": {
        "id": "zsl4S1mjc1VX"
      },
      "source": [
        "Por ahora, solo hemos utilizado recursos graficos, pero recuerda que existe el metodo `.describe()`. Observa como la compra promedio por mes es bastante estable"
      ]
    },
    {
      "cell_type": "markdown",
      "metadata": {
        "id": "A3i2dfwAqJbf"
      },
      "source": [
        "### Monthly Retention Rate"
      ]
    },
    {
      "cell_type": "markdown",
      "metadata": {
        "id": "d5YBbc19qcbY"
      },
      "source": [
        "**Monthly Retention Rate**:= Cuantos clientes (customers) que estuvieron activos el mes pasado siguieron activos el siguiente mes."
      ]
    },
    {
      "cell_type": "markdown",
      "metadata": {
        "id": "lSnPdDCixaU9"
      },
      "source": [
        "`crosstab`:= https://pandas.pydata.org/docs/reference/api/pandas.crosstab.html"
      ]
    },
    {
      "cell_type": "code",
      "metadata": {
        "colab": {
          "base_uri": "https://localhost:8080/",
          "height": 223
        },
        "id": "a00TQxUTqNL9",
        "outputId": "fb931504-7753-4555-e482-827e30becc56"
      },
      "source": [
        "crevenue = retail.sort_values('year_month', ascending=True).groupby(['CustomerID','year_month'], as_index=False)['revenue'].sum()\n",
        "retention = pd.crosstab(crevenue['CustomerID'], crevenue['year_month']).reset_index()\n",
        "retention.head()"
      ],
      "execution_count": 178,
      "outputs": [
        {
          "output_type": "execute_result",
          "data": {
            "text/html": [
              "<div>\n",
              "<style scoped>\n",
              "    .dataframe tbody tr th:only-of-type {\n",
              "        vertical-align: middle;\n",
              "    }\n",
              "\n",
              "    .dataframe tbody tr th {\n",
              "        vertical-align: top;\n",
              "    }\n",
              "\n",
              "    .dataframe thead th {\n",
              "        text-align: right;\n",
              "    }\n",
              "</style>\n",
              "<table border=\"1\" class=\"dataframe\">\n",
              "  <thead>\n",
              "    <tr style=\"text-align: right;\">\n",
              "      <th>year_month</th>\n",
              "      <th>CustomerID</th>\n",
              "      <th>2010-12-31 00:00:00</th>\n",
              "      <th>2011-01-31 00:00:00</th>\n",
              "      <th>2011-02-28 00:00:00</th>\n",
              "      <th>2011-03-31 00:00:00</th>\n",
              "      <th>2011-04-30 00:00:00</th>\n",
              "      <th>2011-05-31 00:00:00</th>\n",
              "      <th>2011-06-30 00:00:00</th>\n",
              "      <th>2011-07-31 00:00:00</th>\n",
              "      <th>2011-08-31 00:00:00</th>\n",
              "      <th>2011-09-30 00:00:00</th>\n",
              "      <th>2011-10-31 00:00:00</th>\n",
              "      <th>2011-11-30 00:00:00</th>\n",
              "    </tr>\n",
              "  </thead>\n",
              "  <tbody>\n",
              "    <tr>\n",
              "      <th>0</th>\n",
              "      <td>-1</td>\n",
              "      <td>1</td>\n",
              "      <td>1</td>\n",
              "      <td>1</td>\n",
              "      <td>1</td>\n",
              "      <td>1</td>\n",
              "      <td>1</td>\n",
              "      <td>1</td>\n",
              "      <td>1</td>\n",
              "      <td>1</td>\n",
              "      <td>1</td>\n",
              "      <td>1</td>\n",
              "      <td>1</td>\n",
              "    </tr>\n",
              "    <tr>\n",
              "      <th>1</th>\n",
              "      <td>12346</td>\n",
              "      <td>0</td>\n",
              "      <td>1</td>\n",
              "      <td>0</td>\n",
              "      <td>0</td>\n",
              "      <td>0</td>\n",
              "      <td>0</td>\n",
              "      <td>0</td>\n",
              "      <td>0</td>\n",
              "      <td>0</td>\n",
              "      <td>0</td>\n",
              "      <td>0</td>\n",
              "      <td>0</td>\n",
              "    </tr>\n",
              "    <tr>\n",
              "      <th>2</th>\n",
              "      <td>12747</td>\n",
              "      <td>1</td>\n",
              "      <td>1</td>\n",
              "      <td>0</td>\n",
              "      <td>1</td>\n",
              "      <td>0</td>\n",
              "      <td>1</td>\n",
              "      <td>1</td>\n",
              "      <td>0</td>\n",
              "      <td>1</td>\n",
              "      <td>0</td>\n",
              "      <td>1</td>\n",
              "      <td>1</td>\n",
              "    </tr>\n",
              "    <tr>\n",
              "      <th>3</th>\n",
              "      <td>12748</td>\n",
              "      <td>1</td>\n",
              "      <td>1</td>\n",
              "      <td>1</td>\n",
              "      <td>1</td>\n",
              "      <td>1</td>\n",
              "      <td>1</td>\n",
              "      <td>1</td>\n",
              "      <td>1</td>\n",
              "      <td>1</td>\n",
              "      <td>1</td>\n",
              "      <td>1</td>\n",
              "      <td>1</td>\n",
              "    </tr>\n",
              "    <tr>\n",
              "      <th>4</th>\n",
              "      <td>12749</td>\n",
              "      <td>0</td>\n",
              "      <td>0</td>\n",
              "      <td>0</td>\n",
              "      <td>0</td>\n",
              "      <td>0</td>\n",
              "      <td>1</td>\n",
              "      <td>0</td>\n",
              "      <td>0</td>\n",
              "      <td>1</td>\n",
              "      <td>0</td>\n",
              "      <td>0</td>\n",
              "      <td>1</td>\n",
              "    </tr>\n",
              "  </tbody>\n",
              "</table>\n",
              "</div>"
            ],
            "text/plain": [
              "year_month  CustomerID  ...  2011-11-30 00:00:00\n",
              "0                   -1  ...                    1\n",
              "1                12346  ...                    0\n",
              "2                12747  ...                    1\n",
              "3                12748  ...                    1\n",
              "4                12749  ...                    1\n",
              "\n",
              "[5 rows x 13 columns]"
            ]
          },
          "metadata": {
            "tags": []
          },
          "execution_count": 178
        }
      ]
    },
    {
      "cell_type": "code",
      "metadata": {
        "colab": {
          "base_uri": "https://localhost:8080/",
          "height": 206
        },
        "id": "fnx0WtvgyA_3",
        "outputId": "bb7f7895-f980-4a50-ddac-c2aa268ff9a0"
      },
      "source": [
        "### Loop para calcular la metrica\n",
        "mes = retention.columns[2:]\n",
        "retention_df = []\n",
        "for m in range(len(mes)-1):\n",
        "    retention_ = {}\n",
        "    mes_actual = mes[m+1]\n",
        "    mes_anterior = mes[m]\n",
        "    retention_['year_month'] = mes_actual\n",
        "    retention_['total_users'] = retention[mes_actual].sum()\n",
        "    retention_['users_retained'] = retention[(retention[mes_actual]>0) & \n",
        "                                (retention[mes_anterior]>0)][mes_actual].sum()\n",
        "    retention_df.append(retention_)\n",
        "retention_df = pd.DataFrame(retention_df)\n",
        "\n",
        "### Creamos la Metrica\n",
        "retention_df['retention_rate'] = retention_df['users_retained']/retention_df['total_users']\n",
        "retention_df.head()"
      ],
      "execution_count": 179,
      "outputs": [
        {
          "output_type": "execute_result",
          "data": {
            "text/html": [
              "<div>\n",
              "<style scoped>\n",
              "    .dataframe tbody tr th:only-of-type {\n",
              "        vertical-align: middle;\n",
              "    }\n",
              "\n",
              "    .dataframe tbody tr th {\n",
              "        vertical-align: top;\n",
              "    }\n",
              "\n",
              "    .dataframe thead th {\n",
              "        text-align: right;\n",
              "    }\n",
              "</style>\n",
              "<table border=\"1\" class=\"dataframe\">\n",
              "  <thead>\n",
              "    <tr style=\"text-align: right;\">\n",
              "      <th></th>\n",
              "      <th>year_month</th>\n",
              "      <th>total_users</th>\n",
              "      <th>users_retained</th>\n",
              "      <th>retention_rate</th>\n",
              "    </tr>\n",
              "  </thead>\n",
              "  <tbody>\n",
              "    <tr>\n",
              "      <th>0</th>\n",
              "      <td>2011-02-28</td>\n",
              "      <td>715</td>\n",
              "      <td>264</td>\n",
              "      <td>0.369231</td>\n",
              "    </tr>\n",
              "    <tr>\n",
              "      <th>1</th>\n",
              "      <td>2011-03-31</td>\n",
              "      <td>924</td>\n",
              "      <td>306</td>\n",
              "      <td>0.331169</td>\n",
              "    </tr>\n",
              "    <tr>\n",
              "      <th>2</th>\n",
              "      <td>2011-04-30</td>\n",
              "      <td>818</td>\n",
              "      <td>311</td>\n",
              "      <td>0.380196</td>\n",
              "    </tr>\n",
              "    <tr>\n",
              "      <th>3</th>\n",
              "      <td>2011-05-31</td>\n",
              "      <td>986</td>\n",
              "      <td>370</td>\n",
              "      <td>0.375254</td>\n",
              "    </tr>\n",
              "    <tr>\n",
              "      <th>4</th>\n",
              "      <td>2011-06-30</td>\n",
              "      <td>944</td>\n",
              "      <td>418</td>\n",
              "      <td>0.442797</td>\n",
              "    </tr>\n",
              "  </tbody>\n",
              "</table>\n",
              "</div>"
            ],
            "text/plain": [
              "  year_month  total_users  users_retained  retention_rate\n",
              "0 2011-02-28          715             264        0.369231\n",
              "1 2011-03-31          924             306        0.331169\n",
              "2 2011-04-30          818             311        0.380196\n",
              "3 2011-05-31          986             370        0.375254\n",
              "4 2011-06-30          944             418        0.442797"
            ]
          },
          "metadata": {
            "tags": []
          },
          "execution_count": 179
        }
      ]
    },
    {
      "cell_type": "code",
      "metadata": {
        "colab": {
          "base_uri": "https://localhost:8080/",
          "height": 412
        },
        "id": "1qXBITgn1ZqP",
        "outputId": "635183bc-1935-46c1-a8e4-0279ee9dc0f0"
      },
      "source": [
        "sns.lineplot(data=retention_df, x='year_month', y='users_retained')"
      ],
      "execution_count": 180,
      "outputs": [
        {
          "output_type": "execute_result",
          "data": {
            "text/plain": [
              "<matplotlib.axes._subplots.AxesSubplot at 0x7f28a4dd2e90>"
            ]
          },
          "metadata": {
            "tags": []
          },
          "execution_count": 180
        },
        {
          "output_type": "display_data",
          "data": {
            "image/png": "[encoded data removed]",
            "text/plain": [
              "<Figure size 1152x432 with 1 Axes>"
            ]
          },
          "metadata": {
            "tags": []
          }
        }
      ]
    },
    {
      "cell_type": "code",
      "metadata": {
        "colab": {
          "base_uri": "https://localhost:8080/",
          "height": 412
        },
        "id": "9K674aghz7m7",
        "outputId": "12588079-1d4c-40b2-9e86-63c23109afeb"
      },
      "source": [
        "sns.lineplot(data=retention_df, x='year_month', y='retention_rate')"
      ],
      "execution_count": 181,
      "outputs": [
        {
          "output_type": "execute_result",
          "data": {
            "text/plain": [
              "<matplotlib.axes._subplots.AxesSubplot at 0x7f28a4cdcb50>"
            ]
          },
          "metadata": {
            "tags": []
          },
          "execution_count": 181
        },
        {
          "output_type": "display_data",
          "data": {
            "image/png": "[encoded data removed]",
            "text/plain": [
              "<Figure size 1152x432 with 1 Axes>"
            ]
          },
          "metadata": {
            "tags": []
          }
        }
      ]
    },
    {
      "cell_type": "markdown",
      "metadata": {
        "id": "mMl5I8AC0Mk9"
      },
      "source": [
        "### Cohort Initial Retention Rate (Tarea)"
      ]
    },
    {
      "cell_type": "markdown",
      "metadata": {
        "id": "-8PIdvhW39Td"
      },
      "source": [
        "**Tarea**  \n",
        "Entender el funcionamiento de los siguientes snippets de codigo"
      ]
    },
    {
      "cell_type": "markdown",
      "metadata": {
        "id": "9ANpdrIf0X32"
      },
      "source": [
        "**Cohort Initial Retention Rate**:= Numero de usuarios retenidos despues de su primera compra (por mes).  \n",
        "Cuantos usuarios compran el siguiente mes, dado que su primera compra fue el mes anterior."
      ]
    },
    {
      "cell_type": "markdown",
      "metadata": {
        "id": "O-sKCYxp3MNb"
      },
      "source": [
        "La siguiente celda esta basada en codigo de: https://stackoverflow.com/questions/20069009/pandas-get-topmost-n-records-within-each-group \n",
        "revisa la fuente para entender mejor su funcionamiento.  \n",
        "\n"
      ]
    },
    {
      "cell_type": "code",
      "metadata": {
        "colab": {
          "base_uri": "https://localhost:8080/"
        },
        "id": "5bjJXbex0mWB",
        "outputId": "2f6ab8a5-b637-4ac0-ad87-e4240ac583f2"
      },
      "source": [
        "# Meses en los que puede ocurrir la siguiente compra para considerarse retenido\n",
        "cohort = 1\n",
        "# Fecha de Primera Compra\n",
        "primera_compra = crevenue.groupby('CustomerID', as_index=False)['year_month'].min()\n",
        "primera_compra.rename(columns={'year_month':'cohort_begg'},inplace=True)\n",
        "\n",
        "cohort_retention = crevenue.sort_values('year_month', ascending=True).groupby(\n",
        "    'CustomerID').head(cohort + cohort).sort_values(['CustomerID','year_month'])\n",
        "cohort_retention = cohort_retention[['CustomerID', 'year_month']]\n",
        "# Quedarse solo con las fechas de compra dentro de la venta del cohort\n",
        "cohort_retention = cohort_retention.merge(primera_compra, on='CustomerID')\n",
        "cohort_retention['cohort_end'] = cohort_retention['cohort_begg'] + pd.DateOffset(months=cohort)\n",
        "cohort_retention = cohort_retention[cohort_retention['year_month'] <= cohort_retention['cohort_end']]\n",
        "# Detectar retenidos\n",
        "compradores = cohort_retention.groupby(['CustomerID'], as_index=False)['year_month'].count()\n",
        "retenidos_cohort = compradores[compradores['year_month']>1]\n",
        "# Crear df con la ventana del cohort\n",
        "total_retenidos = retenidos_cohort['CustomerID'].shape[0] / compradores['CustomerID'].shape[0]\n",
        "total_retenidos"
      ],
      "execution_count": 182,
      "outputs": [
        {
          "output_type": "execute_result",
          "data": {
            "text/plain": [
              "0.1792187898902221"
            ]
          },
          "metadata": {
            "tags": []
          },
          "execution_count": 182
        }
      ]
    },
    {
      "cell_type": "markdown",
      "metadata": {
        "id": "9ZGJmMS-MzRv"
      },
      "source": [
        "Si el valor de `year_month` en la siguiente celda es mayor a uno significa que el cliente compro denuevo en los siguientes n-meses (cohort), por lo que se considera retenido."
      ]
    },
    {
      "cell_type": "code",
      "metadata": {
        "colab": {
          "base_uri": "https://localhost:8080/",
          "height": 394
        },
        "id": "aXx0Pc7GJtPN",
        "outputId": "2f93ec4c-c69c-4faf-c1a7-99afd37e6ffd"
      },
      "source": [
        "cohort_mes = []\n",
        "# Fecha de Primera Compra\n",
        "primera_compra = crevenue.groupby('CustomerID', as_index=False)['year_month'].min()\n",
        "primera_compra.rename(columns={'year_month':'cohort_begg'},inplace=True)\n",
        "for c in range(1,12):\n",
        "  cohort_retention = crevenue.sort_values('year_month', ascending=True).groupby(\n",
        "    'CustomerID').head(cohort + c).sort_values(['CustomerID','year_month'])\n",
        "  cohort_retention = cohort_retention[['CustomerID', 'year_month']]\n",
        "  # Quedarse solo con las fechas de compra dentro de la venta del cohort\n",
        "  cohort_retention = cohort_retention.merge(primera_compra, on='CustomerID')\n",
        "  cohort_retention['cohort_end'] = cohort_retention['cohort_begg'] + pd.DateOffset(months=c)\n",
        "  cohort_retention = cohort_retention[cohort_retention['year_month'] <= cohort_retention['cohort_end']]\n",
        "  # Detectar retenidos\n",
        "  compradores = cohort_retention.groupby(['CustomerID'], as_index=False)['year_month'].count()\n",
        "  retenidos_cohort = compradores[compradores['year_month']>1]\n",
        "  # Crear df con la ventana del cohort\n",
        "  total_retenidos = retenidos_cohort['CustomerID'].shape[0] / compradores['CustomerID'].shape[0]\n",
        "  df_ = pd.DataFrame({'cohort':[c], 'retencion':[total_retenidos]})\n",
        "  cohort_mes.append(df_)\n",
        "\n",
        "cohort_mes = pd.concat(cohort_mes, ignore_index=True)\n",
        "cohort_mes"
      ],
      "execution_count": 183,
      "outputs": [
        {
          "output_type": "execute_result",
          "data": {
            "text/html": [
              "<div>\n",
              "<style scoped>\n",
              "    .dataframe tbody tr th:only-of-type {\n",
              "        vertical-align: middle;\n",
              "    }\n",
              "\n",
              "    .dataframe tbody tr th {\n",
              "        vertical-align: top;\n",
              "    }\n",
              "\n",
              "    .dataframe thead th {\n",
              "        text-align: right;\n",
              "    }\n",
              "</style>\n",
              "<table border=\"1\" class=\"dataframe\">\n",
              "  <thead>\n",
              "    <tr style=\"text-align: right;\">\n",
              "      <th></th>\n",
              "      <th>cohort</th>\n",
              "      <th>retencion</th>\n",
              "    </tr>\n",
              "  </thead>\n",
              "  <tbody>\n",
              "    <tr>\n",
              "      <th>0</th>\n",
              "      <td>1</td>\n",
              "      <td>0.179219</td>\n",
              "    </tr>\n",
              "    <tr>\n",
              "      <th>1</th>\n",
              "      <td>2</td>\n",
              "      <td>0.349502</td>\n",
              "    </tr>\n",
              "    <tr>\n",
              "      <th>2</th>\n",
              "      <td>3</td>\n",
              "      <td>0.421241</td>\n",
              "    </tr>\n",
              "    <tr>\n",
              "      <th>3</th>\n",
              "      <td>4</td>\n",
              "      <td>0.481491</td>\n",
              "    </tr>\n",
              "    <tr>\n",
              "      <th>4</th>\n",
              "      <td>5</td>\n",
              "      <td>0.531785</td>\n",
              "    </tr>\n",
              "    <tr>\n",
              "      <th>5</th>\n",
              "      <td>6</td>\n",
              "      <td>0.558591</td>\n",
              "    </tr>\n",
              "    <tr>\n",
              "      <th>6</th>\n",
              "      <td>7</td>\n",
              "      <td>0.578504</td>\n",
              "    </tr>\n",
              "    <tr>\n",
              "      <th>7</th>\n",
              "      <td>8</td>\n",
              "      <td>0.591779</td>\n",
              "    </tr>\n",
              "    <tr>\n",
              "      <th>8</th>\n",
              "      <td>9</td>\n",
              "      <td>0.602757</td>\n",
              "    </tr>\n",
              "    <tr>\n",
              "      <th>9</th>\n",
              "      <td>10</td>\n",
              "      <td>0.612714</td>\n",
              "    </tr>\n",
              "    <tr>\n",
              "      <th>10</th>\n",
              "      <td>11</td>\n",
              "      <td>0.621649</td>\n",
              "    </tr>\n",
              "  </tbody>\n",
              "</table>\n",
              "</div>"
            ],
            "text/plain": [
              "    cohort  retencion\n",
              "0        1   0.179219\n",
              "1        2   0.349502\n",
              "2        3   0.421241\n",
              "3        4   0.481491\n",
              "4        5   0.531785\n",
              "5        6   0.558591\n",
              "6        7   0.578504\n",
              "7        8   0.591779\n",
              "8        9   0.602757\n",
              "9       10   0.612714\n",
              "10      11   0.621649"
            ]
          },
          "metadata": {
            "tags": []
          },
          "execution_count": 183
        }
      ]
    },
    {
      "cell_type": "markdown",
      "metadata": {
        "id": "9Vti0o9e5GmT"
      },
      "source": [
        "Ahora modifiquemos lo anterior, de manera que para cada mes la ventana se vaya moviendo, utilizando `crosstab`."
      ]
    },
    {
      "cell_type": "code",
      "metadata": {
        "colab": {
          "base_uri": "https://localhost:8080/"
        },
        "id": "ILNkWpxB9yfs",
        "outputId": "fe3e186c-161e-4de1-b28a-4066bdf80152"
      },
      "source": [
        "# cambiemos las fechas de mes y año por un identificador numerico\n",
        "crevenue['mes_int'] = crevenue['year_month'].apply(lambda x: x.year*100 + x.month)\n",
        "crevenue['mes_int'].unique()"
      ],
      "execution_count": 184,
      "outputs": [
        {
          "output_type": "execute_result",
          "data": {
            "text/plain": [
              "array([201012, 201101, 201102, 201103, 201104, 201105, 201106, 201107,\n",
              "       201108, 201109, 201110, 201111])"
            ]
          },
          "metadata": {
            "tags": []
          },
          "execution_count": 184
        }
      ]
    },
    {
      "cell_type": "code",
      "metadata": {
        "colab": {
          "base_uri": "https://localhost:8080/",
          "height": 424
        },
        "id": "WvnOe1sl5bVU",
        "outputId": "778cdbe0-442d-49ed-8c0c-7f3721371b80"
      },
      "source": [
        "# Usemos crosstab para manipular el dataframe\n",
        "df_retention = pd.crosstab(crevenue['CustomerID'], crevenue['mes_int']).reset_index()\n",
        "# Fecha de Primera compra por cliente\n",
        "first_purchase = crevenue.groupby('CustomerID',as_index=False)['mes_int'].min()\n",
        "first_purchase.rename(columns={'mes_int':'first_purchase'}, inplace=True)\n",
        "# Crear tabla indicadora de compras por cliente, y mes(columnas)\n",
        "df_retention = pd.merge(df_retention,first_purchase[['CustomerID','first_purchase']],on='CustomerID')\n",
        "cols = list(df_retention.columns[:-1])\n",
        "cols.append('first_purchase')\n",
        "df_retention.columns = cols\n",
        "df_retention"
      ],
      "execution_count": 185,
      "outputs": [
        {
          "output_type": "execute_result",
          "data": {
            "text/html": [
              "<div>\n",
              "<style scoped>\n",
              "    .dataframe tbody tr th:only-of-type {\n",
              "        vertical-align: middle;\n",
              "    }\n",
              "\n",
              "    .dataframe tbody tr th {\n",
              "        vertical-align: top;\n",
              "    }\n",
              "\n",
              "    .dataframe thead th {\n",
              "        text-align: right;\n",
              "    }\n",
              "</style>\n",
              "<table border=\"1\" class=\"dataframe\">\n",
              "  <thead>\n",
              "    <tr style=\"text-align: right;\">\n",
              "      <th></th>\n",
              "      <th>CustomerID</th>\n",
              "      <th>201012</th>\n",
              "      <th>201101</th>\n",
              "      <th>201102</th>\n",
              "      <th>201103</th>\n",
              "      <th>201104</th>\n",
              "      <th>201105</th>\n",
              "      <th>201106</th>\n",
              "      <th>201107</th>\n",
              "      <th>201108</th>\n",
              "      <th>201109</th>\n",
              "      <th>201110</th>\n",
              "      <th>201111</th>\n",
              "      <th>first_purchase</th>\n",
              "    </tr>\n",
              "  </thead>\n",
              "  <tbody>\n",
              "    <tr>\n",
              "      <th>0</th>\n",
              "      <td>-1</td>\n",
              "      <td>1</td>\n",
              "      <td>1</td>\n",
              "      <td>1</td>\n",
              "      <td>1</td>\n",
              "      <td>1</td>\n",
              "      <td>1</td>\n",
              "      <td>1</td>\n",
              "      <td>1</td>\n",
              "      <td>1</td>\n",
              "      <td>1</td>\n",
              "      <td>1</td>\n",
              "      <td>1</td>\n",
              "      <td>201012</td>\n",
              "    </tr>\n",
              "    <tr>\n",
              "      <th>1</th>\n",
              "      <td>12346</td>\n",
              "      <td>0</td>\n",
              "      <td>1</td>\n",
              "      <td>0</td>\n",
              "      <td>0</td>\n",
              "      <td>0</td>\n",
              "      <td>0</td>\n",
              "      <td>0</td>\n",
              "      <td>0</td>\n",
              "      <td>0</td>\n",
              "      <td>0</td>\n",
              "      <td>0</td>\n",
              "      <td>0</td>\n",
              "      <td>201101</td>\n",
              "    </tr>\n",
              "    <tr>\n",
              "      <th>2</th>\n",
              "      <td>12747</td>\n",
              "      <td>1</td>\n",
              "      <td>1</td>\n",
              "      <td>0</td>\n",
              "      <td>1</td>\n",
              "      <td>0</td>\n",
              "      <td>1</td>\n",
              "      <td>1</td>\n",
              "      <td>0</td>\n",
              "      <td>1</td>\n",
              "      <td>0</td>\n",
              "      <td>1</td>\n",
              "      <td>1</td>\n",
              "      <td>201012</td>\n",
              "    </tr>\n",
              "    <tr>\n",
              "      <th>3</th>\n",
              "      <td>12748</td>\n",
              "      <td>1</td>\n",
              "      <td>1</td>\n",
              "      <td>1</td>\n",
              "      <td>1</td>\n",
              "      <td>1</td>\n",
              "      <td>1</td>\n",
              "      <td>1</td>\n",
              "      <td>1</td>\n",
              "      <td>1</td>\n",
              "      <td>1</td>\n",
              "      <td>1</td>\n",
              "      <td>1</td>\n",
              "      <td>201012</td>\n",
              "    </tr>\n",
              "    <tr>\n",
              "      <th>4</th>\n",
              "      <td>12749</td>\n",
              "      <td>0</td>\n",
              "      <td>0</td>\n",
              "      <td>0</td>\n",
              "      <td>0</td>\n",
              "      <td>0</td>\n",
              "      <td>1</td>\n",
              "      <td>0</td>\n",
              "      <td>0</td>\n",
              "      <td>1</td>\n",
              "      <td>0</td>\n",
              "      <td>0</td>\n",
              "      <td>1</td>\n",
              "      <td>201105</td>\n",
              "    </tr>\n",
              "    <tr>\n",
              "      <th>...</th>\n",
              "      <td>...</td>\n",
              "      <td>...</td>\n",
              "      <td>...</td>\n",
              "      <td>...</td>\n",
              "      <td>...</td>\n",
              "      <td>...</td>\n",
              "      <td>...</td>\n",
              "      <td>...</td>\n",
              "      <td>...</td>\n",
              "      <td>...</td>\n",
              "      <td>...</td>\n",
              "      <td>...</td>\n",
              "      <td>...</td>\n",
              "      <td>...</td>\n",
              "    </tr>\n",
              "    <tr>\n",
              "      <th>3912</th>\n",
              "      <td>18280</td>\n",
              "      <td>0</td>\n",
              "      <td>0</td>\n",
              "      <td>0</td>\n",
              "      <td>1</td>\n",
              "      <td>0</td>\n",
              "      <td>0</td>\n",
              "      <td>0</td>\n",
              "      <td>0</td>\n",
              "      <td>0</td>\n",
              "      <td>0</td>\n",
              "      <td>0</td>\n",
              "      <td>0</td>\n",
              "      <td>201103</td>\n",
              "    </tr>\n",
              "    <tr>\n",
              "      <th>3913</th>\n",
              "      <td>18281</td>\n",
              "      <td>0</td>\n",
              "      <td>0</td>\n",
              "      <td>0</td>\n",
              "      <td>0</td>\n",
              "      <td>0</td>\n",
              "      <td>0</td>\n",
              "      <td>1</td>\n",
              "      <td>0</td>\n",
              "      <td>0</td>\n",
              "      <td>0</td>\n",
              "      <td>0</td>\n",
              "      <td>0</td>\n",
              "      <td>201106</td>\n",
              "    </tr>\n",
              "    <tr>\n",
              "      <th>3914</th>\n",
              "      <td>18282</td>\n",
              "      <td>0</td>\n",
              "      <td>0</td>\n",
              "      <td>0</td>\n",
              "      <td>0</td>\n",
              "      <td>0</td>\n",
              "      <td>0</td>\n",
              "      <td>0</td>\n",
              "      <td>0</td>\n",
              "      <td>1</td>\n",
              "      <td>0</td>\n",
              "      <td>0</td>\n",
              "      <td>0</td>\n",
              "      <td>201108</td>\n",
              "    </tr>\n",
              "    <tr>\n",
              "      <th>3915</th>\n",
              "      <td>18283</td>\n",
              "      <td>0</td>\n",
              "      <td>1</td>\n",
              "      <td>1</td>\n",
              "      <td>0</td>\n",
              "      <td>1</td>\n",
              "      <td>1</td>\n",
              "      <td>1</td>\n",
              "      <td>1</td>\n",
              "      <td>0</td>\n",
              "      <td>1</td>\n",
              "      <td>1</td>\n",
              "      <td>1</td>\n",
              "      <td>201101</td>\n",
              "    </tr>\n",
              "    <tr>\n",
              "      <th>3916</th>\n",
              "      <td>18287</td>\n",
              "      <td>0</td>\n",
              "      <td>0</td>\n",
              "      <td>0</td>\n",
              "      <td>0</td>\n",
              "      <td>0</td>\n",
              "      <td>1</td>\n",
              "      <td>0</td>\n",
              "      <td>0</td>\n",
              "      <td>0</td>\n",
              "      <td>0</td>\n",
              "      <td>1</td>\n",
              "      <td>0</td>\n",
              "      <td>201105</td>\n",
              "    </tr>\n",
              "  </tbody>\n",
              "</table>\n",
              "<p>3917 rows × 14 columns</p>\n",
              "</div>"
            ],
            "text/plain": [
              "      CustomerID  201012  201101  ...  201110  201111  first_purchase\n",
              "0             -1       1       1  ...       1       1          201012\n",
              "1          12346       0       1  ...       0       0          201101\n",
              "2          12747       1       1  ...       1       1          201012\n",
              "3          12748       1       1  ...       1       1          201012\n",
              "4          12749       0       0  ...       0       1          201105\n",
              "...          ...     ...     ...  ...     ...     ...             ...\n",
              "3912       18280       0       0  ...       0       0          201103\n",
              "3913       18281       0       0  ...       0       0          201106\n",
              "3914       18282       0       0  ...       0       0          201108\n",
              "3915       18283       0       1  ...       1       1          201101\n",
              "3916       18287       0       0  ...       1       0          201105\n",
              "\n",
              "[3917 rows x 14 columns]"
            ]
          },
          "metadata": {
            "tags": []
          },
          "execution_count": 185
        }
      ]
    },
    {
      "cell_type": "code",
      "metadata": {
        "colab": {
          "base_uri": "https://localhost:8080/",
          "height": 426
        },
        "id": "RfSVZT5u7KSg",
        "outputId": "2b04156e-385c-443e-cf98-707697d64689"
      },
      "source": [
        "# Iteremos sobre una ventana de cada mes, similar a als metricas \n",
        "# y secciones anteriores.\n",
        "meses = df_retention['first_purchase'].sort_values().unique()\n",
        "retention_cohort = []\n",
        "for m, _ in enumerate(meses):\n",
        "    retention_ = {}\n",
        "    selected_month = meses[m]\n",
        "    mes_actual = meses[m]\n",
        "    meses_anteriores = meses[:m]\n",
        "    meses_siguientes = meses[m+1:]\n",
        "\n",
        "    # Llenar de nans los meses anteriores, pues nadie compra antes de su primera compra\n",
        "    for prev_month in meses_anteriores:\n",
        "        retention_[prev_month] = np.nan\n",
        "        \n",
        "    usuarios_nuevos = df_retention[df_retention['first_purchase'] ==  int(mes_actual)]['first_purchase'].count()\n",
        "    retention_['usuarios_nuevos'] = usuarios_nuevos\n",
        "    retention_[mes_actual] = 1 \n",
        "    \n",
        "    query = \"first_purchase == {}\".format(mes_actual)\n",
        "    \n",
        "\n",
        "    for mes_siguiente in meses_siguientes:\n",
        "        query_ = query + \" and {} > 0\".format(mes_siguiente)\n",
        "        retention_[mes_siguiente] = df_retention.query(query_)[mes_siguiente].sum()/usuarios_nuevos\n",
        "    \n",
        "    retention_cohort.append(retention_)\n",
        "    \n",
        "retention_cohort = pd.DataFrame(retention_cohort)\n",
        "retention_cohort.index = meses\n",
        "\n",
        "#showing new cohort based retention table\n",
        "retention_cohort"
      ],
      "execution_count": 186,
      "outputs": [
        {
          "output_type": "execute_result",
          "data": {
            "text/html": [
              "<div>\n",
              "<style scoped>\n",
              "    .dataframe tbody tr th:only-of-type {\n",
              "        vertical-align: middle;\n",
              "    }\n",
              "\n",
              "    .dataframe tbody tr th {\n",
              "        vertical-align: top;\n",
              "    }\n",
              "\n",
              "    .dataframe thead th {\n",
              "        text-align: right;\n",
              "    }\n",
              "</style>\n",
              "<table border=\"1\" class=\"dataframe\">\n",
              "  <thead>\n",
              "    <tr style=\"text-align: right;\">\n",
              "      <th></th>\n",
              "      <th>usuarios_nuevos</th>\n",
              "      <th>201012</th>\n",
              "      <th>201101</th>\n",
              "      <th>201102</th>\n",
              "      <th>201103</th>\n",
              "      <th>201104</th>\n",
              "      <th>201105</th>\n",
              "      <th>201106</th>\n",
              "      <th>201107</th>\n",
              "      <th>201108</th>\n",
              "      <th>201109</th>\n",
              "      <th>201110</th>\n",
              "      <th>201111</th>\n",
              "    </tr>\n",
              "  </thead>\n",
              "  <tbody>\n",
              "    <tr>\n",
              "      <th>201012</th>\n",
              "      <td>872</td>\n",
              "      <td>1.0</td>\n",
              "      <td>0.370413</td>\n",
              "      <td>0.334862</td>\n",
              "      <td>0.378440</td>\n",
              "      <td>0.354358</td>\n",
              "      <td>0.396789</td>\n",
              "      <td>0.376147</td>\n",
              "      <td>0.349771</td>\n",
              "      <td>0.352064</td>\n",
              "      <td>0.397936</td>\n",
              "      <td>0.368119</td>\n",
              "      <td>0.493119</td>\n",
              "    </tr>\n",
              "    <tr>\n",
              "      <th>201101</th>\n",
              "      <td>362</td>\n",
              "      <td>NaN</td>\n",
              "      <td>1.000000</td>\n",
              "      <td>0.232044</td>\n",
              "      <td>0.279006</td>\n",
              "      <td>0.245856</td>\n",
              "      <td>0.342541</td>\n",
              "      <td>0.292818</td>\n",
              "      <td>0.262431</td>\n",
              "      <td>0.259669</td>\n",
              "      <td>0.314917</td>\n",
              "      <td>0.350829</td>\n",
              "      <td>0.361878</td>\n",
              "    </tr>\n",
              "    <tr>\n",
              "      <th>201102</th>\n",
              "      <td>339</td>\n",
              "      <td>NaN</td>\n",
              "      <td>NaN</td>\n",
              "      <td>1.000000</td>\n",
              "      <td>0.250737</td>\n",
              "      <td>0.191740</td>\n",
              "      <td>0.280236</td>\n",
              "      <td>0.283186</td>\n",
              "      <td>0.253687</td>\n",
              "      <td>0.259587</td>\n",
              "      <td>0.283186</td>\n",
              "      <td>0.277286</td>\n",
              "      <td>0.312684</td>\n",
              "    </tr>\n",
              "    <tr>\n",
              "      <th>201103</th>\n",
              "      <td>408</td>\n",
              "      <td>NaN</td>\n",
              "      <td>NaN</td>\n",
              "      <td>NaN</td>\n",
              "      <td>1.000000</td>\n",
              "      <td>0.193627</td>\n",
              "      <td>0.262255</td>\n",
              "      <td>0.215686</td>\n",
              "      <td>0.232843</td>\n",
              "      <td>0.171569</td>\n",
              "      <td>0.262255</td>\n",
              "      <td>0.237745</td>\n",
              "      <td>0.291667</td>\n",
              "    </tr>\n",
              "    <tr>\n",
              "      <th>201104</th>\n",
              "      <td>276</td>\n",
              "      <td>NaN</td>\n",
              "      <td>NaN</td>\n",
              "      <td>NaN</td>\n",
              "      <td>NaN</td>\n",
              "      <td>1.000000</td>\n",
              "      <td>0.224638</td>\n",
              "      <td>0.221014</td>\n",
              "      <td>0.217391</td>\n",
              "      <td>0.206522</td>\n",
              "      <td>0.231884</td>\n",
              "      <td>0.231884</td>\n",
              "      <td>0.264493</td>\n",
              "    </tr>\n",
              "    <tr>\n",
              "      <th>201105</th>\n",
              "      <td>252</td>\n",
              "      <td>NaN</td>\n",
              "      <td>NaN</td>\n",
              "      <td>NaN</td>\n",
              "      <td>NaN</td>\n",
              "      <td>NaN</td>\n",
              "      <td>1.000000</td>\n",
              "      <td>0.230159</td>\n",
              "      <td>0.170635</td>\n",
              "      <td>0.170635</td>\n",
              "      <td>0.214286</td>\n",
              "      <td>0.238095</td>\n",
              "      <td>0.265873</td>\n",
              "    </tr>\n",
              "    <tr>\n",
              "      <th>201106</th>\n",
              "      <td>207</td>\n",
              "      <td>NaN</td>\n",
              "      <td>NaN</td>\n",
              "      <td>NaN</td>\n",
              "      <td>NaN</td>\n",
              "      <td>NaN</td>\n",
              "      <td>NaN</td>\n",
              "      <td>1.000000</td>\n",
              "      <td>0.212560</td>\n",
              "      <td>0.164251</td>\n",
              "      <td>0.246377</td>\n",
              "      <td>0.256039</td>\n",
              "      <td>0.323671</td>\n",
              "    </tr>\n",
              "    <tr>\n",
              "      <th>201107</th>\n",
              "      <td>172</td>\n",
              "      <td>NaN</td>\n",
              "      <td>NaN</td>\n",
              "      <td>NaN</td>\n",
              "      <td>NaN</td>\n",
              "      <td>NaN</td>\n",
              "      <td>NaN</td>\n",
              "      <td>NaN</td>\n",
              "      <td>1.000000</td>\n",
              "      <td>0.203488</td>\n",
              "      <td>0.191860</td>\n",
              "      <td>0.232558</td>\n",
              "      <td>0.279070</td>\n",
              "    </tr>\n",
              "    <tr>\n",
              "      <th>201108</th>\n",
              "      <td>140</td>\n",
              "      <td>NaN</td>\n",
              "      <td>NaN</td>\n",
              "      <td>NaN</td>\n",
              "      <td>NaN</td>\n",
              "      <td>NaN</td>\n",
              "      <td>NaN</td>\n",
              "      <td>NaN</td>\n",
              "      <td>NaN</td>\n",
              "      <td>1.000000</td>\n",
              "      <td>0.264286</td>\n",
              "      <td>0.228571</td>\n",
              "      <td>0.257143</td>\n",
              "    </tr>\n",
              "    <tr>\n",
              "      <th>201109</th>\n",
              "      <td>275</td>\n",
              "      <td>NaN</td>\n",
              "      <td>NaN</td>\n",
              "      <td>NaN</td>\n",
              "      <td>NaN</td>\n",
              "      <td>NaN</td>\n",
              "      <td>NaN</td>\n",
              "      <td>NaN</td>\n",
              "      <td>NaN</td>\n",
              "      <td>NaN</td>\n",
              "      <td>1.000000</td>\n",
              "      <td>0.290909</td>\n",
              "      <td>0.327273</td>\n",
              "    </tr>\n",
              "    <tr>\n",
              "      <th>201110</th>\n",
              "      <td>318</td>\n",
              "      <td>NaN</td>\n",
              "      <td>NaN</td>\n",
              "      <td>NaN</td>\n",
              "      <td>NaN</td>\n",
              "      <td>NaN</td>\n",
              "      <td>NaN</td>\n",
              "      <td>NaN</td>\n",
              "      <td>NaN</td>\n",
              "      <td>NaN</td>\n",
              "      <td>NaN</td>\n",
              "      <td>1.000000</td>\n",
              "      <td>0.270440</td>\n",
              "    </tr>\n",
              "    <tr>\n",
              "      <th>201111</th>\n",
              "      <td>296</td>\n",
              "      <td>NaN</td>\n",
              "      <td>NaN</td>\n",
              "      <td>NaN</td>\n",
              "      <td>NaN</td>\n",
              "      <td>NaN</td>\n",
              "      <td>NaN</td>\n",
              "      <td>NaN</td>\n",
              "      <td>NaN</td>\n",
              "      <td>NaN</td>\n",
              "      <td>NaN</td>\n",
              "      <td>NaN</td>\n",
              "      <td>1.000000</td>\n",
              "    </tr>\n",
              "  </tbody>\n",
              "</table>\n",
              "</div>"
            ],
            "text/plain": [
              "        usuarios_nuevos  201012    201101  ...    201109    201110    201111\n",
              "201012              872     1.0  0.370413  ...  0.397936  0.368119  0.493119\n",
              "201101              362     NaN  1.000000  ...  0.314917  0.350829  0.361878\n",
              "201102              339     NaN       NaN  ...  0.283186  0.277286  0.312684\n",
              "201103              408     NaN       NaN  ...  0.262255  0.237745  0.291667\n",
              "201104              276     NaN       NaN  ...  0.231884  0.231884  0.264493\n",
              "201105              252     NaN       NaN  ...  0.214286  0.238095  0.265873\n",
              "201106              207     NaN       NaN  ...  0.246377  0.256039  0.323671\n",
              "201107              172     NaN       NaN  ...  0.191860  0.232558  0.279070\n",
              "201108              140     NaN       NaN  ...  0.264286  0.228571  0.257143\n",
              "201109              275     NaN       NaN  ...  1.000000  0.290909  0.327273\n",
              "201110              318     NaN       NaN  ...       NaN  1.000000  0.270440\n",
              "201111              296     NaN       NaN  ...       NaN       NaN  1.000000\n",
              "\n",
              "[12 rows x 13 columns]"
            ]
          },
          "metadata": {
            "tags": []
          },
          "execution_count": 186
        }
      ]
    },
    {
      "cell_type": "markdown",
      "metadata": {
        "id": "SJ7ntel-NSN6"
      },
      "source": [
        "En esta caso vemos la tasa de retencion por mes de compra inicial."
      ]
    },
    {
      "cell_type": "markdown",
      "metadata": {
        "id": "5nOoPssfTNv8"
      },
      "source": [
        "# Segmentacion RMF"
      ]
    },
    {
      "cell_type": "markdown",
      "metadata": {
        "id": "i1uqmHNOUOy4"
      },
      "source": [
        "En esta parte de la clase segmentaremos a los usuarios basandonos en la metodologia RMF. Tambien podemos aplicar una varaicion, donde en vez de estimar por rango de cada variable R-M-F, utilizamos k-means sobre las tres variables normalizadas."
      ]
    },
    {
      "cell_type": "markdown",
      "metadata": {
        "id": "rti0NHFHTRFm"
      },
      "source": [
        "## EDA & Modelaje RMF"
      ]
    },
    {
      "cell_type": "markdown",
      "metadata": {
        "id": "TGd21lzUiGss"
      },
      "source": [
        "Removamos de nuestra base a los usuarios que no tienen ids para simplificar nuestro analisis."
      ]
    },
    {
      "cell_type": "code",
      "metadata": {
        "id": "Fz7YbKFLiLK5"
      },
      "source": [
        "rmf = retail.copy()\n",
        "rmf = rmf[rmf['CustomerID']!=-1]"
      ],
      "execution_count": 237,
      "outputs": []
    },
    {
      "cell_type": "markdown",
      "metadata": {
        "id": "d4pj3wzRYRMZ"
      },
      "source": [
        "Creeemos un pandas donde guardaremos los datos de cada cliente antes de clusterizarlos."
      ]
    },
    {
      "cell_type": "code",
      "metadata": {
        "id": "RekfZyf5YHpa"
      },
      "source": [
        "usuarios = rmf[['CustomerID']].drop_duplicates()"
      ],
      "execution_count": 238,
      "outputs": []
    },
    {
      "cell_type": "markdown",
      "metadata": {
        "id": "YPc1UW1ITT0H"
      },
      "source": [
        "### Recency"
      ]
    },
    {
      "cell_type": "markdown",
      "metadata": {
        "id": "MFb9zs8kZTiA"
      },
      "source": [
        "#### Creacion Recency"
      ]
    },
    {
      "cell_type": "markdown",
      "metadata": {
        "id": "zajsLZWgVVan"
      },
      "source": [
        "Recency:= **Llena con tu definicion de Recency**"
      ]
    },
    {
      "cell_type": "code",
      "metadata": {
        "colab": {
          "base_uri": "https://localhost:8080/"
        },
        "id": "vjPNZeCNXC_4",
        "outputId": "a53191e0-6b56-47a3-ba32-f6faa8e92a0f"
      },
      "source": [
        "rmf['year_month'].max()"
      ],
      "execution_count": 195,
      "outputs": [
        {
          "output_type": "execute_result",
          "data": {
            "text/plain": [
              "Timestamp('2011-11-30 00:00:00')"
            ]
          },
          "metadata": {
            "tags": []
          },
          "execution_count": 195
        }
      ]
    },
    {
      "cell_type": "markdown",
      "metadata": {
        "id": "TDIeWNhaXzgT"
      },
      "source": [
        "**Fecha en la que en teoria iniciamos el analisis**"
      ]
    },
    {
      "cell_type": "code",
      "metadata": {
        "id": "Pqgm26EkW7rK"
      },
      "source": [
        "fecha_analisis = pd.to_datetime('2011-12-01')"
      ],
      "execution_count": 196,
      "outputs": []
    },
    {
      "cell_type": "markdown",
      "metadata": {
        "id": "AbRRoAC6X6FY"
      },
      "source": [
        "Calcularemos el Recency en dias"
      ]
    },
    {
      "cell_type": "code",
      "metadata": {
        "colab": {
          "base_uri": "https://localhost:8080/",
          "height": 300
        },
        "id": "Eb9aEsmETbx4",
        "outputId": "c22d4add-5d44-419e-8c73-b6156989f3a4"
      },
      "source": [
        "recency = rmf[['CustomerID', 'year_month']].groupby('CustomerID', as_index=False).max()\n",
        "recency['recency'] =  (pd.to_datetime('2011-12-01') - recency['year_month']).dt.days \n",
        "recency = recency[['CustomerID', 'recency']]\n",
        "recency.describe()"
      ],
      "execution_count": 197,
      "outputs": [
        {
          "output_type": "execute_result",
          "data": {
            "text/html": [
              "<div>\n",
              "<style scoped>\n",
              "    .dataframe tbody tr th:only-of-type {\n",
              "        vertical-align: middle;\n",
              "    }\n",
              "\n",
              "    .dataframe tbody tr th {\n",
              "        vertical-align: top;\n",
              "    }\n",
              "\n",
              "    .dataframe thead th {\n",
              "        text-align: right;\n",
              "    }\n",
              "</style>\n",
              "<table border=\"1\" class=\"dataframe\">\n",
              "  <thead>\n",
              "    <tr style=\"text-align: right;\">\n",
              "      <th></th>\n",
              "      <th>CustomerID</th>\n",
              "      <th>recency</th>\n",
              "    </tr>\n",
              "  </thead>\n",
              "  <tbody>\n",
              "    <tr>\n",
              "      <th>count</th>\n",
              "      <td>3916.000000</td>\n",
              "      <td>3916.000000</td>\n",
              "    </tr>\n",
              "    <tr>\n",
              "      <th>mean</th>\n",
              "      <td>15561.828907</td>\n",
              "      <td>77.538304</td>\n",
              "    </tr>\n",
              "    <tr>\n",
              "      <th>std</th>\n",
              "      <td>1577.306813</td>\n",
              "      <td>97.015764</td>\n",
              "    </tr>\n",
              "    <tr>\n",
              "      <th>min</th>\n",
              "      <td>12346.000000</td>\n",
              "      <td>1.000000</td>\n",
              "    </tr>\n",
              "    <tr>\n",
              "      <th>25%</th>\n",
              "      <td>14207.500000</td>\n",
              "      <td>1.000000</td>\n",
              "    </tr>\n",
              "    <tr>\n",
              "      <th>50%</th>\n",
              "      <td>15572.500000</td>\n",
              "      <td>31.000000</td>\n",
              "    </tr>\n",
              "    <tr>\n",
              "      <th>75%</th>\n",
              "      <td>16915.250000</td>\n",
              "      <td>123.000000</td>\n",
              "    </tr>\n",
              "    <tr>\n",
              "      <th>max</th>\n",
              "      <td>18287.000000</td>\n",
              "      <td>335.000000</td>\n",
              "    </tr>\n",
              "  </tbody>\n",
              "</table>\n",
              "</div>"
            ],
            "text/plain": [
              "         CustomerID      recency\n",
              "count   3916.000000  3916.000000\n",
              "mean   15561.828907    77.538304\n",
              "std     1577.306813    97.015764\n",
              "min    12346.000000     1.000000\n",
              "25%    14207.500000     1.000000\n",
              "50%    15572.500000    31.000000\n",
              "75%    16915.250000   123.000000\n",
              "max    18287.000000   335.000000"
            ]
          },
          "metadata": {
            "tags": []
          },
          "execution_count": 197
        }
      ]
    },
    {
      "cell_type": "code",
      "metadata": {
        "colab": {
          "base_uri": "https://localhost:8080/",
          "height": 412
        },
        "id": "6a7l9xDDYavE",
        "outputId": "d1383172-5d50-4d51-f97a-b55dd408fb45"
      },
      "source": [
        "sns.histplot(recency['recency'])"
      ],
      "execution_count": 198,
      "outputs": [
        {
          "output_type": "execute_result",
          "data": {
            "text/plain": [
              "<matplotlib.axes._subplots.AxesSubplot at 0x7f28bbc2ed50>"
            ]
          },
          "metadata": {
            "tags": []
          },
          "execution_count": 198
        },
        {
          "output_type": "display_data",
          "data": {
            "image/png": "[encoded data removed]",
            "text/plain": [
              "<Figure size 1152x432 with 1 Axes>"
            ]
          },
          "metadata": {
            "tags": []
          }
        }
      ]
    },
    {
      "cell_type": "markdown",
      "metadata": {
        "id": "_spSSdhKY1WA"
      },
      "source": [
        "#### Escalamiento"
      ]
    },
    {
      "cell_type": "markdown",
      "metadata": {
        "id": "A3hC8ODAZYs8"
      },
      "source": [
        "Recuerda que antes de aplicar K-medias es conveniente normalizar/escalar los datos de alguna forma.\n",
        "\n",
        "Documentacion: https://scikit-learn.org/stable/modules/classes.html#module-sklearn.preprocessing "
      ]
    },
    {
      "cell_type": "code",
      "metadata": {
        "colab": {
          "base_uri": "https://localhost:8080/",
          "height": 412
        },
        "id": "GBlD67v6a2kw",
        "outputId": "767f13ce-f1ea-4ea1-8c33-30f7e68f2d49"
      },
      "source": [
        "scaler = MinMaxScaler()\n",
        "scaler.fit(recency['recency'].values.reshape(-1, 1))\n",
        "recency['recency_scaled'] = scaler.transform(recency['recency'].values.reshape(-1, 1))\n",
        "sns.histplot(recency['recency_scaled'])"
      ],
      "execution_count": 199,
      "outputs": [
        {
          "output_type": "execute_result",
          "data": {
            "text/plain": [
              "<matplotlib.axes._subplots.AxesSubplot at 0x7f28a4b9a150>"
            ]
          },
          "metadata": {
            "tags": []
          },
          "execution_count": 199
        },
        {
          "output_type": "display_data",
          "data": {
            "image/png": "[encoded data removed]",
            "text/plain": [
              "<Figure size 1152x432 with 1 Axes>"
            ]
          },
          "metadata": {
            "tags": []
          }
        }
      ]
    },
    {
      "cell_type": "code",
      "metadata": {
        "colab": {
          "base_uri": "https://localhost:8080/",
          "height": 412
        },
        "id": "2GC_lLzdZmyZ",
        "outputId": "d622cdf2-bf10-4b26-c133-60cfb9115f8a"
      },
      "source": [
        "scaler = RobustScaler()\n",
        "scaler.fit(recency['recency'].values.reshape(-1, 1))\n",
        "recency['recency_scaled'] = scaler.transform(recency['recency'].values.reshape(-1, 1))\n",
        "sns.histplot(recency['recency_scaled'])"
      ],
      "execution_count": 200,
      "outputs": [
        {
          "output_type": "execute_result",
          "data": {
            "text/plain": [
              "<matplotlib.axes._subplots.AxesSubplot at 0x7f28a4bbd910>"
            ]
          },
          "metadata": {
            "tags": []
          },
          "execution_count": 200
        },
        {
          "output_type": "display_data",
          "data": {
            "image/png": "[encoded data removed]",
            "text/plain": [
              "<Figure size 1152x432 with 1 Axes>"
            ]
          },
          "metadata": {
            "tags": []
          }
        }
      ]
    },
    {
      "cell_type": "markdown",
      "metadata": {
        "id": "JR6LbO3la6sO"
      },
      "source": [
        "En este caso parece que los datos escalados con los metodos no varian mucho de forma, sin embargo dado que la distribucion es muy sesgada recomendamos utilizar el `RobustScaler`"
      ]
    },
    {
      "cell_type": "code",
      "metadata": {
        "id": "qvHXaonGnL2x"
      },
      "source": [
        "recency['r'] = recency['recency_scaled']"
      ],
      "execution_count": 232,
      "outputs": []
    },
    {
      "cell_type": "code",
      "metadata": {
        "id": "wAUznTlEmxPq"
      },
      "source": [
        "usuarios = usuarios.merge(recency[['CustomerID', 'r']], on = 'CustomerID')\n",
        "usuarios.head()"
      ],
      "execution_count": 239,
      "outputs": []
    },
    {
      "cell_type": "markdown",
      "metadata": {
        "id": "7KyA10i9gWtC"
      },
      "source": [
        "### Monetary"
      ]
    },
    {
      "cell_type": "markdown",
      "metadata": {
        "id": "ghiTlcPbgYX8"
      },
      "source": [
        "En este caso la parte de Monetary corresponde al revenue mensual, por lo que lo calcularemos utilizando los valores mensuales.   \n",
        "**Sin embargo**, si lo hicieramos a nivel semanal el resultado podria cambiar radicalmente.    \n",
        "Por ejemplo, puede que dos usuarios que tienen el mismo revenue mensual tengan promedios de compra radicales por lo que la estrategia sugerida podria cambiar sustancialmente. Puede que el que compora seguido prefiera cupones de envio gratis o viceversa, todo depende de nuestro problema particular."
      ]
    },
    {
      "cell_type": "markdown",
      "metadata": {
        "id": "tBnDpQTzqQH0"
      },
      "source": [
        "#### Creacion de Monetary (revenue)"
      ]
    },
    {
      "cell_type": "markdown",
      "metadata": {
        "id": "nIYHEKRtjg1P"
      },
      "source": [
        "Creemos el df para clusterizar de acuerdo a los valores monetarios (revenue por mes)"
      ]
    },
    {
      "cell_type": "code",
      "metadata": {
        "colab": {
          "base_uri": "https://localhost:8080/",
          "height": 300
        },
        "id": "aKSD4IsfhnDH",
        "outputId": "643b143d-c1e7-46f4-a127-266177a2768d"
      },
      "source": [
        "monetary =  rmf[['CustomerID', 'year_month', 'revenue']].groupby(['CustomerID', 'year_month'], as_index=False).sum()\n",
        "monetary = monetary.groupby('CustomerID', as_index=False).mean()\n",
        "monetary.rename(columns={'revenue':'monetary'}, inplace=True)\n",
        "monetary.describe()"
      ],
      "execution_count": 241,
      "outputs": [
        {
          "output_type": "execute_result",
          "data": {
            "text/html": [
              "<div>\n",
              "<style scoped>\n",
              "    .dataframe tbody tr th:only-of-type {\n",
              "        vertical-align: middle;\n",
              "    }\n",
              "\n",
              "    .dataframe tbody tr th {\n",
              "        vertical-align: top;\n",
              "    }\n",
              "\n",
              "    .dataframe thead th {\n",
              "        text-align: right;\n",
              "    }\n",
              "</style>\n",
              "<table border=\"1\" class=\"dataframe\">\n",
              "  <thead>\n",
              "    <tr style=\"text-align: right;\">\n",
              "      <th></th>\n",
              "      <th>CustomerID</th>\n",
              "      <th>monetary</th>\n",
              "    </tr>\n",
              "  </thead>\n",
              "  <tbody>\n",
              "    <tr>\n",
              "      <th>count</th>\n",
              "      <td>3916.000000</td>\n",
              "      <td>3916.000000</td>\n",
              "    </tr>\n",
              "    <tr>\n",
              "      <th>mean</th>\n",
              "      <td>15561.828907</td>\n",
              "      <td>413.752658</td>\n",
              "    </tr>\n",
              "    <tr>\n",
              "      <th>std</th>\n",
              "      <td>1577.306813</td>\n",
              "      <td>688.309816</td>\n",
              "    </tr>\n",
              "    <tr>\n",
              "      <th>min</th>\n",
              "      <td>12346.000000</td>\n",
              "      <td>-4287.630000</td>\n",
              "    </tr>\n",
              "    <tr>\n",
              "      <th>25%</th>\n",
              "      <td>14207.500000</td>\n",
              "      <td>178.911250</td>\n",
              "    </tr>\n",
              "    <tr>\n",
              "      <th>50%</th>\n",
              "      <td>15572.500000</td>\n",
              "      <td>302.520000</td>\n",
              "    </tr>\n",
              "    <tr>\n",
              "      <th>75%</th>\n",
              "      <td>16915.250000</td>\n",
              "      <td>464.575750</td>\n",
              "    </tr>\n",
              "    <tr>\n",
              "      <th>max</th>\n",
              "      <td>18287.000000</td>\n",
              "      <td>22268.450000</td>\n",
              "    </tr>\n",
              "  </tbody>\n",
              "</table>\n",
              "</div>"
            ],
            "text/plain": [
              "         CustomerID      monetary\n",
              "count   3916.000000   3916.000000\n",
              "mean   15561.828907    413.752658\n",
              "std     1577.306813    688.309816\n",
              "min    12346.000000  -4287.630000\n",
              "25%    14207.500000    178.911250\n",
              "50%    15572.500000    302.520000\n",
              "75%    16915.250000    464.575750\n",
              "max    18287.000000  22268.450000"
            ]
          },
          "metadata": {
            "tags": []
          },
          "execution_count": 241
        }
      ]
    },
    {
      "cell_type": "markdown",
      "metadata": {
        "id": "MZVpj4evqT-7"
      },
      "source": [
        "#### Escalamiento"
      ]
    },
    {
      "cell_type": "code",
      "metadata": {
        "colab": {
          "base_uri": "https://localhost:8080/",
          "height": 412
        },
        "id": "YL7q_5TKjDC3",
        "outputId": "a3340a83-4ec2-4536-d702-3892e545c916"
      },
      "source": [
        "sns.histplot(monetary['monetary'], stat='density')"
      ],
      "execution_count": 242,
      "outputs": [
        {
          "output_type": "execute_result",
          "data": {
            "text/plain": [
              "<matplotlib.axes._subplots.AxesSubplot at 0x7f28a3ed53d0>"
            ]
          },
          "metadata": {
            "tags": []
          },
          "execution_count": 242
        },
        {
          "output_type": "display_data",
          "data": {
            "image/png": "[encoded data removed]",
            "text/plain": [
              "<Figure size 1152x432 with 1 Axes>"
            ]
          },
          "metadata": {
            "tags": []
          }
        }
      ]
    },
    {
      "cell_type": "code",
      "metadata": {
        "colab": {
          "base_uri": "https://localhost:8080/",
          "height": 412
        },
        "id": "wxR6Etf8jqU3",
        "outputId": "39d35c55-4b65-407f-d0eb-7692d43ec329"
      },
      "source": [
        "scaler = RobustScaler()\n",
        "scaler.fit(monetary['monetary'].values.reshape(-1, 1))\n",
        "monetary['m'] = scaler.transform(monetary['monetary'].values.reshape(-1, 1))\n",
        "sns.histplot(monetary['m'], stat='density')"
      ],
      "execution_count": 243,
      "outputs": [
        {
          "output_type": "execute_result",
          "data": {
            "text/plain": [
              "<matplotlib.axes._subplots.AxesSubplot at 0x7f289fb5bfd0>"
            ]
          },
          "metadata": {
            "tags": []
          },
          "execution_count": 243
        },
        {
          "output_type": "display_data",
          "data": {
            "image/png": "[encoded data removed]",
            "text/plain": [
              "<Figure size 1152x432 with 1 Axes>"
            ]
          },
          "metadata": {
            "tags": []
          }
        }
      ]
    },
    {
      "cell_type": "markdown",
      "metadata": {
        "id": "-47a0f0_kk-7"
      },
      "source": [
        "Podemos observar que existen muchos outliers en nuestra distribucion, seria recomendable encargarnos de eso. Podriamos obviarlos y dejarlos en nuestro analisis, o podriamos utilizar un algoritmo de deteccion de outliers (regresaremos a esto en secciones posteriores) y quitarlos de manera que no afecten el core de nuestro analisis. Este estilo de decisiones depende mucho del proyecto que estemos realizando."
      ]
    },
    {
      "cell_type": "code",
      "metadata": {
        "colab": {
          "base_uri": "https://localhost:8080/"
        },
        "id": "WxQ68GA7oDak",
        "outputId": "1975ae79-d273-451a-e970-361da9966710"
      },
      "source": [
        "monetary['m'].describe()"
      ],
      "execution_count": 244,
      "outputs": [
        {
          "output_type": "execute_result",
          "data": {
            "text/plain": [
              "count    3.916000e+03\n",
              "mean     3.893822e-01\n",
              "std      2.409504e+00\n",
              "min     -1.606832e+01\n",
              "25%     -4.327060e-01\n",
              "50%      9.948910e-17\n",
              "75%      5.672940e-01\n",
              "max      7.689415e+01\n",
              "Name: m, dtype: float64"
            ]
          },
          "metadata": {
            "tags": []
          },
          "execution_count": 244
        }
      ]
    },
    {
      "cell_type": "code",
      "metadata": {
        "colab": {
          "base_uri": "https://localhost:8080/",
          "height": 206
        },
        "id": "vDRG-Q4KoPb2",
        "outputId": "272b72b0-8ef9-41ee-c3e9-d317de388de2"
      },
      "source": [
        "usuarios = usuarios.merge(monetary[['CustomerID', 'm']], on = 'CustomerID')\n",
        "usuarios.head()"
      ],
      "execution_count": 245,
      "outputs": [
        {
          "output_type": "execute_result",
          "data": {
            "text/html": [
              "<div>\n",
              "<style scoped>\n",
              "    .dataframe tbody tr th:only-of-type {\n",
              "        vertical-align: middle;\n",
              "    }\n",
              "\n",
              "    .dataframe tbody tr th {\n",
              "        vertical-align: top;\n",
              "    }\n",
              "\n",
              "    .dataframe thead th {\n",
              "        text-align: right;\n",
              "    }\n",
              "</style>\n",
              "<table border=\"1\" class=\"dataframe\">\n",
              "  <thead>\n",
              "    <tr style=\"text-align: right;\">\n",
              "      <th></th>\n",
              "      <th>CustomerID</th>\n",
              "      <th>r</th>\n",
              "      <th>m</th>\n",
              "    </tr>\n",
              "  </thead>\n",
              "  <tbody>\n",
              "    <tr>\n",
              "      <th>0</th>\n",
              "      <td>17850</td>\n",
              "      <td>2.008197</td>\n",
              "      <td>8.197711</td>\n",
              "    </tr>\n",
              "    <tr>\n",
              "      <th>1</th>\n",
              "      <td>13047</td>\n",
              "      <td>-0.245902</td>\n",
              "      <td>0.018868</td>\n",
              "    </tr>\n",
              "    <tr>\n",
              "      <th>2</th>\n",
              "      <td>13748</td>\n",
              "      <td>0.254098</td>\n",
              "      <td>0.047480</td>\n",
              "    </tr>\n",
              "    <tr>\n",
              "      <th>3</th>\n",
              "      <td>15100</td>\n",
              "      <td>2.237705</td>\n",
              "      <td>0.052614</td>\n",
              "    </tr>\n",
              "    <tr>\n",
              "      <th>4</th>\n",
              "      <td>15291</td>\n",
              "      <td>-0.245902</td>\n",
              "      <td>1.239651</td>\n",
              "    </tr>\n",
              "  </tbody>\n",
              "</table>\n",
              "</div>"
            ],
            "text/plain": [
              "   CustomerID         r         m\n",
              "0       17850  2.008197  8.197711\n",
              "1       13047 -0.245902  0.018868\n",
              "2       13748  0.254098  0.047480\n",
              "3       15100  2.237705  0.052614\n",
              "4       15291 -0.245902  1.239651"
            ]
          },
          "metadata": {
            "tags": []
          },
          "execution_count": 245
        }
      ]
    },
    {
      "cell_type": "markdown",
      "metadata": {
        "id": "J7gaQV2KlEKW"
      },
      "source": [
        "### Frequency"
      ]
    },
    {
      "cell_type": "markdown",
      "metadata": {
        "id": "GTcLoFJRqWyO"
      },
      "source": [
        "#### Creacion de Frequency"
      ]
    },
    {
      "cell_type": "markdown",
      "metadata": {
        "id": "dz3rn208qw-s"
      },
      "source": [
        "Crearemos el df con los meses potenciales de cada customer. Queremos ver cuantos meses ha comprado desde su primera compra."
      ]
    },
    {
      "cell_type": "code",
      "metadata": {
        "colab": {
          "base_uri": "https://localhost:8080/",
          "height": 112
        },
        "id": "Dg7um-p1lBmd",
        "outputId": "bc0fa039-0c5b-4aac-9c09-2632f394502a"
      },
      "source": [
        "meses_potenciales = rmf.groupby('CustomerID', as_index=False)['year_month'].min()\n",
        "meses_potenciales['meses_potenciales'] = (pd.to_datetime('2011-12-01') - meses_potenciales['year_month']).dt.days \n",
        "# Convirtamos los dias a meses\n",
        "meses_potenciales['meses_potenciales'] = meses_potenciales['meses_potenciales'].apply(lambda x: int(x/30) + 1)\n",
        "del meses_potenciales['year_month']\n",
        "meses_potenciales.head(2)"
      ],
      "execution_count": 264,
      "outputs": [
        {
          "output_type": "execute_result",
          "data": {
            "text/html": [
              "<div>\n",
              "<style scoped>\n",
              "    .dataframe tbody tr th:only-of-type {\n",
              "        vertical-align: middle;\n",
              "    }\n",
              "\n",
              "    .dataframe tbody tr th {\n",
              "        vertical-align: top;\n",
              "    }\n",
              "\n",
              "    .dataframe thead th {\n",
              "        text-align: right;\n",
              "    }\n",
              "</style>\n",
              "<table border=\"1\" class=\"dataframe\">\n",
              "  <thead>\n",
              "    <tr style=\"text-align: right;\">\n",
              "      <th></th>\n",
              "      <th>CustomerID</th>\n",
              "      <th>meses_potenciales</th>\n",
              "    </tr>\n",
              "  </thead>\n",
              "  <tbody>\n",
              "    <tr>\n",
              "      <th>0</th>\n",
              "      <td>12346</td>\n",
              "      <td>11</td>\n",
              "    </tr>\n",
              "    <tr>\n",
              "      <th>1</th>\n",
              "      <td>12747</td>\n",
              "      <td>12</td>\n",
              "    </tr>\n",
              "  </tbody>\n",
              "</table>\n",
              "</div>"
            ],
            "text/plain": [
              "   CustomerID  meses_potenciales\n",
              "0       12346                 11\n",
              "1       12747                 12"
            ]
          },
          "metadata": {
            "tags": []
          },
          "execution_count": 264
        }
      ]
    },
    {
      "cell_type": "code",
      "metadata": {
        "colab": {
          "base_uri": "https://localhost:8080/",
          "height": 300
        },
        "id": "HYOyZfBjpNOM",
        "outputId": "30b09f83-7bb7-49ea-8219-eca39a1d2aeb"
      },
      "source": [
        "frequency = rmf[['CustomerID', 'year_month']]\n",
        "# Recuerda que estamos evaluando las compras agregadas a nivel mensual\n",
        "frequency = frequency[['CustomerID', 'year_month']].drop_duplicates()\n",
        "frequency = frequency.groupby('CustomerID', as_index=False)['year_month'].count()\n",
        "frequency.rename(columns={'year_month':'n_compras'}, inplace=True)\n",
        "frequency = frequency.merge(meses_potenciales, on='CustomerID')\n",
        "frequency['frequency'] = frequency['n_compras']/frequency['meses_potenciales']\n",
        "frequency.describe()"
      ],
      "execution_count": 265,
      "outputs": [
        {
          "output_type": "execute_result",
          "data": {
            "text/html": [
              "<div>\n",
              "<style scoped>\n",
              "    .dataframe tbody tr th:only-of-type {\n",
              "        vertical-align: middle;\n",
              "    }\n",
              "\n",
              "    .dataframe tbody tr th {\n",
              "        vertical-align: top;\n",
              "    }\n",
              "\n",
              "    .dataframe thead th {\n",
              "        text-align: right;\n",
              "    }\n",
              "</style>\n",
              "<table border=\"1\" class=\"dataframe\">\n",
              "  <thead>\n",
              "    <tr style=\"text-align: right;\">\n",
              "      <th></th>\n",
              "      <th>CustomerID</th>\n",
              "      <th>n_compras</th>\n",
              "      <th>meses_potenciales</th>\n",
              "      <th>frequency</th>\n",
              "    </tr>\n",
              "  </thead>\n",
              "  <tbody>\n",
              "    <tr>\n",
              "      <th>count</th>\n",
              "      <td>3916.000000</td>\n",
              "      <td>3916.000000</td>\n",
              "      <td>3916.000000</td>\n",
              "      <td>3916.000000</td>\n",
              "    </tr>\n",
              "    <tr>\n",
              "      <th>mean</th>\n",
              "      <td>15561.828907</td>\n",
              "      <td>2.991062</td>\n",
              "      <td>7.632022</td>\n",
              "      <td>0.452195</td>\n",
              "    </tr>\n",
              "    <tr>\n",
              "      <th>std</th>\n",
              "      <td>1577.306813</td>\n",
              "      <td>2.546462</td>\n",
              "      <td>3.786200</td>\n",
              "      <td>0.289462</td>\n",
              "    </tr>\n",
              "    <tr>\n",
              "      <th>min</th>\n",
              "      <td>12346.000000</td>\n",
              "      <td>1.000000</td>\n",
              "      <td>1.000000</td>\n",
              "      <td>0.083333</td>\n",
              "    </tr>\n",
              "    <tr>\n",
              "      <th>25%</th>\n",
              "      <td>14207.500000</td>\n",
              "      <td>1.000000</td>\n",
              "      <td>4.000000</td>\n",
              "      <td>0.200000</td>\n",
              "    </tr>\n",
              "    <tr>\n",
              "      <th>50%</th>\n",
              "      <td>15572.500000</td>\n",
              "      <td>2.000000</td>\n",
              "      <td>9.000000</td>\n",
              "      <td>0.400000</td>\n",
              "    </tr>\n",
              "    <tr>\n",
              "      <th>75%</th>\n",
              "      <td>16915.250000</td>\n",
              "      <td>4.000000</td>\n",
              "      <td>11.000000</td>\n",
              "      <td>0.625000</td>\n",
              "    </tr>\n",
              "    <tr>\n",
              "      <th>max</th>\n",
              "      <td>18287.000000</td>\n",
              "      <td>12.000000</td>\n",
              "      <td>12.000000</td>\n",
              "      <td>1.000000</td>\n",
              "    </tr>\n",
              "  </tbody>\n",
              "</table>\n",
              "</div>"
            ],
            "text/plain": [
              "         CustomerID    n_compras  meses_potenciales    frequency\n",
              "count   3916.000000  3916.000000        3916.000000  3916.000000\n",
              "mean   15561.828907     2.991062           7.632022     0.452195\n",
              "std     1577.306813     2.546462           3.786200     0.289462\n",
              "min    12346.000000     1.000000           1.000000     0.083333\n",
              "25%    14207.500000     1.000000           4.000000     0.200000\n",
              "50%    15572.500000     2.000000           9.000000     0.400000\n",
              "75%    16915.250000     4.000000          11.000000     0.625000\n",
              "max    18287.000000    12.000000          12.000000     1.000000"
            ]
          },
          "metadata": {
            "tags": []
          },
          "execution_count": 265
        }
      ]
    },
    {
      "cell_type": "code",
      "metadata": {
        "colab": {
          "base_uri": "https://localhost:8080/",
          "height": 412
        },
        "id": "CsxHg9Itrxc_",
        "outputId": "6617dde3-9681-4552-e0d7-66cad6e226d0"
      },
      "source": [
        "sns.histplot(frequency['frequency'], stat='density')"
      ],
      "execution_count": 266,
      "outputs": [
        {
          "output_type": "execute_result",
          "data": {
            "text/plain": [
              "<matplotlib.axes._subplots.AxesSubplot at 0x7f289d676850>"
            ]
          },
          "metadata": {
            "tags": []
          },
          "execution_count": 266
        },
        {
          "output_type": "display_data",
          "data": {
            "image/png": "[encoded data removed]",
            "text/plain": [
              "<Figure size 1152x432 with 1 Axes>"
            ]
          },
          "metadata": {
            "tags": []
          }
        }
      ]
    },
    {
      "cell_type": "markdown",
      "metadata": {
        "id": "SJJNqOlVsAPv"
      },
      "source": [
        "### Escalamiento "
      ]
    },
    {
      "cell_type": "markdown",
      "metadata": {
        "id": "2CU1k_3usNu-"
      },
      "source": [
        "En este caso dado que los valores ya se encuentras entre 0 y 1 no es necesario escalar."
      ]
    },
    {
      "cell_type": "code",
      "metadata": {
        "colab": {
          "base_uri": "https://localhost:8080/",
          "height": 206
        },
        "id": "dizLjMMUsTO2",
        "outputId": "23ec1f7b-f885-412c-af34-805dd383f2a4"
      },
      "source": [
        "frequency['f'] = frequency['frequency']\n",
        "usuarios = usuarios.merge(frequency[['CustomerID', 'f']], on = 'CustomerID')\n",
        "usuarios.head()"
      ],
      "execution_count": 269,
      "outputs": [
        {
          "output_type": "execute_result",
          "data": {
            "text/html": [
              "<div>\n",
              "<style scoped>\n",
              "    .dataframe tbody tr th:only-of-type {\n",
              "        vertical-align: middle;\n",
              "    }\n",
              "\n",
              "    .dataframe tbody tr th {\n",
              "        vertical-align: top;\n",
              "    }\n",
              "\n",
              "    .dataframe thead th {\n",
              "        text-align: right;\n",
              "    }\n",
              "</style>\n",
              "<table border=\"1\" class=\"dataframe\">\n",
              "  <thead>\n",
              "    <tr style=\"text-align: right;\">\n",
              "      <th></th>\n",
              "      <th>CustomerID</th>\n",
              "      <th>r</th>\n",
              "      <th>m</th>\n",
              "      <th>f</th>\n",
              "    </tr>\n",
              "  </thead>\n",
              "  <tbody>\n",
              "    <tr>\n",
              "      <th>0</th>\n",
              "      <td>17850</td>\n",
              "      <td>2.008197</td>\n",
              "      <td>8.197711</td>\n",
              "      <td>0.166667</td>\n",
              "    </tr>\n",
              "    <tr>\n",
              "      <th>1</th>\n",
              "      <td>13047</td>\n",
              "      <td>-0.245902</td>\n",
              "      <td>0.018868</td>\n",
              "      <td>0.833333</td>\n",
              "    </tr>\n",
              "    <tr>\n",
              "      <th>2</th>\n",
              "      <td>13748</td>\n",
              "      <td>0.254098</td>\n",
              "      <td>0.047480</td>\n",
              "      <td>0.250000</td>\n",
              "    </tr>\n",
              "    <tr>\n",
              "      <th>3</th>\n",
              "      <td>15100</td>\n",
              "      <td>2.237705</td>\n",
              "      <td>0.052614</td>\n",
              "      <td>0.166667</td>\n",
              "    </tr>\n",
              "    <tr>\n",
              "      <th>4</th>\n",
              "      <td>15291</td>\n",
              "      <td>-0.245902</td>\n",
              "      <td>1.239651</td>\n",
              "      <td>0.583333</td>\n",
              "    </tr>\n",
              "  </tbody>\n",
              "</table>\n",
              "</div>"
            ],
            "text/plain": [
              "   CustomerID         r         m         f\n",
              "0       17850  2.008197  8.197711  0.166667\n",
              "1       13047 -0.245902  0.018868  0.833333\n",
              "2       13748  0.254098  0.047480  0.250000\n",
              "3       15100  2.237705  0.052614  0.166667\n",
              "4       15291 -0.245902  1.239651  0.583333"
            ]
          },
          "metadata": {
            "tags": []
          },
          "execution_count": 269
        }
      ]
    },
    {
      "cell_type": "markdown",
      "metadata": {
        "id": "X3DG0Jkfpja0"
      },
      "source": [
        "### Control de Outliers"
      ]
    },
    {
      "cell_type": "markdown",
      "metadata": {
        "id": "qZV_nILrsh81"
      },
      "source": [
        "Ahora que ya creamos nuestras variables utilicemos un algoritmo de control de outliers conocido como Isolation forest"
      ]
    },
    {
      "cell_type": "markdown",
      "metadata": {
        "id": "JVAlBmZYt4qY"
      },
      "source": [
        "Documentacion: https://scikit-learn.org/stable/modules/generated/sklearn.ensemble.IsolationForest.html   \n",
        "Ejemplo: https://towardsdatascience.com/outlier-detection-with-isolation-forest-3d190448d45e"
      ]
    },
    {
      "cell_type": "code",
      "metadata": {
        "id": "--4v6bE9tNLy"
      },
      "source": [
        "from sklearn.ensemble import IsolationForest\n",
        "clf = IsolationForest().fit(usuarios[['r', 'm', 'f']])\n",
        "usuarios['outlier'] = clf.predict(usuarios[['r', 'm', 'f']])\n",
        "# Para volver string a los outliers y las graficas tengan buenos colores\n",
        "usuarios['outlier'] = usuarios['outlier'].apply(lambda x: 'outlier' if x==-1 else 'normal')"
      ],
      "execution_count": 279,
      "outputs": []
    },
    {
      "cell_type": "code",
      "metadata": {
        "colab": {
          "base_uri": "https://localhost:8080/",
          "height": 195
        },
        "id": "xlr5ZJENuGCD",
        "outputId": "264f6c78-4e2e-4195-d851-c9618dcbb9c7"
      },
      "source": [
        "usuarios.groupby('outlier')[['r', 'm', 'f']].describe()"
      ],
      "execution_count": 280,
      "outputs": [
        {
          "output_type": "execute_result",
          "data": {
            "text/html": [
              "<div>\n",
              "<style scoped>\n",
              "    .dataframe tbody tr th:only-of-type {\n",
              "        vertical-align: middle;\n",
              "    }\n",
              "\n",
              "    .dataframe tbody tr th {\n",
              "        vertical-align: top;\n",
              "    }\n",
              "\n",
              "    .dataframe thead tr th {\n",
              "        text-align: left;\n",
              "    }\n",
              "\n",
              "    .dataframe thead tr:last-of-type th {\n",
              "        text-align: right;\n",
              "    }\n",
              "</style>\n",
              "<table border=\"1\" class=\"dataframe\">\n",
              "  <thead>\n",
              "    <tr>\n",
              "      <th></th>\n",
              "      <th colspan=\"8\" halign=\"left\">r</th>\n",
              "      <th colspan=\"8\" halign=\"left\">m</th>\n",
              "      <th colspan=\"8\" halign=\"left\">f</th>\n",
              "    </tr>\n",
              "    <tr>\n",
              "      <th></th>\n",
              "      <th>count</th>\n",
              "      <th>mean</th>\n",
              "      <th>std</th>\n",
              "      <th>min</th>\n",
              "      <th>25%</th>\n",
              "      <th>50%</th>\n",
              "      <th>75%</th>\n",
              "      <th>max</th>\n",
              "      <th>count</th>\n",
              "      <th>mean</th>\n",
              "      <th>std</th>\n",
              "      <th>min</th>\n",
              "      <th>25%</th>\n",
              "      <th>50%</th>\n",
              "      <th>75%</th>\n",
              "      <th>max</th>\n",
              "      <th>count</th>\n",
              "      <th>mean</th>\n",
              "      <th>std</th>\n",
              "      <th>min</th>\n",
              "      <th>25%</th>\n",
              "      <th>50%</th>\n",
              "      <th>75%</th>\n",
              "      <th>max</th>\n",
              "    </tr>\n",
              "    <tr>\n",
              "      <th>outlier</th>\n",
              "      <th></th>\n",
              "      <th></th>\n",
              "      <th></th>\n",
              "      <th></th>\n",
              "      <th></th>\n",
              "      <th></th>\n",
              "      <th></th>\n",
              "      <th></th>\n",
              "      <th></th>\n",
              "      <th></th>\n",
              "      <th></th>\n",
              "      <th></th>\n",
              "      <th></th>\n",
              "      <th></th>\n",
              "      <th></th>\n",
              "      <th></th>\n",
              "      <th></th>\n",
              "      <th></th>\n",
              "      <th></th>\n",
              "      <th></th>\n",
              "      <th></th>\n",
              "      <th></th>\n",
              "      <th></th>\n",
              "      <th></th>\n",
              "    </tr>\n",
              "  </thead>\n",
              "  <tbody>\n",
              "    <tr>\n",
              "      <th>normal</th>\n",
              "      <td>3114.0</td>\n",
              "      <td>0.188751</td>\n",
              "      <td>0.567963</td>\n",
              "      <td>-0.245902</td>\n",
              "      <td>-0.245902</td>\n",
              "      <td>0.000000</td>\n",
              "      <td>0.500000</td>\n",
              "      <td>1.754098</td>\n",
              "      <td>3114.0</td>\n",
              "      <td>0.058458</td>\n",
              "      <td>0.644172</td>\n",
              "      <td>-2.078820</td>\n",
              "      <td>-0.430499</td>\n",
              "      <td>-0.044172</td>\n",
              "      <td>0.391447</td>\n",
              "      <td>2.757150</td>\n",
              "      <td>3114.0</td>\n",
              "      <td>0.473696</td>\n",
              "      <td>0.273212</td>\n",
              "      <td>0.111111</td>\n",
              "      <td>0.25</td>\n",
              "      <td>0.416667</td>\n",
              "      <td>0.625000</td>\n",
              "      <td>1.0</td>\n",
              "    </tr>\n",
              "    <tr>\n",
              "      <th>outlier</th>\n",
              "      <td>802.0</td>\n",
              "      <td>1.129717</td>\n",
              "      <td>1.064008</td>\n",
              "      <td>-0.245902</td>\n",
              "      <td>0.000000</td>\n",
              "      <td>1.254098</td>\n",
              "      <td>2.237705</td>\n",
              "      <td>2.491803</td>\n",
              "      <td>802.0</td>\n",
              "      <td>1.674292</td>\n",
              "      <td>4.968375</td>\n",
              "      <td>-16.068325</td>\n",
              "      <td>-0.469497</td>\n",
              "      <td>0.479566</td>\n",
              "      <td>2.362735</td>\n",
              "      <td>76.894154</td>\n",
              "      <td>802.0</td>\n",
              "      <td>0.368714</td>\n",
              "      <td>0.332645</td>\n",
              "      <td>0.083333</td>\n",
              "      <td>0.10</td>\n",
              "      <td>0.200000</td>\n",
              "      <td>0.666667</td>\n",
              "      <td>1.0</td>\n",
              "    </tr>\n",
              "  </tbody>\n",
              "</table>\n",
              "</div>"
            ],
            "text/plain": [
              "              r                                ...     f                         \n",
              "          count      mean       std       min  ...   25%       50%       75%  max\n",
              "outlier                                        ...                               \n",
              "normal   3114.0  0.188751  0.567963 -0.245902  ...  0.25  0.416667  0.625000  1.0\n",
              "outlier   802.0  1.129717  1.064008 -0.245902  ...  0.10  0.200000  0.666667  1.0\n",
              "\n",
              "[2 rows x 24 columns]"
            ]
          },
          "metadata": {
            "tags": []
          },
          "execution_count": 280
        }
      ]
    },
    {
      "cell_type": "markdown",
      "metadata": {
        "id": "6dWkqWOpuaWT"
      },
      "source": [
        "Observa como la desviacion standard de nuestras varaibles es mucho mas grande en los outliers, ademas de tener valores mas extremos. Con excepcion de frequency, esto puede deberse a que por costruccion frequency no es una varaible demasiado volatil, pues esta dada por los meses de analisis."
      ]
    },
    {
      "cell_type": "markdown",
      "metadata": {
        "id": "lSNexP3CvnvY"
      },
      "source": [
        "### EDA RMF"
      ]
    },
    {
      "cell_type": "code",
      "metadata": {
        "colab": {
          "base_uri": "https://localhost:8080/",
          "height": 566
        },
        "id": "qgjN6_1ivqJg",
        "outputId": "ae0dfe84-d84e-4fb2-9937-3a67bc638867"
      },
      "source": [
        "sns.pairplot(usuarios[['r','m', 'f']])"
      ],
      "execution_count": 284,
      "outputs": [
        {
          "output_type": "execute_result",
          "data": {
            "text/plain": [
              "<seaborn.axisgrid.PairGrid at 0x7f28988ef850>"
            ]
          },
          "metadata": {
            "tags": []
          },
          "execution_count": 284
        },
        {
          "output_type": "display_data",
          "data": {
            "image/png": "[encoded data removed]",
            "text/plain": [
              "<Figure size 540x540 with 12 Axes>"
            ]
          },
          "metadata": {
            "tags": []
          }
        }
      ]
    },
    {
      "cell_type": "code",
      "metadata": {
        "colab": {
          "base_uri": "https://localhost:8080/",
          "height": 566
        },
        "id": "9OoSxuiYvx83",
        "outputId": "ca8529af-4b83-497e-caa4-2ddb69c59ee1"
      },
      "source": [
        "sns.pairplot(usuarios[['r','m', 'f','outlier']], hue='outlier')"
      ],
      "execution_count": 286,
      "outputs": [
        {
          "output_type": "execute_result",
          "data": {
            "text/plain": [
              "<seaborn.axisgrid.PairGrid at 0x7f289818ff10>"
            ]
          },
          "metadata": {
            "tags": []
          },
          "execution_count": 286
        },
        {
          "output_type": "display_data",
          "data": {
            "image/png": "[encoded data removed]",
            "text/plain": [
              "<Figure size 618.35x540 with 12 Axes>"
            ]
          },
          "metadata": {
            "tags": []
          }
        }
      ]
    },
    {
      "cell_type": "code",
      "metadata": {
        "colab": {
          "base_uri": "https://localhost:8080/",
          "height": 383
        },
        "id": "9D19vF2Mwotm",
        "outputId": "5a8373ef-148e-483d-db9d-b9deef5a3aac"
      },
      "source": [
        "sns.displot(data=usuarios, x='r', hue='outlier')"
      ],
      "execution_count": 292,
      "outputs": [
        {
          "output_type": "execute_result",
          "data": {
            "text/plain": [
              "<seaborn.axisgrid.FacetGrid at 0x7f2897734590>"
            ]
          },
          "metadata": {
            "tags": []
          },
          "execution_count": 292
        },
        {
          "output_type": "display_data",
          "data": {
            "image/png": "[encoded data removed]",
            "text/plain": [
              "<Figure size 438.35x360 with 1 Axes>"
            ]
          },
          "metadata": {
            "tags": []
          }
        }
      ]
    },
    {
      "cell_type": "code",
      "metadata": {
        "colab": {
          "base_uri": "https://localhost:8080/",
          "height": 383
        },
        "id": "J-hawUHOxEoU",
        "outputId": "ba9f8f60-5c44-485e-85a3-b9101c3704fa"
      },
      "source": [
        "sns.displot(data=usuarios, x='m', hue='outlier')"
      ],
      "execution_count": 293,
      "outputs": [
        {
          "output_type": "execute_result",
          "data": {
            "text/plain": [
              "<seaborn.axisgrid.FacetGrid at 0x7f28976ece50>"
            ]
          },
          "metadata": {
            "tags": []
          },
          "execution_count": 293
        },
        {
          "output_type": "display_data",
          "data": {
            "image/png": "[encoded data removed]",
            "text/plain": [
              "<Figure size 438.35x360 with 1 Axes>"
            ]
          },
          "metadata": {
            "tags": []
          }
        }
      ]
    },
    {
      "cell_type": "code",
      "metadata": {
        "colab": {
          "base_uri": "https://localhost:8080/",
          "height": 383
        },
        "id": "sc_XYXIVxHIX",
        "outputId": "62bb1edb-738c-4ba8-acce-eb5f2c7d150b"
      },
      "source": [
        "sns.displot(data=usuarios, x='f', hue='outlier')"
      ],
      "execution_count": 294,
      "outputs": [
        {
          "output_type": "execute_result",
          "data": {
            "text/plain": [
              "<seaborn.axisgrid.FacetGrid at 0x7f28983f86d0>"
            ]
          },
          "metadata": {
            "tags": []
          },
          "execution_count": 294
        },
        {
          "output_type": "display_data",
          "data": {
            "image/png": "[encoded data removed]",
            "text/plain": [
              "<Figure size 438.35x360 with 1 Axes>"
            ]
          },
          "metadata": {
            "tags": []
          }
        }
      ]
    },
    {
      "cell_type": "markdown",
      "metadata": {
        "id": "Zum5qZIBlKJ_"
      },
      "source": [
        "# Clusters"
      ]
    },
    {
      "cell_type": "code",
      "metadata": {
        "id": "qLGPB3EJlVU6"
      },
      "source": [
        "def elbow_method(df, column, max_clust=10):\n",
        "  sse={}\n",
        "  df_ = df[[column]].copy()\n",
        "  for k in range(1, 10):\n",
        "      kmeans = KMeans(n_clusters=k, max_iter=10000).fit(df_)\n",
        "      df_[\"cluster\"] = kmeans.labels_\n",
        "      sse[k] = kmeans.inertia_ \n",
        "  plt.figure()\n",
        "  plt.plot(list(sse.keys()), list(sse.values()))\n",
        "  plt.xlabel(\"Numero de Clusters\")\n",
        "  plt.show()"
      ],
      "execution_count": 227,
      "outputs": []
    },
    {
      "cell_type": "code",
      "metadata": {
        "id": "rYguzg1dlSre"
      },
      "source": [
        "# Funcion para ordenar cluster deacuerdo a su media\n",
        "def order_cluster_mean(df, cluster_col, val_col,ascending=True):\n",
        "    df_new = df.groupby(cluster_col, as_index=False)[val_col].mean()\n",
        "    df_new = df_new.sort_values(by=val_col,ascending=ascending).reset_index(drop=True)\n",
        "    df_new['index'] = df_new.index\n",
        "    df_final = pd.merge(df,df_new[[cluster_col,'index']], on=cluster_col)\n",
        "    df_final = df_final.drop([cluster_col],axis=1)\n",
        "    df_final = df_final.rename(columns={\"index\":cluster_col})\n",
        "    return df_final"
      ],
      "execution_count": null,
      "outputs": []
    },
    {
      "cell_type": "code",
      "metadata": {
        "id": "qbLgAvpIlt1M"
      },
      "source": [
        "def univariate_cluster_k(df, col=[],n_clusters=1):\n",
        "  df_ = df.copy()\n",
        "  kmeans = KMeans(n_clusters=n_clusters)\n",
        "  kmeans.fit(df_[[col]])\n",
        "  clust_col = 'cluster_' + str(n_clusters)\n",
        "  df_[[clust_col]] = kmeans.predict(df_[[col]])\n",
        "  df_ = order_cluster_mean(df=df_, cluster_col=clust_col, val_col=col,ascending=True)\n",
        "  sns.displot(data= df_, x=col,hue=clust_col)"
      ],
      "execution_count": 231,
      "outputs": []
    }
  ]
}